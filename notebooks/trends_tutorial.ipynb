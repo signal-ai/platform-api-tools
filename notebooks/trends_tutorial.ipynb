{
 "metadata": {
  "language_info": {
   "codemirror_mode": {
    "name": "ipython",
    "version": 3
   },
   "file_extension": ".py",
   "mimetype": "text/x-python",
   "name": "python",
   "nbconvert_exporter": "python",
   "pygments_lexer": "ipython3",
   "version": "3.9.1-final"
  },
  "orig_nbformat": 2,
  "kernelspec": {
   "name": "python3",
   "display_name": "Python 3.9.1 64-bit",
   "metadata": {
    "interpreter": {
     "hash": "ac2eaa0ea0ebeafcc7822e65e46aa9d4f966f30b695406963e145ea4a91cd4fc"
    }
   }
  }
 },
 "nbformat": 4,
 "nbformat_minor": 2,
 "cells": [
  {
   "source": [
    "# Getting Started with Trends API"
   ],
   "cell_type": "markdown",
   "metadata": {}
  },
  {
   "source": [
    "This notebook serves as a tutorial for Trends endpoint in the Signal AI API.\n",
    "\n",
    "Full technical documentation of the Trends endpoint is available here\n",
    "https://api.signal-ai.com/docs#tag/Trends\n"
   ],
   "cell_type": "markdown",
   "metadata": {}
  },
  {
   "source": [
    "## Trends API Overview"
   ],
   "cell_type": "markdown",
   "metadata": {}
  },
  {
   "source": [
    "Trends API allows the user to get aggregated data from the Signal AI Platform across different dimensions and using different metrics. It allows users to monitor, visualise and understand information such as the following:"
   ],
   "cell_type": "markdown",
   "metadata": {}
  },
  {
   "source": [
    "- Changes in sentiment for an entity over time\n",
    "- Sentiment for an entity in relation to a set of key topics\n",
    "- News coverage and sentiment around an entity in different locations\n",
    "- Difference in coverage and sentiment between entities over time and in relation to different topics"
   ],
   "cell_type": "markdown",
   "metadata": {}
  },
  {
   "source": [
    "## 0. Setting things up!"
   ],
   "cell_type": "markdown",
   "metadata": {}
  },
  {
   "source": [
    "### 0.1 Pre-requisites"
   ],
   "cell_type": "markdown",
   "metadata": {}
  },
  {
   "source": [
    "Please make sure that you have familiarised yourself with the Signal AI API using the [Getting Started notebook](getting_started.ipynb)"
   ],
   "cell_type": "markdown",
   "metadata": {}
  },
  {
   "source": [
    "In particular you would need to be able to use the following endpoints:\n",
    "\n",
    "- Authentication: to be able to access the API\n",
    "- Discovery: to be able to search for entities and topics of interest\n"
   ],
   "cell_type": "markdown",
   "metadata": {}
  },
  {
   "source": [
    "Note: run `pip install -r requirements.txt` to install the dependencies for this notebook"
   ],
   "cell_type": "markdown",
   "metadata": {}
  },
  {
   "source": [
    "import requests\n",
    "import os\n",
    "import pandas as pd\n",
    "import json"
   ],
   "cell_type": "code",
   "metadata": {},
   "execution_count": 16,
   "outputs": [
    {
     "output_type": "error",
     "ename": "ModuleNotFoundError",
     "evalue": "No module named 'requests'",
     "traceback": [
      "\u001b[0;31m---------------------------------------------------------------------------\u001b[0m",
      "\u001b[0;31mModuleNotFoundError\u001b[0m                       Traceback (most recent call last)",
      "\u001b[0;32m<ipython-input-16-b1c5d4dd760e>\u001b[0m in \u001b[0;36m<module>\u001b[0;34m\u001b[0m\n\u001b[0;32m----> 1\u001b[0;31m \u001b[0;32mimport\u001b[0m \u001b[0mrequests\u001b[0m\u001b[0;34m\u001b[0m\u001b[0;34m\u001b[0m\u001b[0m\n\u001b[0m\u001b[1;32m      2\u001b[0m \u001b[0;32mimport\u001b[0m \u001b[0mos\u001b[0m\u001b[0;34m\u001b[0m\u001b[0;34m\u001b[0m\u001b[0m\n\u001b[1;32m      3\u001b[0m \u001b[0;32mimport\u001b[0m \u001b[0mpandas\u001b[0m \u001b[0;32mas\u001b[0m \u001b[0mpd\u001b[0m\u001b[0;34m\u001b[0m\u001b[0;34m\u001b[0m\u001b[0m\n\u001b[1;32m      4\u001b[0m \u001b[0;32mimport\u001b[0m \u001b[0mjson\u001b[0m\u001b[0;34m\u001b[0m\u001b[0;34m\u001b[0m\u001b[0m\n",
      "\u001b[0;31mModuleNotFoundError\u001b[0m: No module named 'requests'"
     ]
    }
   ]
  },
  {
   "source": [
    "### 0.2 Check if authentication works!"
   ],
   "cell_type": "markdown",
   "metadata": {}
  },
  {
   "source": [
    "You will need a client_id and client_secret to gain access to the API. The code below will assume they have been set and the environment variables SIGNAL_API_CLIENT_ID and SIGNAL_API_CLIENT_SECRET respectively."
   ],
   "cell_type": "markdown",
   "metadata": {}
  },
  {
   "source": [
    "Using your credentials you can request a temporary access token from the API using the url: https://api.signal-ai.com/auth/token\n"
   ],
   "cell_type": "markdown",
   "metadata": {}
  },
  {
   "source": [
    "def authenticate(client_id, client_secret, url = \"https://api.signal-ai.com\"):\n",
    "    \"\"\" obtain a temporary access token using user credentials \"\"\"\n",
    "    token_url = f'{url}/auth/token'\n",
    "    payload = {\n",
    "        \"grant_type\": \"client_credentials\",\n",
    "        \"client_id\": client_id,\n",
    "        \"client_secret\": client_secret\n",
    "    }\n",
    "    response = requests.post(token_url, data=payload)\n",
    "    return response.json().get(\"access_token\")"
   ],
   "cell_type": "code",
   "metadata": {},
   "execution_count": null,
   "outputs": []
  },
  {
   "cell_type": "code",
   "execution_count": 10,
   "metadata": {},
   "outputs": [
    {
     "output_type": "error",
     "ename": "KeyError",
     "evalue": "'SIGNAL_API_CLIENT_ID'",
     "traceback": [
      "\u001b[0;31m---------------------------------------------------------------------------\u001b[0m",
      "\u001b[0;31mKeyError\u001b[0m                                  Traceback (most recent call last)",
      "\u001b[0;32m<ipython-input-10-a63389e748a7>\u001b[0m in \u001b[0;36m<module>\u001b[0;34m\u001b[0m\n\u001b[0;32m----> 1\u001b[0;31m \u001b[0mTEMP_ACCESS_TOKEN\u001b[0m \u001b[0;34m=\u001b[0m \u001b[0mauthenticate\u001b[0m\u001b[0;34m(\u001b[0m\u001b[0mos\u001b[0m\u001b[0;34m.\u001b[0m\u001b[0menviron\u001b[0m\u001b[0;34m[\u001b[0m\u001b[0;34m'SIGNAL_API_CLIENT_ID'\u001b[0m\u001b[0;34m]\u001b[0m\u001b[0;34m,\u001b[0m \u001b[0mos\u001b[0m\u001b[0;34m.\u001b[0m\u001b[0menviron\u001b[0m\u001b[0;34m[\u001b[0m\u001b[0;34m'SIGNAL_API_CLIENT_SECRET'\u001b[0m\u001b[0;34m]\u001b[0m\u001b[0;34m)\u001b[0m\u001b[0;34m\u001b[0m\u001b[0;34m\u001b[0m\u001b[0m\n\u001b[0m\u001b[1;32m      2\u001b[0m \u001b[0;32mif\u001b[0m \u001b[0mTEMP_ACCESS_TOKEN\u001b[0m\u001b[0;34m:\u001b[0m\u001b[0;34m\u001b[0m\u001b[0;34m\u001b[0m\u001b[0m\n\u001b[1;32m      3\u001b[0m     \u001b[0mprint\u001b[0m\u001b[0;34m(\u001b[0m\u001b[0;34m'Congratulations! You have an access token, it will last for 24 hours before you will need to reauthenticate by repeating this step'\u001b[0m\u001b[0;34m)\u001b[0m\u001b[0;34m\u001b[0m\u001b[0;34m\u001b[0m\u001b[0m\n\u001b[1;32m      4\u001b[0m \u001b[0;32melse\u001b[0m\u001b[0;34m:\u001b[0m\u001b[0;34m\u001b[0m\u001b[0;34m\u001b[0m\u001b[0m\n\u001b[1;32m      5\u001b[0m     \u001b[0mprint\u001b[0m\u001b[0;34m(\u001b[0m\u001b[0;34m'Error: Perhaps the credentials are incorrect?'\u001b[0m\u001b[0;34m)\u001b[0m\u001b[0;34m\u001b[0m\u001b[0;34m\u001b[0m\u001b[0m\n",
      "\u001b[0;32m/usr/local/Cellar/python@3.9/3.9.1_5/Frameworks/Python.framework/Versions/3.9/lib/python3.9/os.py\u001b[0m in \u001b[0;36m__getitem__\u001b[0;34m(self, key)\u001b[0m\n\u001b[1;32m    677\u001b[0m         \u001b[0;32mexcept\u001b[0m \u001b[0mKeyError\u001b[0m\u001b[0;34m:\u001b[0m\u001b[0;34m\u001b[0m\u001b[0;34m\u001b[0m\u001b[0m\n\u001b[1;32m    678\u001b[0m             \u001b[0;31m# raise KeyError with the original key value\u001b[0m\u001b[0;34m\u001b[0m\u001b[0;34m\u001b[0m\u001b[0;34m\u001b[0m\u001b[0m\n\u001b[0;32m--> 679\u001b[0;31m             \u001b[0;32mraise\u001b[0m \u001b[0mKeyError\u001b[0m\u001b[0;34m(\u001b[0m\u001b[0mkey\u001b[0m\u001b[0;34m)\u001b[0m \u001b[0;32mfrom\u001b[0m \u001b[0;32mNone\u001b[0m\u001b[0;34m\u001b[0m\u001b[0;34m\u001b[0m\u001b[0m\n\u001b[0m\u001b[1;32m    680\u001b[0m         \u001b[0;32mreturn\u001b[0m \u001b[0mself\u001b[0m\u001b[0;34m.\u001b[0m\u001b[0mdecodevalue\u001b[0m\u001b[0;34m(\u001b[0m\u001b[0mvalue\u001b[0m\u001b[0;34m)\u001b[0m\u001b[0;34m\u001b[0m\u001b[0;34m\u001b[0m\u001b[0m\n\u001b[1;32m    681\u001b[0m \u001b[0;34m\u001b[0m\u001b[0m\n",
      "\u001b[0;31mKeyError\u001b[0m: 'SIGNAL_API_CLIENT_ID'"
     ]
    }
   ],
   "source": [
    "TEMP_ACCESS_TOKEN = authenticate(os.environ['SIGNAL_API_CLIENT_ID'], os.environ['SIGNAL_API_CLIENT_SECRET'])\n",
    "if TEMP_ACCESS_TOKEN:\n",
    "    print('Congratulations! You have an access token, it will last for 24 hours before you will need to reauthenticate by repeating this step')\n",
    "else:\n",
    "    print('Error: Perhaps the credentials are incorrect?')"
   ]
  },
  {
   "source": [
    "## Using Trends API"
   ],
   "cell_type": "markdown",
   "metadata": {}
  },
  {
   "source": [
    "Before we start, let us define `request()` function that we can re-use across different example use cases."
   ],
   "cell_type": "code",
   "metadata": {},
   "execution_count": null,
   "outputs": []
  },
  {
   "cell_type": "code",
   "execution_count": null,
   "metadata": {},
   "outputs": [],
   "source": [
    "def request(json=None):\n",
    "    \"\"\" Make requests using a tempory access token \"\"\"\n",
    "    response = requests.post(\n",
    "        'https://api.signal-ai.com/trends',\n",
    "        json=json,\n",
    "        headers={\n",
    "            \"Authorization\": f'Bearer {TEMP_ACCESS_TOKEN}',\n",
    "            \"Content-Type\": \"application/json\",\n",
    "            # since this endpoint is still private, this header is necessary:\n",
    "            \"X-Access\": \"private\"\n",
    "        },\n",
    "    )\n",
    "    return response\n"
   ]
  },
  {
   "source": [
    "Following are some examples of the questions that can be answered using Trends API."
   ],
   "cell_type": "markdown",
   "metadata": {}
  },
  {
   "source": [
    "Use case question:\n",
    "\n",
    "- How has the sentiment around my organisation been changing over time?\n",
    "\n",
    "Note that you would need to have the ID of the entity as an input. For that please consult the [Getting Started notebook](getting_started.ipynb) to search for entities and obtain the ID of your chosen entity.\n",
    "\n",
    "\n"
   ],
   "cell_type": "markdown",
   "metadata": {}
  },
  {
   "source": [
    "**Example**: Sentiment towards Wirecard between the beginning of March 2020 and the end of August 2020 in monthly intervals"
   ],
   "cell_type": "markdown",
   "metadata": {}
  },
  {
   "cell_type": "code",
   "execution_count": null,
   "metadata": {},
   "outputs": [],
   "source": [
    "entity_id = \"eae834b7-5b2f-430e-99ce-770786a971cf\" ##  ID for Wirecard\n",
    "\n",
    "query = {\n",
    "    # first we define the data to be included in the aggregation. This part of the query has got the same format as the query in `Search` endpoint\n",
    "    \"where\": {\n",
    "        \"published-at\": {\n",
    "            \"gte\": \"2020-03-01\",\n",
    "            \"lte\": \"2020-08-31\"\n",
    "        }\n",
    "    },\n",
    "    # then we define how the data should be aggregated. Note the `include` field and how we specify the ID(s) of the entities we want the data to be grouped by.\n",
    "    \"aggregations\": {\n",
    "        \"group-by\": [\n",
    "            {\n",
    "                \"dimension\": \"published-at\",\n",
    "                \"interval\": \"month\"\n",
    "            },\n",
    "            {\n",
    "                \"dimension\": \"entity\",\n",
    "                \"include\": [\n",
    "                    entity_id\n",
    "                ]\n",
    "            },\n",
    "            {\n",
    "                \"dimension\": \"entity.sentiment\"\n",
    "            }\n",
    "        ],\n",
    "        \"metrics\": [\"document-count\"]\n",
    "    }\n",
    "}\n",
    "\n",
    "# return the response in JSON format\n",
    "result = request(json=query).json()\n"
   ]
  },
  {
   "cell_type": "code",
   "execution_count": null,
   "metadata": {},
   "outputs": [],
   "source": [
    "Let us look at the results: "
   ]
  },
  {
   "cell_type": "code",
   "execution_count": 15,
   "metadata": {},
   "outputs": [
    {
     "output_type": "error",
     "ename": "NameError",
     "evalue": "name 'json' is not defined",
     "traceback": [
      "\u001b[0;31m---------------------------------------------------------------------------\u001b[0m",
      "\u001b[0;31mNameError\u001b[0m                                 Traceback (most recent call last)",
      "\u001b[0;32m<ipython-input-15-3bc5e66f1520>\u001b[0m in \u001b[0;36m<module>\u001b[0;34m\u001b[0m\n\u001b[0;32m----> 1\u001b[0;31m \u001b[0mprint\u001b[0m\u001b[0;34m(\u001b[0m\u001b[0mjson\u001b[0m\u001b[0;34m.\u001b[0m\u001b[0mdumps\u001b[0m\u001b[0;34m(\u001b[0m\u001b[0mresult\u001b[0m\u001b[0;34m,\u001b[0m \u001b[0mindent\u001b[0m\u001b[0;34m=\u001b[0m\u001b[0;36m4\u001b[0m\u001b[0;34m,\u001b[0m \u001b[0msort_keys\u001b[0m\u001b[0;34m=\u001b[0m\u001b[0;32mTrue\u001b[0m\u001b[0;34m)\u001b[0m\u001b[0;34m)\u001b[0m\u001b[0;34m\u001b[0m\u001b[0;34m\u001b[0m\u001b[0m\n\u001b[0m",
      "\u001b[0;31mNameError\u001b[0m: name 'json' is not defined"
     ]
    }
   ],
   "source": [
    "print(json.dumps(result, indent=4, sort_keys=True))"
   ]
  },
  {
   "cell_type": "code",
   "execution_count": null,
   "metadata": {},
   "outputs": [],
   "source": [
    "We can also plot and analyse these results:"
   ]
  },
  {
   "cell_type": "code",
   "execution_count": null,
   "metadata": {},
   "outputs": [],
   "source": [
    "# df = pd.DataFrame.from_dict(result)"
   ]
  },
  {
   "cell_type": "code",
   "execution_count": null,
   "metadata": {},
   "outputs": [],
   "source": [
    "\n"
   ]
  },
  {
   "source": [
    "### 2. Sentiment for an entity in relation to a set of key topics"
   ],
   "cell_type": "markdown",
   "metadata": {}
  },
  {
   "cell_type": "code",
   "execution_count": null,
   "metadata": {},
   "outputs": [],
   "source": [
    "Use case question:\n",
    "\n",
    "- How is sentiment towards organisations in my portfolio trending in relation to a set of key topics? "
   ]
  },
  {
   "cell_type": "code",
   "execution_count": null,
   "metadata": {},
   "outputs": [],
   "source": [
    "**Example**: Sentiment trending around 7 car manufacturers in January 2021 and in relation to a 6 strategic topics"
   ]
  },
  {
   "cell_type": "code",
   "execution_count": null,
   "metadata": {},
   "outputs": [],
   "source": [
    "topics_ids = [\n",
    "    \"fc31abf2-7b11-4ed5-a7d2-35266057c0dd\", \n",
    "    \"c3e9ec2f-e225-4955-9dbf-5480ce3d30fe\", \n",
    "    \"a301b00d-f4ef-49fb-9224-f52386d4955e\", \n",
    "    \"fdcb69a5-8aa6-4067-a29b-f064321e1d7d\", \n",
    "    \"4249987d-5b02-4e51-9c44-019dd8e39742\", \n",
    "    \"8de14dc1-6a93-4d1f-b755-a8d7aa570187\"\n",
    "    ] ## IDs of the following topics: Innovation, Patents & Invention, Corporate Culture, Corporate Governance, Corporate Responsibility, Sustainability\n",
    "\n",
    "entity_ids = [\n",
    "    \"d6341968-83df-441c-a869-fa7ae9c22c73\", \n",
    "    \"d7f0268d-1322-32b2-83d9-bb6fa9922506\", \n",
    "    \"a9cf01c5-751f-4fe5-a529-12e0d297cb63\", \n",
    "    \"c4ad0758-f3ee-4002-84aa-10849a153d75\", \n",
    "    \"06608104-0136-4371-ad04-be40fcc306a4\", \n",
    "    \"11cab8df-4be1-470f-8f49-8f7f0863ec95\", \n",
    "    \"946b44a8-b767-40ca-8093-e90d6af2a9d4\"\n",
    "    ] ##  IDs of the following car manufacturers: Toyota, Volkswagen, General Motors, Honda, BMW, Tesla, Ford\n",
    "\n",
    "query = {\n",
    "    # here we can specify a wider time window, so that we can make a comparison between January 2021 and the month before, in order to analyse the extent of change.\n",
    "    \"where\": {\n",
    "        \"published-at\": {\n",
    "            \"gte\": \"2020-12-01\",\n",
    "            \"lte\": \"2021-01-31\"\n",
    "        }\n",
    "    },\n",
    "    \"aggregations\": {\n",
    "        \"group-by\": [\n",
    "            {\n",
    "                \"dimension\": \"published-at\",\n",
    "                \"interval\": \"month\"\n",
    "            },\n",
    "            # after grouping by month, we should first group by topics...\n",
    "            {\n",
    "                \"dimension\": \"topic\",\n",
    "                \"include\": topics_ids\n",
    "            },\n",
    "            # ...then by entities\n",
    "            {\n",
    "                \"dimension\": \"entity\",\n",
    "                \"include\": entity_ids\n",
    "            },\n",
    "            {\n",
    "                \"dimension\": \"entity.sentiment\"\n",
    "            }\n",
    "        ],\n",
    "        \"metrics\": [\"document-count\"]\n",
    "    }\n",
    "}\n",
    "\n",
    "result = request(json=query).json()"
   ]
  },
  {
   "source": [
    "### 3. News coverage and sentiment around an entity in different locations"
   ],
   "cell_type": "markdown",
   "metadata": {}
  },
  {
   "cell_type": "code",
   "execution_count": null,
   "metadata": {},
   "outputs": [],
   "source": [
    "Use case question:\n",
    "\n",
    "How do news coverage and sentiment around my agency’s clients vary across different countries?"
   ]
  },
  {
   "cell_type": "code",
   "execution_count": null,
   "metadata": {},
   "outputs": [],
   "source": [
    "**Example**: Coverage and sentiment around Uber in February 2021 and in 5 different countries"
   ]
  },
  {
   "cell_type": "code",
   "execution_count": null,
   "metadata": {},
   "outputs": [],
   "source": [
    "entity_id = \"0c20f04a-94ef-467c-921d-f89f8895c41a\" ##  ID for Uber\n",
    "countries = [\n",
    "    \"United States\", \n",
    "    \"United Kingdom\", \n",
    "    \"Germany\", \n",
    "    \"France\", \n",
    "    \"Spain\"\n",
    "    ]\n",
    "\n",
    "query = {\n",
    "    \"where\": {\n",
    "        \"published-at\": {\n",
    "            \"gte\": \"2021-02-01\",\n",
    "            \"lte\": \"2021-02-28\"\n",
    "        },\n",
    "        # here we can narrow our search by selecting only the articles where Uber is mentioned\n",
    "        \"entities\": {\n",
    "            \"id\": {\n",
    "                \"eq\": entity_id\n",
    "            }\n",
    "        }\n",
    "    },\n",
    "    \"aggregations\": {\n",
    "        \"group-by\": [\n",
    "            {\n",
    "                \"dimension\": \"country\",\n",
    "                \"include\": countries\n",
    "            },\n",
    "            {\n",
    "                \"dimension\": \"entity\",\n",
    "                \"include\": [\n",
    "                    entity_id\n",
    "                ]\n",
    "            },\n",
    "            {\n",
    "                \"dimension\": \"entity.sentiment\"\n",
    "            }\n",
    "        ],\n",
    "        \"metrics\": [\"document-count\"]\n",
    "    }\n",
    "}\n",
    "\n",
    "result = request(json=query).json()"
   ]
  },
  {
   "cell_type": "code",
   "execution_count": null,
   "metadata": {},
   "outputs": [],
   "source": [
    "### 4. Difference in coverage and sentiment between entities over time and in relation to different topics"
   ]
  },
  {
   "cell_type": "code",
   "execution_count": null,
   "metadata": {},
   "outputs": [],
   "source": [
    "Use case question:\n",
    "\n",
    "How do different organisations that I monitor compare with respect to coverage and sentiment in relation to key topics?"
   ]
  },
  {
   "cell_type": "code",
   "execution_count": null,
   "metadata": {},
   "outputs": [],
   "source": [
    "**Example**: Coverage and sentiment around 4 competitors in the mining industry in January 2021 and in relation to 4 ESG topics"
   ]
  },
  {
   "cell_type": "code",
   "execution_count": null,
   "metadata": {},
   "outputs": [],
   "source": [
    "topics_ids = [\n",
    "    \"22297881-a936-4b51-a880-a7152c8ecc68\",\n",
    "    \"ff9d1563-570f-4769-bbb5-7f3096beca0a\",\n",
    "    \"8de14dc1-6a93-4d1f-b755-a8d7aa570187\",\n",
    "    \"f8c74a1b-4f44-4a3f-b9bb-9b7cb221eb3f\"\n",
    "    ] ## IDs of the following topics: Environmental Cleanup, Corporate Controversy,  Sustainability, Chemicals\n",
    "\n",
    "entity_ids = [\n",
    "   \"72800724-103f-4370-942a-0e715b58ee4a\",\n",
    "   \"3d885924-a230-4fac-b17a-d5a1c1151cdf\",\n",
    "   \"98eeff9c-6a9a-4d62-801d-eb94b240dd42\",\n",
    "   \"592930e0-70fe-45f7-8a1e-ec504158dbf9\"\n",
    "    ] ##  IDs of the following mining companies: Rio Tinto, BHP, Glencore\n",
    "\n",
    "query = {\n",
    "    \"where\": {\n",
    "        \"published-at\": {\n",
    "            \"gte\": \"2021-01-01\",\n",
    "            \"lte\": \"2021-01-31\"\n",
    "        }\n",
    "    },\n",
    "    \"aggregations\": {\n",
    "        \"group-by\": [\n",
    "            # since we are here looking at a particular one-month window, perhaps this time we could use week intervals \n",
    "            {\n",
    "                \"dimension\": \"published-at\",\n",
    "                \"interval\": \"week\"\n",
    "            },\n",
    "            {\n",
    "                \"dimension\": \"topic\",\n",
    "                \"include\": topics_ids\n",
    "            },\n",
    "            {\n",
    "                \"dimension\": \"entity\",\n",
    "                \"include\": entity_ids\n",
    "            },\n",
    "            {\n",
    "                \"dimension\": \"entity.sentiment\"\n",
    "            }\n",
    "        ],\n",
    "        \"metrics\": [\"document-count\"]\n",
    "    }\n",
    "}\n",
    "\n",
    "result = request(json=query).json()"
   ]
  }
 ]
}