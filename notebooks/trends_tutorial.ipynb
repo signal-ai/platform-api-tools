{
 "cells": [
  {
   "cell_type": "markdown",
   "metadata": {},
   "source": [
    "# Getting Started with the Trends API"
   ]
  },
  {
   "cell_type": "markdown",
   "metadata": {},
   "source": [
    "This notebook serves as a tutorial for the Trends endpoint in the Signal AI API.\n",
    "\n",
    "Full technical documentation of the Trends endpoint is available here\n",
    "https://api.signal-ai.com/docs#tag/Trends\n"
   ]
  },
  {
   "cell_type": "markdown",
   "metadata": {},
   "source": [
    "## Trends API Overview"
   ]
  },
  {
   "cell_type": "markdown",
   "metadata": {},
   "source": [
    "The Trends API provides at-a-glance aggregated metrics over all news & regulatory content available in our Platform. It supports analysing our content accross multiple dimensions, and enables users to monitor, visualise and understand information such as the following:\n",
    "- Changes in sentiment for an entity over time\n",
    "- Sentiment for an entity in relation to a set of key topics\n",
    "- News coverage and sentiment around an entity in different locations\n",
    "- Difference in coverage and sentiment between entities over time and in relation to different topics"
   ]
  },
  {
   "cell_type": "markdown",
   "metadata": {},
   "source": [
    "## 0. Setting things up!"
   ]
  },
  {
   "cell_type": "markdown",
   "metadata": {},
   "source": [
    "### 0.1 Pre-requisites"
   ]
  },
  {
   "cell_type": "markdown",
   "metadata": {},
   "source": [
    "Please make sure that you have familiarised yourself with the Signal AI API using the [Getting Started notebook](getting_started.ipynb)"
   ]
  },
  {
   "cell_type": "markdown",
   "metadata": {},
   "source": [
    "In particular you would need to be able to use the following endpoints:\n",
    "\n",
    "- Authentication: to be able to access the API\n",
    "- Discovery: to be able to search for entities and topics of interest\n"
   ]
  },
  {
   "cell_type": "markdown",
   "metadata": {},
   "source": [
    "Note: run `pip install -r requirements.txt` to install the dependencies for this notebook"
   ]
  },
  {
   "cell_type": "code",
   "execution_count": 25,
   "metadata": {
    "scrolled": true
   },
   "outputs": [],
   "source": [
    "import requests\n",
    "import os\n",
    "import pandas as pd\n",
    "import json\n",
    "from pandas import json_normalize"
   ]
  },
  {
   "cell_type": "markdown",
   "metadata": {},
   "source": [
    "### 0.2 Check if authentication works!"
   ]
  },
  {
   "cell_type": "markdown",
   "metadata": {},
   "source": [
    "You will need a client_id and client_secret to gain access to the API. The code below will assume they have been set and the environment variables `SIGNAL_API_CLIENT_ID` and `SIGNAL_API_CLIENT_SECRET` respectively."
   ]
  },
  {
   "cell_type": "markdown",
   "metadata": {},
   "source": [
    "Using your credentials you can request a temporary access token from the API using the url: https://api.signal-ai.com/auth/token\n"
   ]
  },
  {
   "cell_type": "code",
   "execution_count": 16,
   "metadata": {},
   "outputs": [],
   "source": [
    "def authenticate(client_id, client_secret, url = \"https://api.signal-ai.com\"):\n",
    "    \"\"\" obtain a temporary access token using user credentials \"\"\"\n",
    "    token_url = f'{url}/auth/token'\n",
    "    payload = {\n",
    "        \"grant_type\": \"client_credentials\",\n",
    "        \"client_id\": client_id,\n",
    "        \"client_secret\": client_secret\n",
    "    }\n",
    "    response = requests.post(token_url, data=payload)\n",
    "    return response.json().get(\"access_token\")"
   ]
  },
  {
   "cell_type": "code",
   "execution_count": 17,
   "metadata": {},
   "outputs": [
    {
     "name": "stdout",
     "output_type": "stream",
     "text": [
      "Congratulations! You have an access token, it will last for 24 hours before you will need to reauthenticate by repeating this step\n"
     ]
    }
   ],
   "source": [
    "TEMP_ACCESS_TOKEN = authenticate(os.environ['SIGNAL_API_CLIENT_ID'], os.environ['SIGNAL_API_CLIENT_SECRET'])\n",
    "if TEMP_ACCESS_TOKEN:\n",
    "    print('Congratulations! You have an access token, it will last for 24 hours before you will need to reauthenticate by repeating this step')\n",
    "else:\n",
    "    print('Error: Perhaps the credentials are incorrect?')"
   ]
  },
  {
   "cell_type": "markdown",
   "metadata": {},
   "source": [
    "## Using Trends API"
   ]
  },
  {
   "cell_type": "markdown",
   "metadata": {},
   "source": [
    "Before we start, let us define a request function that we can re-use across different example use cases."
   ]
  },
  {
   "cell_type": "code",
   "execution_count": 18,
   "metadata": {},
   "outputs": [],
   "source": [
    "def request(json=None):\n",
    "    \"\"\" Make requests using a tempory access token \"\"\"\n",
    "    response = requests.post(\n",
    "        'https://api.signal-ai.com/trends',\n",
    "        json=json,\n",
    "        headers={\n",
    "            \"Authorization\": f'Bearer {TEMP_ACCESS_TOKEN}',\n",
    "            \"Content-Type\": \"application/json\",\n",
    "            # Since the endpoint is still private, this header is required:\n",
    "            \"X-Access\": \"private\"\n",
    "        },\n",
    "    )\n",
    "    return response\n"
   ]
  },
  {
   "cell_type": "markdown",
   "metadata": {},
   "source": [
    "Following are some examples of the questions that can be answered using Trends API."
   ]
  },
  {
   "cell_type": "markdown",
   "metadata": {},
   "source": [
    "**Use case question**:\n",
    "\n",
    "- How has the sentiment around my organisation been changing over time?\n",
    "\n",
    "Note that you would need to have the ID of the entity as an input. For that please consult the [Getting Started notebook](getting_started.ipynb) to search for entities and obtain the ID of your chosen entity.\n",
    "\n",
    "\n"
   ]
  },
  {
   "cell_type": "markdown",
   "metadata": {},
   "source": [
    "**Example**: Sentiment towards Wirecard between the beginning of March 2020 and the end of August 2020 in monthly intervals"
   ]
  },
  {
   "cell_type": "code",
   "execution_count": 19,
   "metadata": {},
   "outputs": [],
   "source": [
    "entity_id = \"eae834b7-5b2f-430e-99ce-770786a971cf\" ##  ID for Wirecard\n",
    "\n",
    "query = {\n",
    "    # First we define the data to be included in the aggregation. \n",
    "    # This part of the query has got the same format as the query in the `Search` endpoint\n",
    "    \"where\": {\n",
    "        \"published-at\": {\n",
    "            \"gte\": \"2020-03-01\",\n",
    "            \"lte\": \"2020-08-31\"\n",
    "        }\n",
    "    },\n",
    "    # Then we define how the data should be aggregated. \n",
    "    # Note the `include` field and how we specify the ID(s) of the entities we want the data to be grouped by.\n",
    "    \"aggregations\": {\n",
    "        \"group-by\": [\n",
    "            {\n",
    "                \"dimension\": \"published-at\",\n",
    "                \"interval\": \"month\"\n",
    "            },\n",
    "            {\n",
    "                \"dimension\": \"entity\",\n",
    "                \"include\": [\n",
    "                    entity_id\n",
    "                ]\n",
    "            },\n",
    "            {\n",
    "                \"dimension\": \"entity.sentiment\"\n",
    "            }\n",
    "        ],\n",
    "        \"metrics\": [\"document-count\"]\n",
    "    }\n",
    "}\n",
    "\n",
    "# Return the response in JSON format\n",
    "wirecard_result = request(json=query).json()\n"
   ]
  },
  {
   "cell_type": "markdown",
   "metadata": {},
   "source": [
    "You can see the structure of a typical Trends API response:"
   ]
  },
  {
   "cell_type": "code",
   "execution_count": 22,
   "metadata": {},
   "outputs": [
    {
     "data": {
      "application/json": {
       "aggregations": {
        "group-by": {
         "dimension": "published-at",
         "groups": [
          {
           "group-by": {
            "dimension": "entity",
            "groups": [
             {
              "group-by": {
               "dimension": "entity.sentiment",
               "groups": [
                {
                 "metrics": {
                  "document-count": 457
                 },
                 "value": "negative"
                },
                {
                 "metrics": {
                  "document-count": 7179
                 },
                 "value": "neutral"
                },
                {
                 "metrics": {
                  "document-count": 3181
                 },
                 "value": "positive"
                }
               ]
              },
              "value": {
               "id": "eae834b7-5b2f-430e-99ce-770786a971cf",
               "name": "Wirecard",
               "type": "organisation"
              }
             }
            ]
           },
           "value": "2020-03-01"
          },
          {
           "group-by": {
            "dimension": "entity",
            "groups": [
             {
              "group-by": {
               "dimension": "entity.sentiment",
               "groups": [
                {
                 "metrics": {
                  "document-count": 1964
                 },
                 "value": "negative"
                },
                {
                 "metrics": {
                  "document-count": 9080
                 },
                 "value": "neutral"
                },
                {
                 "metrics": {
                  "document-count": 4177
                 },
                 "value": "positive"
                }
               ]
              },
              "value": {
               "id": "eae834b7-5b2f-430e-99ce-770786a971cf",
               "name": "Wirecard",
               "type": "organisation"
              }
             }
            ]
           },
           "value": "2020-04-01"
          },
          {
           "group-by": {
            "dimension": "entity",
            "groups": [
             {
              "group-by": {
               "dimension": "entity.sentiment",
               "groups": [
                {
                 "metrics": {
                  "document-count": 2337
                 },
                 "value": "negative"
                },
                {
                 "metrics": {
                  "document-count": 9143
                 },
                 "value": "neutral"
                },
                {
                 "metrics": {
                  "document-count": 6994
                 },
                 "value": "positive"
                }
               ]
              },
              "value": {
               "id": "eae834b7-5b2f-430e-99ce-770786a971cf",
               "name": "Wirecard",
               "type": "organisation"
              }
             }
            ]
           },
           "value": "2020-05-01"
          },
          {
           "group-by": {
            "dimension": "entity",
            "groups": [
             {
              "group-by": {
               "dimension": "entity.sentiment",
               "groups": [
                {
                 "metrics": {
                  "document-count": 23249
                 },
                 "value": "negative"
                },
                {
                 "metrics": {
                  "document-count": 32324
                 },
                 "value": "neutral"
                },
                {
                 "metrics": {
                  "document-count": 20192
                 },
                 "value": "positive"
                }
               ]
              },
              "value": {
               "id": "eae834b7-5b2f-430e-99ce-770786a971cf",
               "name": "Wirecard",
               "type": "organisation"
              }
             }
            ]
           },
           "value": "2020-06-01"
          },
          {
           "group-by": {
            "dimension": "entity",
            "groups": [
             {
              "group-by": {
               "dimension": "entity.sentiment",
               "groups": [
                {
                 "metrics": {
                  "document-count": 14906
                 },
                 "value": "negative"
                },
                {
                 "metrics": {
                  "document-count": 30238
                 },
                 "value": "neutral"
                },
                {
                 "metrics": {
                  "document-count": 11944
                 },
                 "value": "positive"
                }
               ]
              },
              "value": {
               "id": "eae834b7-5b2f-430e-99ce-770786a971cf",
               "name": "Wirecard",
               "type": "organisation"
              }
             }
            ]
           },
           "value": "2020-07-01"
          },
          {
           "group-by": {
            "dimension": "entity",
            "groups": [
             {
              "group-by": {
               "dimension": "entity.sentiment",
               "groups": [
                {
                 "metrics": {
                  "document-count": 4704
                 },
                 "value": "negative"
                },
                {
                 "metrics": {
                  "document-count": 15722
                 },
                 "value": "neutral"
                },
                {
                 "metrics": {
                  "document-count": 8166
                 },
                 "value": "positive"
                }
               ]
              },
              "value": {
               "id": "eae834b7-5b2f-430e-99ce-770786a971cf",
               "name": "Wirecard",
               "type": "organisation"
              }
             }
            ]
           },
           "value": "2020-08-01"
          }
         ]
        }
       }
      },
      "text/plain": [
       "<IPython.core.display.JSON object>"
      ]
     },
     "execution_count": 22,
     "metadata": {
      "application/json": {
       "expanded": false,
       "root": "root"
      }
     },
     "output_type": "execute_result"
    }
   ],
   "source": [
    "from IPython.display import JSON\n",
    "JSON(wirecard_result)"
   ]
  },
  {
   "cell_type": "markdown",
   "metadata": {},
   "source": [
    "We can convert the result into a dataframe, for a better readability."
   ]
  },
  {
   "cell_type": "code",
   "execution_count": 26,
   "metadata": {
    "scrolled": true
   },
   "outputs": [
    {
     "data": {
      "text/html": [
       "<style  type=\"text/css\" >\n",
       "</style><table id=\"T_29834a0a_88ac_11eb_b8f8_3af9d350abc5\" ><caption>Sentiment towards Wirecard</caption><thead>    <tr>        <th class=\"blank level0\" ></th>        <th class=\"col_heading level0 col0\" >Date</th>        <th class=\"col_heading level0 col1\" >Sentiment</th>        <th class=\"col_heading level0 col2\" >Count</th>    </tr></thead><tbody>\n",
       "                <tr>\n",
       "                        <th id=\"T_29834a0a_88ac_11eb_b8f8_3af9d350abc5level0_row0\" class=\"row_heading level0 row0\" >0</th>\n",
       "                        <td id=\"T_29834a0a_88ac_11eb_b8f8_3af9d350abc5row0_col0\" class=\"data row0 col0\" >2020-03-01</td>\n",
       "                        <td id=\"T_29834a0a_88ac_11eb_b8f8_3af9d350abc5row0_col1\" class=\"data row0 col1\" >negative</td>\n",
       "                        <td id=\"T_29834a0a_88ac_11eb_b8f8_3af9d350abc5row0_col2\" class=\"data row0 col2\" >457</td>\n",
       "            </tr>\n",
       "            <tr>\n",
       "                        <th id=\"T_29834a0a_88ac_11eb_b8f8_3af9d350abc5level0_row1\" class=\"row_heading level0 row1\" >1</th>\n",
       "                        <td id=\"T_29834a0a_88ac_11eb_b8f8_3af9d350abc5row1_col0\" class=\"data row1 col0\" >2020-03-01</td>\n",
       "                        <td id=\"T_29834a0a_88ac_11eb_b8f8_3af9d350abc5row1_col1\" class=\"data row1 col1\" >neutral</td>\n",
       "                        <td id=\"T_29834a0a_88ac_11eb_b8f8_3af9d350abc5row1_col2\" class=\"data row1 col2\" >7179</td>\n",
       "            </tr>\n",
       "            <tr>\n",
       "                        <th id=\"T_29834a0a_88ac_11eb_b8f8_3af9d350abc5level0_row2\" class=\"row_heading level0 row2\" >2</th>\n",
       "                        <td id=\"T_29834a0a_88ac_11eb_b8f8_3af9d350abc5row2_col0\" class=\"data row2 col0\" >2020-03-01</td>\n",
       "                        <td id=\"T_29834a0a_88ac_11eb_b8f8_3af9d350abc5row2_col1\" class=\"data row2 col1\" >positive</td>\n",
       "                        <td id=\"T_29834a0a_88ac_11eb_b8f8_3af9d350abc5row2_col2\" class=\"data row2 col2\" >3181</td>\n",
       "            </tr>\n",
       "            <tr>\n",
       "                        <th id=\"T_29834a0a_88ac_11eb_b8f8_3af9d350abc5level0_row3\" class=\"row_heading level0 row3\" >3</th>\n",
       "                        <td id=\"T_29834a0a_88ac_11eb_b8f8_3af9d350abc5row3_col0\" class=\"data row3 col0\" >2020-04-01</td>\n",
       "                        <td id=\"T_29834a0a_88ac_11eb_b8f8_3af9d350abc5row3_col1\" class=\"data row3 col1\" >negative</td>\n",
       "                        <td id=\"T_29834a0a_88ac_11eb_b8f8_3af9d350abc5row3_col2\" class=\"data row3 col2\" >1964</td>\n",
       "            </tr>\n",
       "            <tr>\n",
       "                        <th id=\"T_29834a0a_88ac_11eb_b8f8_3af9d350abc5level0_row4\" class=\"row_heading level0 row4\" >4</th>\n",
       "                        <td id=\"T_29834a0a_88ac_11eb_b8f8_3af9d350abc5row4_col0\" class=\"data row4 col0\" >2020-04-01</td>\n",
       "                        <td id=\"T_29834a0a_88ac_11eb_b8f8_3af9d350abc5row4_col1\" class=\"data row4 col1\" >neutral</td>\n",
       "                        <td id=\"T_29834a0a_88ac_11eb_b8f8_3af9d350abc5row4_col2\" class=\"data row4 col2\" >9080</td>\n",
       "            </tr>\n",
       "            <tr>\n",
       "                        <th id=\"T_29834a0a_88ac_11eb_b8f8_3af9d350abc5level0_row5\" class=\"row_heading level0 row5\" >5</th>\n",
       "                        <td id=\"T_29834a0a_88ac_11eb_b8f8_3af9d350abc5row5_col0\" class=\"data row5 col0\" >2020-04-01</td>\n",
       "                        <td id=\"T_29834a0a_88ac_11eb_b8f8_3af9d350abc5row5_col1\" class=\"data row5 col1\" >positive</td>\n",
       "                        <td id=\"T_29834a0a_88ac_11eb_b8f8_3af9d350abc5row5_col2\" class=\"data row5 col2\" >4177</td>\n",
       "            </tr>\n",
       "            <tr>\n",
       "                        <th id=\"T_29834a0a_88ac_11eb_b8f8_3af9d350abc5level0_row6\" class=\"row_heading level0 row6\" >6</th>\n",
       "                        <td id=\"T_29834a0a_88ac_11eb_b8f8_3af9d350abc5row6_col0\" class=\"data row6 col0\" >2020-05-01</td>\n",
       "                        <td id=\"T_29834a0a_88ac_11eb_b8f8_3af9d350abc5row6_col1\" class=\"data row6 col1\" >negative</td>\n",
       "                        <td id=\"T_29834a0a_88ac_11eb_b8f8_3af9d350abc5row6_col2\" class=\"data row6 col2\" >2337</td>\n",
       "            </tr>\n",
       "            <tr>\n",
       "                        <th id=\"T_29834a0a_88ac_11eb_b8f8_3af9d350abc5level0_row7\" class=\"row_heading level0 row7\" >7</th>\n",
       "                        <td id=\"T_29834a0a_88ac_11eb_b8f8_3af9d350abc5row7_col0\" class=\"data row7 col0\" >2020-05-01</td>\n",
       "                        <td id=\"T_29834a0a_88ac_11eb_b8f8_3af9d350abc5row7_col1\" class=\"data row7 col1\" >neutral</td>\n",
       "                        <td id=\"T_29834a0a_88ac_11eb_b8f8_3af9d350abc5row7_col2\" class=\"data row7 col2\" >9143</td>\n",
       "            </tr>\n",
       "            <tr>\n",
       "                        <th id=\"T_29834a0a_88ac_11eb_b8f8_3af9d350abc5level0_row8\" class=\"row_heading level0 row8\" >8</th>\n",
       "                        <td id=\"T_29834a0a_88ac_11eb_b8f8_3af9d350abc5row8_col0\" class=\"data row8 col0\" >2020-05-01</td>\n",
       "                        <td id=\"T_29834a0a_88ac_11eb_b8f8_3af9d350abc5row8_col1\" class=\"data row8 col1\" >positive</td>\n",
       "                        <td id=\"T_29834a0a_88ac_11eb_b8f8_3af9d350abc5row8_col2\" class=\"data row8 col2\" >6994</td>\n",
       "            </tr>\n",
       "            <tr>\n",
       "                        <th id=\"T_29834a0a_88ac_11eb_b8f8_3af9d350abc5level0_row9\" class=\"row_heading level0 row9\" >9</th>\n",
       "                        <td id=\"T_29834a0a_88ac_11eb_b8f8_3af9d350abc5row9_col0\" class=\"data row9 col0\" >2020-06-01</td>\n",
       "                        <td id=\"T_29834a0a_88ac_11eb_b8f8_3af9d350abc5row9_col1\" class=\"data row9 col1\" >negative</td>\n",
       "                        <td id=\"T_29834a0a_88ac_11eb_b8f8_3af9d350abc5row9_col2\" class=\"data row9 col2\" >23249</td>\n",
       "            </tr>\n",
       "            <tr>\n",
       "                        <th id=\"T_29834a0a_88ac_11eb_b8f8_3af9d350abc5level0_row10\" class=\"row_heading level0 row10\" >10</th>\n",
       "                        <td id=\"T_29834a0a_88ac_11eb_b8f8_3af9d350abc5row10_col0\" class=\"data row10 col0\" >2020-06-01</td>\n",
       "                        <td id=\"T_29834a0a_88ac_11eb_b8f8_3af9d350abc5row10_col1\" class=\"data row10 col1\" >neutral</td>\n",
       "                        <td id=\"T_29834a0a_88ac_11eb_b8f8_3af9d350abc5row10_col2\" class=\"data row10 col2\" >32324</td>\n",
       "            </tr>\n",
       "            <tr>\n",
       "                        <th id=\"T_29834a0a_88ac_11eb_b8f8_3af9d350abc5level0_row11\" class=\"row_heading level0 row11\" >11</th>\n",
       "                        <td id=\"T_29834a0a_88ac_11eb_b8f8_3af9d350abc5row11_col0\" class=\"data row11 col0\" >2020-06-01</td>\n",
       "                        <td id=\"T_29834a0a_88ac_11eb_b8f8_3af9d350abc5row11_col1\" class=\"data row11 col1\" >positive</td>\n",
       "                        <td id=\"T_29834a0a_88ac_11eb_b8f8_3af9d350abc5row11_col2\" class=\"data row11 col2\" >20192</td>\n",
       "            </tr>\n",
       "            <tr>\n",
       "                        <th id=\"T_29834a0a_88ac_11eb_b8f8_3af9d350abc5level0_row12\" class=\"row_heading level0 row12\" >12</th>\n",
       "                        <td id=\"T_29834a0a_88ac_11eb_b8f8_3af9d350abc5row12_col0\" class=\"data row12 col0\" >2020-07-01</td>\n",
       "                        <td id=\"T_29834a0a_88ac_11eb_b8f8_3af9d350abc5row12_col1\" class=\"data row12 col1\" >negative</td>\n",
       "                        <td id=\"T_29834a0a_88ac_11eb_b8f8_3af9d350abc5row12_col2\" class=\"data row12 col2\" >14906</td>\n",
       "            </tr>\n",
       "            <tr>\n",
       "                        <th id=\"T_29834a0a_88ac_11eb_b8f8_3af9d350abc5level0_row13\" class=\"row_heading level0 row13\" >13</th>\n",
       "                        <td id=\"T_29834a0a_88ac_11eb_b8f8_3af9d350abc5row13_col0\" class=\"data row13 col0\" >2020-07-01</td>\n",
       "                        <td id=\"T_29834a0a_88ac_11eb_b8f8_3af9d350abc5row13_col1\" class=\"data row13 col1\" >neutral</td>\n",
       "                        <td id=\"T_29834a0a_88ac_11eb_b8f8_3af9d350abc5row13_col2\" class=\"data row13 col2\" >30238</td>\n",
       "            </tr>\n",
       "            <tr>\n",
       "                        <th id=\"T_29834a0a_88ac_11eb_b8f8_3af9d350abc5level0_row14\" class=\"row_heading level0 row14\" >14</th>\n",
       "                        <td id=\"T_29834a0a_88ac_11eb_b8f8_3af9d350abc5row14_col0\" class=\"data row14 col0\" >2020-07-01</td>\n",
       "                        <td id=\"T_29834a0a_88ac_11eb_b8f8_3af9d350abc5row14_col1\" class=\"data row14 col1\" >positive</td>\n",
       "                        <td id=\"T_29834a0a_88ac_11eb_b8f8_3af9d350abc5row14_col2\" class=\"data row14 col2\" >11944</td>\n",
       "            </tr>\n",
       "            <tr>\n",
       "                        <th id=\"T_29834a0a_88ac_11eb_b8f8_3af9d350abc5level0_row15\" class=\"row_heading level0 row15\" >15</th>\n",
       "                        <td id=\"T_29834a0a_88ac_11eb_b8f8_3af9d350abc5row15_col0\" class=\"data row15 col0\" >2020-08-01</td>\n",
       "                        <td id=\"T_29834a0a_88ac_11eb_b8f8_3af9d350abc5row15_col1\" class=\"data row15 col1\" >negative</td>\n",
       "                        <td id=\"T_29834a0a_88ac_11eb_b8f8_3af9d350abc5row15_col2\" class=\"data row15 col2\" >4704</td>\n",
       "            </tr>\n",
       "            <tr>\n",
       "                        <th id=\"T_29834a0a_88ac_11eb_b8f8_3af9d350abc5level0_row16\" class=\"row_heading level0 row16\" >16</th>\n",
       "                        <td id=\"T_29834a0a_88ac_11eb_b8f8_3af9d350abc5row16_col0\" class=\"data row16 col0\" >2020-08-01</td>\n",
       "                        <td id=\"T_29834a0a_88ac_11eb_b8f8_3af9d350abc5row16_col1\" class=\"data row16 col1\" >neutral</td>\n",
       "                        <td id=\"T_29834a0a_88ac_11eb_b8f8_3af9d350abc5row16_col2\" class=\"data row16 col2\" >15722</td>\n",
       "            </tr>\n",
       "            <tr>\n",
       "                        <th id=\"T_29834a0a_88ac_11eb_b8f8_3af9d350abc5level0_row17\" class=\"row_heading level0 row17\" >17</th>\n",
       "                        <td id=\"T_29834a0a_88ac_11eb_b8f8_3af9d350abc5row17_col0\" class=\"data row17 col0\" >2020-08-01</td>\n",
       "                        <td id=\"T_29834a0a_88ac_11eb_b8f8_3af9d350abc5row17_col1\" class=\"data row17 col1\" >positive</td>\n",
       "                        <td id=\"T_29834a0a_88ac_11eb_b8f8_3af9d350abc5row17_col2\" class=\"data row17 col2\" >8166</td>\n",
       "            </tr>\n",
       "    </tbody></table>"
      ],
      "text/plain": [
       "<pandas.io.formats.style.Styler at 0x11c689f28>"
      ]
     },
     "execution_count": 26,
     "metadata": {},
     "output_type": "execute_result"
    }
   ],
   "source": [
    "df = json_normalize(\n",
    "        wirecard_result['aggregations']['group-by'],\n",
    "        ['groups', 'group-by', 'groups', 'group-by', 'groups'],\n",
    "        [['groups', 'value']],\n",
    "        errors='ignore')\n",
    "\n",
    "df = df.rename(columns={'value': 'Sentiment', 'metrics.document-count': 'Count', 'groups.value': 'Date'})\n",
    "df = df.reindex(columns=['Date', 'Sentiment', 'Count'])\n",
    "\n",
    "df.style.set_caption('Sentiment towards Wirecard')"
   ]
  },
  {
   "cell_type": "markdown",
   "metadata": {},
   "source": [
    "We can also plot the results to observe the temporal changes in sentiment"
   ]
  },
  {
   "cell_type": "code",
   "execution_count": 27,
   "metadata": {
    "scrolled": true
   },
   "outputs": [
    {
     "data": {
      "image/png": "[encoded data removed]",
      "text/plain": [
       "<Figure size 700x300 with 1 Axes>"
      ]
     },
     "metadata": {},
     "output_type": "display_data"
    }
   ],
   "source": [
    "import matplotlib.pyplot as plt\n",
    "%matplotlib inline\n",
    "\n",
    "fig = plt.figure(figsize=[7,3], dpi=100, facecolor='w')\n",
    "ax1 = plt.subplot(111)\n",
    "groupedby_sentiment = df.groupby('Sentiment')\n",
    "plot = groupedby_sentiment.plot(kind='line', x='Date', y='Count', ax = ax1)\n",
    "groups = [group for group,_ in groupedby_sentiment]\n",
    "ax1.legend(groups)\n",
    "_ = ax1.set_title('Sentiment towards Wirecard over time')"
   ]
  },
  {
   "cell_type": "markdown",
   "metadata": {},
   "source": [
    "### 2. Sentiment for an entity in relation to a set of key topics"
   ]
  },
  {
   "cell_type": "markdown",
   "metadata": {},
   "source": [
    "**Use case question**:\n",
    "\n",
    "- How is sentiment towards organisations in my portfolio trending in relation to a set of key topics? "
   ]
  },
  {
   "cell_type": "markdown",
   "metadata": {},
   "source": [
    "**Example**: Sentiment trending around 7 car manufacturers in January 2021 and in relation to a set of 6 strategic topics"
   ]
  },
  {
   "cell_type": "code",
   "execution_count": 28,
   "metadata": {},
   "outputs": [],
   "source": [
    "topics_ids = [\n",
    "    \"fc31abf2-7b11-4ed5-a7d2-35266057c0dd\", \n",
    "    \"c3e9ec2f-e225-4955-9dbf-5480ce3d30fe\", \n",
    "    \"a301b00d-f4ef-49fb-9224-f52386d4955e\", \n",
    "    \"fdcb69a5-8aa6-4067-a29b-f064321e1d7d\", \n",
    "    \"4249987d-5b02-4e51-9c44-019dd8e39742\", \n",
    "    \"8de14dc1-6a93-4d1f-b755-a8d7aa570187\"\n",
    "    ] ## IDs of the following topics: Innovation, Patents & Invention, Corporate Culture, Corporate Governance, Corporate Responsibility, Sustainability\n",
    "\n",
    "entity_ids = [\n",
    "    \"d6341968-83df-441c-a869-fa7ae9c22c73\", \n",
    "    \"d7f0268d-1322-32b2-83d9-bb6fa9922506\", \n",
    "    \"a9cf01c5-751f-4fe5-a529-12e0d297cb63\", \n",
    "    \"c4ad0758-f3ee-4002-84aa-10849a153d75\", \n",
    "    \"06608104-0136-4371-ad04-be40fcc306a4\", \n",
    "    \"11cab8df-4be1-470f-8f49-8f7f0863ec95\", \n",
    "    \"946b44a8-b767-40ca-8093-e90d6af2a9d4\"\n",
    "    ] ##  IDs of the following car manufacturers: Toyota, Volkswagen, General Motors, Honda, BMW, Tesla, Ford\n",
    "\n",
    "query = {\n",
    "    \"where\": {\n",
    "        \"published-at\": {\n",
    "            \"gte\": \"2021-01-01\",\n",
    "            \"lte\": \"2021-01-31\"\n",
    "        }\n",
    "    },\n",
    "    \"aggregations\": {\n",
    "        \"group-by\": [\n",
    "            {\n",
    "                \"dimension\": \"published-at\",\n",
    "                \"interval\": \"month\"\n",
    "            },\n",
    "            # After grouping by month, we should first group by topics...\n",
    "            {\n",
    "                \"dimension\": \"topic\",\n",
    "                \"include\": topics_ids\n",
    "            },\n",
    "            # ...then by entities\n",
    "            {\n",
    "                \"dimension\": \"entity\",\n",
    "                \"include\": entity_ids\n",
    "            },\n",
    "            {\n",
    "                \"dimension\": \"entity.sentiment\"\n",
    "            }\n",
    "        ],\n",
    "        \"metrics\": [\"document-count\"]\n",
    "    }\n",
    "}\n",
    "\n",
    "car_manufacturers_result = request(json=query).json()"
   ]
  },
  {
   "cell_type": "code",
   "execution_count": 29,
   "metadata": {
    "scrolled": true
   },
   "outputs": [
    {
     "data": {
      "text/html": [
       "<style  type=\"text/css\" >\n",
       "</style><table id=\"T_852be31c_88ac_11eb_821a_3af9d350abc5\" ><caption>Sentiment breakdown by car manufacturer and topic</caption><thead>    <tr>        <th class=\"blank level0\" ></th>        <th class=\"col_heading level0 col0\" >Date</th>        <th class=\"col_heading level0 col1\" >Topic</th>        <th class=\"col_heading level0 col2\" >Entity</th>        <th class=\"col_heading level0 col3\" >Sentiment</th>        <th class=\"col_heading level0 col4\" >Count</th>    </tr></thead><tbody>\n",
       "                <tr>\n",
       "                        <th id=\"T_852be31c_88ac_11eb_821a_3af9d350abc5level0_row0\" class=\"row_heading level0 row0\" >44</th>\n",
       "                        <td id=\"T_852be31c_88ac_11eb_821a_3af9d350abc5row0_col0\" class=\"data row0 col0\" >2021-01-01</td>\n",
       "                        <td id=\"T_852be31c_88ac_11eb_821a_3af9d350abc5row0_col1\" class=\"data row0 col1\" >Sustainability</td>\n",
       "                        <td id=\"T_852be31c_88ac_11eb_821a_3af9d350abc5row0_col2\" class=\"data row0 col2\" >Tesla, Inc.</td>\n",
       "                        <td id=\"T_852be31c_88ac_11eb_821a_3af9d350abc5row0_col3\" class=\"data row0 col3\" >positive</td>\n",
       "                        <td id=\"T_852be31c_88ac_11eb_821a_3af9d350abc5row0_col4\" class=\"data row0 col4\" >44003</td>\n",
       "            </tr>\n",
       "            <tr>\n",
       "                        <th id=\"T_852be31c_88ac_11eb_821a_3af9d350abc5level0_row1\" class=\"row_heading level0 row1\" >5</th>\n",
       "                        <td id=\"T_852be31c_88ac_11eb_821a_3af9d350abc5row1_col0\" class=\"data row1 col0\" >2021-01-01</td>\n",
       "                        <td id=\"T_852be31c_88ac_11eb_821a_3af9d350abc5row1_col1\" class=\"data row1 col1\" >Innovation</td>\n",
       "                        <td id=\"T_852be31c_88ac_11eb_821a_3af9d350abc5row1_col2\" class=\"data row1 col2\" >Tesla, Inc.</td>\n",
       "                        <td id=\"T_852be31c_88ac_11eb_821a_3af9d350abc5row1_col3\" class=\"data row1 col3\" >positive</td>\n",
       "                        <td id=\"T_852be31c_88ac_11eb_821a_3af9d350abc5row1_col4\" class=\"data row1 col4\" >21166</td>\n",
       "            </tr>\n",
       "            <tr>\n",
       "                        <th id=\"T_852be31c_88ac_11eb_821a_3af9d350abc5level0_row2\" class=\"row_heading level0 row2\" >47</th>\n",
       "                        <td id=\"T_852be31c_88ac_11eb_821a_3af9d350abc5row2_col0\" class=\"data row2 col0\" >2021-01-01</td>\n",
       "                        <td id=\"T_852be31c_88ac_11eb_821a_3af9d350abc5row2_col1\" class=\"data row2 col1\" >Sustainability</td>\n",
       "                        <td id=\"T_852be31c_88ac_11eb_821a_3af9d350abc5row2_col2\" class=\"data row2 col2\" >General Motors</td>\n",
       "                        <td id=\"T_852be31c_88ac_11eb_821a_3af9d350abc5row2_col3\" class=\"data row2 col3\" >positive</td>\n",
       "                        <td id=\"T_852be31c_88ac_11eb_821a_3af9d350abc5row2_col4\" class=\"data row2 col4\" >19695</td>\n",
       "            </tr>\n",
       "            <tr>\n",
       "                        <th id=\"T_852be31c_88ac_11eb_821a_3af9d350abc5level0_row3\" class=\"row_heading level0 row3\" >2</th>\n",
       "                        <td id=\"T_852be31c_88ac_11eb_821a_3af9d350abc5row3_col0\" class=\"data row3 col0\" >2021-01-01</td>\n",
       "                        <td id=\"T_852be31c_88ac_11eb_821a_3af9d350abc5row3_col1\" class=\"data row3 col1\" >Innovation</td>\n",
       "                        <td id=\"T_852be31c_88ac_11eb_821a_3af9d350abc5row3_col2\" class=\"data row3 col2\" >General Motors</td>\n",
       "                        <td id=\"T_852be31c_88ac_11eb_821a_3af9d350abc5row3_col3\" class=\"data row3 col3\" >positive</td>\n",
       "                        <td id=\"T_852be31c_88ac_11eb_821a_3af9d350abc5row3_col4\" class=\"data row3 col4\" >18603</td>\n",
       "            </tr>\n",
       "            <tr>\n",
       "                        <th id=\"T_852be31c_88ac_11eb_821a_3af9d350abc5level0_row4\" class=\"row_heading level0 row4\" >8</th>\n",
       "                        <td id=\"T_852be31c_88ac_11eb_821a_3af9d350abc5row4_col0\" class=\"data row4 col0\" >2021-01-01</td>\n",
       "                        <td id=\"T_852be31c_88ac_11eb_821a_3af9d350abc5row4_col1\" class=\"data row4 col1\" >Innovation</td>\n",
       "                        <td id=\"T_852be31c_88ac_11eb_821a_3af9d350abc5row4_col2\" class=\"data row4 col2\" >Toyota</td>\n",
       "                        <td id=\"T_852be31c_88ac_11eb_821a_3af9d350abc5row4_col3\" class=\"data row4 col3\" >positive</td>\n",
       "                        <td id=\"T_852be31c_88ac_11eb_821a_3af9d350abc5row4_col4\" class=\"data row4 col4\" >17385</td>\n",
       "            </tr>\n",
       "            <tr>\n",
       "                        <th id=\"T_852be31c_88ac_11eb_821a_3af9d350abc5level0_row5\" class=\"row_heading level0 row5\" >50</th>\n",
       "                        <td id=\"T_852be31c_88ac_11eb_821a_3af9d350abc5row5_col0\" class=\"data row5 col0\" >2021-01-01</td>\n",
       "                        <td id=\"T_852be31c_88ac_11eb_821a_3af9d350abc5row5_col1\" class=\"data row5 col1\" >Sustainability</td>\n",
       "                        <td id=\"T_852be31c_88ac_11eb_821a_3af9d350abc5row5_col2\" class=\"data row5 col2\" >BMW</td>\n",
       "                        <td id=\"T_852be31c_88ac_11eb_821a_3af9d350abc5row5_col3\" class=\"data row5 col3\" >positive</td>\n",
       "                        <td id=\"T_852be31c_88ac_11eb_821a_3af9d350abc5row5_col4\" class=\"data row5 col4\" >17064</td>\n",
       "            </tr>\n",
       "            <tr>\n",
       "                        <th id=\"T_852be31c_88ac_11eb_821a_3af9d350abc5level0_row6\" class=\"row_heading level0 row6\" >68</th>\n",
       "                        <td id=\"T_852be31c_88ac_11eb_821a_3af9d350abc5row6_col0\" class=\"data row6 col0\" >2021-01-01</td>\n",
       "                        <td id=\"T_852be31c_88ac_11eb_821a_3af9d350abc5row6_col1\" class=\"data row6 col1\" >Corporate Responsibility</td>\n",
       "                        <td id=\"T_852be31c_88ac_11eb_821a_3af9d350abc5row6_col2\" class=\"data row6 col2\" >Tesla, Inc.</td>\n",
       "                        <td id=\"T_852be31c_88ac_11eb_821a_3af9d350abc5row6_col3\" class=\"data row6 col3\" >positive</td>\n",
       "                        <td id=\"T_852be31c_88ac_11eb_821a_3af9d350abc5row6_col4\" class=\"data row6 col4\" >6974</td>\n",
       "            </tr>\n",
       "            <tr>\n",
       "                        <th id=\"T_852be31c_88ac_11eb_821a_3af9d350abc5level0_row7\" class=\"row_heading level0 row7\" >22</th>\n",
       "                        <td id=\"T_852be31c_88ac_11eb_821a_3af9d350abc5row7_col0\" class=\"data row7 col0\" >2021-01-01</td>\n",
       "                        <td id=\"T_852be31c_88ac_11eb_821a_3af9d350abc5row7_col1\" class=\"data row7 col1\" >Corporate Governance</td>\n",
       "                        <td id=\"T_852be31c_88ac_11eb_821a_3af9d350abc5row7_col2\" class=\"data row7 col2\" >Tesla, Inc.</td>\n",
       "                        <td id=\"T_852be31c_88ac_11eb_821a_3af9d350abc5row7_col3\" class=\"data row7 col3\" >neutral</td>\n",
       "                        <td id=\"T_852be31c_88ac_11eb_821a_3af9d350abc5row7_col4\" class=\"data row7 col4\" >5929</td>\n",
       "            </tr>\n",
       "            <tr>\n",
       "                        <th id=\"T_852be31c_88ac_11eb_821a_3af9d350abc5level0_row8\" class=\"row_heading level0 row8\" >65</th>\n",
       "                        <td id=\"T_852be31c_88ac_11eb_821a_3af9d350abc5row8_col0\" class=\"data row8 col0\" >2021-01-01</td>\n",
       "                        <td id=\"T_852be31c_88ac_11eb_821a_3af9d350abc5row8_col1\" class=\"data row8 col1\" >Corporate Responsibility</td>\n",
       "                        <td id=\"T_852be31c_88ac_11eb_821a_3af9d350abc5row8_col2\" class=\"data row8 col2\" >General Motors</td>\n",
       "                        <td id=\"T_852be31c_88ac_11eb_821a_3af9d350abc5row8_col3\" class=\"data row8 col3\" >positive</td>\n",
       "                        <td id=\"T_852be31c_88ac_11eb_821a_3af9d350abc5row8_col4\" class=\"data row8 col4\" >4364</td>\n",
       "            </tr>\n",
       "            <tr>\n",
       "                        <th id=\"T_852be31c_88ac_11eb_821a_3af9d350abc5level0_row9\" class=\"row_heading level0 row9\" >86</th>\n",
       "                        <td id=\"T_852be31c_88ac_11eb_821a_3af9d350abc5row9_col0\" class=\"data row9 col0\" >2021-01-01</td>\n",
       "                        <td id=\"T_852be31c_88ac_11eb_821a_3af9d350abc5row9_col1\" class=\"data row9 col1\" >Patents & Inventions</td>\n",
       "                        <td id=\"T_852be31c_88ac_11eb_821a_3af9d350abc5row9_col2\" class=\"data row9 col2\" >Tesla, Inc.</td>\n",
       "                        <td id=\"T_852be31c_88ac_11eb_821a_3af9d350abc5row9_col3\" class=\"data row9 col3\" >positive</td>\n",
       "                        <td id=\"T_852be31c_88ac_11eb_821a_3af9d350abc5row9_col4\" class=\"data row9 col4\" >4154</td>\n",
       "            </tr>\n",
       "            <tr>\n",
       "                        <th id=\"T_852be31c_88ac_11eb_821a_3af9d350abc5level0_row10\" class=\"row_heading level0 row10\" >26</th>\n",
       "                        <td id=\"T_852be31c_88ac_11eb_821a_3af9d350abc5row10_col0\" class=\"data row10 col0\" >2021-01-01</td>\n",
       "                        <td id=\"T_852be31c_88ac_11eb_821a_3af9d350abc5row10_col1\" class=\"data row10 col1\" >Corporate Governance</td>\n",
       "                        <td id=\"T_852be31c_88ac_11eb_821a_3af9d350abc5row10_col2\" class=\"data row10 col2\" >General Motors</td>\n",
       "                        <td id=\"T_852be31c_88ac_11eb_821a_3af9d350abc5row10_col3\" class=\"data row10 col3\" >positive</td>\n",
       "                        <td id=\"T_852be31c_88ac_11eb_821a_3af9d350abc5row10_col4\" class=\"data row10 col4\" >3835</td>\n",
       "            </tr>\n",
       "            <tr>\n",
       "                        <th id=\"T_852be31c_88ac_11eb_821a_3af9d350abc5level0_row11\" class=\"row_heading level0 row11\" >89</th>\n",
       "                        <td id=\"T_852be31c_88ac_11eb_821a_3af9d350abc5row11_col0\" class=\"data row11 col0\" >2021-01-01</td>\n",
       "                        <td id=\"T_852be31c_88ac_11eb_821a_3af9d350abc5row11_col1\" class=\"data row11 col1\" >Patents & Inventions</td>\n",
       "                        <td id=\"T_852be31c_88ac_11eb_821a_3af9d350abc5row11_col2\" class=\"data row11 col2\" >Toyota</td>\n",
       "                        <td id=\"T_852be31c_88ac_11eb_821a_3af9d350abc5row11_col3\" class=\"data row11 col3\" >positive</td>\n",
       "                        <td id=\"T_852be31c_88ac_11eb_821a_3af9d350abc5row11_col4\" class=\"data row11 col4\" >3784</td>\n",
       "            </tr>\n",
       "            <tr>\n",
       "                        <th id=\"T_852be31c_88ac_11eb_821a_3af9d350abc5level0_row12\" class=\"row_heading level0 row12\" >23</th>\n",
       "                        <td id=\"T_852be31c_88ac_11eb_821a_3af9d350abc5row12_col0\" class=\"data row12 col0\" >2021-01-01</td>\n",
       "                        <td id=\"T_852be31c_88ac_11eb_821a_3af9d350abc5row12_col1\" class=\"data row12 col1\" >Corporate Governance</td>\n",
       "                        <td id=\"T_852be31c_88ac_11eb_821a_3af9d350abc5row12_col2\" class=\"data row12 col2\" >Tesla, Inc.</td>\n",
       "                        <td id=\"T_852be31c_88ac_11eb_821a_3af9d350abc5row12_col3\" class=\"data row12 col3\" >positive</td>\n",
       "                        <td id=\"T_852be31c_88ac_11eb_821a_3af9d350abc5row12_col4\" class=\"data row12 col4\" >3593</td>\n",
       "            </tr>\n",
       "            <tr>\n",
       "                        <th id=\"T_852be31c_88ac_11eb_821a_3af9d350abc5level0_row13\" class=\"row_heading level0 row13\" >71</th>\n",
       "                        <td id=\"T_852be31c_88ac_11eb_821a_3af9d350abc5row13_col0\" class=\"data row13 col0\" >2021-01-01</td>\n",
       "                        <td id=\"T_852be31c_88ac_11eb_821a_3af9d350abc5row13_col1\" class=\"data row13 col1\" >Corporate Responsibility</td>\n",
       "                        <td id=\"T_852be31c_88ac_11eb_821a_3af9d350abc5row13_col2\" class=\"data row13 col2\" >BMW</td>\n",
       "                        <td id=\"T_852be31c_88ac_11eb_821a_3af9d350abc5row13_col3\" class=\"data row13 col3\" >positive</td>\n",
       "                        <td id=\"T_852be31c_88ac_11eb_821a_3af9d350abc5row13_col4\" class=\"data row13 col4\" >2601</td>\n",
       "            </tr>\n",
       "            <tr>\n",
       "                        <th id=\"T_852be31c_88ac_11eb_821a_3af9d350abc5level0_row14\" class=\"row_heading level0 row14\" >92</th>\n",
       "                        <td id=\"T_852be31c_88ac_11eb_821a_3af9d350abc5row14_col0\" class=\"data row14 col0\" >2021-01-01</td>\n",
       "                        <td id=\"T_852be31c_88ac_11eb_821a_3af9d350abc5row14_col1\" class=\"data row14 col1\" >Patents & Inventions</td>\n",
       "                        <td id=\"T_852be31c_88ac_11eb_821a_3af9d350abc5row14_col2\" class=\"data row14 col2\" >General Motors</td>\n",
       "                        <td id=\"T_852be31c_88ac_11eb_821a_3af9d350abc5row14_col3\" class=\"data row14 col3\" >positive</td>\n",
       "                        <td id=\"T_852be31c_88ac_11eb_821a_3af9d350abc5row14_col4\" class=\"data row14 col4\" >2562</td>\n",
       "            </tr>\n",
       "            <tr>\n",
       "                        <th id=\"T_852be31c_88ac_11eb_821a_3af9d350abc5level0_row15\" class=\"row_heading level0 row15\" >110</th>\n",
       "                        <td id=\"T_852be31c_88ac_11eb_821a_3af9d350abc5row15_col0\" class=\"data row15 col0\" >2021-01-01</td>\n",
       "                        <td id=\"T_852be31c_88ac_11eb_821a_3af9d350abc5row15_col1\" class=\"data row15 col1\" >Corporate culture</td>\n",
       "                        <td id=\"T_852be31c_88ac_11eb_821a_3af9d350abc5row15_col2\" class=\"data row15 col2\" >Ford Motor Company</td>\n",
       "                        <td id=\"T_852be31c_88ac_11eb_821a_3af9d350abc5row15_col3\" class=\"data row15 col3\" >positive</td>\n",
       "                        <td id=\"T_852be31c_88ac_11eb_821a_3af9d350abc5row15_col4\" class=\"data row15 col4\" >876</td>\n",
       "            </tr>\n",
       "            <tr>\n",
       "                        <th id=\"T_852be31c_88ac_11eb_821a_3af9d350abc5level0_row16\" class=\"row_heading level0 row16\" >109</th>\n",
       "                        <td id=\"T_852be31c_88ac_11eb_821a_3af9d350abc5row16_col0\" class=\"data row16 col0\" >2021-01-01</td>\n",
       "                        <td id=\"T_852be31c_88ac_11eb_821a_3af9d350abc5row16_col1\" class=\"data row16 col1\" >Corporate culture</td>\n",
       "                        <td id=\"T_852be31c_88ac_11eb_821a_3af9d350abc5row16_col2\" class=\"data row16 col2\" >Ford Motor Company</td>\n",
       "                        <td id=\"T_852be31c_88ac_11eb_821a_3af9d350abc5row16_col3\" class=\"data row16 col3\" >neutral</td>\n",
       "                        <td id=\"T_852be31c_88ac_11eb_821a_3af9d350abc5row16_col4\" class=\"data row16 col4\" >790</td>\n",
       "            </tr>\n",
       "            <tr>\n",
       "                        <th id=\"T_852be31c_88ac_11eb_821a_3af9d350abc5level0_row17\" class=\"row_heading level0 row17\" >107</th>\n",
       "                        <td id=\"T_852be31c_88ac_11eb_821a_3af9d350abc5row17_col0\" class=\"data row17 col0\" >2021-01-01</td>\n",
       "                        <td id=\"T_852be31c_88ac_11eb_821a_3af9d350abc5row17_col1\" class=\"data row17 col1\" >Corporate culture</td>\n",
       "                        <td id=\"T_852be31c_88ac_11eb_821a_3af9d350abc5row17_col2\" class=\"data row17 col2\" >Tesla, Inc.</td>\n",
       "                        <td id=\"T_852be31c_88ac_11eb_821a_3af9d350abc5row17_col3\" class=\"data row17 col3\" >positive</td>\n",
       "                        <td id=\"T_852be31c_88ac_11eb_821a_3af9d350abc5row17_col4\" class=\"data row17 col4\" >700</td>\n",
       "            </tr>\n",
       "    </tbody></table>"
      ],
      "text/plain": [
       "<pandas.io.formats.style.Styler at 0x11c6f9e80>"
      ]
     },
     "execution_count": 29,
     "metadata": {},
     "output_type": "execute_result"
    }
   ],
   "source": [
    "df = json_normalize(\n",
    "    car_manufacturers_result['aggregations']['group-by'],\n",
    "    ['groups', 'group-by', 'groups', 'group-by', 'groups', 'group-by', 'groups'],\n",
    "    [['groups', 'value'], \n",
    "     ['groups', 'group-by', 'groups', 'value'], \n",
    "     ['groups', 'group-by', 'groups', 'group-by', 'groups', 'value']],\n",
    "    errors='ignore')\n",
    "\n",
    "df = df.rename(columns={'value': 'Sentiment', \n",
    "                        'metrics.document-count': 'Count', \n",
    "                        'groups.value': 'Date', \n",
    "                        'groups.group-by.groups.value': 'Topic', \n",
    "                        'groups.group-by.groups.group-by.groups.value': 'Entity'})\n",
    "\n",
    "df['Topic'] = df['Topic'].apply(lambda x: x['name'])\n",
    "df['Entity'] = df['Entity'].apply(lambda x: x['name'])\n",
    "\n",
    "df = df.reindex(columns=['Date', 'Topic', 'Entity', 'Sentiment', 'Count'])\n",
    "\n",
    "# Take top 3 rows by document count for each topic \n",
    "df = df.sort_values('Count', ascending = False).groupby('Topic').head(3)\n",
    "\n",
    "df.style.set_caption('Sentiment breakdown by car manufacturer and topic')"
   ]
  },
  {
   "cell_type": "markdown",
   "metadata": {},
   "source": [
    "### 3. News coverage and sentiment around an entity in different locations"
   ]
  },
  {
   "cell_type": "markdown",
   "metadata": {},
   "source": [
    "**Use case question**:\n",
    "\n",
    "- How do news coverage and sentiment around my agency’s clients vary across different countries?"
   ]
  },
  {
   "cell_type": "markdown",
   "metadata": {},
   "source": [
    "**Example**: Coverage and sentiment around Uber in February 2021 and in 5 different countries"
   ]
  },
  {
   "cell_type": "code",
   "execution_count": 30,
   "metadata": {},
   "outputs": [],
   "source": [
    "entity_id = \"0c20f04a-94ef-467c-921d-f89f8895c41a\" ##  ID for Uber\n",
    "countries = [\n",
    "    \"United States\", \n",
    "    \"United Kingdom\", \n",
    "    \"Germany\", \n",
    "    \"France\", \n",
    "    \"Spain\"\n",
    "    ]\n",
    "\n",
    "query = {\n",
    "    \"where\": {\n",
    "        \"published-at\": {\n",
    "            \"gte\": \"2021-02-01\",\n",
    "            \"lte\": \"2021-02-28\"\n",
    "        },\n",
    "        # Here we can narrow our search by selecting only the documents where Uber is mentioned\n",
    "        \"entities\": {\n",
    "            \"id\": {\n",
    "                \"eq\": entity_id\n",
    "            }\n",
    "        }\n",
    "    },\n",
    "    \"aggregations\": {\n",
    "        \"group-by\": [\n",
    "            {\n",
    "                \"dimension\": \"source.country\",\n",
    "                \"include\": countries\n",
    "            },\n",
    "            {\n",
    "                \"dimension\": \"entity\",\n",
    "                \"include\": [\n",
    "                    entity_id\n",
    "                ]\n",
    "            },\n",
    "            {\n",
    "                \"dimension\": \"entity.sentiment\"\n",
    "            }\n",
    "        ],\n",
    "        \"metrics\": [\"document-count\"]\n",
    "    }\n",
    "}\n",
    "\n",
    "uber_result = request(json=query).json()"
   ]
  },
  {
   "cell_type": "code",
   "execution_count": 31,
   "metadata": {},
   "outputs": [
    {
     "data": {
      "text/html": [
       "<style  type=\"text/css\" >\n",
       "</style><table id=\"T_a0a9bc40_88ac_11eb_8f45_3af9d350abc5\" ><caption>Sentiment towards Uber in February 2021</caption><thead>    <tr>        <th class=\"blank level0\" ></th>        <th class=\"col_heading level0 col0\" >Country</th>        <th class=\"col_heading level0 col1\" >Sentiment</th>        <th class=\"col_heading level0 col2\" >Count</th>    </tr></thead><tbody>\n",
       "                <tr>\n",
       "                        <th id=\"T_a0a9bc40_88ac_11eb_8f45_3af9d350abc5level0_row0\" class=\"row_heading level0 row0\" >0</th>\n",
       "                        <td id=\"T_a0a9bc40_88ac_11eb_8f45_3af9d350abc5row0_col0\" class=\"data row0 col0\" >United States</td>\n",
       "                        <td id=\"T_a0a9bc40_88ac_11eb_8f45_3af9d350abc5row0_col1\" class=\"data row0 col1\" >negative</td>\n",
       "                        <td id=\"T_a0a9bc40_88ac_11eb_8f45_3af9d350abc5row0_col2\" class=\"data row0 col2\" >6646</td>\n",
       "            </tr>\n",
       "            <tr>\n",
       "                        <th id=\"T_a0a9bc40_88ac_11eb_8f45_3af9d350abc5level0_row1\" class=\"row_heading level0 row1\" >1</th>\n",
       "                        <td id=\"T_a0a9bc40_88ac_11eb_8f45_3af9d350abc5row1_col0\" class=\"data row1 col0\" >United States</td>\n",
       "                        <td id=\"T_a0a9bc40_88ac_11eb_8f45_3af9d350abc5row1_col1\" class=\"data row1 col1\" >neutral</td>\n",
       "                        <td id=\"T_a0a9bc40_88ac_11eb_8f45_3af9d350abc5row1_col2\" class=\"data row1 col2\" >27516</td>\n",
       "            </tr>\n",
       "            <tr>\n",
       "                        <th id=\"T_a0a9bc40_88ac_11eb_8f45_3af9d350abc5level0_row2\" class=\"row_heading level0 row2\" >2</th>\n",
       "                        <td id=\"T_a0a9bc40_88ac_11eb_8f45_3af9d350abc5row2_col0\" class=\"data row2 col0\" >United States</td>\n",
       "                        <td id=\"T_a0a9bc40_88ac_11eb_8f45_3af9d350abc5row2_col1\" class=\"data row2 col1\" >positive</td>\n",
       "                        <td id=\"T_a0a9bc40_88ac_11eb_8f45_3af9d350abc5row2_col2\" class=\"data row2 col2\" >18721</td>\n",
       "            </tr>\n",
       "            <tr>\n",
       "                        <th id=\"T_a0a9bc40_88ac_11eb_8f45_3af9d350abc5level0_row3\" class=\"row_heading level0 row3\" >3</th>\n",
       "                        <td id=\"T_a0a9bc40_88ac_11eb_8f45_3af9d350abc5row3_col0\" class=\"data row3 col0\" >United Kingdom</td>\n",
       "                        <td id=\"T_a0a9bc40_88ac_11eb_8f45_3af9d350abc5row3_col1\" class=\"data row3 col1\" >negative</td>\n",
       "                        <td id=\"T_a0a9bc40_88ac_11eb_8f45_3af9d350abc5row3_col2\" class=\"data row3 col2\" >3420</td>\n",
       "            </tr>\n",
       "            <tr>\n",
       "                        <th id=\"T_a0a9bc40_88ac_11eb_8f45_3af9d350abc5level0_row4\" class=\"row_heading level0 row4\" >4</th>\n",
       "                        <td id=\"T_a0a9bc40_88ac_11eb_8f45_3af9d350abc5row4_col0\" class=\"data row4 col0\" >United Kingdom</td>\n",
       "                        <td id=\"T_a0a9bc40_88ac_11eb_8f45_3af9d350abc5row4_col1\" class=\"data row4 col1\" >neutral</td>\n",
       "                        <td id=\"T_a0a9bc40_88ac_11eb_8f45_3af9d350abc5row4_col2\" class=\"data row4 col2\" >6322</td>\n",
       "            </tr>\n",
       "            <tr>\n",
       "                        <th id=\"T_a0a9bc40_88ac_11eb_8f45_3af9d350abc5level0_row5\" class=\"row_heading level0 row5\" >5</th>\n",
       "                        <td id=\"T_a0a9bc40_88ac_11eb_8f45_3af9d350abc5row5_col0\" class=\"data row5 col0\" >United Kingdom</td>\n",
       "                        <td id=\"T_a0a9bc40_88ac_11eb_8f45_3af9d350abc5row5_col1\" class=\"data row5 col1\" >positive</td>\n",
       "                        <td id=\"T_a0a9bc40_88ac_11eb_8f45_3af9d350abc5row5_col2\" class=\"data row5 col2\" >2880</td>\n",
       "            </tr>\n",
       "            <tr>\n",
       "                        <th id=\"T_a0a9bc40_88ac_11eb_8f45_3af9d350abc5level0_row6\" class=\"row_heading level0 row6\" >6</th>\n",
       "                        <td id=\"T_a0a9bc40_88ac_11eb_8f45_3af9d350abc5row6_col0\" class=\"data row6 col0\" >Germany</td>\n",
       "                        <td id=\"T_a0a9bc40_88ac_11eb_8f45_3af9d350abc5row6_col1\" class=\"data row6 col1\" >negative</td>\n",
       "                        <td id=\"T_a0a9bc40_88ac_11eb_8f45_3af9d350abc5row6_col2\" class=\"data row6 col2\" >769</td>\n",
       "            </tr>\n",
       "            <tr>\n",
       "                        <th id=\"T_a0a9bc40_88ac_11eb_8f45_3af9d350abc5level0_row7\" class=\"row_heading level0 row7\" >7</th>\n",
       "                        <td id=\"T_a0a9bc40_88ac_11eb_8f45_3af9d350abc5row7_col0\" class=\"data row7 col0\" >Germany</td>\n",
       "                        <td id=\"T_a0a9bc40_88ac_11eb_8f45_3af9d350abc5row7_col1\" class=\"data row7 col1\" >neutral</td>\n",
       "                        <td id=\"T_a0a9bc40_88ac_11eb_8f45_3af9d350abc5row7_col2\" class=\"data row7 col2\" >1323</td>\n",
       "            </tr>\n",
       "            <tr>\n",
       "                        <th id=\"T_a0a9bc40_88ac_11eb_8f45_3af9d350abc5level0_row8\" class=\"row_heading level0 row8\" >8</th>\n",
       "                        <td id=\"T_a0a9bc40_88ac_11eb_8f45_3af9d350abc5row8_col0\" class=\"data row8 col0\" >Germany</td>\n",
       "                        <td id=\"T_a0a9bc40_88ac_11eb_8f45_3af9d350abc5row8_col1\" class=\"data row8 col1\" >positive</td>\n",
       "                        <td id=\"T_a0a9bc40_88ac_11eb_8f45_3af9d350abc5row8_col2\" class=\"data row8 col2\" >1257</td>\n",
       "            </tr>\n",
       "            <tr>\n",
       "                        <th id=\"T_a0a9bc40_88ac_11eb_8f45_3af9d350abc5level0_row9\" class=\"row_heading level0 row9\" >9</th>\n",
       "                        <td id=\"T_a0a9bc40_88ac_11eb_8f45_3af9d350abc5row9_col0\" class=\"data row9 col0\" >France</td>\n",
       "                        <td id=\"T_a0a9bc40_88ac_11eb_8f45_3af9d350abc5row9_col1\" class=\"data row9 col1\" >negative</td>\n",
       "                        <td id=\"T_a0a9bc40_88ac_11eb_8f45_3af9d350abc5row9_col2\" class=\"data row9 col2\" >490</td>\n",
       "            </tr>\n",
       "            <tr>\n",
       "                        <th id=\"T_a0a9bc40_88ac_11eb_8f45_3af9d350abc5level0_row10\" class=\"row_heading level0 row10\" >10</th>\n",
       "                        <td id=\"T_a0a9bc40_88ac_11eb_8f45_3af9d350abc5row10_col0\" class=\"data row10 col0\" >France</td>\n",
       "                        <td id=\"T_a0a9bc40_88ac_11eb_8f45_3af9d350abc5row10_col1\" class=\"data row10 col1\" >neutral</td>\n",
       "                        <td id=\"T_a0a9bc40_88ac_11eb_8f45_3af9d350abc5row10_col2\" class=\"data row10 col2\" >1199</td>\n",
       "            </tr>\n",
       "            <tr>\n",
       "                        <th id=\"T_a0a9bc40_88ac_11eb_8f45_3af9d350abc5level0_row11\" class=\"row_heading level0 row11\" >11</th>\n",
       "                        <td id=\"T_a0a9bc40_88ac_11eb_8f45_3af9d350abc5row11_col0\" class=\"data row11 col0\" >France</td>\n",
       "                        <td id=\"T_a0a9bc40_88ac_11eb_8f45_3af9d350abc5row11_col1\" class=\"data row11 col1\" >positive</td>\n",
       "                        <td id=\"T_a0a9bc40_88ac_11eb_8f45_3af9d350abc5row11_col2\" class=\"data row11 col2\" >1300</td>\n",
       "            </tr>\n",
       "            <tr>\n",
       "                        <th id=\"T_a0a9bc40_88ac_11eb_8f45_3af9d350abc5level0_row12\" class=\"row_heading level0 row12\" >12</th>\n",
       "                        <td id=\"T_a0a9bc40_88ac_11eb_8f45_3af9d350abc5row12_col0\" class=\"data row12 col0\" >Spain</td>\n",
       "                        <td id=\"T_a0a9bc40_88ac_11eb_8f45_3af9d350abc5row12_col1\" class=\"data row12 col1\" >negative</td>\n",
       "                        <td id=\"T_a0a9bc40_88ac_11eb_8f45_3af9d350abc5row12_col2\" class=\"data row12 col2\" >194</td>\n",
       "            </tr>\n",
       "            <tr>\n",
       "                        <th id=\"T_a0a9bc40_88ac_11eb_8f45_3af9d350abc5level0_row13\" class=\"row_heading level0 row13\" >13</th>\n",
       "                        <td id=\"T_a0a9bc40_88ac_11eb_8f45_3af9d350abc5row13_col0\" class=\"data row13 col0\" >Spain</td>\n",
       "                        <td id=\"T_a0a9bc40_88ac_11eb_8f45_3af9d350abc5row13_col1\" class=\"data row13 col1\" >neutral</td>\n",
       "                        <td id=\"T_a0a9bc40_88ac_11eb_8f45_3af9d350abc5row13_col2\" class=\"data row13 col2\" >749</td>\n",
       "            </tr>\n",
       "            <tr>\n",
       "                        <th id=\"T_a0a9bc40_88ac_11eb_8f45_3af9d350abc5level0_row14\" class=\"row_heading level0 row14\" >14</th>\n",
       "                        <td id=\"T_a0a9bc40_88ac_11eb_8f45_3af9d350abc5row14_col0\" class=\"data row14 col0\" >Spain</td>\n",
       "                        <td id=\"T_a0a9bc40_88ac_11eb_8f45_3af9d350abc5row14_col1\" class=\"data row14 col1\" >positive</td>\n",
       "                        <td id=\"T_a0a9bc40_88ac_11eb_8f45_3af9d350abc5row14_col2\" class=\"data row14 col2\" >570</td>\n",
       "            </tr>\n",
       "    </tbody></table>"
      ],
      "text/plain": [
       "<pandas.io.formats.style.Styler at 0x11c806978>"
      ]
     },
     "execution_count": 31,
     "metadata": {},
     "output_type": "execute_result"
    }
   ],
   "source": [
    "df = json_normalize(\n",
    "        uber_result['aggregations']['group-by'],\n",
    "        ['groups', 'group-by', 'groups', 'group-by', 'groups'],\n",
    "        [['groups', 'value']],\n",
    "        errors='ignore')\n",
    "\n",
    "df = df.rename(columns={'value': 'Sentiment', 'metrics.document-count': 'Count', 'groups.value': 'Country'})\n",
    "df = df.reindex(columns=['Country', 'Sentiment', 'Count'])\n",
    "\n",
    "df.style.set_caption('Sentiment towards Uber in February 2021')\n"
   ]
  },
  {
   "cell_type": "markdown",
   "metadata": {},
   "source": [
    "### 4. Difference in coverage and sentiment between entities over time and in relation to different topics"
   ]
  },
  {
   "cell_type": "markdown",
   "metadata": {},
   "source": [
    "**Use case question**:\n",
    "\n",
    "- How do different organisations that I monitor compare with respect to coverage and sentiment in relation to key topics?"
   ]
  },
  {
   "cell_type": "markdown",
   "metadata": {},
   "source": [
    "**Example**: Coverage and sentiment around 4 competitors in the mining industry in the second half of 2020 and in relation to 4 ESG topics"
   ]
  },
  {
   "cell_type": "code",
   "execution_count": 32,
   "metadata": {},
   "outputs": [],
   "source": [
    "topics_ids = [\n",
    "    \"22297881-a936-4b51-a880-a7152c8ecc68\",\n",
    "    \"ff9d1563-570f-4769-bbb5-7f3096beca0a\",\n",
    "    \"8de14dc1-6a93-4d1f-b755-a8d7aa570187\",\n",
    "    \"f8c74a1b-4f44-4a3f-b9bb-9b7cb221eb3f\"\n",
    "    ] ## IDs of the following topics: Environmental Cleanup, Corporate Controversy,  Sustainability, Chemicals\n",
    "\n",
    "entity_ids = [\n",
    "   \"72800724-103f-4370-942a-0e715b58ee4a\",\n",
    "   \"3d885924-a230-4fac-b17a-d5a1c1151cdf\",\n",
    "   \"98eeff9c-6a9a-4d62-801d-eb94b240dd42\",\n",
    "   \"592930e0-70fe-45f7-8a1e-ec504158dbf9\"\n",
    "    ] ##  IDs of the following mining companies: Rio Tinto, BHP, Glencore\n",
    "\n",
    "query = {\n",
    "    \"where\": {\n",
    "        \"published-at\": {\n",
    "            \"gte\": \"2020-07-01\",\n",
    "            \"lte\": \"2020-12-31\"\n",
    "        }\n",
    "    },\n",
    "    \"aggregations\": {\n",
    "        \"group-by\": [\n",
    "            {\n",
    "                \"dimension\": \"published-at\",\n",
    "                \"interval\": \"month\"\n",
    "            },\n",
    "            {\n",
    "                \"dimension\": \"topic\",\n",
    "                \"include\": topics_ids\n",
    "            },\n",
    "            {\n",
    "                \"dimension\": \"entity\",\n",
    "                \"include\": entity_ids\n",
    "            },\n",
    "            {\n",
    "                \"dimension\": \"entity.sentiment\"\n",
    "            }\n",
    "        ],\n",
    "        \"metrics\": [\"document-count\"]\n",
    "    }\n",
    "}\n",
    "\n",
    "mining_companies_result = request(json=query).json()"
   ]
  },
  {
   "cell_type": "code",
   "execution_count": 33,
   "metadata": {},
   "outputs": [
    {
     "data": {
      "text/html": [
       "<style  type=\"text/css\" >\n",
       "</style><table id=\"T_ba59f61e_88ac_11eb_952c_3af9d350abc5\" ><caption>Sentiment breakdown by mining company and topic</caption><thead>    <tr>        <th class=\"blank level0\" ></th>        <th class=\"col_heading level0 col0\" >Date</th>        <th class=\"col_heading level0 col1\" >Topic</th>        <th class=\"col_heading level0 col2\" >Entity</th>        <th class=\"col_heading level0 col3\" >Sentiment</th>        <th class=\"col_heading level0 col4\" >Count</th>    </tr></thead><tbody>\n",
       "                <tr>\n",
       "                        <th id=\"T_ba59f61e_88ac_11eb_952c_3af9d350abc5level0_row0\" class=\"row_heading level0 row0\" >26</th>\n",
       "                        <td id=\"T_ba59f61e_88ac_11eb_952c_3af9d350abc5row0_col0\" class=\"data row0 col0\" >2020-07-01</td>\n",
       "                        <td id=\"T_ba59f61e_88ac_11eb_952c_3af9d350abc5row0_col1\" class=\"data row0 col1\" >Chemicals</td>\n",
       "                        <td id=\"T_ba59f61e_88ac_11eb_952c_3af9d350abc5row0_col2\" class=\"data row0 col2\" >Rio Tinto Group</td>\n",
       "                        <td id=\"T_ba59f61e_88ac_11eb_952c_3af9d350abc5row0_col3\" class=\"data row0 col3\" >positive</td>\n",
       "                        <td id=\"T_ba59f61e_88ac_11eb_952c_3af9d350abc5row0_col4\" class=\"data row0 col4\" >3372</td>\n",
       "            </tr>\n",
       "            <tr>\n",
       "                        <th id=\"T_ba59f61e_88ac_11eb_952c_3af9d350abc5level0_row1\" class=\"row_heading level0 row1\" >278</th>\n",
       "                        <td id=\"T_ba59f61e_88ac_11eb_952c_3af9d350abc5row1_col0\" class=\"data row1 col0\" >2020-12-01</td>\n",
       "                        <td id=\"T_ba59f61e_88ac_11eb_952c_3af9d350abc5row1_col1\" class=\"data row1 col1\" >Chemicals</td>\n",
       "                        <td id=\"T_ba59f61e_88ac_11eb_952c_3af9d350abc5row1_col2\" class=\"data row1 col2\" >Rio Tinto Group</td>\n",
       "                        <td id=\"T_ba59f61e_88ac_11eb_952c_3af9d350abc5row1_col3\" class=\"data row1 col3\" >positive</td>\n",
       "                        <td id=\"T_ba59f61e_88ac_11eb_952c_3af9d350abc5row1_col4\" class=\"data row1 col4\" >3339</td>\n",
       "            </tr>\n",
       "            <tr>\n",
       "                        <th id=\"T_ba59f61e_88ac_11eb_952c_3af9d350abc5level0_row2\" class=\"row_heading level0 row2\" >28</th>\n",
       "                        <td id=\"T_ba59f61e_88ac_11eb_952c_3af9d350abc5row2_col0\" class=\"data row2 col0\" >2020-07-01</td>\n",
       "                        <td id=\"T_ba59f61e_88ac_11eb_952c_3af9d350abc5row2_col1\" class=\"data row2 col1\" >Chemicals</td>\n",
       "                        <td id=\"T_ba59f61e_88ac_11eb_952c_3af9d350abc5row2_col2\" class=\"data row2 col2\" >BHP</td>\n",
       "                        <td id=\"T_ba59f61e_88ac_11eb_952c_3af9d350abc5row2_col3\" class=\"data row2 col3\" >neutral</td>\n",
       "                        <td id=\"T_ba59f61e_88ac_11eb_952c_3af9d350abc5row2_col4\" class=\"data row2 col4\" >3224</td>\n",
       "            </tr>\n",
       "            <tr>\n",
       "                        <th id=\"T_ba59f61e_88ac_11eb_952c_3af9d350abc5level0_row3\" class=\"row_heading level0 row3\" >133</th>\n",
       "                        <td id=\"T_ba59f61e_88ac_11eb_952c_3af9d350abc5row3_col0\" class=\"data row3 col0\" >2020-09-01</td>\n",
       "                        <td id=\"T_ba59f61e_88ac_11eb_952c_3af9d350abc5row3_col1\" class=\"data row3 col1\" >Chemicals</td>\n",
       "                        <td id=\"T_ba59f61e_88ac_11eb_952c_3af9d350abc5row3_col2\" class=\"data row3 col2\" >Rio Tinto Group</td>\n",
       "                        <td id=\"T_ba59f61e_88ac_11eb_952c_3af9d350abc5row3_col3\" class=\"data row3 col3\" >neutral</td>\n",
       "                        <td id=\"T_ba59f61e_88ac_11eb_952c_3af9d350abc5row3_col4\" class=\"data row3 col4\" >2987</td>\n",
       "            </tr>\n",
       "            <tr>\n",
       "                        <th id=\"T_ba59f61e_88ac_11eb_952c_3af9d350abc5level0_row4\" class=\"row_heading level0 row4\" >277</th>\n",
       "                        <td id=\"T_ba59f61e_88ac_11eb_952c_3af9d350abc5row4_col0\" class=\"data row4 col0\" >2020-12-01</td>\n",
       "                        <td id=\"T_ba59f61e_88ac_11eb_952c_3af9d350abc5row4_col1\" class=\"data row4 col1\" >Chemicals</td>\n",
       "                        <td id=\"T_ba59f61e_88ac_11eb_952c_3af9d350abc5row4_col2\" class=\"data row4 col2\" >Rio Tinto Group</td>\n",
       "                        <td id=\"T_ba59f61e_88ac_11eb_952c_3af9d350abc5row4_col3\" class=\"data row4 col3\" >neutral</td>\n",
       "                        <td id=\"T_ba59f61e_88ac_11eb_952c_3af9d350abc5row4_col4\" class=\"data row4 col4\" >2946</td>\n",
       "            </tr>\n",
       "            <tr>\n",
       "                        <th id=\"T_ba59f61e_88ac_11eb_952c_3af9d350abc5level0_row5\" class=\"row_heading level0 row5\" >96</th>\n",
       "                        <td id=\"T_ba59f61e_88ac_11eb_952c_3af9d350abc5row5_col0\" class=\"data row5 col0\" >2020-09-01</td>\n",
       "                        <td id=\"T_ba59f61e_88ac_11eb_952c_3af9d350abc5row5_col1\" class=\"data row5 col1\" >Corporate Controversy</td>\n",
       "                        <td id=\"T_ba59f61e_88ac_11eb_952c_3af9d350abc5row5_col2\" class=\"data row5 col2\" >Rio Tinto Group</td>\n",
       "                        <td id=\"T_ba59f61e_88ac_11eb_952c_3af9d350abc5row5_col3\" class=\"data row5 col3\" >negative</td>\n",
       "                        <td id=\"T_ba59f61e_88ac_11eb_952c_3af9d350abc5row5_col4\" class=\"data row5 col4\" >2641</td>\n",
       "            </tr>\n",
       "            <tr>\n",
       "                        <th id=\"T_ba59f61e_88ac_11eb_952c_3af9d350abc5level0_row6\" class=\"row_heading level0 row6\" >97</th>\n",
       "                        <td id=\"T_ba59f61e_88ac_11eb_952c_3af9d350abc5row6_col0\" class=\"data row6 col0\" >2020-09-01</td>\n",
       "                        <td id=\"T_ba59f61e_88ac_11eb_952c_3af9d350abc5row6_col1\" class=\"data row6 col1\" >Corporate Controversy</td>\n",
       "                        <td id=\"T_ba59f61e_88ac_11eb_952c_3af9d350abc5row6_col2\" class=\"data row6 col2\" >Rio Tinto Group</td>\n",
       "                        <td id=\"T_ba59f61e_88ac_11eb_952c_3af9d350abc5row6_col3\" class=\"data row6 col3\" >neutral</td>\n",
       "                        <td id=\"T_ba59f61e_88ac_11eb_952c_3af9d350abc5row6_col4\" class=\"data row6 col4\" >1682</td>\n",
       "            </tr>\n",
       "            <tr>\n",
       "                        <th id=\"T_ba59f61e_88ac_11eb_952c_3af9d350abc5level0_row7\" class=\"row_heading level0 row7\" >193</th>\n",
       "                        <td id=\"T_ba59f61e_88ac_11eb_952c_3af9d350abc5row7_col0\" class=\"data row7 col0\" >2020-11-01</td>\n",
       "                        <td id=\"T_ba59f61e_88ac_11eb_952c_3af9d350abc5row7_col1\" class=\"data row7 col1\" >Corporate Controversy</td>\n",
       "                        <td id=\"T_ba59f61e_88ac_11eb_952c_3af9d350abc5row7_col2\" class=\"data row7 col2\" >Rio Tinto Group</td>\n",
       "                        <td id=\"T_ba59f61e_88ac_11eb_952c_3af9d350abc5row7_col3\" class=\"data row7 col3\" >neutral</td>\n",
       "                        <td id=\"T_ba59f61e_88ac_11eb_952c_3af9d350abc5row7_col4\" class=\"data row7 col4\" >1242</td>\n",
       "            </tr>\n",
       "            <tr>\n",
       "                        <th id=\"T_ba59f61e_88ac_11eb_952c_3af9d350abc5level0_row8\" class=\"row_heading level0 row8\" >241</th>\n",
       "                        <td id=\"T_ba59f61e_88ac_11eb_952c_3af9d350abc5row8_col0\" class=\"data row8 col0\" >2020-12-01</td>\n",
       "                        <td id=\"T_ba59f61e_88ac_11eb_952c_3af9d350abc5row8_col1\" class=\"data row8 col1\" >Corporate Controversy</td>\n",
       "                        <td id=\"T_ba59f61e_88ac_11eb_952c_3af9d350abc5row8_col2\" class=\"data row8 col2\" >Rio Tinto Group</td>\n",
       "                        <td id=\"T_ba59f61e_88ac_11eb_952c_3af9d350abc5row8_col3\" class=\"data row8 col3\" >neutral</td>\n",
       "                        <td id=\"T_ba59f61e_88ac_11eb_952c_3af9d350abc5row8_col4\" class=\"data row8 col4\" >1220</td>\n",
       "            </tr>\n",
       "            <tr>\n",
       "                        <th id=\"T_ba59f61e_88ac_11eb_952c_3af9d350abc5level0_row9\" class=\"row_heading level0 row9\" >148</th>\n",
       "                        <td id=\"T_ba59f61e_88ac_11eb_952c_3af9d350abc5row9_col0\" class=\"data row9 col0\" >2020-10-01</td>\n",
       "                        <td id=\"T_ba59f61e_88ac_11eb_952c_3af9d350abc5row9_col1\" class=\"data row9 col1\" >Corporate Controversy</td>\n",
       "                        <td id=\"T_ba59f61e_88ac_11eb_952c_3af9d350abc5row9_col2\" class=\"data row9 col2\" >Rio Tinto Group</td>\n",
       "                        <td id=\"T_ba59f61e_88ac_11eb_952c_3af9d350abc5row9_col3\" class=\"data row9 col3\" >neutral</td>\n",
       "                        <td id=\"T_ba59f61e_88ac_11eb_952c_3af9d350abc5row9_col4\" class=\"data row9 col4\" >1151</td>\n",
       "            </tr>\n",
       "            <tr>\n",
       "                        <th id=\"T_ba59f61e_88ac_11eb_952c_3af9d350abc5level0_row10\" class=\"row_heading level0 row10\" >266</th>\n",
       "                        <td id=\"T_ba59f61e_88ac_11eb_952c_3af9d350abc5row10_col0\" class=\"data row10 col0\" >2020-12-01</td>\n",
       "                        <td id=\"T_ba59f61e_88ac_11eb_952c_3af9d350abc5row10_col1\" class=\"data row10 col1\" >Environmental Cleanup</td>\n",
       "                        <td id=\"T_ba59f61e_88ac_11eb_952c_3af9d350abc5row10_col2\" class=\"data row10 col2\" >Glencore</td>\n",
       "                        <td id=\"T_ba59f61e_88ac_11eb_952c_3af9d350abc5row10_col3\" class=\"data row10 col3\" >positive</td>\n",
       "                        <td id=\"T_ba59f61e_88ac_11eb_952c_3af9d350abc5row10_col4\" class=\"data row10 col4\" >720</td>\n",
       "            </tr>\n",
       "            <tr>\n",
       "                        <th id=\"T_ba59f61e_88ac_11eb_952c_3af9d350abc5level0_row11\" class=\"row_heading level0 row11\" >122</th>\n",
       "                        <td id=\"T_ba59f61e_88ac_11eb_952c_3af9d350abc5row11_col0\" class=\"data row11 col0\" >2020-09-01</td>\n",
       "                        <td id=\"T_ba59f61e_88ac_11eb_952c_3af9d350abc5row11_col1\" class=\"data row11 col1\" >Environmental Cleanup</td>\n",
       "                        <td id=\"T_ba59f61e_88ac_11eb_952c_3af9d350abc5row11_col2\" class=\"data row11 col2\" >BHP</td>\n",
       "                        <td id=\"T_ba59f61e_88ac_11eb_952c_3af9d350abc5row11_col3\" class=\"data row11 col3\" >positive</td>\n",
       "                        <td id=\"T_ba59f61e_88ac_11eb_952c_3af9d350abc5row11_col4\" class=\"data row11 col4\" >712</td>\n",
       "            </tr>\n",
       "            <tr>\n",
       "                        <th id=\"T_ba59f61e_88ac_11eb_952c_3af9d350abc5level0_row12\" class=\"row_heading level0 row12\" >124</th>\n",
       "                        <td id=\"T_ba59f61e_88ac_11eb_952c_3af9d350abc5row12_col0\" class=\"data row12 col0\" >2020-09-01</td>\n",
       "                        <td id=\"T_ba59f61e_88ac_11eb_952c_3af9d350abc5row12_col1\" class=\"data row12 col1\" >Environmental Cleanup</td>\n",
       "                        <td id=\"T_ba59f61e_88ac_11eb_952c_3af9d350abc5row12_col2\" class=\"data row12 col2\" >Rio Tinto Group</td>\n",
       "                        <td id=\"T_ba59f61e_88ac_11eb_952c_3af9d350abc5row12_col3\" class=\"data row12 col3\" >neutral</td>\n",
       "                        <td id=\"T_ba59f61e_88ac_11eb_952c_3af9d350abc5row12_col4\" class=\"data row12 col4\" >580</td>\n",
       "            </tr>\n",
       "            <tr>\n",
       "                        <th id=\"T_ba59f61e_88ac_11eb_952c_3af9d350abc5level0_row13\" class=\"row_heading level0 row13\" >86</th>\n",
       "                        <td id=\"T_ba59f61e_88ac_11eb_952c_3af9d350abc5row13_col0\" class=\"data row13 col0\" >2020-08-01</td>\n",
       "                        <td id=\"T_ba59f61e_88ac_11eb_952c_3af9d350abc5row13_col1\" class=\"data row13 col1\" >Environmental Cleanup</td>\n",
       "                        <td id=\"T_ba59f61e_88ac_11eb_952c_3af9d350abc5row13_col2\" class=\"data row13 col2\" >BHP</td>\n",
       "                        <td id=\"T_ba59f61e_88ac_11eb_952c_3af9d350abc5row13_col3\" class=\"data row13 col3\" >positive</td>\n",
       "                        <td id=\"T_ba59f61e_88ac_11eb_952c_3af9d350abc5row13_col4\" class=\"data row13 col4\" >557</td>\n",
       "            </tr>\n",
       "            <tr>\n",
       "                        <th id=\"T_ba59f61e_88ac_11eb_952c_3af9d350abc5level0_row14\" class=\"row_heading level0 row14\" >172</th>\n",
       "                        <td id=\"T_ba59f61e_88ac_11eb_952c_3af9d350abc5row14_col0\" class=\"data row14 col0\" >2020-10-01</td>\n",
       "                        <td id=\"T_ba59f61e_88ac_11eb_952c_3af9d350abc5row14_col1\" class=\"data row14 col1\" >Environmental Cleanup</td>\n",
       "                        <td id=\"T_ba59f61e_88ac_11eb_952c_3af9d350abc5row14_col2\" class=\"data row14 col2\" >Anglo American plc</td>\n",
       "                        <td id=\"T_ba59f61e_88ac_11eb_952c_3af9d350abc5row14_col3\" class=\"data row14 col3\" >neutral</td>\n",
       "                        <td id=\"T_ba59f61e_88ac_11eb_952c_3af9d350abc5row14_col4\" class=\"data row14 col4\" >543</td>\n",
       "            </tr>\n",
       "            <tr>\n",
       "                        <th id=\"T_ba59f61e_88ac_11eb_952c_3af9d350abc5level0_row15\" class=\"row_heading level0 row15\" >110</th>\n",
       "                        <td id=\"T_ba59f61e_88ac_11eb_952c_3af9d350abc5row15_col0\" class=\"data row15 col0\" >2020-09-01</td>\n",
       "                        <td id=\"T_ba59f61e_88ac_11eb_952c_3af9d350abc5row15_col1\" class=\"data row15 col1\" >Sustainability</td>\n",
       "                        <td id=\"T_ba59f61e_88ac_11eb_952c_3af9d350abc5row15_col2\" class=\"data row15 col2\" >BHP</td>\n",
       "                        <td id=\"T_ba59f61e_88ac_11eb_952c_3af9d350abc5row15_col3\" class=\"data row15 col3\" >positive</td>\n",
       "                        <td id=\"T_ba59f61e_88ac_11eb_952c_3af9d350abc5row15_col4\" class=\"data row15 col4\" >347</td>\n",
       "            </tr>\n",
       "            <tr>\n",
       "                        <th id=\"T_ba59f61e_88ac_11eb_952c_3af9d350abc5level0_row16\" class=\"row_heading level0 row16\" >208</th>\n",
       "                        <td id=\"T_ba59f61e_88ac_11eb_952c_3af9d350abc5row16_col0\" class=\"data row16 col0\" >2020-11-01</td>\n",
       "                        <td id=\"T_ba59f61e_88ac_11eb_952c_3af9d350abc5row16_col1\" class=\"data row16 col1\" >Sustainability</td>\n",
       "                        <td id=\"T_ba59f61e_88ac_11eb_952c_3af9d350abc5row16_col2\" class=\"data row16 col2\" >Glencore</td>\n",
       "                        <td id=\"T_ba59f61e_88ac_11eb_952c_3af9d350abc5row16_col3\" class=\"data row16 col3\" >neutral</td>\n",
       "                        <td id=\"T_ba59f61e_88ac_11eb_952c_3af9d350abc5row16_col4\" class=\"data row16 col4\" >321</td>\n",
       "            </tr>\n",
       "            <tr>\n",
       "                        <th id=\"T_ba59f61e_88ac_11eb_952c_3af9d350abc5level0_row17\" class=\"row_heading level0 row17\" >13</th>\n",
       "                        <td id=\"T_ba59f61e_88ac_11eb_952c_3af9d350abc5row17_col0\" class=\"data row17 col0\" >2020-07-01</td>\n",
       "                        <td id=\"T_ba59f61e_88ac_11eb_952c_3af9d350abc5row17_col1\" class=\"data row17 col1\" >Sustainability</td>\n",
       "                        <td id=\"T_ba59f61e_88ac_11eb_952c_3af9d350abc5row17_col2\" class=\"data row17 col2\" >BHP</td>\n",
       "                        <td id=\"T_ba59f61e_88ac_11eb_952c_3af9d350abc5row17_col3\" class=\"data row17 col3\" >neutral</td>\n",
       "                        <td id=\"T_ba59f61e_88ac_11eb_952c_3af9d350abc5row17_col4\" class=\"data row17 col4\" >320</td>\n",
       "            </tr>\n",
       "            <tr>\n",
       "                        <th id=\"T_ba59f61e_88ac_11eb_952c_3af9d350abc5level0_row18\" class=\"row_heading level0 row18\" >112</th>\n",
       "                        <td id=\"T_ba59f61e_88ac_11eb_952c_3af9d350abc5row18_col0\" class=\"data row18 col0\" >2020-09-01</td>\n",
       "                        <td id=\"T_ba59f61e_88ac_11eb_952c_3af9d350abc5row18_col1\" class=\"data row18 col1\" >Sustainability</td>\n",
       "                        <td id=\"T_ba59f61e_88ac_11eb_952c_3af9d350abc5row18_col2\" class=\"data row18 col2\" >Rio Tinto Group</td>\n",
       "                        <td id=\"T_ba59f61e_88ac_11eb_952c_3af9d350abc5row18_col3\" class=\"data row18 col3\" >neutral</td>\n",
       "                        <td id=\"T_ba59f61e_88ac_11eb_952c_3af9d350abc5row18_col4\" class=\"data row18 col4\" >316</td>\n",
       "            </tr>\n",
       "            <tr>\n",
       "                        <th id=\"T_ba59f61e_88ac_11eb_952c_3af9d350abc5level0_row19\" class=\"row_heading level0 row19\" >158</th>\n",
       "                        <td id=\"T_ba59f61e_88ac_11eb_952c_3af9d350abc5row19_col0\" class=\"data row19 col0\" >2020-10-01</td>\n",
       "                        <td id=\"T_ba59f61e_88ac_11eb_952c_3af9d350abc5row19_col1\" class=\"data row19 col1\" >Sustainability</td>\n",
       "                        <td id=\"T_ba59f61e_88ac_11eb_952c_3af9d350abc5row19_col2\" class=\"data row19 col2\" >Rio Tinto Group</td>\n",
       "                        <td id=\"T_ba59f61e_88ac_11eb_952c_3af9d350abc5row19_col3\" class=\"data row19 col3\" >positive</td>\n",
       "                        <td id=\"T_ba59f61e_88ac_11eb_952c_3af9d350abc5row19_col4\" class=\"data row19 col4\" >289</td>\n",
       "            </tr>\n",
       "    </tbody></table>"
      ],
      "text/plain": [
       "<pandas.io.formats.style.Styler at 0x11c6f9320>"
      ]
     },
     "execution_count": 33,
     "metadata": {},
     "output_type": "execute_result"
    }
   ],
   "source": [
    "df = json_normalize(\n",
    "    mining_companies_result['aggregations']['group-by'],\n",
    "    ['groups', 'group-by', 'groups', 'group-by', 'groups', 'group-by', 'groups'],\n",
    "    [['groups', 'value'], \n",
    "     ['groups', 'group-by', 'groups', 'value'], \n",
    "     ['groups', 'group-by', 'groups', 'group-by', 'groups', 'value']],\n",
    "    errors='ignore')\n",
    "\n",
    "df = df.rename(columns={'value': 'Sentiment', \n",
    "                        'metrics.document-count': 'Count', \n",
    "                        'groups.value': 'Date', \n",
    "                        'groups.group-by.groups.value': 'Topic', \n",
    "                        'groups.group-by.groups.group-by.groups.value': 'Entity'})\n",
    "\n",
    "df['Topic'] = df['Topic'].apply(lambda x: x['name'])\n",
    "df['Entity'] = df['Entity'].apply(lambda x: x['name'])\n",
    "\n",
    "df = df.reindex(columns=['Date', 'Topic', 'Entity', 'Sentiment', 'Count'])\n",
    "\n",
    "# take top 5 rows by document count for each topic \n",
    "df = df.sort_values('Count',ascending = False).groupby('Topic').head(5)\n",
    "\n",
    "df.style.set_caption('Sentiment breakdown by mining company and topic')"
   ]
  },
  {
   "cell_type": "code",
   "execution_count": null,
   "metadata": {},
   "outputs": [],
   "source": []
  }
 ],
 "metadata": {
  "kernelspec": {
   "display_name": "Python 3",
   "language": "python",
   "name": "python3"
  },
  "language_info": {
   "codemirror_mode": {
    "name": "ipython",
    "version": 3
   },
   "file_extension": ".py",
   "mimetype": "text/x-python",
   "name": "python",
   "nbconvert_exporter": "python",
   "pygments_lexer": "ipython3",
   "version": "3.6.7"
  }
 },
 "nbformat": 4,
 "nbformat_minor": 4
}
