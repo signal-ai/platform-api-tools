{
 "cells": [
  {
   "cell_type": "markdown",
   "metadata": {},
   "source": [
    "# Getting Started with the Trends API"
   ]
  },
  {
   "cell_type": "markdown",
   "metadata": {},
   "source": [
    "This notebook serves as a tutorial for the Trends endpoint in the Signal AI API.\n",
    "\n",
    "Full technical documentation of the Trends endpoint is available here\n",
    "https://api.signal-ai.com/docs#tag/Trends\n"
   ]
  },
  {
   "cell_type": "markdown",
   "metadata": {},
   "source": [
    "## Trends API Overview"
   ]
  },
  {
   "cell_type": "markdown",
   "metadata": {},
   "source": [
    "The Trends API provides at-a-glance aggregated metrics over all news & regulatory content available in our Platform. It supports analysing our content accross multiple dimensions, and enables users to monitor, visualise and understand information such as the following:\n",
    "- Changes in sentiment for an entity over time\n",
    "- Sentiment for an entity in relation to a set of key topics\n",
    "- News coverage and sentiment around an entity in different locations\n",
    "- Difference in coverage and sentiment between entities over time and in relation to different topics"
   ]
  },
  {
   "cell_type": "markdown",
   "metadata": {},
   "source": [
    "## 0. Setting things up!"
   ]
  },
  {
   "cell_type": "markdown",
   "metadata": {},
   "source": [
    "### 0.1 Pre-requisites"
   ]
  },
  {
   "cell_type": "markdown",
   "metadata": {},
   "source": [
    "Please make sure that you have familiarised yourself with the Signal AI API using the [Getting Started notebook](getting_started.ipynb)"
   ]
  },
  {
   "cell_type": "markdown",
   "metadata": {},
   "source": [
    "In particular you would need to be able to use the following endpoints:\n",
    "\n",
    "- Authentication: to be able to access the API\n",
    "- Discovery: to be able to search for entities and topics of interest\n"
   ]
  },
  {
   "cell_type": "markdown",
   "metadata": {},
   "source": [
    "Note: run `pip install -r requirements.txt` to install the dependencies for this notebook"
   ]
  },
  {
   "cell_type": "code",
   "execution_count": 1,
   "metadata": {
    "scrolled": true
   },
   "outputs": [],
   "source": [
    "import requests\n",
    "import os\n",
    "import pandas as pd\n",
    "import json\n",
    "from pandas import json_normalize"
   ]
  },
  {
   "cell_type": "markdown",
   "metadata": {},
   "source": [
    "### 0.2 Check if authentication works!"
   ]
  },
  {
   "cell_type": "markdown",
   "metadata": {},
   "source": [
    "You will need a client_id and client_secret to gain access to the API. The code below will assume they have been set and the environment variables `SIGNAL_API_CLIENT_ID` and `SIGNAL_API_CLIENT_SECRET` respectively."
   ]
  },
  {
   "cell_type": "markdown",
   "metadata": {},
   "source": [
    "Using your credentials you can request a temporary access token from the API using the url: https://api.signal-ai.com/auth/token\n"
   ]
  },
  {
   "cell_type": "code",
   "execution_count": 147,
   "metadata": {},
   "outputs": [],
   "source": [
    "def authenticate(client_id, client_secret, url = \"https://api.signal-ai.com\"):\n",
    "    \"\"\" obtain a temporary access token using user credentials \"\"\"\n",
    "    token_url = f'{url}/auth/token'\n",
    "    payload = {\n",
    "        \"grant_type\": \"client_credentials\",\n",
    "        \"client_id\": client_id,\n",
    "        \"client_secret\": client_secret\n",
    "    }\n",
    "    response = requests.post(token_url, data=payload)\n",
    "    return response.json().get(\"access_token\")"
   ]
  },
  {
   "cell_type": "code",
   "execution_count": 148,
   "metadata": {},
   "outputs": [
    {
     "name": "stdout",
     "output_type": "stream",
     "text": [
      "Congratulations! You have an access token, it will last for 24 hours before you will need to reauthenticate by repeating this step\n"
     ]
    }
   ],
   "source": [
    "TEMP_ACCESS_TOKEN = authenticate(os.environ['SIGNAL_API_CLIENT_ID'], os.environ['SIGNAL_API_CLIENT_SECRET'])\n",
    "if TEMP_ACCESS_TOKEN:\n",
    "    print('Congratulations! You have an access token, it will last for 24 hours before you will need to reauthenticate by repeating this step')\n",
    "else:\n",
    "    print('Error: Perhaps the credentials are incorrect?')"
   ]
  },
  {
   "cell_type": "markdown",
   "metadata": {},
   "source": [
    "## Using Trends API"
   ]
  },
  {
   "cell_type": "markdown",
   "metadata": {},
   "source": [
    "Before we start, let us define a request function that we can re-use across different example use cases."
   ]
  },
  {
   "cell_type": "code",
   "execution_count": 4,
   "metadata": {},
   "outputs": [],
   "source": [
    "def request(json=None):\n",
    "    \"\"\" Make requests using a tempory access token \"\"\"\n",
    "    response = requests.post(\n",
    "        'https://api.signal-ai.com/trends',\n",
    "        json=json,\n",
    "        headers={\n",
    "            \"Authorization\": f'Bearer {TEMP_ACCESS_TOKEN}',\n",
    "            \"Content-Type\": \"application/json\",\n",
    "            # Since the endpoint is still private, this header is required:\n",
    "            \"X-Access\": \"private\"\n",
    "        },\n",
    "    )\n",
    "    return response\n"
   ]
  },
  {
   "cell_type": "markdown",
   "metadata": {},
   "source": [
    "Following are some examples of the questions that can be answered using Trends API."
   ]
  },
  {
   "cell_type": "markdown",
   "metadata": {},
   "source": [
    "**Use case question**:\n",
    "\n",
    "- How has the sentiment around my organisation been changing over time?\n",
    "\n",
    "Note that you would need to have the ID of the entity as an input. For that please consult the [Getting Started notebook](getting_started.ipynb) to search for entities and obtain the ID of your chosen entity.\n",
    "\n",
    "\n"
   ]
  },
  {
   "cell_type": "markdown",
   "metadata": {},
   "source": [
    "**Example**: Sentiment towards Wirecard between the beginning of March 2020 and the end of August 2020 in weekly intervals"
   ]
  },
  {
   "cell_type": "code",
   "execution_count": 5,
   "metadata": {},
   "outputs": [],
   "source": [
    "entity_id = \"eae834b7-5b2f-430e-99ce-770786a971cf\" ##  ID for Wirecard\n",
    "\n",
    "query = {\n",
    "    # First we define the data to be included in the aggregation. \n",
    "    # This part of the query has got the same format as the query in the `Search` endpoint\n",
    "    \"where\": {\n",
    "        \"published-at\": {\n",
    "            \"gte\": \"2020-03-01\",\n",
    "            \"lte\": \"2020-08-31\"\n",
    "        },\n",
    "        \"entities\": {\n",
    "            \"id\": { \"eq\": entity_id }\n",
    "        }\n",
    "    },\n",
    "    # Then we define how the data should be aggregated. \n",
    "    # Note the `entity > include` option is used to specify the ID(s) of the entities we want the data to be grouped by.\n",
    "    \"aggregations\": {\n",
    "        \"group-by\": [\n",
    "            \"published-at\",\n",
    "            \"entity\",\n",
    "            \"entity.sentiment\"\n",
    "            \n",
    "        ],\n",
    "        \"options\": {\n",
    "            \"published-at\": { \"interval\": \"week\" },\n",
    "            \"entity\": { \"include\": [ entity_id ] }\n",
    "        },\n",
    "        \"metrics\": [\"document-count\"]\n",
    "    }\n",
    "}\n",
    "\n",
    "# Return the response in JSON format\n",
    "wirecard_result = request(json=query).json()\n"
   ]
  },
  {
   "cell_type": "markdown",
   "metadata": {},
   "source": [
    "You can see the structure of a typical Trends API response:"
   ]
  },
  {
   "cell_type": "code",
   "execution_count": 6,
   "metadata": {},
   "outputs": [
    {
     "data": {
      "application/json": {
       "aggregations": [
        {
         "document-count": 11,
         "entity": {
          "id": "eae834b7-5b2f-430e-99ce-770786a971cf",
          "name": "Wirecard",
          "type": "organisation"
         },
         "entity.sentiment": "negative",
         "published-at": "2020-02-24"
        },
        {
         "document-count": 43,
         "entity": {
          "id": "eae834b7-5b2f-430e-99ce-770786a971cf",
          "name": "Wirecard",
          "type": "organisation"
         },
         "entity.sentiment": "neutral",
         "published-at": "2020-02-24"
        },
        {
         "document-count": 116,
         "entity": {
          "id": "eae834b7-5b2f-430e-99ce-770786a971cf",
          "name": "Wirecard",
          "type": "organisation"
         },
         "entity.sentiment": "positive",
         "published-at": "2020-02-24"
        },
        {
         "document-count": 86,
         "entity": {
          "id": "eae834b7-5b2f-430e-99ce-770786a971cf",
          "name": "Wirecard",
          "type": "organisation"
         },
         "entity.sentiment": "negative",
         "published-at": "2020-03-02"
        },
        {
         "document-count": 1167,
         "entity": {
          "id": "eae834b7-5b2f-430e-99ce-770786a971cf",
          "name": "Wirecard",
          "type": "organisation"
         },
         "entity.sentiment": "neutral",
         "published-at": "2020-03-02"
        },
        {
         "document-count": 646,
         "entity": {
          "id": "eae834b7-5b2f-430e-99ce-770786a971cf",
          "name": "Wirecard",
          "type": "organisation"
         },
         "entity.sentiment": "positive",
         "published-at": "2020-03-02"
        },
        {
         "document-count": 146,
         "entity": {
          "id": "eae834b7-5b2f-430e-99ce-770786a971cf",
          "name": "Wirecard",
          "type": "organisation"
         },
         "entity.sentiment": "negative",
         "published-at": "2020-03-09"
        },
        {
         "document-count": 2368,
         "entity": {
          "id": "eae834b7-5b2f-430e-99ce-770786a971cf",
          "name": "Wirecard",
          "type": "organisation"
         },
         "entity.sentiment": "neutral",
         "published-at": "2020-03-09"
        },
        {
         "document-count": 928,
         "entity": {
          "id": "eae834b7-5b2f-430e-99ce-770786a971cf",
          "name": "Wirecard",
          "type": "organisation"
         },
         "entity.sentiment": "positive",
         "published-at": "2020-03-09"
        },
        {
         "document-count": 121,
         "entity": {
          "id": "eae834b7-5b2f-430e-99ce-770786a971cf",
          "name": "Wirecard",
          "type": "organisation"
         },
         "entity.sentiment": "negative",
         "published-at": "2020-03-16"
        },
        {
         "document-count": 1521,
         "entity": {
          "id": "eae834b7-5b2f-430e-99ce-770786a971cf",
          "name": "Wirecard",
          "type": "organisation"
         },
         "entity.sentiment": "neutral",
         "published-at": "2020-03-16"
        },
        {
         "document-count": 565,
         "entity": {
          "id": "eae834b7-5b2f-430e-99ce-770786a971cf",
          "name": "Wirecard",
          "type": "organisation"
         },
         "entity.sentiment": "positive",
         "published-at": "2020-03-16"
        },
        {
         "document-count": 74,
         "entity": {
          "id": "eae834b7-5b2f-430e-99ce-770786a971cf",
          "name": "Wirecard",
          "type": "organisation"
         },
         "entity.sentiment": "negative",
         "published-at": "2020-03-23"
        },
        {
         "document-count": 1417,
         "entity": {
          "id": "eae834b7-5b2f-430e-99ce-770786a971cf",
          "name": "Wirecard",
          "type": "organisation"
         },
         "entity.sentiment": "neutral",
         "published-at": "2020-03-23"
        },
        {
         "document-count": 549,
         "entity": {
          "id": "eae834b7-5b2f-430e-99ce-770786a971cf",
          "name": "Wirecard",
          "type": "organisation"
         },
         "entity.sentiment": "positive",
         "published-at": "2020-03-23"
        },
        {
         "document-count": 48,
         "entity": {
          "id": "eae834b7-5b2f-430e-99ce-770786a971cf",
          "name": "Wirecard",
          "type": "organisation"
         },
         "entity.sentiment": "negative",
         "published-at": "2020-03-30"
        },
        {
         "document-count": 1381,
         "entity": {
          "id": "eae834b7-5b2f-430e-99ce-770786a971cf",
          "name": "Wirecard",
          "type": "organisation"
         },
         "entity.sentiment": "neutral",
         "published-at": "2020-03-30"
        },
        {
         "document-count": 696,
         "entity": {
          "id": "eae834b7-5b2f-430e-99ce-770786a971cf",
          "name": "Wirecard",
          "type": "organisation"
         },
         "entity.sentiment": "positive",
         "published-at": "2020-03-30"
        },
        {
         "document-count": 30,
         "entity": {
          "id": "eae834b7-5b2f-430e-99ce-770786a971cf",
          "name": "Wirecard",
          "type": "organisation"
         },
         "entity.sentiment": "negative",
         "published-at": "2020-04-06"
        },
        {
         "document-count": 957,
         "entity": {
          "id": "eae834b7-5b2f-430e-99ce-770786a971cf",
          "name": "Wirecard",
          "type": "organisation"
         },
         "entity.sentiment": "neutral",
         "published-at": "2020-04-06"
        },
        {
         "document-count": 363,
         "entity": {
          "id": "eae834b7-5b2f-430e-99ce-770786a971cf",
          "name": "Wirecard",
          "type": "organisation"
         },
         "entity.sentiment": "positive",
         "published-at": "2020-04-06"
        },
        {
         "document-count": 60,
         "entity": {
          "id": "eae834b7-5b2f-430e-99ce-770786a971cf",
          "name": "Wirecard",
          "type": "organisation"
         },
         "entity.sentiment": "negative",
         "published-at": "2020-04-13"
        },
        {
         "document-count": 1484,
         "entity": {
          "id": "eae834b7-5b2f-430e-99ce-770786a971cf",
          "name": "Wirecard",
          "type": "organisation"
         },
         "entity.sentiment": "neutral",
         "published-at": "2020-04-13"
        },
        {
         "document-count": 595,
         "entity": {
          "id": "eae834b7-5b2f-430e-99ce-770786a971cf",
          "name": "Wirecard",
          "type": "organisation"
         },
         "entity.sentiment": "positive",
         "published-at": "2020-04-13"
        },
        {
         "document-count": 303,
         "entity": {
          "id": "eae834b7-5b2f-430e-99ce-770786a971cf",
          "name": "Wirecard",
          "type": "organisation"
         },
         "entity.sentiment": "negative",
         "published-at": "2020-04-20"
        },
        {
         "document-count": 2653,
         "entity": {
          "id": "eae834b7-5b2f-430e-99ce-770786a971cf",
          "name": "Wirecard",
          "type": "organisation"
         },
         "entity.sentiment": "neutral",
         "published-at": "2020-04-20"
        },
        {
         "document-count": 1437,
         "entity": {
          "id": "eae834b7-5b2f-430e-99ce-770786a971cf",
          "name": "Wirecard",
          "type": "organisation"
         },
         "entity.sentiment": "positive",
         "published-at": "2020-04-20"
        },
        {
         "document-count": 1603,
         "entity": {
          "id": "eae834b7-5b2f-430e-99ce-770786a971cf",
          "name": "Wirecard",
          "type": "organisation"
         },
         "entity.sentiment": "negative",
         "published-at": "2020-04-27"
        },
        {
         "document-count": 3304,
         "entity": {
          "id": "eae834b7-5b2f-430e-99ce-770786a971cf",
          "name": "Wirecard",
          "type": "organisation"
         },
         "entity.sentiment": "neutral",
         "published-at": "2020-04-27"
        },
        {
         "document-count": 1763,
         "entity": {
          "id": "eae834b7-5b2f-430e-99ce-770786a971cf",
          "name": "Wirecard",
          "type": "organisation"
         },
         "entity.sentiment": "positive",
         "published-at": "2020-04-27"
        },
        {
         "document-count": 459,
         "entity": {
          "id": "eae834b7-5b2f-430e-99ce-770786a971cf",
          "name": "Wirecard",
          "type": "organisation"
         },
         "entity.sentiment": "negative",
         "published-at": "2020-05-04"
        },
        {
         "document-count": 2346,
         "entity": {
          "id": "eae834b7-5b2f-430e-99ce-770786a971cf",
          "name": "Wirecard",
          "type": "organisation"
         },
         "entity.sentiment": "neutral",
         "published-at": "2020-05-04"
        },
        {
         "document-count": 1515,
         "entity": {
          "id": "eae834b7-5b2f-430e-99ce-770786a971cf",
          "name": "Wirecard",
          "type": "organisation"
         },
         "entity.sentiment": "positive",
         "published-at": "2020-05-04"
        },
        {
         "document-count": 975,
         "entity": {
          "id": "eae834b7-5b2f-430e-99ce-770786a971cf",
          "name": "Wirecard",
          "type": "organisation"
         },
         "entity.sentiment": "negative",
         "published-at": "2020-05-11"
        },
        {
         "document-count": 2767,
         "entity": {
          "id": "eae834b7-5b2f-430e-99ce-770786a971cf",
          "name": "Wirecard",
          "type": "organisation"
         },
         "entity.sentiment": "neutral",
         "published-at": "2020-05-11"
        },
        {
         "document-count": 2787,
         "entity": {
          "id": "eae834b7-5b2f-430e-99ce-770786a971cf",
          "name": "Wirecard",
          "type": "organisation"
         },
         "entity.sentiment": "positive",
         "published-at": "2020-05-11"
        },
        {
         "document-count": 324,
         "entity": {
          "id": "eae834b7-5b2f-430e-99ce-770786a971cf",
          "name": "Wirecard",
          "type": "organisation"
         },
         "entity.sentiment": "negative",
         "published-at": "2020-05-18"
        },
        {
         "document-count": 1615,
         "entity": {
          "id": "eae834b7-5b2f-430e-99ce-770786a971cf",
          "name": "Wirecard",
          "type": "organisation"
         },
         "entity.sentiment": "neutral",
         "published-at": "2020-05-18"
        },
        {
         "document-count": 1096,
         "entity": {
          "id": "eae834b7-5b2f-430e-99ce-770786a971cf",
          "name": "Wirecard",
          "type": "organisation"
         },
         "entity.sentiment": "positive",
         "published-at": "2020-05-18"
        },
        {
         "document-count": 519,
         "entity": {
          "id": "eae834b7-5b2f-430e-99ce-770786a971cf",
          "name": "Wirecard",
          "type": "organisation"
         },
         "entity.sentiment": "negative",
         "published-at": "2020-05-25"
        },
        {
         "document-count": 2231,
         "entity": {
          "id": "eae834b7-5b2f-430e-99ce-770786a971cf",
          "name": "Wirecard",
          "type": "organisation"
         },
         "entity.sentiment": "neutral",
         "published-at": "2020-05-25"
        },
        {
         "document-count": 1291,
         "entity": {
          "id": "eae834b7-5b2f-430e-99ce-770786a971cf",
          "name": "Wirecard",
          "type": "organisation"
         },
         "entity.sentiment": "positive",
         "published-at": "2020-05-25"
        },
        {
         "document-count": 640,
         "entity": {
          "id": "eae834b7-5b2f-430e-99ce-770786a971cf",
          "name": "Wirecard",
          "type": "organisation"
         },
         "entity.sentiment": "negative",
         "published-at": "2020-06-01"
        },
        {
         "document-count": 1963,
         "entity": {
          "id": "eae834b7-5b2f-430e-99ce-770786a971cf",
          "name": "Wirecard",
          "type": "organisation"
         },
         "entity.sentiment": "neutral",
         "published-at": "2020-06-01"
        },
        {
         "document-count": 681,
         "entity": {
          "id": "eae834b7-5b2f-430e-99ce-770786a971cf",
          "name": "Wirecard",
          "type": "organisation"
         },
         "entity.sentiment": "positive",
         "published-at": "2020-06-01"
        },
        {
         "document-count": 654,
         "entity": {
          "id": "eae834b7-5b2f-430e-99ce-770786a971cf",
          "name": "Wirecard",
          "type": "organisation"
         },
         "entity.sentiment": "negative",
         "published-at": "2020-06-08"
        },
        {
         "document-count": 1772,
         "entity": {
          "id": "eae834b7-5b2f-430e-99ce-770786a971cf",
          "name": "Wirecard",
          "type": "organisation"
         },
         "entity.sentiment": "neutral",
         "published-at": "2020-06-08"
        },
        {
         "document-count": 999,
         "entity": {
          "id": "eae834b7-5b2f-430e-99ce-770786a971cf",
          "name": "Wirecard",
          "type": "organisation"
         },
         "entity.sentiment": "positive",
         "published-at": "2020-06-08"
        },
        {
         "document-count": 5283,
         "entity": {
          "id": "eae834b7-5b2f-430e-99ce-770786a971cf",
          "name": "Wirecard",
          "type": "organisation"
         },
         "entity.sentiment": "negative",
         "published-at": "2020-06-15"
        },
        {
         "document-count": 7805,
         "entity": {
          "id": "eae834b7-5b2f-430e-99ce-770786a971cf",
          "name": "Wirecard",
          "type": "organisation"
         },
         "entity.sentiment": "neutral",
         "published-at": "2020-06-15"
        },
        {
         "document-count": 4699,
         "entity": {
          "id": "eae834b7-5b2f-430e-99ce-770786a971cf",
          "name": "Wirecard",
          "type": "organisation"
         },
         "entity.sentiment": "positive",
         "published-at": "2020-06-15"
        },
        {
         "document-count": 14283,
         "entity": {
          "id": "eae834b7-5b2f-430e-99ce-770786a971cf",
          "name": "Wirecard",
          "type": "organisation"
         },
         "entity.sentiment": "negative",
         "published-at": "2020-06-22"
        },
        {
         "document-count": 16448,
         "entity": {
          "id": "eae834b7-5b2f-430e-99ce-770786a971cf",
          "name": "Wirecard",
          "type": "organisation"
         },
         "entity.sentiment": "neutral",
         "published-at": "2020-06-22"
        },
        {
         "document-count": 9846,
         "entity": {
          "id": "eae834b7-5b2f-430e-99ce-770786a971cf",
          "name": "Wirecard",
          "type": "organisation"
         },
         "entity.sentiment": "positive",
         "published-at": "2020-06-22"
        },
        {
         "document-count": 5652,
         "entity": {
          "id": "eae834b7-5b2f-430e-99ce-770786a971cf",
          "name": "Wirecard",
          "type": "organisation"
         },
         "entity.sentiment": "negative",
         "published-at": "2020-06-29"
        },
        {
         "document-count": 9516,
         "entity": {
          "id": "eae834b7-5b2f-430e-99ce-770786a971cf",
          "name": "Wirecard",
          "type": "organisation"
         },
         "entity.sentiment": "neutral",
         "published-at": "2020-06-29"
        },
        {
         "document-count": 7723,
         "entity": {
          "id": "eae834b7-5b2f-430e-99ce-770786a971cf",
          "name": "Wirecard",
          "type": "organisation"
         },
         "entity.sentiment": "positive",
         "published-at": "2020-06-29"
        },
        {
         "document-count": 2831,
         "entity": {
          "id": "eae834b7-5b2f-430e-99ce-770786a971cf",
          "name": "Wirecard",
          "type": "organisation"
         },
         "entity.sentiment": "negative",
         "published-at": "2020-07-06"
        },
        {
         "document-count": 7142,
         "entity": {
          "id": "eae834b7-5b2f-430e-99ce-770786a971cf",
          "name": "Wirecard",
          "type": "organisation"
         },
         "entity.sentiment": "neutral",
         "published-at": "2020-07-06"
        },
        {
         "document-count": 2574,
         "entity": {
          "id": "eae834b7-5b2f-430e-99ce-770786a971cf",
          "name": "Wirecard",
          "type": "organisation"
         },
         "entity.sentiment": "positive",
         "published-at": "2020-07-06"
        },
        {
         "document-count": 2623,
         "entity": {
          "id": "eae834b7-5b2f-430e-99ce-770786a971cf",
          "name": "Wirecard",
          "type": "organisation"
         },
         "entity.sentiment": "negative",
         "published-at": "2020-07-13"
        },
        {
         "document-count": 5833,
         "entity": {
          "id": "eae834b7-5b2f-430e-99ce-770786a971cf",
          "name": "Wirecard",
          "type": "organisation"
         },
         "entity.sentiment": "neutral",
         "published-at": "2020-07-13"
        },
        {
         "document-count": 2124,
         "entity": {
          "id": "eae834b7-5b2f-430e-99ce-770786a971cf",
          "name": "Wirecard",
          "type": "organisation"
         },
         "entity.sentiment": "positive",
         "published-at": "2020-07-13"
        },
        {
         "document-count": 4314,
         "entity": {
          "id": "eae834b7-5b2f-430e-99ce-770786a971cf",
          "name": "Wirecard",
          "type": "organisation"
         },
         "entity.sentiment": "negative",
         "published-at": "2020-07-20"
        },
        {
         "document-count": 7076,
         "entity": {
          "id": "eae834b7-5b2f-430e-99ce-770786a971cf",
          "name": "Wirecard",
          "type": "organisation"
         },
         "entity.sentiment": "neutral",
         "published-at": "2020-07-20"
        },
        {
         "document-count": 2571,
         "entity": {
          "id": "eae834b7-5b2f-430e-99ce-770786a971cf",
          "name": "Wirecard",
          "type": "organisation"
         },
         "entity.sentiment": "positive",
         "published-at": "2020-07-20"
        },
        {
         "document-count": 2163,
         "entity": {
          "id": "eae834b7-5b2f-430e-99ce-770786a971cf",
          "name": "Wirecard",
          "type": "organisation"
         },
         "entity.sentiment": "negative",
         "published-at": "2020-07-27"
        },
        {
         "document-count": 5429,
         "entity": {
          "id": "eae834b7-5b2f-430e-99ce-770786a971cf",
          "name": "Wirecard",
          "type": "organisation"
         },
         "entity.sentiment": "neutral",
         "published-at": "2020-07-27"
        },
        {
         "document-count": 1332,
         "entity": {
          "id": "eae834b7-5b2f-430e-99ce-770786a971cf",
          "name": "Wirecard",
          "type": "organisation"
         },
         "entity.sentiment": "positive",
         "published-at": "2020-07-27"
        },
        {
         "document-count": 1247,
         "entity": {
          "id": "eae834b7-5b2f-430e-99ce-770786a971cf",
          "name": "Wirecard",
          "type": "organisation"
         },
         "entity.sentiment": "negative",
         "published-at": "2020-08-03"
        },
        {
         "document-count": 3598,
         "entity": {
          "id": "eae834b7-5b2f-430e-99ce-770786a971cf",
          "name": "Wirecard",
          "type": "organisation"
         },
         "entity.sentiment": "neutral",
         "published-at": "2020-08-03"
        },
        {
         "document-count": 1287,
         "entity": {
          "id": "eae834b7-5b2f-430e-99ce-770786a971cf",
          "name": "Wirecard",
          "type": "organisation"
         },
         "entity.sentiment": "positive",
         "published-at": "2020-08-03"
        },
        {
         "document-count": 1130,
         "entity": {
          "id": "eae834b7-5b2f-430e-99ce-770786a971cf",
          "name": "Wirecard",
          "type": "organisation"
         },
         "entity.sentiment": "negative",
         "published-at": "2020-08-10"
        },
        {
         "document-count": 4339,
         "entity": {
          "id": "eae834b7-5b2f-430e-99ce-770786a971cf",
          "name": "Wirecard",
          "type": "organisation"
         },
         "entity.sentiment": "neutral",
         "published-at": "2020-08-10"
        },
        {
         "document-count": 1761,
         "entity": {
          "id": "eae834b7-5b2f-430e-99ce-770786a971cf",
          "name": "Wirecard",
          "type": "organisation"
         },
         "entity.sentiment": "positive",
         "published-at": "2020-08-10"
        },
        {
         "document-count": 850,
         "entity": {
          "id": "eae834b7-5b2f-430e-99ce-770786a971cf",
          "name": "Wirecard",
          "type": "organisation"
         },
         "entity.sentiment": "negative",
         "published-at": "2020-08-17"
        },
        {
         "document-count": 3770,
         "entity": {
          "id": "eae834b7-5b2f-430e-99ce-770786a971cf",
          "name": "Wirecard",
          "type": "organisation"
         },
         "entity.sentiment": "neutral",
         "published-at": "2020-08-17"
        },
        {
         "document-count": 3065,
         "entity": {
          "id": "eae834b7-5b2f-430e-99ce-770786a971cf",
          "name": "Wirecard",
          "type": "organisation"
         },
         "entity.sentiment": "positive",
         "published-at": "2020-08-17"
        },
        {
         "document-count": 896,
         "entity": {
          "id": "eae834b7-5b2f-430e-99ce-770786a971cf",
          "name": "Wirecard",
          "type": "organisation"
         },
         "entity.sentiment": "negative",
         "published-at": "2020-08-24"
        },
        {
         "document-count": 2917,
         "entity": {
          "id": "eae834b7-5b2f-430e-99ce-770786a971cf",
          "name": "Wirecard",
          "type": "organisation"
         },
         "entity.sentiment": "neutral",
         "published-at": "2020-08-24"
        },
        {
         "document-count": 1817,
         "entity": {
          "id": "eae834b7-5b2f-430e-99ce-770786a971cf",
          "name": "Wirecard",
          "type": "organisation"
         },
         "entity.sentiment": "positive",
         "published-at": "2020-08-24"
        },
        {
         "document-count": 496,
         "entity": {
          "id": "eae834b7-5b2f-430e-99ce-770786a971cf",
          "name": "Wirecard",
          "type": "organisation"
         },
         "entity.sentiment": "negative",
         "published-at": "2020-08-31"
        },
        {
         "document-count": 721,
         "entity": {
          "id": "eae834b7-5b2f-430e-99ce-770786a971cf",
          "name": "Wirecard",
          "type": "organisation"
         },
         "entity.sentiment": "neutral",
         "published-at": "2020-08-31"
        },
        {
         "document-count": 217,
         "entity": {
          "id": "eae834b7-5b2f-430e-99ce-770786a971cf",
          "name": "Wirecard",
          "type": "organisation"
         },
         "entity.sentiment": "positive",
         "published-at": "2020-08-31"
        }
       ]
      },
      "text/plain": [
       "<IPython.core.display.JSON object>"
      ]
     },
     "execution_count": 6,
     "metadata": {
      "application/json": {
       "expanded": false,
       "root": "root"
      }
     },
     "output_type": "execute_result"
    }
   ],
   "source": [
    "from IPython.display import JSON\n",
    "JSON(wirecard_result)"
   ]
  },
  {
   "cell_type": "markdown",
   "metadata": {},
   "source": [
    "We can convert the result into a dataframe, for a better readability."
   ]
  },
  {
   "cell_type": "code",
   "execution_count": 7,
   "metadata": {
    "tags": []
   },
   "outputs": [
    {
     "data": {
      "text/html": [
       "<div>\n",
       "<style scoped>\n",
       "    .dataframe tbody tr th:only-of-type {\n",
       "        vertical-align: middle;\n",
       "    }\n",
       "\n",
       "    .dataframe tbody tr th {\n",
       "        vertical-align: top;\n",
       "    }\n",
       "\n",
       "    .dataframe thead th {\n",
       "        text-align: right;\n",
       "    }\n",
       "</style>\n",
       "<table border=\"1\" class=\"dataframe\">\n",
       "  <thead>\n",
       "    <tr style=\"text-align: right;\">\n",
       "      <th>Sentiment</th>\n",
       "      <th>negative</th>\n",
       "      <th>neutral</th>\n",
       "      <th>positive</th>\n",
       "    </tr>\n",
       "    <tr>\n",
       "      <th>Date</th>\n",
       "      <th></th>\n",
       "      <th></th>\n",
       "      <th></th>\n",
       "    </tr>\n",
       "  </thead>\n",
       "  <tbody>\n",
       "    <tr>\n",
       "      <th>2020-02-24</th>\n",
       "      <td>11</td>\n",
       "      <td>43</td>\n",
       "      <td>116</td>\n",
       "    </tr>\n",
       "    <tr>\n",
       "      <th>2020-03-02</th>\n",
       "      <td>86</td>\n",
       "      <td>1167</td>\n",
       "      <td>646</td>\n",
       "    </tr>\n",
       "    <tr>\n",
       "      <th>2020-03-09</th>\n",
       "      <td>146</td>\n",
       "      <td>2368</td>\n",
       "      <td>928</td>\n",
       "    </tr>\n",
       "    <tr>\n",
       "      <th>2020-03-16</th>\n",
       "      <td>121</td>\n",
       "      <td>1521</td>\n",
       "      <td>565</td>\n",
       "    </tr>\n",
       "    <tr>\n",
       "      <th>2020-03-23</th>\n",
       "      <td>74</td>\n",
       "      <td>1417</td>\n",
       "      <td>549</td>\n",
       "    </tr>\n",
       "    <tr>\n",
       "      <th>2020-03-30</th>\n",
       "      <td>48</td>\n",
       "      <td>1381</td>\n",
       "      <td>696</td>\n",
       "    </tr>\n",
       "    <tr>\n",
       "      <th>2020-04-06</th>\n",
       "      <td>30</td>\n",
       "      <td>957</td>\n",
       "      <td>363</td>\n",
       "    </tr>\n",
       "    <tr>\n",
       "      <th>2020-04-13</th>\n",
       "      <td>60</td>\n",
       "      <td>1484</td>\n",
       "      <td>595</td>\n",
       "    </tr>\n",
       "    <tr>\n",
       "      <th>2020-04-20</th>\n",
       "      <td>303</td>\n",
       "      <td>2653</td>\n",
       "      <td>1437</td>\n",
       "    </tr>\n",
       "    <tr>\n",
       "      <th>2020-04-27</th>\n",
       "      <td>1603</td>\n",
       "      <td>3304</td>\n",
       "      <td>1763</td>\n",
       "    </tr>\n",
       "  </tbody>\n",
       "</table>\n",
       "</div>"
      ],
      "text/plain": [
       "Sentiment   negative  neutral  positive\n",
       "Date                                   \n",
       "2020-02-24        11       43       116\n",
       "2020-03-02        86     1167       646\n",
       "2020-03-09       146     2368       928\n",
       "2020-03-16       121     1521       565\n",
       "2020-03-23        74     1417       549\n",
       "2020-03-30        48     1381       696\n",
       "2020-04-06        30      957       363\n",
       "2020-04-13        60     1484       595\n",
       "2020-04-20       303     2653      1437\n",
       "2020-04-27      1603     3304      1763"
      ]
     },
     "execution_count": 7,
     "metadata": {},
     "output_type": "execute_result"
    }
   ],
   "source": [
    "df = json_normalize(wirecard_result, 'aggregations')\n",
    "\n",
    "df = df.rename(columns={'entity.sentiment': 'Sentiment', 'document-count': 'Count', 'published-at': 'Date'})\n",
    "df = df.reindex(columns=['Date', 'Sentiment', 'Count'])\n",
    "\n",
    "_ = df.style.set_caption('Sentiment towards Wirecard')\n",
    "\n",
    "stacked_df = df.groupby(['Date', 'Sentiment']).sum().unstack()\n",
    "stacked_df.columns = stacked_df.columns.droplevel(0)\n",
    "stacked_df.head(10)"
   ]
  },
  {
   "cell_type": "markdown",
   "metadata": {},
   "source": [
    "We can also plot the results to observe the temporal changes in sentiment"
   ]
  },
  {
   "cell_type": "code",
   "execution_count": 8,
   "metadata": {},
   "outputs": [
    {
     "data": {
      "image/png": "[encoded data removed]",
      "text/plain": [
       "<Figure size 1000x400 with 1 Axes>"
      ]
     },
     "metadata": {},
     "output_type": "display_data"
    }
   ],
   "source": [
    "import matplotlib.pyplot as plt\n",
    "%matplotlib inline\n",
    "\n",
    "fig = plt.figure(figsize=[10,4], dpi=100, facecolor='w')\n",
    "ax1 = plt.subplot(111)\n",
    "stacked_df.plot.bar(\n",
    "    stacked=True, \n",
    "    ax=ax1,\n",
    "    color=['#EA5462', '#C5CAD3' ,'#50CEAC']\n",
    ")\n",
    "_ = ax1.set_title('Sentiment towards Wirecard over time')"
   ]
  },
  {
   "cell_type": "markdown",
   "metadata": {},
   "source": [
    "### 2. Sentiment for an entity in relation to a set of key topics"
   ]
  },
  {
   "cell_type": "markdown",
   "metadata": {},
   "source": [
    "**Use case question**:\n",
    "\n",
    "- How is the overall sentiment trending towards organisations in my portfolio in relation to a set of key topics? "
   ]
  },
  {
   "cell_type": "markdown",
   "metadata": {},
   "source": [
    "**Example**: Sentiment trending around 7 car manufacturers in  January 2021, compared to December 2021, in relation to a set of 6 strategic topics"
   ]
  },
  {
   "cell_type": "code",
   "execution_count": 19,
   "metadata": {},
   "outputs": [],
   "source": [
    "topic_ids = [\n",
    "    \"fc31abf2-7b11-4ed5-a7d2-35266057c0dd\", \n",
    "    \"c3e9ec2f-e225-4955-9dbf-5480ce3d30fe\", \n",
    "    \"a301b00d-f4ef-49fb-9224-f52386d4955e\", \n",
    "    \"fdcb69a5-8aa6-4067-a29b-f064321e1d7d\", \n",
    "    \"4249987d-5b02-4e51-9c44-019dd8e39742\", \n",
    "    \"8de14dc1-6a93-4d1f-b755-a8d7aa570187\"\n",
    "    ] ## IDs of the following topics: Innovation, Patents & Invention, Corporate Culture, Corporate Governance, Corporate Responsibility, Sustainability\n",
    "\n",
    "entity_ids = [\n",
    "    \"d6341968-83df-441c-a869-fa7ae9c22c73\", \n",
    "    \"d7f0268d-1322-32b2-83d9-bb6fa9922506\", \n",
    "    \"a9cf01c5-751f-4fe5-a529-12e0d297cb63\", \n",
    "    \"c4ad0758-f3ee-4002-84aa-10849a153d75\", \n",
    "    \"06608104-0136-4371-ad04-be40fcc306a4\", \n",
    "    \"11cab8df-4be1-470f-8f49-8f7f0863ec95\", \n",
    "    \"946b44a8-b767-40ca-8093-e90d6af2a9d4\"\n",
    "    ] ##  IDs of the following car manufacturers: Toyota, Volkswagen, General Motors, Honda, BMW, Tesla, Ford\n",
    "\n",
    "query = {\n",
    "    \"where\": {\n",
    "        \"published-at\": {\n",
    "            \"gte\": \"2020-12-01\",\n",
    "            \"lt\": \"2021-02-01\"\n",
    "        },\n",
    "        \"topics\": {\n",
    "            \"id\": { \"any\": topic_ids }\n",
    "        },\n",
    "        \"entities\": {\n",
    "            \"id\": { \"any\": entity_ids }\n",
    "        }\n",
    "    },\n",
    "    \"aggregations\": {\n",
    "        # Group by topic, entity and sentiment\n",
    "        \"group-by\": [\n",
    "            \"published-at\",\n",
    "            \"topic\",\n",
    "            \"entity\",\n",
    "            \"entity.sentiment\"\n",
    "        ],\n",
    "        \"options\": {\n",
    "            \"published-at\": { \"interval\": \"month\" },\n",
    "            \"topic\": { \"include\": topic_ids },\n",
    "            \"entity\": { \"include\": entity_ids }\n",
    "        },\n",
    "        \"metrics\": [\"document-count\"]\n",
    "    }\n",
    "}\n",
    "\n",
    "car_manufacturers_result = request(json=query).json()"
   ]
  },
  {
   "cell_type": "markdown",
   "metadata": {},
   "source": [
    "You can see the structure of the response"
   ]
  },
  {
   "cell_type": "code",
   "execution_count": 20,
   "metadata": {},
   "outputs": [
    {
     "data": {
      "application/json": {
       "aggregations": [
        {
         "document-count": 296,
         "entity": {
          "id": "a9cf01c5-751f-4fe5-a529-12e0d297cb63",
          "name": "General Motors",
          "type": "organisation"
         },
         "entity.sentiment": "negative",
         "published-at": "2020-12-01",
         "topic": {
          "id": "fc31abf2-7b11-4ed5-a7d2-35266057c0dd",
          "name": "Innovation"
         }
        },
        {
         "document-count": 2389,
         "entity": {
          "id": "a9cf01c5-751f-4fe5-a529-12e0d297cb63",
          "name": "General Motors",
          "type": "organisation"
         },
         "entity.sentiment": "neutral",
         "published-at": "2020-12-01",
         "topic": {
          "id": "fc31abf2-7b11-4ed5-a7d2-35266057c0dd",
          "name": "Innovation"
         }
        },
        {
         "document-count": 8206,
         "entity": {
          "id": "a9cf01c5-751f-4fe5-a529-12e0d297cb63",
          "name": "General Motors",
          "type": "organisation"
         },
         "entity.sentiment": "positive",
         "published-at": "2020-12-01",
         "topic": {
          "id": "fc31abf2-7b11-4ed5-a7d2-35266057c0dd",
          "name": "Innovation"
         }
        },
        {
         "document-count": 296,
         "entity": {
          "id": "d6341968-83df-441c-a869-fa7ae9c22c73",
          "name": "Toyota",
          "type": "organisation"
         },
         "entity.sentiment": "negative",
         "published-at": "2020-12-01",
         "topic": {
          "id": "fc31abf2-7b11-4ed5-a7d2-35266057c0dd",
          "name": "Innovation"
         }
        },
        {
         "document-count": 4323,
         "entity": {
          "id": "d6341968-83df-441c-a869-fa7ae9c22c73",
          "name": "Toyota",
          "type": "organisation"
         },
         "entity.sentiment": "neutral",
         "published-at": "2020-12-01",
         "topic": {
          "id": "fc31abf2-7b11-4ed5-a7d2-35266057c0dd",
          "name": "Innovation"
         }
        },
        {
         "document-count": 21887,
         "entity": {
          "id": "d6341968-83df-441c-a869-fa7ae9c22c73",
          "name": "Toyota",
          "type": "organisation"
         },
         "entity.sentiment": "positive",
         "published-at": "2020-12-01",
         "topic": {
          "id": "fc31abf2-7b11-4ed5-a7d2-35266057c0dd",
          "name": "Innovation"
         }
        },
        {
         "document-count": 650,
         "entity": {
          "id": "11cab8df-4be1-470f-8f49-8f7f0863ec95",
          "name": "Tesla, Inc.",
          "type": "organisation"
         },
         "entity.sentiment": "negative",
         "published-at": "2020-12-01",
         "topic": {
          "id": "fc31abf2-7b11-4ed5-a7d2-35266057c0dd",
          "name": "Innovation"
         }
        },
        {
         "document-count": 4240,
         "entity": {
          "id": "11cab8df-4be1-470f-8f49-8f7f0863ec95",
          "name": "Tesla, Inc.",
          "type": "organisation"
         },
         "entity.sentiment": "neutral",
         "published-at": "2020-12-01",
         "topic": {
          "id": "fc31abf2-7b11-4ed5-a7d2-35266057c0dd",
          "name": "Innovation"
         }
        },
        {
         "document-count": 13664,
         "entity": {
          "id": "11cab8df-4be1-470f-8f49-8f7f0863ec95",
          "name": "Tesla, Inc.",
          "type": "organisation"
         },
         "entity.sentiment": "positive",
         "published-at": "2020-12-01",
         "topic": {
          "id": "fc31abf2-7b11-4ed5-a7d2-35266057c0dd",
          "name": "Innovation"
         }
        },
        {
         "document-count": 160,
         "entity": {
          "id": "06608104-0136-4371-ad04-be40fcc306a4",
          "name": "BMW",
          "type": "organisation"
         },
         "entity.sentiment": "negative",
         "published-at": "2020-12-01",
         "topic": {
          "id": "fc31abf2-7b11-4ed5-a7d2-35266057c0dd",
          "name": "Innovation"
         }
        },
        {
         "document-count": 3921,
         "entity": {
          "id": "06608104-0136-4371-ad04-be40fcc306a4",
          "name": "BMW",
          "type": "organisation"
         },
         "entity.sentiment": "neutral",
         "published-at": "2020-12-01",
         "topic": {
          "id": "fc31abf2-7b11-4ed5-a7d2-35266057c0dd",
          "name": "Innovation"
         }
        },
        {
         "document-count": 13235,
         "entity": {
          "id": "06608104-0136-4371-ad04-be40fcc306a4",
          "name": "BMW",
          "type": "organisation"
         },
         "entity.sentiment": "positive",
         "published-at": "2020-12-01",
         "topic": {
          "id": "fc31abf2-7b11-4ed5-a7d2-35266057c0dd",
          "name": "Innovation"
         }
        },
        {
         "document-count": 159,
         "entity": {
          "id": "c4ad0758-f3ee-4002-84aa-10849a153d75",
          "name": "Honda",
          "type": "organisation"
         },
         "entity.sentiment": "negative",
         "published-at": "2020-12-01",
         "topic": {
          "id": "fc31abf2-7b11-4ed5-a7d2-35266057c0dd",
          "name": "Innovation"
         }
        },
        {
         "document-count": 3618,
         "entity": {
          "id": "c4ad0758-f3ee-4002-84aa-10849a153d75",
          "name": "Honda",
          "type": "organisation"
         },
         "entity.sentiment": "neutral",
         "published-at": "2020-12-01",
         "topic": {
          "id": "fc31abf2-7b11-4ed5-a7d2-35266057c0dd",
          "name": "Innovation"
         }
        },
        {
         "document-count": 10480,
         "entity": {
          "id": "c4ad0758-f3ee-4002-84aa-10849a153d75",
          "name": "Honda",
          "type": "organisation"
         },
         "entity.sentiment": "positive",
         "published-at": "2020-12-01",
         "topic": {
          "id": "fc31abf2-7b11-4ed5-a7d2-35266057c0dd",
          "name": "Innovation"
         }
        },
        {
         "document-count": 384,
         "entity": {
          "id": "946b44a8-b767-40ca-8093-e90d6af2a9d4",
          "name": "Ford Motor Company",
          "type": "organisation"
         },
         "entity.sentiment": "negative",
         "published-at": "2020-12-01",
         "topic": {
          "id": "fc31abf2-7b11-4ed5-a7d2-35266057c0dd",
          "name": "Innovation"
         }
        },
        {
         "document-count": 3749,
         "entity": {
          "id": "946b44a8-b767-40ca-8093-e90d6af2a9d4",
          "name": "Ford Motor Company",
          "type": "organisation"
         },
         "entity.sentiment": "neutral",
         "published-at": "2020-12-01",
         "topic": {
          "id": "fc31abf2-7b11-4ed5-a7d2-35266057c0dd",
          "name": "Innovation"
         }
        },
        {
         "document-count": 9694,
         "entity": {
          "id": "946b44a8-b767-40ca-8093-e90d6af2a9d4",
          "name": "Ford Motor Company",
          "type": "organisation"
         },
         "entity.sentiment": "positive",
         "published-at": "2020-12-01",
         "topic": {
          "id": "fc31abf2-7b11-4ed5-a7d2-35266057c0dd",
          "name": "Innovation"
         }
        },
        {
         "document-count": 248,
         "entity": {
          "id": "d7f0268d-1322-32b2-83d9-bb6fa9922506",
          "name": "Volkswagen",
          "type": "organisation"
         },
         "entity.sentiment": "negative",
         "published-at": "2020-12-01",
         "topic": {
          "id": "fc31abf2-7b11-4ed5-a7d2-35266057c0dd",
          "name": "Innovation"
         }
        },
        {
         "document-count": 1900,
         "entity": {
          "id": "d7f0268d-1322-32b2-83d9-bb6fa9922506",
          "name": "Volkswagen",
          "type": "organisation"
         },
         "entity.sentiment": "neutral",
         "published-at": "2020-12-01",
         "topic": {
          "id": "fc31abf2-7b11-4ed5-a7d2-35266057c0dd",
          "name": "Innovation"
         }
        },
        {
         "document-count": 8916,
         "entity": {
          "id": "d7f0268d-1322-32b2-83d9-bb6fa9922506",
          "name": "Volkswagen",
          "type": "organisation"
         },
         "entity.sentiment": "positive",
         "published-at": "2020-12-01",
         "topic": {
          "id": "fc31abf2-7b11-4ed5-a7d2-35266057c0dd",
          "name": "Innovation"
         }
        },
        {
         "document-count": 5875,
         "entity": {
          "id": "11cab8df-4be1-470f-8f49-8f7f0863ec95",
          "name": "Tesla, Inc.",
          "type": "organisation"
         },
         "entity.sentiment": "negative",
         "published-at": "2020-12-01",
         "topic": {
          "id": "8de14dc1-6a93-4d1f-b755-a8d7aa570187",
          "name": "Sustainability"
         }
        },
        {
         "document-count": 8043,
         "entity": {
          "id": "11cab8df-4be1-470f-8f49-8f7f0863ec95",
          "name": "Tesla, Inc.",
          "type": "organisation"
         },
         "entity.sentiment": "neutral",
         "published-at": "2020-12-01",
         "topic": {
          "id": "8de14dc1-6a93-4d1f-b755-a8d7aa570187",
          "name": "Sustainability"
         }
        },
        {
         "document-count": 30593,
         "entity": {
          "id": "11cab8df-4be1-470f-8f49-8f7f0863ec95",
          "name": "Tesla, Inc.",
          "type": "organisation"
         },
         "entity.sentiment": "positive",
         "published-at": "2020-12-01",
         "topic": {
          "id": "8de14dc1-6a93-4d1f-b755-a8d7aa570187",
          "name": "Sustainability"
         }
        },
        {
         "document-count": 1856,
         "entity": {
          "id": "d6341968-83df-441c-a869-fa7ae9c22c73",
          "name": "Toyota",
          "type": "organisation"
         },
         "entity.sentiment": "negative",
         "published-at": "2020-12-01",
         "topic": {
          "id": "8de14dc1-6a93-4d1f-b755-a8d7aa570187",
          "name": "Sustainability"
         }
        },
        {
         "document-count": 2735,
         "entity": {
          "id": "d6341968-83df-441c-a869-fa7ae9c22c73",
          "name": "Toyota",
          "type": "organisation"
         },
         "entity.sentiment": "neutral",
         "published-at": "2020-12-01",
         "topic": {
          "id": "8de14dc1-6a93-4d1f-b755-a8d7aa570187",
          "name": "Sustainability"
         }
        },
        {
         "document-count": 17048,
         "entity": {
          "id": "d6341968-83df-441c-a869-fa7ae9c22c73",
          "name": "Toyota",
          "type": "organisation"
         },
         "entity.sentiment": "positive",
         "published-at": "2020-12-01",
         "topic": {
          "id": "8de14dc1-6a93-4d1f-b755-a8d7aa570187",
          "name": "Sustainability"
         }
        },
        {
         "document-count": 896,
         "entity": {
          "id": "06608104-0136-4371-ad04-be40fcc306a4",
          "name": "BMW",
          "type": "organisation"
         },
         "entity.sentiment": "negative",
         "published-at": "2020-12-01",
         "topic": {
          "id": "8de14dc1-6a93-4d1f-b755-a8d7aa570187",
          "name": "Sustainability"
         }
        },
        {
         "document-count": 2293,
         "entity": {
          "id": "06608104-0136-4371-ad04-be40fcc306a4",
          "name": "BMW",
          "type": "organisation"
         },
         "entity.sentiment": "neutral",
         "published-at": "2020-12-01",
         "topic": {
          "id": "8de14dc1-6a93-4d1f-b755-a8d7aa570187",
          "name": "Sustainability"
         }
        },
        {
         "document-count": 11849,
         "entity": {
          "id": "06608104-0136-4371-ad04-be40fcc306a4",
          "name": "BMW",
          "type": "organisation"
         },
         "entity.sentiment": "positive",
         "published-at": "2020-12-01",
         "topic": {
          "id": "8de14dc1-6a93-4d1f-b755-a8d7aa570187",
          "name": "Sustainability"
         }
        },
        {
         "document-count": 1966,
         "entity": {
          "id": "946b44a8-b767-40ca-8093-e90d6af2a9d4",
          "name": "Ford Motor Company",
          "type": "organisation"
         },
         "entity.sentiment": "negative",
         "published-at": "2020-12-01",
         "topic": {
          "id": "8de14dc1-6a93-4d1f-b755-a8d7aa570187",
          "name": "Sustainability"
         }
        },
        {
         "document-count": 2324,
         "entity": {
          "id": "946b44a8-b767-40ca-8093-e90d6af2a9d4",
          "name": "Ford Motor Company",
          "type": "organisation"
         },
         "entity.sentiment": "neutral",
         "published-at": "2020-12-01",
         "topic": {
          "id": "8de14dc1-6a93-4d1f-b755-a8d7aa570187",
          "name": "Sustainability"
         }
        },
        {
         "document-count": 8295,
         "entity": {
          "id": "946b44a8-b767-40ca-8093-e90d6af2a9d4",
          "name": "Ford Motor Company",
          "type": "organisation"
         },
         "entity.sentiment": "positive",
         "published-at": "2020-12-01",
         "topic": {
          "id": "8de14dc1-6a93-4d1f-b755-a8d7aa570187",
          "name": "Sustainability"
         }
        },
        {
         "document-count": 1816,
         "entity": {
          "id": "a9cf01c5-751f-4fe5-a529-12e0d297cb63",
          "name": "General Motors",
          "type": "organisation"
         },
         "entity.sentiment": "negative",
         "published-at": "2020-12-01",
         "topic": {
          "id": "8de14dc1-6a93-4d1f-b755-a8d7aa570187",
          "name": "Sustainability"
         }
        },
        {
         "document-count": 1598,
         "entity": {
          "id": "a9cf01c5-751f-4fe5-a529-12e0d297cb63",
          "name": "General Motors",
          "type": "organisation"
         },
         "entity.sentiment": "neutral",
         "published-at": "2020-12-01",
         "topic": {
          "id": "8de14dc1-6a93-4d1f-b755-a8d7aa570187",
          "name": "Sustainability"
         }
        },
        {
         "document-count": 8823,
         "entity": {
          "id": "a9cf01c5-751f-4fe5-a529-12e0d297cb63",
          "name": "General Motors",
          "type": "organisation"
         },
         "entity.sentiment": "positive",
         "published-at": "2020-12-01",
         "topic": {
          "id": "8de14dc1-6a93-4d1f-b755-a8d7aa570187",
          "name": "Sustainability"
         }
        },
        {
         "document-count": 1061,
         "entity": {
          "id": "d7f0268d-1322-32b2-83d9-bb6fa9922506",
          "name": "Volkswagen",
          "type": "organisation"
         },
         "entity.sentiment": "negative",
         "published-at": "2020-12-01",
         "topic": {
          "id": "8de14dc1-6a93-4d1f-b755-a8d7aa570187",
          "name": "Sustainability"
         }
        },
        {
         "document-count": 1184,
         "entity": {
          "id": "d7f0268d-1322-32b2-83d9-bb6fa9922506",
          "name": "Volkswagen",
          "type": "organisation"
         },
         "entity.sentiment": "neutral",
         "published-at": "2020-12-01",
         "topic": {
          "id": "8de14dc1-6a93-4d1f-b755-a8d7aa570187",
          "name": "Sustainability"
         }
        },
        {
         "document-count": 7685,
         "entity": {
          "id": "d7f0268d-1322-32b2-83d9-bb6fa9922506",
          "name": "Volkswagen",
          "type": "organisation"
         },
         "entity.sentiment": "positive",
         "published-at": "2020-12-01",
         "topic": {
          "id": "8de14dc1-6a93-4d1f-b755-a8d7aa570187",
          "name": "Sustainability"
         }
        },
        {
         "document-count": 498,
         "entity": {
          "id": "c4ad0758-f3ee-4002-84aa-10849a153d75",
          "name": "Honda",
          "type": "organisation"
         },
         "entity.sentiment": "negative",
         "published-at": "2020-12-01",
         "topic": {
          "id": "8de14dc1-6a93-4d1f-b755-a8d7aa570187",
          "name": "Sustainability"
         }
        },
        {
         "document-count": 1367,
         "entity": {
          "id": "c4ad0758-f3ee-4002-84aa-10849a153d75",
          "name": "Honda",
          "type": "organisation"
         },
         "entity.sentiment": "neutral",
         "published-at": "2020-12-01",
         "topic": {
          "id": "8de14dc1-6a93-4d1f-b755-a8d7aa570187",
          "name": "Sustainability"
         }
        },
        {
         "document-count": 5400,
         "entity": {
          "id": "c4ad0758-f3ee-4002-84aa-10849a153d75",
          "name": "Honda",
          "type": "organisation"
         },
         "entity.sentiment": "positive",
         "published-at": "2020-12-01",
         "topic": {
          "id": "8de14dc1-6a93-4d1f-b755-a8d7aa570187",
          "name": "Sustainability"
         }
        },
        {
         "document-count": 689,
         "entity": {
          "id": "11cab8df-4be1-470f-8f49-8f7f0863ec95",
          "name": "Tesla, Inc.",
          "type": "organisation"
         },
         "entity.sentiment": "negative",
         "published-at": "2020-12-01",
         "topic": {
          "id": "fdcb69a5-8aa6-4067-a29b-f064321e1d7d",
          "name": "Corporate Governance"
         }
        },
        {
         "document-count": 3570,
         "entity": {
          "id": "11cab8df-4be1-470f-8f49-8f7f0863ec95",
          "name": "Tesla, Inc.",
          "type": "organisation"
         },
         "entity.sentiment": "neutral",
         "published-at": "2020-12-01",
         "topic": {
          "id": "fdcb69a5-8aa6-4067-a29b-f064321e1d7d",
          "name": "Corporate Governance"
         }
        },
        {
         "document-count": 3033,
         "entity": {
          "id": "11cab8df-4be1-470f-8f49-8f7f0863ec95",
          "name": "Tesla, Inc.",
          "type": "organisation"
         },
         "entity.sentiment": "positive",
         "published-at": "2020-12-01",
         "topic": {
          "id": "fdcb69a5-8aa6-4067-a29b-f064321e1d7d",
          "name": "Corporate Governance"
         }
        },
        {
         "document-count": 180,
         "entity": {
          "id": "d6341968-83df-441c-a869-fa7ae9c22c73",
          "name": "Toyota",
          "type": "organisation"
         },
         "entity.sentiment": "negative",
         "published-at": "2020-12-01",
         "topic": {
          "id": "fdcb69a5-8aa6-4067-a29b-f064321e1d7d",
          "name": "Corporate Governance"
         }
        },
        {
         "document-count": 2741,
         "entity": {
          "id": "d6341968-83df-441c-a869-fa7ae9c22c73",
          "name": "Toyota",
          "type": "organisation"
         },
         "entity.sentiment": "neutral",
         "published-at": "2020-12-01",
         "topic": {
          "id": "fdcb69a5-8aa6-4067-a29b-f064321e1d7d",
          "name": "Corporate Governance"
         }
        },
        {
         "document-count": 2307,
         "entity": {
          "id": "d6341968-83df-441c-a869-fa7ae9c22c73",
          "name": "Toyota",
          "type": "organisation"
         },
         "entity.sentiment": "positive",
         "published-at": "2020-12-01",
         "topic": {
          "id": "fdcb69a5-8aa6-4067-a29b-f064321e1d7d",
          "name": "Corporate Governance"
         }
        },
        {
         "document-count": 140,
         "entity": {
          "id": "946b44a8-b767-40ca-8093-e90d6af2a9d4",
          "name": "Ford Motor Company",
          "type": "organisation"
         },
         "entity.sentiment": "negative",
         "published-at": "2020-12-01",
         "topic": {
          "id": "fdcb69a5-8aa6-4067-a29b-f064321e1d7d",
          "name": "Corporate Governance"
         }
        },
        {
         "document-count": 2205,
         "entity": {
          "id": "946b44a8-b767-40ca-8093-e90d6af2a9d4",
          "name": "Ford Motor Company",
          "type": "organisation"
         },
         "entity.sentiment": "neutral",
         "published-at": "2020-12-01",
         "topic": {
          "id": "fdcb69a5-8aa6-4067-a29b-f064321e1d7d",
          "name": "Corporate Governance"
         }
        },
        {
         "document-count": 2228,
         "entity": {
          "id": "946b44a8-b767-40ca-8093-e90d6af2a9d4",
          "name": "Ford Motor Company",
          "type": "organisation"
         },
         "entity.sentiment": "positive",
         "published-at": "2020-12-01",
         "topic": {
          "id": "fdcb69a5-8aa6-4067-a29b-f064321e1d7d",
          "name": "Corporate Governance"
         }
        },
        {
         "document-count": 1121,
         "entity": {
          "id": "d7f0268d-1322-32b2-83d9-bb6fa9922506",
          "name": "Volkswagen",
          "type": "organisation"
         },
         "entity.sentiment": "negative",
         "published-at": "2020-12-01",
         "topic": {
          "id": "fdcb69a5-8aa6-4067-a29b-f064321e1d7d",
          "name": "Corporate Governance"
         }
        },
        {
         "document-count": 456,
         "entity": {
          "id": "d7f0268d-1322-32b2-83d9-bb6fa9922506",
          "name": "Volkswagen",
          "type": "organisation"
         },
         "entity.sentiment": "neutral",
         "published-at": "2020-12-01",
         "topic": {
          "id": "fdcb69a5-8aa6-4067-a29b-f064321e1d7d",
          "name": "Corporate Governance"
         }
        },
        {
         "document-count": 926,
         "entity": {
          "id": "d7f0268d-1322-32b2-83d9-bb6fa9922506",
          "name": "Volkswagen",
          "type": "organisation"
         },
         "entity.sentiment": "positive",
         "published-at": "2020-12-01",
         "topic": {
          "id": "fdcb69a5-8aa6-4067-a29b-f064321e1d7d",
          "name": "Corporate Governance"
         }
        },
        {
         "document-count": 150,
         "entity": {
          "id": "a9cf01c5-751f-4fe5-a529-12e0d297cb63",
          "name": "General Motors",
          "type": "organisation"
         },
         "entity.sentiment": "negative",
         "published-at": "2020-12-01",
         "topic": {
          "id": "fdcb69a5-8aa6-4067-a29b-f064321e1d7d",
          "name": "Corporate Governance"
         }
        },
        {
         "document-count": 2400,
         "entity": {
          "id": "a9cf01c5-751f-4fe5-a529-12e0d297cb63",
          "name": "General Motors",
          "type": "organisation"
         },
         "entity.sentiment": "neutral",
         "published-at": "2020-12-01",
         "topic": {
          "id": "fdcb69a5-8aa6-4067-a29b-f064321e1d7d",
          "name": "Corporate Governance"
         }
        },
        {
         "document-count": 2628,
         "entity": {
          "id": "a9cf01c5-751f-4fe5-a529-12e0d297cb63",
          "name": "General Motors",
          "type": "organisation"
         },
         "entity.sentiment": "positive",
         "published-at": "2020-12-01",
         "topic": {
          "id": "fdcb69a5-8aa6-4067-a29b-f064321e1d7d",
          "name": "Corporate Governance"
         }
        },
        {
         "document-count": 350,
         "entity": {
          "id": "06608104-0136-4371-ad04-be40fcc306a4",
          "name": "BMW",
          "type": "organisation"
         },
         "entity.sentiment": "negative",
         "published-at": "2020-12-01",
         "topic": {
          "id": "fdcb69a5-8aa6-4067-a29b-f064321e1d7d",
          "name": "Corporate Governance"
         }
        },
        {
         "document-count": 1373,
         "entity": {
          "id": "06608104-0136-4371-ad04-be40fcc306a4",
          "name": "BMW",
          "type": "organisation"
         },
         "entity.sentiment": "neutral",
         "published-at": "2020-12-01",
         "topic": {
          "id": "fdcb69a5-8aa6-4067-a29b-f064321e1d7d",
          "name": "Corporate Governance"
         }
        },
        {
         "document-count": 1879,
         "entity": {
          "id": "06608104-0136-4371-ad04-be40fcc306a4",
          "name": "BMW",
          "type": "organisation"
         },
         "entity.sentiment": "positive",
         "published-at": "2020-12-01",
         "topic": {
          "id": "fdcb69a5-8aa6-4067-a29b-f064321e1d7d",
          "name": "Corporate Governance"
         }
        },
        {
         "document-count": 40,
         "entity": {
          "id": "c4ad0758-f3ee-4002-84aa-10849a153d75",
          "name": "Honda",
          "type": "organisation"
         },
         "entity.sentiment": "negative",
         "published-at": "2020-12-01",
         "topic": {
          "id": "fdcb69a5-8aa6-4067-a29b-f064321e1d7d",
          "name": "Corporate Governance"
         }
        },
        {
         "document-count": 1782,
         "entity": {
          "id": "c4ad0758-f3ee-4002-84aa-10849a153d75",
          "name": "Honda",
          "type": "organisation"
         },
         "entity.sentiment": "neutral",
         "published-at": "2020-12-01",
         "topic": {
          "id": "fdcb69a5-8aa6-4067-a29b-f064321e1d7d",
          "name": "Corporate Governance"
         }
        },
        {
         "document-count": 594,
         "entity": {
          "id": "c4ad0758-f3ee-4002-84aa-10849a153d75",
          "name": "Honda",
          "type": "organisation"
         },
         "entity.sentiment": "positive",
         "published-at": "2020-12-01",
         "topic": {
          "id": "fdcb69a5-8aa6-4067-a29b-f064321e1d7d",
          "name": "Corporate Governance"
         }
        },
        {
         "document-count": 121,
         "entity": {
          "id": "d6341968-83df-441c-a869-fa7ae9c22c73",
          "name": "Toyota",
          "type": "organisation"
         },
         "entity.sentiment": "negative",
         "published-at": "2020-12-01",
         "topic": {
          "id": "c3e9ec2f-e225-4955-9dbf-5480ce3d30fe",
          "name": "Patents & Inventions"
         }
        },
        {
         "document-count": 1510,
         "entity": {
          "id": "d6341968-83df-441c-a869-fa7ae9c22c73",
          "name": "Toyota",
          "type": "organisation"
         },
         "entity.sentiment": "neutral",
         "published-at": "2020-12-01",
         "topic": {
          "id": "c3e9ec2f-e225-4955-9dbf-5480ce3d30fe",
          "name": "Patents & Inventions"
         }
        },
        {
         "document-count": 6079,
         "entity": {
          "id": "d6341968-83df-441c-a869-fa7ae9c22c73",
          "name": "Toyota",
          "type": "organisation"
         },
         "entity.sentiment": "positive",
         "published-at": "2020-12-01",
         "topic": {
          "id": "c3e9ec2f-e225-4955-9dbf-5480ce3d30fe",
          "name": "Patents & Inventions"
         }
        },
        {
         "document-count": 529,
         "entity": {
          "id": "11cab8df-4be1-470f-8f49-8f7f0863ec95",
          "name": "Tesla, Inc.",
          "type": "organisation"
         },
         "entity.sentiment": "negative",
         "published-at": "2020-12-01",
         "topic": {
          "id": "c3e9ec2f-e225-4955-9dbf-5480ce3d30fe",
          "name": "Patents & Inventions"
         }
        },
        {
         "document-count": 1958,
         "entity": {
          "id": "11cab8df-4be1-470f-8f49-8f7f0863ec95",
          "name": "Tesla, Inc.",
          "type": "organisation"
         },
         "entity.sentiment": "neutral",
         "published-at": "2020-12-01",
         "topic": {
          "id": "c3e9ec2f-e225-4955-9dbf-5480ce3d30fe",
          "name": "Patents & Inventions"
         }
        },
        {
         "document-count": 4466,
         "entity": {
          "id": "11cab8df-4be1-470f-8f49-8f7f0863ec95",
          "name": "Tesla, Inc.",
          "type": "organisation"
         },
         "entity.sentiment": "positive",
         "published-at": "2020-12-01",
         "topic": {
          "id": "c3e9ec2f-e225-4955-9dbf-5480ce3d30fe",
          "name": "Patents & Inventions"
         }
        },
        {
         "document-count": 176,
         "entity": {
          "id": "946b44a8-b767-40ca-8093-e90d6af2a9d4",
          "name": "Ford Motor Company",
          "type": "organisation"
         },
         "entity.sentiment": "negative",
         "published-at": "2020-12-01",
         "topic": {
          "id": "c3e9ec2f-e225-4955-9dbf-5480ce3d30fe",
          "name": "Patents & Inventions"
         }
        },
        {
         "document-count": 1242,
         "entity": {
          "id": "946b44a8-b767-40ca-8093-e90d6af2a9d4",
          "name": "Ford Motor Company",
          "type": "organisation"
         },
         "entity.sentiment": "neutral",
         "published-at": "2020-12-01",
         "topic": {
          "id": "c3e9ec2f-e225-4955-9dbf-5480ce3d30fe",
          "name": "Patents & Inventions"
         }
        },
        {
         "document-count": 1877,
         "entity": {
          "id": "946b44a8-b767-40ca-8093-e90d6af2a9d4",
          "name": "Ford Motor Company",
          "type": "organisation"
         },
         "entity.sentiment": "positive",
         "published-at": "2020-12-01",
         "topic": {
          "id": "c3e9ec2f-e225-4955-9dbf-5480ce3d30fe",
          "name": "Patents & Inventions"
         }
        },
        {
         "document-count": 363,
         "entity": {
          "id": "c4ad0758-f3ee-4002-84aa-10849a153d75",
          "name": "Honda",
          "type": "organisation"
         },
         "entity.sentiment": "negative",
         "published-at": "2020-12-01",
         "topic": {
          "id": "c3e9ec2f-e225-4955-9dbf-5480ce3d30fe",
          "name": "Patents & Inventions"
         }
        },
        {
         "document-count": 1564,
         "entity": {
          "id": "c4ad0758-f3ee-4002-84aa-10849a153d75",
          "name": "Honda",
          "type": "organisation"
         },
         "entity.sentiment": "neutral",
         "published-at": "2020-12-01",
         "topic": {
          "id": "c3e9ec2f-e225-4955-9dbf-5480ce3d30fe",
          "name": "Patents & Inventions"
         }
        },
        {
         "document-count": 1723,
         "entity": {
          "id": "c4ad0758-f3ee-4002-84aa-10849a153d75",
          "name": "Honda",
          "type": "organisation"
         },
         "entity.sentiment": "positive",
         "published-at": "2020-12-01",
         "topic": {
          "id": "c3e9ec2f-e225-4955-9dbf-5480ce3d30fe",
          "name": "Patents & Inventions"
         }
        },
        {
         "document-count": 80,
         "entity": {
          "id": "a9cf01c5-751f-4fe5-a529-12e0d297cb63",
          "name": "General Motors",
          "type": "organisation"
         },
         "entity.sentiment": "negative",
         "published-at": "2020-12-01",
         "topic": {
          "id": "c3e9ec2f-e225-4955-9dbf-5480ce3d30fe",
          "name": "Patents & Inventions"
         }
        },
        {
         "document-count": 569,
         "entity": {
          "id": "a9cf01c5-751f-4fe5-a529-12e0d297cb63",
          "name": "General Motors",
          "type": "organisation"
         },
         "entity.sentiment": "neutral",
         "published-at": "2020-12-01",
         "topic": {
          "id": "c3e9ec2f-e225-4955-9dbf-5480ce3d30fe",
          "name": "Patents & Inventions"
         }
        },
        {
         "document-count": 1458,
         "entity": {
          "id": "a9cf01c5-751f-4fe5-a529-12e0d297cb63",
          "name": "General Motors",
          "type": "organisation"
         },
         "entity.sentiment": "positive",
         "published-at": "2020-12-01",
         "topic": {
          "id": "c3e9ec2f-e225-4955-9dbf-5480ce3d30fe",
          "name": "Patents & Inventions"
         }
        },
        {
         "document-count": 87,
         "entity": {
          "id": "06608104-0136-4371-ad04-be40fcc306a4",
          "name": "BMW",
          "type": "organisation"
         },
         "entity.sentiment": "negative",
         "published-at": "2020-12-01",
         "topic": {
          "id": "c3e9ec2f-e225-4955-9dbf-5480ce3d30fe",
          "name": "Patents & Inventions"
         }
        },
        {
         "document-count": 501,
         "entity": {
          "id": "06608104-0136-4371-ad04-be40fcc306a4",
          "name": "BMW",
          "type": "organisation"
         },
         "entity.sentiment": "neutral",
         "published-at": "2020-12-01",
         "topic": {
          "id": "c3e9ec2f-e225-4955-9dbf-5480ce3d30fe",
          "name": "Patents & Inventions"
         }
        },
        {
         "document-count": 1626,
         "entity": {
          "id": "06608104-0136-4371-ad04-be40fcc306a4",
          "name": "BMW",
          "type": "organisation"
         },
         "entity.sentiment": "positive",
         "published-at": "2020-12-01",
         "topic": {
          "id": "c3e9ec2f-e225-4955-9dbf-5480ce3d30fe",
          "name": "Patents & Inventions"
         }
        },
        {
         "document-count": 212,
         "entity": {
          "id": "d7f0268d-1322-32b2-83d9-bb6fa9922506",
          "name": "Volkswagen",
          "type": "organisation"
         },
         "entity.sentiment": "negative",
         "published-at": "2020-12-01",
         "topic": {
          "id": "c3e9ec2f-e225-4955-9dbf-5480ce3d30fe",
          "name": "Patents & Inventions"
         }
        },
        {
         "document-count": 147,
         "entity": {
          "id": "d7f0268d-1322-32b2-83d9-bb6fa9922506",
          "name": "Volkswagen",
          "type": "organisation"
         },
         "entity.sentiment": "neutral",
         "published-at": "2020-12-01",
         "topic": {
          "id": "c3e9ec2f-e225-4955-9dbf-5480ce3d30fe",
          "name": "Patents & Inventions"
         }
        },
        {
         "document-count": 814,
         "entity": {
          "id": "d7f0268d-1322-32b2-83d9-bb6fa9922506",
          "name": "Volkswagen",
          "type": "organisation"
         },
         "entity.sentiment": "positive",
         "published-at": "2020-12-01",
         "topic": {
          "id": "c3e9ec2f-e225-4955-9dbf-5480ce3d30fe",
          "name": "Patents & Inventions"
         }
        },
        {
         "document-count": 611,
         "entity": {
          "id": "11cab8df-4be1-470f-8f49-8f7f0863ec95",
          "name": "Tesla, Inc.",
          "type": "organisation"
         },
         "entity.sentiment": "negative",
         "published-at": "2020-12-01",
         "topic": {
          "id": "4249987d-5b02-4e51-9c44-019dd8e39742",
          "name": "Corporate Responsibility"
         }
        },
        {
         "document-count": 1472,
         "entity": {
          "id": "11cab8df-4be1-470f-8f49-8f7f0863ec95",
          "name": "Tesla, Inc.",
          "type": "organisation"
         },
         "entity.sentiment": "neutral",
         "published-at": "2020-12-01",
         "topic": {
          "id": "4249987d-5b02-4e51-9c44-019dd8e39742",
          "name": "Corporate Responsibility"
         }
        },
        {
         "document-count": 3392,
         "entity": {
          "id": "11cab8df-4be1-470f-8f49-8f7f0863ec95",
          "name": "Tesla, Inc.",
          "type": "organisation"
         },
         "entity.sentiment": "positive",
         "published-at": "2020-12-01",
         "topic": {
          "id": "4249987d-5b02-4e51-9c44-019dd8e39742",
          "name": "Corporate Responsibility"
         }
        },
        {
         "document-count": 199,
         "entity": {
          "id": "d6341968-83df-441c-a869-fa7ae9c22c73",
          "name": "Toyota",
          "type": "organisation"
         },
         "entity.sentiment": "negative",
         "published-at": "2020-12-01",
         "topic": {
          "id": "4249987d-5b02-4e51-9c44-019dd8e39742",
          "name": "Corporate Responsibility"
         }
        },
        {
         "document-count": 641,
         "entity": {
          "id": "d6341968-83df-441c-a869-fa7ae9c22c73",
          "name": "Toyota",
          "type": "organisation"
         },
         "entity.sentiment": "neutral",
         "published-at": "2020-12-01",
         "topic": {
          "id": "4249987d-5b02-4e51-9c44-019dd8e39742",
          "name": "Corporate Responsibility"
         }
        },
        {
         "document-count": 2493,
         "entity": {
          "id": "d6341968-83df-441c-a869-fa7ae9c22c73",
          "name": "Toyota",
          "type": "organisation"
         },
         "entity.sentiment": "positive",
         "published-at": "2020-12-01",
         "topic": {
          "id": "4249987d-5b02-4e51-9c44-019dd8e39742",
          "name": "Corporate Responsibility"
         }
        },
        {
         "document-count": 115,
         "entity": {
          "id": "06608104-0136-4371-ad04-be40fcc306a4",
          "name": "BMW",
          "type": "organisation"
         },
         "entity.sentiment": "negative",
         "published-at": "2020-12-01",
         "topic": {
          "id": "4249987d-5b02-4e51-9c44-019dd8e39742",
          "name": "Corporate Responsibility"
         }
        },
        {
         "document-count": 833,
         "entity": {
          "id": "06608104-0136-4371-ad04-be40fcc306a4",
          "name": "BMW",
          "type": "organisation"
         },
         "entity.sentiment": "neutral",
         "published-at": "2020-12-01",
         "topic": {
          "id": "4249987d-5b02-4e51-9c44-019dd8e39742",
          "name": "Corporate Responsibility"
         }
        },
        {
         "document-count": 1389,
         "entity": {
          "id": "06608104-0136-4371-ad04-be40fcc306a4",
          "name": "BMW",
          "type": "organisation"
         },
         "entity.sentiment": "positive",
         "published-at": "2020-12-01",
         "topic": {
          "id": "4249987d-5b02-4e51-9c44-019dd8e39742",
          "name": "Corporate Responsibility"
         }
        },
        {
         "document-count": 183,
         "entity": {
          "id": "946b44a8-b767-40ca-8093-e90d6af2a9d4",
          "name": "Ford Motor Company",
          "type": "organisation"
         },
         "entity.sentiment": "negative",
         "published-at": "2020-12-01",
         "topic": {
          "id": "4249987d-5b02-4e51-9c44-019dd8e39742",
          "name": "Corporate Responsibility"
         }
        },
        {
         "document-count": 478,
         "entity": {
          "id": "946b44a8-b767-40ca-8093-e90d6af2a9d4",
          "name": "Ford Motor Company",
          "type": "organisation"
         },
         "entity.sentiment": "neutral",
         "published-at": "2020-12-01",
         "topic": {
          "id": "4249987d-5b02-4e51-9c44-019dd8e39742",
          "name": "Corporate Responsibility"
         }
        },
        {
         "document-count": 1374,
         "entity": {
          "id": "946b44a8-b767-40ca-8093-e90d6af2a9d4",
          "name": "Ford Motor Company",
          "type": "organisation"
         },
         "entity.sentiment": "positive",
         "published-at": "2020-12-01",
         "topic": {
          "id": "4249987d-5b02-4e51-9c44-019dd8e39742",
          "name": "Corporate Responsibility"
         }
        },
        {
         "document-count": 79,
         "entity": {
          "id": "a9cf01c5-751f-4fe5-a529-12e0d297cb63",
          "name": "General Motors",
          "type": "organisation"
         },
         "entity.sentiment": "negative",
         "published-at": "2020-12-01",
         "topic": {
          "id": "4249987d-5b02-4e51-9c44-019dd8e39742",
          "name": "Corporate Responsibility"
         }
        },
        {
         "document-count": 532,
         "entity": {
          "id": "a9cf01c5-751f-4fe5-a529-12e0d297cb63",
          "name": "General Motors",
          "type": "organisation"
         },
         "entity.sentiment": "neutral",
         "published-at": "2020-12-01",
         "topic": {
          "id": "4249987d-5b02-4e51-9c44-019dd8e39742",
          "name": "Corporate Responsibility"
         }
        },
        {
         "document-count": 1031,
         "entity": {
          "id": "a9cf01c5-751f-4fe5-a529-12e0d297cb63",
          "name": "General Motors",
          "type": "organisation"
         },
         "entity.sentiment": "positive",
         "published-at": "2020-12-01",
         "topic": {
          "id": "4249987d-5b02-4e51-9c44-019dd8e39742",
          "name": "Corporate Responsibility"
         }
        },
        {
         "document-count": 93,
         "entity": {
          "id": "c4ad0758-f3ee-4002-84aa-10849a153d75",
          "name": "Honda",
          "type": "organisation"
         },
         "entity.sentiment": "negative",
         "published-at": "2020-12-01",
         "topic": {
          "id": "4249987d-5b02-4e51-9c44-019dd8e39742",
          "name": "Corporate Responsibility"
         }
        },
        {
         "document-count": 472,
         "entity": {
          "id": "c4ad0758-f3ee-4002-84aa-10849a153d75",
          "name": "Honda",
          "type": "organisation"
         },
         "entity.sentiment": "neutral",
         "published-at": "2020-12-01",
         "topic": {
          "id": "4249987d-5b02-4e51-9c44-019dd8e39742",
          "name": "Corporate Responsibility"
         }
        },
        {
         "document-count": 621,
         "entity": {
          "id": "c4ad0758-f3ee-4002-84aa-10849a153d75",
          "name": "Honda",
          "type": "organisation"
         },
         "entity.sentiment": "positive",
         "published-at": "2020-12-01",
         "topic": {
          "id": "4249987d-5b02-4e51-9c44-019dd8e39742",
          "name": "Corporate Responsibility"
         }
        },
        {
         "document-count": 45,
         "entity": {
          "id": "d7f0268d-1322-32b2-83d9-bb6fa9922506",
          "name": "Volkswagen",
          "type": "organisation"
         },
         "entity.sentiment": "negative",
         "published-at": "2020-12-01",
         "topic": {
          "id": "4249987d-5b02-4e51-9c44-019dd8e39742",
          "name": "Corporate Responsibility"
         }
        },
        {
         "document-count": 131,
         "entity": {
          "id": "d7f0268d-1322-32b2-83d9-bb6fa9922506",
          "name": "Volkswagen",
          "type": "organisation"
         },
         "entity.sentiment": "neutral",
         "published-at": "2020-12-01",
         "topic": {
          "id": "4249987d-5b02-4e51-9c44-019dd8e39742",
          "name": "Corporate Responsibility"
         }
        },
        {
         "document-count": 500,
         "entity": {
          "id": "d7f0268d-1322-32b2-83d9-bb6fa9922506",
          "name": "Volkswagen",
          "type": "organisation"
         },
         "entity.sentiment": "positive",
         "published-at": "2020-12-01",
         "topic": {
          "id": "4249987d-5b02-4e51-9c44-019dd8e39742",
          "name": "Corporate Responsibility"
         }
        },
        {
         "document-count": 435,
         "entity": {
          "id": "11cab8df-4be1-470f-8f49-8f7f0863ec95",
          "name": "Tesla, Inc.",
          "type": "organisation"
         },
         "entity.sentiment": "negative",
         "published-at": "2020-12-01",
         "topic": {
          "id": "a301b00d-f4ef-49fb-9224-f52386d4955e",
          "name": "Corporate culture"
         }
        },
        {
         "document-count": 1061,
         "entity": {
          "id": "11cab8df-4be1-470f-8f49-8f7f0863ec95",
          "name": "Tesla, Inc.",
          "type": "organisation"
         },
         "entity.sentiment": "neutral",
         "published-at": "2020-12-01",
         "topic": {
          "id": "a301b00d-f4ef-49fb-9224-f52386d4955e",
          "name": "Corporate culture"
         }
        },
        {
         "document-count": 2067,
         "entity": {
          "id": "11cab8df-4be1-470f-8f49-8f7f0863ec95",
          "name": "Tesla, Inc.",
          "type": "organisation"
         },
         "entity.sentiment": "positive",
         "published-at": "2020-12-01",
         "topic": {
          "id": "a301b00d-f4ef-49fb-9224-f52386d4955e",
          "name": "Corporate culture"
         }
        },
        {
         "document-count": 100,
         "entity": {
          "id": "946b44a8-b767-40ca-8093-e90d6af2a9d4",
          "name": "Ford Motor Company",
          "type": "organisation"
         },
         "entity.sentiment": "negative",
         "published-at": "2020-12-01",
         "topic": {
          "id": "a301b00d-f4ef-49fb-9224-f52386d4955e",
          "name": "Corporate culture"
         }
        },
        {
         "document-count": 1011,
         "entity": {
          "id": "946b44a8-b767-40ca-8093-e90d6af2a9d4",
          "name": "Ford Motor Company",
          "type": "organisation"
         },
         "entity.sentiment": "neutral",
         "published-at": "2020-12-01",
         "topic": {
          "id": "a301b00d-f4ef-49fb-9224-f52386d4955e",
          "name": "Corporate culture"
         }
        },
        {
         "document-count": 870,
         "entity": {
          "id": "946b44a8-b767-40ca-8093-e90d6af2a9d4",
          "name": "Ford Motor Company",
          "type": "organisation"
         },
         "entity.sentiment": "positive",
         "published-at": "2020-12-01",
         "topic": {
          "id": "a301b00d-f4ef-49fb-9224-f52386d4955e",
          "name": "Corporate culture"
         }
        },
        {
         "document-count": 66,
         "entity": {
          "id": "d6341968-83df-441c-a869-fa7ae9c22c73",
          "name": "Toyota",
          "type": "organisation"
         },
         "entity.sentiment": "negative",
         "published-at": "2020-12-01",
         "topic": {
          "id": "a301b00d-f4ef-49fb-9224-f52386d4955e",
          "name": "Corporate culture"
         }
        },
        {
         "document-count": 656,
         "entity": {
          "id": "d6341968-83df-441c-a869-fa7ae9c22c73",
          "name": "Toyota",
          "type": "organisation"
         },
         "entity.sentiment": "neutral",
         "published-at": "2020-12-01",
         "topic": {
          "id": "a301b00d-f4ef-49fb-9224-f52386d4955e",
          "name": "Corporate culture"
         }
        },
        {
         "document-count": 1727,
         "entity": {
          "id": "d6341968-83df-441c-a869-fa7ae9c22c73",
          "name": "Toyota",
          "type": "organisation"
         },
         "entity.sentiment": "positive",
         "published-at": "2020-12-01",
         "topic": {
          "id": "a301b00d-f4ef-49fb-9224-f52386d4955e",
          "name": "Corporate culture"
         }
        },
        {
         "document-count": 35,
         "entity": {
          "id": "a9cf01c5-751f-4fe5-a529-12e0d297cb63",
          "name": "General Motors",
          "type": "organisation"
         },
         "entity.sentiment": "negative",
         "published-at": "2020-12-01",
         "topic": {
          "id": "a301b00d-f4ef-49fb-9224-f52386d4955e",
          "name": "Corporate culture"
         }
        },
        {
         "document-count": 805,
         "entity": {
          "id": "a9cf01c5-751f-4fe5-a529-12e0d297cb63",
          "name": "General Motors",
          "type": "organisation"
         },
         "entity.sentiment": "neutral",
         "published-at": "2020-12-01",
         "topic": {
          "id": "a301b00d-f4ef-49fb-9224-f52386d4955e",
          "name": "Corporate culture"
         }
        },
        {
         "document-count": 576,
         "entity": {
          "id": "a9cf01c5-751f-4fe5-a529-12e0d297cb63",
          "name": "General Motors",
          "type": "organisation"
         },
         "entity.sentiment": "positive",
         "published-at": "2020-12-01",
         "topic": {
          "id": "a301b00d-f4ef-49fb-9224-f52386d4955e",
          "name": "Corporate culture"
         }
        },
        {
         "document-count": 13,
         "entity": {
          "id": "06608104-0136-4371-ad04-be40fcc306a4",
          "name": "BMW",
          "type": "organisation"
         },
         "entity.sentiment": "negative",
         "published-at": "2020-12-01",
         "topic": {
          "id": "a301b00d-f4ef-49fb-9224-f52386d4955e",
          "name": "Corporate culture"
         }
        },
        {
         "document-count": 350,
         "entity": {
          "id": "06608104-0136-4371-ad04-be40fcc306a4",
          "name": "BMW",
          "type": "organisation"
         },
         "entity.sentiment": "neutral",
         "published-at": "2020-12-01",
         "topic": {
          "id": "a301b00d-f4ef-49fb-9224-f52386d4955e",
          "name": "Corporate culture"
         }
        },
        {
         "document-count": 407,
         "entity": {
          "id": "06608104-0136-4371-ad04-be40fcc306a4",
          "name": "BMW",
          "type": "organisation"
         },
         "entity.sentiment": "positive",
         "published-at": "2020-12-01",
         "topic": {
          "id": "a301b00d-f4ef-49fb-9224-f52386d4955e",
          "name": "Corporate culture"
         }
        },
        {
         "document-count": 18,
         "entity": {
          "id": "c4ad0758-f3ee-4002-84aa-10849a153d75",
          "name": "Honda",
          "type": "organisation"
         },
         "entity.sentiment": "negative",
         "published-at": "2020-12-01",
         "topic": {
          "id": "a301b00d-f4ef-49fb-9224-f52386d4955e",
          "name": "Corporate culture"
         }
        },
        {
         "document-count": 347,
         "entity": {
          "id": "c4ad0758-f3ee-4002-84aa-10849a153d75",
          "name": "Honda",
          "type": "organisation"
         },
         "entity.sentiment": "neutral",
         "published-at": "2020-12-01",
         "topic": {
          "id": "a301b00d-f4ef-49fb-9224-f52386d4955e",
          "name": "Corporate culture"
         }
        },
        {
         "document-count": 157,
         "entity": {
          "id": "c4ad0758-f3ee-4002-84aa-10849a153d75",
          "name": "Honda",
          "type": "organisation"
         },
         "entity.sentiment": "positive",
         "published-at": "2020-12-01",
         "topic": {
          "id": "a301b00d-f4ef-49fb-9224-f52386d4955e",
          "name": "Corporate culture"
         }
        },
        {
         "document-count": 19,
         "entity": {
          "id": "d7f0268d-1322-32b2-83d9-bb6fa9922506",
          "name": "Volkswagen",
          "type": "organisation"
         },
         "entity.sentiment": "negative",
         "published-at": "2020-12-01",
         "topic": {
          "id": "a301b00d-f4ef-49fb-9224-f52386d4955e",
          "name": "Corporate culture"
         }
        },
        {
         "document-count": 92,
         "entity": {
          "id": "d7f0268d-1322-32b2-83d9-bb6fa9922506",
          "name": "Volkswagen",
          "type": "organisation"
         },
         "entity.sentiment": "neutral",
         "published-at": "2020-12-01",
         "topic": {
          "id": "a301b00d-f4ef-49fb-9224-f52386d4955e",
          "name": "Corporate culture"
         }
        },
        {
         "document-count": 281,
         "entity": {
          "id": "d7f0268d-1322-32b2-83d9-bb6fa9922506",
          "name": "Volkswagen",
          "type": "organisation"
         },
         "entity.sentiment": "positive",
         "published-at": "2020-12-01",
         "topic": {
          "id": "a301b00d-f4ef-49fb-9224-f52386d4955e",
          "name": "Corporate culture"
         }
        },
        {
         "document-count": 5704,
         "entity": {
          "id": "11cab8df-4be1-470f-8f49-8f7f0863ec95",
          "name": "Tesla, Inc.",
          "type": "organisation"
         },
         "entity.sentiment": "negative",
         "published-at": "2021-01-01",
         "topic": {
          "id": "8de14dc1-6a93-4d1f-b755-a8d7aa570187",
          "name": "Sustainability"
         }
        },
        {
         "document-count": 9834,
         "entity": {
          "id": "11cab8df-4be1-470f-8f49-8f7f0863ec95",
          "name": "Tesla, Inc.",
          "type": "organisation"
         },
         "entity.sentiment": "neutral",
         "published-at": "2021-01-01",
         "topic": {
          "id": "8de14dc1-6a93-4d1f-b755-a8d7aa570187",
          "name": "Sustainability"
         }
        },
        {
         "document-count": 44435,
         "entity": {
          "id": "11cab8df-4be1-470f-8f49-8f7f0863ec95",
          "name": "Tesla, Inc.",
          "type": "organisation"
         },
         "entity.sentiment": "positive",
         "published-at": "2021-01-01",
         "topic": {
          "id": "8de14dc1-6a93-4d1f-b755-a8d7aa570187",
          "name": "Sustainability"
         }
        },
        {
         "document-count": 1408,
         "entity": {
          "id": "a9cf01c5-751f-4fe5-a529-12e0d297cb63",
          "name": "General Motors",
          "type": "organisation"
         },
         "entity.sentiment": "negative",
         "published-at": "2021-01-01",
         "topic": {
          "id": "8de14dc1-6a93-4d1f-b755-a8d7aa570187",
          "name": "Sustainability"
         }
        },
        {
         "document-count": 2204,
         "entity": {
          "id": "a9cf01c5-751f-4fe5-a529-12e0d297cb63",
          "name": "General Motors",
          "type": "organisation"
         },
         "entity.sentiment": "neutral",
         "published-at": "2021-01-01",
         "topic": {
          "id": "8de14dc1-6a93-4d1f-b755-a8d7aa570187",
          "name": "Sustainability"
         }
        },
        {
         "document-count": 20080,
         "entity": {
          "id": "a9cf01c5-751f-4fe5-a529-12e0d297cb63",
          "name": "General Motors",
          "type": "organisation"
         },
         "entity.sentiment": "positive",
         "published-at": "2021-01-01",
         "topic": {
          "id": "8de14dc1-6a93-4d1f-b755-a8d7aa570187",
          "name": "Sustainability"
         }
        },
        {
         "document-count": 1158,
         "entity": {
          "id": "06608104-0136-4371-ad04-be40fcc306a4",
          "name": "BMW",
          "type": "organisation"
         },
         "entity.sentiment": "negative",
         "published-at": "2021-01-01",
         "topic": {
          "id": "8de14dc1-6a93-4d1f-b755-a8d7aa570187",
          "name": "Sustainability"
         }
        },
        {
         "document-count": 2619,
         "entity": {
          "id": "06608104-0136-4371-ad04-be40fcc306a4",
          "name": "BMW",
          "type": "organisation"
         },
         "entity.sentiment": "neutral",
         "published-at": "2021-01-01",
         "topic": {
          "id": "8de14dc1-6a93-4d1f-b755-a8d7aa570187",
          "name": "Sustainability"
         }
        },
        {
         "document-count": 16984,
         "entity": {
          "id": "06608104-0136-4371-ad04-be40fcc306a4",
          "name": "BMW",
          "type": "organisation"
         },
         "entity.sentiment": "positive",
         "published-at": "2021-01-01",
         "topic": {
          "id": "8de14dc1-6a93-4d1f-b755-a8d7aa570187",
          "name": "Sustainability"
         }
        },
        {
         "document-count": 1245,
         "entity": {
          "id": "d6341968-83df-441c-a869-fa7ae9c22c73",
          "name": "Toyota",
          "type": "organisation"
         },
         "entity.sentiment": "negative",
         "published-at": "2021-01-01",
         "topic": {
          "id": "8de14dc1-6a93-4d1f-b755-a8d7aa570187",
          "name": "Sustainability"
         }
        },
        {
         "document-count": 2610,
         "entity": {
          "id": "d6341968-83df-441c-a869-fa7ae9c22c73",
          "name": "Toyota",
          "type": "organisation"
         },
         "entity.sentiment": "neutral",
         "published-at": "2021-01-01",
         "topic": {
          "id": "8de14dc1-6a93-4d1f-b755-a8d7aa570187",
          "name": "Sustainability"
         }
        },
        {
         "document-count": 12427,
         "entity": {
          "id": "d6341968-83df-441c-a869-fa7ae9c22c73",
          "name": "Toyota",
          "type": "organisation"
         },
         "entity.sentiment": "positive",
         "published-at": "2021-01-01",
         "topic": {
          "id": "8de14dc1-6a93-4d1f-b755-a8d7aa570187",
          "name": "Sustainability"
         }
        },
        {
         "document-count": 1083,
         "entity": {
          "id": "d7f0268d-1322-32b2-83d9-bb6fa9922506",
          "name": "Volkswagen",
          "type": "organisation"
         },
         "entity.sentiment": "negative",
         "published-at": "2021-01-01",
         "topic": {
          "id": "8de14dc1-6a93-4d1f-b755-a8d7aa570187",
          "name": "Sustainability"
         }
        },
        {
         "document-count": 1650,
         "entity": {
          "id": "d7f0268d-1322-32b2-83d9-bb6fa9922506",
          "name": "Volkswagen",
          "type": "organisation"
         },
         "entity.sentiment": "neutral",
         "published-at": "2021-01-01",
         "topic": {
          "id": "8de14dc1-6a93-4d1f-b755-a8d7aa570187",
          "name": "Sustainability"
         }
        },
        {
         "document-count": 11179,
         "entity": {
          "id": "d7f0268d-1322-32b2-83d9-bb6fa9922506",
          "name": "Volkswagen",
          "type": "organisation"
         },
         "entity.sentiment": "positive",
         "published-at": "2021-01-01",
         "topic": {
          "id": "8de14dc1-6a93-4d1f-b755-a8d7aa570187",
          "name": "Sustainability"
         }
        },
        {
         "document-count": 1441,
         "entity": {
          "id": "946b44a8-b767-40ca-8093-e90d6af2a9d4",
          "name": "Ford Motor Company",
          "type": "organisation"
         },
         "entity.sentiment": "negative",
         "published-at": "2021-01-01",
         "topic": {
          "id": "8de14dc1-6a93-4d1f-b755-a8d7aa570187",
          "name": "Sustainability"
         }
        },
        {
         "document-count": 2874,
         "entity": {
          "id": "946b44a8-b767-40ca-8093-e90d6af2a9d4",
          "name": "Ford Motor Company",
          "type": "organisation"
         },
         "entity.sentiment": "neutral",
         "published-at": "2021-01-01",
         "topic": {
          "id": "8de14dc1-6a93-4d1f-b755-a8d7aa570187",
          "name": "Sustainability"
         }
        },
        {
         "document-count": 10574,
         "entity": {
          "id": "946b44a8-b767-40ca-8093-e90d6af2a9d4",
          "name": "Ford Motor Company",
          "type": "organisation"
         },
         "entity.sentiment": "positive",
         "published-at": "2021-01-01",
         "topic": {
          "id": "8de14dc1-6a93-4d1f-b755-a8d7aa570187",
          "name": "Sustainability"
         }
        },
        {
         "document-count": 482,
         "entity": {
          "id": "c4ad0758-f3ee-4002-84aa-10849a153d75",
          "name": "Honda",
          "type": "organisation"
         },
         "entity.sentiment": "negative",
         "published-at": "2021-01-01",
         "topic": {
          "id": "8de14dc1-6a93-4d1f-b755-a8d7aa570187",
          "name": "Sustainability"
         }
        },
        {
         "document-count": 1943,
         "entity": {
          "id": "c4ad0758-f3ee-4002-84aa-10849a153d75",
          "name": "Honda",
          "type": "organisation"
         },
         "entity.sentiment": "neutral",
         "published-at": "2021-01-01",
         "topic": {
          "id": "8de14dc1-6a93-4d1f-b755-a8d7aa570187",
          "name": "Sustainability"
         }
        },
        {
         "document-count": 5238,
         "entity": {
          "id": "c4ad0758-f3ee-4002-84aa-10849a153d75",
          "name": "Honda",
          "type": "organisation"
         },
         "entity.sentiment": "positive",
         "published-at": "2021-01-01",
         "topic": {
          "id": "8de14dc1-6a93-4d1f-b755-a8d7aa570187",
          "name": "Sustainability"
         }
        },
        {
         "document-count": 419,
         "entity": {
          "id": "a9cf01c5-751f-4fe5-a529-12e0d297cb63",
          "name": "General Motors",
          "type": "organisation"
         },
         "entity.sentiment": "negative",
         "published-at": "2021-01-01",
         "topic": {
          "id": "fc31abf2-7b11-4ed5-a7d2-35266057c0dd",
          "name": "Innovation"
         }
        },
        {
         "document-count": 3243,
         "entity": {
          "id": "a9cf01c5-751f-4fe5-a529-12e0d297cb63",
          "name": "General Motors",
          "type": "organisation"
         },
         "entity.sentiment": "neutral",
         "published-at": "2021-01-01",
         "topic": {
          "id": "fc31abf2-7b11-4ed5-a7d2-35266057c0dd",
          "name": "Innovation"
         }
        },
        {
         "document-count": 19060,
         "entity": {
          "id": "a9cf01c5-751f-4fe5-a529-12e0d297cb63",
          "name": "General Motors",
          "type": "organisation"
         },
         "entity.sentiment": "positive",
         "published-at": "2021-01-01",
         "topic": {
          "id": "fc31abf2-7b11-4ed5-a7d2-35266057c0dd",
          "name": "Innovation"
         }
        },
        {
         "document-count": 930,
         "entity": {
          "id": "11cab8df-4be1-470f-8f49-8f7f0863ec95",
          "name": "Tesla, Inc.",
          "type": "organisation"
         },
         "entity.sentiment": "negative",
         "published-at": "2021-01-01",
         "topic": {
          "id": "fc31abf2-7b11-4ed5-a7d2-35266057c0dd",
          "name": "Innovation"
         }
        },
        {
         "document-count": 5938,
         "entity": {
          "id": "11cab8df-4be1-470f-8f49-8f7f0863ec95",
          "name": "Tesla, Inc.",
          "type": "organisation"
         },
         "entity.sentiment": "neutral",
         "published-at": "2021-01-01",
         "topic": {
          "id": "fc31abf2-7b11-4ed5-a7d2-35266057c0dd",
          "name": "Innovation"
         }
        },
        {
         "document-count": 21490,
         "entity": {
          "id": "11cab8df-4be1-470f-8f49-8f7f0863ec95",
          "name": "Tesla, Inc.",
          "type": "organisation"
         },
         "entity.sentiment": "positive",
         "published-at": "2021-01-01",
         "topic": {
          "id": "fc31abf2-7b11-4ed5-a7d2-35266057c0dd",
          "name": "Innovation"
         }
        },
        {
         "document-count": 452,
         "entity": {
          "id": "d6341968-83df-441c-a869-fa7ae9c22c73",
          "name": "Toyota",
          "type": "organisation"
         },
         "entity.sentiment": "negative",
         "published-at": "2021-01-01",
         "topic": {
          "id": "fc31abf2-7b11-4ed5-a7d2-35266057c0dd",
          "name": "Innovation"
         }
        },
        {
         "document-count": 4441,
         "entity": {
          "id": "d6341968-83df-441c-a869-fa7ae9c22c73",
          "name": "Toyota",
          "type": "organisation"
         },
         "entity.sentiment": "neutral",
         "published-at": "2021-01-01",
         "topic": {
          "id": "fc31abf2-7b11-4ed5-a7d2-35266057c0dd",
          "name": "Innovation"
         }
        },
        {
         "document-count": 18592,
         "entity": {
          "id": "d6341968-83df-441c-a869-fa7ae9c22c73",
          "name": "Toyota",
          "type": "organisation"
         },
         "entity.sentiment": "positive",
         "published-at": "2021-01-01",
         "topic": {
          "id": "fc31abf2-7b11-4ed5-a7d2-35266057c0dd",
          "name": "Innovation"
         }
        },
        {
         "document-count": 215,
         "entity": {
          "id": "06608104-0136-4371-ad04-be40fcc306a4",
          "name": "BMW",
          "type": "organisation"
         },
         "entity.sentiment": "negative",
         "published-at": "2021-01-01",
         "topic": {
          "id": "fc31abf2-7b11-4ed5-a7d2-35266057c0dd",
          "name": "Innovation"
         }
        },
        {
         "document-count": 3512,
         "entity": {
          "id": "06608104-0136-4371-ad04-be40fcc306a4",
          "name": "BMW",
          "type": "organisation"
         },
         "entity.sentiment": "neutral",
         "published-at": "2021-01-01",
         "topic": {
          "id": "fc31abf2-7b11-4ed5-a7d2-35266057c0dd",
          "name": "Innovation"
         }
        },
        {
         "document-count": 15192,
         "entity": {
          "id": "06608104-0136-4371-ad04-be40fcc306a4",
          "name": "BMW",
          "type": "organisation"
         },
         "entity.sentiment": "positive",
         "published-at": "2021-01-01",
         "topic": {
          "id": "fc31abf2-7b11-4ed5-a7d2-35266057c0dd",
          "name": "Innovation"
         }
        },
        {
         "document-count": 194,
         "entity": {
          "id": "c4ad0758-f3ee-4002-84aa-10849a153d75",
          "name": "Honda",
          "type": "organisation"
         },
         "entity.sentiment": "negative",
         "published-at": "2021-01-01",
         "topic": {
          "id": "fc31abf2-7b11-4ed5-a7d2-35266057c0dd",
          "name": "Innovation"
         }
        },
        {
         "document-count": 3603,
         "entity": {
          "id": "c4ad0758-f3ee-4002-84aa-10849a153d75",
          "name": "Honda",
          "type": "organisation"
         },
         "entity.sentiment": "neutral",
         "published-at": "2021-01-01",
         "topic": {
          "id": "fc31abf2-7b11-4ed5-a7d2-35266057c0dd",
          "name": "Innovation"
         }
        },
        {
         "document-count": 12973,
         "entity": {
          "id": "c4ad0758-f3ee-4002-84aa-10849a153d75",
          "name": "Honda",
          "type": "organisation"
         },
         "entity.sentiment": "positive",
         "published-at": "2021-01-01",
         "topic": {
          "id": "fc31abf2-7b11-4ed5-a7d2-35266057c0dd",
          "name": "Innovation"
         }
        },
        {
         "document-count": 319,
         "entity": {
          "id": "946b44a8-b767-40ca-8093-e90d6af2a9d4",
          "name": "Ford Motor Company",
          "type": "organisation"
         },
         "entity.sentiment": "negative",
         "published-at": "2021-01-01",
         "topic": {
          "id": "fc31abf2-7b11-4ed5-a7d2-35266057c0dd",
          "name": "Innovation"
         }
        },
        {
         "document-count": 4096,
         "entity": {
          "id": "946b44a8-b767-40ca-8093-e90d6af2a9d4",
          "name": "Ford Motor Company",
          "type": "organisation"
         },
         "entity.sentiment": "neutral",
         "published-at": "2021-01-01",
         "topic": {
          "id": "fc31abf2-7b11-4ed5-a7d2-35266057c0dd",
          "name": "Innovation"
         }
        },
        {
         "document-count": 10991,
         "entity": {
          "id": "946b44a8-b767-40ca-8093-e90d6af2a9d4",
          "name": "Ford Motor Company",
          "type": "organisation"
         },
         "entity.sentiment": "positive",
         "published-at": "2021-01-01",
         "topic": {
          "id": "fc31abf2-7b11-4ed5-a7d2-35266057c0dd",
          "name": "Innovation"
         }
        },
        {
         "document-count": 190,
         "entity": {
          "id": "d7f0268d-1322-32b2-83d9-bb6fa9922506",
          "name": "Volkswagen",
          "type": "organisation"
         },
         "entity.sentiment": "negative",
         "published-at": "2021-01-01",
         "topic": {
          "id": "fc31abf2-7b11-4ed5-a7d2-35266057c0dd",
          "name": "Innovation"
         }
        },
        {
         "document-count": 1626,
         "entity": {
          "id": "d7f0268d-1322-32b2-83d9-bb6fa9922506",
          "name": "Volkswagen",
          "type": "organisation"
         },
         "entity.sentiment": "neutral",
         "published-at": "2021-01-01",
         "topic": {
          "id": "fc31abf2-7b11-4ed5-a7d2-35266057c0dd",
          "name": "Innovation"
         }
        },
        {
         "document-count": 9039,
         "entity": {
          "id": "d7f0268d-1322-32b2-83d9-bb6fa9922506",
          "name": "Volkswagen",
          "type": "organisation"
         },
         "entity.sentiment": "positive",
         "published-at": "2021-01-01",
         "topic": {
          "id": "fc31abf2-7b11-4ed5-a7d2-35266057c0dd",
          "name": "Innovation"
         }
        },
        {
         "document-count": 1572,
         "entity": {
          "id": "11cab8df-4be1-470f-8f49-8f7f0863ec95",
          "name": "Tesla, Inc.",
          "type": "organisation"
         },
         "entity.sentiment": "negative",
         "published-at": "2021-01-01",
         "topic": {
          "id": "fdcb69a5-8aa6-4067-a29b-f064321e1d7d",
          "name": "Corporate Governance"
         }
        },
        {
         "document-count": 6016,
         "entity": {
          "id": "11cab8df-4be1-470f-8f49-8f7f0863ec95",
          "name": "Tesla, Inc.",
          "type": "organisation"
         },
         "entity.sentiment": "neutral",
         "published-at": "2021-01-01",
         "topic": {
          "id": "fdcb69a5-8aa6-4067-a29b-f064321e1d7d",
          "name": "Corporate Governance"
         }
        },
        {
         "document-count": 3679,
         "entity": {
          "id": "11cab8df-4be1-470f-8f49-8f7f0863ec95",
          "name": "Tesla, Inc.",
          "type": "organisation"
         },
         "entity.sentiment": "positive",
         "published-at": "2021-01-01",
         "topic": {
          "id": "fdcb69a5-8aa6-4067-a29b-f064321e1d7d",
          "name": "Corporate Governance"
         }
        },
        {
         "document-count": 236,
         "entity": {
          "id": "a9cf01c5-751f-4fe5-a529-12e0d297cb63",
          "name": "General Motors",
          "type": "organisation"
         },
         "entity.sentiment": "negative",
         "published-at": "2021-01-01",
         "topic": {
          "id": "fdcb69a5-8aa6-4067-a29b-f064321e1d7d",
          "name": "Corporate Governance"
         }
        },
        {
         "document-count": 2879,
         "entity": {
          "id": "a9cf01c5-751f-4fe5-a529-12e0d297cb63",
          "name": "General Motors",
          "type": "organisation"
         },
         "entity.sentiment": "neutral",
         "published-at": "2021-01-01",
         "topic": {
          "id": "fdcb69a5-8aa6-4067-a29b-f064321e1d7d",
          "name": "Corporate Governance"
         }
        },
        {
         "document-count": 3904,
         "entity": {
          "id": "a9cf01c5-751f-4fe5-a529-12e0d297cb63",
          "name": "General Motors",
          "type": "organisation"
         },
         "entity.sentiment": "positive",
         "published-at": "2021-01-01",
         "topic": {
          "id": "fdcb69a5-8aa6-4067-a29b-f064321e1d7d",
          "name": "Corporate Governance"
         }
        },
        {
         "document-count": 173,
         "entity": {
          "id": "946b44a8-b767-40ca-8093-e90d6af2a9d4",
          "name": "Ford Motor Company",
          "type": "organisation"
         },
         "entity.sentiment": "negative",
         "published-at": "2021-01-01",
         "topic": {
          "id": "fdcb69a5-8aa6-4067-a29b-f064321e1d7d",
          "name": "Corporate Governance"
         }
        },
        {
         "document-count": 2634,
         "entity": {
          "id": "946b44a8-b767-40ca-8093-e90d6af2a9d4",
          "name": "Ford Motor Company",
          "type": "organisation"
         },
         "entity.sentiment": "neutral",
         "published-at": "2021-01-01",
         "topic": {
          "id": "fdcb69a5-8aa6-4067-a29b-f064321e1d7d",
          "name": "Corporate Governance"
         }
        },
        {
         "document-count": 2990,
         "entity": {
          "id": "946b44a8-b767-40ca-8093-e90d6af2a9d4",
          "name": "Ford Motor Company",
          "type": "organisation"
         },
         "entity.sentiment": "positive",
         "published-at": "2021-01-01",
         "topic": {
          "id": "fdcb69a5-8aa6-4067-a29b-f064321e1d7d",
          "name": "Corporate Governance"
         }
        },
        {
         "document-count": 236,
         "entity": {
          "id": "d6341968-83df-441c-a869-fa7ae9c22c73",
          "name": "Toyota",
          "type": "organisation"
         },
         "entity.sentiment": "negative",
         "published-at": "2021-01-01",
         "topic": {
          "id": "fdcb69a5-8aa6-4067-a29b-f064321e1d7d",
          "name": "Corporate Governance"
         }
        },
        {
         "document-count": 3192,
         "entity": {
          "id": "d6341968-83df-441c-a869-fa7ae9c22c73",
          "name": "Toyota",
          "type": "organisation"
         },
         "entity.sentiment": "neutral",
         "published-at": "2021-01-01",
         "topic": {
          "id": "fdcb69a5-8aa6-4067-a29b-f064321e1d7d",
          "name": "Corporate Governance"
         }
        },
        {
         "document-count": 3281,
         "entity": {
          "id": "d6341968-83df-441c-a869-fa7ae9c22c73",
          "name": "Toyota",
          "type": "organisation"
         },
         "entity.sentiment": "positive",
         "published-at": "2021-01-01",
         "topic": {
          "id": "fdcb69a5-8aa6-4067-a29b-f064321e1d7d",
          "name": "Corporate Governance"
         }
        },
        {
         "document-count": 41,
         "entity": {
          "id": "c4ad0758-f3ee-4002-84aa-10849a153d75",
          "name": "Honda",
          "type": "organisation"
         },
         "entity.sentiment": "negative",
         "published-at": "2021-01-01",
         "topic": {
          "id": "fdcb69a5-8aa6-4067-a29b-f064321e1d7d",
          "name": "Corporate Governance"
         }
        },
        {
         "document-count": 1618,
         "entity": {
          "id": "c4ad0758-f3ee-4002-84aa-10849a153d75",
          "name": "Honda",
          "type": "organisation"
         },
         "entity.sentiment": "neutral",
         "published-at": "2021-01-01",
         "topic": {
          "id": "fdcb69a5-8aa6-4067-a29b-f064321e1d7d",
          "name": "Corporate Governance"
         }
        },
        {
         "document-count": 676,
         "entity": {
          "id": "c4ad0758-f3ee-4002-84aa-10849a153d75",
          "name": "Honda",
          "type": "organisation"
         },
         "entity.sentiment": "positive",
         "published-at": "2021-01-01",
         "topic": {
          "id": "fdcb69a5-8aa6-4067-a29b-f064321e1d7d",
          "name": "Corporate Governance"
         }
        },
        {
         "document-count": 59,
         "entity": {
          "id": "06608104-0136-4371-ad04-be40fcc306a4",
          "name": "BMW",
          "type": "organisation"
         },
         "entity.sentiment": "negative",
         "published-at": "2021-01-01",
         "topic": {
          "id": "fdcb69a5-8aa6-4067-a29b-f064321e1d7d",
          "name": "Corporate Governance"
         }
        },
        {
         "document-count": 839,
         "entity": {
          "id": "06608104-0136-4371-ad04-be40fcc306a4",
          "name": "BMW",
          "type": "organisation"
         },
         "entity.sentiment": "neutral",
         "published-at": "2021-01-01",
         "topic": {
          "id": "fdcb69a5-8aa6-4067-a29b-f064321e1d7d",
          "name": "Corporate Governance"
         }
        },
        {
         "document-count": 1117,
         "entity": {
          "id": "06608104-0136-4371-ad04-be40fcc306a4",
          "name": "BMW",
          "type": "organisation"
         },
         "entity.sentiment": "positive",
         "published-at": "2021-01-01",
         "topic": {
          "id": "fdcb69a5-8aa6-4067-a29b-f064321e1d7d",
          "name": "Corporate Governance"
         }
        },
        {
         "document-count": 26,
         "entity": {
          "id": "d7f0268d-1322-32b2-83d9-bb6fa9922506",
          "name": "Volkswagen",
          "type": "organisation"
         },
         "entity.sentiment": "negative",
         "published-at": "2021-01-01",
         "topic": {
          "id": "fdcb69a5-8aa6-4067-a29b-f064321e1d7d",
          "name": "Corporate Governance"
         }
        },
        {
         "document-count": 133,
         "entity": {
          "id": "d7f0268d-1322-32b2-83d9-bb6fa9922506",
          "name": "Volkswagen",
          "type": "organisation"
         },
         "entity.sentiment": "neutral",
         "published-at": "2021-01-01",
         "topic": {
          "id": "fdcb69a5-8aa6-4067-a29b-f064321e1d7d",
          "name": "Corporate Governance"
         }
        },
        {
         "document-count": 200,
         "entity": {
          "id": "d7f0268d-1322-32b2-83d9-bb6fa9922506",
          "name": "Volkswagen",
          "type": "organisation"
         },
         "entity.sentiment": "positive",
         "published-at": "2021-01-01",
         "topic": {
          "id": "fdcb69a5-8aa6-4067-a29b-f064321e1d7d",
          "name": "Corporate Governance"
         }
        },
        {
         "document-count": 148,
         "entity": {
          "id": "a9cf01c5-751f-4fe5-a529-12e0d297cb63",
          "name": "General Motors",
          "type": "organisation"
         },
         "entity.sentiment": "negative",
         "published-at": "2021-01-01",
         "topic": {
          "id": "4249987d-5b02-4e51-9c44-019dd8e39742",
          "name": "Corporate Responsibility"
         }
        },
        {
         "document-count": 654,
         "entity": {
          "id": "a9cf01c5-751f-4fe5-a529-12e0d297cb63",
          "name": "General Motors",
          "type": "organisation"
         },
         "entity.sentiment": "neutral",
         "published-at": "2021-01-01",
         "topic": {
          "id": "4249987d-5b02-4e51-9c44-019dd8e39742",
          "name": "Corporate Responsibility"
         }
        },
        {
         "document-count": 4461,
         "entity": {
          "id": "a9cf01c5-751f-4fe5-a529-12e0d297cb63",
          "name": "General Motors",
          "type": "organisation"
         },
         "entity.sentiment": "positive",
         "published-at": "2021-01-01",
         "topic": {
          "id": "4249987d-5b02-4e51-9c44-019dd8e39742",
          "name": "Corporate Responsibility"
         }
        },
        {
         "document-count": 707,
         "entity": {
          "id": "11cab8df-4be1-470f-8f49-8f7f0863ec95",
          "name": "Tesla, Inc.",
          "type": "organisation"
         },
         "entity.sentiment": "negative",
         "published-at": "2021-01-01",
         "topic": {
          "id": "4249987d-5b02-4e51-9c44-019dd8e39742",
          "name": "Corporate Responsibility"
         }
        },
        {
         "document-count": 2176,
         "entity": {
          "id": "11cab8df-4be1-470f-8f49-8f7f0863ec95",
          "name": "Tesla, Inc.",
          "type": "organisation"
         },
         "entity.sentiment": "neutral",
         "published-at": "2021-01-01",
         "topic": {
          "id": "4249987d-5b02-4e51-9c44-019dd8e39742",
          "name": "Corporate Responsibility"
         }
        },
        {
         "document-count": 7117,
         "entity": {
          "id": "11cab8df-4be1-470f-8f49-8f7f0863ec95",
          "name": "Tesla, Inc.",
          "type": "organisation"
         },
         "entity.sentiment": "positive",
         "published-at": "2021-01-01",
         "topic": {
          "id": "4249987d-5b02-4e51-9c44-019dd8e39742",
          "name": "Corporate Responsibility"
         }
        },
        {
         "document-count": 53,
         "entity": {
          "id": "06608104-0136-4371-ad04-be40fcc306a4",
          "name": "BMW",
          "type": "organisation"
         },
         "entity.sentiment": "negative",
         "published-at": "2021-01-01",
         "topic": {
          "id": "4249987d-5b02-4e51-9c44-019dd8e39742",
          "name": "Corporate Responsibility"
         }
        },
        {
         "document-count": 531,
         "entity": {
          "id": "06608104-0136-4371-ad04-be40fcc306a4",
          "name": "BMW",
          "type": "organisation"
         },
         "entity.sentiment": "neutral",
         "published-at": "2021-01-01",
         "topic": {
          "id": "4249987d-5b02-4e51-9c44-019dd8e39742",
          "name": "Corporate Responsibility"
         }
        },
        {
         "document-count": 2650,
         "entity": {
          "id": "06608104-0136-4371-ad04-be40fcc306a4",
          "name": "BMW",
          "type": "organisation"
         },
         "entity.sentiment": "positive",
         "published-at": "2021-01-01",
         "topic": {
          "id": "4249987d-5b02-4e51-9c44-019dd8e39742",
          "name": "Corporate Responsibility"
         }
        },
        {
         "document-count": 48,
         "entity": {
          "id": "d6341968-83df-441c-a869-fa7ae9c22c73",
          "name": "Toyota",
          "type": "organisation"
         },
         "entity.sentiment": "negative",
         "published-at": "2021-01-01",
         "topic": {
          "id": "4249987d-5b02-4e51-9c44-019dd8e39742",
          "name": "Corporate Responsibility"
         }
        },
        {
         "document-count": 639,
         "entity": {
          "id": "d6341968-83df-441c-a869-fa7ae9c22c73",
          "name": "Toyota",
          "type": "organisation"
         },
         "entity.sentiment": "neutral",
         "published-at": "2021-01-01",
         "topic": {
          "id": "4249987d-5b02-4e51-9c44-019dd8e39742",
          "name": "Corporate Responsibility"
         }
        },
        {
         "document-count": 1987,
         "entity": {
          "id": "d6341968-83df-441c-a869-fa7ae9c22c73",
          "name": "Toyota",
          "type": "organisation"
         },
         "entity.sentiment": "positive",
         "published-at": "2021-01-01",
         "topic": {
          "id": "4249987d-5b02-4e51-9c44-019dd8e39742",
          "name": "Corporate Responsibility"
         }
        },
        {
         "document-count": 87,
         "entity": {
          "id": "946b44a8-b767-40ca-8093-e90d6af2a9d4",
          "name": "Ford Motor Company",
          "type": "organisation"
         },
         "entity.sentiment": "negative",
         "published-at": "2021-01-01",
         "topic": {
          "id": "4249987d-5b02-4e51-9c44-019dd8e39742",
          "name": "Corporate Responsibility"
         }
        },
        {
         "document-count": 526,
         "entity": {
          "id": "946b44a8-b767-40ca-8093-e90d6af2a9d4",
          "name": "Ford Motor Company",
          "type": "organisation"
         },
         "entity.sentiment": "neutral",
         "published-at": "2021-01-01",
         "topic": {
          "id": "4249987d-5b02-4e51-9c44-019dd8e39742",
          "name": "Corporate Responsibility"
         }
        },
        {
         "document-count": 1844,
         "entity": {
          "id": "946b44a8-b767-40ca-8093-e90d6af2a9d4",
          "name": "Ford Motor Company",
          "type": "organisation"
         },
         "entity.sentiment": "positive",
         "published-at": "2021-01-01",
         "topic": {
          "id": "4249987d-5b02-4e51-9c44-019dd8e39742",
          "name": "Corporate Responsibility"
         }
        },
        {
         "document-count": 56,
         "entity": {
          "id": "c4ad0758-f3ee-4002-84aa-10849a153d75",
          "name": "Honda",
          "type": "organisation"
         },
         "entity.sentiment": "negative",
         "published-at": "2021-01-01",
         "topic": {
          "id": "4249987d-5b02-4e51-9c44-019dd8e39742",
          "name": "Corporate Responsibility"
         }
        },
        {
         "document-count": 429,
         "entity": {
          "id": "c4ad0758-f3ee-4002-84aa-10849a153d75",
          "name": "Honda",
          "type": "organisation"
         },
         "entity.sentiment": "neutral",
         "published-at": "2021-01-01",
         "topic": {
          "id": "4249987d-5b02-4e51-9c44-019dd8e39742",
          "name": "Corporate Responsibility"
         }
        },
        {
         "document-count": 1235,
         "entity": {
          "id": "c4ad0758-f3ee-4002-84aa-10849a153d75",
          "name": "Honda",
          "type": "organisation"
         },
         "entity.sentiment": "positive",
         "published-at": "2021-01-01",
         "topic": {
          "id": "4249987d-5b02-4e51-9c44-019dd8e39742",
          "name": "Corporate Responsibility"
         }
        },
        {
         "document-count": 14,
         "entity": {
          "id": "d7f0268d-1322-32b2-83d9-bb6fa9922506",
          "name": "Volkswagen",
          "type": "organisation"
         },
         "entity.sentiment": "negative",
         "published-at": "2021-01-01",
         "topic": {
          "id": "4249987d-5b02-4e51-9c44-019dd8e39742",
          "name": "Corporate Responsibility"
         }
        },
        {
         "document-count": 133,
         "entity": {
          "id": "d7f0268d-1322-32b2-83d9-bb6fa9922506",
          "name": "Volkswagen",
          "type": "organisation"
         },
         "entity.sentiment": "neutral",
         "published-at": "2021-01-01",
         "topic": {
          "id": "4249987d-5b02-4e51-9c44-019dd8e39742",
          "name": "Corporate Responsibility"
         }
        },
        {
         "document-count": 470,
         "entity": {
          "id": "d7f0268d-1322-32b2-83d9-bb6fa9922506",
          "name": "Volkswagen",
          "type": "organisation"
         },
         "entity.sentiment": "positive",
         "published-at": "2021-01-01",
         "topic": {
          "id": "4249987d-5b02-4e51-9c44-019dd8e39742",
          "name": "Corporate Responsibility"
         }
        },
        {
         "document-count": 250,
         "entity": {
          "id": "11cab8df-4be1-470f-8f49-8f7f0863ec95",
          "name": "Tesla, Inc.",
          "type": "organisation"
         },
         "entity.sentiment": "negative",
         "published-at": "2021-01-01",
         "topic": {
          "id": "c3e9ec2f-e225-4955-9dbf-5480ce3d30fe",
          "name": "Patents & Inventions"
         }
        },
        {
         "document-count": 1373,
         "entity": {
          "id": "11cab8df-4be1-470f-8f49-8f7f0863ec95",
          "name": "Tesla, Inc.",
          "type": "organisation"
         },
         "entity.sentiment": "neutral",
         "published-at": "2021-01-01",
         "topic": {
          "id": "c3e9ec2f-e225-4955-9dbf-5480ce3d30fe",
          "name": "Patents & Inventions"
         }
        },
        {
         "document-count": 4218,
         "entity": {
          "id": "11cab8df-4be1-470f-8f49-8f7f0863ec95",
          "name": "Tesla, Inc.",
          "type": "organisation"
         },
         "entity.sentiment": "positive",
         "published-at": "2021-01-01",
         "topic": {
          "id": "c3e9ec2f-e225-4955-9dbf-5480ce3d30fe",
          "name": "Patents & Inventions"
         }
        },
        {
         "document-count": 62,
         "entity": {
          "id": "d6341968-83df-441c-a869-fa7ae9c22c73",
          "name": "Toyota",
          "type": "organisation"
         },
         "entity.sentiment": "negative",
         "published-at": "2021-01-01",
         "topic": {
          "id": "c3e9ec2f-e225-4955-9dbf-5480ce3d30fe",
          "name": "Patents & Inventions"
         }
        },
        {
         "document-count": 1825,
         "entity": {
          "id": "d6341968-83df-441c-a869-fa7ae9c22c73",
          "name": "Toyota",
          "type": "organisation"
         },
         "entity.sentiment": "neutral",
         "published-at": "2021-01-01",
         "topic": {
          "id": "c3e9ec2f-e225-4955-9dbf-5480ce3d30fe",
          "name": "Patents & Inventions"
         }
        },
        {
         "document-count": 4342,
         "entity": {
          "id": "d6341968-83df-441c-a869-fa7ae9c22c73",
          "name": "Toyota",
          "type": "organisation"
         },
         "entity.sentiment": "positive",
         "published-at": "2021-01-01",
         "topic": {
          "id": "c3e9ec2f-e225-4955-9dbf-5480ce3d30fe",
          "name": "Patents & Inventions"
         }
        },
        {
         "document-count": 60,
         "entity": {
          "id": "a9cf01c5-751f-4fe5-a529-12e0d297cb63",
          "name": "General Motors",
          "type": "organisation"
         },
         "entity.sentiment": "negative",
         "published-at": "2021-01-01",
         "topic": {
          "id": "c3e9ec2f-e225-4955-9dbf-5480ce3d30fe",
          "name": "Patents & Inventions"
         }
        },
        {
         "document-count": 935,
         "entity": {
          "id": "a9cf01c5-751f-4fe5-a529-12e0d297cb63",
          "name": "General Motors",
          "type": "organisation"
         },
         "entity.sentiment": "neutral",
         "published-at": "2021-01-01",
         "topic": {
          "id": "c3e9ec2f-e225-4955-9dbf-5480ce3d30fe",
          "name": "Patents & Inventions"
         }
        },
        {
         "document-count": 2712,
         "entity": {
          "id": "a9cf01c5-751f-4fe5-a529-12e0d297cb63",
          "name": "General Motors",
          "type": "organisation"
         },
         "entity.sentiment": "positive",
         "published-at": "2021-01-01",
         "topic": {
          "id": "c3e9ec2f-e225-4955-9dbf-5480ce3d30fe",
          "name": "Patents & Inventions"
         }
        },
        {
         "document-count": 113,
         "entity": {
          "id": "946b44a8-b767-40ca-8093-e90d6af2a9d4",
          "name": "Ford Motor Company",
          "type": "organisation"
         },
         "entity.sentiment": "negative",
         "published-at": "2021-01-01",
         "topic": {
          "id": "c3e9ec2f-e225-4955-9dbf-5480ce3d30fe",
          "name": "Patents & Inventions"
         }
        },
        {
         "document-count": 1268,
         "entity": {
          "id": "946b44a8-b767-40ca-8093-e90d6af2a9d4",
          "name": "Ford Motor Company",
          "type": "organisation"
         },
         "entity.sentiment": "neutral",
         "published-at": "2021-01-01",
         "topic": {
          "id": "c3e9ec2f-e225-4955-9dbf-5480ce3d30fe",
          "name": "Patents & Inventions"
         }
        },
        {
         "document-count": 2005,
         "entity": {
          "id": "946b44a8-b767-40ca-8093-e90d6af2a9d4",
          "name": "Ford Motor Company",
          "type": "organisation"
         },
         "entity.sentiment": "positive",
         "published-at": "2021-01-01",
         "topic": {
          "id": "c3e9ec2f-e225-4955-9dbf-5480ce3d30fe",
          "name": "Patents & Inventions"
         }
        },
        {
         "document-count": 79,
         "entity": {
          "id": "c4ad0758-f3ee-4002-84aa-10849a153d75",
          "name": "Honda",
          "type": "organisation"
         },
         "entity.sentiment": "negative",
         "published-at": "2021-01-01",
         "topic": {
          "id": "c3e9ec2f-e225-4955-9dbf-5480ce3d30fe",
          "name": "Patents & Inventions"
         }
        },
        {
         "document-count": 1303,
         "entity": {
          "id": "c4ad0758-f3ee-4002-84aa-10849a153d75",
          "name": "Honda",
          "type": "organisation"
         },
         "entity.sentiment": "neutral",
         "published-at": "2021-01-01",
         "topic": {
          "id": "c3e9ec2f-e225-4955-9dbf-5480ce3d30fe",
          "name": "Patents & Inventions"
         }
        },
        {
         "document-count": 1498,
         "entity": {
          "id": "c4ad0758-f3ee-4002-84aa-10849a153d75",
          "name": "Honda",
          "type": "organisation"
         },
         "entity.sentiment": "positive",
         "published-at": "2021-01-01",
         "topic": {
          "id": "c3e9ec2f-e225-4955-9dbf-5480ce3d30fe",
          "name": "Patents & Inventions"
         }
        },
        {
         "document-count": 32,
         "entity": {
          "id": "06608104-0136-4371-ad04-be40fcc306a4",
          "name": "BMW",
          "type": "organisation"
         },
         "entity.sentiment": "negative",
         "published-at": "2021-01-01",
         "topic": {
          "id": "c3e9ec2f-e225-4955-9dbf-5480ce3d30fe",
          "name": "Patents & Inventions"
         }
        },
        {
         "document-count": 593,
         "entity": {
          "id": "06608104-0136-4371-ad04-be40fcc306a4",
          "name": "BMW",
          "type": "organisation"
         },
         "entity.sentiment": "neutral",
         "published-at": "2021-01-01",
         "topic": {
          "id": "c3e9ec2f-e225-4955-9dbf-5480ce3d30fe",
          "name": "Patents & Inventions"
         }
        },
        {
         "document-count": 1709,
         "entity": {
          "id": "06608104-0136-4371-ad04-be40fcc306a4",
          "name": "BMW",
          "type": "organisation"
         },
         "entity.sentiment": "positive",
         "published-at": "2021-01-01",
         "topic": {
          "id": "c3e9ec2f-e225-4955-9dbf-5480ce3d30fe",
          "name": "Patents & Inventions"
         }
        },
        {
         "document-count": 32,
         "entity": {
          "id": "d7f0268d-1322-32b2-83d9-bb6fa9922506",
          "name": "Volkswagen",
          "type": "organisation"
         },
         "entity.sentiment": "negative",
         "published-at": "2021-01-01",
         "topic": {
          "id": "c3e9ec2f-e225-4955-9dbf-5480ce3d30fe",
          "name": "Patents & Inventions"
         }
        },
        {
         "document-count": 140,
         "entity": {
          "id": "d7f0268d-1322-32b2-83d9-bb6fa9922506",
          "name": "Volkswagen",
          "type": "organisation"
         },
         "entity.sentiment": "neutral",
         "published-at": "2021-01-01",
         "topic": {
          "id": "c3e9ec2f-e225-4955-9dbf-5480ce3d30fe",
          "name": "Patents & Inventions"
         }
        },
        {
         "document-count": 546,
         "entity": {
          "id": "d7f0268d-1322-32b2-83d9-bb6fa9922506",
          "name": "Volkswagen",
          "type": "organisation"
         },
         "entity.sentiment": "positive",
         "published-at": "2021-01-01",
         "topic": {
          "id": "c3e9ec2f-e225-4955-9dbf-5480ce3d30fe",
          "name": "Patents & Inventions"
         }
        },
        {
         "document-count": 278,
         "entity": {
          "id": "11cab8df-4be1-470f-8f49-8f7f0863ec95",
          "name": "Tesla, Inc.",
          "type": "organisation"
         },
         "entity.sentiment": "negative",
         "published-at": "2021-01-01",
         "topic": {
          "id": "a301b00d-f4ef-49fb-9224-f52386d4955e",
          "name": "Corporate culture"
         }
        },
        {
         "document-count": 621,
         "entity": {
          "id": "11cab8df-4be1-470f-8f49-8f7f0863ec95",
          "name": "Tesla, Inc.",
          "type": "organisation"
         },
         "entity.sentiment": "neutral",
         "published-at": "2021-01-01",
         "topic": {
          "id": "a301b00d-f4ef-49fb-9224-f52386d4955e",
          "name": "Corporate culture"
         }
        },
        {
         "document-count": 717,
         "entity": {
          "id": "11cab8df-4be1-470f-8f49-8f7f0863ec95",
          "name": "Tesla, Inc.",
          "type": "organisation"
         },
         "entity.sentiment": "positive",
         "published-at": "2021-01-01",
         "topic": {
          "id": "a301b00d-f4ef-49fb-9224-f52386d4955e",
          "name": "Corporate culture"
         }
        },
        {
         "document-count": 39,
         "entity": {
          "id": "946b44a8-b767-40ca-8093-e90d6af2a9d4",
          "name": "Ford Motor Company",
          "type": "organisation"
         },
         "entity.sentiment": "negative",
         "published-at": "2021-01-01",
         "topic": {
          "id": "a301b00d-f4ef-49fb-9224-f52386d4955e",
          "name": "Corporate culture"
         }
        },
        {
         "document-count": 803,
         "entity": {
          "id": "946b44a8-b767-40ca-8093-e90d6af2a9d4",
          "name": "Ford Motor Company",
          "type": "organisation"
         },
         "entity.sentiment": "neutral",
         "published-at": "2021-01-01",
         "topic": {
          "id": "a301b00d-f4ef-49fb-9224-f52386d4955e",
          "name": "Corporate culture"
         }
        },
        {
         "document-count": 890,
         "entity": {
          "id": "946b44a8-b767-40ca-8093-e90d6af2a9d4",
          "name": "Ford Motor Company",
          "type": "organisation"
         },
         "entity.sentiment": "positive",
         "published-at": "2021-01-01",
         "topic": {
          "id": "a301b00d-f4ef-49fb-9224-f52386d4955e",
          "name": "Corporate culture"
         }
        },
        {
         "document-count": 40,
         "entity": {
          "id": "a9cf01c5-751f-4fe5-a529-12e0d297cb63",
          "name": "General Motors",
          "type": "organisation"
         },
         "entity.sentiment": "negative",
         "published-at": "2021-01-01",
         "topic": {
          "id": "a301b00d-f4ef-49fb-9224-f52386d4955e",
          "name": "Corporate culture"
         }
        },
        {
         "document-count": 468,
         "entity": {
          "id": "a9cf01c5-751f-4fe5-a529-12e0d297cb63",
          "name": "General Motors",
          "type": "organisation"
         },
         "entity.sentiment": "neutral",
         "published-at": "2021-01-01",
         "topic": {
          "id": "a301b00d-f4ef-49fb-9224-f52386d4955e",
          "name": "Corporate culture"
         }
        },
        {
         "document-count": 562,
         "entity": {
          "id": "a9cf01c5-751f-4fe5-a529-12e0d297cb63",
          "name": "General Motors",
          "type": "organisation"
         },
         "entity.sentiment": "positive",
         "published-at": "2021-01-01",
         "topic": {
          "id": "a301b00d-f4ef-49fb-9224-f52386d4955e",
          "name": "Corporate culture"
         }
        },
        {
         "document-count": 4,
         "entity": {
          "id": "06608104-0136-4371-ad04-be40fcc306a4",
          "name": "BMW",
          "type": "organisation"
         },
         "entity.sentiment": "negative",
         "published-at": "2021-01-01",
         "topic": {
          "id": "a301b00d-f4ef-49fb-9224-f52386d4955e",
          "name": "Corporate culture"
         }
        },
        {
         "document-count": 315,
         "entity": {
          "id": "06608104-0136-4371-ad04-be40fcc306a4",
          "name": "BMW",
          "type": "organisation"
         },
         "entity.sentiment": "neutral",
         "published-at": "2021-01-01",
         "topic": {
          "id": "a301b00d-f4ef-49fb-9224-f52386d4955e",
          "name": "Corporate culture"
         }
        },
        {
         "document-count": 411,
         "entity": {
          "id": "06608104-0136-4371-ad04-be40fcc306a4",
          "name": "BMW",
          "type": "organisation"
         },
         "entity.sentiment": "positive",
         "published-at": "2021-01-01",
         "topic": {
          "id": "a301b00d-f4ef-49fb-9224-f52386d4955e",
          "name": "Corporate culture"
         }
        },
        {
         "document-count": 22,
         "entity": {
          "id": "d6341968-83df-441c-a869-fa7ae9c22c73",
          "name": "Toyota",
          "type": "organisation"
         },
         "entity.sentiment": "negative",
         "published-at": "2021-01-01",
         "topic": {
          "id": "a301b00d-f4ef-49fb-9224-f52386d4955e",
          "name": "Corporate culture"
         }
        },
        {
         "document-count": 330,
         "entity": {
          "id": "d6341968-83df-441c-a869-fa7ae9c22c73",
          "name": "Toyota",
          "type": "organisation"
         },
         "entity.sentiment": "neutral",
         "published-at": "2021-01-01",
         "topic": {
          "id": "a301b00d-f4ef-49fb-9224-f52386d4955e",
          "name": "Corporate culture"
         }
        },
        {
         "document-count": 547,
         "entity": {
          "id": "d6341968-83df-441c-a869-fa7ae9c22c73",
          "name": "Toyota",
          "type": "organisation"
         },
         "entity.sentiment": "positive",
         "published-at": "2021-01-01",
         "topic": {
          "id": "a301b00d-f4ef-49fb-9224-f52386d4955e",
          "name": "Corporate culture"
         }
        },
        {
         "document-count": 6,
         "entity": {
          "id": "c4ad0758-f3ee-4002-84aa-10849a153d75",
          "name": "Honda",
          "type": "organisation"
         },
         "entity.sentiment": "negative",
         "published-at": "2021-01-01",
         "topic": {
          "id": "a301b00d-f4ef-49fb-9224-f52386d4955e",
          "name": "Corporate culture"
         }
        },
        {
         "document-count": 213,
         "entity": {
          "id": "c4ad0758-f3ee-4002-84aa-10849a153d75",
          "name": "Honda",
          "type": "organisation"
         },
         "entity.sentiment": "neutral",
         "published-at": "2021-01-01",
         "topic": {
          "id": "a301b00d-f4ef-49fb-9224-f52386d4955e",
          "name": "Corporate culture"
         }
        },
        {
         "document-count": 142,
         "entity": {
          "id": "c4ad0758-f3ee-4002-84aa-10849a153d75",
          "name": "Honda",
          "type": "organisation"
         },
         "entity.sentiment": "positive",
         "published-at": "2021-01-01",
         "topic": {
          "id": "a301b00d-f4ef-49fb-9224-f52386d4955e",
          "name": "Corporate culture"
         }
        },
        {
         "document-count": 15,
         "entity": {
          "id": "d7f0268d-1322-32b2-83d9-bb6fa9922506",
          "name": "Volkswagen",
          "type": "organisation"
         },
         "entity.sentiment": "negative",
         "published-at": "2021-01-01",
         "topic": {
          "id": "a301b00d-f4ef-49fb-9224-f52386d4955e",
          "name": "Corporate culture"
         }
        },
        {
         "document-count": 159,
         "entity": {
          "id": "d7f0268d-1322-32b2-83d9-bb6fa9922506",
          "name": "Volkswagen",
          "type": "organisation"
         },
         "entity.sentiment": "neutral",
         "published-at": "2021-01-01",
         "topic": {
          "id": "a301b00d-f4ef-49fb-9224-f52386d4955e",
          "name": "Corporate culture"
         }
        },
        {
         "document-count": 120,
         "entity": {
          "id": "d7f0268d-1322-32b2-83d9-bb6fa9922506",
          "name": "Volkswagen",
          "type": "organisation"
         },
         "entity.sentiment": "positive",
         "published-at": "2021-01-01",
         "topic": {
          "id": "a301b00d-f4ef-49fb-9224-f52386d4955e",
          "name": "Corporate culture"
         }
        }
       ]
      },
      "text/plain": [
       "<IPython.core.display.JSON object>"
      ]
     },
     "execution_count": 20,
     "metadata": {
      "application/json": {
       "expanded": false,
       "root": "root"
      }
     },
     "output_type": "execute_result"
    }
   ],
   "source": [
    "JSON(car_manufacturers_result)"
   ]
  },
  {
   "cell_type": "markdown",
   "metadata": {},
   "source": [
    "We can convert the date into a data frame for easier processing/transformation"
   ]
  },
  {
   "cell_type": "code",
   "execution_count": 63,
   "metadata": {
    "tags": []
   },
   "outputs": [
    {
     "data": {
      "text/html": [
       "<div>\n",
       "<style scoped>\n",
       "    .dataframe tbody tr th:only-of-type {\n",
       "        vertical-align: middle;\n",
       "    }\n",
       "\n",
       "    .dataframe tbody tr th {\n",
       "        vertical-align: top;\n",
       "    }\n",
       "\n",
       "    .dataframe thead th {\n",
       "        text-align: right;\n",
       "    }\n",
       "</style>\n",
       "<table border=\"1\" class=\"dataframe\">\n",
       "  <thead>\n",
       "    <tr style=\"text-align: right;\">\n",
       "      <th></th>\n",
       "      <th>Date</th>\n",
       "      <th>Entity</th>\n",
       "      <th>Topic</th>\n",
       "      <th>Sentiment</th>\n",
       "      <th>Count</th>\n",
       "    </tr>\n",
       "  </thead>\n",
       "  <tbody>\n",
       "    <tr>\n",
       "      <th>0</th>\n",
       "      <td>2020-12-01</td>\n",
       "      <td>General Motors</td>\n",
       "      <td>Innovation</td>\n",
       "      <td>negative</td>\n",
       "      <td>296</td>\n",
       "    </tr>\n",
       "    <tr>\n",
       "      <th>1</th>\n",
       "      <td>2020-12-01</td>\n",
       "      <td>General Motors</td>\n",
       "      <td>Innovation</td>\n",
       "      <td>neutral</td>\n",
       "      <td>2389</td>\n",
       "    </tr>\n",
       "    <tr>\n",
       "      <th>2</th>\n",
       "      <td>2020-12-01</td>\n",
       "      <td>General Motors</td>\n",
       "      <td>Innovation</td>\n",
       "      <td>positive</td>\n",
       "      <td>8206</td>\n",
       "    </tr>\n",
       "    <tr>\n",
       "      <th>3</th>\n",
       "      <td>2020-12-01</td>\n",
       "      <td>Toyota</td>\n",
       "      <td>Innovation</td>\n",
       "      <td>negative</td>\n",
       "      <td>296</td>\n",
       "    </tr>\n",
       "    <tr>\n",
       "      <th>4</th>\n",
       "      <td>2020-12-01</td>\n",
       "      <td>Toyota</td>\n",
       "      <td>Innovation</td>\n",
       "      <td>neutral</td>\n",
       "      <td>4323</td>\n",
       "    </tr>\n",
       "    <tr>\n",
       "      <th>5</th>\n",
       "      <td>2020-12-01</td>\n",
       "      <td>Toyota</td>\n",
       "      <td>Innovation</td>\n",
       "      <td>positive</td>\n",
       "      <td>21887</td>\n",
       "    </tr>\n",
       "    <tr>\n",
       "      <th>6</th>\n",
       "      <td>2020-12-01</td>\n",
       "      <td>Tesla, Inc.</td>\n",
       "      <td>Innovation</td>\n",
       "      <td>negative</td>\n",
       "      <td>650</td>\n",
       "    </tr>\n",
       "    <tr>\n",
       "      <th>7</th>\n",
       "      <td>2020-12-01</td>\n",
       "      <td>Tesla, Inc.</td>\n",
       "      <td>Innovation</td>\n",
       "      <td>neutral</td>\n",
       "      <td>4240</td>\n",
       "    </tr>\n",
       "    <tr>\n",
       "      <th>8</th>\n",
       "      <td>2020-12-01</td>\n",
       "      <td>Tesla, Inc.</td>\n",
       "      <td>Innovation</td>\n",
       "      <td>positive</td>\n",
       "      <td>13664</td>\n",
       "    </tr>\n",
       "    <tr>\n",
       "      <th>9</th>\n",
       "      <td>2020-12-01</td>\n",
       "      <td>BMW</td>\n",
       "      <td>Innovation</td>\n",
       "      <td>negative</td>\n",
       "      <td>160</td>\n",
       "    </tr>\n",
       "  </tbody>\n",
       "</table>\n",
       "</div>"
      ],
      "text/plain": [
       "         Date          Entity       Topic Sentiment  Count\n",
       "0  2020-12-01  General Motors  Innovation  negative    296\n",
       "1  2020-12-01  General Motors  Innovation   neutral   2389\n",
       "2  2020-12-01  General Motors  Innovation  positive   8206\n",
       "3  2020-12-01          Toyota  Innovation  negative    296\n",
       "4  2020-12-01          Toyota  Innovation   neutral   4323\n",
       "5  2020-12-01          Toyota  Innovation  positive  21887\n",
       "6  2020-12-01     Tesla, Inc.  Innovation  negative    650\n",
       "7  2020-12-01     Tesla, Inc.  Innovation   neutral   4240\n",
       "8  2020-12-01     Tesla, Inc.  Innovation  positive  13664\n",
       "9  2020-12-01             BMW  Innovation  negative    160"
      ]
     },
     "execution_count": 63,
     "metadata": {},
     "output_type": "execute_result"
    }
   ],
   "source": [
    "df = json_normalize(car_manufacturers_result, 'aggregations')\n",
    "\n",
    "df = df.rename(columns={'published-at': 'Date',\n",
    "                        'entity.sentiment': 'Sentiment', \n",
    "                        'document-count': 'Count', \n",
    "                        'topic.name': 'Topic', \n",
    "                        'entity.name': 'Entity'})\n",
    "\n",
    "df = df.reindex(columns=[ 'Date', 'Entity', 'Topic', 'Sentiment', 'Count'])\n",
    "df.style.set_caption('Sentiment breakdown by car manufacturer and topic')\n",
    "df.head(10)"
   ]
  },
  {
   "cell_type": "markdown",
   "metadata": {},
   "source": [
    "we will now compute a matrix with two dimensions entities and topics for each month containing the overall polarity (which is the total number of positive articles minus the total number of negative articles). \n",
    "\n",
    "Then we compute the matrix that shows the trend which is the difference (delta) between the two\n"
   ]
  },
  {
   "cell_type": "code",
   "execution_count": 144,
   "metadata": {},
   "outputs": [
    {
     "data": {
      "text/html": [
       "<div>\n",
       "<style scoped>\n",
       "    .dataframe tbody tr th:only-of-type {\n",
       "        vertical-align: middle;\n",
       "    }\n",
       "\n",
       "    .dataframe tbody tr th {\n",
       "        vertical-align: top;\n",
       "    }\n",
       "\n",
       "    .dataframe thead th {\n",
       "        text-align: right;\n",
       "    }\n",
       "</style>\n",
       "<table border=\"1\" class=\"dataframe\">\n",
       "  <thead>\n",
       "    <tr style=\"text-align: right;\">\n",
       "      <th>Topic</th>\n",
       "      <th>Corporate Governance</th>\n",
       "      <th>Corporate Responsibility</th>\n",
       "      <th>Corporate culture</th>\n",
       "      <th>Innovation</th>\n",
       "      <th>Patents &amp; Inventions</th>\n",
       "      <th>Sustainability</th>\n",
       "    </tr>\n",
       "    <tr>\n",
       "      <th>Entity</th>\n",
       "      <th></th>\n",
       "      <th></th>\n",
       "      <th></th>\n",
       "      <th></th>\n",
       "      <th></th>\n",
       "      <th></th>\n",
       "    </tr>\n",
       "  </thead>\n",
       "  <tbody>\n",
       "    <tr>\n",
       "      <th>BMW</th>\n",
       "      <td>-471</td>\n",
       "      <td>1323</td>\n",
       "      <td>13</td>\n",
       "      <td>1902</td>\n",
       "      <td>138</td>\n",
       "      <td>4873</td>\n",
       "    </tr>\n",
       "    <tr>\n",
       "      <th>Ford Motor Company</th>\n",
       "      <td>729</td>\n",
       "      <td>566</td>\n",
       "      <td>81</td>\n",
       "      <td>1362</td>\n",
       "      <td>191</td>\n",
       "      <td>2804</td>\n",
       "    </tr>\n",
       "    <tr>\n",
       "      <th>General Motors</th>\n",
       "      <td>1190</td>\n",
       "      <td>3361</td>\n",
       "      <td>-19</td>\n",
       "      <td>10731</td>\n",
       "      <td>1274</td>\n",
       "      <td>11665</td>\n",
       "    </tr>\n",
       "    <tr>\n",
       "      <th>Honda</th>\n",
       "      <td>81</td>\n",
       "      <td>651</td>\n",
       "      <td>-3</td>\n",
       "      <td>2458</td>\n",
       "      <td>59</td>\n",
       "      <td>-146</td>\n",
       "    </tr>\n",
       "    <tr>\n",
       "      <th>Tesla, Inc.</th>\n",
       "      <td>-237</td>\n",
       "      <td>3629</td>\n",
       "      <td>-1193</td>\n",
       "      <td>7546</td>\n",
       "      <td>31</td>\n",
       "      <td>14013</td>\n",
       "    </tr>\n",
       "    <tr>\n",
       "      <th>Toyota</th>\n",
       "      <td>918</td>\n",
       "      <td>-355</td>\n",
       "      <td>-1136</td>\n",
       "      <td>-3451</td>\n",
       "      <td>-1678</td>\n",
       "      <td>-4010</td>\n",
       "    </tr>\n",
       "    <tr>\n",
       "      <th>Volkswagen</th>\n",
       "      <td>369</td>\n",
       "      <td>1</td>\n",
       "      <td>-157</td>\n",
       "      <td>181</td>\n",
       "      <td>-88</td>\n",
       "      <td>3472</td>\n",
       "    </tr>\n",
       "  </tbody>\n",
       "</table>\n",
       "</div>"
      ],
      "text/plain": [
       "Topic               Corporate Governance  Corporate Responsibility  \\\n",
       "Entity                                                               \n",
       "BMW                                 -471                      1323   \n",
       "Ford Motor Company                   729                       566   \n",
       "General Motors                      1190                      3361   \n",
       "Honda                                 81                       651   \n",
       "Tesla, Inc.                         -237                      3629   \n",
       "Toyota                               918                      -355   \n",
       "Volkswagen                           369                         1   \n",
       "\n",
       "Topic               Corporate culture  Innovation  Patents & Inventions  \\\n",
       "Entity                                                                    \n",
       "BMW                                13        1902                   138   \n",
       "Ford Motor Company                 81        1362                   191   \n",
       "General Motors                    -19       10731                  1274   \n",
       "Honda                              -3        2458                    59   \n",
       "Tesla, Inc.                     -1193        7546                    31   \n",
       "Toyota                          -1136       -3451                 -1678   \n",
       "Volkswagen                       -157         181                   -88   \n",
       "\n",
       "Topic               Sustainability  \n",
       "Entity                              \n",
       "BMW                           4873  \n",
       "Ford Motor Company            2804  \n",
       "General Motors               11665  \n",
       "Honda                         -146  \n",
       "Tesla, Inc.                  14013  \n",
       "Toyota                       -4010  \n",
       "Volkswagen                    3472  "
      ]
     },
     "execution_count": 144,
     "metadata": {},
     "output_type": "execute_result"
    }
   ],
   "source": [
    "def transform_data(some_df):    \n",
    "    stacked_df = some_df.groupby(['Entity', 'Topic', 'Sentiment']).sum().unstack()\n",
    "    stacked_df.columns = stacked_df.columns.droplevel(0)\n",
    "\n",
    "    stacked_df['polarity'] = stacked_df.apply(\n",
    "        lambda x: x['positive'] - x['negative'],\n",
    "        axis=1\n",
    "    )\n",
    "    reseted_df = stacked_df.reset_index()\n",
    "    \n",
    "    return reseted_df.pivot_table(values='polarity', index=reseted_df['Entity'], columns='Topic')\n",
    "\n",
    "month_data_frames = {\n",
    "    group: transform_data(date_df.drop(columns=[\"Date\"])) for group, date_df in df.groupby('Date')\n",
    "}\n",
    "\n",
    "dec_df = month_data_frames['2020-12-01']\n",
    "jan_df = month_data_frames['2021-01-01']\n",
    "trend_df= jan_df.sub(dec_df)\n",
    "trend_df"
   ]
  },
  {
   "cell_type": "markdown",
   "metadata": {
    "tags": []
   },
   "source": [
    "Now we visualise this matrix"
   ]
  },
  {
   "cell_type": "code",
   "execution_count": 145,
   "metadata": {},
   "outputs": [
    {
     "data": {
      "image/png": "[encoded data removed]",
      "text/plain": [
       "<Figure size 1000x400 with 2 Axes>"
      ]
     },
     "metadata": {},
     "output_type": "display_data"
    }
   ],
   "source": [
    "import matplotlib.colors as clr\n",
    "\n",
    "\n",
    "## helper function to show numeric values in the matplotlib pcolor heatmap\n",
    "def show_values(pc, fmt=\"%d\", **kw):\n",
    "    pc.update_scalarmappable()\n",
    "    ax = pc.axes\n",
    "    for p, color, value in zip(pc.get_paths(), pc.get_facecolors(), pc.get_array()):\n",
    "        x, y = p.vertices[:-2, :].mean(0)\n",
    "        if np.all(color[:3] > 0.5):\n",
    "            color = (0.0, 0.0, 0.0)\n",
    "        else:\n",
    "            color = (1.0, 1.0, 1.0)\n",
    "        ax.text(x, y, fmt % value, ha=\"center\", va=\"center\", color=color, **kw)\n",
    "\n",
    "# gradient color map from red to grey to green\n",
    "cmap = clr.LinearSegmentedColormap.from_list('', ['#EA5462','#f0f2f4', '#50CEAC'], N=256)\n",
    "        \n",
    "        \n",
    "fig = plt.figure(figsize=[10,4], dpi=100, facecolor='w')\n",
    "ax1 = plt.subplot(111)\n",
    "\n",
    "# min and max values for the colors\n",
    "min_value = trend_df.min().min()\n",
    "max_value = trend_df.max().max()\n",
    "abs_max=max(abs(min_value), abs(max_value))\n",
    "\n",
    "pc = ax1.pcolor(trend_df, vmin=-1*abs_max, vmax=abs_max, cmap=cmap)\n",
    "show_values(pc)\n",
    "plt.colorbar(pc)\n",
    "\n",
    "ax1.set_xticks(np.arange(trend_df.shape[1]) + 0.5, minor=False)\n",
    "ax1.set_yticks(np.arange(trend_df.shape[0]) + 0.5, minor=False)\n",
    "\n",
    "ax1.set_xticklabels(list(trend_df.columns), rotation=45)\n",
    "ax1.set_yticklabels(list(trend_df.index))\n",
    "\n",
    "\n",
    "_ = ax1.set_title(\n",
    "    '''Sentiment trends around 7 car manufacturers in January 2021\n",
    "     compared to December 2020 in relation to a set of 6 strategic topics.\n",
    "     \n",
    "     Numbers represents the differences between the number of positive & negative \n",
    "     articles for a given entity when comparing Jan. 2021 to Dec. 2020\n",
    "     '''\n",
    ")\n",
    "\n",
    "ax1.title.set_fontsize(10)\n"
   ]
  },
  {
   "cell_type": "markdown",
   "metadata": {},
   "source": [
    "### 3. News coverage and sentiment around an entity in different locations"
   ]
  },
  {
   "cell_type": "markdown",
   "metadata": {},
   "source": [
    "**Use case question**:\n",
    "\n",
    "- How do news coverage and sentiment around my agency’s clients vary across different countries?"
   ]
  },
  {
   "cell_type": "markdown",
   "metadata": {},
   "source": [
    "**Example**: Coverage and sentiment around Uber in February 2021 and in 5 different countries"
   ]
  },
  {
   "cell_type": "code",
   "execution_count": 150,
   "metadata": {},
   "outputs": [],
   "source": [
    "entity_id = \"0c20f04a-94ef-467c-921d-f89f8895c41a\" ##  ID for Uber\n",
    "countries = [\n",
    "    \"United States\", \n",
    "    \"United Kingdom\", \n",
    "    \"Germany\", \n",
    "    \"France\", \n",
    "    \"Spain\"\n",
    "    ]\n",
    "\n",
    "query = {\n",
    "    \"where\": {\n",
    "        \"published-at\": {\n",
    "            \"gte\": \"2021-02-01\",\n",
    "            \"lt\": \"2021-03-01\"\n",
    "        },\n",
    "        # Here we can narrow our search by selecting only the documents where Uber is mentioned\n",
    "        \"entities\": {\n",
    "            \"id\": {\n",
    "                \"eq\": entity_id\n",
    "            }\n",
    "        }\n",
    "    },\n",
    "    \"aggregations\": {\n",
    "        \"group-by\": [\n",
    "            \"source.country\",\n",
    "            \"entity\",\n",
    "            \"entity.sentiment\"\n",
    "        ],\n",
    "        \"options\": {\n",
    "            \"source.country\": { \"include\": countries },\n",
    "            \"entity\": { \"include\": [entity_id] }\n",
    "        },\n",
    "        \"metrics\": [\"document-count\"]\n",
    "    }\n",
    "}\n",
    "\n",
    "uber_result = request(json=query).json()"
   ]
  },
  {
   "cell_type": "markdown",
   "metadata": {},
   "source": [
    "Transform the results into a dataframe for easier processing"
   ]
  },
  {
   "cell_type": "code",
   "execution_count": 152,
   "metadata": {},
   "outputs": [
    {
     "data": {
      "text/html": [
       "<div>\n",
       "<style scoped>\n",
       "    .dataframe tbody tr th:only-of-type {\n",
       "        vertical-align: middle;\n",
       "    }\n",
       "\n",
       "    .dataframe tbody tr th {\n",
       "        vertical-align: top;\n",
       "    }\n",
       "\n",
       "    .dataframe thead th {\n",
       "        text-align: right;\n",
       "    }\n",
       "</style>\n",
       "<table border=\"1\" class=\"dataframe\">\n",
       "  <thead>\n",
       "    <tr style=\"text-align: right;\">\n",
       "      <th>Sentiment</th>\n",
       "      <th>negative</th>\n",
       "      <th>neutral</th>\n",
       "      <th>positive</th>\n",
       "    </tr>\n",
       "    <tr>\n",
       "      <th>Country</th>\n",
       "      <th></th>\n",
       "      <th></th>\n",
       "      <th></th>\n",
       "    </tr>\n",
       "  </thead>\n",
       "  <tbody>\n",
       "    <tr>\n",
       "      <th>France</th>\n",
       "      <td>503</td>\n",
       "      <td>1221</td>\n",
       "      <td>1314</td>\n",
       "    </tr>\n",
       "    <tr>\n",
       "      <th>Germany</th>\n",
       "      <td>771</td>\n",
       "      <td>1329</td>\n",
       "      <td>1262</td>\n",
       "    </tr>\n",
       "    <tr>\n",
       "      <th>Spain</th>\n",
       "      <td>204</td>\n",
       "      <td>768</td>\n",
       "      <td>587</td>\n",
       "    </tr>\n",
       "    <tr>\n",
       "      <th>United Kingdom</th>\n",
       "      <td>3464</td>\n",
       "      <td>6407</td>\n",
       "      <td>2953</td>\n",
       "    </tr>\n",
       "    <tr>\n",
       "      <th>United States</th>\n",
       "      <td>6825</td>\n",
       "      <td>28353</td>\n",
       "      <td>19167</td>\n",
       "    </tr>\n",
       "  </tbody>\n",
       "</table>\n",
       "</div>"
      ],
      "text/plain": [
       "Sentiment       negative  neutral  positive\n",
       "Country                                    \n",
       "France               503     1221      1314\n",
       "Germany              771     1329      1262\n",
       "Spain                204      768       587\n",
       "United Kingdom      3464     6407      2953\n",
       "United States       6825    28353     19167"
      ]
     },
     "execution_count": 152,
     "metadata": {},
     "output_type": "execute_result"
    }
   ],
   "source": [
    "df = json_normalize(uber_result, 'aggregations')\n",
    "\n",
    "df = df.rename(columns={'entity.sentiment': 'Sentiment', 'document-count': 'Count', 'source.country': 'Country'})\n",
    "df = df.reindex(columns=['Country', 'Sentiment', 'Count'])\n",
    "\n",
    "df.style.set_caption('Sentiment towards Uber in February 2021')\n",
    "\n",
    "\n",
    "stacked_df = df.groupby(['Country', 'Sentiment']).sum().unstack()\n",
    "stacked_df.columns = stacked_df.columns.droplevel(0)\n",
    "stacked_df.head(10)"
   ]
  },
  {
   "cell_type": "markdown",
   "metadata": {},
   "source": [
    "Now visualise"
   ]
  },
  {
   "cell_type": "code",
   "execution_count": 159,
   "metadata": {},
   "outputs": [
    {
     "data": {
      "image/png": "[encoded data removed]",
      "text/plain": [
       "<Figure size 1000x400 with 1 Axes>"
      ]
     },
     "metadata": {},
     "output_type": "display_data"
    }
   ],
   "source": [
    "import matplotlib.pyplot as plt\n",
    "%matplotlib inline\n",
    "\n",
    "fig = plt.figure(figsize=[10,4], dpi=100, facecolor='w')\n",
    "ax1 = plt.subplot(111)\n",
    "stacked_df.plot.barh(\n",
    "    stacked=True,\n",
    "    ax=ax1,\n",
    "    color=['#EA5462', '#C5CAD3' ,'#50CEAC']\n",
    ")\n",
    "_ = ax1.set_title('Sentiment towards Wirecard over time')"
   ]
  },
  {
   "cell_type": "markdown",
   "metadata": {},
   "source": [
    "### 4. Difference in coverage and sentiment between entities over time and in relation to different topics"
   ]
  },
  {
   "cell_type": "markdown",
   "metadata": {},
   "source": [
    "**Use case question**:\n",
    "\n",
    "- How do different organisations that I monitor compare with respect to coverage and sentiment in relation to key topics?"
   ]
  },
  {
   "cell_type": "markdown",
   "metadata": {},
   "source": [
    "**Example**: Coverage and sentiment around 4 competitors in the mining industry in the second half of 2020 and in relation to 4 ESG topics"
   ]
  },
  {
   "cell_type": "code",
   "execution_count": 160,
   "metadata": {},
   "outputs": [],
   "source": [
    "topic_ids = [\n",
    "    \"22297881-a936-4b51-a880-a7152c8ecc68\",\n",
    "    \"ff9d1563-570f-4769-bbb5-7f3096beca0a\",\n",
    "    \"8de14dc1-6a93-4d1f-b755-a8d7aa570187\",\n",
    "    \"f8c74a1b-4f44-4a3f-b9bb-9b7cb221eb3f\"\n",
    "    ] ## IDs of the following topics: Environmental Cleanup, Corporate Controversy,  Sustainability, Chemicals\n",
    "\n",
    "entity_ids = [\n",
    "   \"72800724-103f-4370-942a-0e715b58ee4a\",\n",
    "   \"3d885924-a230-4fac-b17a-d5a1c1151cdf\",\n",
    "   \"98eeff9c-6a9a-4d62-801d-eb94b240dd42\",\n",
    "   \"592930e0-70fe-45f7-8a1e-ec504158dbf9\"\n",
    "    ] ##  IDs of the following mining companies: Rio Tinto, BHP, Glencore\n",
    "\n",
    "query = {\n",
    "    \"where\": {\n",
    "        \"published-at\": {\n",
    "            \"gte\": \"2020-07-01\",\n",
    "            \"lte\": \"2020-12-31\"\n",
    "        },\n",
    "        \"topics\": {\n",
    "            \"id\": { \"any\": topic_ids }\n",
    "        },\n",
    "        \"entities\": {\n",
    "            \"id\": { \"any\": entity_ids }\n",
    "        }\n",
    "    },\n",
    "    \"aggregations\": {\n",
    "        \"group-by\": [\n",
    "            \"published-at\",\n",
    "            \"topic\",\n",
    "            \"entity\",\n",
    "            \"entity.sentiment\"\n",
    "        ],\n",
    "        \"options\": {\n",
    "            \"published-at\": { \"interval\": \"week\" },\n",
    "            \"topic\": { \"include\": topic_ids },\n",
    "            \"entity\": { \"include\": entity_ids }\n",
    "        },\n",
    "        \"metrics\": [\"document-count\"]\n",
    "    }\n",
    "}\n",
    "\n",
    "mining_companies_result = request(json=query).json()"
   ]
  },
  {
   "cell_type": "code",
   "execution_count": 161,
   "metadata": {},
   "outputs": [
    {
     "data": {
      "text/html": [
       "<div>\n",
       "<style scoped>\n",
       "    .dataframe tbody tr th:only-of-type {\n",
       "        vertical-align: middle;\n",
       "    }\n",
       "\n",
       "    .dataframe tbody tr th {\n",
       "        vertical-align: top;\n",
       "    }\n",
       "\n",
       "    .dataframe thead th {\n",
       "        text-align: right;\n",
       "    }\n",
       "</style>\n",
       "<table border=\"1\" class=\"dataframe\">\n",
       "  <thead>\n",
       "    <tr style=\"text-align: right;\">\n",
       "      <th></th>\n",
       "      <th></th>\n",
       "      <th>Sentiment</th>\n",
       "      <th>negative</th>\n",
       "      <th>neutral</th>\n",
       "      <th>positive</th>\n",
       "    </tr>\n",
       "    <tr>\n",
       "      <th>Date</th>\n",
       "      <th>Topic</th>\n",
       "      <th>Entity</th>\n",
       "      <th></th>\n",
       "      <th></th>\n",
       "      <th></th>\n",
       "    </tr>\n",
       "  </thead>\n",
       "  <tbody>\n",
       "    <tr>\n",
       "      <th rowspan=\"10\" valign=\"top\">2020-06-29</th>\n",
       "      <th rowspan=\"4\" valign=\"top\">Chemicals</th>\n",
       "      <th>Anglo American plc</th>\n",
       "      <td>21</td>\n",
       "      <td>243</td>\n",
       "      <td>241</td>\n",
       "    </tr>\n",
       "    <tr>\n",
       "      <th>BHP</th>\n",
       "      <td>31</td>\n",
       "      <td>465</td>\n",
       "      <td>626</td>\n",
       "    </tr>\n",
       "    <tr>\n",
       "      <th>Glencore</th>\n",
       "      <td>21</td>\n",
       "      <td>215</td>\n",
       "      <td>264</td>\n",
       "    </tr>\n",
       "    <tr>\n",
       "      <th>Rio Tinto Group</th>\n",
       "      <td>32</td>\n",
       "      <td>278</td>\n",
       "      <td>487</td>\n",
       "    </tr>\n",
       "    <tr>\n",
       "      <th rowspan=\"4\" valign=\"top\">Corporate Controversy</th>\n",
       "      <th>Anglo American plc</th>\n",
       "      <td>0</td>\n",
       "      <td>8</td>\n",
       "      <td>9</td>\n",
       "    </tr>\n",
       "    <tr>\n",
       "      <th>BHP</th>\n",
       "      <td>1</td>\n",
       "      <td>38</td>\n",
       "      <td>22</td>\n",
       "    </tr>\n",
       "    <tr>\n",
       "      <th>Glencore</th>\n",
       "      <td>38</td>\n",
       "      <td>71</td>\n",
       "      <td>121</td>\n",
       "    </tr>\n",
       "    <tr>\n",
       "      <th>Rio Tinto Group</th>\n",
       "      <td>2</td>\n",
       "      <td>58</td>\n",
       "      <td>10</td>\n",
       "    </tr>\n",
       "    <tr>\n",
       "      <th rowspan=\"2\" valign=\"top\">Environmental Cleanup</th>\n",
       "      <th>Anglo American plc</th>\n",
       "      <td>5</td>\n",
       "      <td>5</td>\n",
       "      <td>27</td>\n",
       "    </tr>\n",
       "    <tr>\n",
       "      <th>BHP</th>\n",
       "      <td>3</td>\n",
       "      <td>12</td>\n",
       "      <td>7</td>\n",
       "    </tr>\n",
       "  </tbody>\n",
       "</table>\n",
       "</div>"
      ],
      "text/plain": [
       "Sentiment                                            negative  neutral  \\\n",
       "Date       Topic                 Entity                                  \n",
       "2020-06-29 Chemicals             Anglo American plc        21      243   \n",
       "                                 BHP                       31      465   \n",
       "                                 Glencore                  21      215   \n",
       "                                 Rio Tinto Group           32      278   \n",
       "           Corporate Controversy Anglo American plc         0        8   \n",
       "                                 BHP                        1       38   \n",
       "                                 Glencore                  38       71   \n",
       "                                 Rio Tinto Group            2       58   \n",
       "           Environmental Cleanup Anglo American plc         5        5   \n",
       "                                 BHP                        3       12   \n",
       "\n",
       "Sentiment                                            positive  \n",
       "Date       Topic                 Entity                        \n",
       "2020-06-29 Chemicals             Anglo American plc       241  \n",
       "                                 BHP                      626  \n",
       "                                 Glencore                 264  \n",
       "                                 Rio Tinto Group          487  \n",
       "           Corporate Controversy Anglo American plc         9  \n",
       "                                 BHP                       22  \n",
       "                                 Glencore                 121  \n",
       "                                 Rio Tinto Group           10  \n",
       "           Environmental Cleanup Anglo American plc        27  \n",
       "                                 BHP                        7  "
      ]
     },
     "execution_count": 161,
     "metadata": {},
     "output_type": "execute_result"
    }
   ],
   "source": [
    "df = json_normalize(mining_companies_result, 'aggregations')\n",
    "\n",
    "df = df.rename(columns={'entity.sentiment': 'Sentiment', \n",
    "                        'document-count': 'Count', \n",
    "                        'published-at': 'Date', \n",
    "                        'topic.name': 'Topic', \n",
    "                        'entity.name': 'Entity'})\n",
    "\n",
    "df = df.reindex(columns=['Date', 'Topic', 'Entity', 'Sentiment', 'Count'])\n",
    "\n",
    "df.style.set_caption('Sentiment breakdown by mining company and topic')\n",
    "\n",
    "stacked_df = df.groupby(['Date','Topic', 'Entity', 'Sentiment']).sum().unstack()\n",
    "stacked_df.columns = stacked_df.columns.droplevel(0)\n",
    "stacked_df.head(10)"
   ]
  }
 ],
 "metadata": {
  "kernelspec": {
   "display_name": "Python 3",
   "language": "python",
   "name": "python3"
  },
  "language_info": {
   "codemirror_mode": {
    "name": "ipython",
    "version": 3
   },
   "file_extension": ".py",
   "mimetype": "text/x-python",
   "name": "python",
   "nbconvert_exporter": "python",
   "pygments_lexer": "ipython3",
   "version": "3.7.4"
  }
 },
 "nbformat": 4,
 "nbformat_minor": 4
}
