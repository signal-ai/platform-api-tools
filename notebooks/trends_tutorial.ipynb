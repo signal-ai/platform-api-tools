{
 "cells": [
  {
   "cell_type": "markdown",
   "metadata": {},
   "source": [
    "# Getting Started with the Trends API"
   ]
  },
  {
   "cell_type": "markdown",
   "metadata": {},
   "source": [
    "This notebook serves as a tutorial for the Trends endpoint in the Signal AI API.\n",
    "\n",
    "Full technical documentation of the Trends endpoint is available here\n",
    "https://api.signal-ai.com/docs#tag/Trends\n"
   ]
  },
  {
   "cell_type": "markdown",
   "metadata": {},
   "source": [
    "## Trends API Overview"
   ]
  },
  {
   "cell_type": "markdown",
   "metadata": {},
   "source": [
    "The Trends API provides at-a-glance aggregated metrics over all news & regulatory content available in our Platform. It supports analysing our content accross multiple dimensions, and enables users to monitor, visualise and understand information such as the following:\n",
    "- Changes in sentiment for an entity over time\n",
    "- Sentiment for an entity in relation to a set of key topics\n",
    "- News coverage and sentiment around an entity in different locations\n",
    "- Difference in coverage and sentiment between entities over time and in relation to different topics"
   ]
  },
  {
   "cell_type": "markdown",
   "metadata": {},
   "source": [
    "## 0. Setting things up!"
   ]
  },
  {
   "cell_type": "markdown",
   "metadata": {},
   "source": [
    "### 0.1 Pre-requisites"
   ]
  },
  {
   "cell_type": "markdown",
   "metadata": {},
   "source": [
    "Please make sure that you have familiarised yourself with the Signal AI API using the [Getting Started notebook](getting_started.ipynb)"
   ]
  },
  {
   "cell_type": "markdown",
   "metadata": {},
   "source": [
    "In particular you would need to be able to use the following endpoints:\n",
    "\n",
    "- Authentication: to be able to access the API\n",
    "- Discovery: to be able to search for entities and topics of interest\n"
   ]
  },
  {
   "cell_type": "markdown",
   "metadata": {},
   "source": [
    "Note: run `pip install -r requirements.txt` to install the dependencies for this notebook"
   ]
  },
  {
   "cell_type": "code",
   "execution_count": 1,
   "metadata": {
    "scrolled": true
   },
   "outputs": [],
   "source": [
    "import requests\n",
    "import os\n",
    "import pandas as pd\n",
    "import json\n",
    "from pandas import json_normalize"
   ]
  },
  {
   "cell_type": "markdown",
   "metadata": {},
   "source": [
    "### 0.2 Check if authentication works!"
   ]
  },
  {
   "cell_type": "markdown",
   "metadata": {},
   "source": [
    "You will need a client_id and client_secret to gain access to the API. The code below will assume they have been set and the environment variables `SIGNAL_API_CLIENT_ID` and `SIGNAL_API_CLIENT_SECRET` respectively."
   ]
  },
  {
   "cell_type": "markdown",
   "metadata": {},
   "source": [
    "Using your credentials you can request a temporary access token from the API using the url: https://api.signal-ai.com/auth/token\n"
   ]
  },
  {
   "cell_type": "code",
   "execution_count": 2,
   "metadata": {},
   "outputs": [],
   "source": [
    "def authenticate(client_id, client_secret, url = \"https://api.signal-ai.com\"):\n",
    "    \"\"\" obtain a temporary access token using user credentials \"\"\"\n",
    "    token_url = f'{url}/auth/token'\n",
    "    payload = {\n",
    "        \"grant_type\": \"client_credentials\",\n",
    "        \"client_id\": client_id,\n",
    "        \"client_secret\": client_secret\n",
    "    }\n",
    "    response = requests.post(token_url, data=payload)\n",
    "    return response.json().get(\"access_token\")"
   ]
  },
  {
   "cell_type": "code",
   "execution_count": 3,
   "metadata": {},
   "outputs": [
    {
     "name": "stdout",
     "output_type": "stream",
     "text": [
      "Congratulations! You have an access token, it will last for 24 hours before you will need to reauthenticate by repeating this step\n"
     ]
    }
   ],
   "source": [
    "TEMP_ACCESS_TOKEN = authenticate(os.environ['SIGNAL_API_CLIENT_ID'], os.environ['SIGNAL_API_CLIENT_SECRET'])\n",
    "if TEMP_ACCESS_TOKEN:\n",
    "    print('Congratulations! You have an access token, it will last for 24 hours before you will need to reauthenticate by repeating this step')\n",
    "else:\n",
    "    print('Error: Perhaps the credentials are incorrect?')"
   ]
  },
  {
   "cell_type": "markdown",
   "metadata": {},
   "source": [
    "## Using Trends API"
   ]
  },
  {
   "cell_type": "markdown",
   "metadata": {},
   "source": [
    "Before we start, let us define a request function that we can re-use across different example use cases."
   ]
  },
  {
   "cell_type": "code",
   "execution_count": 4,
   "metadata": {},
   "outputs": [],
   "source": [
    "def request(json=None):\n",
    "    \"\"\" Make requests using a tempory access token \"\"\"\n",
    "    response = requests.post(\n",
    "        'https://api.signal-ai.com/trends',\n",
    "        json=json,\n",
    "        headers={\n",
    "            \"Authorization\": f'Bearer {TEMP_ACCESS_TOKEN}',\n",
    "            \"Content-Type\": \"application/json\",\n",
    "            # Since the endpoint is still private, this header is required:\n",
    "            \"X-Access\": \"private\"\n",
    "        },\n",
    "    )\n",
    "    return response\n"
   ]
  },
  {
   "cell_type": "markdown",
   "metadata": {},
   "source": [
    "Following are some examples of the questions that can be answered using Trends API."
   ]
  },
  {
   "cell_type": "markdown",
   "metadata": {},
   "source": [
    "**Use case question**:\n",
    "\n",
    "- How has the sentiment around my organisation been changing over time?\n",
    "\n",
    "Note that you would need to have the ID of the entity as an input. For that please consult the [Getting Started notebook](getting_started.ipynb) to search for entities and obtain the ID of your chosen entity.\n",
    "\n",
    "\n"
   ]
  },
  {
   "cell_type": "markdown",
   "metadata": {},
   "source": [
    "**Example**: Sentiment towards Wirecard between the beginning of March 2020 and the end of August 2020 in weekly intervals"
   ]
  },
  {
   "cell_type": "code",
   "execution_count": 5,
   "metadata": {},
   "outputs": [],
   "source": [
    "entity_id = \"eae834b7-5b2f-430e-99ce-770786a971cf\" ##  ID for Wirecard\n",
    "\n",
    "query = {\n",
    "    # First we define the data to be included in the aggregation. \n",
    "    # This part of the query has got the same format as the query in the `Search` endpoint\n",
    "    \"where\": {\n",
    "        \"published-at\": {\n",
    "            \"gte\": \"2020-03-01\",\n",
    "            \"lte\": \"2020-08-31\"\n",
    "        },\n",
    "        \"entities\": {\n",
    "            \"id\": { \"eq\": entity_id }\n",
    "        }\n",
    "    },\n",
    "    # Then we define how the data should be aggregated. \n",
    "    # Note the `entity > include` option is used to specify the ID(s) of the entities we want the data to be grouped by.\n",
    "    \"aggregations\": {\n",
    "        \"group-by\": [\n",
    "            \"published-at\",\n",
    "            \"entity\",\n",
    "            \"entity.sentiment\"\n",
    "            \n",
    "        ],\n",
    "        \"options\": {\n",
    "            \"published-at\": { \"interval\": \"week\" },\n",
    "            \"entity\": { \"include\": [ entity_id ] }\n",
    "        },\n",
    "        \"metrics\": [\"document-count\"]\n",
    "    }\n",
    "}\n",
    "\n",
    "# Return the response in JSON format\n",
    "wirecard_result = request(json=query).json()\n"
   ]
  },
  {
   "cell_type": "markdown",
   "metadata": {},
   "source": [
    "You can see the structure of a typical Trends API response:"
   ]
  },
  {
   "cell_type": "code",
   "execution_count": 6,
   "metadata": {},
   "outputs": [
    {
     "data": {
      "application/json": {
       "aggregations": [
        {
         "document-count": 11,
         "entity": {
          "id": "eae834b7-5b2f-430e-99ce-770786a971cf",
          "name": "Wirecard",
          "type": "organisation"
         },
         "entity.sentiment": "negative",
         "published-at": "2020-02-24"
        },
        {
         "document-count": 43,
         "entity": {
          "id": "eae834b7-5b2f-430e-99ce-770786a971cf",
          "name": "Wirecard",
          "type": "organisation"
         },
         "entity.sentiment": "neutral",
         "published-at": "2020-02-24"
        },
        {
         "document-count": 116,
         "entity": {
          "id": "eae834b7-5b2f-430e-99ce-770786a971cf",
          "name": "Wirecard",
          "type": "organisation"
         },
         "entity.sentiment": "positive",
         "published-at": "2020-02-24"
        },
        {
         "document-count": 86,
         "entity": {
          "id": "eae834b7-5b2f-430e-99ce-770786a971cf",
          "name": "Wirecard",
          "type": "organisation"
         },
         "entity.sentiment": "negative",
         "published-at": "2020-03-02"
        },
        {
         "document-count": 1167,
         "entity": {
          "id": "eae834b7-5b2f-430e-99ce-770786a971cf",
          "name": "Wirecard",
          "type": "organisation"
         },
         "entity.sentiment": "neutral",
         "published-at": "2020-03-02"
        },
        {
         "document-count": 646,
         "entity": {
          "id": "eae834b7-5b2f-430e-99ce-770786a971cf",
          "name": "Wirecard",
          "type": "organisation"
         },
         "entity.sentiment": "positive",
         "published-at": "2020-03-02"
        },
        {
         "document-count": 146,
         "entity": {
          "id": "eae834b7-5b2f-430e-99ce-770786a971cf",
          "name": "Wirecard",
          "type": "organisation"
         },
         "entity.sentiment": "negative",
         "published-at": "2020-03-09"
        },
        {
         "document-count": 2368,
         "entity": {
          "id": "eae834b7-5b2f-430e-99ce-770786a971cf",
          "name": "Wirecard",
          "type": "organisation"
         },
         "entity.sentiment": "neutral",
         "published-at": "2020-03-09"
        },
        {
         "document-count": 928,
         "entity": {
          "id": "eae834b7-5b2f-430e-99ce-770786a971cf",
          "name": "Wirecard",
          "type": "organisation"
         },
         "entity.sentiment": "positive",
         "published-at": "2020-03-09"
        },
        {
         "document-count": 121,
         "entity": {
          "id": "eae834b7-5b2f-430e-99ce-770786a971cf",
          "name": "Wirecard",
          "type": "organisation"
         },
         "entity.sentiment": "negative",
         "published-at": "2020-03-16"
        },
        {
         "document-count": 1521,
         "entity": {
          "id": "eae834b7-5b2f-430e-99ce-770786a971cf",
          "name": "Wirecard",
          "type": "organisation"
         },
         "entity.sentiment": "neutral",
         "published-at": "2020-03-16"
        },
        {
         "document-count": 565,
         "entity": {
          "id": "eae834b7-5b2f-430e-99ce-770786a971cf",
          "name": "Wirecard",
          "type": "organisation"
         },
         "entity.sentiment": "positive",
         "published-at": "2020-03-16"
        },
        {
         "document-count": 74,
         "entity": {
          "id": "eae834b7-5b2f-430e-99ce-770786a971cf",
          "name": "Wirecard",
          "type": "organisation"
         },
         "entity.sentiment": "negative",
         "published-at": "2020-03-23"
        },
        {
         "document-count": 1417,
         "entity": {
          "id": "eae834b7-5b2f-430e-99ce-770786a971cf",
          "name": "Wirecard",
          "type": "organisation"
         },
         "entity.sentiment": "neutral",
         "published-at": "2020-03-23"
        },
        {
         "document-count": 549,
         "entity": {
          "id": "eae834b7-5b2f-430e-99ce-770786a971cf",
          "name": "Wirecard",
          "type": "organisation"
         },
         "entity.sentiment": "positive",
         "published-at": "2020-03-23"
        },
        {
         "document-count": 48,
         "entity": {
          "id": "eae834b7-5b2f-430e-99ce-770786a971cf",
          "name": "Wirecard",
          "type": "organisation"
         },
         "entity.sentiment": "negative",
         "published-at": "2020-03-30"
        },
        {
         "document-count": 1381,
         "entity": {
          "id": "eae834b7-5b2f-430e-99ce-770786a971cf",
          "name": "Wirecard",
          "type": "organisation"
         },
         "entity.sentiment": "neutral",
         "published-at": "2020-03-30"
        },
        {
         "document-count": 696,
         "entity": {
          "id": "eae834b7-5b2f-430e-99ce-770786a971cf",
          "name": "Wirecard",
          "type": "organisation"
         },
         "entity.sentiment": "positive",
         "published-at": "2020-03-30"
        },
        {
         "document-count": 30,
         "entity": {
          "id": "eae834b7-5b2f-430e-99ce-770786a971cf",
          "name": "Wirecard",
          "type": "organisation"
         },
         "entity.sentiment": "negative",
         "published-at": "2020-04-06"
        },
        {
         "document-count": 957,
         "entity": {
          "id": "eae834b7-5b2f-430e-99ce-770786a971cf",
          "name": "Wirecard",
          "type": "organisation"
         },
         "entity.sentiment": "neutral",
         "published-at": "2020-04-06"
        },
        {
         "document-count": 363,
         "entity": {
          "id": "eae834b7-5b2f-430e-99ce-770786a971cf",
          "name": "Wirecard",
          "type": "organisation"
         },
         "entity.sentiment": "positive",
         "published-at": "2020-04-06"
        },
        {
         "document-count": 60,
         "entity": {
          "id": "eae834b7-5b2f-430e-99ce-770786a971cf",
          "name": "Wirecard",
          "type": "organisation"
         },
         "entity.sentiment": "negative",
         "published-at": "2020-04-13"
        },
        {
         "document-count": 1484,
         "entity": {
          "id": "eae834b7-5b2f-430e-99ce-770786a971cf",
          "name": "Wirecard",
          "type": "organisation"
         },
         "entity.sentiment": "neutral",
         "published-at": "2020-04-13"
        },
        {
         "document-count": 595,
         "entity": {
          "id": "eae834b7-5b2f-430e-99ce-770786a971cf",
          "name": "Wirecard",
          "type": "organisation"
         },
         "entity.sentiment": "positive",
         "published-at": "2020-04-13"
        },
        {
         "document-count": 303,
         "entity": {
          "id": "eae834b7-5b2f-430e-99ce-770786a971cf",
          "name": "Wirecard",
          "type": "organisation"
         },
         "entity.sentiment": "negative",
         "published-at": "2020-04-20"
        },
        {
         "document-count": 2653,
         "entity": {
          "id": "eae834b7-5b2f-430e-99ce-770786a971cf",
          "name": "Wirecard",
          "type": "organisation"
         },
         "entity.sentiment": "neutral",
         "published-at": "2020-04-20"
        },
        {
         "document-count": 1437,
         "entity": {
          "id": "eae834b7-5b2f-430e-99ce-770786a971cf",
          "name": "Wirecard",
          "type": "organisation"
         },
         "entity.sentiment": "positive",
         "published-at": "2020-04-20"
        },
        {
         "document-count": 1603,
         "entity": {
          "id": "eae834b7-5b2f-430e-99ce-770786a971cf",
          "name": "Wirecard",
          "type": "organisation"
         },
         "entity.sentiment": "negative",
         "published-at": "2020-04-27"
        },
        {
         "document-count": 3304,
         "entity": {
          "id": "eae834b7-5b2f-430e-99ce-770786a971cf",
          "name": "Wirecard",
          "type": "organisation"
         },
         "entity.sentiment": "neutral",
         "published-at": "2020-04-27"
        },
        {
         "document-count": 1763,
         "entity": {
          "id": "eae834b7-5b2f-430e-99ce-770786a971cf",
          "name": "Wirecard",
          "type": "organisation"
         },
         "entity.sentiment": "positive",
         "published-at": "2020-04-27"
        },
        {
         "document-count": 459,
         "entity": {
          "id": "eae834b7-5b2f-430e-99ce-770786a971cf",
          "name": "Wirecard",
          "type": "organisation"
         },
         "entity.sentiment": "negative",
         "published-at": "2020-05-04"
        },
        {
         "document-count": 2346,
         "entity": {
          "id": "eae834b7-5b2f-430e-99ce-770786a971cf",
          "name": "Wirecard",
          "type": "organisation"
         },
         "entity.sentiment": "neutral",
         "published-at": "2020-05-04"
        },
        {
         "document-count": 1515,
         "entity": {
          "id": "eae834b7-5b2f-430e-99ce-770786a971cf",
          "name": "Wirecard",
          "type": "organisation"
         },
         "entity.sentiment": "positive",
         "published-at": "2020-05-04"
        },
        {
         "document-count": 975,
         "entity": {
          "id": "eae834b7-5b2f-430e-99ce-770786a971cf",
          "name": "Wirecard",
          "type": "organisation"
         },
         "entity.sentiment": "negative",
         "published-at": "2020-05-11"
        },
        {
         "document-count": 2767,
         "entity": {
          "id": "eae834b7-5b2f-430e-99ce-770786a971cf",
          "name": "Wirecard",
          "type": "organisation"
         },
         "entity.sentiment": "neutral",
         "published-at": "2020-05-11"
        },
        {
         "document-count": 2787,
         "entity": {
          "id": "eae834b7-5b2f-430e-99ce-770786a971cf",
          "name": "Wirecard",
          "type": "organisation"
         },
         "entity.sentiment": "positive",
         "published-at": "2020-05-11"
        },
        {
         "document-count": 324,
         "entity": {
          "id": "eae834b7-5b2f-430e-99ce-770786a971cf",
          "name": "Wirecard",
          "type": "organisation"
         },
         "entity.sentiment": "negative",
         "published-at": "2020-05-18"
        },
        {
         "document-count": 1615,
         "entity": {
          "id": "eae834b7-5b2f-430e-99ce-770786a971cf",
          "name": "Wirecard",
          "type": "organisation"
         },
         "entity.sentiment": "neutral",
         "published-at": "2020-05-18"
        },
        {
         "document-count": 1096,
         "entity": {
          "id": "eae834b7-5b2f-430e-99ce-770786a971cf",
          "name": "Wirecard",
          "type": "organisation"
         },
         "entity.sentiment": "positive",
         "published-at": "2020-05-18"
        },
        {
         "document-count": 519,
         "entity": {
          "id": "eae834b7-5b2f-430e-99ce-770786a971cf",
          "name": "Wirecard",
          "type": "organisation"
         },
         "entity.sentiment": "negative",
         "published-at": "2020-05-25"
        },
        {
         "document-count": 2231,
         "entity": {
          "id": "eae834b7-5b2f-430e-99ce-770786a971cf",
          "name": "Wirecard",
          "type": "organisation"
         },
         "entity.sentiment": "neutral",
         "published-at": "2020-05-25"
        },
        {
         "document-count": 1291,
         "entity": {
          "id": "eae834b7-5b2f-430e-99ce-770786a971cf",
          "name": "Wirecard",
          "type": "organisation"
         },
         "entity.sentiment": "positive",
         "published-at": "2020-05-25"
        },
        {
         "document-count": 640,
         "entity": {
          "id": "eae834b7-5b2f-430e-99ce-770786a971cf",
          "name": "Wirecard",
          "type": "organisation"
         },
         "entity.sentiment": "negative",
         "published-at": "2020-06-01"
        },
        {
         "document-count": 1963,
         "entity": {
          "id": "eae834b7-5b2f-430e-99ce-770786a971cf",
          "name": "Wirecard",
          "type": "organisation"
         },
         "entity.sentiment": "neutral",
         "published-at": "2020-06-01"
        },
        {
         "document-count": 681,
         "entity": {
          "id": "eae834b7-5b2f-430e-99ce-770786a971cf",
          "name": "Wirecard",
          "type": "organisation"
         },
         "entity.sentiment": "positive",
         "published-at": "2020-06-01"
        },
        {
         "document-count": 654,
         "entity": {
          "id": "eae834b7-5b2f-430e-99ce-770786a971cf",
          "name": "Wirecard",
          "type": "organisation"
         },
         "entity.sentiment": "negative",
         "published-at": "2020-06-08"
        },
        {
         "document-count": 1772,
         "entity": {
          "id": "eae834b7-5b2f-430e-99ce-770786a971cf",
          "name": "Wirecard",
          "type": "organisation"
         },
         "entity.sentiment": "neutral",
         "published-at": "2020-06-08"
        },
        {
         "document-count": 999,
         "entity": {
          "id": "eae834b7-5b2f-430e-99ce-770786a971cf",
          "name": "Wirecard",
          "type": "organisation"
         },
         "entity.sentiment": "positive",
         "published-at": "2020-06-08"
        },
        {
         "document-count": 5283,
         "entity": {
          "id": "eae834b7-5b2f-430e-99ce-770786a971cf",
          "name": "Wirecard",
          "type": "organisation"
         },
         "entity.sentiment": "negative",
         "published-at": "2020-06-15"
        },
        {
         "document-count": 7805,
         "entity": {
          "id": "eae834b7-5b2f-430e-99ce-770786a971cf",
          "name": "Wirecard",
          "type": "organisation"
         },
         "entity.sentiment": "neutral",
         "published-at": "2020-06-15"
        },
        {
         "document-count": 4699,
         "entity": {
          "id": "eae834b7-5b2f-430e-99ce-770786a971cf",
          "name": "Wirecard",
          "type": "organisation"
         },
         "entity.sentiment": "positive",
         "published-at": "2020-06-15"
        },
        {
         "document-count": 14283,
         "entity": {
          "id": "eae834b7-5b2f-430e-99ce-770786a971cf",
          "name": "Wirecard",
          "type": "organisation"
         },
         "entity.sentiment": "negative",
         "published-at": "2020-06-22"
        },
        {
         "document-count": 16448,
         "entity": {
          "id": "eae834b7-5b2f-430e-99ce-770786a971cf",
          "name": "Wirecard",
          "type": "organisation"
         },
         "entity.sentiment": "neutral",
         "published-at": "2020-06-22"
        },
        {
         "document-count": 9846,
         "entity": {
          "id": "eae834b7-5b2f-430e-99ce-770786a971cf",
          "name": "Wirecard",
          "type": "organisation"
         },
         "entity.sentiment": "positive",
         "published-at": "2020-06-22"
        },
        {
         "document-count": 5652,
         "entity": {
          "id": "eae834b7-5b2f-430e-99ce-770786a971cf",
          "name": "Wirecard",
          "type": "organisation"
         },
         "entity.sentiment": "negative",
         "published-at": "2020-06-29"
        },
        {
         "document-count": 9516,
         "entity": {
          "id": "eae834b7-5b2f-430e-99ce-770786a971cf",
          "name": "Wirecard",
          "type": "organisation"
         },
         "entity.sentiment": "neutral",
         "published-at": "2020-06-29"
        },
        {
         "document-count": 7723,
         "entity": {
          "id": "eae834b7-5b2f-430e-99ce-770786a971cf",
          "name": "Wirecard",
          "type": "organisation"
         },
         "entity.sentiment": "positive",
         "published-at": "2020-06-29"
        },
        {
         "document-count": 2831,
         "entity": {
          "id": "eae834b7-5b2f-430e-99ce-770786a971cf",
          "name": "Wirecard",
          "type": "organisation"
         },
         "entity.sentiment": "negative",
         "published-at": "2020-07-06"
        },
        {
         "document-count": 7142,
         "entity": {
          "id": "eae834b7-5b2f-430e-99ce-770786a971cf",
          "name": "Wirecard",
          "type": "organisation"
         },
         "entity.sentiment": "neutral",
         "published-at": "2020-07-06"
        },
        {
         "document-count": 2574,
         "entity": {
          "id": "eae834b7-5b2f-430e-99ce-770786a971cf",
          "name": "Wirecard",
          "type": "organisation"
         },
         "entity.sentiment": "positive",
         "published-at": "2020-07-06"
        },
        {
         "document-count": 2623,
         "entity": {
          "id": "eae834b7-5b2f-430e-99ce-770786a971cf",
          "name": "Wirecard",
          "type": "organisation"
         },
         "entity.sentiment": "negative",
         "published-at": "2020-07-13"
        },
        {
         "document-count": 5833,
         "entity": {
          "id": "eae834b7-5b2f-430e-99ce-770786a971cf",
          "name": "Wirecard",
          "type": "organisation"
         },
         "entity.sentiment": "neutral",
         "published-at": "2020-07-13"
        },
        {
         "document-count": 2124,
         "entity": {
          "id": "eae834b7-5b2f-430e-99ce-770786a971cf",
          "name": "Wirecard",
          "type": "organisation"
         },
         "entity.sentiment": "positive",
         "published-at": "2020-07-13"
        },
        {
         "document-count": 4314,
         "entity": {
          "id": "eae834b7-5b2f-430e-99ce-770786a971cf",
          "name": "Wirecard",
          "type": "organisation"
         },
         "entity.sentiment": "negative",
         "published-at": "2020-07-20"
        },
        {
         "document-count": 7076,
         "entity": {
          "id": "eae834b7-5b2f-430e-99ce-770786a971cf",
          "name": "Wirecard",
          "type": "organisation"
         },
         "entity.sentiment": "neutral",
         "published-at": "2020-07-20"
        },
        {
         "document-count": 2571,
         "entity": {
          "id": "eae834b7-5b2f-430e-99ce-770786a971cf",
          "name": "Wirecard",
          "type": "organisation"
         },
         "entity.sentiment": "positive",
         "published-at": "2020-07-20"
        },
        {
         "document-count": 2163,
         "entity": {
          "id": "eae834b7-5b2f-430e-99ce-770786a971cf",
          "name": "Wirecard",
          "type": "organisation"
         },
         "entity.sentiment": "negative",
         "published-at": "2020-07-27"
        },
        {
         "document-count": 5429,
         "entity": {
          "id": "eae834b7-5b2f-430e-99ce-770786a971cf",
          "name": "Wirecard",
          "type": "organisation"
         },
         "entity.sentiment": "neutral",
         "published-at": "2020-07-27"
        },
        {
         "document-count": 1332,
         "entity": {
          "id": "eae834b7-5b2f-430e-99ce-770786a971cf",
          "name": "Wirecard",
          "type": "organisation"
         },
         "entity.sentiment": "positive",
         "published-at": "2020-07-27"
        },
        {
         "document-count": 1247,
         "entity": {
          "id": "eae834b7-5b2f-430e-99ce-770786a971cf",
          "name": "Wirecard",
          "type": "organisation"
         },
         "entity.sentiment": "negative",
         "published-at": "2020-08-03"
        },
        {
         "document-count": 3598,
         "entity": {
          "id": "eae834b7-5b2f-430e-99ce-770786a971cf",
          "name": "Wirecard",
          "type": "organisation"
         },
         "entity.sentiment": "neutral",
         "published-at": "2020-08-03"
        },
        {
         "document-count": 1287,
         "entity": {
          "id": "eae834b7-5b2f-430e-99ce-770786a971cf",
          "name": "Wirecard",
          "type": "organisation"
         },
         "entity.sentiment": "positive",
         "published-at": "2020-08-03"
        },
        {
         "document-count": 1130,
         "entity": {
          "id": "eae834b7-5b2f-430e-99ce-770786a971cf",
          "name": "Wirecard",
          "type": "organisation"
         },
         "entity.sentiment": "negative",
         "published-at": "2020-08-10"
        },
        {
         "document-count": 4339,
         "entity": {
          "id": "eae834b7-5b2f-430e-99ce-770786a971cf",
          "name": "Wirecard",
          "type": "organisation"
         },
         "entity.sentiment": "neutral",
         "published-at": "2020-08-10"
        },
        {
         "document-count": 1761,
         "entity": {
          "id": "eae834b7-5b2f-430e-99ce-770786a971cf",
          "name": "Wirecard",
          "type": "organisation"
         },
         "entity.sentiment": "positive",
         "published-at": "2020-08-10"
        },
        {
         "document-count": 850,
         "entity": {
          "id": "eae834b7-5b2f-430e-99ce-770786a971cf",
          "name": "Wirecard",
          "type": "organisation"
         },
         "entity.sentiment": "negative",
         "published-at": "2020-08-17"
        },
        {
         "document-count": 3770,
         "entity": {
          "id": "eae834b7-5b2f-430e-99ce-770786a971cf",
          "name": "Wirecard",
          "type": "organisation"
         },
         "entity.sentiment": "neutral",
         "published-at": "2020-08-17"
        },
        {
         "document-count": 3065,
         "entity": {
          "id": "eae834b7-5b2f-430e-99ce-770786a971cf",
          "name": "Wirecard",
          "type": "organisation"
         },
         "entity.sentiment": "positive",
         "published-at": "2020-08-17"
        },
        {
         "document-count": 896,
         "entity": {
          "id": "eae834b7-5b2f-430e-99ce-770786a971cf",
          "name": "Wirecard",
          "type": "organisation"
         },
         "entity.sentiment": "negative",
         "published-at": "2020-08-24"
        },
        {
         "document-count": 2917,
         "entity": {
          "id": "eae834b7-5b2f-430e-99ce-770786a971cf",
          "name": "Wirecard",
          "type": "organisation"
         },
         "entity.sentiment": "neutral",
         "published-at": "2020-08-24"
        },
        {
         "document-count": 1817,
         "entity": {
          "id": "eae834b7-5b2f-430e-99ce-770786a971cf",
          "name": "Wirecard",
          "type": "organisation"
         },
         "entity.sentiment": "positive",
         "published-at": "2020-08-24"
        },
        {
         "document-count": 496,
         "entity": {
          "id": "eae834b7-5b2f-430e-99ce-770786a971cf",
          "name": "Wirecard",
          "type": "organisation"
         },
         "entity.sentiment": "negative",
         "published-at": "2020-08-31"
        },
        {
         "document-count": 721,
         "entity": {
          "id": "eae834b7-5b2f-430e-99ce-770786a971cf",
          "name": "Wirecard",
          "type": "organisation"
         },
         "entity.sentiment": "neutral",
         "published-at": "2020-08-31"
        },
        {
         "document-count": 217,
         "entity": {
          "id": "eae834b7-5b2f-430e-99ce-770786a971cf",
          "name": "Wirecard",
          "type": "organisation"
         },
         "entity.sentiment": "positive",
         "published-at": "2020-08-31"
        }
       ]
      },
      "text/plain": [
       "<IPython.core.display.JSON object>"
      ]
     },
     "execution_count": 6,
     "metadata": {
      "application/json": {
       "expanded": false,
       "root": "root"
      }
     },
     "output_type": "execute_result"
    }
   ],
   "source": [
    "from IPython.display import JSON\n",
    "JSON(wirecard_result)"
   ]
  },
  {
   "cell_type": "markdown",
   "metadata": {},
   "source": [
    "We can convert the result into a dataframe, for a better readability."
   ]
  },
  {
   "cell_type": "code",
   "execution_count": 7,
   "metadata": {
    "tags": []
   },
   "outputs": [
    {
     "data": {
      "text/html": [
       "<div>\n",
       "<style scoped>\n",
       "    .dataframe tbody tr th:only-of-type {\n",
       "        vertical-align: middle;\n",
       "    }\n",
       "\n",
       "    .dataframe tbody tr th {\n",
       "        vertical-align: top;\n",
       "    }\n",
       "\n",
       "    .dataframe thead th {\n",
       "        text-align: right;\n",
       "    }\n",
       "</style>\n",
       "<table border=\"1\" class=\"dataframe\">\n",
       "  <thead>\n",
       "    <tr style=\"text-align: right;\">\n",
       "      <th>Sentiment</th>\n",
       "      <th>negative</th>\n",
       "      <th>neutral</th>\n",
       "      <th>positive</th>\n",
       "    </tr>\n",
       "    <tr>\n",
       "      <th>Date</th>\n",
       "      <th></th>\n",
       "      <th></th>\n",
       "      <th></th>\n",
       "    </tr>\n",
       "  </thead>\n",
       "  <tbody>\n",
       "    <tr>\n",
       "      <th>2020-02-24</th>\n",
       "      <td>11</td>\n",
       "      <td>43</td>\n",
       "      <td>116</td>\n",
       "    </tr>\n",
       "    <tr>\n",
       "      <th>2020-03-02</th>\n",
       "      <td>86</td>\n",
       "      <td>1167</td>\n",
       "      <td>646</td>\n",
       "    </tr>\n",
       "    <tr>\n",
       "      <th>2020-03-09</th>\n",
       "      <td>146</td>\n",
       "      <td>2368</td>\n",
       "      <td>928</td>\n",
       "    </tr>\n",
       "    <tr>\n",
       "      <th>2020-03-16</th>\n",
       "      <td>121</td>\n",
       "      <td>1521</td>\n",
       "      <td>565</td>\n",
       "    </tr>\n",
       "    <tr>\n",
       "      <th>2020-03-23</th>\n",
       "      <td>74</td>\n",
       "      <td>1417</td>\n",
       "      <td>549</td>\n",
       "    </tr>\n",
       "    <tr>\n",
       "      <th>2020-03-30</th>\n",
       "      <td>48</td>\n",
       "      <td>1381</td>\n",
       "      <td>696</td>\n",
       "    </tr>\n",
       "    <tr>\n",
       "      <th>2020-04-06</th>\n",
       "      <td>30</td>\n",
       "      <td>957</td>\n",
       "      <td>363</td>\n",
       "    </tr>\n",
       "    <tr>\n",
       "      <th>2020-04-13</th>\n",
       "      <td>60</td>\n",
       "      <td>1484</td>\n",
       "      <td>595</td>\n",
       "    </tr>\n",
       "    <tr>\n",
       "      <th>2020-04-20</th>\n",
       "      <td>303</td>\n",
       "      <td>2653</td>\n",
       "      <td>1437</td>\n",
       "    </tr>\n",
       "    <tr>\n",
       "      <th>2020-04-27</th>\n",
       "      <td>1603</td>\n",
       "      <td>3304</td>\n",
       "      <td>1763</td>\n",
       "    </tr>\n",
       "  </tbody>\n",
       "</table>\n",
       "</div>"
      ],
      "text/plain": [
       "Sentiment   negative  neutral  positive\n",
       "Date                                   \n",
       "2020-02-24        11       43       116\n",
       "2020-03-02        86     1167       646\n",
       "2020-03-09       146     2368       928\n",
       "2020-03-16       121     1521       565\n",
       "2020-03-23        74     1417       549\n",
       "2020-03-30        48     1381       696\n",
       "2020-04-06        30      957       363\n",
       "2020-04-13        60     1484       595\n",
       "2020-04-20       303     2653      1437\n",
       "2020-04-27      1603     3304      1763"
      ]
     },
     "execution_count": 7,
     "metadata": {},
     "output_type": "execute_result"
    }
   ],
   "source": [
    "df = json_normalize(wirecard_result, 'aggregations')\n",
    "\n",
    "df = df.rename(columns={'entity.sentiment': 'Sentiment', 'document-count': 'Count', 'published-at': 'Date'})\n",
    "df = df.reindex(columns=['Date', 'Sentiment', 'Count'])\n",
    "\n",
    "_ = df.style.set_caption('Sentiment towards Wirecard')\n",
    "\n",
    "stacked_df = df.groupby(['Date', 'Sentiment']).sum().unstack()\n",
    "stacked_df.columns = stacked_df.columns.droplevel(0)\n",
    "stacked_df.head(10)"
   ]
  },
  {
   "cell_type": "markdown",
   "metadata": {},
   "source": [
    "We can also plot the results to observe the temporal changes in sentiment"
   ]
  },
  {
   "cell_type": "code",
   "execution_count": 8,
   "metadata": {},
   "outputs": [
    {
     "data": {
      "image/png": "[encoded data removed]",
      "text/plain": [
       "<Figure size 1000x400 with 1 Axes>"
      ]
     },
     "metadata": {},
     "output_type": "display_data"
    }
   ],
   "source": [
    "import matplotlib.pyplot as plt\n",
    "%matplotlib inline\n",
    "\n",
    "fig = plt.figure(figsize=[10,4], dpi=100, facecolor='w')\n",
    "ax1 = plt.subplot(111)\n",
    "stacked_df.plot.bar(\n",
    "    stacked=True, \n",
    "    ax=ax1,\n",
    "    color=['#EA5462', '#C5CAD3' ,'#50CEAC']\n",
    ")\n",
    "_ = ax1.set_title('Sentiment towards Wirecard over time')"
   ]
  },
  {
   "cell_type": "markdown",
   "metadata": {},
   "source": [
    "### 2. Sentiment for an entity in relation to a set of key topics"
   ]
  },
  {
   "cell_type": "markdown",
   "metadata": {},
   "source": [
    "**Use case question**:\n",
    "\n",
    "- What is the overall sentiment towards organisations in my portfolio in relation to a set of key topics? "
   ]
  },
  {
   "cell_type": "markdown",
   "metadata": {},
   "source": [
    "**Example**: Sentiment trending around 7 car manufacturers in January 2021 and in relation to a set of 6 strategic topics"
   ]
  },
  {
   "cell_type": "code",
   "execution_count": 9,
   "metadata": {},
   "outputs": [],
   "source": [
    "topic_ids = [\n",
    "    \"fc31abf2-7b11-4ed5-a7d2-35266057c0dd\", \n",
    "    \"c3e9ec2f-e225-4955-9dbf-5480ce3d30fe\", \n",
    "    \"a301b00d-f4ef-49fb-9224-f52386d4955e\", \n",
    "    \"fdcb69a5-8aa6-4067-a29b-f064321e1d7d\", \n",
    "    \"4249987d-5b02-4e51-9c44-019dd8e39742\", \n",
    "    \"8de14dc1-6a93-4d1f-b755-a8d7aa570187\"\n",
    "    ] ## IDs of the following topics: Innovation, Patents & Invention, Corporate Culture, Corporate Governance, Corporate Responsibility, Sustainability\n",
    "\n",
    "entity_ids = [\n",
    "    \"d6341968-83df-441c-a869-fa7ae9c22c73\", \n",
    "    \"d7f0268d-1322-32b2-83d9-bb6fa9922506\", \n",
    "    \"a9cf01c5-751f-4fe5-a529-12e0d297cb63\", \n",
    "    \"c4ad0758-f3ee-4002-84aa-10849a153d75\", \n",
    "    \"06608104-0136-4371-ad04-be40fcc306a4\", \n",
    "    \"11cab8df-4be1-470f-8f49-8f7f0863ec95\", \n",
    "    \"946b44a8-b767-40ca-8093-e90d6af2a9d4\"\n",
    "    ] ##  IDs of the following car manufacturers: Toyota, Volkswagen, General Motors, Honda, BMW, Tesla, Ford\n",
    "\n",
    "query = {\n",
    "    \"where\": {\n",
    "        \"published-at\": {\n",
    "            \"gte\": \"2021-01-01\",\n",
    "            \"lt\": \"2021-02-01\"\n",
    "        },\n",
    "        \"topics\": {\n",
    "            \"id\": { \"any\": topic_ids }\n",
    "        },\n",
    "        \"entities\": {\n",
    "            \"id\": { \"any\": entity_ids }\n",
    "        }\n",
    "    },\n",
    "    \"aggregations\": {\n",
    "        # Group by topic, entity and sentiment\n",
    "        \"group-by\": [\n",
    "            \"topic\",\n",
    "            \"entity\",\n",
    "            \"entity.sentiment\"\n",
    "        ],\n",
    "        \"options\": {\n",
    "            \"topic\": { \"include\": topic_ids },\n",
    "            \"entity\": { \"include\": entity_ids }\n",
    "        },\n",
    "        \"metrics\": [\"document-count\"]\n",
    "    }\n",
    "}\n",
    "\n",
    "car_manufacturers_result = request(json=query).json()"
   ]
  },
  {
   "cell_type": "code",
   "execution_count": 10,
   "metadata": {},
   "outputs": [
    {
     "data": {
      "application/json": {
       "aggregations": [
        {
         "document-count": 5704,
         "entity": {
          "id": "11cab8df-4be1-470f-8f49-8f7f0863ec95",
          "name": "Tesla, Inc.",
          "type": "organisation"
         },
         "entity.sentiment": "negative",
         "topic": {
          "id": "8de14dc1-6a93-4d1f-b755-a8d7aa570187",
          "name": "Sustainability"
         }
        },
        {
         "document-count": 9834,
         "entity": {
          "id": "11cab8df-4be1-470f-8f49-8f7f0863ec95",
          "name": "Tesla, Inc.",
          "type": "organisation"
         },
         "entity.sentiment": "neutral",
         "topic": {
          "id": "8de14dc1-6a93-4d1f-b755-a8d7aa570187",
          "name": "Sustainability"
         }
        },
        {
         "document-count": 44435,
         "entity": {
          "id": "11cab8df-4be1-470f-8f49-8f7f0863ec95",
          "name": "Tesla, Inc.",
          "type": "organisation"
         },
         "entity.sentiment": "positive",
         "topic": {
          "id": "8de14dc1-6a93-4d1f-b755-a8d7aa570187",
          "name": "Sustainability"
         }
        },
        {
         "document-count": 1408,
         "entity": {
          "id": "a9cf01c5-751f-4fe5-a529-12e0d297cb63",
          "name": "General Motors",
          "type": "organisation"
         },
         "entity.sentiment": "negative",
         "topic": {
          "id": "8de14dc1-6a93-4d1f-b755-a8d7aa570187",
          "name": "Sustainability"
         }
        },
        {
         "document-count": 2203,
         "entity": {
          "id": "a9cf01c5-751f-4fe5-a529-12e0d297cb63",
          "name": "General Motors",
          "type": "organisation"
         },
         "entity.sentiment": "neutral",
         "topic": {
          "id": "8de14dc1-6a93-4d1f-b755-a8d7aa570187",
          "name": "Sustainability"
         }
        },
        {
         "document-count": 20080,
         "entity": {
          "id": "a9cf01c5-751f-4fe5-a529-12e0d297cb63",
          "name": "General Motors",
          "type": "organisation"
         },
         "entity.sentiment": "positive",
         "topic": {
          "id": "8de14dc1-6a93-4d1f-b755-a8d7aa570187",
          "name": "Sustainability"
         }
        },
        {
         "document-count": 1158,
         "entity": {
          "id": "06608104-0136-4371-ad04-be40fcc306a4",
          "name": "BMW",
          "type": "organisation"
         },
         "entity.sentiment": "negative",
         "topic": {
          "id": "8de14dc1-6a93-4d1f-b755-a8d7aa570187",
          "name": "Sustainability"
         }
        },
        {
         "document-count": 2618,
         "entity": {
          "id": "06608104-0136-4371-ad04-be40fcc306a4",
          "name": "BMW",
          "type": "organisation"
         },
         "entity.sentiment": "neutral",
         "topic": {
          "id": "8de14dc1-6a93-4d1f-b755-a8d7aa570187",
          "name": "Sustainability"
         }
        },
        {
         "document-count": 16984,
         "entity": {
          "id": "06608104-0136-4371-ad04-be40fcc306a4",
          "name": "BMW",
          "type": "organisation"
         },
         "entity.sentiment": "positive",
         "topic": {
          "id": "8de14dc1-6a93-4d1f-b755-a8d7aa570187",
          "name": "Sustainability"
         }
        },
        {
         "document-count": 1245,
         "entity": {
          "id": "d6341968-83df-441c-a869-fa7ae9c22c73",
          "name": "Toyota",
          "type": "organisation"
         },
         "entity.sentiment": "negative",
         "topic": {
          "id": "8de14dc1-6a93-4d1f-b755-a8d7aa570187",
          "name": "Sustainability"
         }
        },
        {
         "document-count": 2610,
         "entity": {
          "id": "d6341968-83df-441c-a869-fa7ae9c22c73",
          "name": "Toyota",
          "type": "organisation"
         },
         "entity.sentiment": "neutral",
         "topic": {
          "id": "8de14dc1-6a93-4d1f-b755-a8d7aa570187",
          "name": "Sustainability"
         }
        },
        {
         "document-count": 12427,
         "entity": {
          "id": "d6341968-83df-441c-a869-fa7ae9c22c73",
          "name": "Toyota",
          "type": "organisation"
         },
         "entity.sentiment": "positive",
         "topic": {
          "id": "8de14dc1-6a93-4d1f-b755-a8d7aa570187",
          "name": "Sustainability"
         }
        },
        {
         "document-count": 1083,
         "entity": {
          "id": "d7f0268d-1322-32b2-83d9-bb6fa9922506",
          "name": "Volkswagen",
          "type": "organisation"
         },
         "entity.sentiment": "negative",
         "topic": {
          "id": "8de14dc1-6a93-4d1f-b755-a8d7aa570187",
          "name": "Sustainability"
         }
        },
        {
         "document-count": 1650,
         "entity": {
          "id": "d7f0268d-1322-32b2-83d9-bb6fa9922506",
          "name": "Volkswagen",
          "type": "organisation"
         },
         "entity.sentiment": "neutral",
         "topic": {
          "id": "8de14dc1-6a93-4d1f-b755-a8d7aa570187",
          "name": "Sustainability"
         }
        },
        {
         "document-count": 11179,
         "entity": {
          "id": "d7f0268d-1322-32b2-83d9-bb6fa9922506",
          "name": "Volkswagen",
          "type": "organisation"
         },
         "entity.sentiment": "positive",
         "topic": {
          "id": "8de14dc1-6a93-4d1f-b755-a8d7aa570187",
          "name": "Sustainability"
         }
        },
        {
         "document-count": 1441,
         "entity": {
          "id": "946b44a8-b767-40ca-8093-e90d6af2a9d4",
          "name": "Ford Motor Company",
          "type": "organisation"
         },
         "entity.sentiment": "negative",
         "topic": {
          "id": "8de14dc1-6a93-4d1f-b755-a8d7aa570187",
          "name": "Sustainability"
         }
        },
        {
         "document-count": 2874,
         "entity": {
          "id": "946b44a8-b767-40ca-8093-e90d6af2a9d4",
          "name": "Ford Motor Company",
          "type": "organisation"
         },
         "entity.sentiment": "neutral",
         "topic": {
          "id": "8de14dc1-6a93-4d1f-b755-a8d7aa570187",
          "name": "Sustainability"
         }
        },
        {
         "document-count": 10574,
         "entity": {
          "id": "946b44a8-b767-40ca-8093-e90d6af2a9d4",
          "name": "Ford Motor Company",
          "type": "organisation"
         },
         "entity.sentiment": "positive",
         "topic": {
          "id": "8de14dc1-6a93-4d1f-b755-a8d7aa570187",
          "name": "Sustainability"
         }
        },
        {
         "document-count": 482,
         "entity": {
          "id": "c4ad0758-f3ee-4002-84aa-10849a153d75",
          "name": "Honda",
          "type": "organisation"
         },
         "entity.sentiment": "negative",
         "topic": {
          "id": "8de14dc1-6a93-4d1f-b755-a8d7aa570187",
          "name": "Sustainability"
         }
        },
        {
         "document-count": 1943,
         "entity": {
          "id": "c4ad0758-f3ee-4002-84aa-10849a153d75",
          "name": "Honda",
          "type": "organisation"
         },
         "entity.sentiment": "neutral",
         "topic": {
          "id": "8de14dc1-6a93-4d1f-b755-a8d7aa570187",
          "name": "Sustainability"
         }
        },
        {
         "document-count": 5238,
         "entity": {
          "id": "c4ad0758-f3ee-4002-84aa-10849a153d75",
          "name": "Honda",
          "type": "organisation"
         },
         "entity.sentiment": "positive",
         "topic": {
          "id": "8de14dc1-6a93-4d1f-b755-a8d7aa570187",
          "name": "Sustainability"
         }
        },
        {
         "document-count": 419,
         "entity": {
          "id": "a9cf01c5-751f-4fe5-a529-12e0d297cb63",
          "name": "General Motors",
          "type": "organisation"
         },
         "entity.sentiment": "negative",
         "topic": {
          "id": "fc31abf2-7b11-4ed5-a7d2-35266057c0dd",
          "name": "Innovation"
         }
        },
        {
         "document-count": 3243,
         "entity": {
          "id": "a9cf01c5-751f-4fe5-a529-12e0d297cb63",
          "name": "General Motors",
          "type": "organisation"
         },
         "entity.sentiment": "neutral",
         "topic": {
          "id": "fc31abf2-7b11-4ed5-a7d2-35266057c0dd",
          "name": "Innovation"
         }
        },
        {
         "document-count": 19060,
         "entity": {
          "id": "a9cf01c5-751f-4fe5-a529-12e0d297cb63",
          "name": "General Motors",
          "type": "organisation"
         },
         "entity.sentiment": "positive",
         "topic": {
          "id": "fc31abf2-7b11-4ed5-a7d2-35266057c0dd",
          "name": "Innovation"
         }
        },
        {
         "document-count": 930,
         "entity": {
          "id": "11cab8df-4be1-470f-8f49-8f7f0863ec95",
          "name": "Tesla, Inc.",
          "type": "organisation"
         },
         "entity.sentiment": "negative",
         "topic": {
          "id": "fc31abf2-7b11-4ed5-a7d2-35266057c0dd",
          "name": "Innovation"
         }
        },
        {
         "document-count": 5938,
         "entity": {
          "id": "11cab8df-4be1-470f-8f49-8f7f0863ec95",
          "name": "Tesla, Inc.",
          "type": "organisation"
         },
         "entity.sentiment": "neutral",
         "topic": {
          "id": "fc31abf2-7b11-4ed5-a7d2-35266057c0dd",
          "name": "Innovation"
         }
        },
        {
         "document-count": 21490,
         "entity": {
          "id": "11cab8df-4be1-470f-8f49-8f7f0863ec95",
          "name": "Tesla, Inc.",
          "type": "organisation"
         },
         "entity.sentiment": "positive",
         "topic": {
          "id": "fc31abf2-7b11-4ed5-a7d2-35266057c0dd",
          "name": "Innovation"
         }
        },
        {
         "document-count": 452,
         "entity": {
          "id": "d6341968-83df-441c-a869-fa7ae9c22c73",
          "name": "Toyota",
          "type": "organisation"
         },
         "entity.sentiment": "negative",
         "topic": {
          "id": "fc31abf2-7b11-4ed5-a7d2-35266057c0dd",
          "name": "Innovation"
         }
        },
        {
         "document-count": 4441,
         "entity": {
          "id": "d6341968-83df-441c-a869-fa7ae9c22c73",
          "name": "Toyota",
          "type": "organisation"
         },
         "entity.sentiment": "neutral",
         "topic": {
          "id": "fc31abf2-7b11-4ed5-a7d2-35266057c0dd",
          "name": "Innovation"
         }
        },
        {
         "document-count": 18592,
         "entity": {
          "id": "d6341968-83df-441c-a869-fa7ae9c22c73",
          "name": "Toyota",
          "type": "organisation"
         },
         "entity.sentiment": "positive",
         "topic": {
          "id": "fc31abf2-7b11-4ed5-a7d2-35266057c0dd",
          "name": "Innovation"
         }
        },
        {
         "document-count": 215,
         "entity": {
          "id": "06608104-0136-4371-ad04-be40fcc306a4",
          "name": "BMW",
          "type": "organisation"
         },
         "entity.sentiment": "negative",
         "topic": {
          "id": "fc31abf2-7b11-4ed5-a7d2-35266057c0dd",
          "name": "Innovation"
         }
        },
        {
         "document-count": 3512,
         "entity": {
          "id": "06608104-0136-4371-ad04-be40fcc306a4",
          "name": "BMW",
          "type": "organisation"
         },
         "entity.sentiment": "neutral",
         "topic": {
          "id": "fc31abf2-7b11-4ed5-a7d2-35266057c0dd",
          "name": "Innovation"
         }
        },
        {
         "document-count": 15192,
         "entity": {
          "id": "06608104-0136-4371-ad04-be40fcc306a4",
          "name": "BMW",
          "type": "organisation"
         },
         "entity.sentiment": "positive",
         "topic": {
          "id": "fc31abf2-7b11-4ed5-a7d2-35266057c0dd",
          "name": "Innovation"
         }
        },
        {
         "document-count": 194,
         "entity": {
          "id": "c4ad0758-f3ee-4002-84aa-10849a153d75",
          "name": "Honda",
          "type": "organisation"
         },
         "entity.sentiment": "negative",
         "topic": {
          "id": "fc31abf2-7b11-4ed5-a7d2-35266057c0dd",
          "name": "Innovation"
         }
        },
        {
         "document-count": 3603,
         "entity": {
          "id": "c4ad0758-f3ee-4002-84aa-10849a153d75",
          "name": "Honda",
          "type": "organisation"
         },
         "entity.sentiment": "neutral",
         "topic": {
          "id": "fc31abf2-7b11-4ed5-a7d2-35266057c0dd",
          "name": "Innovation"
         }
        },
        {
         "document-count": 12973,
         "entity": {
          "id": "c4ad0758-f3ee-4002-84aa-10849a153d75",
          "name": "Honda",
          "type": "organisation"
         },
         "entity.sentiment": "positive",
         "topic": {
          "id": "fc31abf2-7b11-4ed5-a7d2-35266057c0dd",
          "name": "Innovation"
         }
        },
        {
         "document-count": 319,
         "entity": {
          "id": "946b44a8-b767-40ca-8093-e90d6af2a9d4",
          "name": "Ford Motor Company",
          "type": "organisation"
         },
         "entity.sentiment": "negative",
         "topic": {
          "id": "fc31abf2-7b11-4ed5-a7d2-35266057c0dd",
          "name": "Innovation"
         }
        },
        {
         "document-count": 4096,
         "entity": {
          "id": "946b44a8-b767-40ca-8093-e90d6af2a9d4",
          "name": "Ford Motor Company",
          "type": "organisation"
         },
         "entity.sentiment": "neutral",
         "topic": {
          "id": "fc31abf2-7b11-4ed5-a7d2-35266057c0dd",
          "name": "Innovation"
         }
        },
        {
         "document-count": 10991,
         "entity": {
          "id": "946b44a8-b767-40ca-8093-e90d6af2a9d4",
          "name": "Ford Motor Company",
          "type": "organisation"
         },
         "entity.sentiment": "positive",
         "topic": {
          "id": "fc31abf2-7b11-4ed5-a7d2-35266057c0dd",
          "name": "Innovation"
         }
        },
        {
         "document-count": 190,
         "entity": {
          "id": "d7f0268d-1322-32b2-83d9-bb6fa9922506",
          "name": "Volkswagen",
          "type": "organisation"
         },
         "entity.sentiment": "negative",
         "topic": {
          "id": "fc31abf2-7b11-4ed5-a7d2-35266057c0dd",
          "name": "Innovation"
         }
        },
        {
         "document-count": 1626,
         "entity": {
          "id": "d7f0268d-1322-32b2-83d9-bb6fa9922506",
          "name": "Volkswagen",
          "type": "organisation"
         },
         "entity.sentiment": "neutral",
         "topic": {
          "id": "fc31abf2-7b11-4ed5-a7d2-35266057c0dd",
          "name": "Innovation"
         }
        },
        {
         "document-count": 9033,
         "entity": {
          "id": "d7f0268d-1322-32b2-83d9-bb6fa9922506",
          "name": "Volkswagen",
          "type": "organisation"
         },
         "entity.sentiment": "positive",
         "topic": {
          "id": "fc31abf2-7b11-4ed5-a7d2-35266057c0dd",
          "name": "Innovation"
         }
        },
        {
         "document-count": 1572,
         "entity": {
          "id": "11cab8df-4be1-470f-8f49-8f7f0863ec95",
          "name": "Tesla, Inc.",
          "type": "organisation"
         },
         "entity.sentiment": "negative",
         "topic": {
          "id": "fdcb69a5-8aa6-4067-a29b-f064321e1d7d",
          "name": "Corporate Governance"
         }
        },
        {
         "document-count": 6016,
         "entity": {
          "id": "11cab8df-4be1-470f-8f49-8f7f0863ec95",
          "name": "Tesla, Inc.",
          "type": "organisation"
         },
         "entity.sentiment": "neutral",
         "topic": {
          "id": "fdcb69a5-8aa6-4067-a29b-f064321e1d7d",
          "name": "Corporate Governance"
         }
        },
        {
         "document-count": 3679,
         "entity": {
          "id": "11cab8df-4be1-470f-8f49-8f7f0863ec95",
          "name": "Tesla, Inc.",
          "type": "organisation"
         },
         "entity.sentiment": "positive",
         "topic": {
          "id": "fdcb69a5-8aa6-4067-a29b-f064321e1d7d",
          "name": "Corporate Governance"
         }
        },
        {
         "document-count": 236,
         "entity": {
          "id": "a9cf01c5-751f-4fe5-a529-12e0d297cb63",
          "name": "General Motors",
          "type": "organisation"
         },
         "entity.sentiment": "negative",
         "topic": {
          "id": "fdcb69a5-8aa6-4067-a29b-f064321e1d7d",
          "name": "Corporate Governance"
         }
        },
        {
         "document-count": 2879,
         "entity": {
          "id": "a9cf01c5-751f-4fe5-a529-12e0d297cb63",
          "name": "General Motors",
          "type": "organisation"
         },
         "entity.sentiment": "neutral",
         "topic": {
          "id": "fdcb69a5-8aa6-4067-a29b-f064321e1d7d",
          "name": "Corporate Governance"
         }
        },
        {
         "document-count": 3904,
         "entity": {
          "id": "a9cf01c5-751f-4fe5-a529-12e0d297cb63",
          "name": "General Motors",
          "type": "organisation"
         },
         "entity.sentiment": "positive",
         "topic": {
          "id": "fdcb69a5-8aa6-4067-a29b-f064321e1d7d",
          "name": "Corporate Governance"
         }
        },
        {
         "document-count": 173,
         "entity": {
          "id": "946b44a8-b767-40ca-8093-e90d6af2a9d4",
          "name": "Ford Motor Company",
          "type": "organisation"
         },
         "entity.sentiment": "negative",
         "topic": {
          "id": "fdcb69a5-8aa6-4067-a29b-f064321e1d7d",
          "name": "Corporate Governance"
         }
        },
        {
         "document-count": 2634,
         "entity": {
          "id": "946b44a8-b767-40ca-8093-e90d6af2a9d4",
          "name": "Ford Motor Company",
          "type": "organisation"
         },
         "entity.sentiment": "neutral",
         "topic": {
          "id": "fdcb69a5-8aa6-4067-a29b-f064321e1d7d",
          "name": "Corporate Governance"
         }
        },
        {
         "document-count": 2990,
         "entity": {
          "id": "946b44a8-b767-40ca-8093-e90d6af2a9d4",
          "name": "Ford Motor Company",
          "type": "organisation"
         },
         "entity.sentiment": "positive",
         "topic": {
          "id": "fdcb69a5-8aa6-4067-a29b-f064321e1d7d",
          "name": "Corporate Governance"
         }
        },
        {
         "document-count": 236,
         "entity": {
          "id": "d6341968-83df-441c-a869-fa7ae9c22c73",
          "name": "Toyota",
          "type": "organisation"
         },
         "entity.sentiment": "negative",
         "topic": {
          "id": "fdcb69a5-8aa6-4067-a29b-f064321e1d7d",
          "name": "Corporate Governance"
         }
        },
        {
         "document-count": 3192,
         "entity": {
          "id": "d6341968-83df-441c-a869-fa7ae9c22c73",
          "name": "Toyota",
          "type": "organisation"
         },
         "entity.sentiment": "neutral",
         "topic": {
          "id": "fdcb69a5-8aa6-4067-a29b-f064321e1d7d",
          "name": "Corporate Governance"
         }
        },
        {
         "document-count": 3281,
         "entity": {
          "id": "d6341968-83df-441c-a869-fa7ae9c22c73",
          "name": "Toyota",
          "type": "organisation"
         },
         "entity.sentiment": "positive",
         "topic": {
          "id": "fdcb69a5-8aa6-4067-a29b-f064321e1d7d",
          "name": "Corporate Governance"
         }
        },
        {
         "document-count": 41,
         "entity": {
          "id": "c4ad0758-f3ee-4002-84aa-10849a153d75",
          "name": "Honda",
          "type": "organisation"
         },
         "entity.sentiment": "negative",
         "topic": {
          "id": "fdcb69a5-8aa6-4067-a29b-f064321e1d7d",
          "name": "Corporate Governance"
         }
        },
        {
         "document-count": 1618,
         "entity": {
          "id": "c4ad0758-f3ee-4002-84aa-10849a153d75",
          "name": "Honda",
          "type": "organisation"
         },
         "entity.sentiment": "neutral",
         "topic": {
          "id": "fdcb69a5-8aa6-4067-a29b-f064321e1d7d",
          "name": "Corporate Governance"
         }
        },
        {
         "document-count": 676,
         "entity": {
          "id": "c4ad0758-f3ee-4002-84aa-10849a153d75",
          "name": "Honda",
          "type": "organisation"
         },
         "entity.sentiment": "positive",
         "topic": {
          "id": "fdcb69a5-8aa6-4067-a29b-f064321e1d7d",
          "name": "Corporate Governance"
         }
        },
        {
         "document-count": 59,
         "entity": {
          "id": "06608104-0136-4371-ad04-be40fcc306a4",
          "name": "BMW",
          "type": "organisation"
         },
         "entity.sentiment": "negative",
         "topic": {
          "id": "fdcb69a5-8aa6-4067-a29b-f064321e1d7d",
          "name": "Corporate Governance"
         }
        },
        {
         "document-count": 839,
         "entity": {
          "id": "06608104-0136-4371-ad04-be40fcc306a4",
          "name": "BMW",
          "type": "organisation"
         },
         "entity.sentiment": "neutral",
         "topic": {
          "id": "fdcb69a5-8aa6-4067-a29b-f064321e1d7d",
          "name": "Corporate Governance"
         }
        },
        {
         "document-count": 1117,
         "entity": {
          "id": "06608104-0136-4371-ad04-be40fcc306a4",
          "name": "BMW",
          "type": "organisation"
         },
         "entity.sentiment": "positive",
         "topic": {
          "id": "fdcb69a5-8aa6-4067-a29b-f064321e1d7d",
          "name": "Corporate Governance"
         }
        },
        {
         "document-count": 26,
         "entity": {
          "id": "d7f0268d-1322-32b2-83d9-bb6fa9922506",
          "name": "Volkswagen",
          "type": "organisation"
         },
         "entity.sentiment": "negative",
         "topic": {
          "id": "fdcb69a5-8aa6-4067-a29b-f064321e1d7d",
          "name": "Corporate Governance"
         }
        },
        {
         "document-count": 133,
         "entity": {
          "id": "d7f0268d-1322-32b2-83d9-bb6fa9922506",
          "name": "Volkswagen",
          "type": "organisation"
         },
         "entity.sentiment": "neutral",
         "topic": {
          "id": "fdcb69a5-8aa6-4067-a29b-f064321e1d7d",
          "name": "Corporate Governance"
         }
        },
        {
         "document-count": 200,
         "entity": {
          "id": "d7f0268d-1322-32b2-83d9-bb6fa9922506",
          "name": "Volkswagen",
          "type": "organisation"
         },
         "entity.sentiment": "positive",
         "topic": {
          "id": "fdcb69a5-8aa6-4067-a29b-f064321e1d7d",
          "name": "Corporate Governance"
         }
        },
        {
         "document-count": 148,
         "entity": {
          "id": "a9cf01c5-751f-4fe5-a529-12e0d297cb63",
          "name": "General Motors",
          "type": "organisation"
         },
         "entity.sentiment": "negative",
         "topic": {
          "id": "4249987d-5b02-4e51-9c44-019dd8e39742",
          "name": "Corporate Responsibility"
         }
        },
        {
         "document-count": 654,
         "entity": {
          "id": "a9cf01c5-751f-4fe5-a529-12e0d297cb63",
          "name": "General Motors",
          "type": "organisation"
         },
         "entity.sentiment": "neutral",
         "topic": {
          "id": "4249987d-5b02-4e51-9c44-019dd8e39742",
          "name": "Corporate Responsibility"
         }
        },
        {
         "document-count": 4461,
         "entity": {
          "id": "a9cf01c5-751f-4fe5-a529-12e0d297cb63",
          "name": "General Motors",
          "type": "organisation"
         },
         "entity.sentiment": "positive",
         "topic": {
          "id": "4249987d-5b02-4e51-9c44-019dd8e39742",
          "name": "Corporate Responsibility"
         }
        },
        {
         "document-count": 707,
         "entity": {
          "id": "11cab8df-4be1-470f-8f49-8f7f0863ec95",
          "name": "Tesla, Inc.",
          "type": "organisation"
         },
         "entity.sentiment": "negative",
         "topic": {
          "id": "4249987d-5b02-4e51-9c44-019dd8e39742",
          "name": "Corporate Responsibility"
         }
        },
        {
         "document-count": 2176,
         "entity": {
          "id": "11cab8df-4be1-470f-8f49-8f7f0863ec95",
          "name": "Tesla, Inc.",
          "type": "organisation"
         },
         "entity.sentiment": "neutral",
         "topic": {
          "id": "4249987d-5b02-4e51-9c44-019dd8e39742",
          "name": "Corporate Responsibility"
         }
        },
        {
         "document-count": 7117,
         "entity": {
          "id": "11cab8df-4be1-470f-8f49-8f7f0863ec95",
          "name": "Tesla, Inc.",
          "type": "organisation"
         },
         "entity.sentiment": "positive",
         "topic": {
          "id": "4249987d-5b02-4e51-9c44-019dd8e39742",
          "name": "Corporate Responsibility"
         }
        },
        {
         "document-count": 53,
         "entity": {
          "id": "06608104-0136-4371-ad04-be40fcc306a4",
          "name": "BMW",
          "type": "organisation"
         },
         "entity.sentiment": "negative",
         "topic": {
          "id": "4249987d-5b02-4e51-9c44-019dd8e39742",
          "name": "Corporate Responsibility"
         }
        },
        {
         "document-count": 531,
         "entity": {
          "id": "06608104-0136-4371-ad04-be40fcc306a4",
          "name": "BMW",
          "type": "organisation"
         },
         "entity.sentiment": "neutral",
         "topic": {
          "id": "4249987d-5b02-4e51-9c44-019dd8e39742",
          "name": "Corporate Responsibility"
         }
        },
        {
         "document-count": 2650,
         "entity": {
          "id": "06608104-0136-4371-ad04-be40fcc306a4",
          "name": "BMW",
          "type": "organisation"
         },
         "entity.sentiment": "positive",
         "topic": {
          "id": "4249987d-5b02-4e51-9c44-019dd8e39742",
          "name": "Corporate Responsibility"
         }
        },
        {
         "document-count": 48,
         "entity": {
          "id": "d6341968-83df-441c-a869-fa7ae9c22c73",
          "name": "Toyota",
          "type": "organisation"
         },
         "entity.sentiment": "negative",
         "topic": {
          "id": "4249987d-5b02-4e51-9c44-019dd8e39742",
          "name": "Corporate Responsibility"
         }
        },
        {
         "document-count": 639,
         "entity": {
          "id": "d6341968-83df-441c-a869-fa7ae9c22c73",
          "name": "Toyota",
          "type": "organisation"
         },
         "entity.sentiment": "neutral",
         "topic": {
          "id": "4249987d-5b02-4e51-9c44-019dd8e39742",
          "name": "Corporate Responsibility"
         }
        },
        {
         "document-count": 1986,
         "entity": {
          "id": "d6341968-83df-441c-a869-fa7ae9c22c73",
          "name": "Toyota",
          "type": "organisation"
         },
         "entity.sentiment": "positive",
         "topic": {
          "id": "4249987d-5b02-4e51-9c44-019dd8e39742",
          "name": "Corporate Responsibility"
         }
        },
        {
         "document-count": 87,
         "entity": {
          "id": "946b44a8-b767-40ca-8093-e90d6af2a9d4",
          "name": "Ford Motor Company",
          "type": "organisation"
         },
         "entity.sentiment": "negative",
         "topic": {
          "id": "4249987d-5b02-4e51-9c44-019dd8e39742",
          "name": "Corporate Responsibility"
         }
        },
        {
         "document-count": 526,
         "entity": {
          "id": "946b44a8-b767-40ca-8093-e90d6af2a9d4",
          "name": "Ford Motor Company",
          "type": "organisation"
         },
         "entity.sentiment": "neutral",
         "topic": {
          "id": "4249987d-5b02-4e51-9c44-019dd8e39742",
          "name": "Corporate Responsibility"
         }
        },
        {
         "document-count": 1844,
         "entity": {
          "id": "946b44a8-b767-40ca-8093-e90d6af2a9d4",
          "name": "Ford Motor Company",
          "type": "organisation"
         },
         "entity.sentiment": "positive",
         "topic": {
          "id": "4249987d-5b02-4e51-9c44-019dd8e39742",
          "name": "Corporate Responsibility"
         }
        },
        {
         "document-count": 56,
         "entity": {
          "id": "c4ad0758-f3ee-4002-84aa-10849a153d75",
          "name": "Honda",
          "type": "organisation"
         },
         "entity.sentiment": "negative",
         "topic": {
          "id": "4249987d-5b02-4e51-9c44-019dd8e39742",
          "name": "Corporate Responsibility"
         }
        },
        {
         "document-count": 429,
         "entity": {
          "id": "c4ad0758-f3ee-4002-84aa-10849a153d75",
          "name": "Honda",
          "type": "organisation"
         },
         "entity.sentiment": "neutral",
         "topic": {
          "id": "4249987d-5b02-4e51-9c44-019dd8e39742",
          "name": "Corporate Responsibility"
         }
        },
        {
         "document-count": 1235,
         "entity": {
          "id": "c4ad0758-f3ee-4002-84aa-10849a153d75",
          "name": "Honda",
          "type": "organisation"
         },
         "entity.sentiment": "positive",
         "topic": {
          "id": "4249987d-5b02-4e51-9c44-019dd8e39742",
          "name": "Corporate Responsibility"
         }
        },
        {
         "document-count": 14,
         "entity": {
          "id": "d7f0268d-1322-32b2-83d9-bb6fa9922506",
          "name": "Volkswagen",
          "type": "organisation"
         },
         "entity.sentiment": "negative",
         "topic": {
          "id": "4249987d-5b02-4e51-9c44-019dd8e39742",
          "name": "Corporate Responsibility"
         }
        },
        {
         "document-count": 133,
         "entity": {
          "id": "d7f0268d-1322-32b2-83d9-bb6fa9922506",
          "name": "Volkswagen",
          "type": "organisation"
         },
         "entity.sentiment": "neutral",
         "topic": {
          "id": "4249987d-5b02-4e51-9c44-019dd8e39742",
          "name": "Corporate Responsibility"
         }
        },
        {
         "document-count": 470,
         "entity": {
          "id": "d7f0268d-1322-32b2-83d9-bb6fa9922506",
          "name": "Volkswagen",
          "type": "organisation"
         },
         "entity.sentiment": "positive",
         "topic": {
          "id": "4249987d-5b02-4e51-9c44-019dd8e39742",
          "name": "Corporate Responsibility"
         }
        },
        {
         "document-count": 250,
         "entity": {
          "id": "11cab8df-4be1-470f-8f49-8f7f0863ec95",
          "name": "Tesla, Inc.",
          "type": "organisation"
         },
         "entity.sentiment": "negative",
         "topic": {
          "id": "c3e9ec2f-e225-4955-9dbf-5480ce3d30fe",
          "name": "Patents & Inventions"
         }
        },
        {
         "document-count": 1373,
         "entity": {
          "id": "11cab8df-4be1-470f-8f49-8f7f0863ec95",
          "name": "Tesla, Inc.",
          "type": "organisation"
         },
         "entity.sentiment": "neutral",
         "topic": {
          "id": "c3e9ec2f-e225-4955-9dbf-5480ce3d30fe",
          "name": "Patents & Inventions"
         }
        },
        {
         "document-count": 4218,
         "entity": {
          "id": "11cab8df-4be1-470f-8f49-8f7f0863ec95",
          "name": "Tesla, Inc.",
          "type": "organisation"
         },
         "entity.sentiment": "positive",
         "topic": {
          "id": "c3e9ec2f-e225-4955-9dbf-5480ce3d30fe",
          "name": "Patents & Inventions"
         }
        },
        {
         "document-count": 62,
         "entity": {
          "id": "d6341968-83df-441c-a869-fa7ae9c22c73",
          "name": "Toyota",
          "type": "organisation"
         },
         "entity.sentiment": "negative",
         "topic": {
          "id": "c3e9ec2f-e225-4955-9dbf-5480ce3d30fe",
          "name": "Patents & Inventions"
         }
        },
        {
         "document-count": 1825,
         "entity": {
          "id": "d6341968-83df-441c-a869-fa7ae9c22c73",
          "name": "Toyota",
          "type": "organisation"
         },
         "entity.sentiment": "neutral",
         "topic": {
          "id": "c3e9ec2f-e225-4955-9dbf-5480ce3d30fe",
          "name": "Patents & Inventions"
         }
        },
        {
         "document-count": 4342,
         "entity": {
          "id": "d6341968-83df-441c-a869-fa7ae9c22c73",
          "name": "Toyota",
          "type": "organisation"
         },
         "entity.sentiment": "positive",
         "topic": {
          "id": "c3e9ec2f-e225-4955-9dbf-5480ce3d30fe",
          "name": "Patents & Inventions"
         }
        },
        {
         "document-count": 60,
         "entity": {
          "id": "a9cf01c5-751f-4fe5-a529-12e0d297cb63",
          "name": "General Motors",
          "type": "organisation"
         },
         "entity.sentiment": "negative",
         "topic": {
          "id": "c3e9ec2f-e225-4955-9dbf-5480ce3d30fe",
          "name": "Patents & Inventions"
         }
        },
        {
         "document-count": 935,
         "entity": {
          "id": "a9cf01c5-751f-4fe5-a529-12e0d297cb63",
          "name": "General Motors",
          "type": "organisation"
         },
         "entity.sentiment": "neutral",
         "topic": {
          "id": "c3e9ec2f-e225-4955-9dbf-5480ce3d30fe",
          "name": "Patents & Inventions"
         }
        },
        {
         "document-count": 2712,
         "entity": {
          "id": "a9cf01c5-751f-4fe5-a529-12e0d297cb63",
          "name": "General Motors",
          "type": "organisation"
         },
         "entity.sentiment": "positive",
         "topic": {
          "id": "c3e9ec2f-e225-4955-9dbf-5480ce3d30fe",
          "name": "Patents & Inventions"
         }
        },
        {
         "document-count": 113,
         "entity": {
          "id": "946b44a8-b767-40ca-8093-e90d6af2a9d4",
          "name": "Ford Motor Company",
          "type": "organisation"
         },
         "entity.sentiment": "negative",
         "topic": {
          "id": "c3e9ec2f-e225-4955-9dbf-5480ce3d30fe",
          "name": "Patents & Inventions"
         }
        },
        {
         "document-count": 1268,
         "entity": {
          "id": "946b44a8-b767-40ca-8093-e90d6af2a9d4",
          "name": "Ford Motor Company",
          "type": "organisation"
         },
         "entity.sentiment": "neutral",
         "topic": {
          "id": "c3e9ec2f-e225-4955-9dbf-5480ce3d30fe",
          "name": "Patents & Inventions"
         }
        },
        {
         "document-count": 2005,
         "entity": {
          "id": "946b44a8-b767-40ca-8093-e90d6af2a9d4",
          "name": "Ford Motor Company",
          "type": "organisation"
         },
         "entity.sentiment": "positive",
         "topic": {
          "id": "c3e9ec2f-e225-4955-9dbf-5480ce3d30fe",
          "name": "Patents & Inventions"
         }
        },
        {
         "document-count": 79,
         "entity": {
          "id": "c4ad0758-f3ee-4002-84aa-10849a153d75",
          "name": "Honda",
          "type": "organisation"
         },
         "entity.sentiment": "negative",
         "topic": {
          "id": "c3e9ec2f-e225-4955-9dbf-5480ce3d30fe",
          "name": "Patents & Inventions"
         }
        },
        {
         "document-count": 1303,
         "entity": {
          "id": "c4ad0758-f3ee-4002-84aa-10849a153d75",
          "name": "Honda",
          "type": "organisation"
         },
         "entity.sentiment": "neutral",
         "topic": {
          "id": "c3e9ec2f-e225-4955-9dbf-5480ce3d30fe",
          "name": "Patents & Inventions"
         }
        },
        {
         "document-count": 1498,
         "entity": {
          "id": "c4ad0758-f3ee-4002-84aa-10849a153d75",
          "name": "Honda",
          "type": "organisation"
         },
         "entity.sentiment": "positive",
         "topic": {
          "id": "c3e9ec2f-e225-4955-9dbf-5480ce3d30fe",
          "name": "Patents & Inventions"
         }
        },
        {
         "document-count": 32,
         "entity": {
          "id": "06608104-0136-4371-ad04-be40fcc306a4",
          "name": "BMW",
          "type": "organisation"
         },
         "entity.sentiment": "negative",
         "topic": {
          "id": "c3e9ec2f-e225-4955-9dbf-5480ce3d30fe",
          "name": "Patents & Inventions"
         }
        },
        {
         "document-count": 593,
         "entity": {
          "id": "06608104-0136-4371-ad04-be40fcc306a4",
          "name": "BMW",
          "type": "organisation"
         },
         "entity.sentiment": "neutral",
         "topic": {
          "id": "c3e9ec2f-e225-4955-9dbf-5480ce3d30fe",
          "name": "Patents & Inventions"
         }
        },
        {
         "document-count": 1709,
         "entity": {
          "id": "06608104-0136-4371-ad04-be40fcc306a4",
          "name": "BMW",
          "type": "organisation"
         },
         "entity.sentiment": "positive",
         "topic": {
          "id": "c3e9ec2f-e225-4955-9dbf-5480ce3d30fe",
          "name": "Patents & Inventions"
         }
        },
        {
         "document-count": 32,
         "entity": {
          "id": "d7f0268d-1322-32b2-83d9-bb6fa9922506",
          "name": "Volkswagen",
          "type": "organisation"
         },
         "entity.sentiment": "negative",
         "topic": {
          "id": "c3e9ec2f-e225-4955-9dbf-5480ce3d30fe",
          "name": "Patents & Inventions"
         }
        },
        {
         "document-count": 140,
         "entity": {
          "id": "d7f0268d-1322-32b2-83d9-bb6fa9922506",
          "name": "Volkswagen",
          "type": "organisation"
         },
         "entity.sentiment": "neutral",
         "topic": {
          "id": "c3e9ec2f-e225-4955-9dbf-5480ce3d30fe",
          "name": "Patents & Inventions"
         }
        },
        {
         "document-count": 546,
         "entity": {
          "id": "d7f0268d-1322-32b2-83d9-bb6fa9922506",
          "name": "Volkswagen",
          "type": "organisation"
         },
         "entity.sentiment": "positive",
         "topic": {
          "id": "c3e9ec2f-e225-4955-9dbf-5480ce3d30fe",
          "name": "Patents & Inventions"
         }
        },
        {
         "document-count": 278,
         "entity": {
          "id": "11cab8df-4be1-470f-8f49-8f7f0863ec95",
          "name": "Tesla, Inc.",
          "type": "organisation"
         },
         "entity.sentiment": "negative",
         "topic": {
          "id": "a301b00d-f4ef-49fb-9224-f52386d4955e",
          "name": "Corporate culture"
         }
        },
        {
         "document-count": 621,
         "entity": {
          "id": "11cab8df-4be1-470f-8f49-8f7f0863ec95",
          "name": "Tesla, Inc.",
          "type": "organisation"
         },
         "entity.sentiment": "neutral",
         "topic": {
          "id": "a301b00d-f4ef-49fb-9224-f52386d4955e",
          "name": "Corporate culture"
         }
        },
        {
         "document-count": 717,
         "entity": {
          "id": "11cab8df-4be1-470f-8f49-8f7f0863ec95",
          "name": "Tesla, Inc.",
          "type": "organisation"
         },
         "entity.sentiment": "positive",
         "topic": {
          "id": "a301b00d-f4ef-49fb-9224-f52386d4955e",
          "name": "Corporate culture"
         }
        },
        {
         "document-count": 39,
         "entity": {
          "id": "946b44a8-b767-40ca-8093-e90d6af2a9d4",
          "name": "Ford Motor Company",
          "type": "organisation"
         },
         "entity.sentiment": "negative",
         "topic": {
          "id": "a301b00d-f4ef-49fb-9224-f52386d4955e",
          "name": "Corporate culture"
         }
        },
        {
         "document-count": 803,
         "entity": {
          "id": "946b44a8-b767-40ca-8093-e90d6af2a9d4",
          "name": "Ford Motor Company",
          "type": "organisation"
         },
         "entity.sentiment": "neutral",
         "topic": {
          "id": "a301b00d-f4ef-49fb-9224-f52386d4955e",
          "name": "Corporate culture"
         }
        },
        {
         "document-count": 890,
         "entity": {
          "id": "946b44a8-b767-40ca-8093-e90d6af2a9d4",
          "name": "Ford Motor Company",
          "type": "organisation"
         },
         "entity.sentiment": "positive",
         "topic": {
          "id": "a301b00d-f4ef-49fb-9224-f52386d4955e",
          "name": "Corporate culture"
         }
        },
        {
         "document-count": 40,
         "entity": {
          "id": "a9cf01c5-751f-4fe5-a529-12e0d297cb63",
          "name": "General Motors",
          "type": "organisation"
         },
         "entity.sentiment": "negative",
         "topic": {
          "id": "a301b00d-f4ef-49fb-9224-f52386d4955e",
          "name": "Corporate culture"
         }
        },
        {
         "document-count": 468,
         "entity": {
          "id": "a9cf01c5-751f-4fe5-a529-12e0d297cb63",
          "name": "General Motors",
          "type": "organisation"
         },
         "entity.sentiment": "neutral",
         "topic": {
          "id": "a301b00d-f4ef-49fb-9224-f52386d4955e",
          "name": "Corporate culture"
         }
        },
        {
         "document-count": 562,
         "entity": {
          "id": "a9cf01c5-751f-4fe5-a529-12e0d297cb63",
          "name": "General Motors",
          "type": "organisation"
         },
         "entity.sentiment": "positive",
         "topic": {
          "id": "a301b00d-f4ef-49fb-9224-f52386d4955e",
          "name": "Corporate culture"
         }
        },
        {
         "document-count": 4,
         "entity": {
          "id": "06608104-0136-4371-ad04-be40fcc306a4",
          "name": "BMW",
          "type": "organisation"
         },
         "entity.sentiment": "negative",
         "topic": {
          "id": "a301b00d-f4ef-49fb-9224-f52386d4955e",
          "name": "Corporate culture"
         }
        },
        {
         "document-count": 315,
         "entity": {
          "id": "06608104-0136-4371-ad04-be40fcc306a4",
          "name": "BMW",
          "type": "organisation"
         },
         "entity.sentiment": "neutral",
         "topic": {
          "id": "a301b00d-f4ef-49fb-9224-f52386d4955e",
          "name": "Corporate culture"
         }
        },
        {
         "document-count": 411,
         "entity": {
          "id": "06608104-0136-4371-ad04-be40fcc306a4",
          "name": "BMW",
          "type": "organisation"
         },
         "entity.sentiment": "positive",
         "topic": {
          "id": "a301b00d-f4ef-49fb-9224-f52386d4955e",
          "name": "Corporate culture"
         }
        },
        {
         "document-count": 22,
         "entity": {
          "id": "d6341968-83df-441c-a869-fa7ae9c22c73",
          "name": "Toyota",
          "type": "organisation"
         },
         "entity.sentiment": "negative",
         "topic": {
          "id": "a301b00d-f4ef-49fb-9224-f52386d4955e",
          "name": "Corporate culture"
         }
        },
        {
         "document-count": 330,
         "entity": {
          "id": "d6341968-83df-441c-a869-fa7ae9c22c73",
          "name": "Toyota",
          "type": "organisation"
         },
         "entity.sentiment": "neutral",
         "topic": {
          "id": "a301b00d-f4ef-49fb-9224-f52386d4955e",
          "name": "Corporate culture"
         }
        },
        {
         "document-count": 547,
         "entity": {
          "id": "d6341968-83df-441c-a869-fa7ae9c22c73",
          "name": "Toyota",
          "type": "organisation"
         },
         "entity.sentiment": "positive",
         "topic": {
          "id": "a301b00d-f4ef-49fb-9224-f52386d4955e",
          "name": "Corporate culture"
         }
        },
        {
         "document-count": 6,
         "entity": {
          "id": "c4ad0758-f3ee-4002-84aa-10849a153d75",
          "name": "Honda",
          "type": "organisation"
         },
         "entity.sentiment": "negative",
         "topic": {
          "id": "a301b00d-f4ef-49fb-9224-f52386d4955e",
          "name": "Corporate culture"
         }
        },
        {
         "document-count": 213,
         "entity": {
          "id": "c4ad0758-f3ee-4002-84aa-10849a153d75",
          "name": "Honda",
          "type": "organisation"
         },
         "entity.sentiment": "neutral",
         "topic": {
          "id": "a301b00d-f4ef-49fb-9224-f52386d4955e",
          "name": "Corporate culture"
         }
        },
        {
         "document-count": 142,
         "entity": {
          "id": "c4ad0758-f3ee-4002-84aa-10849a153d75",
          "name": "Honda",
          "type": "organisation"
         },
         "entity.sentiment": "positive",
         "topic": {
          "id": "a301b00d-f4ef-49fb-9224-f52386d4955e",
          "name": "Corporate culture"
         }
        },
        {
         "document-count": 15,
         "entity": {
          "id": "d7f0268d-1322-32b2-83d9-bb6fa9922506",
          "name": "Volkswagen",
          "type": "organisation"
         },
         "entity.sentiment": "negative",
         "topic": {
          "id": "a301b00d-f4ef-49fb-9224-f52386d4955e",
          "name": "Corporate culture"
         }
        },
        {
         "document-count": 159,
         "entity": {
          "id": "d7f0268d-1322-32b2-83d9-bb6fa9922506",
          "name": "Volkswagen",
          "type": "organisation"
         },
         "entity.sentiment": "neutral",
         "topic": {
          "id": "a301b00d-f4ef-49fb-9224-f52386d4955e",
          "name": "Corporate culture"
         }
        },
        {
         "document-count": 120,
         "entity": {
          "id": "d7f0268d-1322-32b2-83d9-bb6fa9922506",
          "name": "Volkswagen",
          "type": "organisation"
         },
         "entity.sentiment": "positive",
         "topic": {
          "id": "a301b00d-f4ef-49fb-9224-f52386d4955e",
          "name": "Corporate culture"
         }
        }
       ]
      },
      "text/plain": [
       "<IPython.core.display.JSON object>"
      ]
     },
     "execution_count": 10,
     "metadata": {
      "application/json": {
       "expanded": false,
       "root": "root"
      }
     },
     "output_type": "execute_result"
    }
   ],
   "source": [
    "JSON(car_manufacturers_result)"
   ]
  },
  {
   "cell_type": "code",
   "execution_count": 12,
   "metadata": {
    "tags": []
   },
   "outputs": [
    {
     "data": {
      "text/html": [
       "<div>\n",
       "<style scoped>\n",
       "    .dataframe tbody tr th:only-of-type {\n",
       "        vertical-align: middle;\n",
       "    }\n",
       "\n",
       "    .dataframe tbody tr th {\n",
       "        vertical-align: top;\n",
       "    }\n",
       "\n",
       "    .dataframe thead th {\n",
       "        text-align: right;\n",
       "    }\n",
       "</style>\n",
       "<table border=\"1\" class=\"dataframe\">\n",
       "  <thead>\n",
       "    <tr style=\"text-align: right;\">\n",
       "      <th></th>\n",
       "      <th>Entity</th>\n",
       "      <th>Topic</th>\n",
       "      <th>Sentiment</th>\n",
       "      <th>Count</th>\n",
       "    </tr>\n",
       "  </thead>\n",
       "  <tbody>\n",
       "    <tr>\n",
       "      <th>0</th>\n",
       "      <td>Tesla, Inc.</td>\n",
       "      <td>Sustainability</td>\n",
       "      <td>negative</td>\n",
       "      <td>5704</td>\n",
       "    </tr>\n",
       "    <tr>\n",
       "      <th>1</th>\n",
       "      <td>Tesla, Inc.</td>\n",
       "      <td>Sustainability</td>\n",
       "      <td>neutral</td>\n",
       "      <td>9834</td>\n",
       "    </tr>\n",
       "    <tr>\n",
       "      <th>2</th>\n",
       "      <td>Tesla, Inc.</td>\n",
       "      <td>Sustainability</td>\n",
       "      <td>positive</td>\n",
       "      <td>44435</td>\n",
       "    </tr>\n",
       "    <tr>\n",
       "      <th>3</th>\n",
       "      <td>General Motors</td>\n",
       "      <td>Sustainability</td>\n",
       "      <td>negative</td>\n",
       "      <td>1408</td>\n",
       "    </tr>\n",
       "    <tr>\n",
       "      <th>4</th>\n",
       "      <td>General Motors</td>\n",
       "      <td>Sustainability</td>\n",
       "      <td>neutral</td>\n",
       "      <td>2203</td>\n",
       "    </tr>\n",
       "    <tr>\n",
       "      <th>5</th>\n",
       "      <td>General Motors</td>\n",
       "      <td>Sustainability</td>\n",
       "      <td>positive</td>\n",
       "      <td>20080</td>\n",
       "    </tr>\n",
       "    <tr>\n",
       "      <th>6</th>\n",
       "      <td>BMW</td>\n",
       "      <td>Sustainability</td>\n",
       "      <td>negative</td>\n",
       "      <td>1158</td>\n",
       "    </tr>\n",
       "    <tr>\n",
       "      <th>7</th>\n",
       "      <td>BMW</td>\n",
       "      <td>Sustainability</td>\n",
       "      <td>neutral</td>\n",
       "      <td>2618</td>\n",
       "    </tr>\n",
       "    <tr>\n",
       "      <th>8</th>\n",
       "      <td>BMW</td>\n",
       "      <td>Sustainability</td>\n",
       "      <td>positive</td>\n",
       "      <td>16984</td>\n",
       "    </tr>\n",
       "    <tr>\n",
       "      <th>9</th>\n",
       "      <td>Toyota</td>\n",
       "      <td>Sustainability</td>\n",
       "      <td>negative</td>\n",
       "      <td>1245</td>\n",
       "    </tr>\n",
       "  </tbody>\n",
       "</table>\n",
       "</div>"
      ],
      "text/plain": [
       "           Entity           Topic Sentiment  Count\n",
       "0     Tesla, Inc.  Sustainability  negative   5704\n",
       "1     Tesla, Inc.  Sustainability   neutral   9834\n",
       "2     Tesla, Inc.  Sustainability  positive  44435\n",
       "3  General Motors  Sustainability  negative   1408\n",
       "4  General Motors  Sustainability   neutral   2203\n",
       "5  General Motors  Sustainability  positive  20080\n",
       "6             BMW  Sustainability  negative   1158\n",
       "7             BMW  Sustainability   neutral   2618\n",
       "8             BMW  Sustainability  positive  16984\n",
       "9          Toyota  Sustainability  negative   1245"
      ]
     },
     "execution_count": 12,
     "metadata": {},
     "output_type": "execute_result"
    }
   ],
   "source": [
    "df = json_normalize(car_manufacturers_result, 'aggregations')\n",
    "\n",
    "df = df.rename(columns={'entity.sentiment': 'Sentiment', \n",
    "                        'document-count': 'Count', \n",
    "                        'topic.name': 'Topic', \n",
    "                        'entity.name': 'Entity'})\n",
    "\n",
    "df = df.reindex(columns=[ 'Entity', 'Topic', 'Sentiment', 'Count'])\n",
    "df.style.set_caption('Sentiment breakdown by car manufacturer and topic')\n",
    "df.head(10)"
   ]
  },
  {
   "cell_type": "markdown",
   "metadata": {
    "tags": []
   },
   "source": [
    "we now transform the data into a matrix of two dimensions (enitites and topics) to be able to visualise the data."
   ]
  },
  {
   "cell_type": "code",
   "execution_count": 14,
   "metadata": {
    "tags": []
   },
   "outputs": [
    {
     "data": {
      "text/html": [
       "<div>\n",
       "<style scoped>\n",
       "    .dataframe tbody tr th:only-of-type {\n",
       "        vertical-align: middle;\n",
       "    }\n",
       "\n",
       "    .dataframe tbody tr th {\n",
       "        vertical-align: top;\n",
       "    }\n",
       "\n",
       "    .dataframe thead th {\n",
       "        text-align: right;\n",
       "    }\n",
       "</style>\n",
       "<table border=\"1\" class=\"dataframe\">\n",
       "  <thead>\n",
       "    <tr style=\"text-align: right;\">\n",
       "      <th>Topic</th>\n",
       "      <th>Corporate Governance</th>\n",
       "      <th>Corporate Responsibility</th>\n",
       "      <th>Corporate culture</th>\n",
       "      <th>Innovation</th>\n",
       "      <th>Patents &amp; Inventions</th>\n",
       "      <th>Sustainability</th>\n",
       "    </tr>\n",
       "    <tr>\n",
       "      <th>Entity</th>\n",
       "      <th></th>\n",
       "      <th></th>\n",
       "      <th></th>\n",
       "      <th></th>\n",
       "      <th></th>\n",
       "      <th></th>\n",
       "    </tr>\n",
       "  </thead>\n",
       "  <tbody>\n",
       "    <tr>\n",
       "      <th>BMW</th>\n",
       "      <td>1058</td>\n",
       "      <td>2597</td>\n",
       "      <td>407</td>\n",
       "      <td>14977</td>\n",
       "      <td>1677</td>\n",
       "      <td>15826</td>\n",
       "    </tr>\n",
       "    <tr>\n",
       "      <th>Ford Motor Company</th>\n",
       "      <td>2817</td>\n",
       "      <td>1757</td>\n",
       "      <td>851</td>\n",
       "      <td>10672</td>\n",
       "      <td>1892</td>\n",
       "      <td>9133</td>\n",
       "    </tr>\n",
       "    <tr>\n",
       "      <th>General Motors</th>\n",
       "      <td>3668</td>\n",
       "      <td>4313</td>\n",
       "      <td>522</td>\n",
       "      <td>18641</td>\n",
       "      <td>2652</td>\n",
       "      <td>18672</td>\n",
       "    </tr>\n",
       "    <tr>\n",
       "      <th>Honda</th>\n",
       "      <td>635</td>\n",
       "      <td>1179</td>\n",
       "      <td>136</td>\n",
       "      <td>12779</td>\n",
       "      <td>1419</td>\n",
       "      <td>4756</td>\n",
       "    </tr>\n",
       "    <tr>\n",
       "      <th>Tesla, Inc.</th>\n",
       "      <td>2107</td>\n",
       "      <td>6410</td>\n",
       "      <td>439</td>\n",
       "      <td>20560</td>\n",
       "      <td>3968</td>\n",
       "      <td>38731</td>\n",
       "    </tr>\n",
       "    <tr>\n",
       "      <th>Toyota</th>\n",
       "      <td>3045</td>\n",
       "      <td>1938</td>\n",
       "      <td>525</td>\n",
       "      <td>18140</td>\n",
       "      <td>4280</td>\n",
       "      <td>11182</td>\n",
       "    </tr>\n",
       "    <tr>\n",
       "      <th>Volkswagen</th>\n",
       "      <td>174</td>\n",
       "      <td>456</td>\n",
       "      <td>105</td>\n",
       "      <td>8843</td>\n",
       "      <td>514</td>\n",
       "      <td>10096</td>\n",
       "    </tr>\n",
       "  </tbody>\n",
       "</table>\n",
       "</div>"
      ],
      "text/plain": [
       "Topic               Corporate Governance  Corporate Responsibility  \\\n",
       "Entity                                                               \n",
       "BMW                                 1058                      2597   \n",
       "Ford Motor Company                  2817                      1757   \n",
       "General Motors                      3668                      4313   \n",
       "Honda                                635                      1179   \n",
       "Tesla, Inc.                         2107                      6410   \n",
       "Toyota                              3045                      1938   \n",
       "Volkswagen                           174                       456   \n",
       "\n",
       "Topic               Corporate culture  Innovation  Patents & Inventions  \\\n",
       "Entity                                                                    \n",
       "BMW                               407       14977                  1677   \n",
       "Ford Motor Company                851       10672                  1892   \n",
       "General Motors                    522       18641                  2652   \n",
       "Honda                             136       12779                  1419   \n",
       "Tesla, Inc.                       439       20560                  3968   \n",
       "Toyota                            525       18140                  4280   \n",
       "Volkswagen                        105        8843                   514   \n",
       "\n",
       "Topic               Sustainability  \n",
       "Entity                              \n",
       "BMW                          15826  \n",
       "Ford Motor Company            9133  \n",
       "General Motors               18672  \n",
       "Honda                         4756  \n",
       "Tesla, Inc.                  38731  \n",
       "Toyota                       11182  \n",
       "Volkswagen                   10096  "
      ]
     },
     "execution_count": 14,
     "metadata": {},
     "output_type": "execute_result"
    }
   ],
   "source": [
    "stacked_df = df.groupby(['Entity', 'Topic', 'Sentiment']).sum().unstack()\n",
    "stacked_df.columns = stacked_df.columns.droplevel(0)\n",
    "\n",
    "stacked_df['polarity'] = stacked_df.apply(\n",
    "    lambda x: x['positive'] - x['negative'],\n",
    "    axis=1\n",
    ")\n",
    "reseted_df = stacked_df.reset_index()\n",
    "reseted_df.pivot_table(values='polarity', index=reseted_df['Entity'], columns='Topic')\n"
   ]
  },
  {
   "cell_type": "markdown",
   "metadata": {},
   "source": [
    "### 3. News coverage and sentiment around an entity in different locations"
   ]
  },
  {
   "cell_type": "markdown",
   "metadata": {},
   "source": [
    "**Use case question**:\n",
    "\n",
    "- How do news coverage and sentiment around my agency’s clients vary across different countries?"
   ]
  },
  {
   "cell_type": "markdown",
   "metadata": {},
   "source": [
    "**Example**: Coverage and sentiment around Uber in February 2021 and in 5 different countries"
   ]
  },
  {
   "cell_type": "code",
   "execution_count": 17,
   "metadata": {},
   "outputs": [],
   "source": [
    "entity_id = \"0c20f04a-94ef-467c-921d-f89f8895c41a\" ##  ID for Uber\n",
    "countries = [\n",
    "    \"United States\", \n",
    "    \"United Kingdom\", \n",
    "    \"Germany\", \n",
    "    \"France\", \n",
    "    \"Spain\"\n",
    "    ]\n",
    "\n",
    "query = {\n",
    "    \"where\": {\n",
    "        \"published-at\": {\n",
    "            \"gte\": \"2021-02-01\",\n",
    "            \"lte\": \"2021-02-28\"\n",
    "        },\n",
    "        # Here we can narrow our search by selecting only the documents where Uber is mentioned\n",
    "        \"entities\": {\n",
    "            \"id\": {\n",
    "                \"eq\": entity_id\n",
    "            }\n",
    "        }\n",
    "    },\n",
    "    \"aggregations\": {\n",
    "        \"group-by\": [\n",
    "            \"source.country\",\n",
    "            \"entity\",\n",
    "            \"entity.sentiment\"\n",
    "        ],\n",
    "        \"options\": {\n",
    "            \"source.country\": { \"include\": countries },\n",
    "            \"entity\": { \"include\": [entity_id] }\n",
    "        },\n",
    "        \"metrics\": [\"document-count\"]\n",
    "    }\n",
    "}\n",
    "\n",
    "uber_result = request(json=query).json()"
   ]
  },
  {
   "cell_type": "code",
   "execution_count": 19,
   "metadata": {},
   "outputs": [
    {
     "data": {
      "text/html": [
       "<style  type=\"text/css\" >\n",
       "</style><table id=\"T_0719cb8c_8bc3_11eb_84f2_3af9d350abc5\" ><caption>Sentiment towards Uber in February 2021</caption><thead>    <tr>        <th class=\"blank level0\" ></th>        <th class=\"col_heading level0 col0\" >Country</th>        <th class=\"col_heading level0 col1\" >Sentiment</th>        <th class=\"col_heading level0 col2\" >Count</th>    </tr></thead><tbody>\n",
       "                <tr>\n",
       "                        <th id=\"T_0719cb8c_8bc3_11eb_84f2_3af9d350abc5level0_row0\" class=\"row_heading level0 row0\" >0</th>\n",
       "                        <td id=\"T_0719cb8c_8bc3_11eb_84f2_3af9d350abc5row0_col0\" class=\"data row0 col0\" >United States</td>\n",
       "                        <td id=\"T_0719cb8c_8bc3_11eb_84f2_3af9d350abc5row0_col1\" class=\"data row0 col1\" >negative</td>\n",
       "                        <td id=\"T_0719cb8c_8bc3_11eb_84f2_3af9d350abc5row0_col2\" class=\"data row0 col2\" >6643</td>\n",
       "            </tr>\n",
       "            <tr>\n",
       "                        <th id=\"T_0719cb8c_8bc3_11eb_84f2_3af9d350abc5level0_row1\" class=\"row_heading level0 row1\" >1</th>\n",
       "                        <td id=\"T_0719cb8c_8bc3_11eb_84f2_3af9d350abc5row1_col0\" class=\"data row1 col0\" >United States</td>\n",
       "                        <td id=\"T_0719cb8c_8bc3_11eb_84f2_3af9d350abc5row1_col1\" class=\"data row1 col1\" >neutral</td>\n",
       "                        <td id=\"T_0719cb8c_8bc3_11eb_84f2_3af9d350abc5row1_col2\" class=\"data row1 col2\" >27522</td>\n",
       "            </tr>\n",
       "            <tr>\n",
       "                        <th id=\"T_0719cb8c_8bc3_11eb_84f2_3af9d350abc5level0_row2\" class=\"row_heading level0 row2\" >2</th>\n",
       "                        <td id=\"T_0719cb8c_8bc3_11eb_84f2_3af9d350abc5row2_col0\" class=\"data row2 col0\" >United States</td>\n",
       "                        <td id=\"T_0719cb8c_8bc3_11eb_84f2_3af9d350abc5row2_col1\" class=\"data row2 col1\" >positive</td>\n",
       "                        <td id=\"T_0719cb8c_8bc3_11eb_84f2_3af9d350abc5row2_col2\" class=\"data row2 col2\" >18720</td>\n",
       "            </tr>\n",
       "            <tr>\n",
       "                        <th id=\"T_0719cb8c_8bc3_11eb_84f2_3af9d350abc5level0_row3\" class=\"row_heading level0 row3\" >3</th>\n",
       "                        <td id=\"T_0719cb8c_8bc3_11eb_84f2_3af9d350abc5row3_col0\" class=\"data row3 col0\" >United Kingdom</td>\n",
       "                        <td id=\"T_0719cb8c_8bc3_11eb_84f2_3af9d350abc5row3_col1\" class=\"data row3 col1\" >negative</td>\n",
       "                        <td id=\"T_0719cb8c_8bc3_11eb_84f2_3af9d350abc5row3_col2\" class=\"data row3 col2\" >3422</td>\n",
       "            </tr>\n",
       "            <tr>\n",
       "                        <th id=\"T_0719cb8c_8bc3_11eb_84f2_3af9d350abc5level0_row4\" class=\"row_heading level0 row4\" >4</th>\n",
       "                        <td id=\"T_0719cb8c_8bc3_11eb_84f2_3af9d350abc5row4_col0\" class=\"data row4 col0\" >United Kingdom</td>\n",
       "                        <td id=\"T_0719cb8c_8bc3_11eb_84f2_3af9d350abc5row4_col1\" class=\"data row4 col1\" >neutral</td>\n",
       "                        <td id=\"T_0719cb8c_8bc3_11eb_84f2_3af9d350abc5row4_col2\" class=\"data row4 col2\" >6323</td>\n",
       "            </tr>\n",
       "            <tr>\n",
       "                        <th id=\"T_0719cb8c_8bc3_11eb_84f2_3af9d350abc5level0_row5\" class=\"row_heading level0 row5\" >5</th>\n",
       "                        <td id=\"T_0719cb8c_8bc3_11eb_84f2_3af9d350abc5row5_col0\" class=\"data row5 col0\" >United Kingdom</td>\n",
       "                        <td id=\"T_0719cb8c_8bc3_11eb_84f2_3af9d350abc5row5_col1\" class=\"data row5 col1\" >positive</td>\n",
       "                        <td id=\"T_0719cb8c_8bc3_11eb_84f2_3af9d350abc5row5_col2\" class=\"data row5 col2\" >2880</td>\n",
       "            </tr>\n",
       "            <tr>\n",
       "                        <th id=\"T_0719cb8c_8bc3_11eb_84f2_3af9d350abc5level0_row6\" class=\"row_heading level0 row6\" >6</th>\n",
       "                        <td id=\"T_0719cb8c_8bc3_11eb_84f2_3af9d350abc5row6_col0\" class=\"data row6 col0\" >Germany</td>\n",
       "                        <td id=\"T_0719cb8c_8bc3_11eb_84f2_3af9d350abc5row6_col1\" class=\"data row6 col1\" >negative</td>\n",
       "                        <td id=\"T_0719cb8c_8bc3_11eb_84f2_3af9d350abc5row6_col2\" class=\"data row6 col2\" >768</td>\n",
       "            </tr>\n",
       "            <tr>\n",
       "                        <th id=\"T_0719cb8c_8bc3_11eb_84f2_3af9d350abc5level0_row7\" class=\"row_heading level0 row7\" >7</th>\n",
       "                        <td id=\"T_0719cb8c_8bc3_11eb_84f2_3af9d350abc5row7_col0\" class=\"data row7 col0\" >Germany</td>\n",
       "                        <td id=\"T_0719cb8c_8bc3_11eb_84f2_3af9d350abc5row7_col1\" class=\"data row7 col1\" >neutral</td>\n",
       "                        <td id=\"T_0719cb8c_8bc3_11eb_84f2_3af9d350abc5row7_col2\" class=\"data row7 col2\" >1322</td>\n",
       "            </tr>\n",
       "            <tr>\n",
       "                        <th id=\"T_0719cb8c_8bc3_11eb_84f2_3af9d350abc5level0_row8\" class=\"row_heading level0 row8\" >8</th>\n",
       "                        <td id=\"T_0719cb8c_8bc3_11eb_84f2_3af9d350abc5row8_col0\" class=\"data row8 col0\" >Germany</td>\n",
       "                        <td id=\"T_0719cb8c_8bc3_11eb_84f2_3af9d350abc5row8_col1\" class=\"data row8 col1\" >positive</td>\n",
       "                        <td id=\"T_0719cb8c_8bc3_11eb_84f2_3af9d350abc5row8_col2\" class=\"data row8 col2\" >1257</td>\n",
       "            </tr>\n",
       "            <tr>\n",
       "                        <th id=\"T_0719cb8c_8bc3_11eb_84f2_3af9d350abc5level0_row9\" class=\"row_heading level0 row9\" >9</th>\n",
       "                        <td id=\"T_0719cb8c_8bc3_11eb_84f2_3af9d350abc5row9_col0\" class=\"data row9 col0\" >France</td>\n",
       "                        <td id=\"T_0719cb8c_8bc3_11eb_84f2_3af9d350abc5row9_col1\" class=\"data row9 col1\" >negative</td>\n",
       "                        <td id=\"T_0719cb8c_8bc3_11eb_84f2_3af9d350abc5row9_col2\" class=\"data row9 col2\" >490</td>\n",
       "            </tr>\n",
       "            <tr>\n",
       "                        <th id=\"T_0719cb8c_8bc3_11eb_84f2_3af9d350abc5level0_row10\" class=\"row_heading level0 row10\" >10</th>\n",
       "                        <td id=\"T_0719cb8c_8bc3_11eb_84f2_3af9d350abc5row10_col0\" class=\"data row10 col0\" >France</td>\n",
       "                        <td id=\"T_0719cb8c_8bc3_11eb_84f2_3af9d350abc5row10_col1\" class=\"data row10 col1\" >neutral</td>\n",
       "                        <td id=\"T_0719cb8c_8bc3_11eb_84f2_3af9d350abc5row10_col2\" class=\"data row10 col2\" >1199</td>\n",
       "            </tr>\n",
       "            <tr>\n",
       "                        <th id=\"T_0719cb8c_8bc3_11eb_84f2_3af9d350abc5level0_row11\" class=\"row_heading level0 row11\" >11</th>\n",
       "                        <td id=\"T_0719cb8c_8bc3_11eb_84f2_3af9d350abc5row11_col0\" class=\"data row11 col0\" >France</td>\n",
       "                        <td id=\"T_0719cb8c_8bc3_11eb_84f2_3af9d350abc5row11_col1\" class=\"data row11 col1\" >positive</td>\n",
       "                        <td id=\"T_0719cb8c_8bc3_11eb_84f2_3af9d350abc5row11_col2\" class=\"data row11 col2\" >1300</td>\n",
       "            </tr>\n",
       "            <tr>\n",
       "                        <th id=\"T_0719cb8c_8bc3_11eb_84f2_3af9d350abc5level0_row12\" class=\"row_heading level0 row12\" >12</th>\n",
       "                        <td id=\"T_0719cb8c_8bc3_11eb_84f2_3af9d350abc5row12_col0\" class=\"data row12 col0\" >Spain</td>\n",
       "                        <td id=\"T_0719cb8c_8bc3_11eb_84f2_3af9d350abc5row12_col1\" class=\"data row12 col1\" >negative</td>\n",
       "                        <td id=\"T_0719cb8c_8bc3_11eb_84f2_3af9d350abc5row12_col2\" class=\"data row12 col2\" >197</td>\n",
       "            </tr>\n",
       "            <tr>\n",
       "                        <th id=\"T_0719cb8c_8bc3_11eb_84f2_3af9d350abc5level0_row13\" class=\"row_heading level0 row13\" >13</th>\n",
       "                        <td id=\"T_0719cb8c_8bc3_11eb_84f2_3af9d350abc5row13_col0\" class=\"data row13 col0\" >Spain</td>\n",
       "                        <td id=\"T_0719cb8c_8bc3_11eb_84f2_3af9d350abc5row13_col1\" class=\"data row13 col1\" >neutral</td>\n",
       "                        <td id=\"T_0719cb8c_8bc3_11eb_84f2_3af9d350abc5row13_col2\" class=\"data row13 col2\" >752</td>\n",
       "            </tr>\n",
       "            <tr>\n",
       "                        <th id=\"T_0719cb8c_8bc3_11eb_84f2_3af9d350abc5level0_row14\" class=\"row_heading level0 row14\" >14</th>\n",
       "                        <td id=\"T_0719cb8c_8bc3_11eb_84f2_3af9d350abc5row14_col0\" class=\"data row14 col0\" >Spain</td>\n",
       "                        <td id=\"T_0719cb8c_8bc3_11eb_84f2_3af9d350abc5row14_col1\" class=\"data row14 col1\" >positive</td>\n",
       "                        <td id=\"T_0719cb8c_8bc3_11eb_84f2_3af9d350abc5row14_col2\" class=\"data row14 col2\" >571</td>\n",
       "            </tr>\n",
       "    </tbody></table>"
      ],
      "text/plain": [
       "<pandas.io.formats.style.Styler at 0x111118e10>"
      ]
     },
     "execution_count": 19,
     "metadata": {},
     "output_type": "execute_result"
    }
   ],
   "source": [
    "df = json_normalize(uber_result, 'aggregations')\n",
    "\n",
    "df = df.rename(columns={'entity.sentiment': 'Sentiment', 'document-count': 'Count', 'source.country': 'Country'})\n",
    "df = df.reindex(columns=['Country', 'Sentiment', 'Count'])\n",
    "\n",
    "df.style.set_caption('Sentiment towards Uber in February 2021')\n"
   ]
  },
  {
   "cell_type": "markdown",
   "metadata": {},
   "source": [
    "### 4. Difference in coverage and sentiment between entities over time and in relation to different topics"
   ]
  },
  {
   "cell_type": "markdown",
   "metadata": {},
   "source": [
    "**Use case question**:\n",
    "\n",
    "- How do different organisations that I monitor compare with respect to coverage and sentiment in relation to key topics?"
   ]
  },
  {
   "cell_type": "markdown",
   "metadata": {},
   "source": [
    "**Example**: Coverage and sentiment around 4 competitors in the mining industry in the second half of 2020 and in relation to 4 ESG topics"
   ]
  },
  {
   "cell_type": "code",
   "execution_count": 20,
   "metadata": {},
   "outputs": [],
   "source": [
    "topic_ids = [\n",
    "    \"22297881-a936-4b51-a880-a7152c8ecc68\",\n",
    "    \"ff9d1563-570f-4769-bbb5-7f3096beca0a\",\n",
    "    \"8de14dc1-6a93-4d1f-b755-a8d7aa570187\",\n",
    "    \"f8c74a1b-4f44-4a3f-b9bb-9b7cb221eb3f\"\n",
    "    ] ## IDs of the following topics: Environmental Cleanup, Corporate Controversy,  Sustainability, Chemicals\n",
    "\n",
    "entity_ids = [\n",
    "   \"72800724-103f-4370-942a-0e715b58ee4a\",\n",
    "   \"3d885924-a230-4fac-b17a-d5a1c1151cdf\",\n",
    "   \"98eeff9c-6a9a-4d62-801d-eb94b240dd42\",\n",
    "   \"592930e0-70fe-45f7-8a1e-ec504158dbf9\"\n",
    "    ] ##  IDs of the following mining companies: Rio Tinto, BHP, Glencore\n",
    "\n",
    "query = {\n",
    "    \"where\": {\n",
    "        \"published-at\": {\n",
    "            \"gte\": \"2020-07-01\",\n",
    "            \"lte\": \"2020-12-31\"\n",
    "        },\n",
    "        \"topics\": {\n",
    "            \"id\": { \"any\": topic_ids }\n",
    "        },\n",
    "        \"entities\": {\n",
    "            \"id\": { \"any\": entity_ids }\n",
    "        }\n",
    "    },\n",
    "    \"aggregations\": {\n",
    "        \"group-by\": [\n",
    "            \"published-at\",\n",
    "            \"topic\",\n",
    "            \"entity\",\n",
    "            \"entity.sentiment\"\n",
    "        ],\n",
    "        \"options\": {\n",
    "            \"published-at\": { \"interval\": \"month\" },\n",
    "            \"topic\": { \"include\": topic_ids },\n",
    "            \"entity\": { \"include\": entity_ids }\n",
    "        },\n",
    "        \"metrics\": [\"document-count\"]\n",
    "    }\n",
    "}\n",
    "\n",
    "mining_companies_result = request(json=query).json()"
   ]
  },
  {
   "cell_type": "code",
   "execution_count": 22,
   "metadata": {},
   "outputs": [
    {
     "data": {
      "text/html": [
       "<style  type=\"text/css\" >\n",
       "</style><table id=\"T_b8aa991c_8bc3_11eb_9287_3af9d350abc5\" ><caption>Sentiment breakdown by mining company and topic</caption><thead>    <tr>        <th class=\"blank level0\" ></th>        <th class=\"col_heading level0 col0\" >Date</th>        <th class=\"col_heading level0 col1\" >Topic</th>        <th class=\"col_heading level0 col2\" >Entity</th>        <th class=\"col_heading level0 col3\" >Sentiment</th>        <th class=\"col_heading level0 col4\" >Count</th>    </tr></thead><tbody>\n",
       "                <tr>\n",
       "                        <th id=\"T_b8aa991c_8bc3_11eb_9287_3af9d350abc5level0_row0\" class=\"row_heading level0 row0\" >0</th>\n",
       "                        <td id=\"T_b8aa991c_8bc3_11eb_9287_3af9d350abc5row0_col0\" class=\"data row0 col0\" >2020-07-01</td>\n",
       "                        <td id=\"T_b8aa991c_8bc3_11eb_9287_3af9d350abc5row0_col1\" class=\"data row0 col1\" >Chemicals</td>\n",
       "                        <td id=\"T_b8aa991c_8bc3_11eb_9287_3af9d350abc5row0_col2\" class=\"data row0 col2\" >Rio Tinto Group</td>\n",
       "                        <td id=\"T_b8aa991c_8bc3_11eb_9287_3af9d350abc5row0_col3\" class=\"data row0 col3\" >negative</td>\n",
       "                        <td id=\"T_b8aa991c_8bc3_11eb_9287_3af9d350abc5row0_col4\" class=\"data row0 col4\" >604</td>\n",
       "            </tr>\n",
       "            <tr>\n",
       "                        <th id=\"T_b8aa991c_8bc3_11eb_9287_3af9d350abc5level0_row1\" class=\"row_heading level0 row1\" >1</th>\n",
       "                        <td id=\"T_b8aa991c_8bc3_11eb_9287_3af9d350abc5row1_col0\" class=\"data row1 col0\" >2020-07-01</td>\n",
       "                        <td id=\"T_b8aa991c_8bc3_11eb_9287_3af9d350abc5row1_col1\" class=\"data row1 col1\" >Chemicals</td>\n",
       "                        <td id=\"T_b8aa991c_8bc3_11eb_9287_3af9d350abc5row1_col2\" class=\"data row1 col2\" >Rio Tinto Group</td>\n",
       "                        <td id=\"T_b8aa991c_8bc3_11eb_9287_3af9d350abc5row1_col3\" class=\"data row1 col3\" >neutral</td>\n",
       "                        <td id=\"T_b8aa991c_8bc3_11eb_9287_3af9d350abc5row1_col4\" class=\"data row1 col4\" >2839</td>\n",
       "            </tr>\n",
       "            <tr>\n",
       "                        <th id=\"T_b8aa991c_8bc3_11eb_9287_3af9d350abc5level0_row2\" class=\"row_heading level0 row2\" >2</th>\n",
       "                        <td id=\"T_b8aa991c_8bc3_11eb_9287_3af9d350abc5row2_col0\" class=\"data row2 col0\" >2020-07-01</td>\n",
       "                        <td id=\"T_b8aa991c_8bc3_11eb_9287_3af9d350abc5row2_col1\" class=\"data row2 col1\" >Chemicals</td>\n",
       "                        <td id=\"T_b8aa991c_8bc3_11eb_9287_3af9d350abc5row2_col2\" class=\"data row2 col2\" >Rio Tinto Group</td>\n",
       "                        <td id=\"T_b8aa991c_8bc3_11eb_9287_3af9d350abc5row2_col3\" class=\"data row2 col3\" >positive</td>\n",
       "                        <td id=\"T_b8aa991c_8bc3_11eb_9287_3af9d350abc5row2_col4\" class=\"data row2 col4\" >3379</td>\n",
       "            </tr>\n",
       "            <tr>\n",
       "                        <th id=\"T_b8aa991c_8bc3_11eb_9287_3af9d350abc5level0_row3\" class=\"row_heading level0 row3\" >3</th>\n",
       "                        <td id=\"T_b8aa991c_8bc3_11eb_9287_3af9d350abc5row3_col0\" class=\"data row3 col0\" >2020-07-01</td>\n",
       "                        <td id=\"T_b8aa991c_8bc3_11eb_9287_3af9d350abc5row3_col1\" class=\"data row3 col1\" >Chemicals</td>\n",
       "                        <td id=\"T_b8aa991c_8bc3_11eb_9287_3af9d350abc5row3_col2\" class=\"data row3 col2\" >BHP</td>\n",
       "                        <td id=\"T_b8aa991c_8bc3_11eb_9287_3af9d350abc5row3_col3\" class=\"data row3 col3\" >negative</td>\n",
       "                        <td id=\"T_b8aa991c_8bc3_11eb_9287_3af9d350abc5row3_col4\" class=\"data row3 col4\" >579</td>\n",
       "            </tr>\n",
       "            <tr>\n",
       "                        <th id=\"T_b8aa991c_8bc3_11eb_9287_3af9d350abc5level0_row4\" class=\"row_heading level0 row4\" >4</th>\n",
       "                        <td id=\"T_b8aa991c_8bc3_11eb_9287_3af9d350abc5row4_col0\" class=\"data row4 col0\" >2020-07-01</td>\n",
       "                        <td id=\"T_b8aa991c_8bc3_11eb_9287_3af9d350abc5row4_col1\" class=\"data row4 col1\" >Chemicals</td>\n",
       "                        <td id=\"T_b8aa991c_8bc3_11eb_9287_3af9d350abc5row4_col2\" class=\"data row4 col2\" >BHP</td>\n",
       "                        <td id=\"T_b8aa991c_8bc3_11eb_9287_3af9d350abc5row4_col3\" class=\"data row4 col3\" >neutral</td>\n",
       "                        <td id=\"T_b8aa991c_8bc3_11eb_9287_3af9d350abc5row4_col4\" class=\"data row4 col4\" >3224</td>\n",
       "            </tr>\n",
       "            <tr>\n",
       "                        <th id=\"T_b8aa991c_8bc3_11eb_9287_3af9d350abc5level0_row5\" class=\"row_heading level0 row5\" >5</th>\n",
       "                        <td id=\"T_b8aa991c_8bc3_11eb_9287_3af9d350abc5row5_col0\" class=\"data row5 col0\" >2020-07-01</td>\n",
       "                        <td id=\"T_b8aa991c_8bc3_11eb_9287_3af9d350abc5row5_col1\" class=\"data row5 col1\" >Chemicals</td>\n",
       "                        <td id=\"T_b8aa991c_8bc3_11eb_9287_3af9d350abc5row5_col2\" class=\"data row5 col2\" >BHP</td>\n",
       "                        <td id=\"T_b8aa991c_8bc3_11eb_9287_3af9d350abc5row5_col3\" class=\"data row5 col3\" >positive</td>\n",
       "                        <td id=\"T_b8aa991c_8bc3_11eb_9287_3af9d350abc5row5_col4\" class=\"data row5 col4\" >2300</td>\n",
       "            </tr>\n",
       "            <tr>\n",
       "                        <th id=\"T_b8aa991c_8bc3_11eb_9287_3af9d350abc5level0_row6\" class=\"row_heading level0 row6\" >6</th>\n",
       "                        <td id=\"T_b8aa991c_8bc3_11eb_9287_3af9d350abc5row6_col0\" class=\"data row6 col0\" >2020-07-01</td>\n",
       "                        <td id=\"T_b8aa991c_8bc3_11eb_9287_3af9d350abc5row6_col1\" class=\"data row6 col1\" >Chemicals</td>\n",
       "                        <td id=\"T_b8aa991c_8bc3_11eb_9287_3af9d350abc5row6_col2\" class=\"data row6 col2\" >Anglo American plc</td>\n",
       "                        <td id=\"T_b8aa991c_8bc3_11eb_9287_3af9d350abc5row6_col3\" class=\"data row6 col3\" >negative</td>\n",
       "                        <td id=\"T_b8aa991c_8bc3_11eb_9287_3af9d350abc5row6_col4\" class=\"data row6 col4\" >252</td>\n",
       "            </tr>\n",
       "            <tr>\n",
       "                        <th id=\"T_b8aa991c_8bc3_11eb_9287_3af9d350abc5level0_row7\" class=\"row_heading level0 row7\" >7</th>\n",
       "                        <td id=\"T_b8aa991c_8bc3_11eb_9287_3af9d350abc5row7_col0\" class=\"data row7 col0\" >2020-07-01</td>\n",
       "                        <td id=\"T_b8aa991c_8bc3_11eb_9287_3af9d350abc5row7_col1\" class=\"data row7 col1\" >Chemicals</td>\n",
       "                        <td id=\"T_b8aa991c_8bc3_11eb_9287_3af9d350abc5row7_col2\" class=\"data row7 col2\" >Anglo American plc</td>\n",
       "                        <td id=\"T_b8aa991c_8bc3_11eb_9287_3af9d350abc5row7_col3\" class=\"data row7 col3\" >neutral</td>\n",
       "                        <td id=\"T_b8aa991c_8bc3_11eb_9287_3af9d350abc5row7_col4\" class=\"data row7 col4\" >1528</td>\n",
       "            </tr>\n",
       "            <tr>\n",
       "                        <th id=\"T_b8aa991c_8bc3_11eb_9287_3af9d350abc5level0_row8\" class=\"row_heading level0 row8\" >8</th>\n",
       "                        <td id=\"T_b8aa991c_8bc3_11eb_9287_3af9d350abc5row8_col0\" class=\"data row8 col0\" >2020-07-01</td>\n",
       "                        <td id=\"T_b8aa991c_8bc3_11eb_9287_3af9d350abc5row8_col1\" class=\"data row8 col1\" >Chemicals</td>\n",
       "                        <td id=\"T_b8aa991c_8bc3_11eb_9287_3af9d350abc5row8_col2\" class=\"data row8 col2\" >Anglo American plc</td>\n",
       "                        <td id=\"T_b8aa991c_8bc3_11eb_9287_3af9d350abc5row8_col3\" class=\"data row8 col3\" >positive</td>\n",
       "                        <td id=\"T_b8aa991c_8bc3_11eb_9287_3af9d350abc5row8_col4\" class=\"data row8 col4\" >1592</td>\n",
       "            </tr>\n",
       "            <tr>\n",
       "                        <th id=\"T_b8aa991c_8bc3_11eb_9287_3af9d350abc5level0_row9\" class=\"row_heading level0 row9\" >9</th>\n",
       "                        <td id=\"T_b8aa991c_8bc3_11eb_9287_3af9d350abc5row9_col0\" class=\"data row9 col0\" >2020-07-01</td>\n",
       "                        <td id=\"T_b8aa991c_8bc3_11eb_9287_3af9d350abc5row9_col1\" class=\"data row9 col1\" >Chemicals</td>\n",
       "                        <td id=\"T_b8aa991c_8bc3_11eb_9287_3af9d350abc5row9_col2\" class=\"data row9 col2\" >Glencore</td>\n",
       "                        <td id=\"T_b8aa991c_8bc3_11eb_9287_3af9d350abc5row9_col3\" class=\"data row9 col3\" >negative</td>\n",
       "                        <td id=\"T_b8aa991c_8bc3_11eb_9287_3af9d350abc5row9_col4\" class=\"data row9 col4\" >319</td>\n",
       "            </tr>\n",
       "            <tr>\n",
       "                        <th id=\"T_b8aa991c_8bc3_11eb_9287_3af9d350abc5level0_row10\" class=\"row_heading level0 row10\" >10</th>\n",
       "                        <td id=\"T_b8aa991c_8bc3_11eb_9287_3af9d350abc5row10_col0\" class=\"data row10 col0\" >2020-07-01</td>\n",
       "                        <td id=\"T_b8aa991c_8bc3_11eb_9287_3af9d350abc5row10_col1\" class=\"data row10 col1\" >Chemicals</td>\n",
       "                        <td id=\"T_b8aa991c_8bc3_11eb_9287_3af9d350abc5row10_col2\" class=\"data row10 col2\" >Glencore</td>\n",
       "                        <td id=\"T_b8aa991c_8bc3_11eb_9287_3af9d350abc5row10_col3\" class=\"data row10 col3\" >neutral</td>\n",
       "                        <td id=\"T_b8aa991c_8bc3_11eb_9287_3af9d350abc5row10_col4\" class=\"data row10 col4\" >1572</td>\n",
       "            </tr>\n",
       "            <tr>\n",
       "                        <th id=\"T_b8aa991c_8bc3_11eb_9287_3af9d350abc5level0_row11\" class=\"row_heading level0 row11\" >11</th>\n",
       "                        <td id=\"T_b8aa991c_8bc3_11eb_9287_3af9d350abc5row11_col0\" class=\"data row11 col0\" >2020-07-01</td>\n",
       "                        <td id=\"T_b8aa991c_8bc3_11eb_9287_3af9d350abc5row11_col1\" class=\"data row11 col1\" >Chemicals</td>\n",
       "                        <td id=\"T_b8aa991c_8bc3_11eb_9287_3af9d350abc5row11_col2\" class=\"data row11 col2\" >Glencore</td>\n",
       "                        <td id=\"T_b8aa991c_8bc3_11eb_9287_3af9d350abc5row11_col3\" class=\"data row11 col3\" >positive</td>\n",
       "                        <td id=\"T_b8aa991c_8bc3_11eb_9287_3af9d350abc5row11_col4\" class=\"data row11 col4\" >1116</td>\n",
       "            </tr>\n",
       "            <tr>\n",
       "                        <th id=\"T_b8aa991c_8bc3_11eb_9287_3af9d350abc5level0_row12\" class=\"row_heading level0 row12\" >12</th>\n",
       "                        <td id=\"T_b8aa991c_8bc3_11eb_9287_3af9d350abc5row12_col0\" class=\"data row12 col0\" >2020-07-01</td>\n",
       "                        <td id=\"T_b8aa991c_8bc3_11eb_9287_3af9d350abc5row12_col1\" class=\"data row12 col1\" >Corporate Controversy</td>\n",
       "                        <td id=\"T_b8aa991c_8bc3_11eb_9287_3af9d350abc5row12_col2\" class=\"data row12 col2\" >BHP</td>\n",
       "                        <td id=\"T_b8aa991c_8bc3_11eb_9287_3af9d350abc5row12_col3\" class=\"data row12 col3\" >negative</td>\n",
       "                        <td id=\"T_b8aa991c_8bc3_11eb_9287_3af9d350abc5row12_col4\" class=\"data row12 col4\" >573</td>\n",
       "            </tr>\n",
       "            <tr>\n",
       "                        <th id=\"T_b8aa991c_8bc3_11eb_9287_3af9d350abc5level0_row13\" class=\"row_heading level0 row13\" >13</th>\n",
       "                        <td id=\"T_b8aa991c_8bc3_11eb_9287_3af9d350abc5row13_col0\" class=\"data row13 col0\" >2020-07-01</td>\n",
       "                        <td id=\"T_b8aa991c_8bc3_11eb_9287_3af9d350abc5row13_col1\" class=\"data row13 col1\" >Corporate Controversy</td>\n",
       "                        <td id=\"T_b8aa991c_8bc3_11eb_9287_3af9d350abc5row13_col2\" class=\"data row13 col2\" >BHP</td>\n",
       "                        <td id=\"T_b8aa991c_8bc3_11eb_9287_3af9d350abc5row13_col3\" class=\"data row13 col3\" >neutral</td>\n",
       "                        <td id=\"T_b8aa991c_8bc3_11eb_9287_3af9d350abc5row13_col4\" class=\"data row13 col4\" >662</td>\n",
       "            </tr>\n",
       "            <tr>\n",
       "                        <th id=\"T_b8aa991c_8bc3_11eb_9287_3af9d350abc5level0_row14\" class=\"row_heading level0 row14\" >14</th>\n",
       "                        <td id=\"T_b8aa991c_8bc3_11eb_9287_3af9d350abc5row14_col0\" class=\"data row14 col0\" >2020-07-01</td>\n",
       "                        <td id=\"T_b8aa991c_8bc3_11eb_9287_3af9d350abc5row14_col1\" class=\"data row14 col1\" >Corporate Controversy</td>\n",
       "                        <td id=\"T_b8aa991c_8bc3_11eb_9287_3af9d350abc5row14_col2\" class=\"data row14 col2\" >BHP</td>\n",
       "                        <td id=\"T_b8aa991c_8bc3_11eb_9287_3af9d350abc5row14_col3\" class=\"data row14 col3\" >positive</td>\n",
       "                        <td id=\"T_b8aa991c_8bc3_11eb_9287_3af9d350abc5row14_col4\" class=\"data row14 col4\" >197</td>\n",
       "            </tr>\n",
       "            <tr>\n",
       "                        <th id=\"T_b8aa991c_8bc3_11eb_9287_3af9d350abc5level0_row15\" class=\"row_heading level0 row15\" >15</th>\n",
       "                        <td id=\"T_b8aa991c_8bc3_11eb_9287_3af9d350abc5row15_col0\" class=\"data row15 col0\" >2020-07-01</td>\n",
       "                        <td id=\"T_b8aa991c_8bc3_11eb_9287_3af9d350abc5row15_col1\" class=\"data row15 col1\" >Corporate Controversy</td>\n",
       "                        <td id=\"T_b8aa991c_8bc3_11eb_9287_3af9d350abc5row15_col2\" class=\"data row15 col2\" >Rio Tinto Group</td>\n",
       "                        <td id=\"T_b8aa991c_8bc3_11eb_9287_3af9d350abc5row15_col3\" class=\"data row15 col3\" >negative</td>\n",
       "                        <td id=\"T_b8aa991c_8bc3_11eb_9287_3af9d350abc5row15_col4\" class=\"data row15 col4\" >447</td>\n",
       "            </tr>\n",
       "            <tr>\n",
       "                        <th id=\"T_b8aa991c_8bc3_11eb_9287_3af9d350abc5level0_row16\" class=\"row_heading level0 row16\" >16</th>\n",
       "                        <td id=\"T_b8aa991c_8bc3_11eb_9287_3af9d350abc5row16_col0\" class=\"data row16 col0\" >2020-07-01</td>\n",
       "                        <td id=\"T_b8aa991c_8bc3_11eb_9287_3af9d350abc5row16_col1\" class=\"data row16 col1\" >Corporate Controversy</td>\n",
       "                        <td id=\"T_b8aa991c_8bc3_11eb_9287_3af9d350abc5row16_col2\" class=\"data row16 col2\" >Rio Tinto Group</td>\n",
       "                        <td id=\"T_b8aa991c_8bc3_11eb_9287_3af9d350abc5row16_col3\" class=\"data row16 col3\" >neutral</td>\n",
       "                        <td id=\"T_b8aa991c_8bc3_11eb_9287_3af9d350abc5row16_col4\" class=\"data row16 col4\" >649</td>\n",
       "            </tr>\n",
       "            <tr>\n",
       "                        <th id=\"T_b8aa991c_8bc3_11eb_9287_3af9d350abc5level0_row17\" class=\"row_heading level0 row17\" >17</th>\n",
       "                        <td id=\"T_b8aa991c_8bc3_11eb_9287_3af9d350abc5row17_col0\" class=\"data row17 col0\" >2020-07-01</td>\n",
       "                        <td id=\"T_b8aa991c_8bc3_11eb_9287_3af9d350abc5row17_col1\" class=\"data row17 col1\" >Corporate Controversy</td>\n",
       "                        <td id=\"T_b8aa991c_8bc3_11eb_9287_3af9d350abc5row17_col2\" class=\"data row17 col2\" >Rio Tinto Group</td>\n",
       "                        <td id=\"T_b8aa991c_8bc3_11eb_9287_3af9d350abc5row17_col3\" class=\"data row17 col3\" >positive</td>\n",
       "                        <td id=\"T_b8aa991c_8bc3_11eb_9287_3af9d350abc5row17_col4\" class=\"data row17 col4\" >304</td>\n",
       "            </tr>\n",
       "            <tr>\n",
       "                        <th id=\"T_b8aa991c_8bc3_11eb_9287_3af9d350abc5level0_row18\" class=\"row_heading level0 row18\" >18</th>\n",
       "                        <td id=\"T_b8aa991c_8bc3_11eb_9287_3af9d350abc5row18_col0\" class=\"data row18 col0\" >2020-07-01</td>\n",
       "                        <td id=\"T_b8aa991c_8bc3_11eb_9287_3af9d350abc5row18_col1\" class=\"data row18 col1\" >Corporate Controversy</td>\n",
       "                        <td id=\"T_b8aa991c_8bc3_11eb_9287_3af9d350abc5row18_col2\" class=\"data row18 col2\" >Glencore</td>\n",
       "                        <td id=\"T_b8aa991c_8bc3_11eb_9287_3af9d350abc5row18_col3\" class=\"data row18 col3\" >negative</td>\n",
       "                        <td id=\"T_b8aa991c_8bc3_11eb_9287_3af9d350abc5row18_col4\" class=\"data row18 col4\" >205</td>\n",
       "            </tr>\n",
       "            <tr>\n",
       "                        <th id=\"T_b8aa991c_8bc3_11eb_9287_3af9d350abc5level0_row19\" class=\"row_heading level0 row19\" >19</th>\n",
       "                        <td id=\"T_b8aa991c_8bc3_11eb_9287_3af9d350abc5row19_col0\" class=\"data row19 col0\" >2020-07-01</td>\n",
       "                        <td id=\"T_b8aa991c_8bc3_11eb_9287_3af9d350abc5row19_col1\" class=\"data row19 col1\" >Corporate Controversy</td>\n",
       "                        <td id=\"T_b8aa991c_8bc3_11eb_9287_3af9d350abc5row19_col2\" class=\"data row19 col2\" >Glencore</td>\n",
       "                        <td id=\"T_b8aa991c_8bc3_11eb_9287_3af9d350abc5row19_col3\" class=\"data row19 col3\" >neutral</td>\n",
       "                        <td id=\"T_b8aa991c_8bc3_11eb_9287_3af9d350abc5row19_col4\" class=\"data row19 col4\" >451</td>\n",
       "            </tr>\n",
       "            <tr>\n",
       "                        <th id=\"T_b8aa991c_8bc3_11eb_9287_3af9d350abc5level0_row20\" class=\"row_heading level0 row20\" >20</th>\n",
       "                        <td id=\"T_b8aa991c_8bc3_11eb_9287_3af9d350abc5row20_col0\" class=\"data row20 col0\" >2020-07-01</td>\n",
       "                        <td id=\"T_b8aa991c_8bc3_11eb_9287_3af9d350abc5row20_col1\" class=\"data row20 col1\" >Corporate Controversy</td>\n",
       "                        <td id=\"T_b8aa991c_8bc3_11eb_9287_3af9d350abc5row20_col2\" class=\"data row20 col2\" >Glencore</td>\n",
       "                        <td id=\"T_b8aa991c_8bc3_11eb_9287_3af9d350abc5row20_col3\" class=\"data row20 col3\" >positive</td>\n",
       "                        <td id=\"T_b8aa991c_8bc3_11eb_9287_3af9d350abc5row20_col4\" class=\"data row20 col4\" >293</td>\n",
       "            </tr>\n",
       "            <tr>\n",
       "                        <th id=\"T_b8aa991c_8bc3_11eb_9287_3af9d350abc5level0_row21\" class=\"row_heading level0 row21\" >21</th>\n",
       "                        <td id=\"T_b8aa991c_8bc3_11eb_9287_3af9d350abc5row21_col0\" class=\"data row21 col0\" >2020-07-01</td>\n",
       "                        <td id=\"T_b8aa991c_8bc3_11eb_9287_3af9d350abc5row21_col1\" class=\"data row21 col1\" >Corporate Controversy</td>\n",
       "                        <td id=\"T_b8aa991c_8bc3_11eb_9287_3af9d350abc5row21_col2\" class=\"data row21 col2\" >Anglo American plc</td>\n",
       "                        <td id=\"T_b8aa991c_8bc3_11eb_9287_3af9d350abc5row21_col3\" class=\"data row21 col3\" >negative</td>\n",
       "                        <td id=\"T_b8aa991c_8bc3_11eb_9287_3af9d350abc5row21_col4\" class=\"data row21 col4\" >34</td>\n",
       "            </tr>\n",
       "            <tr>\n",
       "                        <th id=\"T_b8aa991c_8bc3_11eb_9287_3af9d350abc5level0_row22\" class=\"row_heading level0 row22\" >22</th>\n",
       "                        <td id=\"T_b8aa991c_8bc3_11eb_9287_3af9d350abc5row22_col0\" class=\"data row22 col0\" >2020-07-01</td>\n",
       "                        <td id=\"T_b8aa991c_8bc3_11eb_9287_3af9d350abc5row22_col1\" class=\"data row22 col1\" >Corporate Controversy</td>\n",
       "                        <td id=\"T_b8aa991c_8bc3_11eb_9287_3af9d350abc5row22_col2\" class=\"data row22 col2\" >Anglo American plc</td>\n",
       "                        <td id=\"T_b8aa991c_8bc3_11eb_9287_3af9d350abc5row22_col3\" class=\"data row22 col3\" >neutral</td>\n",
       "                        <td id=\"T_b8aa991c_8bc3_11eb_9287_3af9d350abc5row22_col4\" class=\"data row22 col4\" >234</td>\n",
       "            </tr>\n",
       "            <tr>\n",
       "                        <th id=\"T_b8aa991c_8bc3_11eb_9287_3af9d350abc5level0_row23\" class=\"row_heading level0 row23\" >23</th>\n",
       "                        <td id=\"T_b8aa991c_8bc3_11eb_9287_3af9d350abc5row23_col0\" class=\"data row23 col0\" >2020-07-01</td>\n",
       "                        <td id=\"T_b8aa991c_8bc3_11eb_9287_3af9d350abc5row23_col1\" class=\"data row23 col1\" >Corporate Controversy</td>\n",
       "                        <td id=\"T_b8aa991c_8bc3_11eb_9287_3af9d350abc5row23_col2\" class=\"data row23 col2\" >Anglo American plc</td>\n",
       "                        <td id=\"T_b8aa991c_8bc3_11eb_9287_3af9d350abc5row23_col3\" class=\"data row23 col3\" >positive</td>\n",
       "                        <td id=\"T_b8aa991c_8bc3_11eb_9287_3af9d350abc5row23_col4\" class=\"data row23 col4\" >63</td>\n",
       "            </tr>\n",
       "            <tr>\n",
       "                        <th id=\"T_b8aa991c_8bc3_11eb_9287_3af9d350abc5level0_row24\" class=\"row_heading level0 row24\" >24</th>\n",
       "                        <td id=\"T_b8aa991c_8bc3_11eb_9287_3af9d350abc5row24_col0\" class=\"data row24 col0\" >2020-07-01</td>\n",
       "                        <td id=\"T_b8aa991c_8bc3_11eb_9287_3af9d350abc5row24_col1\" class=\"data row24 col1\" >Sustainability</td>\n",
       "                        <td id=\"T_b8aa991c_8bc3_11eb_9287_3af9d350abc5row24_col2\" class=\"data row24 col2\" >BHP</td>\n",
       "                        <td id=\"T_b8aa991c_8bc3_11eb_9287_3af9d350abc5row24_col3\" class=\"data row24 col3\" >negative</td>\n",
       "                        <td id=\"T_b8aa991c_8bc3_11eb_9287_3af9d350abc5row24_col4\" class=\"data row24 col4\" >12</td>\n",
       "            </tr>\n",
       "            <tr>\n",
       "                        <th id=\"T_b8aa991c_8bc3_11eb_9287_3af9d350abc5level0_row25\" class=\"row_heading level0 row25\" >25</th>\n",
       "                        <td id=\"T_b8aa991c_8bc3_11eb_9287_3af9d350abc5row25_col0\" class=\"data row25 col0\" >2020-07-01</td>\n",
       "                        <td id=\"T_b8aa991c_8bc3_11eb_9287_3af9d350abc5row25_col1\" class=\"data row25 col1\" >Sustainability</td>\n",
       "                        <td id=\"T_b8aa991c_8bc3_11eb_9287_3af9d350abc5row25_col2\" class=\"data row25 col2\" >BHP</td>\n",
       "                        <td id=\"T_b8aa991c_8bc3_11eb_9287_3af9d350abc5row25_col3\" class=\"data row25 col3\" >neutral</td>\n",
       "                        <td id=\"T_b8aa991c_8bc3_11eb_9287_3af9d350abc5row25_col4\" class=\"data row25 col4\" >320</td>\n",
       "            </tr>\n",
       "            <tr>\n",
       "                        <th id=\"T_b8aa991c_8bc3_11eb_9287_3af9d350abc5level0_row26\" class=\"row_heading level0 row26\" >26</th>\n",
       "                        <td id=\"T_b8aa991c_8bc3_11eb_9287_3af9d350abc5row26_col0\" class=\"data row26 col0\" >2020-07-01</td>\n",
       "                        <td id=\"T_b8aa991c_8bc3_11eb_9287_3af9d350abc5row26_col1\" class=\"data row26 col1\" >Sustainability</td>\n",
       "                        <td id=\"T_b8aa991c_8bc3_11eb_9287_3af9d350abc5row26_col2\" class=\"data row26 col2\" >BHP</td>\n",
       "                        <td id=\"T_b8aa991c_8bc3_11eb_9287_3af9d350abc5row26_col3\" class=\"data row26 col3\" >positive</td>\n",
       "                        <td id=\"T_b8aa991c_8bc3_11eb_9287_3af9d350abc5row26_col4\" class=\"data row26 col4\" >155</td>\n",
       "            </tr>\n",
       "            <tr>\n",
       "                        <th id=\"T_b8aa991c_8bc3_11eb_9287_3af9d350abc5level0_row27\" class=\"row_heading level0 row27\" >27</th>\n",
       "                        <td id=\"T_b8aa991c_8bc3_11eb_9287_3af9d350abc5row27_col0\" class=\"data row27 col0\" >2020-07-01</td>\n",
       "                        <td id=\"T_b8aa991c_8bc3_11eb_9287_3af9d350abc5row27_col1\" class=\"data row27 col1\" >Sustainability</td>\n",
       "                        <td id=\"T_b8aa991c_8bc3_11eb_9287_3af9d350abc5row27_col2\" class=\"data row27 col2\" >Glencore</td>\n",
       "                        <td id=\"T_b8aa991c_8bc3_11eb_9287_3af9d350abc5row27_col3\" class=\"data row27 col3\" >negative</td>\n",
       "                        <td id=\"T_b8aa991c_8bc3_11eb_9287_3af9d350abc5row27_col4\" class=\"data row27 col4\" >113</td>\n",
       "            </tr>\n",
       "            <tr>\n",
       "                        <th id=\"T_b8aa991c_8bc3_11eb_9287_3af9d350abc5level0_row28\" class=\"row_heading level0 row28\" >28</th>\n",
       "                        <td id=\"T_b8aa991c_8bc3_11eb_9287_3af9d350abc5row28_col0\" class=\"data row28 col0\" >2020-07-01</td>\n",
       "                        <td id=\"T_b8aa991c_8bc3_11eb_9287_3af9d350abc5row28_col1\" class=\"data row28 col1\" >Sustainability</td>\n",
       "                        <td id=\"T_b8aa991c_8bc3_11eb_9287_3af9d350abc5row28_col2\" class=\"data row28 col2\" >Glencore</td>\n",
       "                        <td id=\"T_b8aa991c_8bc3_11eb_9287_3af9d350abc5row28_col3\" class=\"data row28 col3\" >neutral</td>\n",
       "                        <td id=\"T_b8aa991c_8bc3_11eb_9287_3af9d350abc5row28_col4\" class=\"data row28 col4\" >205</td>\n",
       "            </tr>\n",
       "            <tr>\n",
       "                        <th id=\"T_b8aa991c_8bc3_11eb_9287_3af9d350abc5level0_row29\" class=\"row_heading level0 row29\" >29</th>\n",
       "                        <td id=\"T_b8aa991c_8bc3_11eb_9287_3af9d350abc5row29_col0\" class=\"data row29 col0\" >2020-07-01</td>\n",
       "                        <td id=\"T_b8aa991c_8bc3_11eb_9287_3af9d350abc5row29_col1\" class=\"data row29 col1\" >Sustainability</td>\n",
       "                        <td id=\"T_b8aa991c_8bc3_11eb_9287_3af9d350abc5row29_col2\" class=\"data row29 col2\" >Glencore</td>\n",
       "                        <td id=\"T_b8aa991c_8bc3_11eb_9287_3af9d350abc5row29_col3\" class=\"data row29 col3\" >positive</td>\n",
       "                        <td id=\"T_b8aa991c_8bc3_11eb_9287_3af9d350abc5row29_col4\" class=\"data row29 col4\" >71</td>\n",
       "            </tr>\n",
       "            <tr>\n",
       "                        <th id=\"T_b8aa991c_8bc3_11eb_9287_3af9d350abc5level0_row30\" class=\"row_heading level0 row30\" >30</th>\n",
       "                        <td id=\"T_b8aa991c_8bc3_11eb_9287_3af9d350abc5row30_col0\" class=\"data row30 col0\" >2020-07-01</td>\n",
       "                        <td id=\"T_b8aa991c_8bc3_11eb_9287_3af9d350abc5row30_col1\" class=\"data row30 col1\" >Sustainability</td>\n",
       "                        <td id=\"T_b8aa991c_8bc3_11eb_9287_3af9d350abc5row30_col2\" class=\"data row30 col2\" >Rio Tinto Group</td>\n",
       "                        <td id=\"T_b8aa991c_8bc3_11eb_9287_3af9d350abc5row30_col3\" class=\"data row30 col3\" >negative</td>\n",
       "                        <td id=\"T_b8aa991c_8bc3_11eb_9287_3af9d350abc5row30_col4\" class=\"data row30 col4\" >105</td>\n",
       "            </tr>\n",
       "            <tr>\n",
       "                        <th id=\"T_b8aa991c_8bc3_11eb_9287_3af9d350abc5level0_row31\" class=\"row_heading level0 row31\" >31</th>\n",
       "                        <td id=\"T_b8aa991c_8bc3_11eb_9287_3af9d350abc5row31_col0\" class=\"data row31 col0\" >2020-07-01</td>\n",
       "                        <td id=\"T_b8aa991c_8bc3_11eb_9287_3af9d350abc5row31_col1\" class=\"data row31 col1\" >Sustainability</td>\n",
       "                        <td id=\"T_b8aa991c_8bc3_11eb_9287_3af9d350abc5row31_col2\" class=\"data row31 col2\" >Rio Tinto Group</td>\n",
       "                        <td id=\"T_b8aa991c_8bc3_11eb_9287_3af9d350abc5row31_col3\" class=\"data row31 col3\" >neutral</td>\n",
       "                        <td id=\"T_b8aa991c_8bc3_11eb_9287_3af9d350abc5row31_col4\" class=\"data row31 col4\" >150</td>\n",
       "            </tr>\n",
       "            <tr>\n",
       "                        <th id=\"T_b8aa991c_8bc3_11eb_9287_3af9d350abc5level0_row32\" class=\"row_heading level0 row32\" >32</th>\n",
       "                        <td id=\"T_b8aa991c_8bc3_11eb_9287_3af9d350abc5row32_col0\" class=\"data row32 col0\" >2020-07-01</td>\n",
       "                        <td id=\"T_b8aa991c_8bc3_11eb_9287_3af9d350abc5row32_col1\" class=\"data row32 col1\" >Sustainability</td>\n",
       "                        <td id=\"T_b8aa991c_8bc3_11eb_9287_3af9d350abc5row32_col2\" class=\"data row32 col2\" >Rio Tinto Group</td>\n",
       "                        <td id=\"T_b8aa991c_8bc3_11eb_9287_3af9d350abc5row32_col3\" class=\"data row32 col3\" >positive</td>\n",
       "                        <td id=\"T_b8aa991c_8bc3_11eb_9287_3af9d350abc5row32_col4\" class=\"data row32 col4\" >114</td>\n",
       "            </tr>\n",
       "            <tr>\n",
       "                        <th id=\"T_b8aa991c_8bc3_11eb_9287_3af9d350abc5level0_row33\" class=\"row_heading level0 row33\" >33</th>\n",
       "                        <td id=\"T_b8aa991c_8bc3_11eb_9287_3af9d350abc5row33_col0\" class=\"data row33 col0\" >2020-07-01</td>\n",
       "                        <td id=\"T_b8aa991c_8bc3_11eb_9287_3af9d350abc5row33_col1\" class=\"data row33 col1\" >Sustainability</td>\n",
       "                        <td id=\"T_b8aa991c_8bc3_11eb_9287_3af9d350abc5row33_col2\" class=\"data row33 col2\" >Anglo American plc</td>\n",
       "                        <td id=\"T_b8aa991c_8bc3_11eb_9287_3af9d350abc5row33_col3\" class=\"data row33 col3\" >negative</td>\n",
       "                        <td id=\"T_b8aa991c_8bc3_11eb_9287_3af9d350abc5row33_col4\" class=\"data row33 col4\" >3</td>\n",
       "            </tr>\n",
       "            <tr>\n",
       "                        <th id=\"T_b8aa991c_8bc3_11eb_9287_3af9d350abc5level0_row34\" class=\"row_heading level0 row34\" >34</th>\n",
       "                        <td id=\"T_b8aa991c_8bc3_11eb_9287_3af9d350abc5row34_col0\" class=\"data row34 col0\" >2020-07-01</td>\n",
       "                        <td id=\"T_b8aa991c_8bc3_11eb_9287_3af9d350abc5row34_col1\" class=\"data row34 col1\" >Sustainability</td>\n",
       "                        <td id=\"T_b8aa991c_8bc3_11eb_9287_3af9d350abc5row34_col2\" class=\"data row34 col2\" >Anglo American plc</td>\n",
       "                        <td id=\"T_b8aa991c_8bc3_11eb_9287_3af9d350abc5row34_col3\" class=\"data row34 col3\" >neutral</td>\n",
       "                        <td id=\"T_b8aa991c_8bc3_11eb_9287_3af9d350abc5row34_col4\" class=\"data row34 col4\" >25</td>\n",
       "            </tr>\n",
       "            <tr>\n",
       "                        <th id=\"T_b8aa991c_8bc3_11eb_9287_3af9d350abc5level0_row35\" class=\"row_heading level0 row35\" >35</th>\n",
       "                        <td id=\"T_b8aa991c_8bc3_11eb_9287_3af9d350abc5row35_col0\" class=\"data row35 col0\" >2020-07-01</td>\n",
       "                        <td id=\"T_b8aa991c_8bc3_11eb_9287_3af9d350abc5row35_col1\" class=\"data row35 col1\" >Sustainability</td>\n",
       "                        <td id=\"T_b8aa991c_8bc3_11eb_9287_3af9d350abc5row35_col2\" class=\"data row35 col2\" >Anglo American plc</td>\n",
       "                        <td id=\"T_b8aa991c_8bc3_11eb_9287_3af9d350abc5row35_col3\" class=\"data row35 col3\" >positive</td>\n",
       "                        <td id=\"T_b8aa991c_8bc3_11eb_9287_3af9d350abc5row35_col4\" class=\"data row35 col4\" >123</td>\n",
       "            </tr>\n",
       "            <tr>\n",
       "                        <th id=\"T_b8aa991c_8bc3_11eb_9287_3af9d350abc5level0_row36\" class=\"row_heading level0 row36\" >36</th>\n",
       "                        <td id=\"T_b8aa991c_8bc3_11eb_9287_3af9d350abc5row36_col0\" class=\"data row36 col0\" >2020-07-01</td>\n",
       "                        <td id=\"T_b8aa991c_8bc3_11eb_9287_3af9d350abc5row36_col1\" class=\"data row36 col1\" >Environmental Cleanup</td>\n",
       "                        <td id=\"T_b8aa991c_8bc3_11eb_9287_3af9d350abc5row36_col2\" class=\"data row36 col2\" >BHP</td>\n",
       "                        <td id=\"T_b8aa991c_8bc3_11eb_9287_3af9d350abc5row36_col3\" class=\"data row36 col3\" >negative</td>\n",
       "                        <td id=\"T_b8aa991c_8bc3_11eb_9287_3af9d350abc5row36_col4\" class=\"data row36 col4\" >106</td>\n",
       "            </tr>\n",
       "            <tr>\n",
       "                        <th id=\"T_b8aa991c_8bc3_11eb_9287_3af9d350abc5level0_row37\" class=\"row_heading level0 row37\" >37</th>\n",
       "                        <td id=\"T_b8aa991c_8bc3_11eb_9287_3af9d350abc5row37_col0\" class=\"data row37 col0\" >2020-07-01</td>\n",
       "                        <td id=\"T_b8aa991c_8bc3_11eb_9287_3af9d350abc5row37_col1\" class=\"data row37 col1\" >Environmental Cleanup</td>\n",
       "                        <td id=\"T_b8aa991c_8bc3_11eb_9287_3af9d350abc5row37_col2\" class=\"data row37 col2\" >BHP</td>\n",
       "                        <td id=\"T_b8aa991c_8bc3_11eb_9287_3af9d350abc5row37_col3\" class=\"data row37 col3\" >neutral</td>\n",
       "                        <td id=\"T_b8aa991c_8bc3_11eb_9287_3af9d350abc5row37_col4\" class=\"data row37 col4\" >274</td>\n",
       "            </tr>\n",
       "            <tr>\n",
       "                        <th id=\"T_b8aa991c_8bc3_11eb_9287_3af9d350abc5level0_row38\" class=\"row_heading level0 row38\" >38</th>\n",
       "                        <td id=\"T_b8aa991c_8bc3_11eb_9287_3af9d350abc5row38_col0\" class=\"data row38 col0\" >2020-07-01</td>\n",
       "                        <td id=\"T_b8aa991c_8bc3_11eb_9287_3af9d350abc5row38_col1\" class=\"data row38 col1\" >Environmental Cleanup</td>\n",
       "                        <td id=\"T_b8aa991c_8bc3_11eb_9287_3af9d350abc5row38_col2\" class=\"data row38 col2\" >BHP</td>\n",
       "                        <td id=\"T_b8aa991c_8bc3_11eb_9287_3af9d350abc5row38_col3\" class=\"data row38 col3\" >positive</td>\n",
       "                        <td id=\"T_b8aa991c_8bc3_11eb_9287_3af9d350abc5row38_col4\" class=\"data row38 col4\" >131</td>\n",
       "            </tr>\n",
       "            <tr>\n",
       "                        <th id=\"T_b8aa991c_8bc3_11eb_9287_3af9d350abc5level0_row39\" class=\"row_heading level0 row39\" >39</th>\n",
       "                        <td id=\"T_b8aa991c_8bc3_11eb_9287_3af9d350abc5row39_col0\" class=\"data row39 col0\" >2020-07-01</td>\n",
       "                        <td id=\"T_b8aa991c_8bc3_11eb_9287_3af9d350abc5row39_col1\" class=\"data row39 col1\" >Environmental Cleanup</td>\n",
       "                        <td id=\"T_b8aa991c_8bc3_11eb_9287_3af9d350abc5row39_col2\" class=\"data row39 col2\" >Rio Tinto Group</td>\n",
       "                        <td id=\"T_b8aa991c_8bc3_11eb_9287_3af9d350abc5row39_col3\" class=\"data row39 col3\" >negative</td>\n",
       "                        <td id=\"T_b8aa991c_8bc3_11eb_9287_3af9d350abc5row39_col4\" class=\"data row39 col4\" >75</td>\n",
       "            </tr>\n",
       "            <tr>\n",
       "                        <th id=\"T_b8aa991c_8bc3_11eb_9287_3af9d350abc5level0_row40\" class=\"row_heading level0 row40\" >40</th>\n",
       "                        <td id=\"T_b8aa991c_8bc3_11eb_9287_3af9d350abc5row40_col0\" class=\"data row40 col0\" >2020-07-01</td>\n",
       "                        <td id=\"T_b8aa991c_8bc3_11eb_9287_3af9d350abc5row40_col1\" class=\"data row40 col1\" >Environmental Cleanup</td>\n",
       "                        <td id=\"T_b8aa991c_8bc3_11eb_9287_3af9d350abc5row40_col2\" class=\"data row40 col2\" >Rio Tinto Group</td>\n",
       "                        <td id=\"T_b8aa991c_8bc3_11eb_9287_3af9d350abc5row40_col3\" class=\"data row40 col3\" >neutral</td>\n",
       "                        <td id=\"T_b8aa991c_8bc3_11eb_9287_3af9d350abc5row40_col4\" class=\"data row40 col4\" >155</td>\n",
       "            </tr>\n",
       "            <tr>\n",
       "                        <th id=\"T_b8aa991c_8bc3_11eb_9287_3af9d350abc5level0_row41\" class=\"row_heading level0 row41\" >41</th>\n",
       "                        <td id=\"T_b8aa991c_8bc3_11eb_9287_3af9d350abc5row41_col0\" class=\"data row41 col0\" >2020-07-01</td>\n",
       "                        <td id=\"T_b8aa991c_8bc3_11eb_9287_3af9d350abc5row41_col1\" class=\"data row41 col1\" >Environmental Cleanup</td>\n",
       "                        <td id=\"T_b8aa991c_8bc3_11eb_9287_3af9d350abc5row41_col2\" class=\"data row41 col2\" >Rio Tinto Group</td>\n",
       "                        <td id=\"T_b8aa991c_8bc3_11eb_9287_3af9d350abc5row41_col3\" class=\"data row41 col3\" >positive</td>\n",
       "                        <td id=\"T_b8aa991c_8bc3_11eb_9287_3af9d350abc5row41_col4\" class=\"data row41 col4\" >170</td>\n",
       "            </tr>\n",
       "            <tr>\n",
       "                        <th id=\"T_b8aa991c_8bc3_11eb_9287_3af9d350abc5level0_row42\" class=\"row_heading level0 row42\" >42</th>\n",
       "                        <td id=\"T_b8aa991c_8bc3_11eb_9287_3af9d350abc5row42_col0\" class=\"data row42 col0\" >2020-07-01</td>\n",
       "                        <td id=\"T_b8aa991c_8bc3_11eb_9287_3af9d350abc5row42_col1\" class=\"data row42 col1\" >Environmental Cleanup</td>\n",
       "                        <td id=\"T_b8aa991c_8bc3_11eb_9287_3af9d350abc5row42_col2\" class=\"data row42 col2\" >Anglo American plc</td>\n",
       "                        <td id=\"T_b8aa991c_8bc3_11eb_9287_3af9d350abc5row42_col3\" class=\"data row42 col3\" >negative</td>\n",
       "                        <td id=\"T_b8aa991c_8bc3_11eb_9287_3af9d350abc5row42_col4\" class=\"data row42 col4\" >44</td>\n",
       "            </tr>\n",
       "            <tr>\n",
       "                        <th id=\"T_b8aa991c_8bc3_11eb_9287_3af9d350abc5level0_row43\" class=\"row_heading level0 row43\" >43</th>\n",
       "                        <td id=\"T_b8aa991c_8bc3_11eb_9287_3af9d350abc5row43_col0\" class=\"data row43 col0\" >2020-07-01</td>\n",
       "                        <td id=\"T_b8aa991c_8bc3_11eb_9287_3af9d350abc5row43_col1\" class=\"data row43 col1\" >Environmental Cleanup</td>\n",
       "                        <td id=\"T_b8aa991c_8bc3_11eb_9287_3af9d350abc5row43_col2\" class=\"data row43 col2\" >Anglo American plc</td>\n",
       "                        <td id=\"T_b8aa991c_8bc3_11eb_9287_3af9d350abc5row43_col3\" class=\"data row43 col3\" >neutral</td>\n",
       "                        <td id=\"T_b8aa991c_8bc3_11eb_9287_3af9d350abc5row43_col4\" class=\"data row43 col4\" >89</td>\n",
       "            </tr>\n",
       "            <tr>\n",
       "                        <th id=\"T_b8aa991c_8bc3_11eb_9287_3af9d350abc5level0_row44\" class=\"row_heading level0 row44\" >44</th>\n",
       "                        <td id=\"T_b8aa991c_8bc3_11eb_9287_3af9d350abc5row44_col0\" class=\"data row44 col0\" >2020-07-01</td>\n",
       "                        <td id=\"T_b8aa991c_8bc3_11eb_9287_3af9d350abc5row44_col1\" class=\"data row44 col1\" >Environmental Cleanup</td>\n",
       "                        <td id=\"T_b8aa991c_8bc3_11eb_9287_3af9d350abc5row44_col2\" class=\"data row44 col2\" >Anglo American plc</td>\n",
       "                        <td id=\"T_b8aa991c_8bc3_11eb_9287_3af9d350abc5row44_col3\" class=\"data row44 col3\" >positive</td>\n",
       "                        <td id=\"T_b8aa991c_8bc3_11eb_9287_3af9d350abc5row44_col4\" class=\"data row44 col4\" >69</td>\n",
       "            </tr>\n",
       "            <tr>\n",
       "                        <th id=\"T_b8aa991c_8bc3_11eb_9287_3af9d350abc5level0_row45\" class=\"row_heading level0 row45\" >45</th>\n",
       "                        <td id=\"T_b8aa991c_8bc3_11eb_9287_3af9d350abc5row45_col0\" class=\"data row45 col0\" >2020-07-01</td>\n",
       "                        <td id=\"T_b8aa991c_8bc3_11eb_9287_3af9d350abc5row45_col1\" class=\"data row45 col1\" >Environmental Cleanup</td>\n",
       "                        <td id=\"T_b8aa991c_8bc3_11eb_9287_3af9d350abc5row45_col2\" class=\"data row45 col2\" >Glencore</td>\n",
       "                        <td id=\"T_b8aa991c_8bc3_11eb_9287_3af9d350abc5row45_col3\" class=\"data row45 col3\" >negative</td>\n",
       "                        <td id=\"T_b8aa991c_8bc3_11eb_9287_3af9d350abc5row45_col4\" class=\"data row45 col4\" >37</td>\n",
       "            </tr>\n",
       "            <tr>\n",
       "                        <th id=\"T_b8aa991c_8bc3_11eb_9287_3af9d350abc5level0_row46\" class=\"row_heading level0 row46\" >46</th>\n",
       "                        <td id=\"T_b8aa991c_8bc3_11eb_9287_3af9d350abc5row46_col0\" class=\"data row46 col0\" >2020-07-01</td>\n",
       "                        <td id=\"T_b8aa991c_8bc3_11eb_9287_3af9d350abc5row46_col1\" class=\"data row46 col1\" >Environmental Cleanup</td>\n",
       "                        <td id=\"T_b8aa991c_8bc3_11eb_9287_3af9d350abc5row46_col2\" class=\"data row46 col2\" >Glencore</td>\n",
       "                        <td id=\"T_b8aa991c_8bc3_11eb_9287_3af9d350abc5row46_col3\" class=\"data row46 col3\" >neutral</td>\n",
       "                        <td id=\"T_b8aa991c_8bc3_11eb_9287_3af9d350abc5row46_col4\" class=\"data row46 col4\" >110</td>\n",
       "            </tr>\n",
       "            <tr>\n",
       "                        <th id=\"T_b8aa991c_8bc3_11eb_9287_3af9d350abc5level0_row47\" class=\"row_heading level0 row47\" >47</th>\n",
       "                        <td id=\"T_b8aa991c_8bc3_11eb_9287_3af9d350abc5row47_col0\" class=\"data row47 col0\" >2020-07-01</td>\n",
       "                        <td id=\"T_b8aa991c_8bc3_11eb_9287_3af9d350abc5row47_col1\" class=\"data row47 col1\" >Environmental Cleanup</td>\n",
       "                        <td id=\"T_b8aa991c_8bc3_11eb_9287_3af9d350abc5row47_col2\" class=\"data row47 col2\" >Glencore</td>\n",
       "                        <td id=\"T_b8aa991c_8bc3_11eb_9287_3af9d350abc5row47_col3\" class=\"data row47 col3\" >positive</td>\n",
       "                        <td id=\"T_b8aa991c_8bc3_11eb_9287_3af9d350abc5row47_col4\" class=\"data row47 col4\" >42</td>\n",
       "            </tr>\n",
       "            <tr>\n",
       "                        <th id=\"T_b8aa991c_8bc3_11eb_9287_3af9d350abc5level0_row48\" class=\"row_heading level0 row48\" >48</th>\n",
       "                        <td id=\"T_b8aa991c_8bc3_11eb_9287_3af9d350abc5row48_col0\" class=\"data row48 col0\" >2020-08-01</td>\n",
       "                        <td id=\"T_b8aa991c_8bc3_11eb_9287_3af9d350abc5row48_col1\" class=\"data row48 col1\" >Chemicals</td>\n",
       "                        <td id=\"T_b8aa991c_8bc3_11eb_9287_3af9d350abc5row48_col2\" class=\"data row48 col2\" >Rio Tinto Group</td>\n",
       "                        <td id=\"T_b8aa991c_8bc3_11eb_9287_3af9d350abc5row48_col3\" class=\"data row48 col3\" >negative</td>\n",
       "                        <td id=\"T_b8aa991c_8bc3_11eb_9287_3af9d350abc5row48_col4\" class=\"data row48 col4\" >1129</td>\n",
       "            </tr>\n",
       "            <tr>\n",
       "                        <th id=\"T_b8aa991c_8bc3_11eb_9287_3af9d350abc5level0_row49\" class=\"row_heading level0 row49\" >49</th>\n",
       "                        <td id=\"T_b8aa991c_8bc3_11eb_9287_3af9d350abc5row49_col0\" class=\"data row49 col0\" >2020-08-01</td>\n",
       "                        <td id=\"T_b8aa991c_8bc3_11eb_9287_3af9d350abc5row49_col1\" class=\"data row49 col1\" >Chemicals</td>\n",
       "                        <td id=\"T_b8aa991c_8bc3_11eb_9287_3af9d350abc5row49_col2\" class=\"data row49 col2\" >Rio Tinto Group</td>\n",
       "                        <td id=\"T_b8aa991c_8bc3_11eb_9287_3af9d350abc5row49_col3\" class=\"data row49 col3\" >neutral</td>\n",
       "                        <td id=\"T_b8aa991c_8bc3_11eb_9287_3af9d350abc5row49_col4\" class=\"data row49 col4\" >2747</td>\n",
       "            </tr>\n",
       "            <tr>\n",
       "                        <th id=\"T_b8aa991c_8bc3_11eb_9287_3af9d350abc5level0_row50\" class=\"row_heading level0 row50\" >50</th>\n",
       "                        <td id=\"T_b8aa991c_8bc3_11eb_9287_3af9d350abc5row50_col0\" class=\"data row50 col0\" >2020-08-01</td>\n",
       "                        <td id=\"T_b8aa991c_8bc3_11eb_9287_3af9d350abc5row50_col1\" class=\"data row50 col1\" >Chemicals</td>\n",
       "                        <td id=\"T_b8aa991c_8bc3_11eb_9287_3af9d350abc5row50_col2\" class=\"data row50 col2\" >Rio Tinto Group</td>\n",
       "                        <td id=\"T_b8aa991c_8bc3_11eb_9287_3af9d350abc5row50_col3\" class=\"data row50 col3\" >positive</td>\n",
       "                        <td id=\"T_b8aa991c_8bc3_11eb_9287_3af9d350abc5row50_col4\" class=\"data row50 col4\" >2750</td>\n",
       "            </tr>\n",
       "            <tr>\n",
       "                        <th id=\"T_b8aa991c_8bc3_11eb_9287_3af9d350abc5level0_row51\" class=\"row_heading level0 row51\" >51</th>\n",
       "                        <td id=\"T_b8aa991c_8bc3_11eb_9287_3af9d350abc5row51_col0\" class=\"data row51 col0\" >2020-08-01</td>\n",
       "                        <td id=\"T_b8aa991c_8bc3_11eb_9287_3af9d350abc5row51_col1\" class=\"data row51 col1\" >Chemicals</td>\n",
       "                        <td id=\"T_b8aa991c_8bc3_11eb_9287_3af9d350abc5row51_col2\" class=\"data row51 col2\" >BHP</td>\n",
       "                        <td id=\"T_b8aa991c_8bc3_11eb_9287_3af9d350abc5row51_col3\" class=\"data row51 col3\" >negative</td>\n",
       "                        <td id=\"T_b8aa991c_8bc3_11eb_9287_3af9d350abc5row51_col4\" class=\"data row51 col4\" >535</td>\n",
       "            </tr>\n",
       "            <tr>\n",
       "                        <th id=\"T_b8aa991c_8bc3_11eb_9287_3af9d350abc5level0_row52\" class=\"row_heading level0 row52\" >52</th>\n",
       "                        <td id=\"T_b8aa991c_8bc3_11eb_9287_3af9d350abc5row52_col0\" class=\"data row52 col0\" >2020-08-01</td>\n",
       "                        <td id=\"T_b8aa991c_8bc3_11eb_9287_3af9d350abc5row52_col1\" class=\"data row52 col1\" >Chemicals</td>\n",
       "                        <td id=\"T_b8aa991c_8bc3_11eb_9287_3af9d350abc5row52_col2\" class=\"data row52 col2\" >BHP</td>\n",
       "                        <td id=\"T_b8aa991c_8bc3_11eb_9287_3af9d350abc5row52_col3\" class=\"data row52 col3\" >neutral</td>\n",
       "                        <td id=\"T_b8aa991c_8bc3_11eb_9287_3af9d350abc5row52_col4\" class=\"data row52 col4\" >2260</td>\n",
       "            </tr>\n",
       "            <tr>\n",
       "                        <th id=\"T_b8aa991c_8bc3_11eb_9287_3af9d350abc5level0_row53\" class=\"row_heading level0 row53\" >53</th>\n",
       "                        <td id=\"T_b8aa991c_8bc3_11eb_9287_3af9d350abc5row53_col0\" class=\"data row53 col0\" >2020-08-01</td>\n",
       "                        <td id=\"T_b8aa991c_8bc3_11eb_9287_3af9d350abc5row53_col1\" class=\"data row53 col1\" >Chemicals</td>\n",
       "                        <td id=\"T_b8aa991c_8bc3_11eb_9287_3af9d350abc5row53_col2\" class=\"data row53 col2\" >BHP</td>\n",
       "                        <td id=\"T_b8aa991c_8bc3_11eb_9287_3af9d350abc5row53_col3\" class=\"data row53 col3\" >positive</td>\n",
       "                        <td id=\"T_b8aa991c_8bc3_11eb_9287_3af9d350abc5row53_col4\" class=\"data row53 col4\" >2458</td>\n",
       "            </tr>\n",
       "            <tr>\n",
       "                        <th id=\"T_b8aa991c_8bc3_11eb_9287_3af9d350abc5level0_row54\" class=\"row_heading level0 row54\" >54</th>\n",
       "                        <td id=\"T_b8aa991c_8bc3_11eb_9287_3af9d350abc5row54_col0\" class=\"data row54 col0\" >2020-08-01</td>\n",
       "                        <td id=\"T_b8aa991c_8bc3_11eb_9287_3af9d350abc5row54_col1\" class=\"data row54 col1\" >Chemicals</td>\n",
       "                        <td id=\"T_b8aa991c_8bc3_11eb_9287_3af9d350abc5row54_col2\" class=\"data row54 col2\" >Anglo American plc</td>\n",
       "                        <td id=\"T_b8aa991c_8bc3_11eb_9287_3af9d350abc5row54_col3\" class=\"data row54 col3\" >negative</td>\n",
       "                        <td id=\"T_b8aa991c_8bc3_11eb_9287_3af9d350abc5row54_col4\" class=\"data row54 col4\" >179</td>\n",
       "            </tr>\n",
       "            <tr>\n",
       "                        <th id=\"T_b8aa991c_8bc3_11eb_9287_3af9d350abc5level0_row55\" class=\"row_heading level0 row55\" >55</th>\n",
       "                        <td id=\"T_b8aa991c_8bc3_11eb_9287_3af9d350abc5row55_col0\" class=\"data row55 col0\" >2020-08-01</td>\n",
       "                        <td id=\"T_b8aa991c_8bc3_11eb_9287_3af9d350abc5row55_col1\" class=\"data row55 col1\" >Chemicals</td>\n",
       "                        <td id=\"T_b8aa991c_8bc3_11eb_9287_3af9d350abc5row55_col2\" class=\"data row55 col2\" >Anglo American plc</td>\n",
       "                        <td id=\"T_b8aa991c_8bc3_11eb_9287_3af9d350abc5row55_col3\" class=\"data row55 col3\" >neutral</td>\n",
       "                        <td id=\"T_b8aa991c_8bc3_11eb_9287_3af9d350abc5row55_col4\" class=\"data row55 col4\" >1257</td>\n",
       "            </tr>\n",
       "            <tr>\n",
       "                        <th id=\"T_b8aa991c_8bc3_11eb_9287_3af9d350abc5level0_row56\" class=\"row_heading level0 row56\" >56</th>\n",
       "                        <td id=\"T_b8aa991c_8bc3_11eb_9287_3af9d350abc5row56_col0\" class=\"data row56 col0\" >2020-08-01</td>\n",
       "                        <td id=\"T_b8aa991c_8bc3_11eb_9287_3af9d350abc5row56_col1\" class=\"data row56 col1\" >Chemicals</td>\n",
       "                        <td id=\"T_b8aa991c_8bc3_11eb_9287_3af9d350abc5row56_col2\" class=\"data row56 col2\" >Anglo American plc</td>\n",
       "                        <td id=\"T_b8aa991c_8bc3_11eb_9287_3af9d350abc5row56_col3\" class=\"data row56 col3\" >positive</td>\n",
       "                        <td id=\"T_b8aa991c_8bc3_11eb_9287_3af9d350abc5row56_col4\" class=\"data row56 col4\" >1442</td>\n",
       "            </tr>\n",
       "            <tr>\n",
       "                        <th id=\"T_b8aa991c_8bc3_11eb_9287_3af9d350abc5level0_row57\" class=\"row_heading level0 row57\" >57</th>\n",
       "                        <td id=\"T_b8aa991c_8bc3_11eb_9287_3af9d350abc5row57_col0\" class=\"data row57 col0\" >2020-08-01</td>\n",
       "                        <td id=\"T_b8aa991c_8bc3_11eb_9287_3af9d350abc5row57_col1\" class=\"data row57 col1\" >Chemicals</td>\n",
       "                        <td id=\"T_b8aa991c_8bc3_11eb_9287_3af9d350abc5row57_col2\" class=\"data row57 col2\" >Glencore</td>\n",
       "                        <td id=\"T_b8aa991c_8bc3_11eb_9287_3af9d350abc5row57_col3\" class=\"data row57 col3\" >negative</td>\n",
       "                        <td id=\"T_b8aa991c_8bc3_11eb_9287_3af9d350abc5row57_col4\" class=\"data row57 col4\" >337</td>\n",
       "            </tr>\n",
       "            <tr>\n",
       "                        <th id=\"T_b8aa991c_8bc3_11eb_9287_3af9d350abc5level0_row58\" class=\"row_heading level0 row58\" >58</th>\n",
       "                        <td id=\"T_b8aa991c_8bc3_11eb_9287_3af9d350abc5row58_col0\" class=\"data row58 col0\" >2020-08-01</td>\n",
       "                        <td id=\"T_b8aa991c_8bc3_11eb_9287_3af9d350abc5row58_col1\" class=\"data row58 col1\" >Chemicals</td>\n",
       "                        <td id=\"T_b8aa991c_8bc3_11eb_9287_3af9d350abc5row58_col2\" class=\"data row58 col2\" >Glencore</td>\n",
       "                        <td id=\"T_b8aa991c_8bc3_11eb_9287_3af9d350abc5row58_col3\" class=\"data row58 col3\" >neutral</td>\n",
       "                        <td id=\"T_b8aa991c_8bc3_11eb_9287_3af9d350abc5row58_col4\" class=\"data row58 col4\" >1455</td>\n",
       "            </tr>\n",
       "            <tr>\n",
       "                        <th id=\"T_b8aa991c_8bc3_11eb_9287_3af9d350abc5level0_row59\" class=\"row_heading level0 row59\" >59</th>\n",
       "                        <td id=\"T_b8aa991c_8bc3_11eb_9287_3af9d350abc5row59_col0\" class=\"data row59 col0\" >2020-08-01</td>\n",
       "                        <td id=\"T_b8aa991c_8bc3_11eb_9287_3af9d350abc5row59_col1\" class=\"data row59 col1\" >Chemicals</td>\n",
       "                        <td id=\"T_b8aa991c_8bc3_11eb_9287_3af9d350abc5row59_col2\" class=\"data row59 col2\" >Glencore</td>\n",
       "                        <td id=\"T_b8aa991c_8bc3_11eb_9287_3af9d350abc5row59_col3\" class=\"data row59 col3\" >positive</td>\n",
       "                        <td id=\"T_b8aa991c_8bc3_11eb_9287_3af9d350abc5row59_col4\" class=\"data row59 col4\" >1117</td>\n",
       "            </tr>\n",
       "            <tr>\n",
       "                        <th id=\"T_b8aa991c_8bc3_11eb_9287_3af9d350abc5level0_row60\" class=\"row_heading level0 row60\" >60</th>\n",
       "                        <td id=\"T_b8aa991c_8bc3_11eb_9287_3af9d350abc5row60_col0\" class=\"data row60 col0\" >2020-08-01</td>\n",
       "                        <td id=\"T_b8aa991c_8bc3_11eb_9287_3af9d350abc5row60_col1\" class=\"data row60 col1\" >Corporate Controversy</td>\n",
       "                        <td id=\"T_b8aa991c_8bc3_11eb_9287_3af9d350abc5row60_col2\" class=\"data row60 col2\" >Rio Tinto Group</td>\n",
       "                        <td id=\"T_b8aa991c_8bc3_11eb_9287_3af9d350abc5row60_col3\" class=\"data row60 col3\" >negative</td>\n",
       "                        <td id=\"T_b8aa991c_8bc3_11eb_9287_3af9d350abc5row60_col4\" class=\"data row60 col4\" >789</td>\n",
       "            </tr>\n",
       "            <tr>\n",
       "                        <th id=\"T_b8aa991c_8bc3_11eb_9287_3af9d350abc5level0_row61\" class=\"row_heading level0 row61\" >61</th>\n",
       "                        <td id=\"T_b8aa991c_8bc3_11eb_9287_3af9d350abc5row61_col0\" class=\"data row61 col0\" >2020-08-01</td>\n",
       "                        <td id=\"T_b8aa991c_8bc3_11eb_9287_3af9d350abc5row61_col1\" class=\"data row61 col1\" >Corporate Controversy</td>\n",
       "                        <td id=\"T_b8aa991c_8bc3_11eb_9287_3af9d350abc5row61_col2\" class=\"data row61 col2\" >Rio Tinto Group</td>\n",
       "                        <td id=\"T_b8aa991c_8bc3_11eb_9287_3af9d350abc5row61_col3\" class=\"data row61 col3\" >neutral</td>\n",
       "                        <td id=\"T_b8aa991c_8bc3_11eb_9287_3af9d350abc5row61_col4\" class=\"data row61 col4\" >1055</td>\n",
       "            </tr>\n",
       "            <tr>\n",
       "                        <th id=\"T_b8aa991c_8bc3_11eb_9287_3af9d350abc5level0_row62\" class=\"row_heading level0 row62\" >62</th>\n",
       "                        <td id=\"T_b8aa991c_8bc3_11eb_9287_3af9d350abc5row62_col0\" class=\"data row62 col0\" >2020-08-01</td>\n",
       "                        <td id=\"T_b8aa991c_8bc3_11eb_9287_3af9d350abc5row62_col1\" class=\"data row62 col1\" >Corporate Controversy</td>\n",
       "                        <td id=\"T_b8aa991c_8bc3_11eb_9287_3af9d350abc5row62_col2\" class=\"data row62 col2\" >Rio Tinto Group</td>\n",
       "                        <td id=\"T_b8aa991c_8bc3_11eb_9287_3af9d350abc5row62_col3\" class=\"data row62 col3\" >positive</td>\n",
       "                        <td id=\"T_b8aa991c_8bc3_11eb_9287_3af9d350abc5row62_col4\" class=\"data row62 col4\" >591</td>\n",
       "            </tr>\n",
       "            <tr>\n",
       "                        <th id=\"T_b8aa991c_8bc3_11eb_9287_3af9d350abc5level0_row63\" class=\"row_heading level0 row63\" >63</th>\n",
       "                        <td id=\"T_b8aa991c_8bc3_11eb_9287_3af9d350abc5row63_col0\" class=\"data row63 col0\" >2020-08-01</td>\n",
       "                        <td id=\"T_b8aa991c_8bc3_11eb_9287_3af9d350abc5row63_col1\" class=\"data row63 col1\" >Corporate Controversy</td>\n",
       "                        <td id=\"T_b8aa991c_8bc3_11eb_9287_3af9d350abc5row63_col2\" class=\"data row63 col2\" >Glencore</td>\n",
       "                        <td id=\"T_b8aa991c_8bc3_11eb_9287_3af9d350abc5row63_col3\" class=\"data row63 col3\" >negative</td>\n",
       "                        <td id=\"T_b8aa991c_8bc3_11eb_9287_3af9d350abc5row63_col4\" class=\"data row63 col4\" >228</td>\n",
       "            </tr>\n",
       "            <tr>\n",
       "                        <th id=\"T_b8aa991c_8bc3_11eb_9287_3af9d350abc5level0_row64\" class=\"row_heading level0 row64\" >64</th>\n",
       "                        <td id=\"T_b8aa991c_8bc3_11eb_9287_3af9d350abc5row64_col0\" class=\"data row64 col0\" >2020-08-01</td>\n",
       "                        <td id=\"T_b8aa991c_8bc3_11eb_9287_3af9d350abc5row64_col1\" class=\"data row64 col1\" >Corporate Controversy</td>\n",
       "                        <td id=\"T_b8aa991c_8bc3_11eb_9287_3af9d350abc5row64_col2\" class=\"data row64 col2\" >Glencore</td>\n",
       "                        <td id=\"T_b8aa991c_8bc3_11eb_9287_3af9d350abc5row64_col3\" class=\"data row64 col3\" >neutral</td>\n",
       "                        <td id=\"T_b8aa991c_8bc3_11eb_9287_3af9d350abc5row64_col4\" class=\"data row64 col4\" >544</td>\n",
       "            </tr>\n",
       "            <tr>\n",
       "                        <th id=\"T_b8aa991c_8bc3_11eb_9287_3af9d350abc5level0_row65\" class=\"row_heading level0 row65\" >65</th>\n",
       "                        <td id=\"T_b8aa991c_8bc3_11eb_9287_3af9d350abc5row65_col0\" class=\"data row65 col0\" >2020-08-01</td>\n",
       "                        <td id=\"T_b8aa991c_8bc3_11eb_9287_3af9d350abc5row65_col1\" class=\"data row65 col1\" >Corporate Controversy</td>\n",
       "                        <td id=\"T_b8aa991c_8bc3_11eb_9287_3af9d350abc5row65_col2\" class=\"data row65 col2\" >Glencore</td>\n",
       "                        <td id=\"T_b8aa991c_8bc3_11eb_9287_3af9d350abc5row65_col3\" class=\"data row65 col3\" >positive</td>\n",
       "                        <td id=\"T_b8aa991c_8bc3_11eb_9287_3af9d350abc5row65_col4\" class=\"data row65 col4\" >110</td>\n",
       "            </tr>\n",
       "            <tr>\n",
       "                        <th id=\"T_b8aa991c_8bc3_11eb_9287_3af9d350abc5level0_row66\" class=\"row_heading level0 row66\" >66</th>\n",
       "                        <td id=\"T_b8aa991c_8bc3_11eb_9287_3af9d350abc5row66_col0\" class=\"data row66 col0\" >2020-08-01</td>\n",
       "                        <td id=\"T_b8aa991c_8bc3_11eb_9287_3af9d350abc5row66_col1\" class=\"data row66 col1\" >Corporate Controversy</td>\n",
       "                        <td id=\"T_b8aa991c_8bc3_11eb_9287_3af9d350abc5row66_col2\" class=\"data row66 col2\" >BHP</td>\n",
       "                        <td id=\"T_b8aa991c_8bc3_11eb_9287_3af9d350abc5row66_col3\" class=\"data row66 col3\" >negative</td>\n",
       "                        <td id=\"T_b8aa991c_8bc3_11eb_9287_3af9d350abc5row66_col4\" class=\"data row66 col4\" >184</td>\n",
       "            </tr>\n",
       "            <tr>\n",
       "                        <th id=\"T_b8aa991c_8bc3_11eb_9287_3af9d350abc5level0_row67\" class=\"row_heading level0 row67\" >67</th>\n",
       "                        <td id=\"T_b8aa991c_8bc3_11eb_9287_3af9d350abc5row67_col0\" class=\"data row67 col0\" >2020-08-01</td>\n",
       "                        <td id=\"T_b8aa991c_8bc3_11eb_9287_3af9d350abc5row67_col1\" class=\"data row67 col1\" >Corporate Controversy</td>\n",
       "                        <td id=\"T_b8aa991c_8bc3_11eb_9287_3af9d350abc5row67_col2\" class=\"data row67 col2\" >BHP</td>\n",
       "                        <td id=\"T_b8aa991c_8bc3_11eb_9287_3af9d350abc5row67_col3\" class=\"data row67 col3\" >neutral</td>\n",
       "                        <td id=\"T_b8aa991c_8bc3_11eb_9287_3af9d350abc5row67_col4\" class=\"data row67 col4\" >413</td>\n",
       "            </tr>\n",
       "            <tr>\n",
       "                        <th id=\"T_b8aa991c_8bc3_11eb_9287_3af9d350abc5level0_row68\" class=\"row_heading level0 row68\" >68</th>\n",
       "                        <td id=\"T_b8aa991c_8bc3_11eb_9287_3af9d350abc5row68_col0\" class=\"data row68 col0\" >2020-08-01</td>\n",
       "                        <td id=\"T_b8aa991c_8bc3_11eb_9287_3af9d350abc5row68_col1\" class=\"data row68 col1\" >Corporate Controversy</td>\n",
       "                        <td id=\"T_b8aa991c_8bc3_11eb_9287_3af9d350abc5row68_col2\" class=\"data row68 col2\" >BHP</td>\n",
       "                        <td id=\"T_b8aa991c_8bc3_11eb_9287_3af9d350abc5row68_col3\" class=\"data row68 col3\" >positive</td>\n",
       "                        <td id=\"T_b8aa991c_8bc3_11eb_9287_3af9d350abc5row68_col4\" class=\"data row68 col4\" >199</td>\n",
       "            </tr>\n",
       "            <tr>\n",
       "                        <th id=\"T_b8aa991c_8bc3_11eb_9287_3af9d350abc5level0_row69\" class=\"row_heading level0 row69\" >69</th>\n",
       "                        <td id=\"T_b8aa991c_8bc3_11eb_9287_3af9d350abc5row69_col0\" class=\"data row69 col0\" >2020-08-01</td>\n",
       "                        <td id=\"T_b8aa991c_8bc3_11eb_9287_3af9d350abc5row69_col1\" class=\"data row69 col1\" >Corporate Controversy</td>\n",
       "                        <td id=\"T_b8aa991c_8bc3_11eb_9287_3af9d350abc5row69_col2\" class=\"data row69 col2\" >Anglo American plc</td>\n",
       "                        <td id=\"T_b8aa991c_8bc3_11eb_9287_3af9d350abc5row69_col3\" class=\"data row69 col3\" >negative</td>\n",
       "                        <td id=\"T_b8aa991c_8bc3_11eb_9287_3af9d350abc5row69_col4\" class=\"data row69 col4\" >153</td>\n",
       "            </tr>\n",
       "            <tr>\n",
       "                        <th id=\"T_b8aa991c_8bc3_11eb_9287_3af9d350abc5level0_row70\" class=\"row_heading level0 row70\" >70</th>\n",
       "                        <td id=\"T_b8aa991c_8bc3_11eb_9287_3af9d350abc5row70_col0\" class=\"data row70 col0\" >2020-08-01</td>\n",
       "                        <td id=\"T_b8aa991c_8bc3_11eb_9287_3af9d350abc5row70_col1\" class=\"data row70 col1\" >Corporate Controversy</td>\n",
       "                        <td id=\"T_b8aa991c_8bc3_11eb_9287_3af9d350abc5row70_col2\" class=\"data row70 col2\" >Anglo American plc</td>\n",
       "                        <td id=\"T_b8aa991c_8bc3_11eb_9287_3af9d350abc5row70_col3\" class=\"data row70 col3\" >neutral</td>\n",
       "                        <td id=\"T_b8aa991c_8bc3_11eb_9287_3af9d350abc5row70_col4\" class=\"data row70 col4\" >208</td>\n",
       "            </tr>\n",
       "            <tr>\n",
       "                        <th id=\"T_b8aa991c_8bc3_11eb_9287_3af9d350abc5level0_row71\" class=\"row_heading level0 row71\" >71</th>\n",
       "                        <td id=\"T_b8aa991c_8bc3_11eb_9287_3af9d350abc5row71_col0\" class=\"data row71 col0\" >2020-08-01</td>\n",
       "                        <td id=\"T_b8aa991c_8bc3_11eb_9287_3af9d350abc5row71_col1\" class=\"data row71 col1\" >Corporate Controversy</td>\n",
       "                        <td id=\"T_b8aa991c_8bc3_11eb_9287_3af9d350abc5row71_col2\" class=\"data row71 col2\" >Anglo American plc</td>\n",
       "                        <td id=\"T_b8aa991c_8bc3_11eb_9287_3af9d350abc5row71_col3\" class=\"data row71 col3\" >positive</td>\n",
       "                        <td id=\"T_b8aa991c_8bc3_11eb_9287_3af9d350abc5row71_col4\" class=\"data row71 col4\" >90</td>\n",
       "            </tr>\n",
       "            <tr>\n",
       "                        <th id=\"T_b8aa991c_8bc3_11eb_9287_3af9d350abc5level0_row72\" class=\"row_heading level0 row72\" >72</th>\n",
       "                        <td id=\"T_b8aa991c_8bc3_11eb_9287_3af9d350abc5row72_col0\" class=\"data row72 col0\" >2020-08-01</td>\n",
       "                        <td id=\"T_b8aa991c_8bc3_11eb_9287_3af9d350abc5row72_col1\" class=\"data row72 col1\" >Environmental Cleanup</td>\n",
       "                        <td id=\"T_b8aa991c_8bc3_11eb_9287_3af9d350abc5row72_col2\" class=\"data row72 col2\" >BHP</td>\n",
       "                        <td id=\"T_b8aa991c_8bc3_11eb_9287_3af9d350abc5row72_col3\" class=\"data row72 col3\" >negative</td>\n",
       "                        <td id=\"T_b8aa991c_8bc3_11eb_9287_3af9d350abc5row72_col4\" class=\"data row72 col4\" >85</td>\n",
       "            </tr>\n",
       "            <tr>\n",
       "                        <th id=\"T_b8aa991c_8bc3_11eb_9287_3af9d350abc5level0_row73\" class=\"row_heading level0 row73\" >73</th>\n",
       "                        <td id=\"T_b8aa991c_8bc3_11eb_9287_3af9d350abc5row73_col0\" class=\"data row73 col0\" >2020-08-01</td>\n",
       "                        <td id=\"T_b8aa991c_8bc3_11eb_9287_3af9d350abc5row73_col1\" class=\"data row73 col1\" >Environmental Cleanup</td>\n",
       "                        <td id=\"T_b8aa991c_8bc3_11eb_9287_3af9d350abc5row73_col2\" class=\"data row73 col2\" >BHP</td>\n",
       "                        <td id=\"T_b8aa991c_8bc3_11eb_9287_3af9d350abc5row73_col3\" class=\"data row73 col3\" >neutral</td>\n",
       "                        <td id=\"T_b8aa991c_8bc3_11eb_9287_3af9d350abc5row73_col4\" class=\"data row73 col4\" >182</td>\n",
       "            </tr>\n",
       "            <tr>\n",
       "                        <th id=\"T_b8aa991c_8bc3_11eb_9287_3af9d350abc5level0_row74\" class=\"row_heading level0 row74\" >74</th>\n",
       "                        <td id=\"T_b8aa991c_8bc3_11eb_9287_3af9d350abc5row74_col0\" class=\"data row74 col0\" >2020-08-01</td>\n",
       "                        <td id=\"T_b8aa991c_8bc3_11eb_9287_3af9d350abc5row74_col1\" class=\"data row74 col1\" >Environmental Cleanup</td>\n",
       "                        <td id=\"T_b8aa991c_8bc3_11eb_9287_3af9d350abc5row74_col2\" class=\"data row74 col2\" >BHP</td>\n",
       "                        <td id=\"T_b8aa991c_8bc3_11eb_9287_3af9d350abc5row74_col3\" class=\"data row74 col3\" >positive</td>\n",
       "                        <td id=\"T_b8aa991c_8bc3_11eb_9287_3af9d350abc5row74_col4\" class=\"data row74 col4\" >557</td>\n",
       "            </tr>\n",
       "            <tr>\n",
       "                        <th id=\"T_b8aa991c_8bc3_11eb_9287_3af9d350abc5level0_row75\" class=\"row_heading level0 row75\" >75</th>\n",
       "                        <td id=\"T_b8aa991c_8bc3_11eb_9287_3af9d350abc5row75_col0\" class=\"data row75 col0\" >2020-08-01</td>\n",
       "                        <td id=\"T_b8aa991c_8bc3_11eb_9287_3af9d350abc5row75_col1\" class=\"data row75 col1\" >Environmental Cleanup</td>\n",
       "                        <td id=\"T_b8aa991c_8bc3_11eb_9287_3af9d350abc5row75_col2\" class=\"data row75 col2\" >Rio Tinto Group</td>\n",
       "                        <td id=\"T_b8aa991c_8bc3_11eb_9287_3af9d350abc5row75_col3\" class=\"data row75 col3\" >negative</td>\n",
       "                        <td id=\"T_b8aa991c_8bc3_11eb_9287_3af9d350abc5row75_col4\" class=\"data row75 col4\" >59</td>\n",
       "            </tr>\n",
       "            <tr>\n",
       "                        <th id=\"T_b8aa991c_8bc3_11eb_9287_3af9d350abc5level0_row76\" class=\"row_heading level0 row76\" >76</th>\n",
       "                        <td id=\"T_b8aa991c_8bc3_11eb_9287_3af9d350abc5row76_col0\" class=\"data row76 col0\" >2020-08-01</td>\n",
       "                        <td id=\"T_b8aa991c_8bc3_11eb_9287_3af9d350abc5row76_col1\" class=\"data row76 col1\" >Environmental Cleanup</td>\n",
       "                        <td id=\"T_b8aa991c_8bc3_11eb_9287_3af9d350abc5row76_col2\" class=\"data row76 col2\" >Rio Tinto Group</td>\n",
       "                        <td id=\"T_b8aa991c_8bc3_11eb_9287_3af9d350abc5row76_col3\" class=\"data row76 col3\" >neutral</td>\n",
       "                        <td id=\"T_b8aa991c_8bc3_11eb_9287_3af9d350abc5row76_col4\" class=\"data row76 col4\" >503</td>\n",
       "            </tr>\n",
       "            <tr>\n",
       "                        <th id=\"T_b8aa991c_8bc3_11eb_9287_3af9d350abc5level0_row77\" class=\"row_heading level0 row77\" >77</th>\n",
       "                        <td id=\"T_b8aa991c_8bc3_11eb_9287_3af9d350abc5row77_col0\" class=\"data row77 col0\" >2020-08-01</td>\n",
       "                        <td id=\"T_b8aa991c_8bc3_11eb_9287_3af9d350abc5row77_col1\" class=\"data row77 col1\" >Environmental Cleanup</td>\n",
       "                        <td id=\"T_b8aa991c_8bc3_11eb_9287_3af9d350abc5row77_col2\" class=\"data row77 col2\" >Rio Tinto Group</td>\n",
       "                        <td id=\"T_b8aa991c_8bc3_11eb_9287_3af9d350abc5row77_col3\" class=\"data row77 col3\" >positive</td>\n",
       "                        <td id=\"T_b8aa991c_8bc3_11eb_9287_3af9d350abc5row77_col4\" class=\"data row77 col4\" >192</td>\n",
       "            </tr>\n",
       "            <tr>\n",
       "                        <th id=\"T_b8aa991c_8bc3_11eb_9287_3af9d350abc5level0_row78\" class=\"row_heading level0 row78\" >78</th>\n",
       "                        <td id=\"T_b8aa991c_8bc3_11eb_9287_3af9d350abc5row78_col0\" class=\"data row78 col0\" >2020-08-01</td>\n",
       "                        <td id=\"T_b8aa991c_8bc3_11eb_9287_3af9d350abc5row78_col1\" class=\"data row78 col1\" >Environmental Cleanup</td>\n",
       "                        <td id=\"T_b8aa991c_8bc3_11eb_9287_3af9d350abc5row78_col2\" class=\"data row78 col2\" >Anglo American plc</td>\n",
       "                        <td id=\"T_b8aa991c_8bc3_11eb_9287_3af9d350abc5row78_col3\" class=\"data row78 col3\" >negative</td>\n",
       "                        <td id=\"T_b8aa991c_8bc3_11eb_9287_3af9d350abc5row78_col4\" class=\"data row78 col4\" >40</td>\n",
       "            </tr>\n",
       "            <tr>\n",
       "                        <th id=\"T_b8aa991c_8bc3_11eb_9287_3af9d350abc5level0_row79\" class=\"row_heading level0 row79\" >79</th>\n",
       "                        <td id=\"T_b8aa991c_8bc3_11eb_9287_3af9d350abc5row79_col0\" class=\"data row79 col0\" >2020-08-01</td>\n",
       "                        <td id=\"T_b8aa991c_8bc3_11eb_9287_3af9d350abc5row79_col1\" class=\"data row79 col1\" >Environmental Cleanup</td>\n",
       "                        <td id=\"T_b8aa991c_8bc3_11eb_9287_3af9d350abc5row79_col2\" class=\"data row79 col2\" >Anglo American plc</td>\n",
       "                        <td id=\"T_b8aa991c_8bc3_11eb_9287_3af9d350abc5row79_col3\" class=\"data row79 col3\" >neutral</td>\n",
       "                        <td id=\"T_b8aa991c_8bc3_11eb_9287_3af9d350abc5row79_col4\" class=\"data row79 col4\" >52</td>\n",
       "            </tr>\n",
       "            <tr>\n",
       "                        <th id=\"T_b8aa991c_8bc3_11eb_9287_3af9d350abc5level0_row80\" class=\"row_heading level0 row80\" >80</th>\n",
       "                        <td id=\"T_b8aa991c_8bc3_11eb_9287_3af9d350abc5row80_col0\" class=\"data row80 col0\" >2020-08-01</td>\n",
       "                        <td id=\"T_b8aa991c_8bc3_11eb_9287_3af9d350abc5row80_col1\" class=\"data row80 col1\" >Environmental Cleanup</td>\n",
       "                        <td id=\"T_b8aa991c_8bc3_11eb_9287_3af9d350abc5row80_col2\" class=\"data row80 col2\" >Anglo American plc</td>\n",
       "                        <td id=\"T_b8aa991c_8bc3_11eb_9287_3af9d350abc5row80_col3\" class=\"data row80 col3\" >positive</td>\n",
       "                        <td id=\"T_b8aa991c_8bc3_11eb_9287_3af9d350abc5row80_col4\" class=\"data row80 col4\" >89</td>\n",
       "            </tr>\n",
       "            <tr>\n",
       "                        <th id=\"T_b8aa991c_8bc3_11eb_9287_3af9d350abc5level0_row81\" class=\"row_heading level0 row81\" >81</th>\n",
       "                        <td id=\"T_b8aa991c_8bc3_11eb_9287_3af9d350abc5row81_col0\" class=\"data row81 col0\" >2020-08-01</td>\n",
       "                        <td id=\"T_b8aa991c_8bc3_11eb_9287_3af9d350abc5row81_col1\" class=\"data row81 col1\" >Environmental Cleanup</td>\n",
       "                        <td id=\"T_b8aa991c_8bc3_11eb_9287_3af9d350abc5row81_col2\" class=\"data row81 col2\" >Glencore</td>\n",
       "                        <td id=\"T_b8aa991c_8bc3_11eb_9287_3af9d350abc5row81_col3\" class=\"data row81 col3\" >negative</td>\n",
       "                        <td id=\"T_b8aa991c_8bc3_11eb_9287_3af9d350abc5row81_col4\" class=\"data row81 col4\" >37</td>\n",
       "            </tr>\n",
       "            <tr>\n",
       "                        <th id=\"T_b8aa991c_8bc3_11eb_9287_3af9d350abc5level0_row82\" class=\"row_heading level0 row82\" >82</th>\n",
       "                        <td id=\"T_b8aa991c_8bc3_11eb_9287_3af9d350abc5row82_col0\" class=\"data row82 col0\" >2020-08-01</td>\n",
       "                        <td id=\"T_b8aa991c_8bc3_11eb_9287_3af9d350abc5row82_col1\" class=\"data row82 col1\" >Environmental Cleanup</td>\n",
       "                        <td id=\"T_b8aa991c_8bc3_11eb_9287_3af9d350abc5row82_col2\" class=\"data row82 col2\" >Glencore</td>\n",
       "                        <td id=\"T_b8aa991c_8bc3_11eb_9287_3af9d350abc5row82_col3\" class=\"data row82 col3\" >neutral</td>\n",
       "                        <td id=\"T_b8aa991c_8bc3_11eb_9287_3af9d350abc5row82_col4\" class=\"data row82 col4\" >105</td>\n",
       "            </tr>\n",
       "            <tr>\n",
       "                        <th id=\"T_b8aa991c_8bc3_11eb_9287_3af9d350abc5level0_row83\" class=\"row_heading level0 row83\" >83</th>\n",
       "                        <td id=\"T_b8aa991c_8bc3_11eb_9287_3af9d350abc5row83_col0\" class=\"data row83 col0\" >2020-08-01</td>\n",
       "                        <td id=\"T_b8aa991c_8bc3_11eb_9287_3af9d350abc5row83_col1\" class=\"data row83 col1\" >Environmental Cleanup</td>\n",
       "                        <td id=\"T_b8aa991c_8bc3_11eb_9287_3af9d350abc5row83_col2\" class=\"data row83 col2\" >Glencore</td>\n",
       "                        <td id=\"T_b8aa991c_8bc3_11eb_9287_3af9d350abc5row83_col3\" class=\"data row83 col3\" >positive</td>\n",
       "                        <td id=\"T_b8aa991c_8bc3_11eb_9287_3af9d350abc5row83_col4\" class=\"data row83 col4\" >32</td>\n",
       "            </tr>\n",
       "            <tr>\n",
       "                        <th id=\"T_b8aa991c_8bc3_11eb_9287_3af9d350abc5level0_row84\" class=\"row_heading level0 row84\" >84</th>\n",
       "                        <td id=\"T_b8aa991c_8bc3_11eb_9287_3af9d350abc5row84_col0\" class=\"data row84 col0\" >2020-08-01</td>\n",
       "                        <td id=\"T_b8aa991c_8bc3_11eb_9287_3af9d350abc5row84_col1\" class=\"data row84 col1\" >Sustainability</td>\n",
       "                        <td id=\"T_b8aa991c_8bc3_11eb_9287_3af9d350abc5row84_col2\" class=\"data row84 col2\" >BHP</td>\n",
       "                        <td id=\"T_b8aa991c_8bc3_11eb_9287_3af9d350abc5row84_col3\" class=\"data row84 col3\" >negative</td>\n",
       "                        <td id=\"T_b8aa991c_8bc3_11eb_9287_3af9d350abc5row84_col4\" class=\"data row84 col4\" >9</td>\n",
       "            </tr>\n",
       "            <tr>\n",
       "                        <th id=\"T_b8aa991c_8bc3_11eb_9287_3af9d350abc5level0_row85\" class=\"row_heading level0 row85\" >85</th>\n",
       "                        <td id=\"T_b8aa991c_8bc3_11eb_9287_3af9d350abc5row85_col0\" class=\"data row85 col0\" >2020-08-01</td>\n",
       "                        <td id=\"T_b8aa991c_8bc3_11eb_9287_3af9d350abc5row85_col1\" class=\"data row85 col1\" >Sustainability</td>\n",
       "                        <td id=\"T_b8aa991c_8bc3_11eb_9287_3af9d350abc5row85_col2\" class=\"data row85 col2\" >BHP</td>\n",
       "                        <td id=\"T_b8aa991c_8bc3_11eb_9287_3af9d350abc5row85_col3\" class=\"data row85 col3\" >neutral</td>\n",
       "                        <td id=\"T_b8aa991c_8bc3_11eb_9287_3af9d350abc5row85_col4\" class=\"data row85 col4\" >100</td>\n",
       "            </tr>\n",
       "            <tr>\n",
       "                        <th id=\"T_b8aa991c_8bc3_11eb_9287_3af9d350abc5level0_row86\" class=\"row_heading level0 row86\" >86</th>\n",
       "                        <td id=\"T_b8aa991c_8bc3_11eb_9287_3af9d350abc5row86_col0\" class=\"data row86 col0\" >2020-08-01</td>\n",
       "                        <td id=\"T_b8aa991c_8bc3_11eb_9287_3af9d350abc5row86_col1\" class=\"data row86 col1\" >Sustainability</td>\n",
       "                        <td id=\"T_b8aa991c_8bc3_11eb_9287_3af9d350abc5row86_col2\" class=\"data row86 col2\" >BHP</td>\n",
       "                        <td id=\"T_b8aa991c_8bc3_11eb_9287_3af9d350abc5row86_col3\" class=\"data row86 col3\" >positive</td>\n",
       "                        <td id=\"T_b8aa991c_8bc3_11eb_9287_3af9d350abc5row86_col4\" class=\"data row86 col4\" >87</td>\n",
       "            </tr>\n",
       "            <tr>\n",
       "                        <th id=\"T_b8aa991c_8bc3_11eb_9287_3af9d350abc5level0_row87\" class=\"row_heading level0 row87\" >87</th>\n",
       "                        <td id=\"T_b8aa991c_8bc3_11eb_9287_3af9d350abc5row87_col0\" class=\"data row87 col0\" >2020-08-01</td>\n",
       "                        <td id=\"T_b8aa991c_8bc3_11eb_9287_3af9d350abc5row87_col1\" class=\"data row87 col1\" >Sustainability</td>\n",
       "                        <td id=\"T_b8aa991c_8bc3_11eb_9287_3af9d350abc5row87_col2\" class=\"data row87 col2\" >Anglo American plc</td>\n",
       "                        <td id=\"T_b8aa991c_8bc3_11eb_9287_3af9d350abc5row87_col3\" class=\"data row87 col3\" >negative</td>\n",
       "                        <td id=\"T_b8aa991c_8bc3_11eb_9287_3af9d350abc5row87_col4\" class=\"data row87 col4\" >1</td>\n",
       "            </tr>\n",
       "            <tr>\n",
       "                        <th id=\"T_b8aa991c_8bc3_11eb_9287_3af9d350abc5level0_row88\" class=\"row_heading level0 row88\" >88</th>\n",
       "                        <td id=\"T_b8aa991c_8bc3_11eb_9287_3af9d350abc5row88_col0\" class=\"data row88 col0\" >2020-08-01</td>\n",
       "                        <td id=\"T_b8aa991c_8bc3_11eb_9287_3af9d350abc5row88_col1\" class=\"data row88 col1\" >Sustainability</td>\n",
       "                        <td id=\"T_b8aa991c_8bc3_11eb_9287_3af9d350abc5row88_col2\" class=\"data row88 col2\" >Anglo American plc</td>\n",
       "                        <td id=\"T_b8aa991c_8bc3_11eb_9287_3af9d350abc5row88_col3\" class=\"data row88 col3\" >neutral</td>\n",
       "                        <td id=\"T_b8aa991c_8bc3_11eb_9287_3af9d350abc5row88_col4\" class=\"data row88 col4\" >30</td>\n",
       "            </tr>\n",
       "            <tr>\n",
       "                        <th id=\"T_b8aa991c_8bc3_11eb_9287_3af9d350abc5level0_row89\" class=\"row_heading level0 row89\" >89</th>\n",
       "                        <td id=\"T_b8aa991c_8bc3_11eb_9287_3af9d350abc5row89_col0\" class=\"data row89 col0\" >2020-08-01</td>\n",
       "                        <td id=\"T_b8aa991c_8bc3_11eb_9287_3af9d350abc5row89_col1\" class=\"data row89 col1\" >Sustainability</td>\n",
       "                        <td id=\"T_b8aa991c_8bc3_11eb_9287_3af9d350abc5row89_col2\" class=\"data row89 col2\" >Anglo American plc</td>\n",
       "                        <td id=\"T_b8aa991c_8bc3_11eb_9287_3af9d350abc5row89_col3\" class=\"data row89 col3\" >positive</td>\n",
       "                        <td id=\"T_b8aa991c_8bc3_11eb_9287_3af9d350abc5row89_col4\" class=\"data row89 col4\" >94</td>\n",
       "            </tr>\n",
       "            <tr>\n",
       "                        <th id=\"T_b8aa991c_8bc3_11eb_9287_3af9d350abc5level0_row90\" class=\"row_heading level0 row90\" >90</th>\n",
       "                        <td id=\"T_b8aa991c_8bc3_11eb_9287_3af9d350abc5row90_col0\" class=\"data row90 col0\" >2020-08-01</td>\n",
       "                        <td id=\"T_b8aa991c_8bc3_11eb_9287_3af9d350abc5row90_col1\" class=\"data row90 col1\" >Sustainability</td>\n",
       "                        <td id=\"T_b8aa991c_8bc3_11eb_9287_3af9d350abc5row90_col2\" class=\"data row90 col2\" >Glencore</td>\n",
       "                        <td id=\"T_b8aa991c_8bc3_11eb_9287_3af9d350abc5row90_col3\" class=\"data row90 col3\" >negative</td>\n",
       "                        <td id=\"T_b8aa991c_8bc3_11eb_9287_3af9d350abc5row90_col4\" class=\"data row90 col4\" >8</td>\n",
       "            </tr>\n",
       "            <tr>\n",
       "                        <th id=\"T_b8aa991c_8bc3_11eb_9287_3af9d350abc5level0_row91\" class=\"row_heading level0 row91\" >91</th>\n",
       "                        <td id=\"T_b8aa991c_8bc3_11eb_9287_3af9d350abc5row91_col0\" class=\"data row91 col0\" >2020-08-01</td>\n",
       "                        <td id=\"T_b8aa991c_8bc3_11eb_9287_3af9d350abc5row91_col1\" class=\"data row91 col1\" >Sustainability</td>\n",
       "                        <td id=\"T_b8aa991c_8bc3_11eb_9287_3af9d350abc5row91_col2\" class=\"data row91 col2\" >Glencore</td>\n",
       "                        <td id=\"T_b8aa991c_8bc3_11eb_9287_3af9d350abc5row91_col3\" class=\"data row91 col3\" >neutral</td>\n",
       "                        <td id=\"T_b8aa991c_8bc3_11eb_9287_3af9d350abc5row91_col4\" class=\"data row91 col4\" >141</td>\n",
       "            </tr>\n",
       "            <tr>\n",
       "                        <th id=\"T_b8aa991c_8bc3_11eb_9287_3af9d350abc5level0_row92\" class=\"row_heading level0 row92\" >92</th>\n",
       "                        <td id=\"T_b8aa991c_8bc3_11eb_9287_3af9d350abc5row92_col0\" class=\"data row92 col0\" >2020-08-01</td>\n",
       "                        <td id=\"T_b8aa991c_8bc3_11eb_9287_3af9d350abc5row92_col1\" class=\"data row92 col1\" >Sustainability</td>\n",
       "                        <td id=\"T_b8aa991c_8bc3_11eb_9287_3af9d350abc5row92_col2\" class=\"data row92 col2\" >Glencore</td>\n",
       "                        <td id=\"T_b8aa991c_8bc3_11eb_9287_3af9d350abc5row92_col3\" class=\"data row92 col3\" >positive</td>\n",
       "                        <td id=\"T_b8aa991c_8bc3_11eb_9287_3af9d350abc5row92_col4\" class=\"data row92 col4\" >31</td>\n",
       "            </tr>\n",
       "            <tr>\n",
       "                        <th id=\"T_b8aa991c_8bc3_11eb_9287_3af9d350abc5level0_row93\" class=\"row_heading level0 row93\" >93</th>\n",
       "                        <td id=\"T_b8aa991c_8bc3_11eb_9287_3af9d350abc5row93_col0\" class=\"data row93 col0\" >2020-08-01</td>\n",
       "                        <td id=\"T_b8aa991c_8bc3_11eb_9287_3af9d350abc5row93_col1\" class=\"data row93 col1\" >Sustainability</td>\n",
       "                        <td id=\"T_b8aa991c_8bc3_11eb_9287_3af9d350abc5row93_col2\" class=\"data row93 col2\" >Rio Tinto Group</td>\n",
       "                        <td id=\"T_b8aa991c_8bc3_11eb_9287_3af9d350abc5row93_col3\" class=\"data row93 col3\" >negative</td>\n",
       "                        <td id=\"T_b8aa991c_8bc3_11eb_9287_3af9d350abc5row93_col4\" class=\"data row93 col4\" >9</td>\n",
       "            </tr>\n",
       "            <tr>\n",
       "                        <th id=\"T_b8aa991c_8bc3_11eb_9287_3af9d350abc5level0_row94\" class=\"row_heading level0 row94\" >94</th>\n",
       "                        <td id=\"T_b8aa991c_8bc3_11eb_9287_3af9d350abc5row94_col0\" class=\"data row94 col0\" >2020-08-01</td>\n",
       "                        <td id=\"T_b8aa991c_8bc3_11eb_9287_3af9d350abc5row94_col1\" class=\"data row94 col1\" >Sustainability</td>\n",
       "                        <td id=\"T_b8aa991c_8bc3_11eb_9287_3af9d350abc5row94_col2\" class=\"data row94 col2\" >Rio Tinto Group</td>\n",
       "                        <td id=\"T_b8aa991c_8bc3_11eb_9287_3af9d350abc5row94_col3\" class=\"data row94 col3\" >neutral</td>\n",
       "                        <td id=\"T_b8aa991c_8bc3_11eb_9287_3af9d350abc5row94_col4\" class=\"data row94 col4\" >167</td>\n",
       "            </tr>\n",
       "            <tr>\n",
       "                        <th id=\"T_b8aa991c_8bc3_11eb_9287_3af9d350abc5level0_row95\" class=\"row_heading level0 row95\" >95</th>\n",
       "                        <td id=\"T_b8aa991c_8bc3_11eb_9287_3af9d350abc5row95_col0\" class=\"data row95 col0\" >2020-08-01</td>\n",
       "                        <td id=\"T_b8aa991c_8bc3_11eb_9287_3af9d350abc5row95_col1\" class=\"data row95 col1\" >Sustainability</td>\n",
       "                        <td id=\"T_b8aa991c_8bc3_11eb_9287_3af9d350abc5row95_col2\" class=\"data row95 col2\" >Rio Tinto Group</td>\n",
       "                        <td id=\"T_b8aa991c_8bc3_11eb_9287_3af9d350abc5row95_col3\" class=\"data row95 col3\" >positive</td>\n",
       "                        <td id=\"T_b8aa991c_8bc3_11eb_9287_3af9d350abc5row95_col4\" class=\"data row95 col4\" >34</td>\n",
       "            </tr>\n",
       "            <tr>\n",
       "                        <th id=\"T_b8aa991c_8bc3_11eb_9287_3af9d350abc5level0_row96\" class=\"row_heading level0 row96\" >96</th>\n",
       "                        <td id=\"T_b8aa991c_8bc3_11eb_9287_3af9d350abc5row96_col0\" class=\"data row96 col0\" >2020-09-01</td>\n",
       "                        <td id=\"T_b8aa991c_8bc3_11eb_9287_3af9d350abc5row96_col1\" class=\"data row96 col1\" >Chemicals</td>\n",
       "                        <td id=\"T_b8aa991c_8bc3_11eb_9287_3af9d350abc5row96_col2\" class=\"data row96 col2\" >Rio Tinto Group</td>\n",
       "                        <td id=\"T_b8aa991c_8bc3_11eb_9287_3af9d350abc5row96_col3\" class=\"data row96 col3\" >negative</td>\n",
       "                        <td id=\"T_b8aa991c_8bc3_11eb_9287_3af9d350abc5row96_col4\" class=\"data row96 col4\" >1639</td>\n",
       "            </tr>\n",
       "            <tr>\n",
       "                        <th id=\"T_b8aa991c_8bc3_11eb_9287_3af9d350abc5level0_row97\" class=\"row_heading level0 row97\" >97</th>\n",
       "                        <td id=\"T_b8aa991c_8bc3_11eb_9287_3af9d350abc5row97_col0\" class=\"data row97 col0\" >2020-09-01</td>\n",
       "                        <td id=\"T_b8aa991c_8bc3_11eb_9287_3af9d350abc5row97_col1\" class=\"data row97 col1\" >Chemicals</td>\n",
       "                        <td id=\"T_b8aa991c_8bc3_11eb_9287_3af9d350abc5row97_col2\" class=\"data row97 col2\" >Rio Tinto Group</td>\n",
       "                        <td id=\"T_b8aa991c_8bc3_11eb_9287_3af9d350abc5row97_col3\" class=\"data row97 col3\" >neutral</td>\n",
       "                        <td id=\"T_b8aa991c_8bc3_11eb_9287_3af9d350abc5row97_col4\" class=\"data row97 col4\" >2987</td>\n",
       "            </tr>\n",
       "            <tr>\n",
       "                        <th id=\"T_b8aa991c_8bc3_11eb_9287_3af9d350abc5level0_row98\" class=\"row_heading level0 row98\" >98</th>\n",
       "                        <td id=\"T_b8aa991c_8bc3_11eb_9287_3af9d350abc5row98_col0\" class=\"data row98 col0\" >2020-09-01</td>\n",
       "                        <td id=\"T_b8aa991c_8bc3_11eb_9287_3af9d350abc5row98_col1\" class=\"data row98 col1\" >Chemicals</td>\n",
       "                        <td id=\"T_b8aa991c_8bc3_11eb_9287_3af9d350abc5row98_col2\" class=\"data row98 col2\" >Rio Tinto Group</td>\n",
       "                        <td id=\"T_b8aa991c_8bc3_11eb_9287_3af9d350abc5row98_col3\" class=\"data row98 col3\" >positive</td>\n",
       "                        <td id=\"T_b8aa991c_8bc3_11eb_9287_3af9d350abc5row98_col4\" class=\"data row98 col4\" >2268</td>\n",
       "            </tr>\n",
       "            <tr>\n",
       "                        <th id=\"T_b8aa991c_8bc3_11eb_9287_3af9d350abc5level0_row99\" class=\"row_heading level0 row99\" >99</th>\n",
       "                        <td id=\"T_b8aa991c_8bc3_11eb_9287_3af9d350abc5row99_col0\" class=\"data row99 col0\" >2020-09-01</td>\n",
       "                        <td id=\"T_b8aa991c_8bc3_11eb_9287_3af9d350abc5row99_col1\" class=\"data row99 col1\" >Chemicals</td>\n",
       "                        <td id=\"T_b8aa991c_8bc3_11eb_9287_3af9d350abc5row99_col2\" class=\"data row99 col2\" >BHP</td>\n",
       "                        <td id=\"T_b8aa991c_8bc3_11eb_9287_3af9d350abc5row99_col3\" class=\"data row99 col3\" >negative</td>\n",
       "                        <td id=\"T_b8aa991c_8bc3_11eb_9287_3af9d350abc5row99_col4\" class=\"data row99 col4\" >903</td>\n",
       "            </tr>\n",
       "            <tr>\n",
       "                        <th id=\"T_b8aa991c_8bc3_11eb_9287_3af9d350abc5level0_row100\" class=\"row_heading level0 row100\" >100</th>\n",
       "                        <td id=\"T_b8aa991c_8bc3_11eb_9287_3af9d350abc5row100_col0\" class=\"data row100 col0\" >2020-09-01</td>\n",
       "                        <td id=\"T_b8aa991c_8bc3_11eb_9287_3af9d350abc5row100_col1\" class=\"data row100 col1\" >Chemicals</td>\n",
       "                        <td id=\"T_b8aa991c_8bc3_11eb_9287_3af9d350abc5row100_col2\" class=\"data row100 col2\" >BHP</td>\n",
       "                        <td id=\"T_b8aa991c_8bc3_11eb_9287_3af9d350abc5row100_col3\" class=\"data row100 col3\" >neutral</td>\n",
       "                        <td id=\"T_b8aa991c_8bc3_11eb_9287_3af9d350abc5row100_col4\" class=\"data row100 col4\" >1914</td>\n",
       "            </tr>\n",
       "            <tr>\n",
       "                        <th id=\"T_b8aa991c_8bc3_11eb_9287_3af9d350abc5level0_row101\" class=\"row_heading level0 row101\" >101</th>\n",
       "                        <td id=\"T_b8aa991c_8bc3_11eb_9287_3af9d350abc5row101_col0\" class=\"data row101 col0\" >2020-09-01</td>\n",
       "                        <td id=\"T_b8aa991c_8bc3_11eb_9287_3af9d350abc5row101_col1\" class=\"data row101 col1\" >Chemicals</td>\n",
       "                        <td id=\"T_b8aa991c_8bc3_11eb_9287_3af9d350abc5row101_col2\" class=\"data row101 col2\" >BHP</td>\n",
       "                        <td id=\"T_b8aa991c_8bc3_11eb_9287_3af9d350abc5row101_col3\" class=\"data row101 col3\" >positive</td>\n",
       "                        <td id=\"T_b8aa991c_8bc3_11eb_9287_3af9d350abc5row101_col4\" class=\"data row101 col4\" >2183</td>\n",
       "            </tr>\n",
       "            <tr>\n",
       "                        <th id=\"T_b8aa991c_8bc3_11eb_9287_3af9d350abc5level0_row102\" class=\"row_heading level0 row102\" >102</th>\n",
       "                        <td id=\"T_b8aa991c_8bc3_11eb_9287_3af9d350abc5row102_col0\" class=\"data row102 col0\" >2020-09-01</td>\n",
       "                        <td id=\"T_b8aa991c_8bc3_11eb_9287_3af9d350abc5row102_col1\" class=\"data row102 col1\" >Chemicals</td>\n",
       "                        <td id=\"T_b8aa991c_8bc3_11eb_9287_3af9d350abc5row102_col2\" class=\"data row102 col2\" >Anglo American plc</td>\n",
       "                        <td id=\"T_b8aa991c_8bc3_11eb_9287_3af9d350abc5row102_col3\" class=\"data row102 col3\" >negative</td>\n",
       "                        <td id=\"T_b8aa991c_8bc3_11eb_9287_3af9d350abc5row102_col4\" class=\"data row102 col4\" >116</td>\n",
       "            </tr>\n",
       "            <tr>\n",
       "                        <th id=\"T_b8aa991c_8bc3_11eb_9287_3af9d350abc5level0_row103\" class=\"row_heading level0 row103\" >103</th>\n",
       "                        <td id=\"T_b8aa991c_8bc3_11eb_9287_3af9d350abc5row103_col0\" class=\"data row103 col0\" >2020-09-01</td>\n",
       "                        <td id=\"T_b8aa991c_8bc3_11eb_9287_3af9d350abc5row103_col1\" class=\"data row103 col1\" >Chemicals</td>\n",
       "                        <td id=\"T_b8aa991c_8bc3_11eb_9287_3af9d350abc5row103_col2\" class=\"data row103 col2\" >Anglo American plc</td>\n",
       "                        <td id=\"T_b8aa991c_8bc3_11eb_9287_3af9d350abc5row103_col3\" class=\"data row103 col3\" >neutral</td>\n",
       "                        <td id=\"T_b8aa991c_8bc3_11eb_9287_3af9d350abc5row103_col4\" class=\"data row103 col4\" >1182</td>\n",
       "            </tr>\n",
       "            <tr>\n",
       "                        <th id=\"T_b8aa991c_8bc3_11eb_9287_3af9d350abc5level0_row104\" class=\"row_heading level0 row104\" >104</th>\n",
       "                        <td id=\"T_b8aa991c_8bc3_11eb_9287_3af9d350abc5row104_col0\" class=\"data row104 col0\" >2020-09-01</td>\n",
       "                        <td id=\"T_b8aa991c_8bc3_11eb_9287_3af9d350abc5row104_col1\" class=\"data row104 col1\" >Chemicals</td>\n",
       "                        <td id=\"T_b8aa991c_8bc3_11eb_9287_3af9d350abc5row104_col2\" class=\"data row104 col2\" >Anglo American plc</td>\n",
       "                        <td id=\"T_b8aa991c_8bc3_11eb_9287_3af9d350abc5row104_col3\" class=\"data row104 col3\" >positive</td>\n",
       "                        <td id=\"T_b8aa991c_8bc3_11eb_9287_3af9d350abc5row104_col4\" class=\"data row104 col4\" >1234</td>\n",
       "            </tr>\n",
       "            <tr>\n",
       "                        <th id=\"T_b8aa991c_8bc3_11eb_9287_3af9d350abc5level0_row105\" class=\"row_heading level0 row105\" >105</th>\n",
       "                        <td id=\"T_b8aa991c_8bc3_11eb_9287_3af9d350abc5row105_col0\" class=\"data row105 col0\" >2020-09-01</td>\n",
       "                        <td id=\"T_b8aa991c_8bc3_11eb_9287_3af9d350abc5row105_col1\" class=\"data row105 col1\" >Chemicals</td>\n",
       "                        <td id=\"T_b8aa991c_8bc3_11eb_9287_3af9d350abc5row105_col2\" class=\"data row105 col2\" >Glencore</td>\n",
       "                        <td id=\"T_b8aa991c_8bc3_11eb_9287_3af9d350abc5row105_col3\" class=\"data row105 col3\" >negative</td>\n",
       "                        <td id=\"T_b8aa991c_8bc3_11eb_9287_3af9d350abc5row105_col4\" class=\"data row105 col4\" >219</td>\n",
       "            </tr>\n",
       "            <tr>\n",
       "                        <th id=\"T_b8aa991c_8bc3_11eb_9287_3af9d350abc5level0_row106\" class=\"row_heading level0 row106\" >106</th>\n",
       "                        <td id=\"T_b8aa991c_8bc3_11eb_9287_3af9d350abc5row106_col0\" class=\"data row106 col0\" >2020-09-01</td>\n",
       "                        <td id=\"T_b8aa991c_8bc3_11eb_9287_3af9d350abc5row106_col1\" class=\"data row106 col1\" >Chemicals</td>\n",
       "                        <td id=\"T_b8aa991c_8bc3_11eb_9287_3af9d350abc5row106_col2\" class=\"data row106 col2\" >Glencore</td>\n",
       "                        <td id=\"T_b8aa991c_8bc3_11eb_9287_3af9d350abc5row106_col3\" class=\"data row106 col3\" >neutral</td>\n",
       "                        <td id=\"T_b8aa991c_8bc3_11eb_9287_3af9d350abc5row106_col4\" class=\"data row106 col4\" >1711</td>\n",
       "            </tr>\n",
       "            <tr>\n",
       "                        <th id=\"T_b8aa991c_8bc3_11eb_9287_3af9d350abc5level0_row107\" class=\"row_heading level0 row107\" >107</th>\n",
       "                        <td id=\"T_b8aa991c_8bc3_11eb_9287_3af9d350abc5row107_col0\" class=\"data row107 col0\" >2020-09-01</td>\n",
       "                        <td id=\"T_b8aa991c_8bc3_11eb_9287_3af9d350abc5row107_col1\" class=\"data row107 col1\" >Chemicals</td>\n",
       "                        <td id=\"T_b8aa991c_8bc3_11eb_9287_3af9d350abc5row107_col2\" class=\"data row107 col2\" >Glencore</td>\n",
       "                        <td id=\"T_b8aa991c_8bc3_11eb_9287_3af9d350abc5row107_col3\" class=\"data row107 col3\" >positive</td>\n",
       "                        <td id=\"T_b8aa991c_8bc3_11eb_9287_3af9d350abc5row107_col4\" class=\"data row107 col4\" >1477</td>\n",
       "            </tr>\n",
       "            <tr>\n",
       "                        <th id=\"T_b8aa991c_8bc3_11eb_9287_3af9d350abc5level0_row108\" class=\"row_heading level0 row108\" >108</th>\n",
       "                        <td id=\"T_b8aa991c_8bc3_11eb_9287_3af9d350abc5row108_col0\" class=\"data row108 col0\" >2020-09-01</td>\n",
       "                        <td id=\"T_b8aa991c_8bc3_11eb_9287_3af9d350abc5row108_col1\" class=\"data row108 col1\" >Corporate Controversy</td>\n",
       "                        <td id=\"T_b8aa991c_8bc3_11eb_9287_3af9d350abc5row108_col2\" class=\"data row108 col2\" >Rio Tinto Group</td>\n",
       "                        <td id=\"T_b8aa991c_8bc3_11eb_9287_3af9d350abc5row108_col3\" class=\"data row108 col3\" >negative</td>\n",
       "                        <td id=\"T_b8aa991c_8bc3_11eb_9287_3af9d350abc5row108_col4\" class=\"data row108 col4\" >2641</td>\n",
       "            </tr>\n",
       "            <tr>\n",
       "                        <th id=\"T_b8aa991c_8bc3_11eb_9287_3af9d350abc5level0_row109\" class=\"row_heading level0 row109\" >109</th>\n",
       "                        <td id=\"T_b8aa991c_8bc3_11eb_9287_3af9d350abc5row109_col0\" class=\"data row109 col0\" >2020-09-01</td>\n",
       "                        <td id=\"T_b8aa991c_8bc3_11eb_9287_3af9d350abc5row109_col1\" class=\"data row109 col1\" >Corporate Controversy</td>\n",
       "                        <td id=\"T_b8aa991c_8bc3_11eb_9287_3af9d350abc5row109_col2\" class=\"data row109 col2\" >Rio Tinto Group</td>\n",
       "                        <td id=\"T_b8aa991c_8bc3_11eb_9287_3af9d350abc5row109_col3\" class=\"data row109 col3\" >neutral</td>\n",
       "                        <td id=\"T_b8aa991c_8bc3_11eb_9287_3af9d350abc5row109_col4\" class=\"data row109 col4\" >1684</td>\n",
       "            </tr>\n",
       "            <tr>\n",
       "                        <th id=\"T_b8aa991c_8bc3_11eb_9287_3af9d350abc5level0_row110\" class=\"row_heading level0 row110\" >110</th>\n",
       "                        <td id=\"T_b8aa991c_8bc3_11eb_9287_3af9d350abc5row110_col0\" class=\"data row110 col0\" >2020-09-01</td>\n",
       "                        <td id=\"T_b8aa991c_8bc3_11eb_9287_3af9d350abc5row110_col1\" class=\"data row110 col1\" >Corporate Controversy</td>\n",
       "                        <td id=\"T_b8aa991c_8bc3_11eb_9287_3af9d350abc5row110_col2\" class=\"data row110 col2\" >Rio Tinto Group</td>\n",
       "                        <td id=\"T_b8aa991c_8bc3_11eb_9287_3af9d350abc5row110_col3\" class=\"data row110 col3\" >positive</td>\n",
       "                        <td id=\"T_b8aa991c_8bc3_11eb_9287_3af9d350abc5row110_col4\" class=\"data row110 col4\" >803</td>\n",
       "            </tr>\n",
       "            <tr>\n",
       "                        <th id=\"T_b8aa991c_8bc3_11eb_9287_3af9d350abc5level0_row111\" class=\"row_heading level0 row111\" >111</th>\n",
       "                        <td id=\"T_b8aa991c_8bc3_11eb_9287_3af9d350abc5row111_col0\" class=\"data row111 col0\" >2020-09-01</td>\n",
       "                        <td id=\"T_b8aa991c_8bc3_11eb_9287_3af9d350abc5row111_col1\" class=\"data row111 col1\" >Corporate Controversy</td>\n",
       "                        <td id=\"T_b8aa991c_8bc3_11eb_9287_3af9d350abc5row111_col2\" class=\"data row111 col2\" >BHP</td>\n",
       "                        <td id=\"T_b8aa991c_8bc3_11eb_9287_3af9d350abc5row111_col3\" class=\"data row111 col3\" >negative</td>\n",
       "                        <td id=\"T_b8aa991c_8bc3_11eb_9287_3af9d350abc5row111_col4\" class=\"data row111 col4\" >752</td>\n",
       "            </tr>\n",
       "            <tr>\n",
       "                        <th id=\"T_b8aa991c_8bc3_11eb_9287_3af9d350abc5level0_row112\" class=\"row_heading level0 row112\" >112</th>\n",
       "                        <td id=\"T_b8aa991c_8bc3_11eb_9287_3af9d350abc5row112_col0\" class=\"data row112 col0\" >2020-09-01</td>\n",
       "                        <td id=\"T_b8aa991c_8bc3_11eb_9287_3af9d350abc5row112_col1\" class=\"data row112 col1\" >Corporate Controversy</td>\n",
       "                        <td id=\"T_b8aa991c_8bc3_11eb_9287_3af9d350abc5row112_col2\" class=\"data row112 col2\" >BHP</td>\n",
       "                        <td id=\"T_b8aa991c_8bc3_11eb_9287_3af9d350abc5row112_col3\" class=\"data row112 col3\" >neutral</td>\n",
       "                        <td id=\"T_b8aa991c_8bc3_11eb_9287_3af9d350abc5row112_col4\" class=\"data row112 col4\" >515</td>\n",
       "            </tr>\n",
       "            <tr>\n",
       "                        <th id=\"T_b8aa991c_8bc3_11eb_9287_3af9d350abc5level0_row113\" class=\"row_heading level0 row113\" >113</th>\n",
       "                        <td id=\"T_b8aa991c_8bc3_11eb_9287_3af9d350abc5row113_col0\" class=\"data row113 col0\" >2020-09-01</td>\n",
       "                        <td id=\"T_b8aa991c_8bc3_11eb_9287_3af9d350abc5row113_col1\" class=\"data row113 col1\" >Corporate Controversy</td>\n",
       "                        <td id=\"T_b8aa991c_8bc3_11eb_9287_3af9d350abc5row113_col2\" class=\"data row113 col2\" >BHP</td>\n",
       "                        <td id=\"T_b8aa991c_8bc3_11eb_9287_3af9d350abc5row113_col3\" class=\"data row113 col3\" >positive</td>\n",
       "                        <td id=\"T_b8aa991c_8bc3_11eb_9287_3af9d350abc5row113_col4\" class=\"data row113 col4\" >353</td>\n",
       "            </tr>\n",
       "            <tr>\n",
       "                        <th id=\"T_b8aa991c_8bc3_11eb_9287_3af9d350abc5level0_row114\" class=\"row_heading level0 row114\" >114</th>\n",
       "                        <td id=\"T_b8aa991c_8bc3_11eb_9287_3af9d350abc5row114_col0\" class=\"data row114 col0\" >2020-09-01</td>\n",
       "                        <td id=\"T_b8aa991c_8bc3_11eb_9287_3af9d350abc5row114_col1\" class=\"data row114 col1\" >Corporate Controversy</td>\n",
       "                        <td id=\"T_b8aa991c_8bc3_11eb_9287_3af9d350abc5row114_col2\" class=\"data row114 col2\" >Glencore</td>\n",
       "                        <td id=\"T_b8aa991c_8bc3_11eb_9287_3af9d350abc5row114_col3\" class=\"data row114 col3\" >negative</td>\n",
       "                        <td id=\"T_b8aa991c_8bc3_11eb_9287_3af9d350abc5row114_col4\" class=\"data row114 col4\" >255</td>\n",
       "            </tr>\n",
       "            <tr>\n",
       "                        <th id=\"T_b8aa991c_8bc3_11eb_9287_3af9d350abc5level0_row115\" class=\"row_heading level0 row115\" >115</th>\n",
       "                        <td id=\"T_b8aa991c_8bc3_11eb_9287_3af9d350abc5row115_col0\" class=\"data row115 col0\" >2020-09-01</td>\n",
       "                        <td id=\"T_b8aa991c_8bc3_11eb_9287_3af9d350abc5row115_col1\" class=\"data row115 col1\" >Corporate Controversy</td>\n",
       "                        <td id=\"T_b8aa991c_8bc3_11eb_9287_3af9d350abc5row115_col2\" class=\"data row115 col2\" >Glencore</td>\n",
       "                        <td id=\"T_b8aa991c_8bc3_11eb_9287_3af9d350abc5row115_col3\" class=\"data row115 col3\" >neutral</td>\n",
       "                        <td id=\"T_b8aa991c_8bc3_11eb_9287_3af9d350abc5row115_col4\" class=\"data row115 col4\" >530</td>\n",
       "            </tr>\n",
       "            <tr>\n",
       "                        <th id=\"T_b8aa991c_8bc3_11eb_9287_3af9d350abc5level0_row116\" class=\"row_heading level0 row116\" >116</th>\n",
       "                        <td id=\"T_b8aa991c_8bc3_11eb_9287_3af9d350abc5row116_col0\" class=\"data row116 col0\" >2020-09-01</td>\n",
       "                        <td id=\"T_b8aa991c_8bc3_11eb_9287_3af9d350abc5row116_col1\" class=\"data row116 col1\" >Corporate Controversy</td>\n",
       "                        <td id=\"T_b8aa991c_8bc3_11eb_9287_3af9d350abc5row116_col2\" class=\"data row116 col2\" >Glencore</td>\n",
       "                        <td id=\"T_b8aa991c_8bc3_11eb_9287_3af9d350abc5row116_col3\" class=\"data row116 col3\" >positive</td>\n",
       "                        <td id=\"T_b8aa991c_8bc3_11eb_9287_3af9d350abc5row116_col4\" class=\"data row116 col4\" >229</td>\n",
       "            </tr>\n",
       "            <tr>\n",
       "                        <th id=\"T_b8aa991c_8bc3_11eb_9287_3af9d350abc5level0_row117\" class=\"row_heading level0 row117\" >117</th>\n",
       "                        <td id=\"T_b8aa991c_8bc3_11eb_9287_3af9d350abc5row117_col0\" class=\"data row117 col0\" >2020-09-01</td>\n",
       "                        <td id=\"T_b8aa991c_8bc3_11eb_9287_3af9d350abc5row117_col1\" class=\"data row117 col1\" >Corporate Controversy</td>\n",
       "                        <td id=\"T_b8aa991c_8bc3_11eb_9287_3af9d350abc5row117_col2\" class=\"data row117 col2\" >Anglo American plc</td>\n",
       "                        <td id=\"T_b8aa991c_8bc3_11eb_9287_3af9d350abc5row117_col3\" class=\"data row117 col3\" >negative</td>\n",
       "                        <td id=\"T_b8aa991c_8bc3_11eb_9287_3af9d350abc5row117_col4\" class=\"data row117 col4\" >34</td>\n",
       "            </tr>\n",
       "            <tr>\n",
       "                        <th id=\"T_b8aa991c_8bc3_11eb_9287_3af9d350abc5level0_row118\" class=\"row_heading level0 row118\" >118</th>\n",
       "                        <td id=\"T_b8aa991c_8bc3_11eb_9287_3af9d350abc5row118_col0\" class=\"data row118 col0\" >2020-09-01</td>\n",
       "                        <td id=\"T_b8aa991c_8bc3_11eb_9287_3af9d350abc5row118_col1\" class=\"data row118 col1\" >Corporate Controversy</td>\n",
       "                        <td id=\"T_b8aa991c_8bc3_11eb_9287_3af9d350abc5row118_col2\" class=\"data row118 col2\" >Anglo American plc</td>\n",
       "                        <td id=\"T_b8aa991c_8bc3_11eb_9287_3af9d350abc5row118_col3\" class=\"data row118 col3\" >neutral</td>\n",
       "                        <td id=\"T_b8aa991c_8bc3_11eb_9287_3af9d350abc5row118_col4\" class=\"data row118 col4\" >246</td>\n",
       "            </tr>\n",
       "            <tr>\n",
       "                        <th id=\"T_b8aa991c_8bc3_11eb_9287_3af9d350abc5level0_row119\" class=\"row_heading level0 row119\" >119</th>\n",
       "                        <td id=\"T_b8aa991c_8bc3_11eb_9287_3af9d350abc5row119_col0\" class=\"data row119 col0\" >2020-09-01</td>\n",
       "                        <td id=\"T_b8aa991c_8bc3_11eb_9287_3af9d350abc5row119_col1\" class=\"data row119 col1\" >Corporate Controversy</td>\n",
       "                        <td id=\"T_b8aa991c_8bc3_11eb_9287_3af9d350abc5row119_col2\" class=\"data row119 col2\" >Anglo American plc</td>\n",
       "                        <td id=\"T_b8aa991c_8bc3_11eb_9287_3af9d350abc5row119_col3\" class=\"data row119 col3\" >positive</td>\n",
       "                        <td id=\"T_b8aa991c_8bc3_11eb_9287_3af9d350abc5row119_col4\" class=\"data row119 col4\" >74</td>\n",
       "            </tr>\n",
       "            <tr>\n",
       "                        <th id=\"T_b8aa991c_8bc3_11eb_9287_3af9d350abc5level0_row120\" class=\"row_heading level0 row120\" >120</th>\n",
       "                        <td id=\"T_b8aa991c_8bc3_11eb_9287_3af9d350abc5row120_col0\" class=\"data row120 col0\" >2020-09-01</td>\n",
       "                        <td id=\"T_b8aa991c_8bc3_11eb_9287_3af9d350abc5row120_col1\" class=\"data row120 col1\" >Environmental Cleanup</td>\n",
       "                        <td id=\"T_b8aa991c_8bc3_11eb_9287_3af9d350abc5row120_col2\" class=\"data row120 col2\" >BHP</td>\n",
       "                        <td id=\"T_b8aa991c_8bc3_11eb_9287_3af9d350abc5row120_col3\" class=\"data row120 col3\" >negative</td>\n",
       "                        <td id=\"T_b8aa991c_8bc3_11eb_9287_3af9d350abc5row120_col4\" class=\"data row120 col4\" >82</td>\n",
       "            </tr>\n",
       "            <tr>\n",
       "                        <th id=\"T_b8aa991c_8bc3_11eb_9287_3af9d350abc5level0_row121\" class=\"row_heading level0 row121\" >121</th>\n",
       "                        <td id=\"T_b8aa991c_8bc3_11eb_9287_3af9d350abc5row121_col0\" class=\"data row121 col0\" >2020-09-01</td>\n",
       "                        <td id=\"T_b8aa991c_8bc3_11eb_9287_3af9d350abc5row121_col1\" class=\"data row121 col1\" >Environmental Cleanup</td>\n",
       "                        <td id=\"T_b8aa991c_8bc3_11eb_9287_3af9d350abc5row121_col2\" class=\"data row121 col2\" >BHP</td>\n",
       "                        <td id=\"T_b8aa991c_8bc3_11eb_9287_3af9d350abc5row121_col3\" class=\"data row121 col3\" >neutral</td>\n",
       "                        <td id=\"T_b8aa991c_8bc3_11eb_9287_3af9d350abc5row121_col4\" class=\"data row121 col4\" >463</td>\n",
       "            </tr>\n",
       "            <tr>\n",
       "                        <th id=\"T_b8aa991c_8bc3_11eb_9287_3af9d350abc5level0_row122\" class=\"row_heading level0 row122\" >122</th>\n",
       "                        <td id=\"T_b8aa991c_8bc3_11eb_9287_3af9d350abc5row122_col0\" class=\"data row122 col0\" >2020-09-01</td>\n",
       "                        <td id=\"T_b8aa991c_8bc3_11eb_9287_3af9d350abc5row122_col1\" class=\"data row122 col1\" >Environmental Cleanup</td>\n",
       "                        <td id=\"T_b8aa991c_8bc3_11eb_9287_3af9d350abc5row122_col2\" class=\"data row122 col2\" >BHP</td>\n",
       "                        <td id=\"T_b8aa991c_8bc3_11eb_9287_3af9d350abc5row122_col3\" class=\"data row122 col3\" >positive</td>\n",
       "                        <td id=\"T_b8aa991c_8bc3_11eb_9287_3af9d350abc5row122_col4\" class=\"data row122 col4\" >712</td>\n",
       "            </tr>\n",
       "            <tr>\n",
       "                        <th id=\"T_b8aa991c_8bc3_11eb_9287_3af9d350abc5level0_row123\" class=\"row_heading level0 row123\" >123</th>\n",
       "                        <td id=\"T_b8aa991c_8bc3_11eb_9287_3af9d350abc5row123_col0\" class=\"data row123 col0\" >2020-09-01</td>\n",
       "                        <td id=\"T_b8aa991c_8bc3_11eb_9287_3af9d350abc5row123_col1\" class=\"data row123 col1\" >Environmental Cleanup</td>\n",
       "                        <td id=\"T_b8aa991c_8bc3_11eb_9287_3af9d350abc5row123_col2\" class=\"data row123 col2\" >Rio Tinto Group</td>\n",
       "                        <td id=\"T_b8aa991c_8bc3_11eb_9287_3af9d350abc5row123_col3\" class=\"data row123 col3\" >negative</td>\n",
       "                        <td id=\"T_b8aa991c_8bc3_11eb_9287_3af9d350abc5row123_col4\" class=\"data row123 col4\" >67</td>\n",
       "            </tr>\n",
       "            <tr>\n",
       "                        <th id=\"T_b8aa991c_8bc3_11eb_9287_3af9d350abc5level0_row124\" class=\"row_heading level0 row124\" >124</th>\n",
       "                        <td id=\"T_b8aa991c_8bc3_11eb_9287_3af9d350abc5row124_col0\" class=\"data row124 col0\" >2020-09-01</td>\n",
       "                        <td id=\"T_b8aa991c_8bc3_11eb_9287_3af9d350abc5row124_col1\" class=\"data row124 col1\" >Environmental Cleanup</td>\n",
       "                        <td id=\"T_b8aa991c_8bc3_11eb_9287_3af9d350abc5row124_col2\" class=\"data row124 col2\" >Rio Tinto Group</td>\n",
       "                        <td id=\"T_b8aa991c_8bc3_11eb_9287_3af9d350abc5row124_col3\" class=\"data row124 col3\" >neutral</td>\n",
       "                        <td id=\"T_b8aa991c_8bc3_11eb_9287_3af9d350abc5row124_col4\" class=\"data row124 col4\" >580</td>\n",
       "            </tr>\n",
       "            <tr>\n",
       "                        <th id=\"T_b8aa991c_8bc3_11eb_9287_3af9d350abc5level0_row125\" class=\"row_heading level0 row125\" >125</th>\n",
       "                        <td id=\"T_b8aa991c_8bc3_11eb_9287_3af9d350abc5row125_col0\" class=\"data row125 col0\" >2020-09-01</td>\n",
       "                        <td id=\"T_b8aa991c_8bc3_11eb_9287_3af9d350abc5row125_col1\" class=\"data row125 col1\" >Environmental Cleanup</td>\n",
       "                        <td id=\"T_b8aa991c_8bc3_11eb_9287_3af9d350abc5row125_col2\" class=\"data row125 col2\" >Rio Tinto Group</td>\n",
       "                        <td id=\"T_b8aa991c_8bc3_11eb_9287_3af9d350abc5row125_col3\" class=\"data row125 col3\" >positive</td>\n",
       "                        <td id=\"T_b8aa991c_8bc3_11eb_9287_3af9d350abc5row125_col4\" class=\"data row125 col4\" >186</td>\n",
       "            </tr>\n",
       "            <tr>\n",
       "                        <th id=\"T_b8aa991c_8bc3_11eb_9287_3af9d350abc5level0_row126\" class=\"row_heading level0 row126\" >126</th>\n",
       "                        <td id=\"T_b8aa991c_8bc3_11eb_9287_3af9d350abc5row126_col0\" class=\"data row126 col0\" >2020-09-01</td>\n",
       "                        <td id=\"T_b8aa991c_8bc3_11eb_9287_3af9d350abc5row126_col1\" class=\"data row126 col1\" >Environmental Cleanup</td>\n",
       "                        <td id=\"T_b8aa991c_8bc3_11eb_9287_3af9d350abc5row126_col2\" class=\"data row126 col2\" >Glencore</td>\n",
       "                        <td id=\"T_b8aa991c_8bc3_11eb_9287_3af9d350abc5row126_col3\" class=\"data row126 col3\" >negative</td>\n",
       "                        <td id=\"T_b8aa991c_8bc3_11eb_9287_3af9d350abc5row126_col4\" class=\"data row126 col4\" >20</td>\n",
       "            </tr>\n",
       "            <tr>\n",
       "                        <th id=\"T_b8aa991c_8bc3_11eb_9287_3af9d350abc5level0_row127\" class=\"row_heading level0 row127\" >127</th>\n",
       "                        <td id=\"T_b8aa991c_8bc3_11eb_9287_3af9d350abc5row127_col0\" class=\"data row127 col0\" >2020-09-01</td>\n",
       "                        <td id=\"T_b8aa991c_8bc3_11eb_9287_3af9d350abc5row127_col1\" class=\"data row127 col1\" >Environmental Cleanup</td>\n",
       "                        <td id=\"T_b8aa991c_8bc3_11eb_9287_3af9d350abc5row127_col2\" class=\"data row127 col2\" >Glencore</td>\n",
       "                        <td id=\"T_b8aa991c_8bc3_11eb_9287_3af9d350abc5row127_col3\" class=\"data row127 col3\" >neutral</td>\n",
       "                        <td id=\"T_b8aa991c_8bc3_11eb_9287_3af9d350abc5row127_col4\" class=\"data row127 col4\" >263</td>\n",
       "            </tr>\n",
       "            <tr>\n",
       "                        <th id=\"T_b8aa991c_8bc3_11eb_9287_3af9d350abc5level0_row128\" class=\"row_heading level0 row128\" >128</th>\n",
       "                        <td id=\"T_b8aa991c_8bc3_11eb_9287_3af9d350abc5row128_col0\" class=\"data row128 col0\" >2020-09-01</td>\n",
       "                        <td id=\"T_b8aa991c_8bc3_11eb_9287_3af9d350abc5row128_col1\" class=\"data row128 col1\" >Environmental Cleanup</td>\n",
       "                        <td id=\"T_b8aa991c_8bc3_11eb_9287_3af9d350abc5row128_col2\" class=\"data row128 col2\" >Glencore</td>\n",
       "                        <td id=\"T_b8aa991c_8bc3_11eb_9287_3af9d350abc5row128_col3\" class=\"data row128 col3\" >positive</td>\n",
       "                        <td id=\"T_b8aa991c_8bc3_11eb_9287_3af9d350abc5row128_col4\" class=\"data row128 col4\" >98</td>\n",
       "            </tr>\n",
       "            <tr>\n",
       "                        <th id=\"T_b8aa991c_8bc3_11eb_9287_3af9d350abc5level0_row129\" class=\"row_heading level0 row129\" >129</th>\n",
       "                        <td id=\"T_b8aa991c_8bc3_11eb_9287_3af9d350abc5row129_col0\" class=\"data row129 col0\" >2020-09-01</td>\n",
       "                        <td id=\"T_b8aa991c_8bc3_11eb_9287_3af9d350abc5row129_col1\" class=\"data row129 col1\" >Environmental Cleanup</td>\n",
       "                        <td id=\"T_b8aa991c_8bc3_11eb_9287_3af9d350abc5row129_col2\" class=\"data row129 col2\" >Anglo American plc</td>\n",
       "                        <td id=\"T_b8aa991c_8bc3_11eb_9287_3af9d350abc5row129_col3\" class=\"data row129 col3\" >negative</td>\n",
       "                        <td id=\"T_b8aa991c_8bc3_11eb_9287_3af9d350abc5row129_col4\" class=\"data row129 col4\" >10</td>\n",
       "            </tr>\n",
       "            <tr>\n",
       "                        <th id=\"T_b8aa991c_8bc3_11eb_9287_3af9d350abc5level0_row130\" class=\"row_heading level0 row130\" >130</th>\n",
       "                        <td id=\"T_b8aa991c_8bc3_11eb_9287_3af9d350abc5row130_col0\" class=\"data row130 col0\" >2020-09-01</td>\n",
       "                        <td id=\"T_b8aa991c_8bc3_11eb_9287_3af9d350abc5row130_col1\" class=\"data row130 col1\" >Environmental Cleanup</td>\n",
       "                        <td id=\"T_b8aa991c_8bc3_11eb_9287_3af9d350abc5row130_col2\" class=\"data row130 col2\" >Anglo American plc</td>\n",
       "                        <td id=\"T_b8aa991c_8bc3_11eb_9287_3af9d350abc5row130_col3\" class=\"data row130 col3\" >neutral</td>\n",
       "                        <td id=\"T_b8aa991c_8bc3_11eb_9287_3af9d350abc5row130_col4\" class=\"data row130 col4\" >136</td>\n",
       "            </tr>\n",
       "            <tr>\n",
       "                        <th id=\"T_b8aa991c_8bc3_11eb_9287_3af9d350abc5level0_row131\" class=\"row_heading level0 row131\" >131</th>\n",
       "                        <td id=\"T_b8aa991c_8bc3_11eb_9287_3af9d350abc5row131_col0\" class=\"data row131 col0\" >2020-09-01</td>\n",
       "                        <td id=\"T_b8aa991c_8bc3_11eb_9287_3af9d350abc5row131_col1\" class=\"data row131 col1\" >Environmental Cleanup</td>\n",
       "                        <td id=\"T_b8aa991c_8bc3_11eb_9287_3af9d350abc5row131_col2\" class=\"data row131 col2\" >Anglo American plc</td>\n",
       "                        <td id=\"T_b8aa991c_8bc3_11eb_9287_3af9d350abc5row131_col3\" class=\"data row131 col3\" >positive</td>\n",
       "                        <td id=\"T_b8aa991c_8bc3_11eb_9287_3af9d350abc5row131_col4\" class=\"data row131 col4\" >36</td>\n",
       "            </tr>\n",
       "            <tr>\n",
       "                        <th id=\"T_b8aa991c_8bc3_11eb_9287_3af9d350abc5level0_row132\" class=\"row_heading level0 row132\" >132</th>\n",
       "                        <td id=\"T_b8aa991c_8bc3_11eb_9287_3af9d350abc5row132_col0\" class=\"data row132 col0\" >2020-09-01</td>\n",
       "                        <td id=\"T_b8aa991c_8bc3_11eb_9287_3af9d350abc5row132_col1\" class=\"data row132 col1\" >Sustainability</td>\n",
       "                        <td id=\"T_b8aa991c_8bc3_11eb_9287_3af9d350abc5row132_col2\" class=\"data row132 col2\" >BHP</td>\n",
       "                        <td id=\"T_b8aa991c_8bc3_11eb_9287_3af9d350abc5row132_col3\" class=\"data row132 col3\" >negative</td>\n",
       "                        <td id=\"T_b8aa991c_8bc3_11eb_9287_3af9d350abc5row132_col4\" class=\"data row132 col4\" >18</td>\n",
       "            </tr>\n",
       "            <tr>\n",
       "                        <th id=\"T_b8aa991c_8bc3_11eb_9287_3af9d350abc5level0_row133\" class=\"row_heading level0 row133\" >133</th>\n",
       "                        <td id=\"T_b8aa991c_8bc3_11eb_9287_3af9d350abc5row133_col0\" class=\"data row133 col0\" >2020-09-01</td>\n",
       "                        <td id=\"T_b8aa991c_8bc3_11eb_9287_3af9d350abc5row133_col1\" class=\"data row133 col1\" >Sustainability</td>\n",
       "                        <td id=\"T_b8aa991c_8bc3_11eb_9287_3af9d350abc5row133_col2\" class=\"data row133 col2\" >BHP</td>\n",
       "                        <td id=\"T_b8aa991c_8bc3_11eb_9287_3af9d350abc5row133_col3\" class=\"data row133 col3\" >neutral</td>\n",
       "                        <td id=\"T_b8aa991c_8bc3_11eb_9287_3af9d350abc5row133_col4\" class=\"data row133 col4\" >78</td>\n",
       "            </tr>\n",
       "            <tr>\n",
       "                        <th id=\"T_b8aa991c_8bc3_11eb_9287_3af9d350abc5level0_row134\" class=\"row_heading level0 row134\" >134</th>\n",
       "                        <td id=\"T_b8aa991c_8bc3_11eb_9287_3af9d350abc5row134_col0\" class=\"data row134 col0\" >2020-09-01</td>\n",
       "                        <td id=\"T_b8aa991c_8bc3_11eb_9287_3af9d350abc5row134_col1\" class=\"data row134 col1\" >Sustainability</td>\n",
       "                        <td id=\"T_b8aa991c_8bc3_11eb_9287_3af9d350abc5row134_col2\" class=\"data row134 col2\" >BHP</td>\n",
       "                        <td id=\"T_b8aa991c_8bc3_11eb_9287_3af9d350abc5row134_col3\" class=\"data row134 col3\" >positive</td>\n",
       "                        <td id=\"T_b8aa991c_8bc3_11eb_9287_3af9d350abc5row134_col4\" class=\"data row134 col4\" >347</td>\n",
       "            </tr>\n",
       "            <tr>\n",
       "                        <th id=\"T_b8aa991c_8bc3_11eb_9287_3af9d350abc5level0_row135\" class=\"row_heading level0 row135\" >135</th>\n",
       "                        <td id=\"T_b8aa991c_8bc3_11eb_9287_3af9d350abc5row135_col0\" class=\"data row135 col0\" >2020-09-01</td>\n",
       "                        <td id=\"T_b8aa991c_8bc3_11eb_9287_3af9d350abc5row135_col1\" class=\"data row135 col1\" >Sustainability</td>\n",
       "                        <td id=\"T_b8aa991c_8bc3_11eb_9287_3af9d350abc5row135_col2\" class=\"data row135 col2\" >Rio Tinto Group</td>\n",
       "                        <td id=\"T_b8aa991c_8bc3_11eb_9287_3af9d350abc5row135_col3\" class=\"data row135 col3\" >negative</td>\n",
       "                        <td id=\"T_b8aa991c_8bc3_11eb_9287_3af9d350abc5row135_col4\" class=\"data row135 col4\" >25</td>\n",
       "            </tr>\n",
       "            <tr>\n",
       "                        <th id=\"T_b8aa991c_8bc3_11eb_9287_3af9d350abc5level0_row136\" class=\"row_heading level0 row136\" >136</th>\n",
       "                        <td id=\"T_b8aa991c_8bc3_11eb_9287_3af9d350abc5row136_col0\" class=\"data row136 col0\" >2020-09-01</td>\n",
       "                        <td id=\"T_b8aa991c_8bc3_11eb_9287_3af9d350abc5row136_col1\" class=\"data row136 col1\" >Sustainability</td>\n",
       "                        <td id=\"T_b8aa991c_8bc3_11eb_9287_3af9d350abc5row136_col2\" class=\"data row136 col2\" >Rio Tinto Group</td>\n",
       "                        <td id=\"T_b8aa991c_8bc3_11eb_9287_3af9d350abc5row136_col3\" class=\"data row136 col3\" >neutral</td>\n",
       "                        <td id=\"T_b8aa991c_8bc3_11eb_9287_3af9d350abc5row136_col4\" class=\"data row136 col4\" >316</td>\n",
       "            </tr>\n",
       "            <tr>\n",
       "                        <th id=\"T_b8aa991c_8bc3_11eb_9287_3af9d350abc5level0_row137\" class=\"row_heading level0 row137\" >137</th>\n",
       "                        <td id=\"T_b8aa991c_8bc3_11eb_9287_3af9d350abc5row137_col0\" class=\"data row137 col0\" >2020-09-01</td>\n",
       "                        <td id=\"T_b8aa991c_8bc3_11eb_9287_3af9d350abc5row137_col1\" class=\"data row137 col1\" >Sustainability</td>\n",
       "                        <td id=\"T_b8aa991c_8bc3_11eb_9287_3af9d350abc5row137_col2\" class=\"data row137 col2\" >Rio Tinto Group</td>\n",
       "                        <td id=\"T_b8aa991c_8bc3_11eb_9287_3af9d350abc5row137_col3\" class=\"data row137 col3\" >positive</td>\n",
       "                        <td id=\"T_b8aa991c_8bc3_11eb_9287_3af9d350abc5row137_col4\" class=\"data row137 col4\" >136</td>\n",
       "            </tr>\n",
       "            <tr>\n",
       "                        <th id=\"T_b8aa991c_8bc3_11eb_9287_3af9d350abc5level0_row138\" class=\"row_heading level0 row138\" >138</th>\n",
       "                        <td id=\"T_b8aa991c_8bc3_11eb_9287_3af9d350abc5row138_col0\" class=\"data row138 col0\" >2020-09-01</td>\n",
       "                        <td id=\"T_b8aa991c_8bc3_11eb_9287_3af9d350abc5row138_col1\" class=\"data row138 col1\" >Sustainability</td>\n",
       "                        <td id=\"T_b8aa991c_8bc3_11eb_9287_3af9d350abc5row138_col2\" class=\"data row138 col2\" >Glencore</td>\n",
       "                        <td id=\"T_b8aa991c_8bc3_11eb_9287_3af9d350abc5row138_col3\" class=\"data row138 col3\" >negative</td>\n",
       "                        <td id=\"T_b8aa991c_8bc3_11eb_9287_3af9d350abc5row138_col4\" class=\"data row138 col4\" >15</td>\n",
       "            </tr>\n",
       "            <tr>\n",
       "                        <th id=\"T_b8aa991c_8bc3_11eb_9287_3af9d350abc5level0_row139\" class=\"row_heading level0 row139\" >139</th>\n",
       "                        <td id=\"T_b8aa991c_8bc3_11eb_9287_3af9d350abc5row139_col0\" class=\"data row139 col0\" >2020-09-01</td>\n",
       "                        <td id=\"T_b8aa991c_8bc3_11eb_9287_3af9d350abc5row139_col1\" class=\"data row139 col1\" >Sustainability</td>\n",
       "                        <td id=\"T_b8aa991c_8bc3_11eb_9287_3af9d350abc5row139_col2\" class=\"data row139 col2\" >Glencore</td>\n",
       "                        <td id=\"T_b8aa991c_8bc3_11eb_9287_3af9d350abc5row139_col3\" class=\"data row139 col3\" >neutral</td>\n",
       "                        <td id=\"T_b8aa991c_8bc3_11eb_9287_3af9d350abc5row139_col4\" class=\"data row139 col4\" >234</td>\n",
       "            </tr>\n",
       "            <tr>\n",
       "                        <th id=\"T_b8aa991c_8bc3_11eb_9287_3af9d350abc5level0_row140\" class=\"row_heading level0 row140\" >140</th>\n",
       "                        <td id=\"T_b8aa991c_8bc3_11eb_9287_3af9d350abc5row140_col0\" class=\"data row140 col0\" >2020-09-01</td>\n",
       "                        <td id=\"T_b8aa991c_8bc3_11eb_9287_3af9d350abc5row140_col1\" class=\"data row140 col1\" >Sustainability</td>\n",
       "                        <td id=\"T_b8aa991c_8bc3_11eb_9287_3af9d350abc5row140_col2\" class=\"data row140 col2\" >Glencore</td>\n",
       "                        <td id=\"T_b8aa991c_8bc3_11eb_9287_3af9d350abc5row140_col3\" class=\"data row140 col3\" >positive</td>\n",
       "                        <td id=\"T_b8aa991c_8bc3_11eb_9287_3af9d350abc5row140_col4\" class=\"data row140 col4\" >142</td>\n",
       "            </tr>\n",
       "            <tr>\n",
       "                        <th id=\"T_b8aa991c_8bc3_11eb_9287_3af9d350abc5level0_row141\" class=\"row_heading level0 row141\" >141</th>\n",
       "                        <td id=\"T_b8aa991c_8bc3_11eb_9287_3af9d350abc5row141_col0\" class=\"data row141 col0\" >2020-09-01</td>\n",
       "                        <td id=\"T_b8aa991c_8bc3_11eb_9287_3af9d350abc5row141_col1\" class=\"data row141 col1\" >Sustainability</td>\n",
       "                        <td id=\"T_b8aa991c_8bc3_11eb_9287_3af9d350abc5row141_col2\" class=\"data row141 col2\" >Anglo American plc</td>\n",
       "                        <td id=\"T_b8aa991c_8bc3_11eb_9287_3af9d350abc5row141_col3\" class=\"data row141 col3\" >negative</td>\n",
       "                        <td id=\"T_b8aa991c_8bc3_11eb_9287_3af9d350abc5row141_col4\" class=\"data row141 col4\" >2</td>\n",
       "            </tr>\n",
       "            <tr>\n",
       "                        <th id=\"T_b8aa991c_8bc3_11eb_9287_3af9d350abc5level0_row142\" class=\"row_heading level0 row142\" >142</th>\n",
       "                        <td id=\"T_b8aa991c_8bc3_11eb_9287_3af9d350abc5row142_col0\" class=\"data row142 col0\" >2020-09-01</td>\n",
       "                        <td id=\"T_b8aa991c_8bc3_11eb_9287_3af9d350abc5row142_col1\" class=\"data row142 col1\" >Sustainability</td>\n",
       "                        <td id=\"T_b8aa991c_8bc3_11eb_9287_3af9d350abc5row142_col2\" class=\"data row142 col2\" >Anglo American plc</td>\n",
       "                        <td id=\"T_b8aa991c_8bc3_11eb_9287_3af9d350abc5row142_col3\" class=\"data row142 col3\" >neutral</td>\n",
       "                        <td id=\"T_b8aa991c_8bc3_11eb_9287_3af9d350abc5row142_col4\" class=\"data row142 col4\" >36</td>\n",
       "            </tr>\n",
       "            <tr>\n",
       "                        <th id=\"T_b8aa991c_8bc3_11eb_9287_3af9d350abc5level0_row143\" class=\"row_heading level0 row143\" >143</th>\n",
       "                        <td id=\"T_b8aa991c_8bc3_11eb_9287_3af9d350abc5row143_col0\" class=\"data row143 col0\" >2020-09-01</td>\n",
       "                        <td id=\"T_b8aa991c_8bc3_11eb_9287_3af9d350abc5row143_col1\" class=\"data row143 col1\" >Sustainability</td>\n",
       "                        <td id=\"T_b8aa991c_8bc3_11eb_9287_3af9d350abc5row143_col2\" class=\"data row143 col2\" >Anglo American plc</td>\n",
       "                        <td id=\"T_b8aa991c_8bc3_11eb_9287_3af9d350abc5row143_col3\" class=\"data row143 col3\" >positive</td>\n",
       "                        <td id=\"T_b8aa991c_8bc3_11eb_9287_3af9d350abc5row143_col4\" class=\"data row143 col4\" >193</td>\n",
       "            </tr>\n",
       "            <tr>\n",
       "                        <th id=\"T_b8aa991c_8bc3_11eb_9287_3af9d350abc5level0_row144\" class=\"row_heading level0 row144\" >144</th>\n",
       "                        <td id=\"T_b8aa991c_8bc3_11eb_9287_3af9d350abc5row144_col0\" class=\"data row144 col0\" >2020-10-01</td>\n",
       "                        <td id=\"T_b8aa991c_8bc3_11eb_9287_3af9d350abc5row144_col1\" class=\"data row144 col1\" >Chemicals</td>\n",
       "                        <td id=\"T_b8aa991c_8bc3_11eb_9287_3af9d350abc5row144_col2\" class=\"data row144 col2\" >Rio Tinto Group</td>\n",
       "                        <td id=\"T_b8aa991c_8bc3_11eb_9287_3af9d350abc5row144_col3\" class=\"data row144 col3\" >negative</td>\n",
       "                        <td id=\"T_b8aa991c_8bc3_11eb_9287_3af9d350abc5row144_col4\" class=\"data row144 col4\" >626</td>\n",
       "            </tr>\n",
       "            <tr>\n",
       "                        <th id=\"T_b8aa991c_8bc3_11eb_9287_3af9d350abc5level0_row145\" class=\"row_heading level0 row145\" >145</th>\n",
       "                        <td id=\"T_b8aa991c_8bc3_11eb_9287_3af9d350abc5row145_col0\" class=\"data row145 col0\" >2020-10-01</td>\n",
       "                        <td id=\"T_b8aa991c_8bc3_11eb_9287_3af9d350abc5row145_col1\" class=\"data row145 col1\" >Chemicals</td>\n",
       "                        <td id=\"T_b8aa991c_8bc3_11eb_9287_3af9d350abc5row145_col2\" class=\"data row145 col2\" >Rio Tinto Group</td>\n",
       "                        <td id=\"T_b8aa991c_8bc3_11eb_9287_3af9d350abc5row145_col3\" class=\"data row145 col3\" >neutral</td>\n",
       "                        <td id=\"T_b8aa991c_8bc3_11eb_9287_3af9d350abc5row145_col4\" class=\"data row145 col4\" >2358</td>\n",
       "            </tr>\n",
       "            <tr>\n",
       "                        <th id=\"T_b8aa991c_8bc3_11eb_9287_3af9d350abc5level0_row146\" class=\"row_heading level0 row146\" >146</th>\n",
       "                        <td id=\"T_b8aa991c_8bc3_11eb_9287_3af9d350abc5row146_col0\" class=\"data row146 col0\" >2020-10-01</td>\n",
       "                        <td id=\"T_b8aa991c_8bc3_11eb_9287_3af9d350abc5row146_col1\" class=\"data row146 col1\" >Chemicals</td>\n",
       "                        <td id=\"T_b8aa991c_8bc3_11eb_9287_3af9d350abc5row146_col2\" class=\"data row146 col2\" >Rio Tinto Group</td>\n",
       "                        <td id=\"T_b8aa991c_8bc3_11eb_9287_3af9d350abc5row146_col3\" class=\"data row146 col3\" >positive</td>\n",
       "                        <td id=\"T_b8aa991c_8bc3_11eb_9287_3af9d350abc5row146_col4\" class=\"data row146 col4\" >2529</td>\n",
       "            </tr>\n",
       "            <tr>\n",
       "                        <th id=\"T_b8aa991c_8bc3_11eb_9287_3af9d350abc5level0_row147\" class=\"row_heading level0 row147\" >147</th>\n",
       "                        <td id=\"T_b8aa991c_8bc3_11eb_9287_3af9d350abc5row147_col0\" class=\"data row147 col0\" >2020-10-01</td>\n",
       "                        <td id=\"T_b8aa991c_8bc3_11eb_9287_3af9d350abc5row147_col1\" class=\"data row147 col1\" >Chemicals</td>\n",
       "                        <td id=\"T_b8aa991c_8bc3_11eb_9287_3af9d350abc5row147_col2\" class=\"data row147 col2\" >BHP</td>\n",
       "                        <td id=\"T_b8aa991c_8bc3_11eb_9287_3af9d350abc5row147_col3\" class=\"data row147 col3\" >negative</td>\n",
       "                        <td id=\"T_b8aa991c_8bc3_11eb_9287_3af9d350abc5row147_col4\" class=\"data row147 col4\" >911</td>\n",
       "            </tr>\n",
       "            <tr>\n",
       "                        <th id=\"T_b8aa991c_8bc3_11eb_9287_3af9d350abc5level0_row148\" class=\"row_heading level0 row148\" >148</th>\n",
       "                        <td id=\"T_b8aa991c_8bc3_11eb_9287_3af9d350abc5row148_col0\" class=\"data row148 col0\" >2020-10-01</td>\n",
       "                        <td id=\"T_b8aa991c_8bc3_11eb_9287_3af9d350abc5row148_col1\" class=\"data row148 col1\" >Chemicals</td>\n",
       "                        <td id=\"T_b8aa991c_8bc3_11eb_9287_3af9d350abc5row148_col2\" class=\"data row148 col2\" >BHP</td>\n",
       "                        <td id=\"T_b8aa991c_8bc3_11eb_9287_3af9d350abc5row148_col3\" class=\"data row148 col3\" >neutral</td>\n",
       "                        <td id=\"T_b8aa991c_8bc3_11eb_9287_3af9d350abc5row148_col4\" class=\"data row148 col4\" >2580</td>\n",
       "            </tr>\n",
       "            <tr>\n",
       "                        <th id=\"T_b8aa991c_8bc3_11eb_9287_3af9d350abc5level0_row149\" class=\"row_heading level0 row149\" >149</th>\n",
       "                        <td id=\"T_b8aa991c_8bc3_11eb_9287_3af9d350abc5row149_col0\" class=\"data row149 col0\" >2020-10-01</td>\n",
       "                        <td id=\"T_b8aa991c_8bc3_11eb_9287_3af9d350abc5row149_col1\" class=\"data row149 col1\" >Chemicals</td>\n",
       "                        <td id=\"T_b8aa991c_8bc3_11eb_9287_3af9d350abc5row149_col2\" class=\"data row149 col2\" >BHP</td>\n",
       "                        <td id=\"T_b8aa991c_8bc3_11eb_9287_3af9d350abc5row149_col3\" class=\"data row149 col3\" >positive</td>\n",
       "                        <td id=\"T_b8aa991c_8bc3_11eb_9287_3af9d350abc5row149_col4\" class=\"data row149 col4\" >2205</td>\n",
       "            </tr>\n",
       "            <tr>\n",
       "                        <th id=\"T_b8aa991c_8bc3_11eb_9287_3af9d350abc5level0_row150\" class=\"row_heading level0 row150\" >150</th>\n",
       "                        <td id=\"T_b8aa991c_8bc3_11eb_9287_3af9d350abc5row150_col0\" class=\"data row150 col0\" >2020-10-01</td>\n",
       "                        <td id=\"T_b8aa991c_8bc3_11eb_9287_3af9d350abc5row150_col1\" class=\"data row150 col1\" >Chemicals</td>\n",
       "                        <td id=\"T_b8aa991c_8bc3_11eb_9287_3af9d350abc5row150_col2\" class=\"data row150 col2\" >Anglo American plc</td>\n",
       "                        <td id=\"T_b8aa991c_8bc3_11eb_9287_3af9d350abc5row150_col3\" class=\"data row150 col3\" >negative</td>\n",
       "                        <td id=\"T_b8aa991c_8bc3_11eb_9287_3af9d350abc5row150_col4\" class=\"data row150 col4\" >341</td>\n",
       "            </tr>\n",
       "            <tr>\n",
       "                        <th id=\"T_b8aa991c_8bc3_11eb_9287_3af9d350abc5level0_row151\" class=\"row_heading level0 row151\" >151</th>\n",
       "                        <td id=\"T_b8aa991c_8bc3_11eb_9287_3af9d350abc5row151_col0\" class=\"data row151 col0\" >2020-10-01</td>\n",
       "                        <td id=\"T_b8aa991c_8bc3_11eb_9287_3af9d350abc5row151_col1\" class=\"data row151 col1\" >Chemicals</td>\n",
       "                        <td id=\"T_b8aa991c_8bc3_11eb_9287_3af9d350abc5row151_col2\" class=\"data row151 col2\" >Anglo American plc</td>\n",
       "                        <td id=\"T_b8aa991c_8bc3_11eb_9287_3af9d350abc5row151_col3\" class=\"data row151 col3\" >neutral</td>\n",
       "                        <td id=\"T_b8aa991c_8bc3_11eb_9287_3af9d350abc5row151_col4\" class=\"data row151 col4\" >1088</td>\n",
       "            </tr>\n",
       "            <tr>\n",
       "                        <th id=\"T_b8aa991c_8bc3_11eb_9287_3af9d350abc5level0_row152\" class=\"row_heading level0 row152\" >152</th>\n",
       "                        <td id=\"T_b8aa991c_8bc3_11eb_9287_3af9d350abc5row152_col0\" class=\"data row152 col0\" >2020-10-01</td>\n",
       "                        <td id=\"T_b8aa991c_8bc3_11eb_9287_3af9d350abc5row152_col1\" class=\"data row152 col1\" >Chemicals</td>\n",
       "                        <td id=\"T_b8aa991c_8bc3_11eb_9287_3af9d350abc5row152_col2\" class=\"data row152 col2\" >Anglo American plc</td>\n",
       "                        <td id=\"T_b8aa991c_8bc3_11eb_9287_3af9d350abc5row152_col3\" class=\"data row152 col3\" >positive</td>\n",
       "                        <td id=\"T_b8aa991c_8bc3_11eb_9287_3af9d350abc5row152_col4\" class=\"data row152 col4\" >1426</td>\n",
       "            </tr>\n",
       "            <tr>\n",
       "                        <th id=\"T_b8aa991c_8bc3_11eb_9287_3af9d350abc5level0_row153\" class=\"row_heading level0 row153\" >153</th>\n",
       "                        <td id=\"T_b8aa991c_8bc3_11eb_9287_3af9d350abc5row153_col0\" class=\"data row153 col0\" >2020-10-01</td>\n",
       "                        <td id=\"T_b8aa991c_8bc3_11eb_9287_3af9d350abc5row153_col1\" class=\"data row153 col1\" >Chemicals</td>\n",
       "                        <td id=\"T_b8aa991c_8bc3_11eb_9287_3af9d350abc5row153_col2\" class=\"data row153 col2\" >Glencore</td>\n",
       "                        <td id=\"T_b8aa991c_8bc3_11eb_9287_3af9d350abc5row153_col3\" class=\"data row153 col3\" >negative</td>\n",
       "                        <td id=\"T_b8aa991c_8bc3_11eb_9287_3af9d350abc5row153_col4\" class=\"data row153 col4\" >486</td>\n",
       "            </tr>\n",
       "            <tr>\n",
       "                        <th id=\"T_b8aa991c_8bc3_11eb_9287_3af9d350abc5level0_row154\" class=\"row_heading level0 row154\" >154</th>\n",
       "                        <td id=\"T_b8aa991c_8bc3_11eb_9287_3af9d350abc5row154_col0\" class=\"data row154 col0\" >2020-10-01</td>\n",
       "                        <td id=\"T_b8aa991c_8bc3_11eb_9287_3af9d350abc5row154_col1\" class=\"data row154 col1\" >Chemicals</td>\n",
       "                        <td id=\"T_b8aa991c_8bc3_11eb_9287_3af9d350abc5row154_col2\" class=\"data row154 col2\" >Glencore</td>\n",
       "                        <td id=\"T_b8aa991c_8bc3_11eb_9287_3af9d350abc5row154_col3\" class=\"data row154 col3\" >neutral</td>\n",
       "                        <td id=\"T_b8aa991c_8bc3_11eb_9287_3af9d350abc5row154_col4\" class=\"data row154 col4\" >1473</td>\n",
       "            </tr>\n",
       "            <tr>\n",
       "                        <th id=\"T_b8aa991c_8bc3_11eb_9287_3af9d350abc5level0_row155\" class=\"row_heading level0 row155\" >155</th>\n",
       "                        <td id=\"T_b8aa991c_8bc3_11eb_9287_3af9d350abc5row155_col0\" class=\"data row155 col0\" >2020-10-01</td>\n",
       "                        <td id=\"T_b8aa991c_8bc3_11eb_9287_3af9d350abc5row155_col1\" class=\"data row155 col1\" >Chemicals</td>\n",
       "                        <td id=\"T_b8aa991c_8bc3_11eb_9287_3af9d350abc5row155_col2\" class=\"data row155 col2\" >Glencore</td>\n",
       "                        <td id=\"T_b8aa991c_8bc3_11eb_9287_3af9d350abc5row155_col3\" class=\"data row155 col3\" >positive</td>\n",
       "                        <td id=\"T_b8aa991c_8bc3_11eb_9287_3af9d350abc5row155_col4\" class=\"data row155 col4\" >1035</td>\n",
       "            </tr>\n",
       "            <tr>\n",
       "                        <th id=\"T_b8aa991c_8bc3_11eb_9287_3af9d350abc5level0_row156\" class=\"row_heading level0 row156\" >156</th>\n",
       "                        <td id=\"T_b8aa991c_8bc3_11eb_9287_3af9d350abc5row156_col0\" class=\"data row156 col0\" >2020-10-01</td>\n",
       "                        <td id=\"T_b8aa991c_8bc3_11eb_9287_3af9d350abc5row156_col1\" class=\"data row156 col1\" >Corporate Controversy</td>\n",
       "                        <td id=\"T_b8aa991c_8bc3_11eb_9287_3af9d350abc5row156_col2\" class=\"data row156 col2\" >BHP</td>\n",
       "                        <td id=\"T_b8aa991c_8bc3_11eb_9287_3af9d350abc5row156_col3\" class=\"data row156 col3\" >negative</td>\n",
       "                        <td id=\"T_b8aa991c_8bc3_11eb_9287_3af9d350abc5row156_col4\" class=\"data row156 col4\" >884</td>\n",
       "            </tr>\n",
       "            <tr>\n",
       "                        <th id=\"T_b8aa991c_8bc3_11eb_9287_3af9d350abc5level0_row157\" class=\"row_heading level0 row157\" >157</th>\n",
       "                        <td id=\"T_b8aa991c_8bc3_11eb_9287_3af9d350abc5row157_col0\" class=\"data row157 col0\" >2020-10-01</td>\n",
       "                        <td id=\"T_b8aa991c_8bc3_11eb_9287_3af9d350abc5row157_col1\" class=\"data row157 col1\" >Corporate Controversy</td>\n",
       "                        <td id=\"T_b8aa991c_8bc3_11eb_9287_3af9d350abc5row157_col2\" class=\"data row157 col2\" >BHP</td>\n",
       "                        <td id=\"T_b8aa991c_8bc3_11eb_9287_3af9d350abc5row157_col3\" class=\"data row157 col3\" >neutral</td>\n",
       "                        <td id=\"T_b8aa991c_8bc3_11eb_9287_3af9d350abc5row157_col4\" class=\"data row157 col4\" >599</td>\n",
       "            </tr>\n",
       "            <tr>\n",
       "                        <th id=\"T_b8aa991c_8bc3_11eb_9287_3af9d350abc5level0_row158\" class=\"row_heading level0 row158\" >158</th>\n",
       "                        <td id=\"T_b8aa991c_8bc3_11eb_9287_3af9d350abc5row158_col0\" class=\"data row158 col0\" >2020-10-01</td>\n",
       "                        <td id=\"T_b8aa991c_8bc3_11eb_9287_3af9d350abc5row158_col1\" class=\"data row158 col1\" >Corporate Controversy</td>\n",
       "                        <td id=\"T_b8aa991c_8bc3_11eb_9287_3af9d350abc5row158_col2\" class=\"data row158 col2\" >BHP</td>\n",
       "                        <td id=\"T_b8aa991c_8bc3_11eb_9287_3af9d350abc5row158_col3\" class=\"data row158 col3\" >positive</td>\n",
       "                        <td id=\"T_b8aa991c_8bc3_11eb_9287_3af9d350abc5row158_col4\" class=\"data row158 col4\" >322</td>\n",
       "            </tr>\n",
       "            <tr>\n",
       "                        <th id=\"T_b8aa991c_8bc3_11eb_9287_3af9d350abc5level0_row159\" class=\"row_heading level0 row159\" >159</th>\n",
       "                        <td id=\"T_b8aa991c_8bc3_11eb_9287_3af9d350abc5row159_col0\" class=\"data row159 col0\" >2020-10-01</td>\n",
       "                        <td id=\"T_b8aa991c_8bc3_11eb_9287_3af9d350abc5row159_col1\" class=\"data row159 col1\" >Corporate Controversy</td>\n",
       "                        <td id=\"T_b8aa991c_8bc3_11eb_9287_3af9d350abc5row159_col2\" class=\"data row159 col2\" >Rio Tinto Group</td>\n",
       "                        <td id=\"T_b8aa991c_8bc3_11eb_9287_3af9d350abc5row159_col3\" class=\"data row159 col3\" >negative</td>\n",
       "                        <td id=\"T_b8aa991c_8bc3_11eb_9287_3af9d350abc5row159_col4\" class=\"data row159 col4\" >284</td>\n",
       "            </tr>\n",
       "            <tr>\n",
       "                        <th id=\"T_b8aa991c_8bc3_11eb_9287_3af9d350abc5level0_row160\" class=\"row_heading level0 row160\" >160</th>\n",
       "                        <td id=\"T_b8aa991c_8bc3_11eb_9287_3af9d350abc5row160_col0\" class=\"data row160 col0\" >2020-10-01</td>\n",
       "                        <td id=\"T_b8aa991c_8bc3_11eb_9287_3af9d350abc5row160_col1\" class=\"data row160 col1\" >Corporate Controversy</td>\n",
       "                        <td id=\"T_b8aa991c_8bc3_11eb_9287_3af9d350abc5row160_col2\" class=\"data row160 col2\" >Rio Tinto Group</td>\n",
       "                        <td id=\"T_b8aa991c_8bc3_11eb_9287_3af9d350abc5row160_col3\" class=\"data row160 col3\" >neutral</td>\n",
       "                        <td id=\"T_b8aa991c_8bc3_11eb_9287_3af9d350abc5row160_col4\" class=\"data row160 col4\" >1152</td>\n",
       "            </tr>\n",
       "            <tr>\n",
       "                        <th id=\"T_b8aa991c_8bc3_11eb_9287_3af9d350abc5level0_row161\" class=\"row_heading level0 row161\" >161</th>\n",
       "                        <td id=\"T_b8aa991c_8bc3_11eb_9287_3af9d350abc5row161_col0\" class=\"data row161 col0\" >2020-10-01</td>\n",
       "                        <td id=\"T_b8aa991c_8bc3_11eb_9287_3af9d350abc5row161_col1\" class=\"data row161 col1\" >Corporate Controversy</td>\n",
       "                        <td id=\"T_b8aa991c_8bc3_11eb_9287_3af9d350abc5row161_col2\" class=\"data row161 col2\" >Rio Tinto Group</td>\n",
       "                        <td id=\"T_b8aa991c_8bc3_11eb_9287_3af9d350abc5row161_col3\" class=\"data row161 col3\" >positive</td>\n",
       "                        <td id=\"T_b8aa991c_8bc3_11eb_9287_3af9d350abc5row161_col4\" class=\"data row161 col4\" >443</td>\n",
       "            </tr>\n",
       "            <tr>\n",
       "                        <th id=\"T_b8aa991c_8bc3_11eb_9287_3af9d350abc5level0_row162\" class=\"row_heading level0 row162\" >162</th>\n",
       "                        <td id=\"T_b8aa991c_8bc3_11eb_9287_3af9d350abc5row162_col0\" class=\"data row162 col0\" >2020-10-01</td>\n",
       "                        <td id=\"T_b8aa991c_8bc3_11eb_9287_3af9d350abc5row162_col1\" class=\"data row162 col1\" >Corporate Controversy</td>\n",
       "                        <td id=\"T_b8aa991c_8bc3_11eb_9287_3af9d350abc5row162_col2\" class=\"data row162 col2\" >Anglo American plc</td>\n",
       "                        <td id=\"T_b8aa991c_8bc3_11eb_9287_3af9d350abc5row162_col3\" class=\"data row162 col3\" >negative</td>\n",
       "                        <td id=\"T_b8aa991c_8bc3_11eb_9287_3af9d350abc5row162_col4\" class=\"data row162 col4\" >207</td>\n",
       "            </tr>\n",
       "            <tr>\n",
       "                        <th id=\"T_b8aa991c_8bc3_11eb_9287_3af9d350abc5level0_row163\" class=\"row_heading level0 row163\" >163</th>\n",
       "                        <td id=\"T_b8aa991c_8bc3_11eb_9287_3af9d350abc5row163_col0\" class=\"data row163 col0\" >2020-10-01</td>\n",
       "                        <td id=\"T_b8aa991c_8bc3_11eb_9287_3af9d350abc5row163_col1\" class=\"data row163 col1\" >Corporate Controversy</td>\n",
       "                        <td id=\"T_b8aa991c_8bc3_11eb_9287_3af9d350abc5row163_col2\" class=\"data row163 col2\" >Anglo American plc</td>\n",
       "                        <td id=\"T_b8aa991c_8bc3_11eb_9287_3af9d350abc5row163_col3\" class=\"data row163 col3\" >neutral</td>\n",
       "                        <td id=\"T_b8aa991c_8bc3_11eb_9287_3af9d350abc5row163_col4\" class=\"data row163 col4\" >421</td>\n",
       "            </tr>\n",
       "            <tr>\n",
       "                        <th id=\"T_b8aa991c_8bc3_11eb_9287_3af9d350abc5level0_row164\" class=\"row_heading level0 row164\" >164</th>\n",
       "                        <td id=\"T_b8aa991c_8bc3_11eb_9287_3af9d350abc5row164_col0\" class=\"data row164 col0\" >2020-10-01</td>\n",
       "                        <td id=\"T_b8aa991c_8bc3_11eb_9287_3af9d350abc5row164_col1\" class=\"data row164 col1\" >Corporate Controversy</td>\n",
       "                        <td id=\"T_b8aa991c_8bc3_11eb_9287_3af9d350abc5row164_col2\" class=\"data row164 col2\" >Anglo American plc</td>\n",
       "                        <td id=\"T_b8aa991c_8bc3_11eb_9287_3af9d350abc5row164_col3\" class=\"data row164 col3\" >positive</td>\n",
       "                        <td id=\"T_b8aa991c_8bc3_11eb_9287_3af9d350abc5row164_col4\" class=\"data row164 col4\" >194</td>\n",
       "            </tr>\n",
       "            <tr>\n",
       "                        <th id=\"T_b8aa991c_8bc3_11eb_9287_3af9d350abc5level0_row165\" class=\"row_heading level0 row165\" >165</th>\n",
       "                        <td id=\"T_b8aa991c_8bc3_11eb_9287_3af9d350abc5row165_col0\" class=\"data row165 col0\" >2020-10-01</td>\n",
       "                        <td id=\"T_b8aa991c_8bc3_11eb_9287_3af9d350abc5row165_col1\" class=\"data row165 col1\" >Corporate Controversy</td>\n",
       "                        <td id=\"T_b8aa991c_8bc3_11eb_9287_3af9d350abc5row165_col2\" class=\"data row165 col2\" >Glencore</td>\n",
       "                        <td id=\"T_b8aa991c_8bc3_11eb_9287_3af9d350abc5row165_col3\" class=\"data row165 col3\" >negative</td>\n",
       "                        <td id=\"T_b8aa991c_8bc3_11eb_9287_3af9d350abc5row165_col4\" class=\"data row165 col4\" >189</td>\n",
       "            </tr>\n",
       "            <tr>\n",
       "                        <th id=\"T_b8aa991c_8bc3_11eb_9287_3af9d350abc5level0_row166\" class=\"row_heading level0 row166\" >166</th>\n",
       "                        <td id=\"T_b8aa991c_8bc3_11eb_9287_3af9d350abc5row166_col0\" class=\"data row166 col0\" >2020-10-01</td>\n",
       "                        <td id=\"T_b8aa991c_8bc3_11eb_9287_3af9d350abc5row166_col1\" class=\"data row166 col1\" >Corporate Controversy</td>\n",
       "                        <td id=\"T_b8aa991c_8bc3_11eb_9287_3af9d350abc5row166_col2\" class=\"data row166 col2\" >Glencore</td>\n",
       "                        <td id=\"T_b8aa991c_8bc3_11eb_9287_3af9d350abc5row166_col3\" class=\"data row166 col3\" >neutral</td>\n",
       "                        <td id=\"T_b8aa991c_8bc3_11eb_9287_3af9d350abc5row166_col4\" class=\"data row166 col4\" >232</td>\n",
       "            </tr>\n",
       "            <tr>\n",
       "                        <th id=\"T_b8aa991c_8bc3_11eb_9287_3af9d350abc5level0_row167\" class=\"row_heading level0 row167\" >167</th>\n",
       "                        <td id=\"T_b8aa991c_8bc3_11eb_9287_3af9d350abc5row167_col0\" class=\"data row167 col0\" >2020-10-01</td>\n",
       "                        <td id=\"T_b8aa991c_8bc3_11eb_9287_3af9d350abc5row167_col1\" class=\"data row167 col1\" >Corporate Controversy</td>\n",
       "                        <td id=\"T_b8aa991c_8bc3_11eb_9287_3af9d350abc5row167_col2\" class=\"data row167 col2\" >Glencore</td>\n",
       "                        <td id=\"T_b8aa991c_8bc3_11eb_9287_3af9d350abc5row167_col3\" class=\"data row167 col3\" >positive</td>\n",
       "                        <td id=\"T_b8aa991c_8bc3_11eb_9287_3af9d350abc5row167_col4\" class=\"data row167 col4\" >153</td>\n",
       "            </tr>\n",
       "            <tr>\n",
       "                        <th id=\"T_b8aa991c_8bc3_11eb_9287_3af9d350abc5level0_row168\" class=\"row_heading level0 row168\" >168</th>\n",
       "                        <td id=\"T_b8aa991c_8bc3_11eb_9287_3af9d350abc5row168_col0\" class=\"data row168 col0\" >2020-10-01</td>\n",
       "                        <td id=\"T_b8aa991c_8bc3_11eb_9287_3af9d350abc5row168_col1\" class=\"data row168 col1\" >Environmental Cleanup</td>\n",
       "                        <td id=\"T_b8aa991c_8bc3_11eb_9287_3af9d350abc5row168_col2\" class=\"data row168 col2\" >BHP</td>\n",
       "                        <td id=\"T_b8aa991c_8bc3_11eb_9287_3af9d350abc5row168_col3\" class=\"data row168 col3\" >negative</td>\n",
       "                        <td id=\"T_b8aa991c_8bc3_11eb_9287_3af9d350abc5row168_col4\" class=\"data row168 col4\" >274</td>\n",
       "            </tr>\n",
       "            <tr>\n",
       "                        <th id=\"T_b8aa991c_8bc3_11eb_9287_3af9d350abc5level0_row169\" class=\"row_heading level0 row169\" >169</th>\n",
       "                        <td id=\"T_b8aa991c_8bc3_11eb_9287_3af9d350abc5row169_col0\" class=\"data row169 col0\" >2020-10-01</td>\n",
       "                        <td id=\"T_b8aa991c_8bc3_11eb_9287_3af9d350abc5row169_col1\" class=\"data row169 col1\" >Environmental Cleanup</td>\n",
       "                        <td id=\"T_b8aa991c_8bc3_11eb_9287_3af9d350abc5row169_col2\" class=\"data row169 col2\" >BHP</td>\n",
       "                        <td id=\"T_b8aa991c_8bc3_11eb_9287_3af9d350abc5row169_col3\" class=\"data row169 col3\" >neutral</td>\n",
       "                        <td id=\"T_b8aa991c_8bc3_11eb_9287_3af9d350abc5row169_col4\" class=\"data row169 col4\" >220</td>\n",
       "            </tr>\n",
       "            <tr>\n",
       "                        <th id=\"T_b8aa991c_8bc3_11eb_9287_3af9d350abc5level0_row170\" class=\"row_heading level0 row170\" >170</th>\n",
       "                        <td id=\"T_b8aa991c_8bc3_11eb_9287_3af9d350abc5row170_col0\" class=\"data row170 col0\" >2020-10-01</td>\n",
       "                        <td id=\"T_b8aa991c_8bc3_11eb_9287_3af9d350abc5row170_col1\" class=\"data row170 col1\" >Environmental Cleanup</td>\n",
       "                        <td id=\"T_b8aa991c_8bc3_11eb_9287_3af9d350abc5row170_col2\" class=\"data row170 col2\" >BHP</td>\n",
       "                        <td id=\"T_b8aa991c_8bc3_11eb_9287_3af9d350abc5row170_col3\" class=\"data row170 col3\" >positive</td>\n",
       "                        <td id=\"T_b8aa991c_8bc3_11eb_9287_3af9d350abc5row170_col4\" class=\"data row170 col4\" >328</td>\n",
       "            </tr>\n",
       "            <tr>\n",
       "                        <th id=\"T_b8aa991c_8bc3_11eb_9287_3af9d350abc5level0_row171\" class=\"row_heading level0 row171\" >171</th>\n",
       "                        <td id=\"T_b8aa991c_8bc3_11eb_9287_3af9d350abc5row171_col0\" class=\"data row171 col0\" >2020-10-01</td>\n",
       "                        <td id=\"T_b8aa991c_8bc3_11eb_9287_3af9d350abc5row171_col1\" class=\"data row171 col1\" >Environmental Cleanup</td>\n",
       "                        <td id=\"T_b8aa991c_8bc3_11eb_9287_3af9d350abc5row171_col2\" class=\"data row171 col2\" >Anglo American plc</td>\n",
       "                        <td id=\"T_b8aa991c_8bc3_11eb_9287_3af9d350abc5row171_col3\" class=\"data row171 col3\" >negative</td>\n",
       "                        <td id=\"T_b8aa991c_8bc3_11eb_9287_3af9d350abc5row171_col4\" class=\"data row171 col4\" >130</td>\n",
       "            </tr>\n",
       "            <tr>\n",
       "                        <th id=\"T_b8aa991c_8bc3_11eb_9287_3af9d350abc5level0_row172\" class=\"row_heading level0 row172\" >172</th>\n",
       "                        <td id=\"T_b8aa991c_8bc3_11eb_9287_3af9d350abc5row172_col0\" class=\"data row172 col0\" >2020-10-01</td>\n",
       "                        <td id=\"T_b8aa991c_8bc3_11eb_9287_3af9d350abc5row172_col1\" class=\"data row172 col1\" >Environmental Cleanup</td>\n",
       "                        <td id=\"T_b8aa991c_8bc3_11eb_9287_3af9d350abc5row172_col2\" class=\"data row172 col2\" >Anglo American plc</td>\n",
       "                        <td id=\"T_b8aa991c_8bc3_11eb_9287_3af9d350abc5row172_col3\" class=\"data row172 col3\" >neutral</td>\n",
       "                        <td id=\"T_b8aa991c_8bc3_11eb_9287_3af9d350abc5row172_col4\" class=\"data row172 col4\" >542</td>\n",
       "            </tr>\n",
       "            <tr>\n",
       "                        <th id=\"T_b8aa991c_8bc3_11eb_9287_3af9d350abc5level0_row173\" class=\"row_heading level0 row173\" >173</th>\n",
       "                        <td id=\"T_b8aa991c_8bc3_11eb_9287_3af9d350abc5row173_col0\" class=\"data row173 col0\" >2020-10-01</td>\n",
       "                        <td id=\"T_b8aa991c_8bc3_11eb_9287_3af9d350abc5row173_col1\" class=\"data row173 col1\" >Environmental Cleanup</td>\n",
       "                        <td id=\"T_b8aa991c_8bc3_11eb_9287_3af9d350abc5row173_col2\" class=\"data row173 col2\" >Anglo American plc</td>\n",
       "                        <td id=\"T_b8aa991c_8bc3_11eb_9287_3af9d350abc5row173_col3\" class=\"data row173 col3\" >positive</td>\n",
       "                        <td id=\"T_b8aa991c_8bc3_11eb_9287_3af9d350abc5row173_col4\" class=\"data row173 col4\" >253</td>\n",
       "            </tr>\n",
       "            <tr>\n",
       "                        <th id=\"T_b8aa991c_8bc3_11eb_9287_3af9d350abc5level0_row174\" class=\"row_heading level0 row174\" >174</th>\n",
       "                        <td id=\"T_b8aa991c_8bc3_11eb_9287_3af9d350abc5row174_col0\" class=\"data row174 col0\" >2020-10-01</td>\n",
       "                        <td id=\"T_b8aa991c_8bc3_11eb_9287_3af9d350abc5row174_col1\" class=\"data row174 col1\" >Environmental Cleanup</td>\n",
       "                        <td id=\"T_b8aa991c_8bc3_11eb_9287_3af9d350abc5row174_col2\" class=\"data row174 col2\" >Glencore</td>\n",
       "                        <td id=\"T_b8aa991c_8bc3_11eb_9287_3af9d350abc5row174_col3\" class=\"data row174 col3\" >negative</td>\n",
       "                        <td id=\"T_b8aa991c_8bc3_11eb_9287_3af9d350abc5row174_col4\" class=\"data row174 col4\" >141</td>\n",
       "            </tr>\n",
       "            <tr>\n",
       "                        <th id=\"T_b8aa991c_8bc3_11eb_9287_3af9d350abc5level0_row175\" class=\"row_heading level0 row175\" >175</th>\n",
       "                        <td id=\"T_b8aa991c_8bc3_11eb_9287_3af9d350abc5row175_col0\" class=\"data row175 col0\" >2020-10-01</td>\n",
       "                        <td id=\"T_b8aa991c_8bc3_11eb_9287_3af9d350abc5row175_col1\" class=\"data row175 col1\" >Environmental Cleanup</td>\n",
       "                        <td id=\"T_b8aa991c_8bc3_11eb_9287_3af9d350abc5row175_col2\" class=\"data row175 col2\" >Glencore</td>\n",
       "                        <td id=\"T_b8aa991c_8bc3_11eb_9287_3af9d350abc5row175_col3\" class=\"data row175 col3\" >neutral</td>\n",
       "                        <td id=\"T_b8aa991c_8bc3_11eb_9287_3af9d350abc5row175_col4\" class=\"data row175 col4\" >278</td>\n",
       "            </tr>\n",
       "            <tr>\n",
       "                        <th id=\"T_b8aa991c_8bc3_11eb_9287_3af9d350abc5level0_row176\" class=\"row_heading level0 row176\" >176</th>\n",
       "                        <td id=\"T_b8aa991c_8bc3_11eb_9287_3af9d350abc5row176_col0\" class=\"data row176 col0\" >2020-10-01</td>\n",
       "                        <td id=\"T_b8aa991c_8bc3_11eb_9287_3af9d350abc5row176_col1\" class=\"data row176 col1\" >Environmental Cleanup</td>\n",
       "                        <td id=\"T_b8aa991c_8bc3_11eb_9287_3af9d350abc5row176_col2\" class=\"data row176 col2\" >Glencore</td>\n",
       "                        <td id=\"T_b8aa991c_8bc3_11eb_9287_3af9d350abc5row176_col3\" class=\"data row176 col3\" >positive</td>\n",
       "                        <td id=\"T_b8aa991c_8bc3_11eb_9287_3af9d350abc5row176_col4\" class=\"data row176 col4\" >174</td>\n",
       "            </tr>\n",
       "            <tr>\n",
       "                        <th id=\"T_b8aa991c_8bc3_11eb_9287_3af9d350abc5level0_row177\" class=\"row_heading level0 row177\" >177</th>\n",
       "                        <td id=\"T_b8aa991c_8bc3_11eb_9287_3af9d350abc5row177_col0\" class=\"data row177 col0\" >2020-10-01</td>\n",
       "                        <td id=\"T_b8aa991c_8bc3_11eb_9287_3af9d350abc5row177_col1\" class=\"data row177 col1\" >Environmental Cleanup</td>\n",
       "                        <td id=\"T_b8aa991c_8bc3_11eb_9287_3af9d350abc5row177_col2\" class=\"data row177 col2\" >Rio Tinto Group</td>\n",
       "                        <td id=\"T_b8aa991c_8bc3_11eb_9287_3af9d350abc5row177_col3\" class=\"data row177 col3\" >negative</td>\n",
       "                        <td id=\"T_b8aa991c_8bc3_11eb_9287_3af9d350abc5row177_col4\" class=\"data row177 col4\" >92</td>\n",
       "            </tr>\n",
       "            <tr>\n",
       "                        <th id=\"T_b8aa991c_8bc3_11eb_9287_3af9d350abc5level0_row178\" class=\"row_heading level0 row178\" >178</th>\n",
       "                        <td id=\"T_b8aa991c_8bc3_11eb_9287_3af9d350abc5row178_col0\" class=\"data row178 col0\" >2020-10-01</td>\n",
       "                        <td id=\"T_b8aa991c_8bc3_11eb_9287_3af9d350abc5row178_col1\" class=\"data row178 col1\" >Environmental Cleanup</td>\n",
       "                        <td id=\"T_b8aa991c_8bc3_11eb_9287_3af9d350abc5row178_col2\" class=\"data row178 col2\" >Rio Tinto Group</td>\n",
       "                        <td id=\"T_b8aa991c_8bc3_11eb_9287_3af9d350abc5row178_col3\" class=\"data row178 col3\" >neutral</td>\n",
       "                        <td id=\"T_b8aa991c_8bc3_11eb_9287_3af9d350abc5row178_col4\" class=\"data row178 col4\" >238</td>\n",
       "            </tr>\n",
       "            <tr>\n",
       "                        <th id=\"T_b8aa991c_8bc3_11eb_9287_3af9d350abc5level0_row179\" class=\"row_heading level0 row179\" >179</th>\n",
       "                        <td id=\"T_b8aa991c_8bc3_11eb_9287_3af9d350abc5row179_col0\" class=\"data row179 col0\" >2020-10-01</td>\n",
       "                        <td id=\"T_b8aa991c_8bc3_11eb_9287_3af9d350abc5row179_col1\" class=\"data row179 col1\" >Environmental Cleanup</td>\n",
       "                        <td id=\"T_b8aa991c_8bc3_11eb_9287_3af9d350abc5row179_col2\" class=\"data row179 col2\" >Rio Tinto Group</td>\n",
       "                        <td id=\"T_b8aa991c_8bc3_11eb_9287_3af9d350abc5row179_col3\" class=\"data row179 col3\" >positive</td>\n",
       "                        <td id=\"T_b8aa991c_8bc3_11eb_9287_3af9d350abc5row179_col4\" class=\"data row179 col4\" >247</td>\n",
       "            </tr>\n",
       "            <tr>\n",
       "                        <th id=\"T_b8aa991c_8bc3_11eb_9287_3af9d350abc5level0_row180\" class=\"row_heading level0 row180\" >180</th>\n",
       "                        <td id=\"T_b8aa991c_8bc3_11eb_9287_3af9d350abc5row180_col0\" class=\"data row180 col0\" >2020-10-01</td>\n",
       "                        <td id=\"T_b8aa991c_8bc3_11eb_9287_3af9d350abc5row180_col1\" class=\"data row180 col1\" >Sustainability</td>\n",
       "                        <td id=\"T_b8aa991c_8bc3_11eb_9287_3af9d350abc5row180_col2\" class=\"data row180 col2\" >Rio Tinto Group</td>\n",
       "                        <td id=\"T_b8aa991c_8bc3_11eb_9287_3af9d350abc5row180_col3\" class=\"data row180 col3\" >negative</td>\n",
       "                        <td id=\"T_b8aa991c_8bc3_11eb_9287_3af9d350abc5row180_col4\" class=\"data row180 col4\" >17</td>\n",
       "            </tr>\n",
       "            <tr>\n",
       "                        <th id=\"T_b8aa991c_8bc3_11eb_9287_3af9d350abc5level0_row181\" class=\"row_heading level0 row181\" >181</th>\n",
       "                        <td id=\"T_b8aa991c_8bc3_11eb_9287_3af9d350abc5row181_col0\" class=\"data row181 col0\" >2020-10-01</td>\n",
       "                        <td id=\"T_b8aa991c_8bc3_11eb_9287_3af9d350abc5row181_col1\" class=\"data row181 col1\" >Sustainability</td>\n",
       "                        <td id=\"T_b8aa991c_8bc3_11eb_9287_3af9d350abc5row181_col2\" class=\"data row181 col2\" >Rio Tinto Group</td>\n",
       "                        <td id=\"T_b8aa991c_8bc3_11eb_9287_3af9d350abc5row181_col3\" class=\"data row181 col3\" >neutral</td>\n",
       "                        <td id=\"T_b8aa991c_8bc3_11eb_9287_3af9d350abc5row181_col4\" class=\"data row181 col4\" >125</td>\n",
       "            </tr>\n",
       "            <tr>\n",
       "                        <th id=\"T_b8aa991c_8bc3_11eb_9287_3af9d350abc5level0_row182\" class=\"row_heading level0 row182\" >182</th>\n",
       "                        <td id=\"T_b8aa991c_8bc3_11eb_9287_3af9d350abc5row182_col0\" class=\"data row182 col0\" >2020-10-01</td>\n",
       "                        <td id=\"T_b8aa991c_8bc3_11eb_9287_3af9d350abc5row182_col1\" class=\"data row182 col1\" >Sustainability</td>\n",
       "                        <td id=\"T_b8aa991c_8bc3_11eb_9287_3af9d350abc5row182_col2\" class=\"data row182 col2\" >Rio Tinto Group</td>\n",
       "                        <td id=\"T_b8aa991c_8bc3_11eb_9287_3af9d350abc5row182_col3\" class=\"data row182 col3\" >positive</td>\n",
       "                        <td id=\"T_b8aa991c_8bc3_11eb_9287_3af9d350abc5row182_col4\" class=\"data row182 col4\" >289</td>\n",
       "            </tr>\n",
       "            <tr>\n",
       "                        <th id=\"T_b8aa991c_8bc3_11eb_9287_3af9d350abc5level0_row183\" class=\"row_heading level0 row183\" >183</th>\n",
       "                        <td id=\"T_b8aa991c_8bc3_11eb_9287_3af9d350abc5row183_col0\" class=\"data row183 col0\" >2020-10-01</td>\n",
       "                        <td id=\"T_b8aa991c_8bc3_11eb_9287_3af9d350abc5row183_col1\" class=\"data row183 col1\" >Sustainability</td>\n",
       "                        <td id=\"T_b8aa991c_8bc3_11eb_9287_3af9d350abc5row183_col2\" class=\"data row183 col2\" >BHP</td>\n",
       "                        <td id=\"T_b8aa991c_8bc3_11eb_9287_3af9d350abc5row183_col3\" class=\"data row183 col3\" >negative</td>\n",
       "                        <td id=\"T_b8aa991c_8bc3_11eb_9287_3af9d350abc5row183_col4\" class=\"data row183 col4\" >60</td>\n",
       "            </tr>\n",
       "            <tr>\n",
       "                        <th id=\"T_b8aa991c_8bc3_11eb_9287_3af9d350abc5level0_row184\" class=\"row_heading level0 row184\" >184</th>\n",
       "                        <td id=\"T_b8aa991c_8bc3_11eb_9287_3af9d350abc5row184_col0\" class=\"data row184 col0\" >2020-10-01</td>\n",
       "                        <td id=\"T_b8aa991c_8bc3_11eb_9287_3af9d350abc5row184_col1\" class=\"data row184 col1\" >Sustainability</td>\n",
       "                        <td id=\"T_b8aa991c_8bc3_11eb_9287_3af9d350abc5row184_col2\" class=\"data row184 col2\" >BHP</td>\n",
       "                        <td id=\"T_b8aa991c_8bc3_11eb_9287_3af9d350abc5row184_col3\" class=\"data row184 col3\" >neutral</td>\n",
       "                        <td id=\"T_b8aa991c_8bc3_11eb_9287_3af9d350abc5row184_col4\" class=\"data row184 col4\" >154</td>\n",
       "            </tr>\n",
       "            <tr>\n",
       "                        <th id=\"T_b8aa991c_8bc3_11eb_9287_3af9d350abc5level0_row185\" class=\"row_heading level0 row185\" >185</th>\n",
       "                        <td id=\"T_b8aa991c_8bc3_11eb_9287_3af9d350abc5row185_col0\" class=\"data row185 col0\" >2020-10-01</td>\n",
       "                        <td id=\"T_b8aa991c_8bc3_11eb_9287_3af9d350abc5row185_col1\" class=\"data row185 col1\" >Sustainability</td>\n",
       "                        <td id=\"T_b8aa991c_8bc3_11eb_9287_3af9d350abc5row185_col2\" class=\"data row185 col2\" >BHP</td>\n",
       "                        <td id=\"T_b8aa991c_8bc3_11eb_9287_3af9d350abc5row185_col3\" class=\"data row185 col3\" >positive</td>\n",
       "                        <td id=\"T_b8aa991c_8bc3_11eb_9287_3af9d350abc5row185_col4\" class=\"data row185 col4\" >229</td>\n",
       "            </tr>\n",
       "            <tr>\n",
       "                        <th id=\"T_b8aa991c_8bc3_11eb_9287_3af9d350abc5level0_row186\" class=\"row_heading level0 row186\" >186</th>\n",
       "                        <td id=\"T_b8aa991c_8bc3_11eb_9287_3af9d350abc5row186_col0\" class=\"data row186 col0\" >2020-10-01</td>\n",
       "                        <td id=\"T_b8aa991c_8bc3_11eb_9287_3af9d350abc5row186_col1\" class=\"data row186 col1\" >Sustainability</td>\n",
       "                        <td id=\"T_b8aa991c_8bc3_11eb_9287_3af9d350abc5row186_col2\" class=\"data row186 col2\" >Anglo American plc</td>\n",
       "                        <td id=\"T_b8aa991c_8bc3_11eb_9287_3af9d350abc5row186_col3\" class=\"data row186 col3\" >negative</td>\n",
       "                        <td id=\"T_b8aa991c_8bc3_11eb_9287_3af9d350abc5row186_col4\" class=\"data row186 col4\" >1</td>\n",
       "            </tr>\n",
       "            <tr>\n",
       "                        <th id=\"T_b8aa991c_8bc3_11eb_9287_3af9d350abc5level0_row187\" class=\"row_heading level0 row187\" >187</th>\n",
       "                        <td id=\"T_b8aa991c_8bc3_11eb_9287_3af9d350abc5row187_col0\" class=\"data row187 col0\" >2020-10-01</td>\n",
       "                        <td id=\"T_b8aa991c_8bc3_11eb_9287_3af9d350abc5row187_col1\" class=\"data row187 col1\" >Sustainability</td>\n",
       "                        <td id=\"T_b8aa991c_8bc3_11eb_9287_3af9d350abc5row187_col2\" class=\"data row187 col2\" >Anglo American plc</td>\n",
       "                        <td id=\"T_b8aa991c_8bc3_11eb_9287_3af9d350abc5row187_col3\" class=\"data row187 col3\" >neutral</td>\n",
       "                        <td id=\"T_b8aa991c_8bc3_11eb_9287_3af9d350abc5row187_col4\" class=\"data row187 col4\" >81</td>\n",
       "            </tr>\n",
       "            <tr>\n",
       "                        <th id=\"T_b8aa991c_8bc3_11eb_9287_3af9d350abc5level0_row188\" class=\"row_heading level0 row188\" >188</th>\n",
       "                        <td id=\"T_b8aa991c_8bc3_11eb_9287_3af9d350abc5row188_col0\" class=\"data row188 col0\" >2020-10-01</td>\n",
       "                        <td id=\"T_b8aa991c_8bc3_11eb_9287_3af9d350abc5row188_col1\" class=\"data row188 col1\" >Sustainability</td>\n",
       "                        <td id=\"T_b8aa991c_8bc3_11eb_9287_3af9d350abc5row188_col2\" class=\"data row188 col2\" >Anglo American plc</td>\n",
       "                        <td id=\"T_b8aa991c_8bc3_11eb_9287_3af9d350abc5row188_col3\" class=\"data row188 col3\" >positive</td>\n",
       "                        <td id=\"T_b8aa991c_8bc3_11eb_9287_3af9d350abc5row188_col4\" class=\"data row188 col4\" >127</td>\n",
       "            </tr>\n",
       "            <tr>\n",
       "                        <th id=\"T_b8aa991c_8bc3_11eb_9287_3af9d350abc5level0_row189\" class=\"row_heading level0 row189\" >189</th>\n",
       "                        <td id=\"T_b8aa991c_8bc3_11eb_9287_3af9d350abc5row189_col0\" class=\"data row189 col0\" >2020-10-01</td>\n",
       "                        <td id=\"T_b8aa991c_8bc3_11eb_9287_3af9d350abc5row189_col1\" class=\"data row189 col1\" >Sustainability</td>\n",
       "                        <td id=\"T_b8aa991c_8bc3_11eb_9287_3af9d350abc5row189_col2\" class=\"data row189 col2\" >Glencore</td>\n",
       "                        <td id=\"T_b8aa991c_8bc3_11eb_9287_3af9d350abc5row189_col3\" class=\"data row189 col3\" >negative</td>\n",
       "                        <td id=\"T_b8aa991c_8bc3_11eb_9287_3af9d350abc5row189_col4\" class=\"data row189 col4\" >26</td>\n",
       "            </tr>\n",
       "            <tr>\n",
       "                        <th id=\"T_b8aa991c_8bc3_11eb_9287_3af9d350abc5level0_row190\" class=\"row_heading level0 row190\" >190</th>\n",
       "                        <td id=\"T_b8aa991c_8bc3_11eb_9287_3af9d350abc5row190_col0\" class=\"data row190 col0\" >2020-10-01</td>\n",
       "                        <td id=\"T_b8aa991c_8bc3_11eb_9287_3af9d350abc5row190_col1\" class=\"data row190 col1\" >Sustainability</td>\n",
       "                        <td id=\"T_b8aa991c_8bc3_11eb_9287_3af9d350abc5row190_col2\" class=\"data row190 col2\" >Glencore</td>\n",
       "                        <td id=\"T_b8aa991c_8bc3_11eb_9287_3af9d350abc5row190_col3\" class=\"data row190 col3\" >neutral</td>\n",
       "                        <td id=\"T_b8aa991c_8bc3_11eb_9287_3af9d350abc5row190_col4\" class=\"data row190 col4\" >143</td>\n",
       "            </tr>\n",
       "            <tr>\n",
       "                        <th id=\"T_b8aa991c_8bc3_11eb_9287_3af9d350abc5level0_row191\" class=\"row_heading level0 row191\" >191</th>\n",
       "                        <td id=\"T_b8aa991c_8bc3_11eb_9287_3af9d350abc5row191_col0\" class=\"data row191 col0\" >2020-10-01</td>\n",
       "                        <td id=\"T_b8aa991c_8bc3_11eb_9287_3af9d350abc5row191_col1\" class=\"data row191 col1\" >Sustainability</td>\n",
       "                        <td id=\"T_b8aa991c_8bc3_11eb_9287_3af9d350abc5row191_col2\" class=\"data row191 col2\" >Glencore</td>\n",
       "                        <td id=\"T_b8aa991c_8bc3_11eb_9287_3af9d350abc5row191_col3\" class=\"data row191 col3\" >positive</td>\n",
       "                        <td id=\"T_b8aa991c_8bc3_11eb_9287_3af9d350abc5row191_col4\" class=\"data row191 col4\" >63</td>\n",
       "            </tr>\n",
       "            <tr>\n",
       "                        <th id=\"T_b8aa991c_8bc3_11eb_9287_3af9d350abc5level0_row192\" class=\"row_heading level0 row192\" >192</th>\n",
       "                        <td id=\"T_b8aa991c_8bc3_11eb_9287_3af9d350abc5row192_col0\" class=\"data row192 col0\" >2020-11-01</td>\n",
       "                        <td id=\"T_b8aa991c_8bc3_11eb_9287_3af9d350abc5row192_col1\" class=\"data row192 col1\" >Chemicals</td>\n",
       "                        <td id=\"T_b8aa991c_8bc3_11eb_9287_3af9d350abc5row192_col2\" class=\"data row192 col2\" >BHP</td>\n",
       "                        <td id=\"T_b8aa991c_8bc3_11eb_9287_3af9d350abc5row192_col3\" class=\"data row192 col3\" >negative</td>\n",
       "                        <td id=\"T_b8aa991c_8bc3_11eb_9287_3af9d350abc5row192_col4\" class=\"data row192 col4\" >539</td>\n",
       "            </tr>\n",
       "            <tr>\n",
       "                        <th id=\"T_b8aa991c_8bc3_11eb_9287_3af9d350abc5level0_row193\" class=\"row_heading level0 row193\" >193</th>\n",
       "                        <td id=\"T_b8aa991c_8bc3_11eb_9287_3af9d350abc5row193_col0\" class=\"data row193 col0\" >2020-11-01</td>\n",
       "                        <td id=\"T_b8aa991c_8bc3_11eb_9287_3af9d350abc5row193_col1\" class=\"data row193 col1\" >Chemicals</td>\n",
       "                        <td id=\"T_b8aa991c_8bc3_11eb_9287_3af9d350abc5row193_col2\" class=\"data row193 col2\" >BHP</td>\n",
       "                        <td id=\"T_b8aa991c_8bc3_11eb_9287_3af9d350abc5row193_col3\" class=\"data row193 col3\" >neutral</td>\n",
       "                        <td id=\"T_b8aa991c_8bc3_11eb_9287_3af9d350abc5row193_col4\" class=\"data row193 col4\" >1915</td>\n",
       "            </tr>\n",
       "            <tr>\n",
       "                        <th id=\"T_b8aa991c_8bc3_11eb_9287_3af9d350abc5level0_row194\" class=\"row_heading level0 row194\" >194</th>\n",
       "                        <td id=\"T_b8aa991c_8bc3_11eb_9287_3af9d350abc5row194_col0\" class=\"data row194 col0\" >2020-11-01</td>\n",
       "                        <td id=\"T_b8aa991c_8bc3_11eb_9287_3af9d350abc5row194_col1\" class=\"data row194 col1\" >Chemicals</td>\n",
       "                        <td id=\"T_b8aa991c_8bc3_11eb_9287_3af9d350abc5row194_col2\" class=\"data row194 col2\" >BHP</td>\n",
       "                        <td id=\"T_b8aa991c_8bc3_11eb_9287_3af9d350abc5row194_col3\" class=\"data row194 col3\" >positive</td>\n",
       "                        <td id=\"T_b8aa991c_8bc3_11eb_9287_3af9d350abc5row194_col4\" class=\"data row194 col4\" >1924</td>\n",
       "            </tr>\n",
       "            <tr>\n",
       "                        <th id=\"T_b8aa991c_8bc3_11eb_9287_3af9d350abc5level0_row195\" class=\"row_heading level0 row195\" >195</th>\n",
       "                        <td id=\"T_b8aa991c_8bc3_11eb_9287_3af9d350abc5row195_col0\" class=\"data row195 col0\" >2020-11-01</td>\n",
       "                        <td id=\"T_b8aa991c_8bc3_11eb_9287_3af9d350abc5row195_col1\" class=\"data row195 col1\" >Chemicals</td>\n",
       "                        <td id=\"T_b8aa991c_8bc3_11eb_9287_3af9d350abc5row195_col2\" class=\"data row195 col2\" >Rio Tinto Group</td>\n",
       "                        <td id=\"T_b8aa991c_8bc3_11eb_9287_3af9d350abc5row195_col3\" class=\"data row195 col3\" >negative</td>\n",
       "                        <td id=\"T_b8aa991c_8bc3_11eb_9287_3af9d350abc5row195_col4\" class=\"data row195 col4\" >199</td>\n",
       "            </tr>\n",
       "            <tr>\n",
       "                        <th id=\"T_b8aa991c_8bc3_11eb_9287_3af9d350abc5level0_row196\" class=\"row_heading level0 row196\" >196</th>\n",
       "                        <td id=\"T_b8aa991c_8bc3_11eb_9287_3af9d350abc5row196_col0\" class=\"data row196 col0\" >2020-11-01</td>\n",
       "                        <td id=\"T_b8aa991c_8bc3_11eb_9287_3af9d350abc5row196_col1\" class=\"data row196 col1\" >Chemicals</td>\n",
       "                        <td id=\"T_b8aa991c_8bc3_11eb_9287_3af9d350abc5row196_col2\" class=\"data row196 col2\" >Rio Tinto Group</td>\n",
       "                        <td id=\"T_b8aa991c_8bc3_11eb_9287_3af9d350abc5row196_col3\" class=\"data row196 col3\" >neutral</td>\n",
       "                        <td id=\"T_b8aa991c_8bc3_11eb_9287_3af9d350abc5row196_col4\" class=\"data row196 col4\" >2356</td>\n",
       "            </tr>\n",
       "            <tr>\n",
       "                        <th id=\"T_b8aa991c_8bc3_11eb_9287_3af9d350abc5level0_row197\" class=\"row_heading level0 row197\" >197</th>\n",
       "                        <td id=\"T_b8aa991c_8bc3_11eb_9287_3af9d350abc5row197_col0\" class=\"data row197 col0\" >2020-11-01</td>\n",
       "                        <td id=\"T_b8aa991c_8bc3_11eb_9287_3af9d350abc5row197_col1\" class=\"data row197 col1\" >Chemicals</td>\n",
       "                        <td id=\"T_b8aa991c_8bc3_11eb_9287_3af9d350abc5row197_col2\" class=\"data row197 col2\" >Rio Tinto Group</td>\n",
       "                        <td id=\"T_b8aa991c_8bc3_11eb_9287_3af9d350abc5row197_col3\" class=\"data row197 col3\" >positive</td>\n",
       "                        <td id=\"T_b8aa991c_8bc3_11eb_9287_3af9d350abc5row197_col4\" class=\"data row197 col4\" >2101</td>\n",
       "            </tr>\n",
       "            <tr>\n",
       "                        <th id=\"T_b8aa991c_8bc3_11eb_9287_3af9d350abc5level0_row198\" class=\"row_heading level0 row198\" >198</th>\n",
       "                        <td id=\"T_b8aa991c_8bc3_11eb_9287_3af9d350abc5row198_col0\" class=\"data row198 col0\" >2020-11-01</td>\n",
       "                        <td id=\"T_b8aa991c_8bc3_11eb_9287_3af9d350abc5row198_col1\" class=\"data row198 col1\" >Chemicals</td>\n",
       "                        <td id=\"T_b8aa991c_8bc3_11eb_9287_3af9d350abc5row198_col2\" class=\"data row198 col2\" >Glencore</td>\n",
       "                        <td id=\"T_b8aa991c_8bc3_11eb_9287_3af9d350abc5row198_col3\" class=\"data row198 col3\" >negative</td>\n",
       "                        <td id=\"T_b8aa991c_8bc3_11eb_9287_3af9d350abc5row198_col4\" class=\"data row198 col4\" >262</td>\n",
       "            </tr>\n",
       "            <tr>\n",
       "                        <th id=\"T_b8aa991c_8bc3_11eb_9287_3af9d350abc5level0_row199\" class=\"row_heading level0 row199\" >199</th>\n",
       "                        <td id=\"T_b8aa991c_8bc3_11eb_9287_3af9d350abc5row199_col0\" class=\"data row199 col0\" >2020-11-01</td>\n",
       "                        <td id=\"T_b8aa991c_8bc3_11eb_9287_3af9d350abc5row199_col1\" class=\"data row199 col1\" >Chemicals</td>\n",
       "                        <td id=\"T_b8aa991c_8bc3_11eb_9287_3af9d350abc5row199_col2\" class=\"data row199 col2\" >Glencore</td>\n",
       "                        <td id=\"T_b8aa991c_8bc3_11eb_9287_3af9d350abc5row199_col3\" class=\"data row199 col3\" >neutral</td>\n",
       "                        <td id=\"T_b8aa991c_8bc3_11eb_9287_3af9d350abc5row199_col4\" class=\"data row199 col4\" >1546</td>\n",
       "            </tr>\n",
       "            <tr>\n",
       "                        <th id=\"T_b8aa991c_8bc3_11eb_9287_3af9d350abc5level0_row200\" class=\"row_heading level0 row200\" >200</th>\n",
       "                        <td id=\"T_b8aa991c_8bc3_11eb_9287_3af9d350abc5row200_col0\" class=\"data row200 col0\" >2020-11-01</td>\n",
       "                        <td id=\"T_b8aa991c_8bc3_11eb_9287_3af9d350abc5row200_col1\" class=\"data row200 col1\" >Chemicals</td>\n",
       "                        <td id=\"T_b8aa991c_8bc3_11eb_9287_3af9d350abc5row200_col2\" class=\"data row200 col2\" >Glencore</td>\n",
       "                        <td id=\"T_b8aa991c_8bc3_11eb_9287_3af9d350abc5row200_col3\" class=\"data row200 col3\" >positive</td>\n",
       "                        <td id=\"T_b8aa991c_8bc3_11eb_9287_3af9d350abc5row200_col4\" class=\"data row200 col4\" >1128</td>\n",
       "            </tr>\n",
       "            <tr>\n",
       "                        <th id=\"T_b8aa991c_8bc3_11eb_9287_3af9d350abc5level0_row201\" class=\"row_heading level0 row201\" >201</th>\n",
       "                        <td id=\"T_b8aa991c_8bc3_11eb_9287_3af9d350abc5row201_col0\" class=\"data row201 col0\" >2020-11-01</td>\n",
       "                        <td id=\"T_b8aa991c_8bc3_11eb_9287_3af9d350abc5row201_col1\" class=\"data row201 col1\" >Chemicals</td>\n",
       "                        <td id=\"T_b8aa991c_8bc3_11eb_9287_3af9d350abc5row201_col2\" class=\"data row201 col2\" >Anglo American plc</td>\n",
       "                        <td id=\"T_b8aa991c_8bc3_11eb_9287_3af9d350abc5row201_col3\" class=\"data row201 col3\" >negative</td>\n",
       "                        <td id=\"T_b8aa991c_8bc3_11eb_9287_3af9d350abc5row201_col4\" class=\"data row201 col4\" >115</td>\n",
       "            </tr>\n",
       "            <tr>\n",
       "                        <th id=\"T_b8aa991c_8bc3_11eb_9287_3af9d350abc5level0_row202\" class=\"row_heading level0 row202\" >202</th>\n",
       "                        <td id=\"T_b8aa991c_8bc3_11eb_9287_3af9d350abc5row202_col0\" class=\"data row202 col0\" >2020-11-01</td>\n",
       "                        <td id=\"T_b8aa991c_8bc3_11eb_9287_3af9d350abc5row202_col1\" class=\"data row202 col1\" >Chemicals</td>\n",
       "                        <td id=\"T_b8aa991c_8bc3_11eb_9287_3af9d350abc5row202_col2\" class=\"data row202 col2\" >Anglo American plc</td>\n",
       "                        <td id=\"T_b8aa991c_8bc3_11eb_9287_3af9d350abc5row202_col3\" class=\"data row202 col3\" >neutral</td>\n",
       "                        <td id=\"T_b8aa991c_8bc3_11eb_9287_3af9d350abc5row202_col4\" class=\"data row202 col4\" >1002</td>\n",
       "            </tr>\n",
       "            <tr>\n",
       "                        <th id=\"T_b8aa991c_8bc3_11eb_9287_3af9d350abc5level0_row203\" class=\"row_heading level0 row203\" >203</th>\n",
       "                        <td id=\"T_b8aa991c_8bc3_11eb_9287_3af9d350abc5row203_col0\" class=\"data row203 col0\" >2020-11-01</td>\n",
       "                        <td id=\"T_b8aa991c_8bc3_11eb_9287_3af9d350abc5row203_col1\" class=\"data row203 col1\" >Chemicals</td>\n",
       "                        <td id=\"T_b8aa991c_8bc3_11eb_9287_3af9d350abc5row203_col2\" class=\"data row203 col2\" >Anglo American plc</td>\n",
       "                        <td id=\"T_b8aa991c_8bc3_11eb_9287_3af9d350abc5row203_col3\" class=\"data row203 col3\" >positive</td>\n",
       "                        <td id=\"T_b8aa991c_8bc3_11eb_9287_3af9d350abc5row203_col4\" class=\"data row203 col4\" >1427</td>\n",
       "            </tr>\n",
       "            <tr>\n",
       "                        <th id=\"T_b8aa991c_8bc3_11eb_9287_3af9d350abc5level0_row204\" class=\"row_heading level0 row204\" >204</th>\n",
       "                        <td id=\"T_b8aa991c_8bc3_11eb_9287_3af9d350abc5row204_col0\" class=\"data row204 col0\" >2020-11-01</td>\n",
       "                        <td id=\"T_b8aa991c_8bc3_11eb_9287_3af9d350abc5row204_col1\" class=\"data row204 col1\" >Corporate Controversy</td>\n",
       "                        <td id=\"T_b8aa991c_8bc3_11eb_9287_3af9d350abc5row204_col2\" class=\"data row204 col2\" >Rio Tinto Group</td>\n",
       "                        <td id=\"T_b8aa991c_8bc3_11eb_9287_3af9d350abc5row204_col3\" class=\"data row204 col3\" >negative</td>\n",
       "                        <td id=\"T_b8aa991c_8bc3_11eb_9287_3af9d350abc5row204_col4\" class=\"data row204 col4\" >159</td>\n",
       "            </tr>\n",
       "            <tr>\n",
       "                        <th id=\"T_b8aa991c_8bc3_11eb_9287_3af9d350abc5level0_row205\" class=\"row_heading level0 row205\" >205</th>\n",
       "                        <td id=\"T_b8aa991c_8bc3_11eb_9287_3af9d350abc5row205_col0\" class=\"data row205 col0\" >2020-11-01</td>\n",
       "                        <td id=\"T_b8aa991c_8bc3_11eb_9287_3af9d350abc5row205_col1\" class=\"data row205 col1\" >Corporate Controversy</td>\n",
       "                        <td id=\"T_b8aa991c_8bc3_11eb_9287_3af9d350abc5row205_col2\" class=\"data row205 col2\" >Rio Tinto Group</td>\n",
       "                        <td id=\"T_b8aa991c_8bc3_11eb_9287_3af9d350abc5row205_col3\" class=\"data row205 col3\" >neutral</td>\n",
       "                        <td id=\"T_b8aa991c_8bc3_11eb_9287_3af9d350abc5row205_col4\" class=\"data row205 col4\" >1243</td>\n",
       "            </tr>\n",
       "            <tr>\n",
       "                        <th id=\"T_b8aa991c_8bc3_11eb_9287_3af9d350abc5level0_row206\" class=\"row_heading level0 row206\" >206</th>\n",
       "                        <td id=\"T_b8aa991c_8bc3_11eb_9287_3af9d350abc5row206_col0\" class=\"data row206 col0\" >2020-11-01</td>\n",
       "                        <td id=\"T_b8aa991c_8bc3_11eb_9287_3af9d350abc5row206_col1\" class=\"data row206 col1\" >Corporate Controversy</td>\n",
       "                        <td id=\"T_b8aa991c_8bc3_11eb_9287_3af9d350abc5row206_col2\" class=\"data row206 col2\" >Rio Tinto Group</td>\n",
       "                        <td id=\"T_b8aa991c_8bc3_11eb_9287_3af9d350abc5row206_col3\" class=\"data row206 col3\" >positive</td>\n",
       "                        <td id=\"T_b8aa991c_8bc3_11eb_9287_3af9d350abc5row206_col4\" class=\"data row206 col4\" >291</td>\n",
       "            </tr>\n",
       "            <tr>\n",
       "                        <th id=\"T_b8aa991c_8bc3_11eb_9287_3af9d350abc5level0_row207\" class=\"row_heading level0 row207\" >207</th>\n",
       "                        <td id=\"T_b8aa991c_8bc3_11eb_9287_3af9d350abc5row207_col0\" class=\"data row207 col0\" >2020-11-01</td>\n",
       "                        <td id=\"T_b8aa991c_8bc3_11eb_9287_3af9d350abc5row207_col1\" class=\"data row207 col1\" >Corporate Controversy</td>\n",
       "                        <td id=\"T_b8aa991c_8bc3_11eb_9287_3af9d350abc5row207_col2\" class=\"data row207 col2\" >BHP</td>\n",
       "                        <td id=\"T_b8aa991c_8bc3_11eb_9287_3af9d350abc5row207_col3\" class=\"data row207 col3\" >negative</td>\n",
       "                        <td id=\"T_b8aa991c_8bc3_11eb_9287_3af9d350abc5row207_col4\" class=\"data row207 col4\" >553</td>\n",
       "            </tr>\n",
       "            <tr>\n",
       "                        <th id=\"T_b8aa991c_8bc3_11eb_9287_3af9d350abc5level0_row208\" class=\"row_heading level0 row208\" >208</th>\n",
       "                        <td id=\"T_b8aa991c_8bc3_11eb_9287_3af9d350abc5row208_col0\" class=\"data row208 col0\" >2020-11-01</td>\n",
       "                        <td id=\"T_b8aa991c_8bc3_11eb_9287_3af9d350abc5row208_col1\" class=\"data row208 col1\" >Corporate Controversy</td>\n",
       "                        <td id=\"T_b8aa991c_8bc3_11eb_9287_3af9d350abc5row208_col2\" class=\"data row208 col2\" >BHP</td>\n",
       "                        <td id=\"T_b8aa991c_8bc3_11eb_9287_3af9d350abc5row208_col3\" class=\"data row208 col3\" >neutral</td>\n",
       "                        <td id=\"T_b8aa991c_8bc3_11eb_9287_3af9d350abc5row208_col4\" class=\"data row208 col4\" >284</td>\n",
       "            </tr>\n",
       "            <tr>\n",
       "                        <th id=\"T_b8aa991c_8bc3_11eb_9287_3af9d350abc5level0_row209\" class=\"row_heading level0 row209\" >209</th>\n",
       "                        <td id=\"T_b8aa991c_8bc3_11eb_9287_3af9d350abc5row209_col0\" class=\"data row209 col0\" >2020-11-01</td>\n",
       "                        <td id=\"T_b8aa991c_8bc3_11eb_9287_3af9d350abc5row209_col1\" class=\"data row209 col1\" >Corporate Controversy</td>\n",
       "                        <td id=\"T_b8aa991c_8bc3_11eb_9287_3af9d350abc5row209_col2\" class=\"data row209 col2\" >BHP</td>\n",
       "                        <td id=\"T_b8aa991c_8bc3_11eb_9287_3af9d350abc5row209_col3\" class=\"data row209 col3\" >positive</td>\n",
       "                        <td id=\"T_b8aa991c_8bc3_11eb_9287_3af9d350abc5row209_col4\" class=\"data row209 col4\" >168</td>\n",
       "            </tr>\n",
       "            <tr>\n",
       "                        <th id=\"T_b8aa991c_8bc3_11eb_9287_3af9d350abc5level0_row210\" class=\"row_heading level0 row210\" >210</th>\n",
       "                        <td id=\"T_b8aa991c_8bc3_11eb_9287_3af9d350abc5row210_col0\" class=\"data row210 col0\" >2020-11-01</td>\n",
       "                        <td id=\"T_b8aa991c_8bc3_11eb_9287_3af9d350abc5row210_col1\" class=\"data row210 col1\" >Corporate Controversy</td>\n",
       "                        <td id=\"T_b8aa991c_8bc3_11eb_9287_3af9d350abc5row210_col2\" class=\"data row210 col2\" >Glencore</td>\n",
       "                        <td id=\"T_b8aa991c_8bc3_11eb_9287_3af9d350abc5row210_col3\" class=\"data row210 col3\" >negative</td>\n",
       "                        <td id=\"T_b8aa991c_8bc3_11eb_9287_3af9d350abc5row210_col4\" class=\"data row210 col4\" >454</td>\n",
       "            </tr>\n",
       "            <tr>\n",
       "                        <th id=\"T_b8aa991c_8bc3_11eb_9287_3af9d350abc5level0_row211\" class=\"row_heading level0 row211\" >211</th>\n",
       "                        <td id=\"T_b8aa991c_8bc3_11eb_9287_3af9d350abc5row211_col0\" class=\"data row211 col0\" >2020-11-01</td>\n",
       "                        <td id=\"T_b8aa991c_8bc3_11eb_9287_3af9d350abc5row211_col1\" class=\"data row211 col1\" >Corporate Controversy</td>\n",
       "                        <td id=\"T_b8aa991c_8bc3_11eb_9287_3af9d350abc5row211_col2\" class=\"data row211 col2\" >Glencore</td>\n",
       "                        <td id=\"T_b8aa991c_8bc3_11eb_9287_3af9d350abc5row211_col3\" class=\"data row211 col3\" >neutral</td>\n",
       "                        <td id=\"T_b8aa991c_8bc3_11eb_9287_3af9d350abc5row211_col4\" class=\"data row211 col4\" >311</td>\n",
       "            </tr>\n",
       "            <tr>\n",
       "                        <th id=\"T_b8aa991c_8bc3_11eb_9287_3af9d350abc5level0_row212\" class=\"row_heading level0 row212\" >212</th>\n",
       "                        <td id=\"T_b8aa991c_8bc3_11eb_9287_3af9d350abc5row212_col0\" class=\"data row212 col0\" >2020-11-01</td>\n",
       "                        <td id=\"T_b8aa991c_8bc3_11eb_9287_3af9d350abc5row212_col1\" class=\"data row212 col1\" >Corporate Controversy</td>\n",
       "                        <td id=\"T_b8aa991c_8bc3_11eb_9287_3af9d350abc5row212_col2\" class=\"data row212 col2\" >Glencore</td>\n",
       "                        <td id=\"T_b8aa991c_8bc3_11eb_9287_3af9d350abc5row212_col3\" class=\"data row212 col3\" >positive</td>\n",
       "                        <td id=\"T_b8aa991c_8bc3_11eb_9287_3af9d350abc5row212_col4\" class=\"data row212 col4\" >83</td>\n",
       "            </tr>\n",
       "            <tr>\n",
       "                        <th id=\"T_b8aa991c_8bc3_11eb_9287_3af9d350abc5level0_row213\" class=\"row_heading level0 row213\" >213</th>\n",
       "                        <td id=\"T_b8aa991c_8bc3_11eb_9287_3af9d350abc5row213_col0\" class=\"data row213 col0\" >2020-11-01</td>\n",
       "                        <td id=\"T_b8aa991c_8bc3_11eb_9287_3af9d350abc5row213_col1\" class=\"data row213 col1\" >Corporate Controversy</td>\n",
       "                        <td id=\"T_b8aa991c_8bc3_11eb_9287_3af9d350abc5row213_col2\" class=\"data row213 col2\" >Anglo American plc</td>\n",
       "                        <td id=\"T_b8aa991c_8bc3_11eb_9287_3af9d350abc5row213_col3\" class=\"data row213 col3\" >negative</td>\n",
       "                        <td id=\"T_b8aa991c_8bc3_11eb_9287_3af9d350abc5row213_col4\" class=\"data row213 col4\" >53</td>\n",
       "            </tr>\n",
       "            <tr>\n",
       "                        <th id=\"T_b8aa991c_8bc3_11eb_9287_3af9d350abc5level0_row214\" class=\"row_heading level0 row214\" >214</th>\n",
       "                        <td id=\"T_b8aa991c_8bc3_11eb_9287_3af9d350abc5row214_col0\" class=\"data row214 col0\" >2020-11-01</td>\n",
       "                        <td id=\"T_b8aa991c_8bc3_11eb_9287_3af9d350abc5row214_col1\" class=\"data row214 col1\" >Corporate Controversy</td>\n",
       "                        <td id=\"T_b8aa991c_8bc3_11eb_9287_3af9d350abc5row214_col2\" class=\"data row214 col2\" >Anglo American plc</td>\n",
       "                        <td id=\"T_b8aa991c_8bc3_11eb_9287_3af9d350abc5row214_col3\" class=\"data row214 col3\" >neutral</td>\n",
       "                        <td id=\"T_b8aa991c_8bc3_11eb_9287_3af9d350abc5row214_col4\" class=\"data row214 col4\" >131</td>\n",
       "            </tr>\n",
       "            <tr>\n",
       "                        <th id=\"T_b8aa991c_8bc3_11eb_9287_3af9d350abc5level0_row215\" class=\"row_heading level0 row215\" >215</th>\n",
       "                        <td id=\"T_b8aa991c_8bc3_11eb_9287_3af9d350abc5row215_col0\" class=\"data row215 col0\" >2020-11-01</td>\n",
       "                        <td id=\"T_b8aa991c_8bc3_11eb_9287_3af9d350abc5row215_col1\" class=\"data row215 col1\" >Corporate Controversy</td>\n",
       "                        <td id=\"T_b8aa991c_8bc3_11eb_9287_3af9d350abc5row215_col2\" class=\"data row215 col2\" >Anglo American plc</td>\n",
       "                        <td id=\"T_b8aa991c_8bc3_11eb_9287_3af9d350abc5row215_col3\" class=\"data row215 col3\" >positive</td>\n",
       "                        <td id=\"T_b8aa991c_8bc3_11eb_9287_3af9d350abc5row215_col4\" class=\"data row215 col4\" >44</td>\n",
       "            </tr>\n",
       "            <tr>\n",
       "                        <th id=\"T_b8aa991c_8bc3_11eb_9287_3af9d350abc5level0_row216\" class=\"row_heading level0 row216\" >216</th>\n",
       "                        <td id=\"T_b8aa991c_8bc3_11eb_9287_3af9d350abc5row216_col0\" class=\"data row216 col0\" >2020-11-01</td>\n",
       "                        <td id=\"T_b8aa991c_8bc3_11eb_9287_3af9d350abc5row216_col1\" class=\"data row216 col1\" >Environmental Cleanup</td>\n",
       "                        <td id=\"T_b8aa991c_8bc3_11eb_9287_3af9d350abc5row216_col2\" class=\"data row216 col2\" >BHP</td>\n",
       "                        <td id=\"T_b8aa991c_8bc3_11eb_9287_3af9d350abc5row216_col3\" class=\"data row216 col3\" >negative</td>\n",
       "                        <td id=\"T_b8aa991c_8bc3_11eb_9287_3af9d350abc5row216_col4\" class=\"data row216 col4\" >21</td>\n",
       "            </tr>\n",
       "            <tr>\n",
       "                        <th id=\"T_b8aa991c_8bc3_11eb_9287_3af9d350abc5level0_row217\" class=\"row_heading level0 row217\" >217</th>\n",
       "                        <td id=\"T_b8aa991c_8bc3_11eb_9287_3af9d350abc5row217_col0\" class=\"data row217 col0\" >2020-11-01</td>\n",
       "                        <td id=\"T_b8aa991c_8bc3_11eb_9287_3af9d350abc5row217_col1\" class=\"data row217 col1\" >Environmental Cleanup</td>\n",
       "                        <td id=\"T_b8aa991c_8bc3_11eb_9287_3af9d350abc5row217_col2\" class=\"data row217 col2\" >BHP</td>\n",
       "                        <td id=\"T_b8aa991c_8bc3_11eb_9287_3af9d350abc5row217_col3\" class=\"data row217 col3\" >neutral</td>\n",
       "                        <td id=\"T_b8aa991c_8bc3_11eb_9287_3af9d350abc5row217_col4\" class=\"data row217 col4\" >381</td>\n",
       "            </tr>\n",
       "            <tr>\n",
       "                        <th id=\"T_b8aa991c_8bc3_11eb_9287_3af9d350abc5level0_row218\" class=\"row_heading level0 row218\" >218</th>\n",
       "                        <td id=\"T_b8aa991c_8bc3_11eb_9287_3af9d350abc5row218_col0\" class=\"data row218 col0\" >2020-11-01</td>\n",
       "                        <td id=\"T_b8aa991c_8bc3_11eb_9287_3af9d350abc5row218_col1\" class=\"data row218 col1\" >Environmental Cleanup</td>\n",
       "                        <td id=\"T_b8aa991c_8bc3_11eb_9287_3af9d350abc5row218_col2\" class=\"data row218 col2\" >BHP</td>\n",
       "                        <td id=\"T_b8aa991c_8bc3_11eb_9287_3af9d350abc5row218_col3\" class=\"data row218 col3\" >positive</td>\n",
       "                        <td id=\"T_b8aa991c_8bc3_11eb_9287_3af9d350abc5row218_col4\" class=\"data row218 col4\" >409</td>\n",
       "            </tr>\n",
       "            <tr>\n",
       "                        <th id=\"T_b8aa991c_8bc3_11eb_9287_3af9d350abc5level0_row219\" class=\"row_heading level0 row219\" >219</th>\n",
       "                        <td id=\"T_b8aa991c_8bc3_11eb_9287_3af9d350abc5row219_col0\" class=\"data row219 col0\" >2020-11-01</td>\n",
       "                        <td id=\"T_b8aa991c_8bc3_11eb_9287_3af9d350abc5row219_col1\" class=\"data row219 col1\" >Environmental Cleanup</td>\n",
       "                        <td id=\"T_b8aa991c_8bc3_11eb_9287_3af9d350abc5row219_col2\" class=\"data row219 col2\" >Rio Tinto Group</td>\n",
       "                        <td id=\"T_b8aa991c_8bc3_11eb_9287_3af9d350abc5row219_col3\" class=\"data row219 col3\" >negative</td>\n",
       "                        <td id=\"T_b8aa991c_8bc3_11eb_9287_3af9d350abc5row219_col4\" class=\"data row219 col4\" >8</td>\n",
       "            </tr>\n",
       "            <tr>\n",
       "                        <th id=\"T_b8aa991c_8bc3_11eb_9287_3af9d350abc5level0_row220\" class=\"row_heading level0 row220\" >220</th>\n",
       "                        <td id=\"T_b8aa991c_8bc3_11eb_9287_3af9d350abc5row220_col0\" class=\"data row220 col0\" >2020-11-01</td>\n",
       "                        <td id=\"T_b8aa991c_8bc3_11eb_9287_3af9d350abc5row220_col1\" class=\"data row220 col1\" >Environmental Cleanup</td>\n",
       "                        <td id=\"T_b8aa991c_8bc3_11eb_9287_3af9d350abc5row220_col2\" class=\"data row220 col2\" >Rio Tinto Group</td>\n",
       "                        <td id=\"T_b8aa991c_8bc3_11eb_9287_3af9d350abc5row220_col3\" class=\"data row220 col3\" >neutral</td>\n",
       "                        <td id=\"T_b8aa991c_8bc3_11eb_9287_3af9d350abc5row220_col4\" class=\"data row220 col4\" >325</td>\n",
       "            </tr>\n",
       "            <tr>\n",
       "                        <th id=\"T_b8aa991c_8bc3_11eb_9287_3af9d350abc5level0_row221\" class=\"row_heading level0 row221\" >221</th>\n",
       "                        <td id=\"T_b8aa991c_8bc3_11eb_9287_3af9d350abc5row221_col0\" class=\"data row221 col0\" >2020-11-01</td>\n",
       "                        <td id=\"T_b8aa991c_8bc3_11eb_9287_3af9d350abc5row221_col1\" class=\"data row221 col1\" >Environmental Cleanup</td>\n",
       "                        <td id=\"T_b8aa991c_8bc3_11eb_9287_3af9d350abc5row221_col2\" class=\"data row221 col2\" >Rio Tinto Group</td>\n",
       "                        <td id=\"T_b8aa991c_8bc3_11eb_9287_3af9d350abc5row221_col3\" class=\"data row221 col3\" >positive</td>\n",
       "                        <td id=\"T_b8aa991c_8bc3_11eb_9287_3af9d350abc5row221_col4\" class=\"data row221 col4\" >151</td>\n",
       "            </tr>\n",
       "            <tr>\n",
       "                        <th id=\"T_b8aa991c_8bc3_11eb_9287_3af9d350abc5level0_row222\" class=\"row_heading level0 row222\" >222</th>\n",
       "                        <td id=\"T_b8aa991c_8bc3_11eb_9287_3af9d350abc5row222_col0\" class=\"data row222 col0\" >2020-11-01</td>\n",
       "                        <td id=\"T_b8aa991c_8bc3_11eb_9287_3af9d350abc5row222_col1\" class=\"data row222 col1\" >Environmental Cleanup</td>\n",
       "                        <td id=\"T_b8aa991c_8bc3_11eb_9287_3af9d350abc5row222_col2\" class=\"data row222 col2\" >Anglo American plc</td>\n",
       "                        <td id=\"T_b8aa991c_8bc3_11eb_9287_3af9d350abc5row222_col3\" class=\"data row222 col3\" >negative</td>\n",
       "                        <td id=\"T_b8aa991c_8bc3_11eb_9287_3af9d350abc5row222_col4\" class=\"data row222 col4\" >16</td>\n",
       "            </tr>\n",
       "            <tr>\n",
       "                        <th id=\"T_b8aa991c_8bc3_11eb_9287_3af9d350abc5level0_row223\" class=\"row_heading level0 row223\" >223</th>\n",
       "                        <td id=\"T_b8aa991c_8bc3_11eb_9287_3af9d350abc5row223_col0\" class=\"data row223 col0\" >2020-11-01</td>\n",
       "                        <td id=\"T_b8aa991c_8bc3_11eb_9287_3af9d350abc5row223_col1\" class=\"data row223 col1\" >Environmental Cleanup</td>\n",
       "                        <td id=\"T_b8aa991c_8bc3_11eb_9287_3af9d350abc5row223_col2\" class=\"data row223 col2\" >Anglo American plc</td>\n",
       "                        <td id=\"T_b8aa991c_8bc3_11eb_9287_3af9d350abc5row223_col3\" class=\"data row223 col3\" >neutral</td>\n",
       "                        <td id=\"T_b8aa991c_8bc3_11eb_9287_3af9d350abc5row223_col4\" class=\"data row223 col4\" >204</td>\n",
       "            </tr>\n",
       "            <tr>\n",
       "                        <th id=\"T_b8aa991c_8bc3_11eb_9287_3af9d350abc5level0_row224\" class=\"row_heading level0 row224\" >224</th>\n",
       "                        <td id=\"T_b8aa991c_8bc3_11eb_9287_3af9d350abc5row224_col0\" class=\"data row224 col0\" >2020-11-01</td>\n",
       "                        <td id=\"T_b8aa991c_8bc3_11eb_9287_3af9d350abc5row224_col1\" class=\"data row224 col1\" >Environmental Cleanup</td>\n",
       "                        <td id=\"T_b8aa991c_8bc3_11eb_9287_3af9d350abc5row224_col2\" class=\"data row224 col2\" >Anglo American plc</td>\n",
       "                        <td id=\"T_b8aa991c_8bc3_11eb_9287_3af9d350abc5row224_col3\" class=\"data row224 col3\" >positive</td>\n",
       "                        <td id=\"T_b8aa991c_8bc3_11eb_9287_3af9d350abc5row224_col4\" class=\"data row224 col4\" >217</td>\n",
       "            </tr>\n",
       "            <tr>\n",
       "                        <th id=\"T_b8aa991c_8bc3_11eb_9287_3af9d350abc5level0_row225\" class=\"row_heading level0 row225\" >225</th>\n",
       "                        <td id=\"T_b8aa991c_8bc3_11eb_9287_3af9d350abc5row225_col0\" class=\"data row225 col0\" >2020-11-01</td>\n",
       "                        <td id=\"T_b8aa991c_8bc3_11eb_9287_3af9d350abc5row225_col1\" class=\"data row225 col1\" >Environmental Cleanup</td>\n",
       "                        <td id=\"T_b8aa991c_8bc3_11eb_9287_3af9d350abc5row225_col2\" class=\"data row225 col2\" >Glencore</td>\n",
       "                        <td id=\"T_b8aa991c_8bc3_11eb_9287_3af9d350abc5row225_col3\" class=\"data row225 col3\" >negative</td>\n",
       "                        <td id=\"T_b8aa991c_8bc3_11eb_9287_3af9d350abc5row225_col4\" class=\"data row225 col4\" >19</td>\n",
       "            </tr>\n",
       "            <tr>\n",
       "                        <th id=\"T_b8aa991c_8bc3_11eb_9287_3af9d350abc5level0_row226\" class=\"row_heading level0 row226\" >226</th>\n",
       "                        <td id=\"T_b8aa991c_8bc3_11eb_9287_3af9d350abc5row226_col0\" class=\"data row226 col0\" >2020-11-01</td>\n",
       "                        <td id=\"T_b8aa991c_8bc3_11eb_9287_3af9d350abc5row226_col1\" class=\"data row226 col1\" >Environmental Cleanup</td>\n",
       "                        <td id=\"T_b8aa991c_8bc3_11eb_9287_3af9d350abc5row226_col2\" class=\"data row226 col2\" >Glencore</td>\n",
       "                        <td id=\"T_b8aa991c_8bc3_11eb_9287_3af9d350abc5row226_col3\" class=\"data row226 col3\" >neutral</td>\n",
       "                        <td id=\"T_b8aa991c_8bc3_11eb_9287_3af9d350abc5row226_col4\" class=\"data row226 col4\" >168</td>\n",
       "            </tr>\n",
       "            <tr>\n",
       "                        <th id=\"T_b8aa991c_8bc3_11eb_9287_3af9d350abc5level0_row227\" class=\"row_heading level0 row227\" >227</th>\n",
       "                        <td id=\"T_b8aa991c_8bc3_11eb_9287_3af9d350abc5row227_col0\" class=\"data row227 col0\" >2020-11-01</td>\n",
       "                        <td id=\"T_b8aa991c_8bc3_11eb_9287_3af9d350abc5row227_col1\" class=\"data row227 col1\" >Environmental Cleanup</td>\n",
       "                        <td id=\"T_b8aa991c_8bc3_11eb_9287_3af9d350abc5row227_col2\" class=\"data row227 col2\" >Glencore</td>\n",
       "                        <td id=\"T_b8aa991c_8bc3_11eb_9287_3af9d350abc5row227_col3\" class=\"data row227 col3\" >positive</td>\n",
       "                        <td id=\"T_b8aa991c_8bc3_11eb_9287_3af9d350abc5row227_col4\" class=\"data row227 col4\" >65</td>\n",
       "            </tr>\n",
       "            <tr>\n",
       "                        <th id=\"T_b8aa991c_8bc3_11eb_9287_3af9d350abc5level0_row228\" class=\"row_heading level0 row228\" >228</th>\n",
       "                        <td id=\"T_b8aa991c_8bc3_11eb_9287_3af9d350abc5row228_col0\" class=\"data row228 col0\" >2020-11-01</td>\n",
       "                        <td id=\"T_b8aa991c_8bc3_11eb_9287_3af9d350abc5row228_col1\" class=\"data row228 col1\" >Sustainability</td>\n",
       "                        <td id=\"T_b8aa991c_8bc3_11eb_9287_3af9d350abc5row228_col2\" class=\"data row228 col2\" >Rio Tinto Group</td>\n",
       "                        <td id=\"T_b8aa991c_8bc3_11eb_9287_3af9d350abc5row228_col3\" class=\"data row228 col3\" >negative</td>\n",
       "                        <td id=\"T_b8aa991c_8bc3_11eb_9287_3af9d350abc5row228_col4\" class=\"data row228 col4\" >5</td>\n",
       "            </tr>\n",
       "            <tr>\n",
       "                        <th id=\"T_b8aa991c_8bc3_11eb_9287_3af9d350abc5level0_row229\" class=\"row_heading level0 row229\" >229</th>\n",
       "                        <td id=\"T_b8aa991c_8bc3_11eb_9287_3af9d350abc5row229_col0\" class=\"data row229 col0\" >2020-11-01</td>\n",
       "                        <td id=\"T_b8aa991c_8bc3_11eb_9287_3af9d350abc5row229_col1\" class=\"data row229 col1\" >Sustainability</td>\n",
       "                        <td id=\"T_b8aa991c_8bc3_11eb_9287_3af9d350abc5row229_col2\" class=\"data row229 col2\" >Rio Tinto Group</td>\n",
       "                        <td id=\"T_b8aa991c_8bc3_11eb_9287_3af9d350abc5row229_col3\" class=\"data row229 col3\" >neutral</td>\n",
       "                        <td id=\"T_b8aa991c_8bc3_11eb_9287_3af9d350abc5row229_col4\" class=\"data row229 col4\" >137</td>\n",
       "            </tr>\n",
       "            <tr>\n",
       "                        <th id=\"T_b8aa991c_8bc3_11eb_9287_3af9d350abc5level0_row230\" class=\"row_heading level0 row230\" >230</th>\n",
       "                        <td id=\"T_b8aa991c_8bc3_11eb_9287_3af9d350abc5row230_col0\" class=\"data row230 col0\" >2020-11-01</td>\n",
       "                        <td id=\"T_b8aa991c_8bc3_11eb_9287_3af9d350abc5row230_col1\" class=\"data row230 col1\" >Sustainability</td>\n",
       "                        <td id=\"T_b8aa991c_8bc3_11eb_9287_3af9d350abc5row230_col2\" class=\"data row230 col2\" >Rio Tinto Group</td>\n",
       "                        <td id=\"T_b8aa991c_8bc3_11eb_9287_3af9d350abc5row230_col3\" class=\"data row230 col3\" >positive</td>\n",
       "                        <td id=\"T_b8aa991c_8bc3_11eb_9287_3af9d350abc5row230_col4\" class=\"data row230 col4\" >162</td>\n",
       "            </tr>\n",
       "            <tr>\n",
       "                        <th id=\"T_b8aa991c_8bc3_11eb_9287_3af9d350abc5level0_row231\" class=\"row_heading level0 row231\" >231</th>\n",
       "                        <td id=\"T_b8aa991c_8bc3_11eb_9287_3af9d350abc5row231_col0\" class=\"data row231 col0\" >2020-11-01</td>\n",
       "                        <td id=\"T_b8aa991c_8bc3_11eb_9287_3af9d350abc5row231_col1\" class=\"data row231 col1\" >Sustainability</td>\n",
       "                        <td id=\"T_b8aa991c_8bc3_11eb_9287_3af9d350abc5row231_col2\" class=\"data row231 col2\" >Glencore</td>\n",
       "                        <td id=\"T_b8aa991c_8bc3_11eb_9287_3af9d350abc5row231_col3\" class=\"data row231 col3\" >negative</td>\n",
       "                        <td id=\"T_b8aa991c_8bc3_11eb_9287_3af9d350abc5row231_col4\" class=\"data row231 col4\" >60</td>\n",
       "            </tr>\n",
       "            <tr>\n",
       "                        <th id=\"T_b8aa991c_8bc3_11eb_9287_3af9d350abc5level0_row232\" class=\"row_heading level0 row232\" >232</th>\n",
       "                        <td id=\"T_b8aa991c_8bc3_11eb_9287_3af9d350abc5row232_col0\" class=\"data row232 col0\" >2020-11-01</td>\n",
       "                        <td id=\"T_b8aa991c_8bc3_11eb_9287_3af9d350abc5row232_col1\" class=\"data row232 col1\" >Sustainability</td>\n",
       "                        <td id=\"T_b8aa991c_8bc3_11eb_9287_3af9d350abc5row232_col2\" class=\"data row232 col2\" >Glencore</td>\n",
       "                        <td id=\"T_b8aa991c_8bc3_11eb_9287_3af9d350abc5row232_col3\" class=\"data row232 col3\" >neutral</td>\n",
       "                        <td id=\"T_b8aa991c_8bc3_11eb_9287_3af9d350abc5row232_col4\" class=\"data row232 col4\" >320</td>\n",
       "            </tr>\n",
       "            <tr>\n",
       "                        <th id=\"T_b8aa991c_8bc3_11eb_9287_3af9d350abc5level0_row233\" class=\"row_heading level0 row233\" >233</th>\n",
       "                        <td id=\"T_b8aa991c_8bc3_11eb_9287_3af9d350abc5row233_col0\" class=\"data row233 col0\" >2020-11-01</td>\n",
       "                        <td id=\"T_b8aa991c_8bc3_11eb_9287_3af9d350abc5row233_col1\" class=\"data row233 col1\" >Sustainability</td>\n",
       "                        <td id=\"T_b8aa991c_8bc3_11eb_9287_3af9d350abc5row233_col2\" class=\"data row233 col2\" >Glencore</td>\n",
       "                        <td id=\"T_b8aa991c_8bc3_11eb_9287_3af9d350abc5row233_col3\" class=\"data row233 col3\" >positive</td>\n",
       "                        <td id=\"T_b8aa991c_8bc3_11eb_9287_3af9d350abc5row233_col4\" class=\"data row233 col4\" >100</td>\n",
       "            </tr>\n",
       "            <tr>\n",
       "                        <th id=\"T_b8aa991c_8bc3_11eb_9287_3af9d350abc5level0_row234\" class=\"row_heading level0 row234\" >234</th>\n",
       "                        <td id=\"T_b8aa991c_8bc3_11eb_9287_3af9d350abc5row234_col0\" class=\"data row234 col0\" >2020-11-01</td>\n",
       "                        <td id=\"T_b8aa991c_8bc3_11eb_9287_3af9d350abc5row234_col1\" class=\"data row234 col1\" >Sustainability</td>\n",
       "                        <td id=\"T_b8aa991c_8bc3_11eb_9287_3af9d350abc5row234_col2\" class=\"data row234 col2\" >BHP</td>\n",
       "                        <td id=\"T_b8aa991c_8bc3_11eb_9287_3af9d350abc5row234_col3\" class=\"data row234 col3\" >negative</td>\n",
       "                        <td id=\"T_b8aa991c_8bc3_11eb_9287_3af9d350abc5row234_col4\" class=\"data row234 col4\" >7</td>\n",
       "            </tr>\n",
       "            <tr>\n",
       "                        <th id=\"T_b8aa991c_8bc3_11eb_9287_3af9d350abc5level0_row235\" class=\"row_heading level0 row235\" >235</th>\n",
       "                        <td id=\"T_b8aa991c_8bc3_11eb_9287_3af9d350abc5row235_col0\" class=\"data row235 col0\" >2020-11-01</td>\n",
       "                        <td id=\"T_b8aa991c_8bc3_11eb_9287_3af9d350abc5row235_col1\" class=\"data row235 col1\" >Sustainability</td>\n",
       "                        <td id=\"T_b8aa991c_8bc3_11eb_9287_3af9d350abc5row235_col2\" class=\"data row235 col2\" >BHP</td>\n",
       "                        <td id=\"T_b8aa991c_8bc3_11eb_9287_3af9d350abc5row235_col3\" class=\"data row235 col3\" >neutral</td>\n",
       "                        <td id=\"T_b8aa991c_8bc3_11eb_9287_3af9d350abc5row235_col4\" class=\"data row235 col4\" >136</td>\n",
       "            </tr>\n",
       "            <tr>\n",
       "                        <th id=\"T_b8aa991c_8bc3_11eb_9287_3af9d350abc5level0_row236\" class=\"row_heading level0 row236\" >236</th>\n",
       "                        <td id=\"T_b8aa991c_8bc3_11eb_9287_3af9d350abc5row236_col0\" class=\"data row236 col0\" >2020-11-01</td>\n",
       "                        <td id=\"T_b8aa991c_8bc3_11eb_9287_3af9d350abc5row236_col1\" class=\"data row236 col1\" >Sustainability</td>\n",
       "                        <td id=\"T_b8aa991c_8bc3_11eb_9287_3af9d350abc5row236_col2\" class=\"data row236 col2\" >BHP</td>\n",
       "                        <td id=\"T_b8aa991c_8bc3_11eb_9287_3af9d350abc5row236_col3\" class=\"data row236 col3\" >positive</td>\n",
       "                        <td id=\"T_b8aa991c_8bc3_11eb_9287_3af9d350abc5row236_col4\" class=\"data row236 col4\" >153</td>\n",
       "            </tr>\n",
       "            <tr>\n",
       "                        <th id=\"T_b8aa991c_8bc3_11eb_9287_3af9d350abc5level0_row237\" class=\"row_heading level0 row237\" >237</th>\n",
       "                        <td id=\"T_b8aa991c_8bc3_11eb_9287_3af9d350abc5row237_col0\" class=\"data row237 col0\" >2020-11-01</td>\n",
       "                        <td id=\"T_b8aa991c_8bc3_11eb_9287_3af9d350abc5row237_col1\" class=\"data row237 col1\" >Sustainability</td>\n",
       "                        <td id=\"T_b8aa991c_8bc3_11eb_9287_3af9d350abc5row237_col2\" class=\"data row237 col2\" >Anglo American plc</td>\n",
       "                        <td id=\"T_b8aa991c_8bc3_11eb_9287_3af9d350abc5row237_col3\" class=\"data row237 col3\" >negative</td>\n",
       "                        <td id=\"T_b8aa991c_8bc3_11eb_9287_3af9d350abc5row237_col4\" class=\"data row237 col4\" >5</td>\n",
       "            </tr>\n",
       "            <tr>\n",
       "                        <th id=\"T_b8aa991c_8bc3_11eb_9287_3af9d350abc5level0_row238\" class=\"row_heading level0 row238\" >238</th>\n",
       "                        <td id=\"T_b8aa991c_8bc3_11eb_9287_3af9d350abc5row238_col0\" class=\"data row238 col0\" >2020-11-01</td>\n",
       "                        <td id=\"T_b8aa991c_8bc3_11eb_9287_3af9d350abc5row238_col1\" class=\"data row238 col1\" >Sustainability</td>\n",
       "                        <td id=\"T_b8aa991c_8bc3_11eb_9287_3af9d350abc5row238_col2\" class=\"data row238 col2\" >Anglo American plc</td>\n",
       "                        <td id=\"T_b8aa991c_8bc3_11eb_9287_3af9d350abc5row238_col3\" class=\"data row238 col3\" >neutral</td>\n",
       "                        <td id=\"T_b8aa991c_8bc3_11eb_9287_3af9d350abc5row238_col4\" class=\"data row238 col4\" >133</td>\n",
       "            </tr>\n",
       "            <tr>\n",
       "                        <th id=\"T_b8aa991c_8bc3_11eb_9287_3af9d350abc5level0_row239\" class=\"row_heading level0 row239\" >239</th>\n",
       "                        <td id=\"T_b8aa991c_8bc3_11eb_9287_3af9d350abc5row239_col0\" class=\"data row239 col0\" >2020-11-01</td>\n",
       "                        <td id=\"T_b8aa991c_8bc3_11eb_9287_3af9d350abc5row239_col1\" class=\"data row239 col1\" >Sustainability</td>\n",
       "                        <td id=\"T_b8aa991c_8bc3_11eb_9287_3af9d350abc5row239_col2\" class=\"data row239 col2\" >Anglo American plc</td>\n",
       "                        <td id=\"T_b8aa991c_8bc3_11eb_9287_3af9d350abc5row239_col3\" class=\"data row239 col3\" >positive</td>\n",
       "                        <td id=\"T_b8aa991c_8bc3_11eb_9287_3af9d350abc5row239_col4\" class=\"data row239 col4\" >149</td>\n",
       "            </tr>\n",
       "            <tr>\n",
       "                        <th id=\"T_b8aa991c_8bc3_11eb_9287_3af9d350abc5level0_row240\" class=\"row_heading level0 row240\" >240</th>\n",
       "                        <td id=\"T_b8aa991c_8bc3_11eb_9287_3af9d350abc5row240_col0\" class=\"data row240 col0\" >2020-12-01</td>\n",
       "                        <td id=\"T_b8aa991c_8bc3_11eb_9287_3af9d350abc5row240_col1\" class=\"data row240 col1\" >Chemicals</td>\n",
       "                        <td id=\"T_b8aa991c_8bc3_11eb_9287_3af9d350abc5row240_col2\" class=\"data row240 col2\" >Rio Tinto Group</td>\n",
       "                        <td id=\"T_b8aa991c_8bc3_11eb_9287_3af9d350abc5row240_col3\" class=\"data row240 col3\" >negative</td>\n",
       "                        <td id=\"T_b8aa991c_8bc3_11eb_9287_3af9d350abc5row240_col4\" class=\"data row240 col4\" >993</td>\n",
       "            </tr>\n",
       "            <tr>\n",
       "                        <th id=\"T_b8aa991c_8bc3_11eb_9287_3af9d350abc5level0_row241\" class=\"row_heading level0 row241\" >241</th>\n",
       "                        <td id=\"T_b8aa991c_8bc3_11eb_9287_3af9d350abc5row241_col0\" class=\"data row241 col0\" >2020-12-01</td>\n",
       "                        <td id=\"T_b8aa991c_8bc3_11eb_9287_3af9d350abc5row241_col1\" class=\"data row241 col1\" >Chemicals</td>\n",
       "                        <td id=\"T_b8aa991c_8bc3_11eb_9287_3af9d350abc5row241_col2\" class=\"data row241 col2\" >Rio Tinto Group</td>\n",
       "                        <td id=\"T_b8aa991c_8bc3_11eb_9287_3af9d350abc5row241_col3\" class=\"data row241 col3\" >neutral</td>\n",
       "                        <td id=\"T_b8aa991c_8bc3_11eb_9287_3af9d350abc5row241_col4\" class=\"data row241 col4\" >2946</td>\n",
       "            </tr>\n",
       "            <tr>\n",
       "                        <th id=\"T_b8aa991c_8bc3_11eb_9287_3af9d350abc5level0_row242\" class=\"row_heading level0 row242\" >242</th>\n",
       "                        <td id=\"T_b8aa991c_8bc3_11eb_9287_3af9d350abc5row242_col0\" class=\"data row242 col0\" >2020-12-01</td>\n",
       "                        <td id=\"T_b8aa991c_8bc3_11eb_9287_3af9d350abc5row242_col1\" class=\"data row242 col1\" >Chemicals</td>\n",
       "                        <td id=\"T_b8aa991c_8bc3_11eb_9287_3af9d350abc5row242_col2\" class=\"data row242 col2\" >Rio Tinto Group</td>\n",
       "                        <td id=\"T_b8aa991c_8bc3_11eb_9287_3af9d350abc5row242_col3\" class=\"data row242 col3\" >positive</td>\n",
       "                        <td id=\"T_b8aa991c_8bc3_11eb_9287_3af9d350abc5row242_col4\" class=\"data row242 col4\" >3342</td>\n",
       "            </tr>\n",
       "            <tr>\n",
       "                        <th id=\"T_b8aa991c_8bc3_11eb_9287_3af9d350abc5level0_row243\" class=\"row_heading level0 row243\" >243</th>\n",
       "                        <td id=\"T_b8aa991c_8bc3_11eb_9287_3af9d350abc5row243_col0\" class=\"data row243 col0\" >2020-12-01</td>\n",
       "                        <td id=\"T_b8aa991c_8bc3_11eb_9287_3af9d350abc5row243_col1\" class=\"data row243 col1\" >Chemicals</td>\n",
       "                        <td id=\"T_b8aa991c_8bc3_11eb_9287_3af9d350abc5row243_col2\" class=\"data row243 col2\" >BHP</td>\n",
       "                        <td id=\"T_b8aa991c_8bc3_11eb_9287_3af9d350abc5row243_col3\" class=\"data row243 col3\" >negative</td>\n",
       "                        <td id=\"T_b8aa991c_8bc3_11eb_9287_3af9d350abc5row243_col4\" class=\"data row243 col4\" >572</td>\n",
       "            </tr>\n",
       "            <tr>\n",
       "                        <th id=\"T_b8aa991c_8bc3_11eb_9287_3af9d350abc5level0_row244\" class=\"row_heading level0 row244\" >244</th>\n",
       "                        <td id=\"T_b8aa991c_8bc3_11eb_9287_3af9d350abc5row244_col0\" class=\"data row244 col0\" >2020-12-01</td>\n",
       "                        <td id=\"T_b8aa991c_8bc3_11eb_9287_3af9d350abc5row244_col1\" class=\"data row244 col1\" >Chemicals</td>\n",
       "                        <td id=\"T_b8aa991c_8bc3_11eb_9287_3af9d350abc5row244_col2\" class=\"data row244 col2\" >BHP</td>\n",
       "                        <td id=\"T_b8aa991c_8bc3_11eb_9287_3af9d350abc5row244_col3\" class=\"data row244 col3\" >neutral</td>\n",
       "                        <td id=\"T_b8aa991c_8bc3_11eb_9287_3af9d350abc5row244_col4\" class=\"data row244 col4\" >2910</td>\n",
       "            </tr>\n",
       "            <tr>\n",
       "                        <th id=\"T_b8aa991c_8bc3_11eb_9287_3af9d350abc5level0_row245\" class=\"row_heading level0 row245\" >245</th>\n",
       "                        <td id=\"T_b8aa991c_8bc3_11eb_9287_3af9d350abc5row245_col0\" class=\"data row245 col0\" >2020-12-01</td>\n",
       "                        <td id=\"T_b8aa991c_8bc3_11eb_9287_3af9d350abc5row245_col1\" class=\"data row245 col1\" >Chemicals</td>\n",
       "                        <td id=\"T_b8aa991c_8bc3_11eb_9287_3af9d350abc5row245_col2\" class=\"data row245 col2\" >BHP</td>\n",
       "                        <td id=\"T_b8aa991c_8bc3_11eb_9287_3af9d350abc5row245_col3\" class=\"data row245 col3\" >positive</td>\n",
       "                        <td id=\"T_b8aa991c_8bc3_11eb_9287_3af9d350abc5row245_col4\" class=\"data row245 col4\" >2289</td>\n",
       "            </tr>\n",
       "            <tr>\n",
       "                        <th id=\"T_b8aa991c_8bc3_11eb_9287_3af9d350abc5level0_row246\" class=\"row_heading level0 row246\" >246</th>\n",
       "                        <td id=\"T_b8aa991c_8bc3_11eb_9287_3af9d350abc5row246_col0\" class=\"data row246 col0\" >2020-12-01</td>\n",
       "                        <td id=\"T_b8aa991c_8bc3_11eb_9287_3af9d350abc5row246_col1\" class=\"data row246 col1\" >Chemicals</td>\n",
       "                        <td id=\"T_b8aa991c_8bc3_11eb_9287_3af9d350abc5row246_col2\" class=\"data row246 col2\" >Glencore</td>\n",
       "                        <td id=\"T_b8aa991c_8bc3_11eb_9287_3af9d350abc5row246_col3\" class=\"data row246 col3\" >negative</td>\n",
       "                        <td id=\"T_b8aa991c_8bc3_11eb_9287_3af9d350abc5row246_col4\" class=\"data row246 col4\" >320</td>\n",
       "            </tr>\n",
       "            <tr>\n",
       "                        <th id=\"T_b8aa991c_8bc3_11eb_9287_3af9d350abc5level0_row247\" class=\"row_heading level0 row247\" >247</th>\n",
       "                        <td id=\"T_b8aa991c_8bc3_11eb_9287_3af9d350abc5row247_col0\" class=\"data row247 col0\" >2020-12-01</td>\n",
       "                        <td id=\"T_b8aa991c_8bc3_11eb_9287_3af9d350abc5row247_col1\" class=\"data row247 col1\" >Chemicals</td>\n",
       "                        <td id=\"T_b8aa991c_8bc3_11eb_9287_3af9d350abc5row247_col2\" class=\"data row247 col2\" >Glencore</td>\n",
       "                        <td id=\"T_b8aa991c_8bc3_11eb_9287_3af9d350abc5row247_col3\" class=\"data row247 col3\" >neutral</td>\n",
       "                        <td id=\"T_b8aa991c_8bc3_11eb_9287_3af9d350abc5row247_col4\" class=\"data row247 col4\" >1727</td>\n",
       "            </tr>\n",
       "            <tr>\n",
       "                        <th id=\"T_b8aa991c_8bc3_11eb_9287_3af9d350abc5level0_row248\" class=\"row_heading level0 row248\" >248</th>\n",
       "                        <td id=\"T_b8aa991c_8bc3_11eb_9287_3af9d350abc5row248_col0\" class=\"data row248 col0\" >2020-12-01</td>\n",
       "                        <td id=\"T_b8aa991c_8bc3_11eb_9287_3af9d350abc5row248_col1\" class=\"data row248 col1\" >Chemicals</td>\n",
       "                        <td id=\"T_b8aa991c_8bc3_11eb_9287_3af9d350abc5row248_col2\" class=\"data row248 col2\" >Glencore</td>\n",
       "                        <td id=\"T_b8aa991c_8bc3_11eb_9287_3af9d350abc5row248_col3\" class=\"data row248 col3\" >positive</td>\n",
       "                        <td id=\"T_b8aa991c_8bc3_11eb_9287_3af9d350abc5row248_col4\" class=\"data row248 col4\" >1868</td>\n",
       "            </tr>\n",
       "            <tr>\n",
       "                        <th id=\"T_b8aa991c_8bc3_11eb_9287_3af9d350abc5level0_row249\" class=\"row_heading level0 row249\" >249</th>\n",
       "                        <td id=\"T_b8aa991c_8bc3_11eb_9287_3af9d350abc5row249_col0\" class=\"data row249 col0\" >2020-12-01</td>\n",
       "                        <td id=\"T_b8aa991c_8bc3_11eb_9287_3af9d350abc5row249_col1\" class=\"data row249 col1\" >Chemicals</td>\n",
       "                        <td id=\"T_b8aa991c_8bc3_11eb_9287_3af9d350abc5row249_col2\" class=\"data row249 col2\" >Anglo American plc</td>\n",
       "                        <td id=\"T_b8aa991c_8bc3_11eb_9287_3af9d350abc5row249_col3\" class=\"data row249 col3\" >negative</td>\n",
       "                        <td id=\"T_b8aa991c_8bc3_11eb_9287_3af9d350abc5row249_col4\" class=\"data row249 col4\" >177</td>\n",
       "            </tr>\n",
       "            <tr>\n",
       "                        <th id=\"T_b8aa991c_8bc3_11eb_9287_3af9d350abc5level0_row250\" class=\"row_heading level0 row250\" >250</th>\n",
       "                        <td id=\"T_b8aa991c_8bc3_11eb_9287_3af9d350abc5row250_col0\" class=\"data row250 col0\" >2020-12-01</td>\n",
       "                        <td id=\"T_b8aa991c_8bc3_11eb_9287_3af9d350abc5row250_col1\" class=\"data row250 col1\" >Chemicals</td>\n",
       "                        <td id=\"T_b8aa991c_8bc3_11eb_9287_3af9d350abc5row250_col2\" class=\"data row250 col2\" >Anglo American plc</td>\n",
       "                        <td id=\"T_b8aa991c_8bc3_11eb_9287_3af9d350abc5row250_col3\" class=\"data row250 col3\" >neutral</td>\n",
       "                        <td id=\"T_b8aa991c_8bc3_11eb_9287_3af9d350abc5row250_col4\" class=\"data row250 col4\" >1372</td>\n",
       "            </tr>\n",
       "            <tr>\n",
       "                        <th id=\"T_b8aa991c_8bc3_11eb_9287_3af9d350abc5level0_row251\" class=\"row_heading level0 row251\" >251</th>\n",
       "                        <td id=\"T_b8aa991c_8bc3_11eb_9287_3af9d350abc5row251_col0\" class=\"data row251 col0\" >2020-12-01</td>\n",
       "                        <td id=\"T_b8aa991c_8bc3_11eb_9287_3af9d350abc5row251_col1\" class=\"data row251 col1\" >Chemicals</td>\n",
       "                        <td id=\"T_b8aa991c_8bc3_11eb_9287_3af9d350abc5row251_col2\" class=\"data row251 col2\" >Anglo American plc</td>\n",
       "                        <td id=\"T_b8aa991c_8bc3_11eb_9287_3af9d350abc5row251_col3\" class=\"data row251 col3\" >positive</td>\n",
       "                        <td id=\"T_b8aa991c_8bc3_11eb_9287_3af9d350abc5row251_col4\" class=\"data row251 col4\" >1474</td>\n",
       "            </tr>\n",
       "            <tr>\n",
       "                        <th id=\"T_b8aa991c_8bc3_11eb_9287_3af9d350abc5level0_row252\" class=\"row_heading level0 row252\" >252</th>\n",
       "                        <td id=\"T_b8aa991c_8bc3_11eb_9287_3af9d350abc5row252_col0\" class=\"data row252 col0\" >2020-12-01</td>\n",
       "                        <td id=\"T_b8aa991c_8bc3_11eb_9287_3af9d350abc5row252_col1\" class=\"data row252 col1\" >Corporate Controversy</td>\n",
       "                        <td id=\"T_b8aa991c_8bc3_11eb_9287_3af9d350abc5row252_col2\" class=\"data row252 col2\" >Rio Tinto Group</td>\n",
       "                        <td id=\"T_b8aa991c_8bc3_11eb_9287_3af9d350abc5row252_col3\" class=\"data row252 col3\" >negative</td>\n",
       "                        <td id=\"T_b8aa991c_8bc3_11eb_9287_3af9d350abc5row252_col4\" class=\"data row252 col4\" >476</td>\n",
       "            </tr>\n",
       "            <tr>\n",
       "                        <th id=\"T_b8aa991c_8bc3_11eb_9287_3af9d350abc5level0_row253\" class=\"row_heading level0 row253\" >253</th>\n",
       "                        <td id=\"T_b8aa991c_8bc3_11eb_9287_3af9d350abc5row253_col0\" class=\"data row253 col0\" >2020-12-01</td>\n",
       "                        <td id=\"T_b8aa991c_8bc3_11eb_9287_3af9d350abc5row253_col1\" class=\"data row253 col1\" >Corporate Controversy</td>\n",
       "                        <td id=\"T_b8aa991c_8bc3_11eb_9287_3af9d350abc5row253_col2\" class=\"data row253 col2\" >Rio Tinto Group</td>\n",
       "                        <td id=\"T_b8aa991c_8bc3_11eb_9287_3af9d350abc5row253_col3\" class=\"data row253 col3\" >neutral</td>\n",
       "                        <td id=\"T_b8aa991c_8bc3_11eb_9287_3af9d350abc5row253_col4\" class=\"data row253 col4\" >1221</td>\n",
       "            </tr>\n",
       "            <tr>\n",
       "                        <th id=\"T_b8aa991c_8bc3_11eb_9287_3af9d350abc5level0_row254\" class=\"row_heading level0 row254\" >254</th>\n",
       "                        <td id=\"T_b8aa991c_8bc3_11eb_9287_3af9d350abc5row254_col0\" class=\"data row254 col0\" >2020-12-01</td>\n",
       "                        <td id=\"T_b8aa991c_8bc3_11eb_9287_3af9d350abc5row254_col1\" class=\"data row254 col1\" >Corporate Controversy</td>\n",
       "                        <td id=\"T_b8aa991c_8bc3_11eb_9287_3af9d350abc5row254_col2\" class=\"data row254 col2\" >Rio Tinto Group</td>\n",
       "                        <td id=\"T_b8aa991c_8bc3_11eb_9287_3af9d350abc5row254_col3\" class=\"data row254 col3\" >positive</td>\n",
       "                        <td id=\"T_b8aa991c_8bc3_11eb_9287_3af9d350abc5row254_col4\" class=\"data row254 col4\" >589</td>\n",
       "            </tr>\n",
       "            <tr>\n",
       "                        <th id=\"T_b8aa991c_8bc3_11eb_9287_3af9d350abc5level0_row255\" class=\"row_heading level0 row255\" >255</th>\n",
       "                        <td id=\"T_b8aa991c_8bc3_11eb_9287_3af9d350abc5row255_col0\" class=\"data row255 col0\" >2020-12-01</td>\n",
       "                        <td id=\"T_b8aa991c_8bc3_11eb_9287_3af9d350abc5row255_col1\" class=\"data row255 col1\" >Corporate Controversy</td>\n",
       "                        <td id=\"T_b8aa991c_8bc3_11eb_9287_3af9d350abc5row255_col2\" class=\"data row255 col2\" >Glencore</td>\n",
       "                        <td id=\"T_b8aa991c_8bc3_11eb_9287_3af9d350abc5row255_col3\" class=\"data row255 col3\" >negative</td>\n",
       "                        <td id=\"T_b8aa991c_8bc3_11eb_9287_3af9d350abc5row255_col4\" class=\"data row255 col4\" >387</td>\n",
       "            </tr>\n",
       "            <tr>\n",
       "                        <th id=\"T_b8aa991c_8bc3_11eb_9287_3af9d350abc5level0_row256\" class=\"row_heading level0 row256\" >256</th>\n",
       "                        <td id=\"T_b8aa991c_8bc3_11eb_9287_3af9d350abc5row256_col0\" class=\"data row256 col0\" >2020-12-01</td>\n",
       "                        <td id=\"T_b8aa991c_8bc3_11eb_9287_3af9d350abc5row256_col1\" class=\"data row256 col1\" >Corporate Controversy</td>\n",
       "                        <td id=\"T_b8aa991c_8bc3_11eb_9287_3af9d350abc5row256_col2\" class=\"data row256 col2\" >Glencore</td>\n",
       "                        <td id=\"T_b8aa991c_8bc3_11eb_9287_3af9d350abc5row256_col3\" class=\"data row256 col3\" >neutral</td>\n",
       "                        <td id=\"T_b8aa991c_8bc3_11eb_9287_3af9d350abc5row256_col4\" class=\"data row256 col4\" >451</td>\n",
       "            </tr>\n",
       "            <tr>\n",
       "                        <th id=\"T_b8aa991c_8bc3_11eb_9287_3af9d350abc5level0_row257\" class=\"row_heading level0 row257\" >257</th>\n",
       "                        <td id=\"T_b8aa991c_8bc3_11eb_9287_3af9d350abc5row257_col0\" class=\"data row257 col0\" >2020-12-01</td>\n",
       "                        <td id=\"T_b8aa991c_8bc3_11eb_9287_3af9d350abc5row257_col1\" class=\"data row257 col1\" >Corporate Controversy</td>\n",
       "                        <td id=\"T_b8aa991c_8bc3_11eb_9287_3af9d350abc5row257_col2\" class=\"data row257 col2\" >Glencore</td>\n",
       "                        <td id=\"T_b8aa991c_8bc3_11eb_9287_3af9d350abc5row257_col3\" class=\"data row257 col3\" >positive</td>\n",
       "                        <td id=\"T_b8aa991c_8bc3_11eb_9287_3af9d350abc5row257_col4\" class=\"data row257 col4\" >265</td>\n",
       "            </tr>\n",
       "            <tr>\n",
       "                        <th id=\"T_b8aa991c_8bc3_11eb_9287_3af9d350abc5level0_row258\" class=\"row_heading level0 row258\" >258</th>\n",
       "                        <td id=\"T_b8aa991c_8bc3_11eb_9287_3af9d350abc5row258_col0\" class=\"data row258 col0\" >2020-12-01</td>\n",
       "                        <td id=\"T_b8aa991c_8bc3_11eb_9287_3af9d350abc5row258_col1\" class=\"data row258 col1\" >Corporate Controversy</td>\n",
       "                        <td id=\"T_b8aa991c_8bc3_11eb_9287_3af9d350abc5row258_col2\" class=\"data row258 col2\" >BHP</td>\n",
       "                        <td id=\"T_b8aa991c_8bc3_11eb_9287_3af9d350abc5row258_col3\" class=\"data row258 col3\" >negative</td>\n",
       "                        <td id=\"T_b8aa991c_8bc3_11eb_9287_3af9d350abc5row258_col4\" class=\"data row258 col4\" >178</td>\n",
       "            </tr>\n",
       "            <tr>\n",
       "                        <th id=\"T_b8aa991c_8bc3_11eb_9287_3af9d350abc5level0_row259\" class=\"row_heading level0 row259\" >259</th>\n",
       "                        <td id=\"T_b8aa991c_8bc3_11eb_9287_3af9d350abc5row259_col0\" class=\"data row259 col0\" >2020-12-01</td>\n",
       "                        <td id=\"T_b8aa991c_8bc3_11eb_9287_3af9d350abc5row259_col1\" class=\"data row259 col1\" >Corporate Controversy</td>\n",
       "                        <td id=\"T_b8aa991c_8bc3_11eb_9287_3af9d350abc5row259_col2\" class=\"data row259 col2\" >BHP</td>\n",
       "                        <td id=\"T_b8aa991c_8bc3_11eb_9287_3af9d350abc5row259_col3\" class=\"data row259 col3\" >neutral</td>\n",
       "                        <td id=\"T_b8aa991c_8bc3_11eb_9287_3af9d350abc5row259_col4\" class=\"data row259 col4\" >250</td>\n",
       "            </tr>\n",
       "            <tr>\n",
       "                        <th id=\"T_b8aa991c_8bc3_11eb_9287_3af9d350abc5level0_row260\" class=\"row_heading level0 row260\" >260</th>\n",
       "                        <td id=\"T_b8aa991c_8bc3_11eb_9287_3af9d350abc5row260_col0\" class=\"data row260 col0\" >2020-12-01</td>\n",
       "                        <td id=\"T_b8aa991c_8bc3_11eb_9287_3af9d350abc5row260_col1\" class=\"data row260 col1\" >Corporate Controversy</td>\n",
       "                        <td id=\"T_b8aa991c_8bc3_11eb_9287_3af9d350abc5row260_col2\" class=\"data row260 col2\" >BHP</td>\n",
       "                        <td id=\"T_b8aa991c_8bc3_11eb_9287_3af9d350abc5row260_col3\" class=\"data row260 col3\" >positive</td>\n",
       "                        <td id=\"T_b8aa991c_8bc3_11eb_9287_3af9d350abc5row260_col4\" class=\"data row260 col4\" >140</td>\n",
       "            </tr>\n",
       "            <tr>\n",
       "                        <th id=\"T_b8aa991c_8bc3_11eb_9287_3af9d350abc5level0_row261\" class=\"row_heading level0 row261\" >261</th>\n",
       "                        <td id=\"T_b8aa991c_8bc3_11eb_9287_3af9d350abc5row261_col0\" class=\"data row261 col0\" >2020-12-01</td>\n",
       "                        <td id=\"T_b8aa991c_8bc3_11eb_9287_3af9d350abc5row261_col1\" class=\"data row261 col1\" >Corporate Controversy</td>\n",
       "                        <td id=\"T_b8aa991c_8bc3_11eb_9287_3af9d350abc5row261_col2\" class=\"data row261 col2\" >Anglo American plc</td>\n",
       "                        <td id=\"T_b8aa991c_8bc3_11eb_9287_3af9d350abc5row261_col3\" class=\"data row261 col3\" >negative</td>\n",
       "                        <td id=\"T_b8aa991c_8bc3_11eb_9287_3af9d350abc5row261_col4\" class=\"data row261 col4\" >42</td>\n",
       "            </tr>\n",
       "            <tr>\n",
       "                        <th id=\"T_b8aa991c_8bc3_11eb_9287_3af9d350abc5level0_row262\" class=\"row_heading level0 row262\" >262</th>\n",
       "                        <td id=\"T_b8aa991c_8bc3_11eb_9287_3af9d350abc5row262_col0\" class=\"data row262 col0\" >2020-12-01</td>\n",
       "                        <td id=\"T_b8aa991c_8bc3_11eb_9287_3af9d350abc5row262_col1\" class=\"data row262 col1\" >Corporate Controversy</td>\n",
       "                        <td id=\"T_b8aa991c_8bc3_11eb_9287_3af9d350abc5row262_col2\" class=\"data row262 col2\" >Anglo American plc</td>\n",
       "                        <td id=\"T_b8aa991c_8bc3_11eb_9287_3af9d350abc5row262_col3\" class=\"data row262 col3\" >neutral</td>\n",
       "                        <td id=\"T_b8aa991c_8bc3_11eb_9287_3af9d350abc5row262_col4\" class=\"data row262 col4\" >187</td>\n",
       "            </tr>\n",
       "            <tr>\n",
       "                        <th id=\"T_b8aa991c_8bc3_11eb_9287_3af9d350abc5level0_row263\" class=\"row_heading level0 row263\" >263</th>\n",
       "                        <td id=\"T_b8aa991c_8bc3_11eb_9287_3af9d350abc5row263_col0\" class=\"data row263 col0\" >2020-12-01</td>\n",
       "                        <td id=\"T_b8aa991c_8bc3_11eb_9287_3af9d350abc5row263_col1\" class=\"data row263 col1\" >Corporate Controversy</td>\n",
       "                        <td id=\"T_b8aa991c_8bc3_11eb_9287_3af9d350abc5row263_col2\" class=\"data row263 col2\" >Anglo American plc</td>\n",
       "                        <td id=\"T_b8aa991c_8bc3_11eb_9287_3af9d350abc5row263_col3\" class=\"data row263 col3\" >positive</td>\n",
       "                        <td id=\"T_b8aa991c_8bc3_11eb_9287_3af9d350abc5row263_col4\" class=\"data row263 col4\" >51</td>\n",
       "            </tr>\n",
       "            <tr>\n",
       "                        <th id=\"T_b8aa991c_8bc3_11eb_9287_3af9d350abc5level0_row264\" class=\"row_heading level0 row264\" >264</th>\n",
       "                        <td id=\"T_b8aa991c_8bc3_11eb_9287_3af9d350abc5row264_col0\" class=\"data row264 col0\" >2020-12-01</td>\n",
       "                        <td id=\"T_b8aa991c_8bc3_11eb_9287_3af9d350abc5row264_col1\" class=\"data row264 col1\" >Environmental Cleanup</td>\n",
       "                        <td id=\"T_b8aa991c_8bc3_11eb_9287_3af9d350abc5row264_col2\" class=\"data row264 col2\" >Glencore</td>\n",
       "                        <td id=\"T_b8aa991c_8bc3_11eb_9287_3af9d350abc5row264_col3\" class=\"data row264 col3\" >negative</td>\n",
       "                        <td id=\"T_b8aa991c_8bc3_11eb_9287_3af9d350abc5row264_col4\" class=\"data row264 col4\" >175</td>\n",
       "            </tr>\n",
       "            <tr>\n",
       "                        <th id=\"T_b8aa991c_8bc3_11eb_9287_3af9d350abc5level0_row265\" class=\"row_heading level0 row265\" >265</th>\n",
       "                        <td id=\"T_b8aa991c_8bc3_11eb_9287_3af9d350abc5row265_col0\" class=\"data row265 col0\" >2020-12-01</td>\n",
       "                        <td id=\"T_b8aa991c_8bc3_11eb_9287_3af9d350abc5row265_col1\" class=\"data row265 col1\" >Environmental Cleanup</td>\n",
       "                        <td id=\"T_b8aa991c_8bc3_11eb_9287_3af9d350abc5row265_col2\" class=\"data row265 col2\" >Glencore</td>\n",
       "                        <td id=\"T_b8aa991c_8bc3_11eb_9287_3af9d350abc5row265_col3\" class=\"data row265 col3\" >neutral</td>\n",
       "                        <td id=\"T_b8aa991c_8bc3_11eb_9287_3af9d350abc5row265_col4\" class=\"data row265 col4\" >246</td>\n",
       "            </tr>\n",
       "            <tr>\n",
       "                        <th id=\"T_b8aa991c_8bc3_11eb_9287_3af9d350abc5level0_row266\" class=\"row_heading level0 row266\" >266</th>\n",
       "                        <td id=\"T_b8aa991c_8bc3_11eb_9287_3af9d350abc5row266_col0\" class=\"data row266 col0\" >2020-12-01</td>\n",
       "                        <td id=\"T_b8aa991c_8bc3_11eb_9287_3af9d350abc5row266_col1\" class=\"data row266 col1\" >Environmental Cleanup</td>\n",
       "                        <td id=\"T_b8aa991c_8bc3_11eb_9287_3af9d350abc5row266_col2\" class=\"data row266 col2\" >Glencore</td>\n",
       "                        <td id=\"T_b8aa991c_8bc3_11eb_9287_3af9d350abc5row266_col3\" class=\"data row266 col3\" >positive</td>\n",
       "                        <td id=\"T_b8aa991c_8bc3_11eb_9287_3af9d350abc5row266_col4\" class=\"data row266 col4\" >720</td>\n",
       "            </tr>\n",
       "            <tr>\n",
       "                        <th id=\"T_b8aa991c_8bc3_11eb_9287_3af9d350abc5level0_row267\" class=\"row_heading level0 row267\" >267</th>\n",
       "                        <td id=\"T_b8aa991c_8bc3_11eb_9287_3af9d350abc5row267_col0\" class=\"data row267 col0\" >2020-12-01</td>\n",
       "                        <td id=\"T_b8aa991c_8bc3_11eb_9287_3af9d350abc5row267_col1\" class=\"data row267 col1\" >Environmental Cleanup</td>\n",
       "                        <td id=\"T_b8aa991c_8bc3_11eb_9287_3af9d350abc5row267_col2\" class=\"data row267 col2\" >Rio Tinto Group</td>\n",
       "                        <td id=\"T_b8aa991c_8bc3_11eb_9287_3af9d350abc5row267_col3\" class=\"data row267 col3\" >negative</td>\n",
       "                        <td id=\"T_b8aa991c_8bc3_11eb_9287_3af9d350abc5row267_col4\" class=\"data row267 col4\" >71</td>\n",
       "            </tr>\n",
       "            <tr>\n",
       "                        <th id=\"T_b8aa991c_8bc3_11eb_9287_3af9d350abc5level0_row268\" class=\"row_heading level0 row268\" >268</th>\n",
       "                        <td id=\"T_b8aa991c_8bc3_11eb_9287_3af9d350abc5row268_col0\" class=\"data row268 col0\" >2020-12-01</td>\n",
       "                        <td id=\"T_b8aa991c_8bc3_11eb_9287_3af9d350abc5row268_col1\" class=\"data row268 col1\" >Environmental Cleanup</td>\n",
       "                        <td id=\"T_b8aa991c_8bc3_11eb_9287_3af9d350abc5row268_col2\" class=\"data row268 col2\" >Rio Tinto Group</td>\n",
       "                        <td id=\"T_b8aa991c_8bc3_11eb_9287_3af9d350abc5row268_col3\" class=\"data row268 col3\" >neutral</td>\n",
       "                        <td id=\"T_b8aa991c_8bc3_11eb_9287_3af9d350abc5row268_col4\" class=\"data row268 col4\" >205</td>\n",
       "            </tr>\n",
       "            <tr>\n",
       "                        <th id=\"T_b8aa991c_8bc3_11eb_9287_3af9d350abc5level0_row269\" class=\"row_heading level0 row269\" >269</th>\n",
       "                        <td id=\"T_b8aa991c_8bc3_11eb_9287_3af9d350abc5row269_col0\" class=\"data row269 col0\" >2020-12-01</td>\n",
       "                        <td id=\"T_b8aa991c_8bc3_11eb_9287_3af9d350abc5row269_col1\" class=\"data row269 col1\" >Environmental Cleanup</td>\n",
       "                        <td id=\"T_b8aa991c_8bc3_11eb_9287_3af9d350abc5row269_col2\" class=\"data row269 col2\" >Rio Tinto Group</td>\n",
       "                        <td id=\"T_b8aa991c_8bc3_11eb_9287_3af9d350abc5row269_col3\" class=\"data row269 col3\" >positive</td>\n",
       "                        <td id=\"T_b8aa991c_8bc3_11eb_9287_3af9d350abc5row269_col4\" class=\"data row269 col4\" >462</td>\n",
       "            </tr>\n",
       "            <tr>\n",
       "                        <th id=\"T_b8aa991c_8bc3_11eb_9287_3af9d350abc5level0_row270\" class=\"row_heading level0 row270\" >270</th>\n",
       "                        <td id=\"T_b8aa991c_8bc3_11eb_9287_3af9d350abc5row270_col0\" class=\"data row270 col0\" >2020-12-01</td>\n",
       "                        <td id=\"T_b8aa991c_8bc3_11eb_9287_3af9d350abc5row270_col1\" class=\"data row270 col1\" >Environmental Cleanup</td>\n",
       "                        <td id=\"T_b8aa991c_8bc3_11eb_9287_3af9d350abc5row270_col2\" class=\"data row270 col2\" >BHP</td>\n",
       "                        <td id=\"T_b8aa991c_8bc3_11eb_9287_3af9d350abc5row270_col3\" class=\"data row270 col3\" >negative</td>\n",
       "                        <td id=\"T_b8aa991c_8bc3_11eb_9287_3af9d350abc5row270_col4\" class=\"data row270 col4\" >96</td>\n",
       "            </tr>\n",
       "            <tr>\n",
       "                        <th id=\"T_b8aa991c_8bc3_11eb_9287_3af9d350abc5level0_row271\" class=\"row_heading level0 row271\" >271</th>\n",
       "                        <td id=\"T_b8aa991c_8bc3_11eb_9287_3af9d350abc5row271_col0\" class=\"data row271 col0\" >2020-12-01</td>\n",
       "                        <td id=\"T_b8aa991c_8bc3_11eb_9287_3af9d350abc5row271_col1\" class=\"data row271 col1\" >Environmental Cleanup</td>\n",
       "                        <td id=\"T_b8aa991c_8bc3_11eb_9287_3af9d350abc5row271_col2\" class=\"data row271 col2\" >BHP</td>\n",
       "                        <td id=\"T_b8aa991c_8bc3_11eb_9287_3af9d350abc5row271_col3\" class=\"data row271 col3\" >neutral</td>\n",
       "                        <td id=\"T_b8aa991c_8bc3_11eb_9287_3af9d350abc5row271_col4\" class=\"data row271 col4\" >218</td>\n",
       "            </tr>\n",
       "            <tr>\n",
       "                        <th id=\"T_b8aa991c_8bc3_11eb_9287_3af9d350abc5level0_row272\" class=\"row_heading level0 row272\" >272</th>\n",
       "                        <td id=\"T_b8aa991c_8bc3_11eb_9287_3af9d350abc5row272_col0\" class=\"data row272 col0\" >2020-12-01</td>\n",
       "                        <td id=\"T_b8aa991c_8bc3_11eb_9287_3af9d350abc5row272_col1\" class=\"data row272 col1\" >Environmental Cleanup</td>\n",
       "                        <td id=\"T_b8aa991c_8bc3_11eb_9287_3af9d350abc5row272_col2\" class=\"data row272 col2\" >BHP</td>\n",
       "                        <td id=\"T_b8aa991c_8bc3_11eb_9287_3af9d350abc5row272_col3\" class=\"data row272 col3\" >positive</td>\n",
       "                        <td id=\"T_b8aa991c_8bc3_11eb_9287_3af9d350abc5row272_col4\" class=\"data row272 col4\" >439</td>\n",
       "            </tr>\n",
       "            <tr>\n",
       "                        <th id=\"T_b8aa991c_8bc3_11eb_9287_3af9d350abc5level0_row273\" class=\"row_heading level0 row273\" >273</th>\n",
       "                        <td id=\"T_b8aa991c_8bc3_11eb_9287_3af9d350abc5row273_col0\" class=\"data row273 col0\" >2020-12-01</td>\n",
       "                        <td id=\"T_b8aa991c_8bc3_11eb_9287_3af9d350abc5row273_col1\" class=\"data row273 col1\" >Environmental Cleanup</td>\n",
       "                        <td id=\"T_b8aa991c_8bc3_11eb_9287_3af9d350abc5row273_col2\" class=\"data row273 col2\" >Anglo American plc</td>\n",
       "                        <td id=\"T_b8aa991c_8bc3_11eb_9287_3af9d350abc5row273_col3\" class=\"data row273 col3\" >negative</td>\n",
       "                        <td id=\"T_b8aa991c_8bc3_11eb_9287_3af9d350abc5row273_col4\" class=\"data row273 col4\" >62</td>\n",
       "            </tr>\n",
       "            <tr>\n",
       "                        <th id=\"T_b8aa991c_8bc3_11eb_9287_3af9d350abc5level0_row274\" class=\"row_heading level0 row274\" >274</th>\n",
       "                        <td id=\"T_b8aa991c_8bc3_11eb_9287_3af9d350abc5row274_col0\" class=\"data row274 col0\" >2020-12-01</td>\n",
       "                        <td id=\"T_b8aa991c_8bc3_11eb_9287_3af9d350abc5row274_col1\" class=\"data row274 col1\" >Environmental Cleanup</td>\n",
       "                        <td id=\"T_b8aa991c_8bc3_11eb_9287_3af9d350abc5row274_col2\" class=\"data row274 col2\" >Anglo American plc</td>\n",
       "                        <td id=\"T_b8aa991c_8bc3_11eb_9287_3af9d350abc5row274_col3\" class=\"data row274 col3\" >neutral</td>\n",
       "                        <td id=\"T_b8aa991c_8bc3_11eb_9287_3af9d350abc5row274_col4\" class=\"data row274 col4\" >91</td>\n",
       "            </tr>\n",
       "            <tr>\n",
       "                        <th id=\"T_b8aa991c_8bc3_11eb_9287_3af9d350abc5level0_row275\" class=\"row_heading level0 row275\" >275</th>\n",
       "                        <td id=\"T_b8aa991c_8bc3_11eb_9287_3af9d350abc5row275_col0\" class=\"data row275 col0\" >2020-12-01</td>\n",
       "                        <td id=\"T_b8aa991c_8bc3_11eb_9287_3af9d350abc5row275_col1\" class=\"data row275 col1\" >Environmental Cleanup</td>\n",
       "                        <td id=\"T_b8aa991c_8bc3_11eb_9287_3af9d350abc5row275_col2\" class=\"data row275 col2\" >Anglo American plc</td>\n",
       "                        <td id=\"T_b8aa991c_8bc3_11eb_9287_3af9d350abc5row275_col3\" class=\"data row275 col3\" >positive</td>\n",
       "                        <td id=\"T_b8aa991c_8bc3_11eb_9287_3af9d350abc5row275_col4\" class=\"data row275 col4\" >168</td>\n",
       "            </tr>\n",
       "            <tr>\n",
       "                        <th id=\"T_b8aa991c_8bc3_11eb_9287_3af9d350abc5level0_row276\" class=\"row_heading level0 row276\" >276</th>\n",
       "                        <td id=\"T_b8aa991c_8bc3_11eb_9287_3af9d350abc5row276_col0\" class=\"data row276 col0\" >2020-12-01</td>\n",
       "                        <td id=\"T_b8aa991c_8bc3_11eb_9287_3af9d350abc5row276_col1\" class=\"data row276 col1\" >Sustainability</td>\n",
       "                        <td id=\"T_b8aa991c_8bc3_11eb_9287_3af9d350abc5row276_col2\" class=\"data row276 col2\" >Rio Tinto Group</td>\n",
       "                        <td id=\"T_b8aa991c_8bc3_11eb_9287_3af9d350abc5row276_col3\" class=\"data row276 col3\" >negative</td>\n",
       "                        <td id=\"T_b8aa991c_8bc3_11eb_9287_3af9d350abc5row276_col4\" class=\"data row276 col4\" >9</td>\n",
       "            </tr>\n",
       "            <tr>\n",
       "                        <th id=\"T_b8aa991c_8bc3_11eb_9287_3af9d350abc5level0_row277\" class=\"row_heading level0 row277\" >277</th>\n",
       "                        <td id=\"T_b8aa991c_8bc3_11eb_9287_3af9d350abc5row277_col0\" class=\"data row277 col0\" >2020-12-01</td>\n",
       "                        <td id=\"T_b8aa991c_8bc3_11eb_9287_3af9d350abc5row277_col1\" class=\"data row277 col1\" >Sustainability</td>\n",
       "                        <td id=\"T_b8aa991c_8bc3_11eb_9287_3af9d350abc5row277_col2\" class=\"data row277 col2\" >Rio Tinto Group</td>\n",
       "                        <td id=\"T_b8aa991c_8bc3_11eb_9287_3af9d350abc5row277_col3\" class=\"data row277 col3\" >neutral</td>\n",
       "                        <td id=\"T_b8aa991c_8bc3_11eb_9287_3af9d350abc5row277_col4\" class=\"data row277 col4\" >89</td>\n",
       "            </tr>\n",
       "            <tr>\n",
       "                        <th id=\"T_b8aa991c_8bc3_11eb_9287_3af9d350abc5level0_row278\" class=\"row_heading level0 row278\" >278</th>\n",
       "                        <td id=\"T_b8aa991c_8bc3_11eb_9287_3af9d350abc5row278_col0\" class=\"data row278 col0\" >2020-12-01</td>\n",
       "                        <td id=\"T_b8aa991c_8bc3_11eb_9287_3af9d350abc5row278_col1\" class=\"data row278 col1\" >Sustainability</td>\n",
       "                        <td id=\"T_b8aa991c_8bc3_11eb_9287_3af9d350abc5row278_col2\" class=\"data row278 col2\" >Rio Tinto Group</td>\n",
       "                        <td id=\"T_b8aa991c_8bc3_11eb_9287_3af9d350abc5row278_col3\" class=\"data row278 col3\" >positive</td>\n",
       "                        <td id=\"T_b8aa991c_8bc3_11eb_9287_3af9d350abc5row278_col4\" class=\"data row278 col4\" >236</td>\n",
       "            </tr>\n",
       "            <tr>\n",
       "                        <th id=\"T_b8aa991c_8bc3_11eb_9287_3af9d350abc5level0_row279\" class=\"row_heading level0 row279\" >279</th>\n",
       "                        <td id=\"T_b8aa991c_8bc3_11eb_9287_3af9d350abc5row279_col0\" class=\"data row279 col0\" >2020-12-01</td>\n",
       "                        <td id=\"T_b8aa991c_8bc3_11eb_9287_3af9d350abc5row279_col1\" class=\"data row279 col1\" >Sustainability</td>\n",
       "                        <td id=\"T_b8aa991c_8bc3_11eb_9287_3af9d350abc5row279_col2\" class=\"data row279 col2\" >Glencore</td>\n",
       "                        <td id=\"T_b8aa991c_8bc3_11eb_9287_3af9d350abc5row279_col3\" class=\"data row279 col3\" >negative</td>\n",
       "                        <td id=\"T_b8aa991c_8bc3_11eb_9287_3af9d350abc5row279_col4\" class=\"data row279 col4\" >16</td>\n",
       "            </tr>\n",
       "            <tr>\n",
       "                        <th id=\"T_b8aa991c_8bc3_11eb_9287_3af9d350abc5level0_row280\" class=\"row_heading level0 row280\" >280</th>\n",
       "                        <td id=\"T_b8aa991c_8bc3_11eb_9287_3af9d350abc5row280_col0\" class=\"data row280 col0\" >2020-12-01</td>\n",
       "                        <td id=\"T_b8aa991c_8bc3_11eb_9287_3af9d350abc5row280_col1\" class=\"data row280 col1\" >Sustainability</td>\n",
       "                        <td id=\"T_b8aa991c_8bc3_11eb_9287_3af9d350abc5row280_col2\" class=\"data row280 col2\" >Glencore</td>\n",
       "                        <td id=\"T_b8aa991c_8bc3_11eb_9287_3af9d350abc5row280_col3\" class=\"data row280 col3\" >neutral</td>\n",
       "                        <td id=\"T_b8aa991c_8bc3_11eb_9287_3af9d350abc5row280_col4\" class=\"data row280 col4\" >164</td>\n",
       "            </tr>\n",
       "            <tr>\n",
       "                        <th id=\"T_b8aa991c_8bc3_11eb_9287_3af9d350abc5level0_row281\" class=\"row_heading level0 row281\" >281</th>\n",
       "                        <td id=\"T_b8aa991c_8bc3_11eb_9287_3af9d350abc5row281_col0\" class=\"data row281 col0\" >2020-12-01</td>\n",
       "                        <td id=\"T_b8aa991c_8bc3_11eb_9287_3af9d350abc5row281_col1\" class=\"data row281 col1\" >Sustainability</td>\n",
       "                        <td id=\"T_b8aa991c_8bc3_11eb_9287_3af9d350abc5row281_col2\" class=\"data row281 col2\" >Glencore</td>\n",
       "                        <td id=\"T_b8aa991c_8bc3_11eb_9287_3af9d350abc5row281_col3\" class=\"data row281 col3\" >positive</td>\n",
       "                        <td id=\"T_b8aa991c_8bc3_11eb_9287_3af9d350abc5row281_col4\" class=\"data row281 col4\" >235</td>\n",
       "            </tr>\n",
       "            <tr>\n",
       "                        <th id=\"T_b8aa991c_8bc3_11eb_9287_3af9d350abc5level0_row282\" class=\"row_heading level0 row282\" >282</th>\n",
       "                        <td id=\"T_b8aa991c_8bc3_11eb_9287_3af9d350abc5row282_col0\" class=\"data row282 col0\" >2020-12-01</td>\n",
       "                        <td id=\"T_b8aa991c_8bc3_11eb_9287_3af9d350abc5row282_col1\" class=\"data row282 col1\" >Sustainability</td>\n",
       "                        <td id=\"T_b8aa991c_8bc3_11eb_9287_3af9d350abc5row282_col2\" class=\"data row282 col2\" >BHP</td>\n",
       "                        <td id=\"T_b8aa991c_8bc3_11eb_9287_3af9d350abc5row282_col3\" class=\"data row282 col3\" >negative</td>\n",
       "                        <td id=\"T_b8aa991c_8bc3_11eb_9287_3af9d350abc5row282_col4\" class=\"data row282 col4\" >1</td>\n",
       "            </tr>\n",
       "            <tr>\n",
       "                        <th id=\"T_b8aa991c_8bc3_11eb_9287_3af9d350abc5level0_row283\" class=\"row_heading level0 row283\" >283</th>\n",
       "                        <td id=\"T_b8aa991c_8bc3_11eb_9287_3af9d350abc5row283_col0\" class=\"data row283 col0\" >2020-12-01</td>\n",
       "                        <td id=\"T_b8aa991c_8bc3_11eb_9287_3af9d350abc5row283_col1\" class=\"data row283 col1\" >Sustainability</td>\n",
       "                        <td id=\"T_b8aa991c_8bc3_11eb_9287_3af9d350abc5row283_col2\" class=\"data row283 col2\" >BHP</td>\n",
       "                        <td id=\"T_b8aa991c_8bc3_11eb_9287_3af9d350abc5row283_col3\" class=\"data row283 col3\" >neutral</td>\n",
       "                        <td id=\"T_b8aa991c_8bc3_11eb_9287_3af9d350abc5row283_col4\" class=\"data row283 col4\" >80</td>\n",
       "            </tr>\n",
       "            <tr>\n",
       "                        <th id=\"T_b8aa991c_8bc3_11eb_9287_3af9d350abc5level0_row284\" class=\"row_heading level0 row284\" >284</th>\n",
       "                        <td id=\"T_b8aa991c_8bc3_11eb_9287_3af9d350abc5row284_col0\" class=\"data row284 col0\" >2020-12-01</td>\n",
       "                        <td id=\"T_b8aa991c_8bc3_11eb_9287_3af9d350abc5row284_col1\" class=\"data row284 col1\" >Sustainability</td>\n",
       "                        <td id=\"T_b8aa991c_8bc3_11eb_9287_3af9d350abc5row284_col2\" class=\"data row284 col2\" >BHP</td>\n",
       "                        <td id=\"T_b8aa991c_8bc3_11eb_9287_3af9d350abc5row284_col3\" class=\"data row284 col3\" >positive</td>\n",
       "                        <td id=\"T_b8aa991c_8bc3_11eb_9287_3af9d350abc5row284_col4\" class=\"data row284 col4\" >187</td>\n",
       "            </tr>\n",
       "            <tr>\n",
       "                        <th id=\"T_b8aa991c_8bc3_11eb_9287_3af9d350abc5level0_row285\" class=\"row_heading level0 row285\" >285</th>\n",
       "                        <td id=\"T_b8aa991c_8bc3_11eb_9287_3af9d350abc5row285_col0\" class=\"data row285 col0\" >2020-12-01</td>\n",
       "                        <td id=\"T_b8aa991c_8bc3_11eb_9287_3af9d350abc5row285_col1\" class=\"data row285 col1\" >Sustainability</td>\n",
       "                        <td id=\"T_b8aa991c_8bc3_11eb_9287_3af9d350abc5row285_col2\" class=\"data row285 col2\" >Anglo American plc</td>\n",
       "                        <td id=\"T_b8aa991c_8bc3_11eb_9287_3af9d350abc5row285_col3\" class=\"data row285 col3\" >negative</td>\n",
       "                        <td id=\"T_b8aa991c_8bc3_11eb_9287_3af9d350abc5row285_col4\" class=\"data row285 col4\" >1</td>\n",
       "            </tr>\n",
       "            <tr>\n",
       "                        <th id=\"T_b8aa991c_8bc3_11eb_9287_3af9d350abc5level0_row286\" class=\"row_heading level0 row286\" >286</th>\n",
       "                        <td id=\"T_b8aa991c_8bc3_11eb_9287_3af9d350abc5row286_col0\" class=\"data row286 col0\" >2020-12-01</td>\n",
       "                        <td id=\"T_b8aa991c_8bc3_11eb_9287_3af9d350abc5row286_col1\" class=\"data row286 col1\" >Sustainability</td>\n",
       "                        <td id=\"T_b8aa991c_8bc3_11eb_9287_3af9d350abc5row286_col2\" class=\"data row286 col2\" >Anglo American plc</td>\n",
       "                        <td id=\"T_b8aa991c_8bc3_11eb_9287_3af9d350abc5row286_col3\" class=\"data row286 col3\" >neutral</td>\n",
       "                        <td id=\"T_b8aa991c_8bc3_11eb_9287_3af9d350abc5row286_col4\" class=\"data row286 col4\" >80</td>\n",
       "            </tr>\n",
       "            <tr>\n",
       "                        <th id=\"T_b8aa991c_8bc3_11eb_9287_3af9d350abc5level0_row287\" class=\"row_heading level0 row287\" >287</th>\n",
       "                        <td id=\"T_b8aa991c_8bc3_11eb_9287_3af9d350abc5row287_col0\" class=\"data row287 col0\" >2020-12-01</td>\n",
       "                        <td id=\"T_b8aa991c_8bc3_11eb_9287_3af9d350abc5row287_col1\" class=\"data row287 col1\" >Sustainability</td>\n",
       "                        <td id=\"T_b8aa991c_8bc3_11eb_9287_3af9d350abc5row287_col2\" class=\"data row287 col2\" >Anglo American plc</td>\n",
       "                        <td id=\"T_b8aa991c_8bc3_11eb_9287_3af9d350abc5row287_col3\" class=\"data row287 col3\" >positive</td>\n",
       "                        <td id=\"T_b8aa991c_8bc3_11eb_9287_3af9d350abc5row287_col4\" class=\"data row287 col4\" >219</td>\n",
       "            </tr>\n",
       "    </tbody></table>"
      ],
      "text/plain": [
       "<pandas.io.formats.style.Styler at 0x1112404e0>"
      ]
     },
     "execution_count": 22,
     "metadata": {},
     "output_type": "execute_result"
    }
   ],
   "source": [
    "df = json_normalize(mining_companies_result, 'aggregations')\n",
    "\n",
    "df = df.rename(columns={'entity.sentiment': 'Sentiment', \n",
    "                        'document-count': 'Count', \n",
    "                        'published-at': 'Date', \n",
    "                        'topic.name': 'Topic', \n",
    "                        'entity.name': 'Entity'})\n",
    "\n",
    "df = df.reindex(columns=['Date', 'Topic', 'Entity', 'Sentiment', 'Count'])\n",
    "\n",
    "df.style.set_caption('Sentiment breakdown by mining company and topic')"
   ]
  },
  {
   "cell_type": "code",
   "execution_count": null,
   "metadata": {},
   "outputs": [],
   "source": []
  }
 ],
 "metadata": {
  "kernelspec": {
   "display_name": "Python 3",
   "language": "python",
   "name": "python3"
  },
  "language_info": {
   "codemirror_mode": {
    "name": "ipython",
    "version": 3
   },
   "file_extension": ".py",
   "mimetype": "text/x-python",
   "name": "python",
   "nbconvert_exporter": "python",
   "pygments_lexer": "ipython3",
   "version": "3.7.4"
  }
 },
 "nbformat": 4,
 "nbformat_minor": 4
}
