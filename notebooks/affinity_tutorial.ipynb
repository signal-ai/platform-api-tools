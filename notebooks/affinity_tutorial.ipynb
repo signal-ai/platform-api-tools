{
 "cells": [
  {
   "cell_type": "markdown",
   "metadata": {},
   "source": [
    "# Getting Started with Affinity"
   ]
  },
  {
   "cell_type": "markdown",
   "metadata": {},
   "source": [
    "This notebook gives useful examples on how to make use of the Affinity endpoints in the Signal AI API.\n",
    "\n",
    "Full technical documentation of the Affinity endpoints are available here\n",
    "https://api.signal-ai.com/docs#tag/Concept-Affinity\n"
   ]
  },
  {
   "cell_type": "markdown",
   "metadata": {},
   "source": [
    "## What is Affinity?\n"
   ]
  },
  {
   "cell_type": "markdown",
   "metadata": {},
   "source": [
    "The Signal platform processes a huge amount of unstructured data (text) every day, and it further helps parse the data by adding meaningful classifications (entities, topics, sentiment). By doing this, we allow our users to access useful **relevant information**, for example articles about their brand. Indeed the Search endpoints of the Signal AI API allows you to do exactly that.\n",
    "\n",
    "Taking the platform to the next level, we built **the Signal AI knowledge graph** - a powerful structure to represent connections between entities and topics and how they change over time. With this knowledge graph and through the **Affinity** capabilities in the API, you will be able to ask questions about the data and find unknowns.\n",
    "\n",
    "To give an idea, here are examples of questions that you  will be able to answer with the Affinity endpoints: \n",
    "\n",
    "a. What are currently the top topics associated with my brand (in media)? Is Sustainability one of them?\n",
    "\n",
    "b. How is the conversation changing around a certain company? Are there any risky topics associated with it?\n"
   ]
  },
  {
   "cell_type": "markdown",
   "metadata": {},
   "source": [
    "## 0. Setting things up!"
   ]
  },
  {
   "cell_type": "markdown",
   "metadata": {},
   "source": [
    "### 0.1 Pre-requesites"
   ]
  },
  {
   "cell_type": "markdown",
   "metadata": {},
   "source": [
    "Please make sure that you have familiarised yourself with the Signal AI API using the [Getting Started with the Search API notebook](getting_started.ipynb)\n",
    "\n",
    "In particular you would need to be able to use the following endpoints:\n",
    "\n",
    "1- Authentication: to be able to access the API\n",
    "\n",
    "2- Discovery: to be able to search for entities and topics of interest"
   ]
  },
  {
   "cell_type": "markdown",
   "metadata": {},
   "source": [
    "Note: run `pip install -r requirements.txt` to install the dependencies for this notebook"
   ]
  },
  {
   "cell_type": "code",
   "execution_count": 27,
   "metadata": {},
   "outputs": [],
   "source": [
    "import backoff\n",
    "import requests\n",
    "import os\n",
    "import pandas as pd"
   ]
  },
  {
   "cell_type": "markdown",
   "metadata": {},
   "source": [
    "### 0.2 Check if authentication works! "
   ]
  },
  {
   "cell_type": "markdown",
   "metadata": {},
   "source": [
    "You will need a client_id and client_secret to gain access to the API. The code below will assume they have been set and the environment variables SIGNAL_API_CLIENT_ID and SIGNAL_API_CLIENT_SECRET respectively.\n",
    "\n",
    "Using your credentials you can request a temporary access token from the API using the url:\n",
    "https://api.signal-ai.com/auth/token"
   ]
  },
  {
   "cell_type": "code",
   "execution_count": 18,
   "metadata": {},
   "outputs": [],
   "source": [
    "def authenticate(client_id, client_secret, url = \"https://api.signal-ai.com\"):\n",
    "    \"\"\" obtain a temporary access token using user credentials \"\"\"\n",
    "    token_url = f'{url}/auth/token'\n",
    "    payload = {\n",
    "        \"grant_type\": \"client_credentials\",\n",
    "        \"client_id\": client_id,\n",
    "        \"client_secret\": client_secret\n",
    "    }\n",
    "    response = requests.post(token_url, data=payload)\n",
    "    return response.json().get(\"access_token\")"
   ]
  },
  {
   "cell_type": "code",
   "execution_count": 106,
   "metadata": {},
   "outputs": [
    {
     "name": "stdout",
     "output_type": "stream",
     "text": [
      "Congratulations! You have an access token, it will last for 24 hours before you will need to reauthenticate by repeating this step\n"
     ]
    }
   ],
   "source": [
    "TEMP_ACCESS_TOKEN = authenticate(os.environ['SIGNAL_API_CLIENT_ID'], os.environ['SIGNAL_API_CLIENT_SECRET'])\n",
    "if TEMP_ACCESS_TOKEN:\n",
    "    print('Congratulations! You have an access token, it will last for 24 hours before you will need to reauthenticate by repeating this step')\n",
    "else:\n",
    "    print('Error: Perhaps the credentials are incorrect?')"
   ]
  },
  {
   "cell_type": "markdown",
   "metadata": {},
   "source": [
    "## Using Affinity"
   ]
  },
  {
   "cell_type": "markdown",
   "metadata": {},
   "source": [
    "The affinity endpoints allows API users to leverage the power of the Signal AI knowledge graph that we construct from our content and update over time.\n",
    "\n",
    "In the following we give examples on useful questions that can be answered with this knolwedge graph."
   ]
  },
  {
   "cell_type": "markdown",
   "metadata": {},
   "source": [
    "## 1. Proximity Examples"
   ]
  },
  {
   "cell_type": "markdown",
   "metadata": {},
   "source": [
    "### 1.1 Entities most associated with a topic (at a certain time)"
   ]
  },
  {
   "cell_type": "markdown",
   "metadata": {},
   "source": [
    "Example use case:\n",
    "- Who are currently the main active organisations within a certain industry? Are there new players in the market?  Is there a rising competition? \n",
    "\n",
    "\n",
    "\n",
    "How: \n",
    "Using the Affinity end points, rank organisation by their proximity score to a topic.\n",
    "\n",
    "Note that you would need to have the ID of the topic as an input. For that please consult [Getting Started notebook](getting_started.ipynb) to search for topics and obtain the ID"
   ]
  },
  {
   "cell_type": "markdown",
   "metadata": {},
   "source": [
    "**Example**: top 20 organisations in the Wearables industry in December 2020"
   ]
  },
  {
   "cell_type": "code",
   "execution_count": 45,
   "metadata": {},
   "outputs": [],
   "source": [
    "topic_id = 'f861d9df-5a65-41fe-8077-1714b838f1e1' ## topic ID for Wearables\n",
    "response = requests.get(\n",
    "    # call the entities endpoint\n",
    "    'https://api.signal-ai.com/affinity/topics/{}/relationships'.format(topic_id),\n",
    "    params={\n",
    "        'rel-type':'proximity',\n",
    "        # Limit the search to organisations\n",
    "        'entity-type':'organisation',\n",
    "        'start-month':'2020-12',\n",
    "        'end-month': '2020-12',\n",
    "        'size': 20\n",
    "    },\n",
    "    # include the access token in the header\n",
    "    headers={\n",
    "        \"Authorization\": f'Bearer {TEMP_ACCESS_TOKEN}',\n",
    "        \"Content-Type\": \"application/json\",\n",
    "    }\n",
    ")\n",
    "\n",
    "result = response.json()\n"
   ]
  },
  {
   "cell_type": "code",
   "execution_count": 46,
   "metadata": {
    "scrolled": true
   },
   "outputs": [
    {
     "data": {
      "text/html": [
       "<div>\n",
       "<style scoped>\n",
       "    .dataframe tbody tr th:only-of-type {\n",
       "        vertical-align: middle;\n",
       "    }\n",
       "\n",
       "    .dataframe tbody tr th {\n",
       "        vertical-align: top;\n",
       "    }\n",
       "\n",
       "    .dataframe thead th {\n",
       "        text-align: right;\n",
       "    }\n",
       "</style>\n",
       "<table border=\"1\" class=\"dataframe\">\n",
       "  <thead>\n",
       "    <tr style=\"text-align: right;\">\n",
       "      <th></th>\n",
       "      <th>concept-name</th>\n",
       "    </tr>\n",
       "  </thead>\n",
       "  <tbody>\n",
       "    <tr>\n",
       "      <th>0</th>\n",
       "      <td>Fitbit</td>\n",
       "    </tr>\n",
       "    <tr>\n",
       "      <th>1</th>\n",
       "      <td>Garmin</td>\n",
       "    </tr>\n",
       "    <tr>\n",
       "      <th>2</th>\n",
       "      <td>Polar Electro</td>\n",
       "    </tr>\n",
       "    <tr>\n",
       "      <th>3</th>\n",
       "      <td>TAG Heuer</td>\n",
       "    </tr>\n",
       "    <tr>\n",
       "      <th>4</th>\n",
       "      <td>Withings</td>\n",
       "    </tr>\n",
       "    <tr>\n",
       "      <th>5</th>\n",
       "      <td>Gorilla glass</td>\n",
       "    </tr>\n",
       "    <tr>\n",
       "      <th>6</th>\n",
       "      <td>Corning Inc.</td>\n",
       "    </tr>\n",
       "    <tr>\n",
       "      <th>7</th>\n",
       "      <td>SmartThings</td>\n",
       "    </tr>\n",
       "    <tr>\n",
       "      <th>8</th>\n",
       "      <td>Xiaomi Tech</td>\n",
       "    </tr>\n",
       "    <tr>\n",
       "      <th>9</th>\n",
       "      <td>Mobvoi</td>\n",
       "    </tr>\n",
       "    <tr>\n",
       "      <th>10</th>\n",
       "      <td>Tile (company)</td>\n",
       "    </tr>\n",
       "    <tr>\n",
       "      <th>11</th>\n",
       "      <td>International Data Corporation</td>\n",
       "    </tr>\n",
       "    <tr>\n",
       "      <th>12</th>\n",
       "      <td>OnePlus</td>\n",
       "    </tr>\n",
       "    <tr>\n",
       "      <th>13</th>\n",
       "      <td>Omega SA</td>\n",
       "    </tr>\n",
       "    <tr>\n",
       "      <th>14</th>\n",
       "      <td>Nest Labs</td>\n",
       "    </tr>\n",
       "    <tr>\n",
       "      <th>15</th>\n",
       "      <td>Breitling SA</td>\n",
       "    </tr>\n",
       "    <tr>\n",
       "      <th>16</th>\n",
       "      <td>Guardian Industries</td>\n",
       "    </tr>\n",
       "    <tr>\n",
       "      <th>17</th>\n",
       "      <td>Strava</td>\n",
       "    </tr>\n",
       "    <tr>\n",
       "      <th>18</th>\n",
       "      <td>Patek Philippe &amp; Co.</td>\n",
       "    </tr>\n",
       "    <tr>\n",
       "      <th>19</th>\n",
       "      <td>The Swatch Group</td>\n",
       "    </tr>\n",
       "  </tbody>\n",
       "</table>\n",
       "</div>"
      ],
      "text/plain": [
       "                      concept-name\n",
       "0                           Fitbit\n",
       "1                           Garmin\n",
       "2                    Polar Electro\n",
       "3                        TAG Heuer\n",
       "4                         Withings\n",
       "5                    Gorilla glass\n",
       "6                     Corning Inc.\n",
       "7                      SmartThings\n",
       "8                      Xiaomi Tech\n",
       "9                           Mobvoi\n",
       "10                  Tile (company)\n",
       "11  International Data Corporation\n",
       "12                         OnePlus\n",
       "13                        Omega SA\n",
       "14                       Nest Labs\n",
       "15                    Breitling SA\n",
       "16             Guardian Industries\n",
       "17                          Strava\n",
       "18            Patek Philippe & Co.\n",
       "19                The Swatch Group"
      ]
     },
     "execution_count": 46,
     "metadata": {},
     "output_type": "execute_result"
    }
   ],
   "source": [
    "df = pd.DataFrame.from_dict(result['relationships'])\n",
    "df[['concept-name']]"
   ]
  },
  {
   "cell_type": "markdown",
   "metadata": {},
   "source": [
    "### 1.2 Topics most associated with an entity (at a certain time)"
   ]
  },
  {
   "cell_type": "markdown",
   "metadata": {},
   "source": [
    "Example use case:\n",
    "- What are currently the top topics associated with my brand (in media)? Is Sustainability one of them?\n",
    "\n",
    "How: using the Affinity end points, rank topics by their proximity score to a certain organisation, also retrieve the scores to generate a visualisation\n"
   ]
  },
  {
   "cell_type": "markdown",
   "metadata": {},
   "source": [
    "**Example**: top 10 topics associated to Tesla, Inc. in December 2020"
   ]
  },
  {
   "cell_type": "code",
   "execution_count": 50,
   "metadata": {},
   "outputs": [],
   "source": [
    "entity_id = '11cab8df-4be1-470f-8f49-8f7f0863ec95' ##  ID for Tesla, Inc.\n",
    "response = requests.get(\n",
    "    # call the entities endpoint\n",
    "    'https://api.signal-ai.com/affinity/entities/{}/relationships'.format(entity_id),\n",
    "    params={\n",
    "        'rel-type':'proximity',\n",
    "        'start-month':'2020-12',\n",
    "        'end-month': '2020-12',\n",
    "        'size': 10\n",
    "    },\n",
    "    # include the access token in the header\n",
    "    headers={\n",
    "        \"Authorization\": f'Bearer {TEMP_ACCESS_TOKEN}',\n",
    "        \"Content-Type\": \"application/json\",\n",
    "    }\n",
    ")\n",
    "\n",
    "result = response.json()"
   ]
  },
  {
   "cell_type": "code",
   "execution_count": 51,
   "metadata": {},
   "outputs": [
    {
     "data": {
      "text/html": [
       "<div>\n",
       "<style scoped>\n",
       "    .dataframe tbody tr th:only-of-type {\n",
       "        vertical-align: middle;\n",
       "    }\n",
       "\n",
       "    .dataframe tbody tr th {\n",
       "        vertical-align: top;\n",
       "    }\n",
       "\n",
       "    .dataframe thead th {\n",
       "        text-align: right;\n",
       "    }\n",
       "</style>\n",
       "<table border=\"1\" class=\"dataframe\">\n",
       "  <thead>\n",
       "    <tr style=\"text-align: right;\">\n",
       "      <th></th>\n",
       "      <th>concept-name</th>\n",
       "    </tr>\n",
       "  </thead>\n",
       "  <tbody>\n",
       "    <tr>\n",
       "      <th>0</th>\n",
       "      <td>Electric Vehicles (EV)</td>\n",
       "    </tr>\n",
       "    <tr>\n",
       "      <th>1</th>\n",
       "      <td>Futures of Transport</td>\n",
       "    </tr>\n",
       "    <tr>\n",
       "      <th>2</th>\n",
       "      <td>Cleantech</td>\n",
       "    </tr>\n",
       "    <tr>\n",
       "      <th>3</th>\n",
       "      <td>Automotive Industry</td>\n",
       "    </tr>\n",
       "    <tr>\n",
       "      <th>4</th>\n",
       "      <td>Autonomous Vehicles</td>\n",
       "    </tr>\n",
       "    <tr>\n",
       "      <th>5</th>\n",
       "      <td>Travel</td>\n",
       "    </tr>\n",
       "    <tr>\n",
       "      <th>6</th>\n",
       "      <td>Decarbonisation</td>\n",
       "    </tr>\n",
       "    <tr>\n",
       "      <th>7</th>\n",
       "      <td>Transport</td>\n",
       "    </tr>\n",
       "    <tr>\n",
       "      <th>8</th>\n",
       "      <td>Sustainability</td>\n",
       "    </tr>\n",
       "    <tr>\n",
       "      <th>9</th>\n",
       "      <td>Executive Compensation</td>\n",
       "    </tr>\n",
       "  </tbody>\n",
       "</table>\n",
       "</div>"
      ],
      "text/plain": [
       "             concept-name\n",
       "0  Electric Vehicles (EV)\n",
       "1    Futures of Transport\n",
       "2               Cleantech\n",
       "3     Automotive Industry\n",
       "4     Autonomous Vehicles\n",
       "5                  Travel\n",
       "6         Decarbonisation\n",
       "7               Transport\n",
       "8          Sustainability\n",
       "9  Executive Compensation"
      ]
     },
     "execution_count": 51,
     "metadata": {},
     "output_type": "execute_result"
    }
   ],
   "source": [
    "df = pd.DataFrame.from_dict(result['relationships'])\n",
    "df[['concept-name']]"
   ]
  },
  {
   "cell_type": "markdown",
   "metadata": {},
   "source": [
    "### 1.3 Changes of associations over time"
   ]
  },
  {
   "cell_type": "markdown",
   "metadata": {},
   "source": [
    "Example use case:\n",
    "- How is the conversation changing around a certain company? Are they any emerging risks?\n",
    "\n",
    "How: Using the Affinity endpoints, identify the top topics by proximity to a certain organisation over time\n",
    "\n"
   ]
  },
  {
   "cell_type": "markdown",
   "metadata": {},
   "source": [
    "**Example**: How is the conversation changing about 'Wirecard' between Septembar and November 2019"
   ]
  },
  {
   "cell_type": "code",
   "execution_count": 175,
   "metadata": {},
   "outputs": [],
   "source": [
    "entity_id = 'eae834b7-5b2f-430e-99ce-770786a971cf' ##  ID for Wirecard\n",
    "response = requests.get(\n",
    "    # call the entities endpoint\n",
    "    'https://api.signal-ai.com/affinity/entities/{}/relationships'.format(entity_id),\n",
    "    params={\n",
    "        'rel-type':'proximity',\n",
    "        'start-month':'2019-09',\n",
    "        'end-month': '2019-11',\n",
    "        'size': 100\n",
    "    },\n",
    "    # include the access token in the header\n",
    "    headers={\n",
    "        \"Authorization\": f'Bearer {TEMP_ACCESS_TOKEN}',\n",
    "        \"Content-Type\": \"application/json\",\n",
    "    }\n",
    ")\n",
    "\n",
    "result = response.json()"
   ]
  },
  {
   "cell_type": "markdown",
   "metadata": {},
   "source": [
    "The results now contain the montly proximities so we can now see changes over time"
   ]
  },
  {
   "cell_type": "code",
   "execution_count": 188,
   "metadata": {},
   "outputs": [
    {
     "data": {
      "text/html": [
       "<div>\n",
       "<style scoped>\n",
       "    .dataframe tbody tr th:only-of-type {\n",
       "        vertical-align: middle;\n",
       "    }\n",
       "\n",
       "    .dataframe tbody tr th {\n",
       "        vertical-align: top;\n",
       "    }\n",
       "\n",
       "    .dataframe thead th {\n",
       "        text-align: right;\n",
       "    }\n",
       "</style>\n",
       "<table border=\"1\" class=\"dataframe\">\n",
       "  <thead>\n",
       "    <tr style=\"text-align: right;\">\n",
       "      <th></th>\n",
       "      <th>concept-name</th>\n",
       "      <th>month</th>\n",
       "      <th>year</th>\n",
       "      <th>proximity</th>\n",
       "    </tr>\n",
       "  </thead>\n",
       "  <tbody>\n",
       "    <tr>\n",
       "      <th>0</th>\n",
       "      <td>FinTech</td>\n",
       "      <td>09</td>\n",
       "      <td>2019</td>\n",
       "      <td>0.504055</td>\n",
       "    </tr>\n",
       "    <tr>\n",
       "      <th>1</th>\n",
       "      <td>SME Lending</td>\n",
       "      <td>09</td>\n",
       "      <td>2019</td>\n",
       "      <td>0.302833</td>\n",
       "    </tr>\n",
       "    <tr>\n",
       "      <th>2</th>\n",
       "      <td>Commodity Prices</td>\n",
       "      <td>09</td>\n",
       "      <td>2019</td>\n",
       "      <td>0.274067</td>\n",
       "    </tr>\n",
       "    <tr>\n",
       "      <th>3</th>\n",
       "      <td>Active &amp; Passive Funds</td>\n",
       "      <td>09</td>\n",
       "      <td>2019</td>\n",
       "      <td>0.268060</td>\n",
       "    </tr>\n",
       "    <tr>\n",
       "      <th>4</th>\n",
       "      <td>Banking</td>\n",
       "      <td>09</td>\n",
       "      <td>2019</td>\n",
       "      <td>0.237024</td>\n",
       "    </tr>\n",
       "    <tr>\n",
       "      <th>5</th>\n",
       "      <td>Stock Market Reports</td>\n",
       "      <td>09</td>\n",
       "      <td>2019</td>\n",
       "      <td>0.235281</td>\n",
       "    </tr>\n",
       "    <tr>\n",
       "      <th>6</th>\n",
       "      <td>Expansion</td>\n",
       "      <td>09</td>\n",
       "      <td>2019</td>\n",
       "      <td>0.225518</td>\n",
       "    </tr>\n",
       "    <tr>\n",
       "      <th>7</th>\n",
       "      <td>Financial Services</td>\n",
       "      <td>09</td>\n",
       "      <td>2019</td>\n",
       "      <td>0.222776</td>\n",
       "    </tr>\n",
       "    <tr>\n",
       "      <th>8</th>\n",
       "      <td>Unicorns</td>\n",
       "      <td>09</td>\n",
       "      <td>2019</td>\n",
       "      <td>0.216554</td>\n",
       "    </tr>\n",
       "    <tr>\n",
       "      <th>9</th>\n",
       "      <td>Inflation</td>\n",
       "      <td>09</td>\n",
       "      <td>2019</td>\n",
       "      <td>0.212912</td>\n",
       "    </tr>\n",
       "  </tbody>\n",
       "</table>\n",
       "</div>"
      ],
      "text/plain": [
       "             concept-name month  year  proximity\n",
       "0                 FinTech    09  2019   0.504055\n",
       "1             SME Lending    09  2019   0.302833\n",
       "2        Commodity Prices    09  2019   0.274067\n",
       "3  Active & Passive Funds    09  2019   0.268060\n",
       "4                 Banking    09  2019   0.237024\n",
       "5    Stock Market Reports    09  2019   0.235281\n",
       "6               Expansion    09  2019   0.225518\n",
       "7      Financial Services    09  2019   0.222776\n",
       "8                Unicorns    09  2019   0.216554\n",
       "9               Inflation    09  2019   0.212912"
      ]
     },
     "execution_count": 188,
     "metadata": {},
     "output_type": "execute_result"
    }
   ],
   "source": [
    "df = pd.DataFrame.from_dict(result['relationships'])\n",
    "df_sep = df[df['month']=='09']\n",
    "df_sep.head(10)[['concept-name','month','year', 'proximity']]"
   ]
  },
  {
   "cell_type": "code",
   "execution_count": 185,
   "metadata": {},
   "outputs": [
    {
     "data": {
      "text/html": [
       "<div>\n",
       "<style scoped>\n",
       "    .dataframe tbody tr th:only-of-type {\n",
       "        vertical-align: middle;\n",
       "    }\n",
       "\n",
       "    .dataframe tbody tr th {\n",
       "        vertical-align: top;\n",
       "    }\n",
       "\n",
       "    .dataframe thead th {\n",
       "        text-align: right;\n",
       "    }\n",
       "</style>\n",
       "<table border=\"1\" class=\"dataframe\">\n",
       "  <thead>\n",
       "    <tr style=\"text-align: right;\">\n",
       "      <th></th>\n",
       "      <th>concept-name</th>\n",
       "      <th>month</th>\n",
       "      <th>year</th>\n",
       "      <th>proximity</th>\n",
       "    </tr>\n",
       "  </thead>\n",
       "  <tbody>\n",
       "    <tr>\n",
       "      <th>95</th>\n",
       "      <td>FinTech</td>\n",
       "      <td>10</td>\n",
       "      <td>2019</td>\n",
       "      <td>0.443968</td>\n",
       "    </tr>\n",
       "    <tr>\n",
       "      <th>96</th>\n",
       "      <td>Accounting Irregularities</td>\n",
       "      <td>10</td>\n",
       "      <td>2019</td>\n",
       "      <td>0.411455</td>\n",
       "    </tr>\n",
       "    <tr>\n",
       "      <th>97</th>\n",
       "      <td>Brexit (general)</td>\n",
       "      <td>10</td>\n",
       "      <td>2019</td>\n",
       "      <td>0.261404</td>\n",
       "    </tr>\n",
       "    <tr>\n",
       "      <th>98</th>\n",
       "      <td>Unicorns</td>\n",
       "      <td>10</td>\n",
       "      <td>2019</td>\n",
       "      <td>0.253976</td>\n",
       "    </tr>\n",
       "    <tr>\n",
       "      <th>99</th>\n",
       "      <td>Brexit - Financial Services</td>\n",
       "      <td>10</td>\n",
       "      <td>2019</td>\n",
       "      <td>0.250688</td>\n",
       "    </tr>\n",
       "    <tr>\n",
       "      <th>100</th>\n",
       "      <td>Corporate Crisis</td>\n",
       "      <td>10</td>\n",
       "      <td>2019</td>\n",
       "      <td>0.227292</td>\n",
       "    </tr>\n",
       "    <tr>\n",
       "      <th>101</th>\n",
       "      <td>Commodity Prices</td>\n",
       "      <td>10</td>\n",
       "      <td>2019</td>\n",
       "      <td>0.223016</td>\n",
       "    </tr>\n",
       "    <tr>\n",
       "      <th>102</th>\n",
       "      <td>Foreign Exchange Market</td>\n",
       "      <td>10</td>\n",
       "      <td>2019</td>\n",
       "      <td>0.213284</td>\n",
       "    </tr>\n",
       "    <tr>\n",
       "      <th>103</th>\n",
       "      <td>Price Change</td>\n",
       "      <td>10</td>\n",
       "      <td>2019</td>\n",
       "      <td>0.213191</td>\n",
       "    </tr>\n",
       "    <tr>\n",
       "      <th>104</th>\n",
       "      <td>Retail</td>\n",
       "      <td>10</td>\n",
       "      <td>2019</td>\n",
       "      <td>0.188567</td>\n",
       "    </tr>\n",
       "  </tbody>\n",
       "</table>\n",
       "</div>"
      ],
      "text/plain": [
       "                    concept-name month  year  proximity\n",
       "95                       FinTech    10  2019   0.443968\n",
       "96     Accounting Irregularities    10  2019   0.411455\n",
       "97              Brexit (general)    10  2019   0.261404\n",
       "98                      Unicorns    10  2019   0.253976\n",
       "99   Brexit - Financial Services    10  2019   0.250688\n",
       "100             Corporate Crisis    10  2019   0.227292\n",
       "101             Commodity Prices    10  2019   0.223016\n",
       "102      Foreign Exchange Market    10  2019   0.213284\n",
       "103                 Price Change    10  2019   0.213191\n",
       "104                       Retail    10  2019   0.188567"
      ]
     },
     "execution_count": 185,
     "metadata": {},
     "output_type": "execute_result"
    }
   ],
   "source": [
    "df = pd.DataFrame.from_dict(result['relationships'])\n",
    "df_oct = df[df['month']=='10']\n",
    "df_oct.head(10)[['concept-name','month','year', 'proximity']]"
   ]
  },
  {
   "cell_type": "code",
   "execution_count": 191,
   "metadata": {},
   "outputs": [
    {
     "data": {
      "text/html": [
       "<div>\n",
       "<style scoped>\n",
       "    .dataframe tbody tr th:only-of-type {\n",
       "        vertical-align: middle;\n",
       "    }\n",
       "\n",
       "    .dataframe tbody tr th {\n",
       "        vertical-align: top;\n",
       "    }\n",
       "\n",
       "    .dataframe thead th {\n",
       "        text-align: right;\n",
       "    }\n",
       "</style>\n",
       "<table border=\"1\" class=\"dataframe\">\n",
       "  <thead>\n",
       "    <tr style=\"text-align: right;\">\n",
       "      <th></th>\n",
       "      <th>concept-name</th>\n",
       "      <th>month</th>\n",
       "      <th>year</th>\n",
       "      <th>proximity</th>\n",
       "    </tr>\n",
       "  </thead>\n",
       "  <tbody>\n",
       "    <tr>\n",
       "      <th>190</th>\n",
       "      <td>FinTech</td>\n",
       "      <td>11</td>\n",
       "      <td>2019</td>\n",
       "      <td>0.459244</td>\n",
       "    </tr>\n",
       "    <tr>\n",
       "      <th>191</th>\n",
       "      <td>Accounting Irregularities</td>\n",
       "      <td>11</td>\n",
       "      <td>2019</td>\n",
       "      <td>0.274150</td>\n",
       "    </tr>\n",
       "    <tr>\n",
       "      <th>192</th>\n",
       "      <td>Price Change</td>\n",
       "      <td>11</td>\n",
       "      <td>2019</td>\n",
       "      <td>0.250883</td>\n",
       "    </tr>\n",
       "    <tr>\n",
       "      <th>193</th>\n",
       "      <td>Open Banking</td>\n",
       "      <td>11</td>\n",
       "      <td>2019</td>\n",
       "      <td>0.241417</td>\n",
       "    </tr>\n",
       "    <tr>\n",
       "      <th>194</th>\n",
       "      <td>Dividend Announcements</td>\n",
       "      <td>11</td>\n",
       "      <td>2019</td>\n",
       "      <td>0.240269</td>\n",
       "    </tr>\n",
       "    <tr>\n",
       "      <th>195</th>\n",
       "      <td>Mergers &amp; Acquisitions</td>\n",
       "      <td>11</td>\n",
       "      <td>2019</td>\n",
       "      <td>0.227708</td>\n",
       "    </tr>\n",
       "    <tr>\n",
       "      <th>196</th>\n",
       "      <td>Analyst Comments</td>\n",
       "      <td>11</td>\n",
       "      <td>2019</td>\n",
       "      <td>0.225052</td>\n",
       "    </tr>\n",
       "    <tr>\n",
       "      <th>197</th>\n",
       "      <td>Sovereign Wealth Fund</td>\n",
       "      <td>11</td>\n",
       "      <td>2019</td>\n",
       "      <td>0.223517</td>\n",
       "    </tr>\n",
       "    <tr>\n",
       "      <th>198</th>\n",
       "      <td>Wearables</td>\n",
       "      <td>11</td>\n",
       "      <td>2019</td>\n",
       "      <td>0.222128</td>\n",
       "    </tr>\n",
       "    <tr>\n",
       "      <th>199</th>\n",
       "      <td>Restructuring and Recapitalisation</td>\n",
       "      <td>11</td>\n",
       "      <td>2019</td>\n",
       "      <td>0.212708</td>\n",
       "    </tr>\n",
       "  </tbody>\n",
       "</table>\n",
       "</div>"
      ],
      "text/plain": [
       "                           concept-name month  year  proximity\n",
       "190                             FinTech    11  2019   0.459244\n",
       "191           Accounting Irregularities    11  2019   0.274150\n",
       "192                        Price Change    11  2019   0.250883\n",
       "193                        Open Banking    11  2019   0.241417\n",
       "194              Dividend Announcements    11  2019   0.240269\n",
       "195              Mergers & Acquisitions    11  2019   0.227708\n",
       "196                    Analyst Comments    11  2019   0.225052\n",
       "197               Sovereign Wealth Fund    11  2019   0.223517\n",
       "198                           Wearables    11  2019   0.222128\n",
       "199  Restructuring and Recapitalisation    11  2019   0.212708"
      ]
     },
     "execution_count": 191,
     "metadata": {},
     "output_type": "execute_result"
    }
   ],
   "source": [
    "df = pd.DataFrame.from_dict(result['relationships'])\n",
    "df_nov = df[df['month']=='11']\n",
    "df_nov.head(10)[['concept-name','month','year','proximity']]"
   ]
  },
  {
   "cell_type": "markdown",
   "metadata": {},
   "source": [
    "We can observe here that some topics popped up in October and November which were not there, such 'Accounting Irregularities' and 'Corporate crisis' which can be risk indicators. "
   ]
  },
  {
   "cell_type": "code",
   "execution_count": null,
   "metadata": {},
   "outputs": [],
   "source": [
    "df"
   ]
  },
  {
   "cell_type": "markdown",
   "metadata": {},
   "source": [
    "### 1.4 Comparing associations over time"
   ]
  },
  {
   "cell_type": "markdown",
   "metadata": {},
   "source": [
    "Example use case:\n",
    "- Over the past year, how do certain organisations compare with regards to their association with a certain topic?"
   ]
  },
  {
   "cell_type": "markdown",
   "metadata": {},
   "source": [
    "**Example**: How do these car manufacturers: Mercedez-Benz, General Motors, Tesla Inc. compare  with regards to their association to the ‘Product Recall’ topic?"
   ]
  },
  {
   "cell_type": "code",
   "execution_count": 15,
   "metadata": {},
   "outputs": [],
   "source": [
    "topic_id = '734a342f-a053-4823-9bda-8abb687182ba' ##  ID for Product Recall\n",
    "response = requests.get(\n",
    "    # call the entities endpoint\n",
    "    'https://api.signal-ai.com/affinity/topics/{}/relationships'.format(topic_id),\n",
    "    params={\n",
    "        'rel-type':'proximity',\n",
    "        'start-month':'2020-01',\n",
    "        'end-month': '2020-12',\n",
    "        'entity-id': [\n",
    "            '8d9ee12f-f4f2-3dc7-a8b9-673a07bd7747', # Mercedez-Benz \n",
    "            'a9cf01c5-751f-4fe5-a529-12e0d297cb63', # General Motors\n",
    "            '11cab8df-4be1-470f-8f49-8f7f0863ec95', # Tesla\n",
    "        ]\n",
    "    },\n",
    "    # include the access token in the header\n",
    "    headers={\n",
    "        \"Authorization\": f'Bearer {TEMP_ACCESS_TOKEN}',\n",
    "        \"Content-Type\": \"application/json\",\n",
    "    }\n",
    ")\n",
    "\n",
    "result = response.json()"
   ]
  },
  {
   "cell_type": "code",
   "execution_count": 136,
   "metadata": {},
   "outputs": [],
   "source": [
    "df = pd.DataFrame.from_dict(result['relationships'])\n"
   ]
  },
  {
   "cell_type": "code",
   "execution_count": 137,
   "metadata": {},
   "outputs": [
    {
     "data": {
      "image/png": "[encoded data removed]",
      "text/plain": [
       "<Figure size 1008x576 with 1 Axes>"
      ]
     },
     "metadata": {},
     "output_type": "display_data"
    }
   ],
   "source": [
    "# plot the proximity over time for the three car manufacturers\n",
    "import matplotlib.pyplot as plt\n",
    "%matplotlib inline\n",
    "\n",
    "fig = plt.figure(figsize=[7,4], dpi=144, facecolor='w')\n",
    "ax1 = plt.subplot(111)\n",
    "groupedby_company = df.groupby('concept-name')\n",
    "plot=groupedby_company.plot(kind='line', x='month', y='proximity', ax = ax1)\n",
    "groups = [group for group,_ in groupedby_company]\n",
    "ax1.legend(groups)\n",
    "_ = ax1.set_title('Comparison of proximity to the Product Recall topic in 2020')"
   ]
  },
  {
   "cell_type": "markdown",
   "metadata": {},
   "source": [
    "The plot shows clearly that Tesla overall is less associated to product recall throughout 2020, though we can see an exception around October, where there is a clear spike."
   ]
  },
  {
   "cell_type": "markdown",
   "metadata": {},
   "source": [
    "To explain this spike we can rely on the search endpoints on the API by retrieving the most relevant articles that mention Tesla and Product Recall"
   ]
  },
  {
   "cell_type": "code",
   "execution_count": 159,
   "metadata": {},
   "outputs": [],
   "source": [
    "# the query to search for Tesla Inc. and Product Recall in October 2020\n",
    "query = {\n",
    "    'where': {\n",
    "        \"published-at\": {\"gte\": \"2020-10-01\", \"lt\": \"2020-10-31\"},\n",
    "        'topics': {\n",
    "            'id': {\n",
    "                # id for the environment topic found using the dicovery endpoints\n",
    "                'eq': '734a342f-a053-4823-9bda-8abb687182ba'\n",
    "            },\n",
    "        },\n",
    "        'entities':{\n",
    "            'id' : {\n",
    "                'eq':'11cab8df-4be1-470f-8f49-8f7f0863ec95'\n",
    "            },\n",
    "            'salient-only': True\n",
    "        }\n",
    "    },\n",
    "    'size': 10,\n",
    "    'sort': [['score','desc']], # sort by relevance to get the most relevant 10 articles\n",
    "}\n",
    "\n",
    "response = requests.post(\n",
    "    'https://api.signal-ai.com/search',\n",
    "    json=query,\n",
    "    headers={\n",
    "        \"Authorization\": f'Bearer {TEMP_ACCESS_TOKEN}',\n",
    "        \"Content-Type\": \"application/json\",\n",
    "    }\n",
    ")\n",
    "results = response.json()"
   ]
  },
  {
   "cell_type": "code",
   "execution_count": 172,
   "metadata": {},
   "outputs": [
    {
     "name": "stdout",
     "output_type": "stream",
     "text": [
      "1) 2020-10-23 Tesla to Recall Around 30,000 Imported Model S, Model X Vehicles in China\n",
      "2) 2020-10-24 Tesla, China 5 million voluntary recall...suspension fault(comprehensive)\n",
      "3) 2020-10-24 BUSINESS; Tesla blames drivers in China recall\n",
      "4) 2020-10-24 Tesla recalls almost 30 thousand cars in China\n",
      "5) 2020-10-24 China recalls 30,000 Teslas over suspension issue that could affect US cars\n",
      "6) 2020-10-23 Tesla, ordered to recall 30,000 cars in China, blames 'driver abuse'\n",
      "7) 2020-10-25 Tesla recalls 48,442 vehicles in China\n",
      "8) 2020-10-26 Tesla recalls more than 48 thousand cars in China\n",
      "9) 2020-10-26 Tesla recalls 48,442 vehicles in China\n",
      "10) 2020-10-26 Tesla: there are no defects in the vehicle the relevant departments think the need to recall we are forced to recall\n"
     ]
    }
   ],
   "source": [
    "# Get the top 10 headlines on this\n",
    "for i, document in enumerate(results['documents']):\n",
    "    print('{}) {} {}'.format(i+1, document['published-at'].split('T')[0], document['title']))"
   ]
  },
  {
   "cell_type": "markdown",
   "metadata": {},
   "source": [
    "These headlines explain this high proximity in October. It is because of Tesla recalling thousands of vehicles in China"
   ]
  }
 ],
 "metadata": {
  "kernelspec": {
   "display_name": "Python 3 (ipykernel)",
   "language": "python",
   "name": "python3"
  },
  "language_info": {
   "codemirror_mode": {
    "name": "ipython",
    "version": 3
   },
   "file_extension": ".py",
   "mimetype": "text/x-python",
   "name": "python",
   "nbconvert_exporter": "python",
   "pygments_lexer": "ipython3",
   "version": "3.9.0"
  }
 },
 "nbformat": 4,
 "nbformat_minor": 4
}
