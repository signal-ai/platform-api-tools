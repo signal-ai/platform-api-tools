{
 "cells": [
  {
   "cell_type": "markdown",
   "metadata": {},
   "source": [
    "# Getting Started with the Signal API using Python"
   ]
  },
  {
   "cell_type": "markdown",
   "metadata": {},
   "source": [
    "Note: run `pip install -r requirements.txt` to install the dependencies for this notebook"
   ]
  },
  {
   "cell_type": "code",
   "execution_count": null,
   "metadata": {
    "tags": []
   },
   "outputs": [],
   "source": [
    "!pip install -r requirements.txt"
   ]
  },
  {
   "cell_type": "code",
   "execution_count": 2,
   "metadata": {},
   "outputs": [],
   "source": [
    "import backoff\n",
    "import requests\n",
    "import json\n",
    "import os\n",
    "import pandas as pd\n",
    "import matplotlib\n",
    "import math\n",
    "from tqdm import tqdm"
   ]
  },
  {
   "cell_type": "markdown",
   "metadata": {},
   "source": [
    "# Introduction\n",
    "\n",
    "Welcome to the Signal API data science tutorial. \n",
    "In this notebook we will explore how to interact with the Signal API using Python.\n",
    "\n",
    "This Getting Started guide is designed to complement the full documentation for the API which can be found at:\n",
    "\n",
    "https://api.signal-ai.com/docs\n",
    "\n",
    "\n",
    "## What can I do with the Signal API?\n",
    "\n",
    "The Signal API provides a new and interesting way to search and explore news stories by examining which entities and topics appear in which stories, and when.\n",
    "\n",
    "### Entities\n",
    "A set of people, organisations, locations, substances, diseases and products identified by the Signal system. \n",
    "Mentions of entities are tracked along with their saliency (prominence) and sentiment (positive, neutral or negative).\n",
    "\n",
    "### Topics\n",
    "Over 300 topics (or themes), from Health to Blockchain, relevant to businesses.\n",
    "\n",
    "### Documents\n",
    "Documents are news stories with associated metadata such as publication date, url (if available), language, media type, publication source and title. \n",
    "Each document is supplied with a list of entities and topics.\n",
    "The full text for each news story is not currently available through the API.\n",
    "\n",
    "### Queries\n",
    "\n",
    "The following are examples of questions one could answer using the Signal API:\n",
    "\n",
    "> How many documents mentioned a company in relation to the Environment this year?\n",
    "\n",
    "> Do mentions of a company have more positive or negative sentiment when a particular individual or location is also mentioned? How has this evolved over time? Does this depend on the publication source?\n",
    "\n",
    "> Which topics, locations, organisations are most frequently mentioned alongside a particular individual?\n",
    "\n",
    "> How many documents mention entity A but not entity B\n",
    "\n",
    "During this tutorial we'll gradually build up the knowledge to answer these questions.\n",
    "\n",
    "\n",
    "## Outline\n",
    "\n",
    "Firstly we will explore some basic usage of the API such as authentication and the pagination system.\n",
    "Then we'll explore the different topics and entities available before building some search queries.\n",
    "\n",
    "We'll be using the popular requests library to communicate with the API and pandas to manipulate and visualise the data but prior experience with these libraries is not required."
   ]
  },
  {
   "cell_type": "markdown",
   "metadata": {},
   "source": [
    "Before we start lets make sure this machine can contact the Signal API using the requests library."
   ]
  },
  {
   "cell_type": "code",
   "execution_count": 3,
   "metadata": {},
   "outputs": [
    {
     "name": "stdout",
     "output_type": "stream",
     "text": [
      "Successfully sent a request to the Signal API\n"
     ]
    }
   ],
   "source": [
    "response = requests.get(\"https://api.signal-ai.com\")\n",
    "if response.ok:\n",
    "    print('Successfully sent a request to the Signal API')\n",
    "else:\n",
    "    print('Error: Cannot communicate with the signal API')"
   ]
  },
  {
   "cell_type": "markdown",
   "metadata": {},
   "source": [
    "# Authentication"
   ]
  },
  {
   "cell_type": "markdown",
   "metadata": {},
   "source": [
    "You will need a `client_id` and `client_secret` to gain access to the API.\n",
    "The code below will assume they have been set and the environment variables `SIGNAL_API_CLIENT_ID` and `SIGNAL_API_CLIENT_SECRET` respectively.\n",
    "\n",
    "Using your credentials you can request a temporary access token from the API using the url:\n",
    "\n",
    "`https://api.signal-ai.com/auth/token`\n",
    "\n",
    "Since we will be using this token a lot lets create a small class to authenticate against the signal API using the requests library.\n",
    "\n",
    "We'll also add a method called `request` that can be used to send queries to the API with the new temporary access token. Keep in mind this token is only valid for 24 hours and you may need to call `authenticate` to request a new token from time to time."
   ]
  },
  {
   "cell_type": "code",
   "execution_count": 5,
   "metadata": {},
   "outputs": [],
   "source": [
    "def authenticate(client_id, client_secret, url = \"https://api.signal-ai.com\"):\n",
    "    \"\"\" obtain a temporary access token using user credentials \"\"\"\n",
    "    token_url = f'{url}/auth/token'\n",
    "    payload = {\n",
    "        \"grant_type\": \"client_credentials\",\n",
    "        \"client_id\": client_id,\n",
    "        \"client_secret\": client_secret\n",
    "    }\n",
    "    response = requests.post(token_url, data=payload)\n",
    "    return response.json().get(\"access_token\")"
   ]
  },
  {
   "cell_type": "markdown",
   "metadata": {},
   "source": [
    "Once authenticated the token will last for 24 hours."
   ]
  },
  {
   "cell_type": "code",
   "execution_count": 11,
   "metadata": {},
   "outputs": [
    {
     "name": "stdout",
     "output_type": "stream",
     "text": [
      "Congratulations! You have an access token, it will last for 24 hours before you will need to reauthenticate by repeating this step\n"
     ]
    }
   ],
   "source": [
    "TEMP_ACCESS_TOKEN = authenticate(os.environ['SIGNAL_API_CLIENT_ID'], os.environ['SIGNAL_API_CLIENT_SECRET'])\n",
    "if TEMP_ACCESS_TOKEN:\n",
    "    print('Congratulations! You have an access token, it will last for 24 hours before you will need to reauthenticate by repeating this step')\n",
    "else:\n",
    "    print('Error: Perhaps the credentials are incorrect?')"
   ]
  },
  {
   "cell_type": "markdown",
   "metadata": {},
   "source": [
    "## Making a Simple Request\n",
    "\n",
    "Here's an example request showing how to use the access token.\n",
    "The results will always come back as JSON.\n",
    "We'll explore the specific endpoints and parameters in more detail later.\n",
    "Notice the `next-cursor` key in the results.\n",
    "By default ten results are returned in each response, to get the next 10 we need to paginate."
   ]
  },
  {
   "cell_type": "code",
   "execution_count": 12,
   "metadata": {},
   "outputs": [
    {
     "data": {
      "text/plain": [
       "{'entities': [{'id': '90807375-17f6-33e8-bb92-ec9f01edd002',\n",
       "   'type': 'organisation',\n",
       "   'name': 'Environment Agency'},\n",
       "  {'id': '1faef841-f0f3-3c19-b2ec-a3636a53c193',\n",
       "   'type': 'organisation',\n",
       "   'name': 'Environment America'},\n",
       "  {'id': 'd5cdbaf4-7c60-35cc-bc54-a2105d934d8d',\n",
       "   'type': 'organisation',\n",
       "   'name': 'FCC Environment'},\n",
       "  {'id': '2effe979-2394-4d36-935f-69472137c552',\n",
       "   'type': 'organisation',\n",
       "   'name': 'Delta Energy & Environment'},\n",
       "  {'id': 'fda464ae-d49a-3b85-8036-fdad290aeff5',\n",
       "   'type': 'organisation',\n",
       "   'name': 'European Environment Agency'},\n",
       "  {'id': 'b720bdd9-f30f-3c6d-b676-24fbb12e5ec7',\n",
       "   'type': 'organisation',\n",
       "   'name': 'Global Environment Facility'},\n",
       "  {'id': '0223d7fb-3619-364c-91dd-cec95b0942cb',\n",
       "   'type': 'organisation',\n",
       "   'name': 'National Environment Agency'},\n",
       "  {'id': '9c3e01a0-b102-408e-8e03-4b81ce3f3992',\n",
       "   'type': 'organisation',\n",
       "   'name': 'Veolia Environment UK'},\n",
       "  {'id': '12567466-95e6-3f25-a082-87f195ec0f40',\n",
       "   'type': 'organisation',\n",
       "   'name': 'Environment Protection Authority (Victoria)'},\n",
       "  {'id': 'b532dce8-b348-49fc-a84c-22cdc7c0bb90',\n",
       "   'type': 'organisation',\n",
       "   'name': 'Marine Environment Protection Committee'}],\n",
       " 'next-cursor': 'WzIxLjc1MjcxNiwiTWFyaW5lX0Vudmlyb25tZW50X1Byb3RlY3Rpb25fQ29tbWl0dGVlIl0='}"
      ]
     },
     "execution_count": 12,
     "metadata": {},
     "output_type": "execute_result"
    }
   ],
   "source": [
    "response = requests.get(\n",
    "    # call the entities endpoint\n",
    "    'https://api.signal-ai.com/entities',\n",
    "    params={\n",
    "        # Look for entities containing the token 'Environment'\n",
    "        'name':'Environment',\n",
    "        # Limit the search to organisations\n",
    "        'type':'organisation'\n",
    "    },\n",
    "    # include the access token in the header\n",
    "    headers={\n",
    "        \"Authorization\": f'Bearer {TEMP_ACCESS_TOKEN}',\n",
    "        \"Content-Type\": \"application/json\",\n",
    "    }\n",
    ")\n",
    "\n",
    "response.json()"
   ]
  },
  {
   "cell_type": "markdown",
   "metadata": {},
   "source": [
    "# Rate Limiting and Retries\n",
    "\n",
    "Sometimes if the usage limits of the API are exceeded or if there is a short connection issue you may need to repeat a failed request.\n",
    "The backoff library is a really easy way to do this.\n",
    "It's a good idea to use backoff if you are making a lot or requests in a script or function, otherwise a single error might cause it to terminate.\n",
    "Let's use backoff and put together everything so far in a simple function"
   ]
  },
  {
   "cell_type": "code",
   "execution_count": 13,
   "metadata": {},
   "outputs": [
    {
     "data": {
      "text/plain": [
       "{'entities': [{'id': '90807375-17f6-33e8-bb92-ec9f01edd002',\n",
       "   'type': 'organisation',\n",
       "   'name': 'Environment Agency'},\n",
       "  {'id': '1faef841-f0f3-3c19-b2ec-a3636a53c193',\n",
       "   'type': 'organisation',\n",
       "   'name': 'Environment America'},\n",
       "  {'id': 'd5cdbaf4-7c60-35cc-bc54-a2105d934d8d',\n",
       "   'type': 'organisation',\n",
       "   'name': 'FCC Environment'},\n",
       "  {'id': '2effe979-2394-4d36-935f-69472137c552',\n",
       "   'type': 'organisation',\n",
       "   'name': 'Delta Energy & Environment'},\n",
       "  {'id': 'fda464ae-d49a-3b85-8036-fdad290aeff5',\n",
       "   'type': 'organisation',\n",
       "   'name': 'European Environment Agency'},\n",
       "  {'id': 'b720bdd9-f30f-3c6d-b676-24fbb12e5ec7',\n",
       "   'type': 'organisation',\n",
       "   'name': 'Global Environment Facility'},\n",
       "  {'id': '0223d7fb-3619-364c-91dd-cec95b0942cb',\n",
       "   'type': 'organisation',\n",
       "   'name': 'National Environment Agency'},\n",
       "  {'id': '9c3e01a0-b102-408e-8e03-4b81ce3f3992',\n",
       "   'type': 'organisation',\n",
       "   'name': 'Veolia Environment UK'},\n",
       "  {'id': '12567466-95e6-3f25-a082-87f195ec0f40',\n",
       "   'type': 'organisation',\n",
       "   'name': 'Environment Protection Authority (Victoria)'},\n",
       "  {'id': 'b532dce8-b348-49fc-a84c-22cdc7c0bb90',\n",
       "   'type': 'organisation',\n",
       "   'name': 'Marine Environment Protection Committee'}],\n",
       " 'next-cursor': 'WzIxLjc1MjcxNiwiTWFyaW5lX0Vudmlyb25tZW50X1Byb3RlY3Rpb25fQ29tbWl0dGVlIl0='}"
      ]
     },
     "execution_count": 13,
     "metadata": {},
     "output_type": "execute_result"
    }
   ],
   "source": [
    "# retry requests with an exponentially increasing wait time upto 10 times\n",
    "@backoff.on_exception(backoff.expo, requests.exceptions.RequestException, max_value=10)\n",
    "def request(method, endpoint, params=None, json=None):\n",
    "    \"\"\" Make get requests using a tempory access token \"\"\"\n",
    "    response = requests.request(\n",
    "        method,\n",
    "        f'https://api.signal-ai.com/{endpoint}',\n",
    "        params=params,\n",
    "        json=json,\n",
    "        headers={\n",
    "            \"Authorization\": f'Bearer {TEMP_ACCESS_TOKEN}',\n",
    "            \"Content-Type\": \"application/json\",\n",
    "        },\n",
    "    )\n",
    "    \n",
    "    # Check the latest response was valid, if not raise an exception\n",
    "    # and retry using backoff\n",
    "    response.raise_for_status()\n",
    "    return response\n",
    "\n",
    "\n",
    "request('GET', 'entities', {'name': 'Environment'}).json()"
   ]
  },
  {
   "cell_type": "markdown",
   "metadata": {},
   "source": [
    "# Pagination\n",
    "\n",
    "In the previous example the response contained a `next-cursor` key. \n",
    "By default, responses contain 10 items and the `next-cursor` allows us to get the next page of 10 items.\n",
    "If there is no `next-cursor` key then there are no more items remaining.\n",
    "To get the next page, use the token provided by `next-cursor` in your next request as the `from-cursor`\n",
    "\n",
    "\n",
    "Example:"
   ]
  },
  {
   "cell_type": "code",
   "execution_count": 14,
   "metadata": {},
   "outputs": [
    {
     "data": {
      "text/plain": [
       "{'entities': [{'id': '2bc185aa-55a2-3e41-bfc3-0111f5fab9ef',\n",
       "   'type': 'organisation',\n",
       "   'name': 'Natural Environment Research Council'},\n",
       "  {'id': '22d74a22-2037-3638-9cd6-a209937ddce0',\n",
       "   'type': 'organisation',\n",
       "   'name': 'Scottish Environment Protection Agency'},\n",
       "  {'id': 'f293ed81-8409-45f3-9ccf-e001d91d7eba',\n",
       "   'type': 'organisation',\n",
       "   'name': 'United Nations Environment Programme'},\n",
       "  {'id': '7bcf2193-66c2-3103-b401-8b7a1195e457',\n",
       "   'type': 'organisation',\n",
       "   'name': 'National Environment & Planning Agency (NEPA)'},\n",
       "  {'id': 'dab8c776-cee6-34ef-a128-fa403819e079',\n",
       "   'type': 'organisation',\n",
       "   'name': 'Nicholas School of the Environment'},\n",
       "  {'id': '748a0af9-8d42-3ce3-975f-d82be60b6475',\n",
       "   'type': 'organisation',\n",
       "   'name': 'Minister of Environment, Forestry and Fisheries'},\n",
       "  {'id': '44bba16a-15b1-3249-a209-3ec52a7538cc',\n",
       "   'type': 'organisation',\n",
       "   'name': 'Department for Environment, Food and Rural Affairs'},\n",
       "  {'id': '92996fa4-a09a-333e-b6c5-f352ce8b7736',\n",
       "   'type': 'organisation',\n",
       "   'name': 'Department of Environment and Natural Resources (Philippines)'},\n",
       "  {'id': 'bc03d9d7-6a4c-4b24-8132-b355ceafe2f2',\n",
       "   'type': 'organisation',\n",
       "   'name': 'The Department for Environment, Food and Rural Affairs'},\n",
       "  {'id': 'afd82e33-85e5-3847-938d-dc61bb0fb364',\n",
       "   'type': 'organisation',\n",
       "   'name': 'Teraco Data Environments'}],\n",
       " 'next-cursor': 'WzExLjY4MzQ5MywiVGVyYWNvX0RhdGFfRW52aXJvbm1lbnRzIl0='}"
      ]
     },
     "execution_count": 14,
     "metadata": {},
     "output_type": "execute_result"
    }
   ],
   "source": [
    "# Pagination Example:\n",
    "\n",
    "page_0 = request('GET', 'entities', {'name': 'Environment'})\n",
    "\n",
    "page_1 = requests.get(\n",
    "    # call the entities endpoint\n",
    "    'https://api.signal-ai.com/entities',\n",
    "    params={\n",
    "        # Look for entities containing the token 'Environment'\n",
    "        'name':'Environment',\n",
    "        # Limit the search to organisations\n",
    "        'type':'organisation',\n",
    "        # 'from-cursor' is found under the'next-cursor' key in the previous response\n",
    "        'from-cursor': page_0.json().get('next-cursor')\n",
    "        \n",
    "    },\n",
    "    # include the access token in the header\n",
    "    headers={\n",
    "        \"Authorization\": f'Bearer {TEMP_ACCESS_TOKEN}',\n",
    "        \"Content-Type\": \"application/json\",\n",
    "    }\n",
    ")\n",
    "\n",
    "page_1.json()"
   ]
  },
  {
   "cell_type": "markdown",
   "metadata": {},
   "source": [
    "Because we will frequently need to iterate over pages returned from the API, let's create a class called Paginate to manage this for us. "
   ]
  },
  {
   "cell_type": "code",
   "execution_count": 15,
   "metadata": {},
   "outputs": [],
   "source": [
    "from urllib.parse import urlparse, parse_qs\n",
    "\n",
    "def response_to_url(response) -> str:\n",
    "    \"\"\" get the url from a response \"\"\"\n",
    "    obj = urlparse(response.request.url)\n",
    "    return f\"{obj.scheme}://{obj.netloc}{obj.path}\"\n",
    "\n",
    "def response_to_params(response) -> dict:\n",
    "    \"\"\" get the params from a response \"\"\"\n",
    "    obj = urlparse(response.request.url)\n",
    "    return parse_qs(obj.query)\n",
    "\n",
    "def response_to_body(response) -> dict:\n",
    "    body = response.request.body\n",
    "    return json.loads(body.decode()) if body is not None else {}\n",
    "\n",
    "\n",
    "class Paginate:\n",
    "    \"\"\" \n",
    "    A class to iterate over API requestes\n",
    "    \"\"\"\n",
    "    \n",
    "    def __init__(self, response):\n",
    "        self.response = response\n",
    "\n",
    "    def __iter__(self):\n",
    "        return self\n",
    "    \n",
    "    def _get(self, response):\n",
    "        \"\"\" get the next get request from the previous one \"\"\"\n",
    "        nxt = response.json().get('next-cursor', None)\n",
    "        # the absence of next-cursor signifies we have reached the final page\n",
    "        if not nxt:\n",
    "            return None\n",
    "        params = response_to_params(response)\n",
    "        params['from-cursor'] = nxt\n",
    "        return requests.request(\n",
    "                'GET',\n",
    "                response_to_url(response),\n",
    "                headers=response.request.headers,\n",
    "                params=params,\n",
    "        )\n",
    "    \n",
    "    def _post(self, response):\n",
    "        nxt = response.json().get('next-cursor', None)\n",
    "        if not nxt:\n",
    "            return None\n",
    "        body = response_to_body(response)\n",
    "        body['from-cursor'] = nxt\n",
    "        return requests.request(\n",
    "                'POST',\n",
    "                response_to_url(response),\n",
    "                headers=response.request.headers,\n",
    "                json=body,\n",
    "        )\n",
    "        \n",
    "    # retry requests with an exponentially increasing wait time upto 10 times\n",
    "    @backoff.on_exception(backoff.expo, requests.exceptions.RequestException, max_value=10)\n",
    "    def __next__(self):\n",
    "        \"\"\" get the next response from the previous one \"\"\"\n",
    "        response = self.response\n",
    "\n",
    "        # Check if we have reached the final page\n",
    "        if not response:\n",
    "            raise StopIteration()\n",
    "            \n",
    "        # Check the latest response was valid\n",
    "        response.raise_for_status()\n",
    "        \n",
    "        method = response.request.method\n",
    "        if method == 'GET':\n",
    "            self.response = self._get(response)\n",
    "        elif method == 'POST':\n",
    "            self.response = self._post(response)\n",
    "        else:\n",
    "            raise ValueError(f'{method} method not supported')\n",
    "\n",
    "        return response\n"
   ]
  },
  {
   "cell_type": "markdown",
   "metadata": {},
   "source": [
    "Now we can easily loop over pages in a pythonic way. \n",
    "Below we get all the the results for our search by iterating over all the pages."
   ]
  },
  {
   "cell_type": "code",
   "execution_count": 16,
   "metadata": {},
   "outputs": [
    {
     "name": "stdout",
     "output_type": "stream",
     "text": [
      "34 results found\n"
     ]
    }
   ],
   "source": [
    "results = []\n",
    "response = request('GET', 'entities', {'name': 'Environment'})\n",
    "for page in Paginate(response):\n",
    "    results.extend(page.json()['entities'])\n",
    "print(f'{len(results)} results found')"
   ]
  },
  {
   "cell_type": "markdown",
   "metadata": {},
   "source": [
    "# The Discovery Endpoints\n",
    "\n",
    "We now have all we need to explore all of the API endpoints in detail.\n",
    "We'll start with the discovery endpoints since they are the simplest, and illustrate their usage using code.\n",
    "Use these endpoints to discover which entities and topics are in the system,\n",
    "we will use the ids returned later in our subsequent searches. "
   ]
  },
  {
   "cell_type": "code",
   "execution_count": 17,
   "metadata": {},
   "outputs": [],
   "source": [
    "\"\"\"\n",
    "Entities are named people, organisations, locations, substances, diseases and products\n",
    "which all have a unique identifier within the Signal API.\n",
    "\"\"\"\n",
    "\n",
    "def get_entity(uuid):\n",
    "    \"\"\" Get a specific entity by its unique identifier \"\"\"\n",
    "    return request('GET', f'entities/{uuid}').json().get('entity')\n",
    "\n",
    "def search_entities(name: str = None, typ: str = None, size: int = None):\n",
    "    \"\"\"\n",
    "    Search for entities using any combination of name and type\n",
    "\n",
    "    name: Any entity whose name contains this search term will match\n",
    "    type: Enum: \"person\" \"organisation\" \"location\" \"substance\" \"disease\" \"product\"\n",
    "    size: number of entities per response (affects page size, not search results)\n",
    "    \"\"\"\n",
    "    response = request('GET', 'entities', {'name': name, 'type': typ, 'size': size})\n",
    "    results = []\n",
    "    for page in Paginate(response):\n",
    "        results.extend(page.json().get('entities'))\n",
    "    return results"
   ]
  },
  {
   "cell_type": "markdown",
   "metadata": {},
   "source": [
    "We can search for entities with any combination of `name` and `type` fields."
   ]
  },
  {
   "cell_type": "code",
   "execution_count": 18,
   "metadata": {},
   "outputs": [
    {
     "data": {
      "text/plain": [
       "[{'id': '5bdecdce-04dd-3ceb-ba8f-1b472a83d526',\n",
       "  'type': 'organisation',\n",
       "  'name': 'Butterfly Conservation'},\n",
       " {'id': '68b27557-7502-30a6-8dcf-526489e3056f',\n",
       "  'type': 'organisation',\n",
       "  'name': 'Conservation International'},\n",
       " {'id': '1e599e39-0ce4-3807-af6e-3b8a2ef228b2',\n",
       "  'type': 'organisation',\n",
       "  'name': 'Australian Conservation Foundation'},\n",
       " {'id': '6a29ecbc-a8e8-3a73-b172-5efe4901b8e4',\n",
       "  'type': 'organisation',\n",
       "  'name': 'Marine Conservation Society'},\n",
       " {'id': '38415152-9bc6-42ae-9c5d-52ab47f6ddba',\n",
       "  'type': 'organisation',\n",
       "  'name': 'Rare (conservation organization)'}]"
      ]
     },
     "execution_count": 18,
     "metadata": {},
     "output_type": "execute_result"
    }
   ],
   "source": [
    "search_entities(name=\"Conservation\", typ=\"organisation\")[:5]"
   ]
  },
  {
   "cell_type": "code",
   "execution_count": 19,
   "metadata": {},
   "outputs": [
    {
     "data": {
      "text/plain": [
       "{'id': '6a29ecbc-a8e8-3a73-b172-5efe4901b8e4',\n",
       " 'type': 'organisation',\n",
       " 'name': 'Marine Conservation Society'}"
      ]
     },
     "execution_count": 19,
     "metadata": {},
     "output_type": "execute_result"
    }
   ],
   "source": [
    "# get a specific entity by id\n",
    "get_entity('6a29ecbc-a8e8-3a73-b172-5efe4901b8e4')"
   ]
  },
  {
   "cell_type": "markdown",
   "metadata": {},
   "source": [
    "Topics and Sources have very similar interfaces"
   ]
  },
  {
   "cell_type": "code",
   "execution_count": 20,
   "metadata": {},
   "outputs": [],
   "source": [
    "\"\"\" \n",
    "Signal experts have trained over 300 topics (or themes), \n",
    "from Health to Blockchain to provide clients an easy way \n",
    "to track emerging trends relevant to their businesses. \"\"\"\n",
    "\n",
    "def get_topic(uuid):\n",
    "    \"\"\" Get a topic by id \"\"\"\n",
    "    return request('GET', f'topics/{uuid}').json().get('topic')\n",
    "\n",
    "def search_topics(name: str = None, size=10, private=False):\n",
    "    \"\"\"\n",
    "    Search A.I. trained topics by name\n",
    "\n",
    "    name: Any topic whose name contains this search term will match\n",
    "    size: number of entities per request (effects performance, not search results)\n",
    "    private: Only return topics which are private to your organisation\n",
    "    \"\"\"\n",
    "    response = request('GET', 'topics', {'name': name, 'size': size, 'private': str(private).lower()})\n",
    "    results = []\n",
    "    for page in Paginate(response):\n",
    "        results.extend(page.json().get('topics'))\n",
    "    return results"
   ]
  },
  {
   "cell_type": "code",
   "execution_count": 21,
   "metadata": {},
   "outputs": [
    {
     "data": {
      "text/plain": [
       "[{'id': '5fc92ab4-5f28-4daa-844a-ebd73d9a7b5c', 'name': 'Energy'},\n",
       " {'id': '5133baea-2428-4d63-b2a3-e93b106ea6ed', 'name': 'Renewable Energy'}]"
      ]
     },
     "execution_count": 21,
     "metadata": {},
     "output_type": "execute_result"
    }
   ],
   "source": [
    "search_topics(name='Energy')"
   ]
  },
  {
   "cell_type": "code",
   "execution_count": 22,
   "metadata": {},
   "outputs": [],
   "source": [
    "def get_sources(uuid):\n",
    "    \"\"\" Get a publication source by id \"\"\"\n",
    "    return self.request('GET', f'sources/{uuid}').json().get('source')\n",
    "\n",
    "def search_sources(\n",
    "    name: str = None, size: int = None, country: str = None,\n",
    "    region: str = None, subregion: str = None\n",
    "):\n",
    "    \"\"\"\n",
    "    Search publication sources\n",
    "\n",
    "    name: Any publication whose name contains this search term will match\n",
    "    size: number of entities per request (effects performance, not search results)\n",
    "    country: Country name\n",
    "    region: Region name\n",
    "    subregion: Subregion name\n",
    "    \"\"\"\n",
    "    response = request(\n",
    "        'GET',\n",
    "        'sources',\n",
    "        {\n",
    "            'name': name, 'size': size, 'country': country,\n",
    "            'region': region, 'subregion': subregion\n",
    "        }\n",
    "    )\n",
    "    results = []\n",
    "    for page in Paginate(response):\n",
    "        results.extend(page.json().get('sources'))\n",
    "    return results"
   ]
  },
  {
   "cell_type": "code",
   "execution_count": 23,
   "metadata": {},
   "outputs": [
    {
     "data": {
      "text/plain": [
       "[{'id': '670b2548-9e2f-4574-8662-45277a24e933',\n",
       "  'name': 'The Lancaster Guardian',\n",
       "  'country': 'United Kingdom',\n",
       "  'subregion': 'Northern Europe',\n",
       "  'region': 'Europe'},\n",
       " {'id': '48230d60-2a9a-42d7-b8f6-9599ea306da3',\n",
       "  'name': 'Wandsworth Guardian',\n",
       "  'country': 'United Kingdom',\n",
       "  'subregion': 'Northern Europe',\n",
       "  'region': 'Europe'},\n",
       " {'id': 'd93b93b9-301b-4ce2-856e-1e5df669ff28',\n",
       "  'name': 'Wimbledon Guardian',\n",
       "  'country': 'United Kingdom',\n",
       "  'subregion': 'Northern Europe',\n",
       "  'region': 'Europe'},\n",
       " {'id': '7508b207-8589-419d-8157-7f61969fd9f5',\n",
       "  'name': 'Crewe & Nantwich Guardian',\n",
       "  'country': 'United Kingdom',\n",
       "  'subregion': 'Northern Europe',\n",
       "  'region': 'Europe'},\n",
       " {'id': 'df2138c7-adac-44f7-b10e-056c4d2745d5',\n",
       "  'name': 'East London & West Essex Guardian',\n",
       "  'country': 'United Kingdom',\n",
       "  'subregion': 'Northern Europe',\n",
       "  'region': 'Europe'}]"
      ]
     },
     "execution_count": 23,
     "metadata": {},
     "output_type": "execute_result"
    }
   ],
   "source": [
    "search_sources(name='Guardian', country='United Kingdom')[:5]"
   ]
  },
  {
   "cell_type": "markdown",
   "metadata": {},
   "source": [
    "# Search Endpoint\n",
    "\n",
    "The search endpoint allows the user to search for documents.\n",
    "Each document is tagged with metadata such as date of publication, language and all of the topics, sources and entities mentioned in the document.\n",
    "In addition the sentiment, saliency and sentiment of each mention is available.\n",
    "This makes the search endpoint a good way to explore when different tags are mentioned as well as how they occur with other topics and entities.\n",
    "\n",
    "The search endpoint is very powerful and offers a lot of freedom.\n",
    "To see all the possibilities it's best to look at the API docs.\n",
    "Here we will explore some examples to get a flavour for what is possible.\n",
    "The query needs to be provided as a JSON object and represents a filter for which documents are relevant.\n",
    "Keep in mind that very broad queries might take a long time to return all the results.\n",
    "\n",
    "Make sure you look at the documentation if you want to take full advantage of this endpoint:\n",
    "\n",
    "https://api.signal-ai.com/docs#tag/Content-search"
   ]
  },
  {
   "cell_type": "code",
   "execution_count": 24,
   "metadata": {},
   "outputs": [],
   "source": [
    "def search_documents(query):\n",
    "    documents = []\n",
    "    response = request('POST', 'search', json=query)\n",
    "    n_pages = response.json().get('stats').get('total')\n",
    "    n_pages /= len(response.json().get('documents'))\n",
    "    # Use a progress bar, big queries may take some time\n",
    "    for page in tqdm(Paginate(response), total=math.ceil(n_pages)):\n",
    "        documents.extend(page.json()['documents'])\n",
    "    return documents"
   ]
  },
  {
   "cell_type": "markdown",
   "metadata": {},
   "source": [
    "Let's look at an example query and the results\n",
    "\n",
    "## Example 1: Searching for stories about the environment"
   ]
  },
  {
   "cell_type": "code",
   "execution_count": 25,
   "metadata": {},
   "outputs": [
    {
     "data": {
      "text/plain": [
       "[{'id': '7a162a73-0062-4772-9dc0-252dd862dad0', 'name': 'Environment'},\n",
       " {'id': '22297881-a936-4b51-a880-a7152c8ecc68',\n",
       "  'name': 'Environmental Cleanup'},\n",
       " {'id': 'bafccc52-d30a-4549-9698-2fe29b42b79f',\n",
       "  'name': 'Environmental Natural Disasters'},\n",
       " {'id': 'dabf9b2d-7dd0-4a7d-96da-d607314594b3',\n",
       "  'name': 'Health, Safety, and Environment'}]"
      ]
     },
     "execution_count": 25,
     "metadata": {},
     "output_type": "execute_result"
    }
   ],
   "source": [
    "search_topics(name='environment')"
   ]
  },
  {
   "cell_type": "code",
   "execution_count": 26,
   "metadata": {},
   "outputs": [
    {
     "name": "stderr",
     "output_type": "stream",
     "text": [
      "100%|██████████| 4/4 [00:07<00:00,  1.95s/it]"
     ]
    },
    {
     "name": "stdout",
     "output_type": "stream",
     "text": [
      "1660 documents found\n"
     ]
    },
    {
     "name": "stderr",
     "output_type": "stream",
     "text": [
      "\n"
     ]
    }
   ],
   "source": [
    "query = {\n",
    "    'where': {\n",
    "        # documents from 1st-5th Oct 2019 tagged with the environment topic\n",
    "        \"published-at\": {\"gte\": \"2019-10-01\", \"lt\": \"2019-10-05\"},\n",
    "        'topics': {\n",
    "            'id': {\n",
    "                # id for the environment topic found using the dicovery endpoints\n",
    "                'eq': '7a162a73-0062-4772-9dc0-252dd862dad0'\n",
    "            },\n",
    "        },\n",
    "    },\n",
    "    'size': 500\n",
    "}\n",
    "documents = search_documents(query)\n",
    "print(f'{len(documents)} documents found')"
   ]
  },
  {
   "cell_type": "markdown",
   "metadata": {},
   "source": [
    "## Example 2: Search for stories about Greenpeace"
   ]
  },
  {
   "cell_type": "code",
   "execution_count": 27,
   "metadata": {},
   "outputs": [
    {
     "data": {
      "text/plain": [
       "[{'id': 'f09d0747-d36d-400e-8aca-a1b5d51c65f7',\n",
       "  'type': 'organisation',\n",
       "  'name': 'Greenpeace'}]"
      ]
     },
     "execution_count": 27,
     "metadata": {},
     "output_type": "execute_result"
    }
   ],
   "source": [
    "search_entities(name='Greenpeace')"
   ]
  },
  {
   "cell_type": "code",
   "execution_count": 29,
   "metadata": {},
   "outputs": [
    {
     "name": "stderr",
     "output_type": "stream",
     "text": [
      "100%|██████████| 1/1 [00:00<00:00, 304.05it/s]"
     ]
    },
    {
     "name": "stdout",
     "output_type": "stream",
     "text": [
      "33 documents found\n"
     ]
    },
    {
     "name": "stderr",
     "output_type": "stream",
     "text": [
      "\n"
     ]
    }
   ],
   "source": [
    "query = {\n",
    "    'where': {\n",
    "        \"published-at\": {\"gte\": \"2019-10-01\", \"lt\": \"2019-10-05\"},\n",
    "        'topics': {\n",
    "            'id': {\n",
    "                'eq': '7a162a73-0062-4772-9dc0-252dd862dad0'\n",
    "            },\n",
    "        },\n",
    "        'entities': {\n",
    "            'id': {\n",
    "                # id for greenpeace\n",
    "                'eq': 'f09d0747-d36d-400e-8aca-a1b5d51c65f7'\n",
    "            }\n",
    "        }\n",
    "    },\n",
    "    'size': 500\n",
    "}\n",
    "documents = search_documents(query)\n",
    "print(f'{len(documents)} documents found')"
   ]
  },
  {
   "cell_type": "markdown",
   "metadata": {},
   "source": [
    "## Example 3: Sentiment about BP when Greta Thunberg is mentioned"
   ]
  },
  {
   "cell_type": "code",
   "execution_count": 30,
   "metadata": {},
   "outputs": [
    {
     "name": "stderr",
     "output_type": "stream",
     "text": [
      "100%|██████████| 1/1 [00:00<00:00,  7.27it/s]\n"
     ]
    },
    {
     "name": "stdout",
     "output_type": "stream",
     "text": [
      "336 documents found\n"
     ]
    },
    {
     "data": {
      "text/plain": [
       "<AxesSubplot:>"
      ]
     },
     "execution_count": 30,
     "metadata": {},
     "output_type": "execute_result"
    },
    {
     "data": {
      "image/png": "[encoded data removed]",
      "text/plain": [
       "<Figure size 432x288 with 1 Axes>"
      ]
     },
     "metadata": {
      "needs_background": "light"
     },
     "output_type": "display_data"
    }
   ],
   "source": [
    "# documents from 1st Oct 2019 tagged with the environment topic\n",
    "query = {\n",
    "    'where': {\n",
    "        # search over a 1 year period\n",
    "        \"published-at\": {\"gte\": \"2019-10-01\", \"lt\": \"2020-10-01\"},\n",
    "        'topics': {\n",
    "            'id': {\n",
    "                'eq': '7a162a73-0062-4772-9dc0-252dd862dad0'\n",
    "            },\n",
    "        },\n",
    "        # both BP and Greta Thunberg\n",
    "        'entities': {\n",
    "            'id': {\n",
    "                'all': [\n",
    "                    '52e28982-5bd9-40d4-ab8f-7cba471f598c',\n",
    "                    '2bf240bf-bbc2-4416-910a-608a3fdd967d'\n",
    "                ]\n",
    "            }\n",
    "        }\n",
    "    },\n",
    "    'size': 500\n",
    "}\n",
    "documents = search_documents(query)\n",
    "print(f'{len(documents)} documents found')\n",
    "\n",
    "entities_df = pd.DataFrame.from_records([e for d in documents for e in d.get('entities', [])]).set_index('id')\n",
    "entities_df[\n",
    "    # Filter for salient mentions\n",
    "    (entities_df['salience-rank'] <= 2)\n",
    "].loc['52e28982-5bd9-40d4-ab8f-7cba471f598c'].sentiment.hist()"
   ]
  },
  {
   "cell_type": "markdown",
   "metadata": {},
   "source": [
    "## ## Example 4: Sentiment about BP when Mexico is mentioned"
   ]
  },
  {
   "cell_type": "code",
   "execution_count": 23,
   "metadata": {},
   "outputs": [
    {
     "name": "stderr",
     "output_type": "stream",
     "text": [
      "100%|██████████| 1/1 [00:00<00:00,  9.47it/s]"
     ]
    },
    {
     "name": "stdout",
     "output_type": "stream",
     "text": [
      "208 documents found\n"
     ]
    },
    {
     "name": "stderr",
     "output_type": "stream",
     "text": [
      "\n"
     ]
    },
    {
     "data": {
      "text/plain": [
       "<AxesSubplot:>"
      ]
     },
     "execution_count": 23,
     "metadata": {},
     "output_type": "execute_result"
    },
    {
     "data": {
      "image/png": "[encoded data removed]",
      "text/plain": [
       "<Figure size 432x288 with 1 Axes>"
      ]
     },
     "metadata": {
      "needs_background": "light"
     },
     "output_type": "display_data"
    }
   ],
   "source": [
    "search_entities(name='Mexico', typ='location')[:3]\n",
    "\n",
    "query = {\n",
    "    'where': {\n",
    "        # search over a 1 year period\n",
    "        \"published-at\": {\"gte\": \"2019-10-01\", \"lt\": \"2020-10-01\"},\n",
    "        'topics': {\n",
    "            'id': {\n",
    "                'eq': '7a162a73-0062-4772-9dc0-252dd862dad0'\n",
    "            },\n",
    "        },\n",
    "        # both BP and Mexico\n",
    "        'entities': {\n",
    "            'id': {\n",
    "                # to look for either entity use the key 'or'\n",
    "                'all': [\n",
    "                    '52e28982-5bd9-40d4-ab8f-7cba471f598c',\n",
    "                    '995444c6-eae3-400c-9457-0393b51efe0e'\n",
    "                ]\n",
    "            }\n",
    "        }\n",
    "    },\n",
    "    'size': 500\n",
    "}\n",
    "documents = search_documents(query)\n",
    "print(f'{len(documents)} documents found')\n",
    "\n",
    "entities_df = pd.DataFrame.from_records([e for d in documents for e in d.get('entities', [])\n",
    "]).set_index('id')\n",
    "entities_df = pd.DataFrame.from_records([e for d in documents for e in d.get('entities', [])]).set_index('id')\n",
    "entities_df[\n",
    "    # Filter for salient mentions\n",
    "    (entities_df['salience-rank'] <= 2)\n",
    "].loc['52e28982-5bd9-40d4-ab8f-7cba471f598c'].sentiment.hist()"
   ]
  },
  {
   "cell_type": "markdown",
   "metadata": {},
   "source": [
    "# Example 5: People and Organisations mentioned alongside Greta Thunberg "
   ]
  },
  {
   "cell_type": "code",
   "execution_count": 31,
   "metadata": {},
   "outputs": [
    {
     "name": "stderr",
     "output_type": "stream",
     "text": [
      "100%|██████████| 32/32 [02:52<00:00,  5.38s/it]\n"
     ]
    },
    {
     "name": "stdout",
     "output_type": "stream",
     "text": [
      "15832 documents found\n"
     ]
    },
    {
     "data": {
      "text/html": [
       "<div>\n",
       "<style scoped>\n",
       "    .dataframe tbody tr th:only-of-type {\n",
       "        vertical-align: middle;\n",
       "    }\n",
       "\n",
       "    .dataframe tbody tr th {\n",
       "        vertical-align: top;\n",
       "    }\n",
       "\n",
       "    .dataframe thead th {\n",
       "        text-align: right;\n",
       "    }\n",
       "</style>\n",
       "<table border=\"1\" class=\"dataframe\">\n",
       "  <thead>\n",
       "    <tr style=\"text-align: right;\">\n",
       "      <th></th>\n",
       "      <th>id</th>\n",
       "      <th>type</th>\n",
       "      <th>name</th>\n",
       "      <th>sentiment</th>\n",
       "      <th>salient</th>\n",
       "      <th>salience-rank</th>\n",
       "      <th>mentions</th>\n",
       "    </tr>\n",
       "  </thead>\n",
       "  <tbody>\n",
       "    <tr>\n",
       "      <th>0</th>\n",
       "      <td>2bf240bf-bbc2-4416-910a-608a3fdd967d</td>\n",
       "      <td>person</td>\n",
       "      <td>Greta Thunberg</td>\n",
       "      <td>neutral</td>\n",
       "      <td>False</td>\n",
       "      <td>1</td>\n",
       "      <td>[{'position': 'content', 'sentiment': 'neutral...</td>\n",
       "    </tr>\n",
       "    <tr>\n",
       "      <th>1</th>\n",
       "      <td>d80ac708-9000-4207-8754-aed7e9b84f60</td>\n",
       "      <td>location</td>\n",
       "      <td>California</td>\n",
       "      <td>neutral</td>\n",
       "      <td>False</td>\n",
       "      <td>2</td>\n",
       "      <td>[{'position': 'content', 'sentiment': 'neutral...</td>\n",
       "    </tr>\n",
       "    <tr>\n",
       "      <th>2</th>\n",
       "      <td>9576c54e-0d25-4cc2-9a82-bd41eb718528</td>\n",
       "      <td>location</td>\n",
       "      <td>United States</td>\n",
       "      <td>neutral</td>\n",
       "      <td>False</td>\n",
       "      <td>3</td>\n",
       "      <td>[{'position': 'content', 'sentiment': 'neutral'}]</td>\n",
       "    </tr>\n",
       "    <tr>\n",
       "      <th>3</th>\n",
       "      <td>867d9d32-826a-34c2-9449-d53750a4370a</td>\n",
       "      <td>location</td>\n",
       "      <td>United Nations</td>\n",
       "      <td>neutral</td>\n",
       "      <td>False</td>\n",
       "      <td>4</td>\n",
       "      <td>[{'position': 'content', 'sentiment': 'neutral'}]</td>\n",
       "    </tr>\n",
       "    <tr>\n",
       "      <th>4</th>\n",
       "      <td>f39a1f83-5357-4914-a966-790bdf49f4e2</td>\n",
       "      <td>location</td>\n",
       "      <td>Saudi Arabia</td>\n",
       "      <td>neutral</td>\n",
       "      <td>False</td>\n",
       "      <td>5</td>\n",
       "      <td>[{'position': 'content', 'sentiment': 'neutral'}]</td>\n",
       "    </tr>\n",
       "  </tbody>\n",
       "</table>\n",
       "</div>"
      ],
      "text/plain": [
       "                                     id      type            name sentiment  \\\n",
       "0  2bf240bf-bbc2-4416-910a-608a3fdd967d    person  Greta Thunberg   neutral   \n",
       "1  d80ac708-9000-4207-8754-aed7e9b84f60  location      California   neutral   \n",
       "2  9576c54e-0d25-4cc2-9a82-bd41eb718528  location   United States   neutral   \n",
       "3  867d9d32-826a-34c2-9449-d53750a4370a  location  United Nations   neutral   \n",
       "4  f39a1f83-5357-4914-a966-790bdf49f4e2  location    Saudi Arabia   neutral   \n",
       "\n",
       "   salient  salience-rank                                           mentions  \n",
       "0    False              1  [{'position': 'content', 'sentiment': 'neutral...  \n",
       "1    False              2  [{'position': 'content', 'sentiment': 'neutral...  \n",
       "2    False              3  [{'position': 'content', 'sentiment': 'neutral'}]  \n",
       "3    False              4  [{'position': 'content', 'sentiment': 'neutral'}]  \n",
       "4    False              5  [{'position': 'content', 'sentiment': 'neutral'}]  "
      ]
     },
     "execution_count": 31,
     "metadata": {},
     "output_type": "execute_result"
    }
   ],
   "source": [
    "query = {\n",
    "    'where': {\n",
    "        \"published-at\": {\"gte\": \"2019-10-01\", \"lt\": \"2020-10-01\"},\n",
    "        'topics': {\n",
    "            'id': {\n",
    "                'eq': '7a162a73-0062-4772-9dc0-252dd862dad0'\n",
    "            },\n",
    "        },\n",
    "        'entities': {\n",
    "            'id': {\n",
    "                'eq': '2bf240bf-bbc2-4416-910a-608a3fdd967d'\n",
    "            }\n",
    "        }\n",
    "    },\n",
    "    'size': 500\n",
    "}\n",
    "documents = search_documents(query)\n",
    "print(f'{len(documents)} documents found')\n",
    "entities_df = pd.DataFrame.from_records([e for d in documents for e in d.get('entities', [])])\n",
    "entities_df.head()"
   ]
  },
  {
   "cell_type": "code",
   "execution_count": 32,
   "metadata": {},
   "outputs": [
    {
     "data": {
      "text/plain": [
       "Greta Thunberg                  15832\n",
       "Donald Trump                     6006\n",
       "George W. Bush                    937\n",
       "Barack Obama                      693\n",
       "Ursula von der Leyen              671\n",
       "Al Gore                           644\n",
       "Pope Francis                      514\n",
       "Jair Bolsonaro                    505\n",
       "Presidency of George W. Bush      492\n",
       "Boris Johnson                     466\n",
       "Scott Morrison (politician)       430\n",
       "Angela Merkel                     416\n",
       "Xi Jinping                        375\n",
       "Michael Bloomberg                 346\n",
       "Presidency of Barack Obama        300\n",
       "Joe Biden                         280\n",
       "Claire Perry                      273\n",
       "Emmanuel Macron                   249\n",
       "Klaus Schwab                      242\n",
       "Nancy Pelosi                      217\n",
       "Name: name, dtype: int64"
      ]
     },
     "execution_count": 32,
     "metadata": {},
     "output_type": "execute_result"
    }
   ],
   "source": [
    "entities_df[entities_df['type'] == 'person']['name'].value_counts().head(20)"
   ]
  },
  {
   "cell_type": "code",
   "execution_count": 33,
   "metadata": {},
   "outputs": [
    {
     "data": {
      "text/plain": [
       "World Economic Forum                         4700\n",
       "European Union                               3764\n",
       "Intergovernmental Panel on Climate Change    1755\n",
       "Twitter                                      1484\n",
       "International Energy Agency                  1044\n",
       "Thomson Reuters                               997\n",
       "European Commission                           968\n",
       "Greenpeace                                    878\n",
       "Agence France-Presse                          844\n",
       "Democratic Party (United States)              744\n",
       "Republican Party (United States)              711\n",
       "Future Movement                               688\n",
       "World Resources Institute                     663\n",
       "International Monetary Fund                   656\n",
       "BlackRock                                     611\n",
       "Bloomberg L.P.                                589\n",
       "World Meteorological Organization             580\n",
       "European Parliament                           570\n",
       "PricewaterhouseCoopers                        533\n",
       "United States Congress                        528\n",
       "Name: name, dtype: int64"
      ]
     },
     "execution_count": 33,
     "metadata": {},
     "output_type": "execute_result"
    }
   ],
   "source": [
    "entities_df[entities_df['type'] == 'organisation']['name'].value_counts().head(20)"
   ]
  }
 ],
 "metadata": {
  "kernelspec": {
   "display_name": "Python 3",
   "language": "python",
   "name": "python3"
  },
  "language_info": {
   "codemirror_mode": {
    "name": "ipython",
    "version": 3
   },
   "file_extension": ".py",
   "mimetype": "text/x-python",
   "name": "python",
   "nbconvert_exporter": "python",
   "pygments_lexer": "ipython3",
   "version": "3.8.2"
  }
 },
 "nbformat": 4,
 "nbformat_minor": 4
}
