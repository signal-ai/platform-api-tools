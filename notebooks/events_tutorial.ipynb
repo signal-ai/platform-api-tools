{
 "cells": [
  {
   "cell_type": "markdown",
   "id": "2184aa48-59f8-4eaf-af17-f7096c994c23",
   "metadata": {},
   "source": [
    "# Events Example"
   ]
  },
  {
   "cell_type": "code",
   "execution_count": 1,
   "id": "c9ea4db0-e7e0-48d9-a6d5-e118109f5aa4",
   "metadata": {},
   "outputs": [],
   "source": [
    "import signal_api.signalAPI as signalAPI\n",
    "import pandas as pd\n",
    "from itertools import groupby, islice\n",
    "import os\n",
    "from tqdm import tqdm\n",
    "from textwrap import wrap\n",
    "\n",
    "pd.set_option('display.max_colwidth', 0)\n",
    "pd.options.display.html.use_mathjax = False"
   ]
  },
  {
   "cell_type": "markdown",
   "id": "5ba60f10-f7bc-403c-8a7b-c943ad834e87",
   "metadata": {},
   "source": [
    "## Connect to the API"
   ]
  },
  {
   "cell_type": "code",
   "execution_count": 2,
   "id": "73c99821-1528-486d-90e0-c78dce022838",
   "metadata": {},
   "outputs": [],
   "source": [
    "client_id = os.environ['SIGNAL_API_ID']\n",
    "client_secret = os.environ['SIGNAL_API_SECRET']\n",
    "signal_api = signalAPI.Connection(client_id=client_id, client_secret=client_secret)"
   ]
  },
  {
   "cell_type": "markdown",
   "id": "c1d3f0be-d7ae-46c8-a131-5e7e889912fa",
   "metadata": {},
   "source": [
    "## Search For Entity And Topic IDs "
   ]
  },
  {
   "cell_type": "code",
   "execution_count": 3,
   "id": "375107ad-9af3-4aa2-b632-44f260c7b3fe",
   "metadata": {},
   "outputs": [
    {
     "data": {
      "text/plain": [
       "[{'id': '1021d2f6-e57a-308c-b232-d6c6f2c2588e',\n",
       "  'type': 'disease',\n",
       "  'name': 'Long COVID'}]"
      ]
     },
     "execution_count": 3,
     "metadata": {},
     "output_type": "execute_result"
    }
   ],
   "source": [
    "list(signal_api.entities({'name': 'Long COVID'}))"
   ]
  },
  {
   "cell_type": "code",
   "execution_count": 4,
   "id": "65749760-4005-416c-9cd9-7827a9ee5a19",
   "metadata": {},
   "outputs": [
    {
     "data": {
      "text/plain": [
       "[{'id': 'ec838d2b-49db-457a-b42f-2889fb86b2eb',\n",
       "  'name': 'Healthcare',\n",
       "  'description': 'The topic \"healthcare\" includes all coverage related to the healthcare industry. Keywords include Healthcare, treatment of disease, preventive healthcare, healthcare issues, health insurance, health benefits & coverage, health reforms, publicly funded national healthcare system,  healthcare crisis, mental health care, healthcare quality improvement, healthcare cost containment, healthcare right or privilege, healthcare patient safety, healthcare Infection control practices, pervasive healthcare, health care challenges, healthcare cost, healthcare-associated infections.',\n",
       "  'private': False},\n",
       " {'id': '0d6c8ffc-d2fd-47bc-b304-fff55e76cd19',\n",
       "  'name': 'Healthcare Crisis',\n",
       "  'description': 'A health crisis or public health crisis is a difficult situation or complex health system that affects humans in one or more geographic areas (mainly occurred in natural hazards), from a particular locality to encompass the entire planet. Health crises generally have significant impacts on community health, loss of life, and the economy. They may result from disease, industrial processes or poor policy. This topic addresses three key features in health crises: public health problem, problem health coordination and alarm care: poor communication of risks to the population resulting in social upheaval. This topic also addresses three types of health crises: environmental, food and toxic. This topic also covers prevention and control of healthcare crisis including using the health warning system, transparency of the institutions public or private, adequate information policy, evaluating the previous crisis or other experiences, having objective and preparing contingency plans.\\nRelevant keywords include but are not limited to the following: health crisis, human, community health, loss of life, economy, public health problem, problem health coordination, environmental crisis, food crisis, toxic crisis, preventions, control, global, the entire planet.',\n",
       "  'private': False},\n",
       " {'id': 'c3f7b9d6-9420-46fb-abb2-490382212189',\n",
       "  'name': 'Transformation of Healthcare',\n",
       "  'description': 'Transformation of healthcare is the topic that covers content related to changing healthcare due to advanced technology and the pace of digital transformation in healthcare. This topic covers the impact of digital transformation and trends in healthcare. This topic also covers the challenges and actions that healthcare companies would take. Relevant keywords include but are not limited to the following: the democratization of healthcare, standardization of healthcare, reduce variation in care, best practices in healthcare or medicine, clinician of the future, future of medicine, future of the clinical practice.',\n",
       "  'private': False}]"
      ]
     },
     "execution_count": 4,
     "metadata": {},
     "output_type": "execute_result"
    }
   ],
   "source": [
    "list(signal_api.topics({'name': 'Healthcare'}))"
   ]
  },
  {
   "cell_type": "markdown",
   "id": "b36c5d32",
   "metadata": {},
   "source": [
    "## Search events with the following filters (Entities, Topics, Labels and Sources)"
   ]
  },
  {
   "cell_type": "code",
   "execution_count": 27,
   "id": "bced3689-4a30-4dc4-8491-a8394d1956bf",
   "metadata": {},
   "outputs": [],
   "source": [
    "entities = {\n",
    "    'Long Covid': '1021d2f6-e57a-308c-b232-d6c6f2c2588e',\n",
    "}\n",
    "\n",
    "# uncomment line below to use all signal entities\n",
    "# entities = {}\n",
    "\n",
    "topics = {\n",
    "    'Healthcare': 'ec838d2b-49db-457a-b42f-2889fb86b2eb',\n",
    "    'Healthcare Crisis': '0d6c8ffc-d2fd-47bc-b304-fff55e76cd19',\n",
    "    'Transformation of Healthcare': 'c3f7b9d6-9420-46fb-abb2-490382212189'\n",
    "}\n",
    "\n",
    "# uncomment line below to use all signal topics\n",
    "# topics = {} \n",
    "\n",
    "# # A label can contain a maximum of 6 words\n",
    "# labels = {\n",
    "#     'analysis of workers compensation claims'\n",
    "# }\n",
    "\n",
    "# sources = {\n",
    "#     'Yahoo News UK': '008a1423-3f16-4de1-8b7e-b0ee2b793655',\n",
    "#     'Washington Post' : '38663047-4bae-42e8-9474-bd6201f1f492'\n",
    "# }"
   ]
  },
  {
   "cell_type": "markdown",
   "id": "845fd326",
   "metadata": {},
   "source": [
    "## Use the last year as a date range"
   ]
  },
  {
   "cell_type": "code",
   "execution_count": 6,
   "id": "c296938e-3633-40ef-bab8-19ab3f0a2e3e",
   "metadata": {},
   "outputs": [
    {
     "data": {
      "text/plain": [
       "(Period('2022-04-04', 'D'), Period('2023-04-04', 'D'))"
      ]
     },
     "execution_count": 6,
     "metadata": {},
     "output_type": "execute_result"
    }
   ],
   "source": [
    "end_date = pd.to_datetime('today').to_period('D') - 1\n",
    "start_date = end_date - 365\n",
    "start_date, end_date"
   ]
  },
  {
   "cell_type": "markdown",
   "id": "228096df",
   "metadata": {},
   "source": [
    "### Query the Events API"
   ]
  },
  {
   "cell_type": "code",
   "execution_count": 28,
   "id": "e27fbcdb-e7d0-4e07-a535-98b00747ffa8",
   "metadata": {},
   "outputs": [],
   "source": [
    "query = {\n",
    "      \"where\": {\n",
    "          \"date\": {\n",
    "              \"gte\": str(start_date),\n",
    "              \"lte\": str(end_date)\n",
    "      },\n",
    "    },\n",
    "    \"size\": 1000\n",
    "}\n",
    "\n",
    "if entities:\n",
    "  query['where'][\"entities\"] = {\n",
    "    \"id\": {\n",
    "        # include events about any of the entities\n",
    "        \"any\": list(entities.values())\n",
    "\n",
    "        # note you can seach for events about all of the entities too\n",
    "        # \"all\": list(entities.values())\n",
    "    }\n",
    "  }\n",
    "\n",
    "if topics: \n",
    "  query['where'][\"topics\"] = {\n",
    "    \"id\": {\n",
    "        # include events about any of the topics\n",
    "        \"any\": list(topics.values())\n",
    "\n",
    "        # note you can seach for events about all of the topics too\n",
    "        # \"all\": list(topics.values())\n",
    "    }\n",
    "  }\n",
    "\n",
    "if 'labels' in globals() and labels:\n",
    "  query['where'][\"labels\"] = {\n",
    "    # include events about any of the labels\n",
    "    \"any\": list(labels)\n",
    "\n",
    "    # note you can seach for events about all of the labels too\n",
    "    # \"all\": list(labels.values())\n",
    "    \n",
    "  }\n",
    "\n",
    "if 'sources' in globals() and sources: \n",
    "  query['where'][\"sources\"] = {\n",
    "    \"id\": {\n",
    "        # include events about any of the sources\n",
    "        \"any\": list(sources.values())\n",
    "\n",
    "        # note you can seach for events about all of the sources too\n",
    "        # \"all\": list(sources.values())\n",
    "    }\n",
    "  }\n",
    "\n",
    "\n",
    "response = signal_api.events(query)\n",
    "# remove results that come from a small number of sources\n",
    "response = (event for event in response if event['source-count-global'] >= (event['story-count-global'] / 5))\n",
    "# take the first 10 events\n",
    "events = list(response)[:10]"
   ]
  },
  {
   "cell_type": "markdown",
   "id": "e0057ab8",
   "metadata": {},
   "source": [
    "## Define function for searching documents by story id"
   ]
  },
  {
   "cell_type": "code",
   "execution_count": 25,
   "id": "761e3beb",
   "metadata": {},
   "outputs": [],
   "source": [
    "def search_by_story_id(story_ids: list, entity_ids: list, topic_ids: list, source_ids: list = None,  n=3):\n",
    "    \"\"\"\n",
    "    return one document for each story-id in \"story_ids\" \n",
    "    return the results in the same order as story_ids\n",
    "    \"\"\"\n",
    "    # record the ordering of the story_ids\n",
    "    rank = {story_id: rnk for rnk, story_id in enumerate(story_ids)}\n",
    "\n",
    "    # query the seach endpoint\n",
    "    params = {\n",
    "        'where': {\n",
    "            'story-id': {\n",
    "                'any': list(story_ids)\n",
    "            },\n",
    "        },\n",
    "        'size': 500\n",
    "    }\n",
    "\n",
    "    if entity_ids:\n",
    "        params['where']['entities'] = {\n",
    "            'id': {'any': entity_ids},\n",
    "            'salient-only': True\n",
    "        }\n",
    "        \n",
    "    if topic_ids:\n",
    "        params['where']['topics'] = {\n",
    "            'id': {'any': topic_ids}\n",
    "        }\n",
    "    \n",
    "    if source_ids:\n",
    "        params['where']['source'] = {\n",
    "            'id': {'any': source_ids}\n",
    "        }\n",
    "\n",
    "    response = (item['document'] for item in signal_api.search(params))\n",
    "\n",
    "    # put the results in the correct order\n",
    "    ordered = sorted(response, key=lambda document: rank[document['story-id']])\n",
    "\n",
    "    # deduplicate the results\n",
    "    grouped = islice(groupby(ordered, lambda x: x['story-id']), n)\n",
    "    return [next(group) for _, group in grouped]"
   ]
  },
  {
   "cell_type": "markdown",
   "id": "534aedf5",
   "metadata": {},
   "source": [
    "### Get the documents from the Search API"
   ]
  },
  {
   "cell_type": "code",
   "execution_count": 29,
   "id": "233f8b5c",
   "metadata": {},
   "outputs": [
    {
     "name": "stderr",
     "output_type": "stream",
     "text": [
      "100%|██████████| 1/1 [00:02<00:00,  2.22s/it]\n"
     ]
    }
   ],
   "source": [
    "arg = {'story_ids': event['story-ids'],\n",
    "    'entity_ids': list(entities.values()), \n",
    "    'topic_ids': list(topics.values())}\n",
    "\n",
    "if 'sources' in globals():\n",
    "    arg['source_ids'] = list(sources.values())\n",
    "\n",
    "for event in tqdm(events):\n",
    "    event['documents'] = search_by_story_id(**arg)\n",
    "    "
   ]
  },
  {
   "cell_type": "markdown",
   "id": "0efd6f3a",
   "metadata": {},
   "source": [
    "### Display the Results"
   ]
  },
  {
   "cell_type": "code",
   "execution_count": 30,
   "id": "46816b42",
   "metadata": {},
   "outputs": [
    {
     "data": {
      "text/html": [
       "<div>\n",
       "<style scoped>\n",
       "    .dataframe tbody tr th:only-of-type {\n",
       "        vertical-align: middle;\n",
       "    }\n",
       "\n",
       "    .dataframe tbody tr th {\n",
       "        vertical-align: top;\n",
       "    }\n",
       "\n",
       "    .dataframe thead th {\n",
       "        text-align: right;\n",
       "    }\n",
       "</style>\n",
       "<table border=\"1\" class=\"dataframe tex2jax_ignore\">\n",
       "  <thead>\n",
       "    <tr style=\"text-align: right;\">\n",
       "      <th></th>\n",
       "      <th>hash</th>\n",
       "      <th>date</th>\n",
       "      <th>story-count-global</th>\n",
       "      <th>source-count-global</th>\n",
       "      <th>entities</th>\n",
       "      <th>topics</th>\n",
       "      <th>labels</th>\n",
       "      <th>headlines</th>\n",
       "    </tr>\n",
       "  </thead>\n",
       "  <tbody>\n",
       "    <tr>\n",
       "      <th>0</th>\n",
       "      <td>02f1-9b9fb90e-133b442d-95caae33-aab16fe1</td>\n",
       "      <td>2023-01-24</td>\n",
       "      <td>39</td>\n",
       "      <td>315</td>\n",
       "      <td>[Long COVID, COVID 19]</td>\n",
       "      <td>[Labour Market, Employee Remuneration, Health Technology]</td>\n",
       "      <td>[long covid, new york state insurance fund, analysis of workers compensation claims, work, workers compensation]</td>\n",
       "      <td>[Organ damage persists in nearly 60% of COVID-19 patients for a year after initial diagnosis: study, Organ damage persists in nearly 60% of long-term COVID-19 patients one year after initial diagnosis: study, Organ damage persists in 59% of long Covid patients a year after diagnosis | Health]</td>\n",
       "    </tr>\n",
       "  </tbody>\n",
       "</table>\n",
       "</div>"
      ],
      "text/plain": [
       "                                       hash        date  story-count-global  \\\n",
       "0  02f1-9b9fb90e-133b442d-95caae33-aab16fe1  2023-01-24  39                   \n",
       "\n",
       "   source-count-global                entities  \\\n",
       "0  315                  [Long COVID, COVID 19]   \n",
       "\n",
       "                                                      topics  \\\n",
       "0  [Labour Market, Employee Remuneration, Health Technology]   \n",
       "\n",
       "                                                                                                             labels  \\\n",
       "0  [long covid, new york state insurance fund, analysis of workers compensation claims, work, workers compensation]   \n",
       "\n",
       "                                                                                                                                                                                                                                                                                               headlines  \n",
       "0  [Organ damage persists in nearly 60% of COVID-19 patients for a year after initial diagnosis: study, Organ damage persists in nearly 60% of long-term COVID-19 patients one year after initial diagnosis: study, Organ damage persists in 59% of long Covid patients a year after diagnosis | Health]  "
      ]
     },
     "execution_count": 30,
     "metadata": {},
     "output_type": "execute_result"
    }
   ],
   "source": [
    "events_df = pd.DataFrame([\n",
    "    {\n",
    "        'hash': event['hash'],\n",
    "        'date': event['date'],\n",
    "        'story-count-global': event['story-count-global'],\n",
    "        'source-count-global': event['source-count-global'],\n",
    "        'entities': [entity['name'] for entity in event['entities']],\n",
    "        'topics': [topic['name'] for topic in event['topics']][:3], # just use the first 3 topics \n",
    "        'labels': event['labels'],\n",
    "        'headlines': [doc['title'] for doc in event['documents']],\n",
    "    }\n",
    "    for event in events\n",
    "])\n",
    "events_df"
   ]
  },
  {
   "cell_type": "markdown",
   "id": "3b801ba1",
   "metadata": {},
   "source": [
    "## Search event by hash"
   ]
  },
  {
   "cell_type": "code",
   "execution_count": 31,
   "id": "b97ab04d",
   "metadata": {},
   "outputs": [
    {
     "name": "stderr",
     "output_type": "stream",
     "text": [
      "100%|██████████| 10/10 [00:04<00:00,  2.21it/s]\n"
     ]
    },
    {
     "data": {
      "text/plain": [
       "['Claiborne Progress',\n",
       " 'KULR 8',\n",
       " 'Hazard-Herald.com',\n",
       " 'MyFox Yakima',\n",
       " 'Washington Daily News',\n",
       " 'Helena Independent',\n",
       " 'Fremont Tribune',\n",
       " 'Racine Journal Times',\n",
       " 'Herald & Review',\n",
       " 'Statesville Record & Landmark']"
      ]
     },
     "execution_count": 31,
     "metadata": {},
     "output_type": "execute_result"
    }
   ],
   "source": [
    "# You can retrieve an event by hash to get additional metadata about the event such as source ids \n",
    "# and additional story ids\n",
    "\n",
    "event_hash = events_df.iloc[0]['hash']\n",
    "event = signal_api.get_event(event_hash)\n",
    "\n",
    "# show the first 10 sources that mentioned this event\n",
    "\n",
    "[signal_api.get_source(source_id)['source']['name'] for source_id in tqdm(event['source-ids'][:10])]"
   ]
  }
 ],
 "metadata": {
  "interpreter": {
   "hash": "36718a772afb02bfcd0b05eef0d641599da4c64bcc9effab0ed26d9d51416d4d"
  },
  "kernelspec": {
   "display_name": "Python 3",
   "language": "python",
   "name": "python3"
  },
  "language_info": {
   "codemirror_mode": {
    "name": "ipython",
    "version": 3
   },
   "file_extension": ".py",
   "mimetype": "text/x-python",
   "name": "python",
   "nbconvert_exporter": "python",
   "pygments_lexer": "ipython3",
   "version": "3.10.5"
  }
 },
 "nbformat": 4,
 "nbformat_minor": 5
}
