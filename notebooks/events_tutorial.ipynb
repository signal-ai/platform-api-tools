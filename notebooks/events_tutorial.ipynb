{
 "cells": [
  {
   "cell_type": "markdown",
   "id": "2184aa48-59f8-4eaf-af17-f7096c994c23",
   "metadata": {},
   "source": [
    "# Events Example"
   ]
  },
  {
   "attachments": {},
   "cell_type": "markdown",
   "id": "5ba60f10-f7bc-403c-8a7b-c943ad834e87",
   "metadata": {},
   "source": [
    "## Installation\n",
    "\n",
    "For readability we've written a simple python interface for the Signal API under `signal_api/signalAPI.py` from the root of this repository.\n",
    "\n",
    "Make sure you've installed the dependencies for these notebooks:\n",
    "\n",
    "```bash\n",
    "cd signal-api-tools # make sure you're in the root of this project\n",
    "pip install -e . -r requirements.txt\n",
    "```\n"
   ]
  },
  {
   "cell_type": "code",
   "execution_count": 1,
   "id": "c9ea4db0-e7e0-48d9-a6d5-e118109f5aa4",
   "metadata": {},
   "outputs": [],
   "source": [
    "import signal_api.signalAPI as signalAPI\n",
    "import pandas as pd\n",
    "from itertools import groupby, islice\n",
    "import os\n",
    "from tqdm import tqdm\n",
    "import json\n",
    "\n",
    "pd.set_option('display.max_colwidth', 0)\n",
    "pd.options.display.html.use_mathjax = False"
   ]
  },
  {
   "cell_type": "markdown",
   "id": "38536ab7",
   "metadata": {},
   "source": [
    "## Credentials\n",
    "\n",
    "The notebook assumes that API credentials are stored as environment variables."
   ]
  },
  {
   "cell_type": "code",
   "execution_count": 2,
   "id": "73c99821-1528-486d-90e0-c78dce022838",
   "metadata": {},
   "outputs": [],
   "source": [
    "client_id = os.environ['SIGNAL_API_ID']\n",
    "client_secret = os.environ['SIGNAL_API_SECRET']\n",
    "signal_api = signalAPI.Connection(client_id=client_id, client_secret=client_secret)"
   ]
  },
  {
   "cell_type": "markdown",
   "id": "b36c5d32",
   "metadata": {},
   "source": [
    "## Searching for events using Entities, Topics\n",
    "\n",
    "Let's search for events about the entity `Long Covid` and the topics `Healthcare`, `Healthcare Crisis` or  `Transformation of Healthcare`."
   ]
  },
  {
   "cell_type": "code",
   "execution_count": 3,
   "id": "bced3689-4a30-4dc4-8491-a8394d1956bf",
   "metadata": {},
   "outputs": [],
   "source": [
    "entities = {\n",
    "    'Long Covid': '1021d2f6-e57a-308c-b232-d6c6f2c2588e',\n",
    "}\n",
    "\n",
    "# uncomment line below to use all signal entities\n",
    "# entities = {}\n",
    "\n",
    "topics = {\n",
    "    'Healthcare': 'ec838d2b-49db-457a-b42f-2889fb86b2eb',\n",
    "    'Healthcare Crisis': '0d6c8ffc-d2fd-47bc-b304-fff55e76cd19',\n",
    "    'Transformation of Healthcare': 'c3f7b9d6-9420-46fb-abb2-490382212189'\n",
    "}\n",
    "\n",
    "# uncomment line below to use all signal topics\n",
    "# topics = {} \n",
    "\n",
    "# uncomment to search events for specific labels\n",
    "# A label can contain a maximum of 6 words\n",
    "labels = {\n",
    "    #'analysis of workers compensation claims'\n",
    "}\n",
    "\n",
    "# uncomment to search for events mentioned by specific sources\n",
    "sources = {\n",
    "#     'Yahoo News UK': '008a1423-3f16-4de1-8b7e-b0ee2b793655',\n",
    "#     'Washington Post': '38663047-4bae-42e8-9474-bd6201f1f492'\n",
    "}"
   ]
  },
  {
   "cell_type": "markdown",
   "id": "286deae6",
   "metadata": {},
   "source": [
    "You can search for signal concepts and their IDs as follows. For more details see the getting started notebook."
   ]
  },
  {
   "cell_type": "code",
   "execution_count": 4,
   "id": "1ec44563",
   "metadata": {},
   "outputs": [
    {
     "data": {
      "text/plain": [
       "[{'id': 'e2e3b3e9-e552-3377-9705-e48c8be05227',\n",
       "  'type': 'disease',\n",
       "  'name': 'COVID 19'},\n",
       " {'id': '1021d2f6-e57a-308c-b232-d6c6f2c2588e',\n",
       "  'type': 'disease',\n",
       "  'name': 'Long COVID'},\n",
       " {'id': '532095ac-5836-301a-a313-f6b86b926d75',\n",
       "  'type': 'product',\n",
       "  'name': 'Covid 19 Vaccine'}]"
      ]
     },
     "execution_count": 4,
     "metadata": {},
     "output_type": "execute_result"
    }
   ],
   "source": [
    "list(islice(signal_api.entities({'name': 'Covid'}), 3))"
   ]
  },
  {
   "cell_type": "markdown",
   "id": "845fd326",
   "metadata": {},
   "source": [
    "Use the last year as a date range"
   ]
  },
  {
   "cell_type": "code",
   "execution_count": 5,
   "id": "c296938e-3633-40ef-bab8-19ab3f0a2e3e",
   "metadata": {},
   "outputs": [
    {
     "data": {
      "text/plain": [
       "(Period('2022-04-05', 'D'), Period('2023-04-05', 'D'))"
      ]
     },
     "execution_count": 5,
     "metadata": {},
     "output_type": "execute_result"
    }
   ],
   "source": [
    "end_date = pd.to_datetime('today').to_period('D') - 1\n",
    "start_date = end_date - 365\n",
    "start_date, end_date"
   ]
  },
  {
   "cell_type": "markdown",
   "id": "228096df",
   "metadata": {},
   "source": [
    "## Query the Events API\n",
    "\n",
    "Below the craft a query as input to the events API"
   ]
  },
  {
   "cell_type": "code",
   "execution_count": 6,
   "id": "e27fbcdb-e7d0-4e07-a535-98b00747ffa8",
   "metadata": {},
   "outputs": [
    {
     "name": "stdout",
     "output_type": "stream",
     "text": [
      "Using events query:\n",
      "{\n",
      "    \"where\": {\n",
      "        \"date\": {\n",
      "            \"gte\": \"2022-04-05\",\n",
      "            \"lte\": \"2023-04-05\"\n",
      "        },\n",
      "        \"entities\": {\n",
      "            \"id\": {\n",
      "                \"any\": [\n",
      "                    \"1021d2f6-e57a-308c-b232-d6c6f2c2588e\"\n",
      "                ]\n",
      "            }\n",
      "        },\n",
      "        \"topics\": {\n",
      "            \"id\": {\n",
      "                \"any\": [\n",
      "                    \"ec838d2b-49db-457a-b42f-2889fb86b2eb\",\n",
      "                    \"0d6c8ffc-d2fd-47bc-b304-fff55e76cd19\",\n",
      "                    \"c3f7b9d6-9420-46fb-abb2-490382212189\"\n",
      "                ]\n",
      "            }\n",
      "        }\n",
      "    },\n",
      "    \"size\": 1000\n",
      "}\n"
     ]
    }
   ],
   "source": [
    "query = {\n",
    "      \"where\": {\n",
    "          \"date\": {\n",
    "              \"gte\": str(start_date),\n",
    "              \"lte\": str(end_date)\n",
    "      },\n",
    "    },\n",
    "    \"size\": 1000\n",
    "}\n",
    "\n",
    "if entities:\n",
    "  query['where'][\"entities\"] = {\n",
    "    \"id\": {\n",
    "        # include events about any of the entities\n",
    "        \"any\": list(entities.values())\n",
    "\n",
    "        # note you can seach for events about all of the entities too\n",
    "        # \"all\": list(entities.values())\n",
    "    }\n",
    "  }\n",
    "\n",
    "if topics: \n",
    "  query['where'][\"topics\"] = {\n",
    "    \"id\": {\n",
    "        # include events about any of the topics\n",
    "        \"any\": list(topics.values())\n",
    "\n",
    "        # note you can seach for events about all of the topics too\n",
    "        # \"all\": list(topics.values())\n",
    "    }\n",
    "  }\n",
    "\n",
    "if labels:\n",
    "  query['where'][\"labels\"] = {\n",
    "    # include events about any of the labels\n",
    "    \"any\": list(labels)\n",
    "\n",
    "    # note you can seach for events about all of the labels too\n",
    "    # \"all\": list(labels.values())\n",
    "    \n",
    "  }\n",
    "\n",
    "if sources: \n",
    "  query['where'][\"sources\"] = {\n",
    "    \"id\": {\n",
    "        # include events about any of the sources\n",
    "        \"any\": list(sources.values())\n",
    "\n",
    "        # note you can seach for events about all of the sources too\n",
    "        # \"all\": list(sources.values())\n",
    "    }\n",
    "  }\n",
    "\n",
    "print('Using events query:')\n",
    "print(json.dumps(query, indent=4))"
   ]
  },
  {
   "cell_type": "markdown",
   "id": "3674a1b2",
   "metadata": {},
   "source": [
    "Now lets call the events API using or query, taking the first 10 results"
   ]
  },
  {
   "cell_type": "code",
   "execution_count": 7,
   "id": "19d4f547",
   "metadata": {},
   "outputs": [],
   "source": [
    "response = signal_api.events(query)\n",
    "# remove results that come from a small number of sources\n",
    "response = (event for event in response if event['source-count-global'] >= (event['story-count-global'] / 5))\n",
    "# take the first 5 events\n",
    "events = list(islice(response, 5))"
   ]
  },
  {
   "cell_type": "markdown",
   "id": "2a7aaa1d",
   "metadata": {},
   "source": [
    "We can see the result from the events API below.\n",
    "\n",
    "Note that each event contains a list of story IDs. \n",
    "These are the documents that constitute the event in order of relevance. In the next section we will use these `story-ids` to fetch document level metadata such as headlines for each event from the search endpoint."
   ]
  },
  {
   "cell_type": "code",
   "execution_count": 8,
   "id": "cde37248",
   "metadata": {},
   "outputs": [
    {
     "data": {
      "text/html": [
       "<div>\n",
       "<style scoped>\n",
       "    .dataframe tbody tr th:only-of-type {\n",
       "        vertical-align: middle;\n",
       "    }\n",
       "\n",
       "    .dataframe tbody tr th {\n",
       "        vertical-align: top;\n",
       "    }\n",
       "\n",
       "    .dataframe thead th {\n",
       "        text-align: right;\n",
       "    }\n",
       "</style>\n",
       "<table border=\"1\" class=\"dataframe tex2jax_ignore\">\n",
       "  <thead>\n",
       "    <tr style=\"text-align: right;\">\n",
       "      <th></th>\n",
       "      <th>labels</th>\n",
       "      <th>date</th>\n",
       "      <th>document-count-entitlements</th>\n",
       "      <th>hash</th>\n",
       "      <th>story-count-global</th>\n",
       "      <th>story-ids</th>\n",
       "      <th>document-count-global</th>\n",
       "      <th>entities</th>\n",
       "      <th>topics</th>\n",
       "      <th>source-count-global</th>\n",
       "    </tr>\n",
       "  </thead>\n",
       "  <tbody>\n",
       "    <tr>\n",
       "      <th>0</th>\n",
       "      <td>[mild, long covid, symptoms, long covid symptoms, infection, year, study]</td>\n",
       "      <td>2023-01-12</td>\n",
       "      <td>566</td>\n",
       "      <td>02e5-8f8b9366-932bc9df-b1aa3367-f6f9b7c7</td>\n",
       "      <td>192</td>\n",
       "      <td>[541cf63c-f2f7-48ee-bb75-51cf32565dd1, f9727514-fae4-48d1-b081-bdcee837bae4, 3cd76e0c-232f-4ffb-aa07-25ddb8325123, aab6c7bd-8478-407b-914d-43f0091fb0c8, 345c7d57-9032-41ad-b025-044e2a5e5ff9, 2d44b59c-ef25-4da4-a915-40abac2415e2, 025c08cb-01a6-4530-83c2-51de420bba86, 057434f2-6ab7-4d54-9e15-fbe985b73eb9, 7e35cb0a-26d4-4bda-a33b-2db1d6f7d6c0, abb7a840-9361-43a4-a4e7-416f174f0d10, d3420112-1db3-472d-9d4c-43a6587f8b84, 7af32d99-50a4-42ed-b513-f292ca74a3f1, 3a7dd038-4619-4a8b-8ad9-7a1eb1efc913, dac2e327-c881-4e9f-93c0-179279be51d5, 17cdc916-2d70-45d2-aba8-8f93b2c5ca28, 9226b093-6bc8-4f8d-8f2f-427bcd0cf2bf, d00271e9-06ff-4ea5-9d7a-0c26b42429fe, 3666881c-b3b6-40e3-83b3-e045dbd3254e, 2d4dd863-c616-4715-b33f-7db56664dda4, 137de471-44f3-453a-b6a1-8a37700acdef, e2a00f00-ee8b-4582-bc64-5e563a8537ca, 85716889-4f65-48ba-93d1-8fc8323d0851, 87f3deef-ac42-4b3e-bbd7-5a6144f259ee, ea0d1c9c-8185-40ef-8e32-2725e477e222, e40e7ba8-34cb-466a-91d0-922cecb45fd9, 163b9d01-2dbf-42de-abc3-7216ce6da7e8, ae9cecb6-891c-49c9-8ab4-d41fb4aab787, 50b1501a-21ac-4808-9568-609e09373d26, fb0b0120-d591-48b7-8b26-790f8d979610, 0b5b172b-34b8-4424-967b-96d5b706653c, c67bd667-ac97-4eb2-897b-0d3e9babda29, 8fd34cc8-9d49-4410-be54-e5adf9a1b65e, 0872d765-826e-42b9-a3cb-73669fb4d38b, 69105891-d32c-47ef-b34a-1f389bebde16, d245803e-6f27-4af6-b776-66c8c4228d6c, 542ee41c-f77b-4fa1-b8d8-1f51be7ec06a, c07377e3-e991-4f48-ab31-b9f72272be82, 4ac5953e-cbed-4fcf-901f-db2b4179e7e5, cae0cbb0-d59d-4fd7-8c74-5ca3db65e484, 1c14a1bc-653d-42ba-ae90-c447eae3078f, df3b281d-ca8a-4822-84fe-65861a2c1156, 88c0e502-7f35-4bf9-b480-862ef97484c5, 1500207c-1356-4b94-9f05-5d7c01108772, fb5289e1-167b-4886-ba05-b741247a6560, b6b3b862-1f1e-4628-a09f-1d82f0f61e72, e4f9dbd1-437d-4723-9d35-5999e35b9f33, a3e3f67a-f1be-48ed-9ff2-8ffe852d0788, c00a29c2-80f1-428a-b75b-89d7729daa7c, 509847de-b392-4fa2-855d-146030a19105, 3a19902c-1e3c-48a5-ad38-a24147021758, ca35802a-a46c-486d-9da3-b9dfe39e88bb, 8ac792a9-d9d9-4d74-81aa-b990fd2f32d9, 2273d8e7-c0e6-470b-a4c3-46afefe12b63, 689e5c8e-68be-4730-8c78-08da87bcfd88, 8f0cfd5e-071f-406e-ba50-99f71aacf60f, 3491629c-452b-4bf3-9329-72126b31360c, d0a6241a-ba98-4acf-8837-07bd634f82e2, 8ad7c1ec-3489-4979-bcd7-32a984f9a5b4, e3ad15d9-ca98-4215-8b63-b518a57128c4, f6420035-e5a8-4a47-88e1-0b61a44a7c48, e29fbe46-2be4-4a72-a239-346ce38f4b2a, 4a5eb42c-e2bd-48f4-844f-6016cb5ee9d8, 57c01792-18ce-478a-9cc4-2a843174d4a5, 2f9b0004-b76d-44a5-8d4b-497124cc6956, e52b0480-fe54-4bc8-a69b-5dbba6705ee0, c2ef56eb-edd9-42f1-ba08-caed1e149ec1, 3b85c483-5b5f-4e63-9432-a89983c79bbb, 408c536f-ad6e-4340-a041-8c4facdc8fb9, e7656111-3683-443d-bcb0-654ed29769dd, a9b040e1-15ef-4a65-b93f-3bfbb440a1d4, 8f470001-0d7e-48a7-9405-6c13e69c799e, f5fffe67-9de3-45ce-b0b2-317e398e3d83, 45a0edee-b16c-4866-bb78-52acea6d0ffa, da4b53f0-c274-46e0-bc64-ef4c9ea9f2b8, cd5f3f53-4387-4889-bad1-3b0fdc5b287b, 525feb8d-f76f-48f5-89fe-6ce581bb63cb, b0272563-de5b-41ae-8a55-305dd2db13c7, 32923fda-a51a-40da-a64d-0cb1c3962d0b, 3f333d2a-fa57-405e-ba0b-5c9e72e70cc5, d351ff68-43bf-4ded-aa86-51b0c5b450a7, d7688c32-2a9d-4cf6-b49f-a282bc7535bb, 61bc2903-d412-4086-bf38-15a11cc1f2d9, bd20adfa-6c75-400f-9da2-5ede0d3b71c9, 20fbcb42-7383-4105-8a6a-532c04bace05, 80cde8f7-e675-49ce-95a0-312fdd590dff, 3abbe2b4-613d-496e-abc2-7202dc7704a1, 8446c6b0-24eb-4c37-b67b-dce9c4cb8730, 808a2755-50da-4882-8141-988d80b3aa2e, e5e9b044-68e7-4ac6-926b-e568bff7ffe2, d91bbf84-f8d7-4603-811f-d368b11cb937, 46c09577-f539-4e1c-b179-b26749eb2083, fbcd6f2c-6aa0-4e0b-9bd8-a2bff0157f11, 4f48b703-9645-47ce-95e3-64d769cc56bc, 96c87d28-72fd-49b1-8e05-819b0c3a1e96, 9dcd7785-c43c-465c-8673-7551c2f11c01, fd8e109d-327c-4ad8-a75b-73074684ac3d, db2af368-adcc-4725-83ac-67a2f0e19a22, a181e0cb-ceec-47ce-a176-8d7f563af8db, f766983b-cfb5-480a-9efe-0fd2c6d2ba12, de7cdccb-5c74-4b76-a911-0fd105726e98]</td>\n",
       "      <td>608</td>\n",
       "      <td>[{'prominence-score': 1.0, 'name': 'COVID 19', 'id': 'e2e3b3e9-e552-3377-9705-e48c8be05227', 'type': 'disease', 'story-count': 192}, {'prominence-score': 1.0, 'name': 'Long COVID', 'id': '1021d2f6-e57a-308c-b232-d6c6f2c2588e', 'type': 'disease', 'story-count': 192}]</td>\n",
       "      <td>[{'prominence-score': 0.953125, 'name': 'Health Technology', 'id': 'ca8578f9-8bf6-4da4-b592-dcf3223b05bb', 'story-count': 183}, {'prominence-score': 0.9479166666666666, 'name': 'Health Systems', 'id': 'debb293d-02f2-4fb7-9b7a-77b6f3536eb3', 'story-count': 182}, {'prominence-score': 0.8645833333333334, 'name': 'Healthcare', 'id': 'ec838d2b-49db-457a-b42f-2889fb86b2eb', 'story-count': 166}, {'prominence-score': 0.828125, 'name': 'Medical Research', 'id': '9dd4cdc3-5fd6-437a-bfe4-37e91f7ab469', 'story-count': 159}, {'prominence-score': 0.5729166666666666, 'name': 'Drug Trials ', 'id': 'aaacbb95-dbd3-43aa-88f1-7a44e92f49f0', 'story-count': 110}]</td>\n",
       "      <td>479</td>\n",
       "    </tr>\n",
       "    <tr>\n",
       "      <th>1</th>\n",
       "      <td>[long covid, symptoms, hair loss, dysfunction]</td>\n",
       "      <td>2022-07-26</td>\n",
       "      <td>314</td>\n",
       "      <td>023b-1b1bd948-b7b7c757-99ef6a79-e4c1f6a3</td>\n",
       "      <td>189</td>\n",
       "      <td>[756b07d5-4e03-4229-9db5-caf7a0339886, 343d6f9b-1984-4963-ad47-5c2f93bd2d32, b91ac429-192e-4e8d-bf19-5ea2cfc55600, 36113cf5-32a0-4e0c-bc9e-8890b80063ab, 4a35ebe4-5388-4b19-b61b-538ca4b20509, 7a621cac-07ef-4eae-bde5-051be77e8900, c71420bf-4947-431f-9129-074f076f9928, b0df07c6-9ad8-43ab-aa5d-5dba1e5dc8ac, 110bf5d3-0436-40a3-afe9-047c915e62de, 28d0363d-ac23-45eb-950d-78e72dc0d4a8, 3cd92d1f-e96f-41f2-b4de-7ab5ee374f1f, 0c23f22d-eda1-4877-b5fe-0114b19156d1, 1df6e492-1cfc-4a34-ad43-dfa7eded6454, 4ec5cce3-f998-4a80-91fe-9018fe4b21be, 5d4a4c9a-37b4-43b2-8a9c-433904c4d79d, 5c9ebdb7-0469-439f-b129-5b622298c4f9, a0bce73d-e55d-4a49-bf65-1316937c7964, 03b7fbf9-aa19-49d3-ab8f-fc1264ba177b, ca7ae116-30e7-4134-a294-f651a4cd2f7b, 2c2cce5d-1c87-4d8d-ab75-288aeb7ec1d7, 297d36ff-a01d-49f7-9248-144b7a81f16d, a7727e4a-e98b-4c01-9244-ffb05060dd65, 42c408e4-ea26-4255-a2e3-9db625890dec, bb1840bf-6a92-4385-a300-1f4e82bb0982, 0faf5599-de2c-42ef-8a93-6ae15e55e3aa, 53585525-f328-4917-885a-5b82f34f37d4, 64012985-95d4-4db5-b59a-08cc3e0766d5, 5f1421ea-8a64-40a9-8eae-2283cf2c1272, 175747fa-d4aa-4005-97a7-206ce35c82ed, bd91b778-3cc5-4042-b7f3-81c91f5aa5aa, b4763594-a6a0-44f5-a271-87728f6edd20, 34da83ee-625e-4182-b6c4-549b713c167f, 65dcfdd4-6aa4-4b9e-b183-93efd3bdbd85, 57acadd3-d9f5-4a64-934d-a239bc5782cd, 9217e10e-d2c1-461e-890e-53b43a90c13b, b056f2bb-b274-4db8-a86e-964a5ab79a19, 98c0d888-31f8-4d63-9bf4-13467238722f, fd9ba6a1-4588-46f8-8ebd-cdfd9d68c07f, 9966685c-ada7-49b0-9cab-2c49784b94fe, 211d9286-71e6-4a42-8e57-a78689f4cf7a, 95d1d3d7-6223-4c2d-bb91-47d4e576bb98, 67d3f3c7-a92f-4ada-9e52-5860c5f9fe33, dc559335-a016-4fc4-9763-909cbd960d84, 7d86d2e5-d6ec-4f9f-a6bf-82acf4c4966e, 86360754-ab0d-411f-af2e-3c3204705cb8, 33c4567e-db31-433b-8621-a9e4b71af34f, 613c9b0d-2b9c-4e9d-a6cd-1ae44221dc93, ee444f1c-8f54-4b67-8c9e-a5151321eccb, fe6ce5de-44b2-4b88-9362-b5b59520c011, 578c2496-ccfa-45f6-a3ce-ddca44804eb4, a3f0493d-43c6-4556-8791-61a685ff2e88, b483599a-689d-442a-b47e-b1e5621526a5, 0adabf53-abce-46cc-b414-4a82ecb5a343, b03b584a-5d21-4742-b6db-8f027406d5c6, fa5d4ffd-c271-41af-bf86-387f487c1087, 1028c8c8-948d-4fa5-9562-83301915975b, b131315b-9116-4b5a-b59c-99b8e2305b41, 8405fb05-618c-4e7a-8e5c-09a7e3885bd2, 9b2fcab0-f894-4367-a557-63418941e0d4, fcce4604-1d7b-44d5-a293-29cb546953eb, c020f3e6-6ebc-4aed-9bab-d63d2eaa4c7f, 007b15d6-599b-4cc6-848e-10a9dbc0e262, 65c06212-4926-47c9-94d7-e1d0e1de6bba, 053c6dbc-b38f-4ae4-ae70-79d4e05064de, 6cf482a9-0b6e-4432-b09e-6f6581de91e6, 5b515f8f-cbff-4fda-ae34-b0d9dc39fdbe, 76861d89-c3dd-4096-ae2d-c1d523d4ae7c, 7d305118-3021-47ab-9b8c-baa66efc6f39, 7bca661c-620a-42c7-a8db-9432ad843a4a, 8d267d60-b4df-4ec5-bd8a-d5643a7a47cc, 2d495595-d5b6-423e-b3ce-244244f50b4a, c54ff391-1783-4ebe-906d-657e527714d1, 64332d42-d5a6-491d-a048-645df266798d, 2ebeb828-fb90-46f3-9945-2113515e9c85, d73eaea4-435b-46aa-96e2-606ac20402f0, 55e94988-67c6-4cae-94ac-c1ff3e994c7d, ba534377-0bdd-4023-95b5-d55b1698e826, dcfd3f5f-f713-44b5-af80-b905d71f4988, 5cb2323e-3aea-4bba-9a83-67161dda1f31, d48aefee-e698-4b90-b494-1a5370349974, 00f4cd7b-8a43-4bf3-84cd-af4ddecafcea, 099ff947-da06-45ae-9caa-f482e9bc9f2a, a0473d0b-3e6b-40e9-8233-0af4595f6c2f, 113a005a-e467-4d0a-9af9-200690142cda, b4a28d26-243d-4116-a0b0-466dcae816c4, ba1efb7c-5962-4c8a-a6f3-296818cd62e1, 929735f8-368e-4bc9-ac1e-47ded5ccf44b, 48d1a941-3f5e-4038-82b6-ef5f4f04a072, 5eb30493-ca88-4680-b58c-cb660e4b1932, 0377ac4a-0de2-47e8-9967-53fdf67ce1e9, 9e63d43e-d2c1-4e1c-8b69-2f6ed742dfa0, bf9c6bfd-8124-42db-8cd0-f4446ac84155, 0bf5c407-3af8-417a-bdc8-5be7f7d285a7, 15f175ff-4aba-4617-8df8-d46b7a4cfc62, eb437e02-529f-41f4-b10f-f8393b4a71fd, 919aa993-f3db-44e7-bb09-b6693ccf790c, 0fefa769-5bf9-4165-9e7f-243b90f39a3f, 5d422d40-65c4-4bc4-906a-4def1cc12f37, 27c21fbd-d4b9-4825-a728-5f807ff1c602, 6cc26e47-45e3-420e-bb0b-7b853554013b]</td>\n",
       "      <td>525</td>\n",
       "      <td>[{'prominence-score': 1.0, 'name': 'COVID 19', 'id': 'e2e3b3e9-e552-3377-9705-e48c8be05227', 'type': 'disease', 'story-count': 189}, {'prominence-score': 1.0, 'name': 'Long COVID', 'id': '1021d2f6-e57a-308c-b232-d6c6f2c2588e', 'type': 'disease', 'story-count': 189}]</td>\n",
       "      <td>[{'prominence-score': 0.873015873015873, 'name': 'Health Technology', 'id': 'ca8578f9-8bf6-4da4-b592-dcf3223b05bb', 'story-count': 165}, {'prominence-score': 0.7936507936507936, 'name': 'Health Systems', 'id': 'debb293d-02f2-4fb7-9b7a-77b6f3536eb3', 'story-count': 150}, {'prominence-score': 0.7566137566137566, 'name': 'Medical Research', 'id': '9dd4cdc3-5fd6-437a-bfe4-37e91f7ab469', 'story-count': 143}, {'prominence-score': 0.7513227513227513, 'name': 'Healthcare', 'id': 'ec838d2b-49db-457a-b42f-2889fb86b2eb', 'story-count': 142}]</td>\n",
       "      <td>420</td>\n",
       "    </tr>\n",
       "    <tr>\n",
       "      <th>2</th>\n",
       "      <td>[long covid, deaths, cdc, 500, centers for disease control and prevention]</td>\n",
       "      <td>2022-12-14</td>\n",
       "      <td>951</td>\n",
       "      <td>02c8-53c99b2e-8f21c57f-9d403e16-fea17fc3</td>\n",
       "      <td>173</td>\n",
       "      <td>[b57c9b4f-7fd5-4ca2-bb77-0f6ae19c9caf, 28bf27b0-831f-4900-802e-dad068c8591b, 7d9360bd-3a5b-415c-a14c-ca2fd4d6e643, eeb5150e-1d17-46fb-b35d-eb650e57fb0d, 51e623fa-18b2-406f-a7d0-0c03bbf27277, ea3e0403-305e-489a-8997-58e414a0a825, 9bf034b2-dae6-408f-b70d-70f7109afddb, 73acdbd8-9726-463e-8022-c2804e6290dc, a12f091b-5046-4557-b319-434a023f4edf, 2123b524-2f19-4c55-8ea1-f81f414e297d, 24856c81-0ef7-4a1b-a15b-962bc3a70968, 2fa4654a-44a3-481e-9dec-6da5f1f7d377, c084fe8c-2dac-4646-8a48-2bccbc10218a, f585f4a7-ce1f-4e41-8204-bc84fae6fe6a, 4742afec-73c6-4b19-906b-77290ffe9cd4, d2bc6cab-9404-469b-a6b6-d353acdaac22, 0995f092-8646-421b-a8f7-26365983900c, 17fffb11-8d74-4dd3-bf4a-3944ef69b694, 7ea504bf-edf3-46a9-91c6-f29075428e7c, 990a7e60-e601-4114-be3b-50aa8923c90a, e6a61b1a-ec5b-4a4c-bc0c-6bcfdb319910, e143a5ec-e2bd-4d6b-93cb-ac063847fcbb, 7ac05391-e6ac-4dd9-93a4-635028c5e161, 562e0221-1e8f-48fa-9cd0-af6d30141df4, 43f771f3-6301-478c-81d2-6499d1b2e5c2, 183f464e-4a7e-4d38-9b71-b8bbdd061f56, df2c69a9-a5a1-4000-810b-61df07c981c7, 42be3ff0-c07e-4122-908c-04d881cf3fb8, bd637d87-0862-4410-a823-33f8a4ba67cc, 4505cb68-5e46-49a4-a563-2da0e6e38b0b, 866eaf43-d7b9-44d6-a738-0849b0f74732, 3b07d281-78a2-4caf-b585-7d2d31544b07, e5b3a785-1835-4f4d-96d6-750207ab0790, 3fe1aa70-48ab-4874-84c7-7daeede84235, d8e9037d-65e2-4ac0-952c-b9ab454d8703, 0e28efb0-e060-4bf8-a07e-7fd275fd5446, c0e372eb-b6ca-440f-8eb3-cba8ae7e88f3, 9ef558ec-8fe3-4273-802a-992dfc6979eb, d7a16c0e-e714-4092-9e73-39fbd4f1bc04, 0b57b771-c272-4650-b3c5-35c1b544a3f0, 79a8b8db-67f5-4c47-8cef-b29c2bdaa3f4, 3de72430-4607-40a4-a445-abe7e21cb9bf, fd49e39a-b6b5-4f10-9968-b261f7c9a522, 1dfc4a6f-df94-4274-8916-1a09a9425c41, 06268b3a-ab44-4645-bea0-96ffca2634d6, 3e888532-8d32-4b87-8d9e-57f8aad5cac9, f57a9771-fd48-4625-889b-867ab0c23b7f, bfa68d5b-f356-4c6b-a7cf-289b4b2befc1, db48ee7f-7366-451b-8726-febc816e6af1, 6f78e630-5593-429c-a011-0201043373f9, 03ce3280-3a3c-4a93-a976-46b672ee4b8c, 17ea78ed-e4d0-43cf-b99c-18ac8929e2ba, 2f1705e9-7a3e-4c23-86d7-50cb528291f9, 9437f17c-e768-45f3-ac9c-46f50cd54242, ee66a8de-2b85-4fe6-8461-943f54859446, 26a3af47-a4eb-4311-992c-77db1f561937, 6f1e1b89-e14c-4569-91f3-7741bc862a5d, bd892885-72a1-473f-a6cb-e80787b706b6, 2c756fcf-28cc-4b5d-81a2-6c951adf1546, 95cc5b8a-e6bf-4214-9957-572bf4a74440, 7d17c9b0-fbf8-442a-8308-9d531defa675, 1c5d0be3-e937-4b36-9625-d9d730ab1de5, f94550aa-cf84-427d-9e28-01b75cb72f3a, 6ffdcbfd-c522-4dff-983c-6500a944b96a, 38b91dce-ab5c-44dc-9581-d8bbb7720c21, 814d4688-bf98-411c-a83e-b9fa34602a6e, 47ee397a-49c8-40f6-9509-da7d04d37a95, 7310ee4f-1f5e-42a9-9dea-b87fc49e0ca7, 3a2341c6-a712-493f-ae69-38ce824b33aa, 733e53eb-e004-4d0a-8117-cc595c45c536, 6c67bd29-2351-4b0c-8ae8-39a4f61dd67b, e393cd0e-9922-44d2-a163-a3965b3245ab, 1c6181e3-458f-4dea-9277-d3c2ca73f94f, ee1c1621-b3f0-4b4f-adf6-8bf3cac953e0, a3609f55-cd35-4c97-8d4e-8bbad4102a31, 517dd817-2860-43d2-ba9f-e4dd9adbf967, f6857c10-9164-4094-9309-a00ee0e72933, 3d939a83-ff30-4fd6-b6b2-3409e5db4f98, c1a79b7c-f046-4d72-a950-93030bb207cc, 8c25d3c9-da4d-4076-a886-83c78939e4a5, 17b9adf4-37fc-40a8-83fa-2058164bcd0f, d837266c-76ac-48fd-95ae-d469cd05fe30, bfea981b-203c-42a6-b32b-1e2f646c133f, 657112e8-39a1-4682-ad12-249f017dc45c, f85784aa-d2ad-4996-8cf3-28b0f793b6c3, 236691ea-798f-47c1-9c46-7af5206f3f3c, bcb34f52-3c54-45ef-95b7-8adb9e94da73, 797a0b7a-f383-4b05-ae9d-1a6a8044d195, 44a2490a-a498-4daa-bae8-38a678b7916d, c8156f01-1346-461d-a93e-45e152255e47, 881f3375-7154-4468-a1d1-6dea8f38ef7d, 8af66308-d7ae-4359-912f-af314554ab99, d8c5407d-2512-448c-8164-223594ea0864, 6f5f52f3-8478-4b51-8612-f58610bf9ea7, 974ec14b-2aac-4902-8c20-d502cc744cbf, 1c67b5af-e56c-49fe-8543-58782a13fe1a, 5c9250ca-e819-453a-9b3c-2beea4d31232, 8bf26b47-3d49-4143-8524-6bc5b1dd5757, 56149181-371d-4b30-bf4d-31663f4aeac1, 2f9a9825-7692-4935-a5f4-b241d4443ed6]</td>\n",
       "      <td>1008</td>\n",
       "      <td>[{'prominence-score': 0.9942196531791907, 'name': 'COVID 19', 'id': 'e2e3b3e9-e552-3377-9705-e48c8be05227', 'type': 'disease', 'story-count': 172}, {'prominence-score': 0.9248554913294798, 'name': 'Long COVID', 'id': '1021d2f6-e57a-308c-b232-d6c6f2c2588e', 'type': 'disease', 'story-count': 160}, {'prominence-score': 0.8208092485549133, 'name': 'Centers for Disease Control and Prevention', 'id': '09ee2482-c523-46c2-b580-136e50e9e71d', 'type': 'organisation', 'story-count': 142}]</td>\n",
       "      <td>[{'prominence-score': 0.953757225433526, 'name': 'Healthcare Crisis', 'id': '0d6c8ffc-d2fd-47bc-b304-fff55e76cd19', 'story-count': 165}, {'prominence-score': 0.9421965317919075, 'name': 'Health Systems', 'id': 'debb293d-02f2-4fb7-9b7a-77b6f3536eb3', 'story-count': 163}, {'prominence-score': 0.8208092485549133, 'name': 'Health Technology', 'id': 'ca8578f9-8bf6-4da4-b592-dcf3223b05bb', 'story-count': 142}]</td>\n",
       "      <td>815</td>\n",
       "    </tr>\n",
       "    <tr>\n",
       "      <th>3</th>\n",
       "      <td>[hair loss, symptoms, long covid symptoms, long covid, study]</td>\n",
       "      <td>2022-07-25</td>\n",
       "      <td>607</td>\n",
       "      <td>023a-1b1bd148-97b36756-99ef6e65-e6e1f7cb</td>\n",
       "      <td>103</td>\n",
       "      <td>[5400b7d7-61a9-4b0d-aff9-c8a16a802dfc, ff0c53ad-05e6-4781-bf1d-91caf40d14d6, 3dbb9942-91da-4f7d-bc64-b34634729f45, 6e29f901-8193-44fb-8672-e9543ce70679, 0c5a8d60-9fc2-488b-9736-dcfaefedaba6, b35b2f42-f682-47c4-8c99-38465792ebc3, 5ed1e623-4cfc-4581-bf3e-f1cb71349dab, d84e1561-70cd-4b0e-a8fd-b376693befd1, 91faca59-aa2a-4bf0-812e-795087477e53, a1bb2f65-8ae2-488d-89c8-c9315d3b26dc, bd2a6755-b36b-42a3-9c96-5c6b4b3939c2, f63bad84-7f53-4160-8c17-cb017b2fc6d4, 1e82e2ac-4be7-4c08-a82e-2adf305e6731, 9feac629-feea-444b-9767-7cf738ddc887, 98f741bc-9b41-4c83-8544-f2562ded507e, 298e6394-1bd9-4cb7-8e57-9b19addc98b7, 454f7252-11f8-4f11-9ad4-aabf49155905, 3c98c86a-6819-48b9-bd00-05c9829444de, dae3bfca-c7c7-48b9-bac6-1a262172cfb6, 9f386574-b4fc-43df-a3f9-be266ab142a6, bdcd3473-88c1-4221-b543-d33076ccf530, bb15245c-8d32-4dde-8cc1-5197c7751a82, df2ada9b-a255-4d89-b72d-4d714d8ab87f, b7837bb1-f244-49c7-abd7-4d72445d9f34, 3ee383d7-62e7-4f47-bd7d-3919bc61b136, a332d5f3-65ad-4929-af93-88c6c24fffb0, 797a863f-9e3c-4324-b5d9-1de5a8d4856e, b6c4ffd1-b918-4ed3-aaed-92addd15d9c8, e3c83493-8d66-4e9a-8b35-3729acdd8d03, 553cc05c-8388-44a7-8d07-b98b9af98a4a, 4593d4a7-0bd4-4adf-b0d5-c4bcbb2d63f4, 899c5d24-769d-482e-be47-216e849884e3, 961f0e18-2009-4533-a280-76baa8e72567, dbdc66a0-e7e4-4990-a1c2-8c3874362b42, 7397603b-4d3c-449f-8020-cdf4a627c8fd, 9b019774-e558-4ceb-826c-db203e1c783b, cafdf61e-6b50-4ea4-a850-c6598753a928, c6e63deb-27ef-48b4-be83-60728a95c883, 7b36356d-520a-4aa5-9424-6fa2b87bc00e, 3e287c0d-669c-4861-916f-022447d1022a, cb4754a5-b5b0-4516-b66f-7bf50c1170ee, f2dc1a9c-66f8-4ef9-8020-bd92fb302a6d, 481ed762-729d-4df4-b8ee-a4727e4447fd, ec306b38-4040-40e9-8042-955f8d98e8bc, 382f36ae-535c-4b82-a3ee-b88605392971, 9ade798c-2edd-4c3a-8217-343108cf7800, 53305b43-ff89-4ea8-8f8d-0df82c7c4cbb, e0a3659c-cec4-4f9d-a9b6-faf322bb2762, 118281a0-efdb-4a64-994c-91967a93b32e, e87c947d-5712-4e5a-a10f-53f398a69a75, 5a0d6a68-c82b-4d4c-be34-d074dd67a832, cc26cc58-06bb-4aca-8bde-6407213854b9, 9a2446fe-558f-402d-80a3-31ede16b27b0, ed13afbb-7a1a-4954-a525-371ade58e9ac, 1dfb690c-365d-45e6-a08f-f90ea6453d54, 14e59cdd-be39-4bdf-a328-ae521346ca99, c5846469-06cd-4123-9e62-7c1b745d8b37, be60c047-d7cc-47e7-8bc6-576ded073ab8, a9f8f930-c0b9-491a-8649-5120fc7b992b, 71de5d4b-cb76-4392-a436-52997f2e877f, a4761d43-922f-4cad-897a-994b4f32a05d, 675c0357-63fc-499c-8615-7cd6a17b498b, b6c05dff-010e-4db4-b6be-99cee6d5b5de, d398e36e-93ad-4fef-b37d-c104c9ca1cd7, af5420ef-0467-4add-8c39-634480908ed4, fe1f2044-524d-4698-99dc-f674700611ba, 30d002ce-c550-4118-ac3e-a3f621f731f7, ed097490-6f7c-46fe-a2ec-9a5f841e1642, b095baa6-4424-4810-8dd3-9d0182003b20, c94bb07e-167c-47b8-a264-57d5df444932, 3fee3427-d2e4-4895-b210-8e05464ad5bf, 8d52a230-72a4-4635-b0c0-c8a54624f0a0, b2875db7-5cc4-4883-ac8a-4dcf1372030a, 0d2d6a92-6253-4cbd-898e-1ee7868b2660, dfb591b0-8195-48d7-b384-33b2abcaa057, 59953cdd-eff0-4c46-a665-8fade7ad2835, eb37e6c0-e7dc-4315-99bf-ae11019bd0ac, fe866ed7-a562-45d0-a5d7-0013b8a8fab5, e252b1ca-095f-4236-bf92-a79e1a545cd2, ac31f8a9-b8b4-4481-9943-1b023688af5f, a79d7b5b-c492-4f18-ad94-83ffb585f526, c8d048f7-7ada-4b6d-b0e1-ed53f90756bb, 0b1bca3f-c8f0-4c38-ae1f-2d9f0d809dcc, fd8f4a4a-6396-40ad-b320-19cdb3ec652c, 25efd56d-52e7-4b6e-854c-16877b14a6d4, f2b6e5e3-a4d1-498d-a7f9-3349f56a756e, aa0c9bf7-f09e-4617-acb4-f9a983b8b6d6, a92730e5-a3d2-44aa-9835-f55351d05e49, 2804a9f6-8e6f-4251-a23b-9d337ebacb0a, 7256a8e9-980d-475c-8c8c-cd8969d373a4, 33fcbdb3-817b-4806-9ce4-133330e80494, 3c9c6fbc-326d-4f6a-aac3-7343d8c1d49c, ff0b2314-8dea-4306-814c-32dc30ea7427, cf60b5c5-6407-4556-b61a-d95ee32177ac, c3cc4888-ab9f-4bc7-8c77-ac999d6cdeb4, f135221a-20ff-469c-92dd-87b1f94de386, c38dee56-b54c-4e30-9eb1-44fff01d7b89, 66f5f6da-325a-4671-b375-8f195e96d9d4, de864a0d-7c78-4104-8d19-586a32afda34, 274d83ea-2725-4af0-9dfb-9b92db9a7ff4]</td>\n",
       "      <td>772</td>\n",
       "      <td>[{'prominence-score': 1.0, 'name': 'COVID 19', 'id': 'e2e3b3e9-e552-3377-9705-e48c8be05227', 'type': 'disease', 'story-count': 103}, {'prominence-score': 1.0, 'name': 'Long COVID', 'id': '1021d2f6-e57a-308c-b232-d6c6f2c2588e', 'type': 'disease', 'story-count': 103}]</td>\n",
       "      <td>[{'prominence-score': 0.9223300970873787, 'name': 'Health Technology', 'id': 'ca8578f9-8bf6-4da4-b592-dcf3223b05bb', 'story-count': 95}, {'prominence-score': 0.8737864077669902, 'name': 'Health Systems', 'id': 'debb293d-02f2-4fb7-9b7a-77b6f3536eb3', 'story-count': 90}, {'prominence-score': 0.8446601941747572, 'name': 'Healthcare', 'id': 'ec838d2b-49db-457a-b42f-2889fb86b2eb', 'story-count': 87}, {'prominence-score': 0.7766990291262136, 'name': 'Medical Research', 'id': '9dd4cdc3-5fd6-437a-bfe4-37e91f7ab469', 'story-count': 80}, {'prominence-score': 0.6310679611650486, 'name': 'Drug Trials ', 'id': 'aaacbb95-dbd3-43aa-88f1-7a44e92f49f0', 'story-count': 65}, {'prominence-score': 0.5631067961165048, 'name': 'Medical/Clinical Trials', 'id': 'ef9f74dc-6032-4238-98f9-f43c039cdb85', 'story-count': 58}]</td>\n",
       "      <td>604</td>\n",
       "    </tr>\n",
       "    <tr>\n",
       "      <th>4</th>\n",
       "      <td>[long covid, 17 million people in europe, symptoms, years of the pandemic, 17 million, world health organization]</td>\n",
       "      <td>2022-09-13</td>\n",
       "      <td>643</td>\n",
       "      <td>026c-9bcaf816-133dc9ee-9856e927-b5f0f7d6</td>\n",
       "      <td>98</td>\n",
       "      <td>[ebda73a5-7f0a-4fbd-a44c-4c3ff6ef9567, 1c8037db-7a0e-45b6-b7e6-ffb207f1fbfb, 506ab448-b9d0-462e-bd27-5550573f39a7, 9f05ad88-a735-4d80-88b8-11959f7e53f2, 5d87999e-b23f-48a6-801b-ea8555881034, 3306cc01-982f-436f-b601-99eea1aade6f, b0d19c07-d8b1-4b96-88eb-d108c0223a2e, 97d69ad8-3c44-4943-be3e-ab10de70cbb3, 7d14e9db-5aa8-40f6-a248-2c99b33370af, 67053a06-9574-4359-a28b-63e7b9b6a917, 9a97a2de-2d88-4ccc-946e-70a459d04337, 00de2cf4-7135-49a8-95fe-a567912f7884, 9baa3d25-9432-4890-a9a4-474c69467484, b8140898-bc96-4e7b-864e-898985d07b3c, 2da97729-7d03-4747-8189-bb4957c17c11, 5cfee2cd-1d00-4bbf-b79c-da7961cdccfe, 82590951-8e04-425d-9626-14db07201106, 85e63a5d-8ebf-4f08-90ff-09156892c11e, dd8ed2bf-3dfa-4539-bbd6-6184da6ef726, c6370919-de0f-4fc0-9388-cd223b5b3b72, 57c52fcd-cb75-4e77-b644-3be5821cc445, 49a9d101-05a9-44db-8cd8-b1bdb23ce112, ac6eff7e-b32f-4072-8b0b-6d2b051ef07d, bc24ccf0-54f7-48b1-8adc-c4dc0c04f5de, 444afb82-df6f-4741-bd76-0b3cd6f72c86, 50002686-8f06-4ae9-be58-c34e5b2efc67, 3d0d0a9b-508a-4bb7-a093-2394253e0e06, 56642ed8-25cf-46d3-9366-211f7c26ec79, fd96ec34-fd8d-4a23-a5f3-51cd0aad6804, 44a81315-2c8d-4845-8a1d-ffc274b0a052, 7e667844-7dd6-4e39-8e8e-8a863dfd3e86, f52b8321-3480-4303-bfe8-1e30c56c6a1b, 3f2d175f-65a9-475c-b54f-fe689644c2d7, 08b3accf-9409-443e-a386-1ea5ea68877d, 5df42a34-5825-4ee6-8fab-9e6572fe2961, 6238e14a-e07b-4cdc-af14-63f0f52acfc2, cf5b4413-8f3c-4c5b-b6de-68d5227df2ed, a434d557-d882-404e-89d3-8296871a94f3, 7a6972ae-2a9f-4211-9aa6-b4bbd5be8fe6, 192cf97a-4056-4582-b52b-e17188c3f9ce, c9db4e78-e5cd-465c-97b7-e93bad621593, fb0a9dbd-64c6-4066-b357-23727728cb1d, c2f9ac4c-800a-44a4-b1bb-550f3906b3e7, d828d653-6260-4134-b839-0f4d66c8e92f, c8529f23-d858-484c-a322-ee00bae91db6, 3ef6242e-9b27-44d8-b46a-bb7c3249a519, fcf43006-8b25-44f0-b530-c54e00d44500, 84f06a93-e0a1-489d-9aca-3170dd523a2c, cc318020-8deb-4d61-8cd0-2f3e9fbe38b5, 233075e9-5717-4292-ae22-4cea95efbb11, 155f52dd-ba96-4415-8e3c-0338bf7fddcf, c6e7f25a-b4b9-4d0e-b7e5-29c5b93d9ae8, 13dadd26-0b35-4422-9926-f9f9315cc799, 53b5e653-17cb-4b3c-b572-7291e22b4f0d, 32db985b-6add-4969-8fb8-28a45b1b86c6, d6068962-6f7e-4226-b0f1-4bacedc3db58, ad26a3db-4ca0-444f-b370-9d1cb962f288, 7af65fd8-cb71-4662-a4cb-03c037e58d52, 5adf579c-b52f-488f-b388-1f631ef7e0d0, 6116210f-c8c2-43fd-a6dc-c693555d9f01, 9e0564cc-404c-4582-969d-0b1f5bb6145e, a0747c5b-62e0-4253-9011-8004a9d71786, 0096cda5-b0de-4b9e-b11e-a9a4b289d056, 8afb0b61-8e72-4680-be2e-abc3d84ec641, f05054ca-0bd7-4230-9661-a632bd43e56e, 77883297-77d2-41e3-8710-f329793275b4, a6d8e7b4-6f6d-4908-9160-550c64f0469a, d002c439-cbf6-4ba0-b671-77dd2478662f, 75391ff3-839b-4c80-a9b1-ce5fb0f14df7, 5747868f-a141-441f-a44b-3511814f7318, f44f6e5c-58d7-49d6-9928-5affcd035f1e, b90bbad7-2b83-4e93-9305-35e09ac9f44f, 5cc3fb0c-7db1-4ebb-9a9a-9edde1fa4146, 213d8a66-2f78-49dd-ac03-813e0c93a239, f0f8b458-e7cb-4f1b-af2c-999be8cb52e3, 2bc06d57-4716-482f-bd02-e4c960429639, 966aa916-97b3-45af-b6fc-920ceef3f8b2, b8bcbe80-b981-44ac-aaf0-b3691634a3d9, 1380eb28-2f5f-4411-b833-a753c28c74f4, 1c4e186d-8a66-47cf-aed7-ff19ff03ff76, 265cbb29-9379-457f-a41d-039a525a100a, c402618b-ad6d-4696-af7b-e1ed82b01c91, 2c68eb91-afe2-49c6-903a-08dff933d94f, 4c5f7e0f-a585-4a74-9f0c-bf6f94ba3a06, e518af56-b971-4d58-bda7-faee6e2bf666, 4caf5944-e432-4640-8ad2-99b8aa33f9c3, f4a7059f-dd16-4b04-9025-4d1cdfcdbb42, 9a6a5399-f26d-4156-b03a-e4195822589c, b44d2616-28ef-44b0-865b-7767bcbf6afb, 186d6822-595e-4d5a-87c3-2655846e5f12, 5392d202-78dd-455a-a7b3-472127b30905, 90bc55f3-11ca-49f9-b01d-7378dc6174cf, ffe524d9-efed-42a3-b796-2e154bd35be9, 0d2fb80b-80cd-4470-9907-795d76457367, be44e79e-91b0-48fa-8420-0a028947b708, 49b04ffe-13a7-4d10-8dd4-bc3682ed805e, aa86849e-b1f4-4178-b398-192595deb286, 6ccf5876-39a0-4836-8ef6-e8ad5948f0cb]</td>\n",
       "      <td>688</td>\n",
       "      <td>[{'prominence-score': 1.0, 'name': 'COVID 19', 'id': 'e2e3b3e9-e552-3377-9705-e48c8be05227', 'type': 'disease', 'story-count': 98}, {'prominence-score': 0.9489795918367347, 'name': 'Long COVID', 'id': '1021d2f6-e57a-308c-b232-d6c6f2c2588e', 'type': 'disease', 'story-count': 93}, {'prominence-score': 0.6632653061224489, 'name': 'Europe', 'id': '354e4551-c81b-334a-b6e2-41bd27166865', 'type': 'location', 'story-count': 65}]</td>\n",
       "      <td>[{'prominence-score': 0.9693877551020408, 'name': 'Health Technology', 'id': 'ca8578f9-8bf6-4da4-b592-dcf3223b05bb', 'story-count': 95}, {'prominence-score': 0.8877551020408163, 'name': 'Health Systems', 'id': 'debb293d-02f2-4fb7-9b7a-77b6f3536eb3', 'story-count': 87}, {'prominence-score': 0.673469387755102, 'name': 'Healthcare', 'id': 'ec838d2b-49db-457a-b42f-2889fb86b2eb', 'story-count': 66}, {'prominence-score': 0.5306122448979592, 'name': 'Medical Research', 'id': '9dd4cdc3-5fd6-437a-bfe4-37e91f7ab469', 'story-count': 52}, {'prominence-score': 0.5102040816326531, 'name': 'Reopening the Workplace', 'id': 'a3d4dc6e-786b-434b-9901-0df162e4d8bc', 'story-count': 50}]</td>\n",
       "      <td>603</td>\n",
       "    </tr>\n",
       "  </tbody>\n",
       "</table>\n",
       "</div>"
      ],
      "text/plain": [
       "                                                                                                              labels  \\\n",
       "0  [mild, long covid, symptoms, long covid symptoms, infection, year, study]                                           \n",
       "1  [long covid, symptoms, hair loss, dysfunction]                                                                      \n",
       "2  [long covid, deaths, cdc, 500, centers for disease control and prevention]                                          \n",
       "3  [hair loss, symptoms, long covid symptoms, long covid, study]                                                       \n",
       "4  [long covid, 17 million people in europe, symptoms, years of the pandemic, 17 million, world health organization]   \n",
       "\n",
       "         date  document-count-entitlements  \\\n",
       "0  2023-01-12  566                           \n",
       "1  2022-07-26  314                           \n",
       "2  2022-12-14  951                           \n",
       "3  2022-07-25  607                           \n",
       "4  2022-09-13  643                           \n",
       "\n",
       "                                       hash  story-count-global  \\\n",
       "0  02e5-8f8b9366-932bc9df-b1aa3367-f6f9b7c7  192                  \n",
       "1  023b-1b1bd948-b7b7c757-99ef6a79-e4c1f6a3  189                  \n",
       "2  02c8-53c99b2e-8f21c57f-9d403e16-fea17fc3  173                  \n",
       "3  023a-1b1bd148-97b36756-99ef6e65-e6e1f7cb  103                  \n",
       "4  026c-9bcaf816-133dc9ee-9856e927-b5f0f7d6  98                   \n",
       "\n",
       "                                                                                                                                                                                                                                                                                                                                                                                                                                                                                                                                                                                                                                                                                                                                                                                                                                                                                                                                                                                                                                                                                                                                                                                                                                                                                                                                                                                                                                                                                                                                                                                                                                                                                                                                                                                                                                                                                                                                                                                                                                                                                                                                                                                                                                                                                                                                                                                                                                                                                                                                                                                                                                                                                                                                                                                                                                                                                                                                                                                                                                                                                                                                                                                                                                                                                                                                                                                                                                                                                                                                                                                                                                                                                                                                                                                                                                                                                                                                                  story-ids  \\\n",
       "0  [541cf63c-f2f7-48ee-bb75-51cf32565dd1, f9727514-fae4-48d1-b081-bdcee837bae4, 3cd76e0c-232f-4ffb-aa07-25ddb8325123, aab6c7bd-8478-407b-914d-43f0091fb0c8, 345c7d57-9032-41ad-b025-044e2a5e5ff9, 2d44b59c-ef25-4da4-a915-40abac2415e2, 025c08cb-01a6-4530-83c2-51de420bba86, 057434f2-6ab7-4d54-9e15-fbe985b73eb9, 7e35cb0a-26d4-4bda-a33b-2db1d6f7d6c0, abb7a840-9361-43a4-a4e7-416f174f0d10, d3420112-1db3-472d-9d4c-43a6587f8b84, 7af32d99-50a4-42ed-b513-f292ca74a3f1, 3a7dd038-4619-4a8b-8ad9-7a1eb1efc913, dac2e327-c881-4e9f-93c0-179279be51d5, 17cdc916-2d70-45d2-aba8-8f93b2c5ca28, 9226b093-6bc8-4f8d-8f2f-427bcd0cf2bf, d00271e9-06ff-4ea5-9d7a-0c26b42429fe, 3666881c-b3b6-40e3-83b3-e045dbd3254e, 2d4dd863-c616-4715-b33f-7db56664dda4, 137de471-44f3-453a-b6a1-8a37700acdef, e2a00f00-ee8b-4582-bc64-5e563a8537ca, 85716889-4f65-48ba-93d1-8fc8323d0851, 87f3deef-ac42-4b3e-bbd7-5a6144f259ee, ea0d1c9c-8185-40ef-8e32-2725e477e222, e40e7ba8-34cb-466a-91d0-922cecb45fd9, 163b9d01-2dbf-42de-abc3-7216ce6da7e8, ae9cecb6-891c-49c9-8ab4-d41fb4aab787, 50b1501a-21ac-4808-9568-609e09373d26, fb0b0120-d591-48b7-8b26-790f8d979610, 0b5b172b-34b8-4424-967b-96d5b706653c, c67bd667-ac97-4eb2-897b-0d3e9babda29, 8fd34cc8-9d49-4410-be54-e5adf9a1b65e, 0872d765-826e-42b9-a3cb-73669fb4d38b, 69105891-d32c-47ef-b34a-1f389bebde16, d245803e-6f27-4af6-b776-66c8c4228d6c, 542ee41c-f77b-4fa1-b8d8-1f51be7ec06a, c07377e3-e991-4f48-ab31-b9f72272be82, 4ac5953e-cbed-4fcf-901f-db2b4179e7e5, cae0cbb0-d59d-4fd7-8c74-5ca3db65e484, 1c14a1bc-653d-42ba-ae90-c447eae3078f, df3b281d-ca8a-4822-84fe-65861a2c1156, 88c0e502-7f35-4bf9-b480-862ef97484c5, 1500207c-1356-4b94-9f05-5d7c01108772, fb5289e1-167b-4886-ba05-b741247a6560, b6b3b862-1f1e-4628-a09f-1d82f0f61e72, e4f9dbd1-437d-4723-9d35-5999e35b9f33, a3e3f67a-f1be-48ed-9ff2-8ffe852d0788, c00a29c2-80f1-428a-b75b-89d7729daa7c, 509847de-b392-4fa2-855d-146030a19105, 3a19902c-1e3c-48a5-ad38-a24147021758, ca35802a-a46c-486d-9da3-b9dfe39e88bb, 8ac792a9-d9d9-4d74-81aa-b990fd2f32d9, 2273d8e7-c0e6-470b-a4c3-46afefe12b63, 689e5c8e-68be-4730-8c78-08da87bcfd88, 8f0cfd5e-071f-406e-ba50-99f71aacf60f, 3491629c-452b-4bf3-9329-72126b31360c, d0a6241a-ba98-4acf-8837-07bd634f82e2, 8ad7c1ec-3489-4979-bcd7-32a984f9a5b4, e3ad15d9-ca98-4215-8b63-b518a57128c4, f6420035-e5a8-4a47-88e1-0b61a44a7c48, e29fbe46-2be4-4a72-a239-346ce38f4b2a, 4a5eb42c-e2bd-48f4-844f-6016cb5ee9d8, 57c01792-18ce-478a-9cc4-2a843174d4a5, 2f9b0004-b76d-44a5-8d4b-497124cc6956, e52b0480-fe54-4bc8-a69b-5dbba6705ee0, c2ef56eb-edd9-42f1-ba08-caed1e149ec1, 3b85c483-5b5f-4e63-9432-a89983c79bbb, 408c536f-ad6e-4340-a041-8c4facdc8fb9, e7656111-3683-443d-bcb0-654ed29769dd, a9b040e1-15ef-4a65-b93f-3bfbb440a1d4, 8f470001-0d7e-48a7-9405-6c13e69c799e, f5fffe67-9de3-45ce-b0b2-317e398e3d83, 45a0edee-b16c-4866-bb78-52acea6d0ffa, da4b53f0-c274-46e0-bc64-ef4c9ea9f2b8, cd5f3f53-4387-4889-bad1-3b0fdc5b287b, 525feb8d-f76f-48f5-89fe-6ce581bb63cb, b0272563-de5b-41ae-8a55-305dd2db13c7, 32923fda-a51a-40da-a64d-0cb1c3962d0b, 3f333d2a-fa57-405e-ba0b-5c9e72e70cc5, d351ff68-43bf-4ded-aa86-51b0c5b450a7, d7688c32-2a9d-4cf6-b49f-a282bc7535bb, 61bc2903-d412-4086-bf38-15a11cc1f2d9, bd20adfa-6c75-400f-9da2-5ede0d3b71c9, 20fbcb42-7383-4105-8a6a-532c04bace05, 80cde8f7-e675-49ce-95a0-312fdd590dff, 3abbe2b4-613d-496e-abc2-7202dc7704a1, 8446c6b0-24eb-4c37-b67b-dce9c4cb8730, 808a2755-50da-4882-8141-988d80b3aa2e, e5e9b044-68e7-4ac6-926b-e568bff7ffe2, d91bbf84-f8d7-4603-811f-d368b11cb937, 46c09577-f539-4e1c-b179-b26749eb2083, fbcd6f2c-6aa0-4e0b-9bd8-a2bff0157f11, 4f48b703-9645-47ce-95e3-64d769cc56bc, 96c87d28-72fd-49b1-8e05-819b0c3a1e96, 9dcd7785-c43c-465c-8673-7551c2f11c01, fd8e109d-327c-4ad8-a75b-73074684ac3d, db2af368-adcc-4725-83ac-67a2f0e19a22, a181e0cb-ceec-47ce-a176-8d7f563af8db, f766983b-cfb5-480a-9efe-0fd2c6d2ba12, de7cdccb-5c74-4b76-a911-0fd105726e98]   \n",
       "1  [756b07d5-4e03-4229-9db5-caf7a0339886, 343d6f9b-1984-4963-ad47-5c2f93bd2d32, b91ac429-192e-4e8d-bf19-5ea2cfc55600, 36113cf5-32a0-4e0c-bc9e-8890b80063ab, 4a35ebe4-5388-4b19-b61b-538ca4b20509, 7a621cac-07ef-4eae-bde5-051be77e8900, c71420bf-4947-431f-9129-074f076f9928, b0df07c6-9ad8-43ab-aa5d-5dba1e5dc8ac, 110bf5d3-0436-40a3-afe9-047c915e62de, 28d0363d-ac23-45eb-950d-78e72dc0d4a8, 3cd92d1f-e96f-41f2-b4de-7ab5ee374f1f, 0c23f22d-eda1-4877-b5fe-0114b19156d1, 1df6e492-1cfc-4a34-ad43-dfa7eded6454, 4ec5cce3-f998-4a80-91fe-9018fe4b21be, 5d4a4c9a-37b4-43b2-8a9c-433904c4d79d, 5c9ebdb7-0469-439f-b129-5b622298c4f9, a0bce73d-e55d-4a49-bf65-1316937c7964, 03b7fbf9-aa19-49d3-ab8f-fc1264ba177b, ca7ae116-30e7-4134-a294-f651a4cd2f7b, 2c2cce5d-1c87-4d8d-ab75-288aeb7ec1d7, 297d36ff-a01d-49f7-9248-144b7a81f16d, a7727e4a-e98b-4c01-9244-ffb05060dd65, 42c408e4-ea26-4255-a2e3-9db625890dec, bb1840bf-6a92-4385-a300-1f4e82bb0982, 0faf5599-de2c-42ef-8a93-6ae15e55e3aa, 53585525-f328-4917-885a-5b82f34f37d4, 64012985-95d4-4db5-b59a-08cc3e0766d5, 5f1421ea-8a64-40a9-8eae-2283cf2c1272, 175747fa-d4aa-4005-97a7-206ce35c82ed, bd91b778-3cc5-4042-b7f3-81c91f5aa5aa, b4763594-a6a0-44f5-a271-87728f6edd20, 34da83ee-625e-4182-b6c4-549b713c167f, 65dcfdd4-6aa4-4b9e-b183-93efd3bdbd85, 57acadd3-d9f5-4a64-934d-a239bc5782cd, 9217e10e-d2c1-461e-890e-53b43a90c13b, b056f2bb-b274-4db8-a86e-964a5ab79a19, 98c0d888-31f8-4d63-9bf4-13467238722f, fd9ba6a1-4588-46f8-8ebd-cdfd9d68c07f, 9966685c-ada7-49b0-9cab-2c49784b94fe, 211d9286-71e6-4a42-8e57-a78689f4cf7a, 95d1d3d7-6223-4c2d-bb91-47d4e576bb98, 67d3f3c7-a92f-4ada-9e52-5860c5f9fe33, dc559335-a016-4fc4-9763-909cbd960d84, 7d86d2e5-d6ec-4f9f-a6bf-82acf4c4966e, 86360754-ab0d-411f-af2e-3c3204705cb8, 33c4567e-db31-433b-8621-a9e4b71af34f, 613c9b0d-2b9c-4e9d-a6cd-1ae44221dc93, ee444f1c-8f54-4b67-8c9e-a5151321eccb, fe6ce5de-44b2-4b88-9362-b5b59520c011, 578c2496-ccfa-45f6-a3ce-ddca44804eb4, a3f0493d-43c6-4556-8791-61a685ff2e88, b483599a-689d-442a-b47e-b1e5621526a5, 0adabf53-abce-46cc-b414-4a82ecb5a343, b03b584a-5d21-4742-b6db-8f027406d5c6, fa5d4ffd-c271-41af-bf86-387f487c1087, 1028c8c8-948d-4fa5-9562-83301915975b, b131315b-9116-4b5a-b59c-99b8e2305b41, 8405fb05-618c-4e7a-8e5c-09a7e3885bd2, 9b2fcab0-f894-4367-a557-63418941e0d4, fcce4604-1d7b-44d5-a293-29cb546953eb, c020f3e6-6ebc-4aed-9bab-d63d2eaa4c7f, 007b15d6-599b-4cc6-848e-10a9dbc0e262, 65c06212-4926-47c9-94d7-e1d0e1de6bba, 053c6dbc-b38f-4ae4-ae70-79d4e05064de, 6cf482a9-0b6e-4432-b09e-6f6581de91e6, 5b515f8f-cbff-4fda-ae34-b0d9dc39fdbe, 76861d89-c3dd-4096-ae2d-c1d523d4ae7c, 7d305118-3021-47ab-9b8c-baa66efc6f39, 7bca661c-620a-42c7-a8db-9432ad843a4a, 8d267d60-b4df-4ec5-bd8a-d5643a7a47cc, 2d495595-d5b6-423e-b3ce-244244f50b4a, c54ff391-1783-4ebe-906d-657e527714d1, 64332d42-d5a6-491d-a048-645df266798d, 2ebeb828-fb90-46f3-9945-2113515e9c85, d73eaea4-435b-46aa-96e2-606ac20402f0, 55e94988-67c6-4cae-94ac-c1ff3e994c7d, ba534377-0bdd-4023-95b5-d55b1698e826, dcfd3f5f-f713-44b5-af80-b905d71f4988, 5cb2323e-3aea-4bba-9a83-67161dda1f31, d48aefee-e698-4b90-b494-1a5370349974, 00f4cd7b-8a43-4bf3-84cd-af4ddecafcea, 099ff947-da06-45ae-9caa-f482e9bc9f2a, a0473d0b-3e6b-40e9-8233-0af4595f6c2f, 113a005a-e467-4d0a-9af9-200690142cda, b4a28d26-243d-4116-a0b0-466dcae816c4, ba1efb7c-5962-4c8a-a6f3-296818cd62e1, 929735f8-368e-4bc9-ac1e-47ded5ccf44b, 48d1a941-3f5e-4038-82b6-ef5f4f04a072, 5eb30493-ca88-4680-b58c-cb660e4b1932, 0377ac4a-0de2-47e8-9967-53fdf67ce1e9, 9e63d43e-d2c1-4e1c-8b69-2f6ed742dfa0, bf9c6bfd-8124-42db-8cd0-f4446ac84155, 0bf5c407-3af8-417a-bdc8-5be7f7d285a7, 15f175ff-4aba-4617-8df8-d46b7a4cfc62, eb437e02-529f-41f4-b10f-f8393b4a71fd, 919aa993-f3db-44e7-bb09-b6693ccf790c, 0fefa769-5bf9-4165-9e7f-243b90f39a3f, 5d422d40-65c4-4bc4-906a-4def1cc12f37, 27c21fbd-d4b9-4825-a728-5f807ff1c602, 6cc26e47-45e3-420e-bb0b-7b853554013b]   \n",
       "2  [b57c9b4f-7fd5-4ca2-bb77-0f6ae19c9caf, 28bf27b0-831f-4900-802e-dad068c8591b, 7d9360bd-3a5b-415c-a14c-ca2fd4d6e643, eeb5150e-1d17-46fb-b35d-eb650e57fb0d, 51e623fa-18b2-406f-a7d0-0c03bbf27277, ea3e0403-305e-489a-8997-58e414a0a825, 9bf034b2-dae6-408f-b70d-70f7109afddb, 73acdbd8-9726-463e-8022-c2804e6290dc, a12f091b-5046-4557-b319-434a023f4edf, 2123b524-2f19-4c55-8ea1-f81f414e297d, 24856c81-0ef7-4a1b-a15b-962bc3a70968, 2fa4654a-44a3-481e-9dec-6da5f1f7d377, c084fe8c-2dac-4646-8a48-2bccbc10218a, f585f4a7-ce1f-4e41-8204-bc84fae6fe6a, 4742afec-73c6-4b19-906b-77290ffe9cd4, d2bc6cab-9404-469b-a6b6-d353acdaac22, 0995f092-8646-421b-a8f7-26365983900c, 17fffb11-8d74-4dd3-bf4a-3944ef69b694, 7ea504bf-edf3-46a9-91c6-f29075428e7c, 990a7e60-e601-4114-be3b-50aa8923c90a, e6a61b1a-ec5b-4a4c-bc0c-6bcfdb319910, e143a5ec-e2bd-4d6b-93cb-ac063847fcbb, 7ac05391-e6ac-4dd9-93a4-635028c5e161, 562e0221-1e8f-48fa-9cd0-af6d30141df4, 43f771f3-6301-478c-81d2-6499d1b2e5c2, 183f464e-4a7e-4d38-9b71-b8bbdd061f56, df2c69a9-a5a1-4000-810b-61df07c981c7, 42be3ff0-c07e-4122-908c-04d881cf3fb8, bd637d87-0862-4410-a823-33f8a4ba67cc, 4505cb68-5e46-49a4-a563-2da0e6e38b0b, 866eaf43-d7b9-44d6-a738-0849b0f74732, 3b07d281-78a2-4caf-b585-7d2d31544b07, e5b3a785-1835-4f4d-96d6-750207ab0790, 3fe1aa70-48ab-4874-84c7-7daeede84235, d8e9037d-65e2-4ac0-952c-b9ab454d8703, 0e28efb0-e060-4bf8-a07e-7fd275fd5446, c0e372eb-b6ca-440f-8eb3-cba8ae7e88f3, 9ef558ec-8fe3-4273-802a-992dfc6979eb, d7a16c0e-e714-4092-9e73-39fbd4f1bc04, 0b57b771-c272-4650-b3c5-35c1b544a3f0, 79a8b8db-67f5-4c47-8cef-b29c2bdaa3f4, 3de72430-4607-40a4-a445-abe7e21cb9bf, fd49e39a-b6b5-4f10-9968-b261f7c9a522, 1dfc4a6f-df94-4274-8916-1a09a9425c41, 06268b3a-ab44-4645-bea0-96ffca2634d6, 3e888532-8d32-4b87-8d9e-57f8aad5cac9, f57a9771-fd48-4625-889b-867ab0c23b7f, bfa68d5b-f356-4c6b-a7cf-289b4b2befc1, db48ee7f-7366-451b-8726-febc816e6af1, 6f78e630-5593-429c-a011-0201043373f9, 03ce3280-3a3c-4a93-a976-46b672ee4b8c, 17ea78ed-e4d0-43cf-b99c-18ac8929e2ba, 2f1705e9-7a3e-4c23-86d7-50cb528291f9, 9437f17c-e768-45f3-ac9c-46f50cd54242, ee66a8de-2b85-4fe6-8461-943f54859446, 26a3af47-a4eb-4311-992c-77db1f561937, 6f1e1b89-e14c-4569-91f3-7741bc862a5d, bd892885-72a1-473f-a6cb-e80787b706b6, 2c756fcf-28cc-4b5d-81a2-6c951adf1546, 95cc5b8a-e6bf-4214-9957-572bf4a74440, 7d17c9b0-fbf8-442a-8308-9d531defa675, 1c5d0be3-e937-4b36-9625-d9d730ab1de5, f94550aa-cf84-427d-9e28-01b75cb72f3a, 6ffdcbfd-c522-4dff-983c-6500a944b96a, 38b91dce-ab5c-44dc-9581-d8bbb7720c21, 814d4688-bf98-411c-a83e-b9fa34602a6e, 47ee397a-49c8-40f6-9509-da7d04d37a95, 7310ee4f-1f5e-42a9-9dea-b87fc49e0ca7, 3a2341c6-a712-493f-ae69-38ce824b33aa, 733e53eb-e004-4d0a-8117-cc595c45c536, 6c67bd29-2351-4b0c-8ae8-39a4f61dd67b, e393cd0e-9922-44d2-a163-a3965b3245ab, 1c6181e3-458f-4dea-9277-d3c2ca73f94f, ee1c1621-b3f0-4b4f-adf6-8bf3cac953e0, a3609f55-cd35-4c97-8d4e-8bbad4102a31, 517dd817-2860-43d2-ba9f-e4dd9adbf967, f6857c10-9164-4094-9309-a00ee0e72933, 3d939a83-ff30-4fd6-b6b2-3409e5db4f98, c1a79b7c-f046-4d72-a950-93030bb207cc, 8c25d3c9-da4d-4076-a886-83c78939e4a5, 17b9adf4-37fc-40a8-83fa-2058164bcd0f, d837266c-76ac-48fd-95ae-d469cd05fe30, bfea981b-203c-42a6-b32b-1e2f646c133f, 657112e8-39a1-4682-ad12-249f017dc45c, f85784aa-d2ad-4996-8cf3-28b0f793b6c3, 236691ea-798f-47c1-9c46-7af5206f3f3c, bcb34f52-3c54-45ef-95b7-8adb9e94da73, 797a0b7a-f383-4b05-ae9d-1a6a8044d195, 44a2490a-a498-4daa-bae8-38a678b7916d, c8156f01-1346-461d-a93e-45e152255e47, 881f3375-7154-4468-a1d1-6dea8f38ef7d, 8af66308-d7ae-4359-912f-af314554ab99, d8c5407d-2512-448c-8164-223594ea0864, 6f5f52f3-8478-4b51-8612-f58610bf9ea7, 974ec14b-2aac-4902-8c20-d502cc744cbf, 1c67b5af-e56c-49fe-8543-58782a13fe1a, 5c9250ca-e819-453a-9b3c-2beea4d31232, 8bf26b47-3d49-4143-8524-6bc5b1dd5757, 56149181-371d-4b30-bf4d-31663f4aeac1, 2f9a9825-7692-4935-a5f4-b241d4443ed6]   \n",
       "3  [5400b7d7-61a9-4b0d-aff9-c8a16a802dfc, ff0c53ad-05e6-4781-bf1d-91caf40d14d6, 3dbb9942-91da-4f7d-bc64-b34634729f45, 6e29f901-8193-44fb-8672-e9543ce70679, 0c5a8d60-9fc2-488b-9736-dcfaefedaba6, b35b2f42-f682-47c4-8c99-38465792ebc3, 5ed1e623-4cfc-4581-bf3e-f1cb71349dab, d84e1561-70cd-4b0e-a8fd-b376693befd1, 91faca59-aa2a-4bf0-812e-795087477e53, a1bb2f65-8ae2-488d-89c8-c9315d3b26dc, bd2a6755-b36b-42a3-9c96-5c6b4b3939c2, f63bad84-7f53-4160-8c17-cb017b2fc6d4, 1e82e2ac-4be7-4c08-a82e-2adf305e6731, 9feac629-feea-444b-9767-7cf738ddc887, 98f741bc-9b41-4c83-8544-f2562ded507e, 298e6394-1bd9-4cb7-8e57-9b19addc98b7, 454f7252-11f8-4f11-9ad4-aabf49155905, 3c98c86a-6819-48b9-bd00-05c9829444de, dae3bfca-c7c7-48b9-bac6-1a262172cfb6, 9f386574-b4fc-43df-a3f9-be266ab142a6, bdcd3473-88c1-4221-b543-d33076ccf530, bb15245c-8d32-4dde-8cc1-5197c7751a82, df2ada9b-a255-4d89-b72d-4d714d8ab87f, b7837bb1-f244-49c7-abd7-4d72445d9f34, 3ee383d7-62e7-4f47-bd7d-3919bc61b136, a332d5f3-65ad-4929-af93-88c6c24fffb0, 797a863f-9e3c-4324-b5d9-1de5a8d4856e, b6c4ffd1-b918-4ed3-aaed-92addd15d9c8, e3c83493-8d66-4e9a-8b35-3729acdd8d03, 553cc05c-8388-44a7-8d07-b98b9af98a4a, 4593d4a7-0bd4-4adf-b0d5-c4bcbb2d63f4, 899c5d24-769d-482e-be47-216e849884e3, 961f0e18-2009-4533-a280-76baa8e72567, dbdc66a0-e7e4-4990-a1c2-8c3874362b42, 7397603b-4d3c-449f-8020-cdf4a627c8fd, 9b019774-e558-4ceb-826c-db203e1c783b, cafdf61e-6b50-4ea4-a850-c6598753a928, c6e63deb-27ef-48b4-be83-60728a95c883, 7b36356d-520a-4aa5-9424-6fa2b87bc00e, 3e287c0d-669c-4861-916f-022447d1022a, cb4754a5-b5b0-4516-b66f-7bf50c1170ee, f2dc1a9c-66f8-4ef9-8020-bd92fb302a6d, 481ed762-729d-4df4-b8ee-a4727e4447fd, ec306b38-4040-40e9-8042-955f8d98e8bc, 382f36ae-535c-4b82-a3ee-b88605392971, 9ade798c-2edd-4c3a-8217-343108cf7800, 53305b43-ff89-4ea8-8f8d-0df82c7c4cbb, e0a3659c-cec4-4f9d-a9b6-faf322bb2762, 118281a0-efdb-4a64-994c-91967a93b32e, e87c947d-5712-4e5a-a10f-53f398a69a75, 5a0d6a68-c82b-4d4c-be34-d074dd67a832, cc26cc58-06bb-4aca-8bde-6407213854b9, 9a2446fe-558f-402d-80a3-31ede16b27b0, ed13afbb-7a1a-4954-a525-371ade58e9ac, 1dfb690c-365d-45e6-a08f-f90ea6453d54, 14e59cdd-be39-4bdf-a328-ae521346ca99, c5846469-06cd-4123-9e62-7c1b745d8b37, be60c047-d7cc-47e7-8bc6-576ded073ab8, a9f8f930-c0b9-491a-8649-5120fc7b992b, 71de5d4b-cb76-4392-a436-52997f2e877f, a4761d43-922f-4cad-897a-994b4f32a05d, 675c0357-63fc-499c-8615-7cd6a17b498b, b6c05dff-010e-4db4-b6be-99cee6d5b5de, d398e36e-93ad-4fef-b37d-c104c9ca1cd7, af5420ef-0467-4add-8c39-634480908ed4, fe1f2044-524d-4698-99dc-f674700611ba, 30d002ce-c550-4118-ac3e-a3f621f731f7, ed097490-6f7c-46fe-a2ec-9a5f841e1642, b095baa6-4424-4810-8dd3-9d0182003b20, c94bb07e-167c-47b8-a264-57d5df444932, 3fee3427-d2e4-4895-b210-8e05464ad5bf, 8d52a230-72a4-4635-b0c0-c8a54624f0a0, b2875db7-5cc4-4883-ac8a-4dcf1372030a, 0d2d6a92-6253-4cbd-898e-1ee7868b2660, dfb591b0-8195-48d7-b384-33b2abcaa057, 59953cdd-eff0-4c46-a665-8fade7ad2835, eb37e6c0-e7dc-4315-99bf-ae11019bd0ac, fe866ed7-a562-45d0-a5d7-0013b8a8fab5, e252b1ca-095f-4236-bf92-a79e1a545cd2, ac31f8a9-b8b4-4481-9943-1b023688af5f, a79d7b5b-c492-4f18-ad94-83ffb585f526, c8d048f7-7ada-4b6d-b0e1-ed53f90756bb, 0b1bca3f-c8f0-4c38-ae1f-2d9f0d809dcc, fd8f4a4a-6396-40ad-b320-19cdb3ec652c, 25efd56d-52e7-4b6e-854c-16877b14a6d4, f2b6e5e3-a4d1-498d-a7f9-3349f56a756e, aa0c9bf7-f09e-4617-acb4-f9a983b8b6d6, a92730e5-a3d2-44aa-9835-f55351d05e49, 2804a9f6-8e6f-4251-a23b-9d337ebacb0a, 7256a8e9-980d-475c-8c8c-cd8969d373a4, 33fcbdb3-817b-4806-9ce4-133330e80494, 3c9c6fbc-326d-4f6a-aac3-7343d8c1d49c, ff0b2314-8dea-4306-814c-32dc30ea7427, cf60b5c5-6407-4556-b61a-d95ee32177ac, c3cc4888-ab9f-4bc7-8c77-ac999d6cdeb4, f135221a-20ff-469c-92dd-87b1f94de386, c38dee56-b54c-4e30-9eb1-44fff01d7b89, 66f5f6da-325a-4671-b375-8f195e96d9d4, de864a0d-7c78-4104-8d19-586a32afda34, 274d83ea-2725-4af0-9dfb-9b92db9a7ff4]   \n",
       "4  [ebda73a5-7f0a-4fbd-a44c-4c3ff6ef9567, 1c8037db-7a0e-45b6-b7e6-ffb207f1fbfb, 506ab448-b9d0-462e-bd27-5550573f39a7, 9f05ad88-a735-4d80-88b8-11959f7e53f2, 5d87999e-b23f-48a6-801b-ea8555881034, 3306cc01-982f-436f-b601-99eea1aade6f, b0d19c07-d8b1-4b96-88eb-d108c0223a2e, 97d69ad8-3c44-4943-be3e-ab10de70cbb3, 7d14e9db-5aa8-40f6-a248-2c99b33370af, 67053a06-9574-4359-a28b-63e7b9b6a917, 9a97a2de-2d88-4ccc-946e-70a459d04337, 00de2cf4-7135-49a8-95fe-a567912f7884, 9baa3d25-9432-4890-a9a4-474c69467484, b8140898-bc96-4e7b-864e-898985d07b3c, 2da97729-7d03-4747-8189-bb4957c17c11, 5cfee2cd-1d00-4bbf-b79c-da7961cdccfe, 82590951-8e04-425d-9626-14db07201106, 85e63a5d-8ebf-4f08-90ff-09156892c11e, dd8ed2bf-3dfa-4539-bbd6-6184da6ef726, c6370919-de0f-4fc0-9388-cd223b5b3b72, 57c52fcd-cb75-4e77-b644-3be5821cc445, 49a9d101-05a9-44db-8cd8-b1bdb23ce112, ac6eff7e-b32f-4072-8b0b-6d2b051ef07d, bc24ccf0-54f7-48b1-8adc-c4dc0c04f5de, 444afb82-df6f-4741-bd76-0b3cd6f72c86, 50002686-8f06-4ae9-be58-c34e5b2efc67, 3d0d0a9b-508a-4bb7-a093-2394253e0e06, 56642ed8-25cf-46d3-9366-211f7c26ec79, fd96ec34-fd8d-4a23-a5f3-51cd0aad6804, 44a81315-2c8d-4845-8a1d-ffc274b0a052, 7e667844-7dd6-4e39-8e8e-8a863dfd3e86, f52b8321-3480-4303-bfe8-1e30c56c6a1b, 3f2d175f-65a9-475c-b54f-fe689644c2d7, 08b3accf-9409-443e-a386-1ea5ea68877d, 5df42a34-5825-4ee6-8fab-9e6572fe2961, 6238e14a-e07b-4cdc-af14-63f0f52acfc2, cf5b4413-8f3c-4c5b-b6de-68d5227df2ed, a434d557-d882-404e-89d3-8296871a94f3, 7a6972ae-2a9f-4211-9aa6-b4bbd5be8fe6, 192cf97a-4056-4582-b52b-e17188c3f9ce, c9db4e78-e5cd-465c-97b7-e93bad621593, fb0a9dbd-64c6-4066-b357-23727728cb1d, c2f9ac4c-800a-44a4-b1bb-550f3906b3e7, d828d653-6260-4134-b839-0f4d66c8e92f, c8529f23-d858-484c-a322-ee00bae91db6, 3ef6242e-9b27-44d8-b46a-bb7c3249a519, fcf43006-8b25-44f0-b530-c54e00d44500, 84f06a93-e0a1-489d-9aca-3170dd523a2c, cc318020-8deb-4d61-8cd0-2f3e9fbe38b5, 233075e9-5717-4292-ae22-4cea95efbb11, 155f52dd-ba96-4415-8e3c-0338bf7fddcf, c6e7f25a-b4b9-4d0e-b7e5-29c5b93d9ae8, 13dadd26-0b35-4422-9926-f9f9315cc799, 53b5e653-17cb-4b3c-b572-7291e22b4f0d, 32db985b-6add-4969-8fb8-28a45b1b86c6, d6068962-6f7e-4226-b0f1-4bacedc3db58, ad26a3db-4ca0-444f-b370-9d1cb962f288, 7af65fd8-cb71-4662-a4cb-03c037e58d52, 5adf579c-b52f-488f-b388-1f631ef7e0d0, 6116210f-c8c2-43fd-a6dc-c693555d9f01, 9e0564cc-404c-4582-969d-0b1f5bb6145e, a0747c5b-62e0-4253-9011-8004a9d71786, 0096cda5-b0de-4b9e-b11e-a9a4b289d056, 8afb0b61-8e72-4680-be2e-abc3d84ec641, f05054ca-0bd7-4230-9661-a632bd43e56e, 77883297-77d2-41e3-8710-f329793275b4, a6d8e7b4-6f6d-4908-9160-550c64f0469a, d002c439-cbf6-4ba0-b671-77dd2478662f, 75391ff3-839b-4c80-a9b1-ce5fb0f14df7, 5747868f-a141-441f-a44b-3511814f7318, f44f6e5c-58d7-49d6-9928-5affcd035f1e, b90bbad7-2b83-4e93-9305-35e09ac9f44f, 5cc3fb0c-7db1-4ebb-9a9a-9edde1fa4146, 213d8a66-2f78-49dd-ac03-813e0c93a239, f0f8b458-e7cb-4f1b-af2c-999be8cb52e3, 2bc06d57-4716-482f-bd02-e4c960429639, 966aa916-97b3-45af-b6fc-920ceef3f8b2, b8bcbe80-b981-44ac-aaf0-b3691634a3d9, 1380eb28-2f5f-4411-b833-a753c28c74f4, 1c4e186d-8a66-47cf-aed7-ff19ff03ff76, 265cbb29-9379-457f-a41d-039a525a100a, c402618b-ad6d-4696-af7b-e1ed82b01c91, 2c68eb91-afe2-49c6-903a-08dff933d94f, 4c5f7e0f-a585-4a74-9f0c-bf6f94ba3a06, e518af56-b971-4d58-bda7-faee6e2bf666, 4caf5944-e432-4640-8ad2-99b8aa33f9c3, f4a7059f-dd16-4b04-9025-4d1cdfcdbb42, 9a6a5399-f26d-4156-b03a-e4195822589c, b44d2616-28ef-44b0-865b-7767bcbf6afb, 186d6822-595e-4d5a-87c3-2655846e5f12, 5392d202-78dd-455a-a7b3-472127b30905, 90bc55f3-11ca-49f9-b01d-7378dc6174cf, ffe524d9-efed-42a3-b796-2e154bd35be9, 0d2fb80b-80cd-4470-9907-795d76457367, be44e79e-91b0-48fa-8420-0a028947b708, 49b04ffe-13a7-4d10-8dd4-bc3682ed805e, aa86849e-b1f4-4178-b398-192595deb286, 6ccf5876-39a0-4836-8ef6-e8ad5948f0cb]                                                                               \n",
       "\n",
       "   document-count-global  \\\n",
       "0  608                     \n",
       "1  525                     \n",
       "2  1008                    \n",
       "3  772                     \n",
       "4  688                     \n",
       "\n",
       "                                                                                                                                                                                                                                                                                                                                                                                                                                                                                             entities  \\\n",
       "0  [{'prominence-score': 1.0, 'name': 'COVID 19', 'id': 'e2e3b3e9-e552-3377-9705-e48c8be05227', 'type': 'disease', 'story-count': 192}, {'prominence-score': 1.0, 'name': 'Long COVID', 'id': '1021d2f6-e57a-308c-b232-d6c6f2c2588e', 'type': 'disease', 'story-count': 192}]                                                                                                                                                                                                                           \n",
       "1  [{'prominence-score': 1.0, 'name': 'COVID 19', 'id': 'e2e3b3e9-e552-3377-9705-e48c8be05227', 'type': 'disease', 'story-count': 189}, {'prominence-score': 1.0, 'name': 'Long COVID', 'id': '1021d2f6-e57a-308c-b232-d6c6f2c2588e', 'type': 'disease', 'story-count': 189}]                                                                                                                                                                                                                           \n",
       "2  [{'prominence-score': 0.9942196531791907, 'name': 'COVID 19', 'id': 'e2e3b3e9-e552-3377-9705-e48c8be05227', 'type': 'disease', 'story-count': 172}, {'prominence-score': 0.9248554913294798, 'name': 'Long COVID', 'id': '1021d2f6-e57a-308c-b232-d6c6f2c2588e', 'type': 'disease', 'story-count': 160}, {'prominence-score': 0.8208092485549133, 'name': 'Centers for Disease Control and Prevention', 'id': '09ee2482-c523-46c2-b580-136e50e9e71d', 'type': 'organisation', 'story-count': 142}]   \n",
       "3  [{'prominence-score': 1.0, 'name': 'COVID 19', 'id': 'e2e3b3e9-e552-3377-9705-e48c8be05227', 'type': 'disease', 'story-count': 103}, {'prominence-score': 1.0, 'name': 'Long COVID', 'id': '1021d2f6-e57a-308c-b232-d6c6f2c2588e', 'type': 'disease', 'story-count': 103}]                                                                                                                                                                                                                           \n",
       "4  [{'prominence-score': 1.0, 'name': 'COVID 19', 'id': 'e2e3b3e9-e552-3377-9705-e48c8be05227', 'type': 'disease', 'story-count': 98}, {'prominence-score': 0.9489795918367347, 'name': 'Long COVID', 'id': '1021d2f6-e57a-308c-b232-d6c6f2c2588e', 'type': 'disease', 'story-count': 93}, {'prominence-score': 0.6632653061224489, 'name': 'Europe', 'id': '354e4551-c81b-334a-b6e2-41bd27166865', 'type': 'location', 'story-count': 65}]                                                             \n",
       "\n",
       "                                                                                                                                                                                                                                                                                                                                                                                                                                                                                                                                                                                                                                                                                                                                                                                                                                   topics  \\\n",
       "0  [{'prominence-score': 0.953125, 'name': 'Health Technology', 'id': 'ca8578f9-8bf6-4da4-b592-dcf3223b05bb', 'story-count': 183}, {'prominence-score': 0.9479166666666666, 'name': 'Health Systems', 'id': 'debb293d-02f2-4fb7-9b7a-77b6f3536eb3', 'story-count': 182}, {'prominence-score': 0.8645833333333334, 'name': 'Healthcare', 'id': 'ec838d2b-49db-457a-b42f-2889fb86b2eb', 'story-count': 166}, {'prominence-score': 0.828125, 'name': 'Medical Research', 'id': '9dd4cdc3-5fd6-437a-bfe4-37e91f7ab469', 'story-count': 159}, {'prominence-score': 0.5729166666666666, 'name': 'Drug Trials ', 'id': 'aaacbb95-dbd3-43aa-88f1-7a44e92f49f0', 'story-count': 110}]                                                                                                                                                                \n",
       "1  [{'prominence-score': 0.873015873015873, 'name': 'Health Technology', 'id': 'ca8578f9-8bf6-4da4-b592-dcf3223b05bb', 'story-count': 165}, {'prominence-score': 0.7936507936507936, 'name': 'Health Systems', 'id': 'debb293d-02f2-4fb7-9b7a-77b6f3536eb3', 'story-count': 150}, {'prominence-score': 0.7566137566137566, 'name': 'Medical Research', 'id': '9dd4cdc3-5fd6-437a-bfe4-37e91f7ab469', 'story-count': 143}, {'prominence-score': 0.7513227513227513, 'name': 'Healthcare', 'id': 'ec838d2b-49db-457a-b42f-2889fb86b2eb', 'story-count': 142}]                                                                                                                                                                                                                                                                                 \n",
       "2  [{'prominence-score': 0.953757225433526, 'name': 'Healthcare Crisis', 'id': '0d6c8ffc-d2fd-47bc-b304-fff55e76cd19', 'story-count': 165}, {'prominence-score': 0.9421965317919075, 'name': 'Health Systems', 'id': 'debb293d-02f2-4fb7-9b7a-77b6f3536eb3', 'story-count': 163}, {'prominence-score': 0.8208092485549133, 'name': 'Health Technology', 'id': 'ca8578f9-8bf6-4da4-b592-dcf3223b05bb', 'story-count': 142}]                                                                                                                                                                                                                                                                                                                                                                                                                  \n",
       "3  [{'prominence-score': 0.9223300970873787, 'name': 'Health Technology', 'id': 'ca8578f9-8bf6-4da4-b592-dcf3223b05bb', 'story-count': 95}, {'prominence-score': 0.8737864077669902, 'name': 'Health Systems', 'id': 'debb293d-02f2-4fb7-9b7a-77b6f3536eb3', 'story-count': 90}, {'prominence-score': 0.8446601941747572, 'name': 'Healthcare', 'id': 'ec838d2b-49db-457a-b42f-2889fb86b2eb', 'story-count': 87}, {'prominence-score': 0.7766990291262136, 'name': 'Medical Research', 'id': '9dd4cdc3-5fd6-437a-bfe4-37e91f7ab469', 'story-count': 80}, {'prominence-score': 0.6310679611650486, 'name': 'Drug Trials ', 'id': 'aaacbb95-dbd3-43aa-88f1-7a44e92f49f0', 'story-count': 65}, {'prominence-score': 0.5631067961165048, 'name': 'Medical/Clinical Trials', 'id': 'ef9f74dc-6032-4238-98f9-f43c039cdb85', 'story-count': 58}]   \n",
       "4  [{'prominence-score': 0.9693877551020408, 'name': 'Health Technology', 'id': 'ca8578f9-8bf6-4da4-b592-dcf3223b05bb', 'story-count': 95}, {'prominence-score': 0.8877551020408163, 'name': 'Health Systems', 'id': 'debb293d-02f2-4fb7-9b7a-77b6f3536eb3', 'story-count': 87}, {'prominence-score': 0.673469387755102, 'name': 'Healthcare', 'id': 'ec838d2b-49db-457a-b42f-2889fb86b2eb', 'story-count': 66}, {'prominence-score': 0.5306122448979592, 'name': 'Medical Research', 'id': '9dd4cdc3-5fd6-437a-bfe4-37e91f7ab469', 'story-count': 52}, {'prominence-score': 0.5102040816326531, 'name': 'Reopening the Workplace', 'id': 'a3d4dc6e-786b-434b-9901-0df162e4d8bc', 'story-count': 50}]                                                                                                                                       \n",
       "\n",
       "   source-count-global  \n",
       "0  479                  \n",
       "1  420                  \n",
       "2  815                  \n",
       "3  604                  \n",
       "4  603                  "
      ]
     },
     "execution_count": 8,
     "metadata": {},
     "output_type": "execute_result"
    }
   ],
   "source": [
    "pd.json_normalize(events)"
   ]
  },
  {
   "cell_type": "markdown",
   "id": "e0057ab8",
   "metadata": {},
   "source": [
    "## Fetching Headlines for Events\n",
    "\n",
    "For each event let's take the list of `story-ids` and transform them into a list of headlines using the function below."
   ]
  },
  {
   "cell_type": "code",
   "execution_count": 9,
   "id": "761e3beb",
   "metadata": {},
   "outputs": [],
   "source": [
    "def search_by_story_id(story_ids: list, entity_ids: list, topic_ids: list, source_ids: list = None,  n=3):\n",
    "    \"\"\"\n",
    "    return one document for each story-id in \"story_ids\" \n",
    "    return the results in the same order as story_ids\n",
    "    \"\"\"\n",
    "    # record the ordering of the story_ids\n",
    "    rank = {story_id: rnk for rnk, story_id in enumerate(story_ids)}\n",
    "\n",
    "    # query the seach endpoint\n",
    "    params = {\n",
    "        'where': {\n",
    "            'story-id': {\n",
    "                'any': list(story_ids)\n",
    "            },\n",
    "        },\n",
    "        'size': 500\n",
    "    }\n",
    "\n",
    "    if entity_ids:\n",
    "        params['where']['entities'] = {\n",
    "            'id': {'any': entity_ids},\n",
    "            'salient-only': True\n",
    "        }\n",
    "        \n",
    "    if topic_ids:\n",
    "        params['where']['topics'] = {\n",
    "            'id': {'any': topic_ids}\n",
    "        }\n",
    "    \n",
    "    if source_ids:\n",
    "        params['where']['source'] = {\n",
    "            'id': {'any': source_ids}\n",
    "        }\n",
    "\n",
    "    response = (item['document'] for item in signal_api.search(params))\n",
    "\n",
    "    # put the results in the same order as the story IDs\n",
    "    ordered = sorted(response, key=lambda document: rank[document['story-id']])\n",
    "\n",
    "    # deduplicate the results\n",
    "    grouped = islice(groupby(ordered, lambda x: x['story-id']), n)\n",
    "    return [next(group) for _, group in grouped]"
   ]
  },
  {
   "cell_type": "markdown",
   "id": "534aedf5",
   "metadata": {},
   "source": [
    "### Get documents from the Search API"
   ]
  },
  {
   "cell_type": "code",
   "execution_count": 10,
   "id": "233f8b5c",
   "metadata": {},
   "outputs": [
    {
     "name": "stderr",
     "output_type": "stream",
     "text": [
      "Calling Search Endpoint: 100%|██████████| 5/5 [00:21<00:00,  4.25s/it]\n"
     ]
    }
   ],
   "source": [
    "for event in tqdm(events, desc='Calling Search Endpoint'):\n",
    "    # arg = {\n",
    "    #     'story_ids': event['story-ids'],\n",
    "    #     'entity_ids': list(entities.values()), \n",
    "    #     'topic_ids': list(topics.values())\n",
    "    # }\n",
    "\n",
    "    # if sources:\n",
    "    #     arg['source_ids'] = list(sources.values())\n",
    "    event['documents'] = search_by_story_id(\n",
    "        story_ids=event['story-ids'], \n",
    "        entity_ids=list(entities.values()) if entities else None, \n",
    "        topic_ids=list(topics.values()) if topics else None,\n",
    "        source_ids=list(sources.values()) if sources else None\n",
    "    )\n",
    "    "
   ]
  },
  {
   "cell_type": "markdown",
   "id": "0efd6f3a",
   "metadata": {},
   "source": [
    "## Display Events with Headlines\n",
    "\n",
    "Now let's view the events with their respective headlines"
   ]
  },
  {
   "cell_type": "code",
   "execution_count": 11,
   "id": "46816b42",
   "metadata": {},
   "outputs": [
    {
     "data": {
      "text/html": [
       "<div>\n",
       "<style scoped>\n",
       "    .dataframe tbody tr th:only-of-type {\n",
       "        vertical-align: middle;\n",
       "    }\n",
       "\n",
       "    .dataframe tbody tr th {\n",
       "        vertical-align: top;\n",
       "    }\n",
       "\n",
       "    .dataframe thead th {\n",
       "        text-align: right;\n",
       "    }\n",
       "</style>\n",
       "<table border=\"1\" class=\"dataframe tex2jax_ignore\">\n",
       "  <thead>\n",
       "    <tr style=\"text-align: right;\">\n",
       "      <th></th>\n",
       "      <th>hash</th>\n",
       "      <th>date</th>\n",
       "      <th>story-count-global</th>\n",
       "      <th>source-count-global</th>\n",
       "      <th>entities</th>\n",
       "      <th>topics</th>\n",
       "      <th>labels</th>\n",
       "      <th>headlines</th>\n",
       "    </tr>\n",
       "  </thead>\n",
       "  <tbody>\n",
       "    <tr>\n",
       "      <th>0</th>\n",
       "      <td>02e5-8f8b9366-932bc9df-b1aa3367-f6f9b7c7</td>\n",
       "      <td>2023-01-12</td>\n",
       "      <td>192</td>\n",
       "      <td>479</td>\n",
       "      <td>[COVID 19, Long COVID]</td>\n",
       "      <td>[Health Technology, Health Systems, Healthcare]</td>\n",
       "      <td>[mild, long covid, symptoms, long covid symptoms, infection, year, study]</td>\n",
       "      <td>[Study found that symptoms of long COVID disappear within a year, in mild cases, Long COVID symptoms go away within a year, in mild cases, Majority of long covid symptoms in mild cases may disappear after one year | coronavirus]</td>\n",
       "    </tr>\n",
       "    <tr>\n",
       "      <th>1</th>\n",
       "      <td>023b-1b1bd948-b7b7c757-99ef6a79-e4c1f6a3</td>\n",
       "      <td>2022-07-26</td>\n",
       "      <td>189</td>\n",
       "      <td>420</td>\n",
       "      <td>[COVID 19, Long COVID]</td>\n",
       "      <td>[Health Technology, Health Systems, Medical Research]</td>\n",
       "      <td>[long covid, symptoms, hair loss, dysfunction]</td>\n",
       "      <td>[News Hair Loss and Low Sex Drive Added to List of Long Covid Symptoms Research from the University of Birmingham has revealed that symptoms of long COVID are broader than expected and include hair loss and sexual dysfunction., Hair loss and sexual dysfunction are new long COVID symptoms, Hair loss, low sex drive among long Covid symptoms: Study]</td>\n",
       "    </tr>\n",
       "    <tr>\n",
       "      <th>2</th>\n",
       "      <td>02c8-53c99b2e-8f21c57f-9d403e16-fea17fc3</td>\n",
       "      <td>2022-12-14</td>\n",
       "      <td>173</td>\n",
       "      <td>815</td>\n",
       "      <td>[COVID 19, Long COVID, Centers for Disease Control and Prevention]</td>\n",
       "      <td>[Healthcare Crisis, Health Systems, Health Technology]</td>\n",
       "      <td>[long covid, deaths, cdc, 500, centers for disease control and prevention]</td>\n",
       "      <td>[CDC: Long COVID behind more than 3,500 deaths, CDC: Long COVID behind more than 3,500 deaths, CDC: Long COVID behind more than 3,500 deaths]</td>\n",
       "    </tr>\n",
       "    <tr>\n",
       "      <th>3</th>\n",
       "      <td>023a-1b1bd148-97b36756-99ef6e65-e6e1f7cb</td>\n",
       "      <td>2022-07-25</td>\n",
       "      <td>103</td>\n",
       "      <td>604</td>\n",
       "      <td>[COVID 19, Long COVID]</td>\n",
       "      <td>[Health Technology, Health Systems, Healthcare]</td>\n",
       "      <td>[hair loss, symptoms, long covid symptoms, long covid, study]</td>\n",
       "      <td>[Hair and libido loss join fatigue and brain fog among wider list of Long COVID symptoms, Hair loss and decreased sex drive on broader list of long Covid symptoms - study, Hair and libido loss join fatigue and brain fog among wider list of Long Covid symptoms]</td>\n",
       "    </tr>\n",
       "    <tr>\n",
       "      <th>4</th>\n",
       "      <td>026c-9bcaf816-133dc9ee-9856e927-b5f0f7d6</td>\n",
       "      <td>2022-09-13</td>\n",
       "      <td>98</td>\n",
       "      <td>603</td>\n",
       "      <td>[COVID 19, Long COVID, Europe]</td>\n",
       "      <td>[Health Technology, Health Systems, Healthcare]</td>\n",
       "      <td>[long covid, 17 million people in europe, symptoms, years of the pandemic, 17 million, world health organization]</td>\n",
       "      <td>[17 million people in Europe got long Covid in the first two years of the pandemic, WHO: 17 million Europeans have long covid symptoms, WHO says 17 million people in Europe have long Covid symptoms]</td>\n",
       "    </tr>\n",
       "  </tbody>\n",
       "</table>\n",
       "</div>"
      ],
      "text/plain": [
       "                                       hash        date  story-count-global  \\\n",
       "0  02e5-8f8b9366-932bc9df-b1aa3367-f6f9b7c7  2023-01-12  192                  \n",
       "1  023b-1b1bd948-b7b7c757-99ef6a79-e4c1f6a3  2022-07-26  189                  \n",
       "2  02c8-53c99b2e-8f21c57f-9d403e16-fea17fc3  2022-12-14  173                  \n",
       "3  023a-1b1bd148-97b36756-99ef6e65-e6e1f7cb  2022-07-25  103                  \n",
       "4  026c-9bcaf816-133dc9ee-9856e927-b5f0f7d6  2022-09-13  98                   \n",
       "\n",
       "   source-count-global  \\\n",
       "0  479                   \n",
       "1  420                   \n",
       "2  815                   \n",
       "3  604                   \n",
       "4  603                   \n",
       "\n",
       "                                                             entities  \\\n",
       "0  [COVID 19, Long COVID]                                               \n",
       "1  [COVID 19, Long COVID]                                               \n",
       "2  [COVID 19, Long COVID, Centers for Disease Control and Prevention]   \n",
       "3  [COVID 19, Long COVID]                                               \n",
       "4  [COVID 19, Long COVID, Europe]                                       \n",
       "\n",
       "                                                   topics  \\\n",
       "0  [Health Technology, Health Systems, Healthcare]          \n",
       "1  [Health Technology, Health Systems, Medical Research]    \n",
       "2  [Healthcare Crisis, Health Systems, Health Technology]   \n",
       "3  [Health Technology, Health Systems, Healthcare]          \n",
       "4  [Health Technology, Health Systems, Healthcare]          \n",
       "\n",
       "                                                                                                              labels  \\\n",
       "0  [mild, long covid, symptoms, long covid symptoms, infection, year, study]                                           \n",
       "1  [long covid, symptoms, hair loss, dysfunction]                                                                      \n",
       "2  [long covid, deaths, cdc, 500, centers for disease control and prevention]                                          \n",
       "3  [hair loss, symptoms, long covid symptoms, long covid, study]                                                       \n",
       "4  [long covid, 17 million people in europe, symptoms, years of the pandemic, 17 million, world health organization]   \n",
       "\n",
       "                                                                                                                                                                                                                                                                                                                                                      headlines  \n",
       "0  [Study found that symptoms of long COVID disappear within a year, in mild cases, Long COVID symptoms go away within a year, in mild cases, Majority of long covid symptoms in mild cases may disappear after one year | coronavirus]                                                                                                                          \n",
       "1  [News Hair Loss and Low Sex Drive Added to List of Long Covid Symptoms Research from the University of Birmingham has revealed that symptoms of long COVID are broader than expected and include hair loss and sexual dysfunction., Hair loss and sexual dysfunction are new long COVID symptoms, Hair loss, low sex drive among long Covid symptoms: Study]  \n",
       "2  [CDC: Long COVID behind more than 3,500 deaths, CDC: Long COVID behind more than 3,500 deaths, CDC: Long COVID behind more than 3,500 deaths]                                                                                                                                                                                                                 \n",
       "3  [Hair and libido loss join fatigue and brain fog among wider list of Long COVID symptoms, Hair loss and decreased sex drive on broader list of long Covid symptoms - study, Hair and libido loss join fatigue and brain fog among wider list of Long Covid symptoms]                                                                                          \n",
       "4  [17 million people in Europe got long Covid in the first two years of the pandemic, WHO: 17 million Europeans have long covid symptoms, WHO says 17 million people in Europe have long Covid symptoms]                                                                                                                                                        "
      ]
     },
     "execution_count": 11,
     "metadata": {},
     "output_type": "execute_result"
    }
   ],
   "source": [
    "events_df = pd.DataFrame([\n",
    "    {\n",
    "        'hash': event['hash'],\n",
    "        'date': event['date'],\n",
    "        'story-count-global': event['story-count-global'],\n",
    "        'source-count-global': event['source-count-global'],\n",
    "        'entities': [entity['name'] for entity in event['entities']],\n",
    "        'topics': [topic['name'] for topic in event['topics']][:3], # just use the first 3 topics \n",
    "        'labels': event['labels'],\n",
    "        'headlines': [doc['title'] for doc in event['documents']],\n",
    "    }\n",
    "    for event in events\n",
    "])\n",
    "events_df"
   ]
  },
  {
   "cell_type": "markdown",
   "id": "3b801ba1",
   "metadata": {},
   "source": [
    "## Get event by hash\n",
    "\n",
    "By default only limited information is returned when searching for events. To get all the metadata about an event use the event hash."
   ]
  },
  {
   "cell_type": "code",
   "execution_count": 12,
   "id": "b97ab04d",
   "metadata": {},
   "outputs": [],
   "source": [
    "# You can retrieve an event by hash to get additional metadata about the event such as source ids \n",
    "# and additional story ids\n",
    "\n",
    "event_hash = events_df.iloc[0]['hash']\n",
    "event = signal_api.get_event(event_hash)"
   ]
  },
  {
   "cell_type": "code",
   "execution_count": 13,
   "id": "31c6eb2b",
   "metadata": {},
   "outputs": [
    {
     "data": {
      "text/html": [
       "<div>\n",
       "<style scoped>\n",
       "    .dataframe tbody tr th:only-of-type {\n",
       "        vertical-align: middle;\n",
       "    }\n",
       "\n",
       "    .dataframe tbody tr th {\n",
       "        vertical-align: top;\n",
       "    }\n",
       "\n",
       "    .dataframe thead th {\n",
       "        text-align: right;\n",
       "    }\n",
       "</style>\n",
       "<table border=\"1\" class=\"dataframe tex2jax_ignore\">\n",
       "  <thead>\n",
       "    <tr style=\"text-align: right;\">\n",
       "      <th></th>\n",
       "      <th>labels</th>\n",
       "      <th>date</th>\n",
       "      <th>document-count-entitlements</th>\n",
       "      <th>hash</th>\n",
       "      <th>story-count-global</th>\n",
       "      <th>story-ids</th>\n",
       "      <th>document-count-global</th>\n",
       "      <th>entities</th>\n",
       "      <th>source-ids</th>\n",
       "      <th>topics</th>\n",
       "    </tr>\n",
       "  </thead>\n",
       "  <tbody>\n",
       "    <tr>\n",
       "      <th>0</th>\n",
       "      <td>[mild, long covid, symptoms, long covid symptoms, infection, year, study]</td>\n",
       "      <td>2023-01-12</td>\n",
       "      <td>566</td>\n",
       "      <td>02e5-8f8b9366-932bc9df-b1aa3367-f6f9b7c7</td>\n",
       "      <td>192</td>\n",
       "      <td>[541cf63c-f2f7-48ee-bb75-51cf32565dd1, f9727514-fae4-48d1-b081-bdcee837bae4, 3cd76e0c-232f-4ffb-aa07-25ddb8325123, aab6c7bd-8478-407b-914d-43f0091fb0c8, 345c7d57-9032-41ad-b025-044e2a5e5ff9, 2d44b59c-ef25-4da4-a915-40abac2415e2, 025c08cb-01a6-4530-83c2-51de420bba86, 057434f2-6ab7-4d54-9e15-fbe985b73eb9, 7e35cb0a-26d4-4bda-a33b-2db1d6f7d6c0, abb7a840-9361-43a4-a4e7-416f174f0d10, d3420112-1db3-472d-9d4c-43a6587f8b84, 7af32d99-50a4-42ed-b513-f292ca74a3f1, 3a7dd038-4619-4a8b-8ad9-7a1eb1efc913, dac2e327-c881-4e9f-93c0-179279be51d5, 17cdc916-2d70-45d2-aba8-8f93b2c5ca28, 9226b093-6bc8-4f8d-8f2f-427bcd0cf2bf, d00271e9-06ff-4ea5-9d7a-0c26b42429fe, 3666881c-b3b6-40e3-83b3-e045dbd3254e, 2d4dd863-c616-4715-b33f-7db56664dda4, 137de471-44f3-453a-b6a1-8a37700acdef, e2a00f00-ee8b-4582-bc64-5e563a8537ca, 85716889-4f65-48ba-93d1-8fc8323d0851, 87f3deef-ac42-4b3e-bbd7-5a6144f259ee, ea0d1c9c-8185-40ef-8e32-2725e477e222, e40e7ba8-34cb-466a-91d0-922cecb45fd9, 163b9d01-2dbf-42de-abc3-7216ce6da7e8, ae9cecb6-891c-49c9-8ab4-d41fb4aab787, 50b1501a-21ac-4808-9568-609e09373d26, fb0b0120-d591-48b7-8b26-790f8d979610, 0b5b172b-34b8-4424-967b-96d5b706653c, c67bd667-ac97-4eb2-897b-0d3e9babda29, 8fd34cc8-9d49-4410-be54-e5adf9a1b65e, 0872d765-826e-42b9-a3cb-73669fb4d38b, 69105891-d32c-47ef-b34a-1f389bebde16, d245803e-6f27-4af6-b776-66c8c4228d6c, 542ee41c-f77b-4fa1-b8d8-1f51be7ec06a, c07377e3-e991-4f48-ab31-b9f72272be82, 4ac5953e-cbed-4fcf-901f-db2b4179e7e5, cae0cbb0-d59d-4fd7-8c74-5ca3db65e484, 1c14a1bc-653d-42ba-ae90-c447eae3078f, df3b281d-ca8a-4822-84fe-65861a2c1156, 88c0e502-7f35-4bf9-b480-862ef97484c5, 1500207c-1356-4b94-9f05-5d7c01108772, fb5289e1-167b-4886-ba05-b741247a6560, b6b3b862-1f1e-4628-a09f-1d82f0f61e72, e4f9dbd1-437d-4723-9d35-5999e35b9f33, a3e3f67a-f1be-48ed-9ff2-8ffe852d0788, c00a29c2-80f1-428a-b75b-89d7729daa7c, 509847de-b392-4fa2-855d-146030a19105, 3a19902c-1e3c-48a5-ad38-a24147021758, ca35802a-a46c-486d-9da3-b9dfe39e88bb, 8ac792a9-d9d9-4d74-81aa-b990fd2f32d9, 2273d8e7-c0e6-470b-a4c3-46afefe12b63, 689e5c8e-68be-4730-8c78-08da87bcfd88, 8f0cfd5e-071f-406e-ba50-99f71aacf60f, 3491629c-452b-4bf3-9329-72126b31360c, d0a6241a-ba98-4acf-8837-07bd634f82e2, 8ad7c1ec-3489-4979-bcd7-32a984f9a5b4, e3ad15d9-ca98-4215-8b63-b518a57128c4, f6420035-e5a8-4a47-88e1-0b61a44a7c48, e29fbe46-2be4-4a72-a239-346ce38f4b2a, 4a5eb42c-e2bd-48f4-844f-6016cb5ee9d8, 57c01792-18ce-478a-9cc4-2a843174d4a5, 2f9b0004-b76d-44a5-8d4b-497124cc6956, e52b0480-fe54-4bc8-a69b-5dbba6705ee0, c2ef56eb-edd9-42f1-ba08-caed1e149ec1, 3b85c483-5b5f-4e63-9432-a89983c79bbb, 408c536f-ad6e-4340-a041-8c4facdc8fb9, e7656111-3683-443d-bcb0-654ed29769dd, a9b040e1-15ef-4a65-b93f-3bfbb440a1d4, 8f470001-0d7e-48a7-9405-6c13e69c799e, f5fffe67-9de3-45ce-b0b2-317e398e3d83, 45a0edee-b16c-4866-bb78-52acea6d0ffa, da4b53f0-c274-46e0-bc64-ef4c9ea9f2b8, cd5f3f53-4387-4889-bad1-3b0fdc5b287b, 525feb8d-f76f-48f5-89fe-6ce581bb63cb, b0272563-de5b-41ae-8a55-305dd2db13c7, 32923fda-a51a-40da-a64d-0cb1c3962d0b, 3f333d2a-fa57-405e-ba0b-5c9e72e70cc5, d351ff68-43bf-4ded-aa86-51b0c5b450a7, d7688c32-2a9d-4cf6-b49f-a282bc7535bb, 61bc2903-d412-4086-bf38-15a11cc1f2d9, bd20adfa-6c75-400f-9da2-5ede0d3b71c9, 20fbcb42-7383-4105-8a6a-532c04bace05, 80cde8f7-e675-49ce-95a0-312fdd590dff, 3abbe2b4-613d-496e-abc2-7202dc7704a1, 8446c6b0-24eb-4c37-b67b-dce9c4cb8730, 808a2755-50da-4882-8141-988d80b3aa2e, e5e9b044-68e7-4ac6-926b-e568bff7ffe2, d91bbf84-f8d7-4603-811f-d368b11cb937, 46c09577-f539-4e1c-b179-b26749eb2083, fbcd6f2c-6aa0-4e0b-9bd8-a2bff0157f11, 4f48b703-9645-47ce-95e3-64d769cc56bc, 96c87d28-72fd-49b1-8e05-819b0c3a1e96, 9dcd7785-c43c-465c-8673-7551c2f11c01, fd8e109d-327c-4ad8-a75b-73074684ac3d, db2af368-adcc-4725-83ac-67a2f0e19a22, a181e0cb-ceec-47ce-a176-8d7f563af8db, f766983b-cfb5-480a-9efe-0fd2c6d2ba12, de7cdccb-5c74-4b76-a911-0fd105726e98, ...]</td>\n",
       "      <td>608</td>\n",
       "      <td>[{'id': 'e2e3b3e9-e552-3377-9705-e48c8be05227', 'name': 'COVID 19', 'prominence-score': 1.0, 'story-count': 192, 'type': 'disease'}, {'id': '1021d2f6-e57a-308c-b232-d6c6f2c2588e', 'name': 'Long COVID', 'prominence-score': 1.0, 'story-count': 192, 'type': 'disease'}]</td>\n",
       "      <td>[00752cc8-5ef9-4adb-bab9-cba5e28b8f02, 008a1423-3f16-4de1-8b7e-b0ee2b793655, 028fbae5-5db4-4171-9fef-75d899c5449f, 04e3389c-f0b9-4bed-a997-19c8d8fab84b, 061f580f-1148-49c5-8a9e-8f0af984d1b3, 06cb9a37-985b-445a-b46f-95ff3f1d2b3d, 09295bf4-e313-4efe-a60d-20786cbfe2ec, 09dde3af-3965-48e3-9cdc-e910f388d851, 0c3eb78d-3b24-4972-b92d-aaefe7eab517, 0ce0153f-05a7-4d92-bb85-9d058ad14c54, 0dd80803-7396-406a-8cf7-f7d0f3e8e2e5, 0dea176b-192c-421a-b3d8-57f809f4236b, 0e1afc9c-7101-462f-843f-e48b1dd9a733, 0e5f66c4-cbca-430e-92cb-15d7b7acd4eb, 1166c8dc-15a4-4601-a2a4-9cb2ab292397, 1181c0b0-4fe1-404a-90bb-1f2bede4070e, 12265772-1b3e-4c2a-8fba-0933198594c0, 135ab7a2-b68b-41fb-8ab7-668870e3d793, 138aadf1-8cc7-4e31-b7c2-5e9c37cafbe4, 14ce8cfe-8b94-4fa2-a4d4-85d67e7debc9, 152d52ee-3c2a-4ecc-890d-542b64f0c705, 152ece12-1cea-4489-91cb-5aa62621623f, 163291e8-99b0-4e26-b697-742b6a972845, 16445404-302e-4927-b453-7ebac1744bc9, 174fba9d-fab1-4963-8271-f5cced57a512, 180c7574-3462-4ec7-97cb-48cd51848a71, 1894b193-747c-41f7-b3ba-57bb65b9486b, 18fe5c74-8cb0-422c-a001-d6d29e4ce227, 1994f996-57a4-495a-8d58-acb02a9b10a0, 1a60ad17-7aba-482b-8899-b5a078915a98, 1b1ad943-9e32-4bb6-ae55-8aa13845f31d, 1c3da9f3-08b3-44a1-9ace-6c4bb51f8f97, 1d3cda8d-f961-440e-aa85-9c5a84a9f6cd, 1d3e43fe-32c4-4e78-afce-26f3146b0aae, 1d4b5247-f3e0-4877-9307-9fb7364acf62, 1d786adc-6672-44a7-892b-4fff0c9434e1, 1dadd8b9-26b1-49eb-ab47-01bb73799ceb, 1dbfb92d-57f4-449d-9533-2f7d3c36c166, 1e84bf58-8d3e-4507-874b-ce3e9e335d13, 1f9be176-6098-4cae-8fa0-8ee012fa91b0, 2115d5d3-d620-4890-96fb-6358ff0b2e38, 21899d6f-cd08-4244-a70e-7fe7a84aa455, 2295df6a-bd2f-434c-bb66-4dcfa7cea35e, 23c3857c-f1ec-4d44-96ea-6c1ab0c9d14d, 247b7f35-40e1-44c0-a2bc-4fee70fc409a, 253354f6-31f3-4a80-abdc-4403c30fac71, 2542e8d9-473a-4a23-804f-2fec58bc2b8c, 255ae625-9d53-4238-8b45-8bb25c6e89eb, 2565e30d-9228-4f37-9a34-c8e0b2289d93, 266afef8-5fbe-4201-8422-100389c02ccd, 2681a83a-f223-4e22-b643-559a94e501cc, 27086b0f-cabe-485f-87f6-0d7e911d04cc, 27214f15-de10-4fed-a573-61307803be28, 2825ef8b-02db-46d4-8659-afc4081d95f4, 28ba9fb6-cab6-45d3-bb99-d434fdf826fd, 28bceecc-8f6e-45ee-b253-cbff7bc9671d, 28c20bb5-9c91-435e-827a-76235b303d4f, 28f0fa87-3fc7-407e-acc1-828df3c00c7f, 2906bc49-92ce-4349-9ddc-1db3510fb94b, 29b50b0a-3b70-4937-944a-23261e99e5fd, 29da2d33-21be-43d4-a6b8-e1deedf094e2, 2a704da6-d4d6-4ebb-97b6-b4477b94f39b, 2c160ce1-1391-4ad7-b343-cfc93721afaf, 2d5d1095-6ac3-402e-bca5-e91c04403ab2, 2d933ba6-5b97-48f5-b0bb-54565e838db7, 2edaba1c-0887-46c1-b518-f49765c4f557, 2effa6a0-6138-4e2e-82e7-a94adc438575, 2f1024ed-8f50-4164-9af3-5a4e70f272a6, 2fc4e925-d65c-4cb5-8d8d-696c6e1f3836, 2ff4e05b-6ca9-49e2-9d2b-bd03aa7a5b2b, 30b61c61-c706-4880-bfbe-44980e47adb5, 311a530f-86fc-4335-954c-0237ddc88f30, 31e9fe85-f853-4afd-9521-1c906a6252f1, 328d9d6a-76b2-41f1-91ca-47710fda09e7, 32b81a42-2c2e-4d86-8b58-9020cf454e9d, 32c2c09b-7d38-49d7-a454-d294515a33a3, 32fd020f-324d-4755-a01a-3b37bb9ff65b, 334da28b-31bc-4f44-97bc-073a9d152434, 33b6806a-0796-4b12-b43d-5c4513972ec2, 33b83fa3-05b4-4803-a549-49b325f82bb4, 3411d52e-0c83-438e-afaf-d96c6e576659, 34401032-d99a-44b3-87bb-db2095eb1ce2, 349ffd65-54d6-4fa8-b854-9707fbaef0f4, 34c72269-b8b8-4898-b99f-18268dbf4723, 34d09c27-9359-4e94-ae73-9e0e7c2e5f89, 35644b63-90b4-41e5-bd6b-2a4220230792, 3655e81f-f84c-41e0-88d5-d1d9d0053e6b, 36bf4f08-e072-4526-9ac2-c9caa044bc30, 36fcd3c8-ed55-4d84-b2ab-f9f073f25b55, 3782fc4c-6e69-4fe3-aa02-d609fd953f17, 37b279d5-23d6-4cd4-9e4a-e8fc35728867, 37f06cdd-593a-4e61-992c-bf624c6c77a1, 37f6207c-3ffd-4d71-a9f8-ea6c3ff26ebb, 390f637e-1e11-42ac-bc89-6ea1cdf969d6, 39669b3f-5ca1-4df2-8f11-8ce3f3c0e649, 39ad7bb2-02e3-4b8a-ba75-abde4d857e9e, 3a098bc7-6e99-4ddd-853c-300483d05a22, 3a290b4f-0051-4388-b2f6-10280ce875f8, 3a414f3a-6ec6-44f9-ae4a-6c7455e9313e, 3a7f19f7-e1ed-4ba8-9176-53eb38c0cf19, ...]</td>\n",
       "      <td>[{'id': 'ca8578f9-8bf6-4da4-b592-dcf3223b05bb', 'name': 'Health Technology', 'prominence-score': 0.953125, 'story-count': 183}, {'id': 'debb293d-02f2-4fb7-9b7a-77b6f3536eb3', 'name': 'Health Systems', 'prominence-score': 0.9479166666666666, 'story-count': 182}, {'id': 'ec838d2b-49db-457a-b42f-2889fb86b2eb', 'name': 'Healthcare', 'prominence-score': 0.8645833333333334, 'story-count': 166}, {'id': '9dd4cdc3-5fd6-437a-bfe4-37e91f7ab469', 'name': 'Medical Research', 'prominence-score': 0.828125, 'story-count': 159}, {'id': 'aaacbb95-dbd3-43aa-88f1-7a44e92f49f0', 'name': 'Drug Trials ', 'prominence-score': 0.5729166666666666, 'story-count': 110}]</td>\n",
       "    </tr>\n",
       "  </tbody>\n",
       "</table>\n",
       "</div>"
      ],
      "text/plain": [
       "                                                                      labels  \\\n",
       "0  [mild, long covid, symptoms, long covid symptoms, infection, year, study]   \n",
       "\n",
       "         date  document-count-entitlements  \\\n",
       "0  2023-01-12  566                           \n",
       "\n",
       "                                       hash  story-count-global  \\\n",
       "0  02e5-8f8b9366-932bc9df-b1aa3367-f6f9b7c7  192                  \n",
       "\n",
       "                                                                                                                                                                                                                                                                                                                                                                                                                                                                                                                                                                                                                                                                                                                                                                                                                                                                                                                                                                                                                                                                                                                                                                                                                                                                                                                                                                                                                                                                                                                                                                                                                                                                                                                                                                                                                                                                                                                                                                                                                                                                                                                                                                                                                                                                                                                                                                                                                                                                                                                                                                                                                                                                                                                                                                                                                                                                                                                                                                                                                                                                                                                                                                                                                                                                                                                                                                                                                                                                                                                                                                                                                                                                                                                                                                                                                                                                                                                                                       story-ids  \\\n",
       "0  [541cf63c-f2f7-48ee-bb75-51cf32565dd1, f9727514-fae4-48d1-b081-bdcee837bae4, 3cd76e0c-232f-4ffb-aa07-25ddb8325123, aab6c7bd-8478-407b-914d-43f0091fb0c8, 345c7d57-9032-41ad-b025-044e2a5e5ff9, 2d44b59c-ef25-4da4-a915-40abac2415e2, 025c08cb-01a6-4530-83c2-51de420bba86, 057434f2-6ab7-4d54-9e15-fbe985b73eb9, 7e35cb0a-26d4-4bda-a33b-2db1d6f7d6c0, abb7a840-9361-43a4-a4e7-416f174f0d10, d3420112-1db3-472d-9d4c-43a6587f8b84, 7af32d99-50a4-42ed-b513-f292ca74a3f1, 3a7dd038-4619-4a8b-8ad9-7a1eb1efc913, dac2e327-c881-4e9f-93c0-179279be51d5, 17cdc916-2d70-45d2-aba8-8f93b2c5ca28, 9226b093-6bc8-4f8d-8f2f-427bcd0cf2bf, d00271e9-06ff-4ea5-9d7a-0c26b42429fe, 3666881c-b3b6-40e3-83b3-e045dbd3254e, 2d4dd863-c616-4715-b33f-7db56664dda4, 137de471-44f3-453a-b6a1-8a37700acdef, e2a00f00-ee8b-4582-bc64-5e563a8537ca, 85716889-4f65-48ba-93d1-8fc8323d0851, 87f3deef-ac42-4b3e-bbd7-5a6144f259ee, ea0d1c9c-8185-40ef-8e32-2725e477e222, e40e7ba8-34cb-466a-91d0-922cecb45fd9, 163b9d01-2dbf-42de-abc3-7216ce6da7e8, ae9cecb6-891c-49c9-8ab4-d41fb4aab787, 50b1501a-21ac-4808-9568-609e09373d26, fb0b0120-d591-48b7-8b26-790f8d979610, 0b5b172b-34b8-4424-967b-96d5b706653c, c67bd667-ac97-4eb2-897b-0d3e9babda29, 8fd34cc8-9d49-4410-be54-e5adf9a1b65e, 0872d765-826e-42b9-a3cb-73669fb4d38b, 69105891-d32c-47ef-b34a-1f389bebde16, d245803e-6f27-4af6-b776-66c8c4228d6c, 542ee41c-f77b-4fa1-b8d8-1f51be7ec06a, c07377e3-e991-4f48-ab31-b9f72272be82, 4ac5953e-cbed-4fcf-901f-db2b4179e7e5, cae0cbb0-d59d-4fd7-8c74-5ca3db65e484, 1c14a1bc-653d-42ba-ae90-c447eae3078f, df3b281d-ca8a-4822-84fe-65861a2c1156, 88c0e502-7f35-4bf9-b480-862ef97484c5, 1500207c-1356-4b94-9f05-5d7c01108772, fb5289e1-167b-4886-ba05-b741247a6560, b6b3b862-1f1e-4628-a09f-1d82f0f61e72, e4f9dbd1-437d-4723-9d35-5999e35b9f33, a3e3f67a-f1be-48ed-9ff2-8ffe852d0788, c00a29c2-80f1-428a-b75b-89d7729daa7c, 509847de-b392-4fa2-855d-146030a19105, 3a19902c-1e3c-48a5-ad38-a24147021758, ca35802a-a46c-486d-9da3-b9dfe39e88bb, 8ac792a9-d9d9-4d74-81aa-b990fd2f32d9, 2273d8e7-c0e6-470b-a4c3-46afefe12b63, 689e5c8e-68be-4730-8c78-08da87bcfd88, 8f0cfd5e-071f-406e-ba50-99f71aacf60f, 3491629c-452b-4bf3-9329-72126b31360c, d0a6241a-ba98-4acf-8837-07bd634f82e2, 8ad7c1ec-3489-4979-bcd7-32a984f9a5b4, e3ad15d9-ca98-4215-8b63-b518a57128c4, f6420035-e5a8-4a47-88e1-0b61a44a7c48, e29fbe46-2be4-4a72-a239-346ce38f4b2a, 4a5eb42c-e2bd-48f4-844f-6016cb5ee9d8, 57c01792-18ce-478a-9cc4-2a843174d4a5, 2f9b0004-b76d-44a5-8d4b-497124cc6956, e52b0480-fe54-4bc8-a69b-5dbba6705ee0, c2ef56eb-edd9-42f1-ba08-caed1e149ec1, 3b85c483-5b5f-4e63-9432-a89983c79bbb, 408c536f-ad6e-4340-a041-8c4facdc8fb9, e7656111-3683-443d-bcb0-654ed29769dd, a9b040e1-15ef-4a65-b93f-3bfbb440a1d4, 8f470001-0d7e-48a7-9405-6c13e69c799e, f5fffe67-9de3-45ce-b0b2-317e398e3d83, 45a0edee-b16c-4866-bb78-52acea6d0ffa, da4b53f0-c274-46e0-bc64-ef4c9ea9f2b8, cd5f3f53-4387-4889-bad1-3b0fdc5b287b, 525feb8d-f76f-48f5-89fe-6ce581bb63cb, b0272563-de5b-41ae-8a55-305dd2db13c7, 32923fda-a51a-40da-a64d-0cb1c3962d0b, 3f333d2a-fa57-405e-ba0b-5c9e72e70cc5, d351ff68-43bf-4ded-aa86-51b0c5b450a7, d7688c32-2a9d-4cf6-b49f-a282bc7535bb, 61bc2903-d412-4086-bf38-15a11cc1f2d9, bd20adfa-6c75-400f-9da2-5ede0d3b71c9, 20fbcb42-7383-4105-8a6a-532c04bace05, 80cde8f7-e675-49ce-95a0-312fdd590dff, 3abbe2b4-613d-496e-abc2-7202dc7704a1, 8446c6b0-24eb-4c37-b67b-dce9c4cb8730, 808a2755-50da-4882-8141-988d80b3aa2e, e5e9b044-68e7-4ac6-926b-e568bff7ffe2, d91bbf84-f8d7-4603-811f-d368b11cb937, 46c09577-f539-4e1c-b179-b26749eb2083, fbcd6f2c-6aa0-4e0b-9bd8-a2bff0157f11, 4f48b703-9645-47ce-95e3-64d769cc56bc, 96c87d28-72fd-49b1-8e05-819b0c3a1e96, 9dcd7785-c43c-465c-8673-7551c2f11c01, fd8e109d-327c-4ad8-a75b-73074684ac3d, db2af368-adcc-4725-83ac-67a2f0e19a22, a181e0cb-ceec-47ce-a176-8d7f563af8db, f766983b-cfb5-480a-9efe-0fd2c6d2ba12, de7cdccb-5c74-4b76-a911-0fd105726e98, ...]   \n",
       "\n",
       "   document-count-global  \\\n",
       "0  608                     \n",
       "\n",
       "                                                                                                                                                                                                                                                                     entities  \\\n",
       "0  [{'id': 'e2e3b3e9-e552-3377-9705-e48c8be05227', 'name': 'COVID 19', 'prominence-score': 1.0, 'story-count': 192, 'type': 'disease'}, {'id': '1021d2f6-e57a-308c-b232-d6c6f2c2588e', 'name': 'Long COVID', 'prominence-score': 1.0, 'story-count': 192, 'type': 'disease'}]   \n",
       "\n",
       "                                                                                                                                                                                                                                                                                                                                                                                                                                                                                                                                                                                                                                                                                                                                                                                                                                                                                                                                                                                                                                                                                                                                                                                                                                                                                                                                                                                                                                                                                                                                                                                                                                                                                                                                                                                                                                                                                                                                                                                                                                                                                                                                                                                                                                                                                                                                                                                                                                                                                                                                                                                                                                                                                                                                                                                                                                                                                                                                                                                                                                                                                                                                                                                                                                                                                                                                                                                                                                                                                                                                                                                                                                                                                                                                                                                                                                                                                                                                                      source-ids  \\\n",
       "0  [00752cc8-5ef9-4adb-bab9-cba5e28b8f02, 008a1423-3f16-4de1-8b7e-b0ee2b793655, 028fbae5-5db4-4171-9fef-75d899c5449f, 04e3389c-f0b9-4bed-a997-19c8d8fab84b, 061f580f-1148-49c5-8a9e-8f0af984d1b3, 06cb9a37-985b-445a-b46f-95ff3f1d2b3d, 09295bf4-e313-4efe-a60d-20786cbfe2ec, 09dde3af-3965-48e3-9cdc-e910f388d851, 0c3eb78d-3b24-4972-b92d-aaefe7eab517, 0ce0153f-05a7-4d92-bb85-9d058ad14c54, 0dd80803-7396-406a-8cf7-f7d0f3e8e2e5, 0dea176b-192c-421a-b3d8-57f809f4236b, 0e1afc9c-7101-462f-843f-e48b1dd9a733, 0e5f66c4-cbca-430e-92cb-15d7b7acd4eb, 1166c8dc-15a4-4601-a2a4-9cb2ab292397, 1181c0b0-4fe1-404a-90bb-1f2bede4070e, 12265772-1b3e-4c2a-8fba-0933198594c0, 135ab7a2-b68b-41fb-8ab7-668870e3d793, 138aadf1-8cc7-4e31-b7c2-5e9c37cafbe4, 14ce8cfe-8b94-4fa2-a4d4-85d67e7debc9, 152d52ee-3c2a-4ecc-890d-542b64f0c705, 152ece12-1cea-4489-91cb-5aa62621623f, 163291e8-99b0-4e26-b697-742b6a972845, 16445404-302e-4927-b453-7ebac1744bc9, 174fba9d-fab1-4963-8271-f5cced57a512, 180c7574-3462-4ec7-97cb-48cd51848a71, 1894b193-747c-41f7-b3ba-57bb65b9486b, 18fe5c74-8cb0-422c-a001-d6d29e4ce227, 1994f996-57a4-495a-8d58-acb02a9b10a0, 1a60ad17-7aba-482b-8899-b5a078915a98, 1b1ad943-9e32-4bb6-ae55-8aa13845f31d, 1c3da9f3-08b3-44a1-9ace-6c4bb51f8f97, 1d3cda8d-f961-440e-aa85-9c5a84a9f6cd, 1d3e43fe-32c4-4e78-afce-26f3146b0aae, 1d4b5247-f3e0-4877-9307-9fb7364acf62, 1d786adc-6672-44a7-892b-4fff0c9434e1, 1dadd8b9-26b1-49eb-ab47-01bb73799ceb, 1dbfb92d-57f4-449d-9533-2f7d3c36c166, 1e84bf58-8d3e-4507-874b-ce3e9e335d13, 1f9be176-6098-4cae-8fa0-8ee012fa91b0, 2115d5d3-d620-4890-96fb-6358ff0b2e38, 21899d6f-cd08-4244-a70e-7fe7a84aa455, 2295df6a-bd2f-434c-bb66-4dcfa7cea35e, 23c3857c-f1ec-4d44-96ea-6c1ab0c9d14d, 247b7f35-40e1-44c0-a2bc-4fee70fc409a, 253354f6-31f3-4a80-abdc-4403c30fac71, 2542e8d9-473a-4a23-804f-2fec58bc2b8c, 255ae625-9d53-4238-8b45-8bb25c6e89eb, 2565e30d-9228-4f37-9a34-c8e0b2289d93, 266afef8-5fbe-4201-8422-100389c02ccd, 2681a83a-f223-4e22-b643-559a94e501cc, 27086b0f-cabe-485f-87f6-0d7e911d04cc, 27214f15-de10-4fed-a573-61307803be28, 2825ef8b-02db-46d4-8659-afc4081d95f4, 28ba9fb6-cab6-45d3-bb99-d434fdf826fd, 28bceecc-8f6e-45ee-b253-cbff7bc9671d, 28c20bb5-9c91-435e-827a-76235b303d4f, 28f0fa87-3fc7-407e-acc1-828df3c00c7f, 2906bc49-92ce-4349-9ddc-1db3510fb94b, 29b50b0a-3b70-4937-944a-23261e99e5fd, 29da2d33-21be-43d4-a6b8-e1deedf094e2, 2a704da6-d4d6-4ebb-97b6-b4477b94f39b, 2c160ce1-1391-4ad7-b343-cfc93721afaf, 2d5d1095-6ac3-402e-bca5-e91c04403ab2, 2d933ba6-5b97-48f5-b0bb-54565e838db7, 2edaba1c-0887-46c1-b518-f49765c4f557, 2effa6a0-6138-4e2e-82e7-a94adc438575, 2f1024ed-8f50-4164-9af3-5a4e70f272a6, 2fc4e925-d65c-4cb5-8d8d-696c6e1f3836, 2ff4e05b-6ca9-49e2-9d2b-bd03aa7a5b2b, 30b61c61-c706-4880-bfbe-44980e47adb5, 311a530f-86fc-4335-954c-0237ddc88f30, 31e9fe85-f853-4afd-9521-1c906a6252f1, 328d9d6a-76b2-41f1-91ca-47710fda09e7, 32b81a42-2c2e-4d86-8b58-9020cf454e9d, 32c2c09b-7d38-49d7-a454-d294515a33a3, 32fd020f-324d-4755-a01a-3b37bb9ff65b, 334da28b-31bc-4f44-97bc-073a9d152434, 33b6806a-0796-4b12-b43d-5c4513972ec2, 33b83fa3-05b4-4803-a549-49b325f82bb4, 3411d52e-0c83-438e-afaf-d96c6e576659, 34401032-d99a-44b3-87bb-db2095eb1ce2, 349ffd65-54d6-4fa8-b854-9707fbaef0f4, 34c72269-b8b8-4898-b99f-18268dbf4723, 34d09c27-9359-4e94-ae73-9e0e7c2e5f89, 35644b63-90b4-41e5-bd6b-2a4220230792, 3655e81f-f84c-41e0-88d5-d1d9d0053e6b, 36bf4f08-e072-4526-9ac2-c9caa044bc30, 36fcd3c8-ed55-4d84-b2ab-f9f073f25b55, 3782fc4c-6e69-4fe3-aa02-d609fd953f17, 37b279d5-23d6-4cd4-9e4a-e8fc35728867, 37f06cdd-593a-4e61-992c-bf624c6c77a1, 37f6207c-3ffd-4d71-a9f8-ea6c3ff26ebb, 390f637e-1e11-42ac-bc89-6ea1cdf969d6, 39669b3f-5ca1-4df2-8f11-8ce3f3c0e649, 39ad7bb2-02e3-4b8a-ba75-abde4d857e9e, 3a098bc7-6e99-4ddd-853c-300483d05a22, 3a290b4f-0051-4388-b2f6-10280ce875f8, 3a414f3a-6ec6-44f9-ae4a-6c7455e9313e, 3a7f19f7-e1ed-4ba8-9176-53eb38c0cf19, ...]   \n",
       "\n",
       "                                                                                                                                                                                                                                                                                                                                                                                                                                                                                                                                                                                                                                                                      topics  \n",
       "0  [{'id': 'ca8578f9-8bf6-4da4-b592-dcf3223b05bb', 'name': 'Health Technology', 'prominence-score': 0.953125, 'story-count': 183}, {'id': 'debb293d-02f2-4fb7-9b7a-77b6f3536eb3', 'name': 'Health Systems', 'prominence-score': 0.9479166666666666, 'story-count': 182}, {'id': 'ec838d2b-49db-457a-b42f-2889fb86b2eb', 'name': 'Healthcare', 'prominence-score': 0.8645833333333334, 'story-count': 166}, {'id': '9dd4cdc3-5fd6-437a-bfe4-37e91f7ab469', 'name': 'Medical Research', 'prominence-score': 0.828125, 'story-count': 159}, {'id': 'aaacbb95-dbd3-43aa-88f1-7a44e92f49f0', 'name': 'Drug Trials ', 'prominence-score': 0.5729166666666666, 'story-count': 110}]  "
      ]
     },
     "execution_count": 13,
     "metadata": {},
     "output_type": "execute_result"
    }
   ],
   "source": [
    "pd.json_normalize(event)"
   ]
  },
  {
   "cell_type": "markdown",
   "id": "fe67a26f",
   "metadata": {},
   "source": [
    "### Show the first 10 sources that mentioned this event"
   ]
  },
  {
   "cell_type": "code",
   "execution_count": 14,
   "id": "0454a1d9",
   "metadata": {},
   "outputs": [
    {
     "name": "stderr",
     "output_type": "stream",
     "text": [
      "100%|██████████| 10/10 [00:01<00:00,  5.54it/s]\n"
     ]
    },
    {
     "data": {
      "text/plain": [
       "['Advertiser (Australia)',\n",
       " 'Yahoo News UK',\n",
       " 'Headlines Today',\n",
       " 'Isle of Wight Radio',\n",
       " 'Head Topics',\n",
       " 'Yahoo! Noticias',\n",
       " 'T13.cl',\n",
       " 'Radio Essex',\n",
       " 'Knowledia News (IL)',\n",
       " 'The Windsor Star']"
      ]
     },
     "execution_count": 14,
     "metadata": {},
     "output_type": "execute_result"
    }
   ],
   "source": [
    "\n",
    "[signal_api.get_source(source_id)['source']['name'] for source_id in tqdm(event['source-ids'][:10])]"
   ]
  }
 ],
 "metadata": {
  "interpreter": {
   "hash": "36718a772afb02bfcd0b05eef0d641599da4c64bcc9effab0ed26d9d51416d4d"
  },
  "kernelspec": {
   "display_name": "Python 3 (ipykernel)",
   "language": "python",
   "name": "python3"
  },
  "language_info": {
   "codemirror_mode": {
    "name": "ipython",
    "version": 3
   },
   "file_extension": ".py",
   "mimetype": "text/x-python",
   "name": "python",
   "nbconvert_exporter": "python",
   "pygments_lexer": "ipython3",
   "version": "3.8.2"
  }
 },
 "nbformat": 4,
 "nbformat_minor": 5
}
