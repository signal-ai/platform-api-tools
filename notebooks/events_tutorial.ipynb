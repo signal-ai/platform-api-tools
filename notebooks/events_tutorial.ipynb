{
 "cells": [
  {
   "cell_type": "markdown",
   "id": "2184aa48-59f8-4eaf-af17-f7096c994c23",
   "metadata": {},
   "source": [
    "# Events Example"
   ]
  },
  {
   "cell_type": "code",
   "execution_count": 3,
   "id": "c9ea4db0-e7e0-48d9-a6d5-e118109f5aa4",
   "metadata": {},
   "outputs": [],
   "source": [
    "import signal_api.signalAPI\n",
    "import pandas as pd\n",
    "from itertools import groupby, islice\n",
    "import os\n",
    "from tqdm import tqdm\n",
    "from textwrap import wrap\n",
    "\n",
    "pd.set_option('display.max_colwidth', 0)\n",
    "pd.options.display.html.use_mathjax = False"
   ]
  },
  {
   "cell_type": "markdown",
   "id": "5ba60f10-f7bc-403c-8a7b-c943ad834e87",
   "metadata": {},
   "source": [
    "## Connect to the API"
   ]
  },
  {
   "cell_type": "code",
   "execution_count": 2,
   "id": "73c99821-1528-486d-90e0-c78dce022838",
   "metadata": {},
   "outputs": [],
   "source": [
    "client_id = os.environ['SIGNAL_API_ID']\n",
    "client_secret = os.environ['SIGNAL_API_SECRET']\n",
    "signal_api = signalAPI.Connection(client_id=client_id, client_secret=client_secret)"
   ]
  },
  {
   "cell_type": "markdown",
   "id": "c1d3f0be-d7ae-46c8-a131-5e7e889912fa",
   "metadata": {},
   "source": [
    "## Search For Entity And Topic IDs "
   ]
  },
  {
   "cell_type": "code",
   "execution_count": 3,
   "id": "375107ad-9af3-4aa2-b632-44f260c7b3fe",
   "metadata": {},
   "outputs": [
    {
     "data": {
      "text/plain": [
       "[{'id': '1021d2f6-e57a-308c-b232-d6c6f2c2588e',\n",
       "  'type': 'disease',\n",
       "  'name': 'Long COVID'}]"
      ]
     },
     "execution_count": 3,
     "metadata": {},
     "output_type": "execute_result"
    }
   ],
   "source": [
    "long_covid_entities = list(signal_api.entities({'name': 'Long COVID'}))\n",
    "long_covid_entity_ids = [entity['id'] for entity in long_covid_entities]\n",
    "long_covid_entities"
   ]
  },
  {
   "cell_type": "code",
   "execution_count": 4,
   "id": "65749760-4005-416c-9cd9-7827a9ee5a19",
   "metadata": {},
   "outputs": [
    {
     "data": {
      "text/plain": [
       "[{'id': 'ec838d2b-49db-457a-b42f-2889fb86b2eb',\n",
       "  'name': 'Healthcare',\n",
       "  'description': 'The topic \"healthcare\" includes all coverage related to the healthcare industry. Keywords include Healthcare, treatment of disease, preventive healthcare, healthcare issues, health insurance, health benefits & coverage, health reforms, publicly funded national healthcare system,  healthcare crisis, mental health care, healthcare quality improvement, healthcare cost containment, healthcare right or privilege, healthcare patient safety, healthcare Infection control practices, pervasive healthcare, health care challenges, healthcare cost, healthcare-associated infections.',\n",
       "  'private': False},\n",
       " {'id': '0d6c8ffc-d2fd-47bc-b304-fff55e76cd19',\n",
       "  'name': 'Healthcare Crisis',\n",
       "  'description': 'A health crisis or public health crisis is a difficult situation or complex health system that affects humans in one or more geographic areas (mainly occurred in natural hazards), from a particular locality to encompass the entire planet. Health crises generally have significant impacts on community health, loss of life, and the economy. They may result from disease, industrial processes or poor policy. This topic addresses three key features in health crises: public health problem, problem health coordination and alarm care: poor communication of risks to the population resulting in social upheaval. This topic also addresses three types of health crises: environmental, food and toxic. This topic also covers prevention and control of healthcare crisis including using the health warning system, transparency of the institutions public or private, adequate information policy, evaluating the previous crisis or other experiences, having objective and preparing contingency plans.\\nRelevant keywords include but are not limited to the following: health crisis, human, community health, loss of life, economy, public health problem, problem health coordination, environmental crisis, food crisis, toxic crisis, preventions, control, global, the entire planet.',\n",
       "  'private': False},\n",
       " {'id': 'c3f7b9d6-9420-46fb-abb2-490382212189',\n",
       "  'name': 'Transformation of Healthcare',\n",
       "  'description': 'Transformation of healthcare is the topic that covers content related to changing healthcare due to advanced technology and the pace of digital transformation in healthcare. This topic covers the impact of digital transformation and trends in healthcare. This topic also covers the challenges and actions that healthcare companies would take. Relevant keywords include but are not limited to the following: the democratization of healthcare, standardization of healthcare, reduce variation in care, best practices in healthcare or medicine, clinician of the future, future of medicine, future of the clinical practice.',\n",
       "  'private': False}]"
      ]
     },
     "execution_count": 4,
     "metadata": {},
     "output_type": "execute_result"
    }
   ],
   "source": [
    "healthcare_topics = list(signal_api.topics({'name': 'Healthcare'}))\n",
    "healthcare_topic_ids = [topic['id'] for topic in healthcare_topics]\n",
    "healthcare_topics"
   ]
  },
  {
   "cell_type": "markdown",
   "id": "b36c5d32",
   "metadata": {},
   "source": [
    "## Choose A Set of Entities and Topics"
   ]
  },
  {
   "cell_type": "code",
   "execution_count": 5,
   "id": "bced3689-4a30-4dc4-8491-a8394d1956bf",
   "metadata": {},
   "outputs": [],
   "source": [
    "# entities = {\n",
    "#     'NatWest': 'cae9004a-75c2-49ae-a993-6085bfc59965',\n",
    "#     'HSBC': 'ab82444f-efed-499c-9c7f-eaa4df9a3479',\n",
    "#     'Lloyds Bank': 'ea02b0ae-718e-48b9-8fd8-ccfb6988bad1',\n",
    "#     'Santander Group': 'be600517-817f-48e3-86f3-a9d3233d7cdc',\n",
    "#     'Santander UK': '5bec1c96-ad87-3804-adc9-0bd1b10588c2',\n",
    "#     'Barclays': '7de7a01d-259d-47b2-a01e-02ee234591ee',\n",
    "\n",
    "# }\n",
    "\n",
    "# # uncomment line below to use all signal entities\n",
    "# # entities = {}\n",
    "\n",
    "# topics = {\n",
    "#     'Corporate fines': 'ef171339-3fc5-4913-834e-33159376303b',\n",
    "#     'Banking': 'e3d48271-94d7-4502-9a71-f462428ec731'\n",
    "# }\n",
    "\n",
    "# # uncomment line below to use all signal topics\n",
    "# # topics = {} "
   ]
  },
  {
   "cell_type": "markdown",
   "id": "845fd326",
   "metadata": {},
   "source": [
    "## Use the last year as a date range"
   ]
  },
  {
   "cell_type": "code",
   "execution_count": 6,
   "id": "c296938e-3633-40ef-bab8-19ab3f0a2e3e",
   "metadata": {},
   "outputs": [
    {
     "data": {
      "text/plain": [
       "(Period('2022-04-04', 'D'), Period('2023-04-04', 'D'))"
      ]
     },
     "execution_count": 6,
     "metadata": {},
     "output_type": "execute_result"
    }
   ],
   "source": [
    "end_date = pd.to_datetime('today').to_period('D') - 1\n",
    "start_date = end_date - 365\n",
    "start_date, end_date"
   ]
  },
  {
   "cell_type": "markdown",
   "id": "228096df",
   "metadata": {},
   "source": [
    "### Query the Events API"
   ]
  },
  {
   "cell_type": "code",
   "execution_count": 7,
   "id": "e27fbcdb-e7d0-4e07-a535-98b00747ffa8",
   "metadata": {},
   "outputs": [],
   "source": [
    "query = {\n",
    "      \"where\": {\n",
    "          \"date\": {\n",
    "              \"gte\": str(start_date),\n",
    "              \"lte\": str(end_date)\n",
    "      },\n",
    "    },\n",
    "    \"size\": 1000\n",
    "}\n",
    "\n",
    "\n",
    "query['where'][\"entities\"] = {\n",
    "  \"id\": {\n",
    "      # include events about any of the entities\n",
    "      \"any\": long_covid_entity_ids\n",
    "\n",
    "      # note you can seach for events about all of the entities too\n",
    "      # \"all\": list(entities.values())\n",
    "  }\n",
    "}\n",
    "\n",
    "\n",
    "query['where'][\"topics\"] = {\n",
    "  \"id\": {\n",
    "      # include events about any of the topics\n",
    "      \"any\": healthcare_topic_ids\n",
    "\n",
    "      # note you can seach for events about all of the topics too\n",
    "      # \"all\": list(topics.values())\n",
    "  }\n",
    "}\n",
    "    \n",
    "response = signal_api.events(query)\n",
    "# remove results that come from a small number of sources\n",
    "response = (event for event in response if event['source-count-global'] >= (event['story-count-global'] / 5))\n",
    "# take the first 10 events\n",
    "events = list(response)[:10]"
   ]
  },
  {
   "cell_type": "markdown",
   "id": "e0057ab8",
   "metadata": {},
   "source": [
    "## Define function for searching documents by story id"
   ]
  },
  {
   "cell_type": "code",
   "execution_count": 8,
   "id": "761e3beb",
   "metadata": {},
   "outputs": [],
   "source": [
    "def search_by_story_id(story_ids: list, entity_ids: list, topic_ids: list, n=3):\n",
    "    \"\"\"\n",
    "    return one document for each story-id in \"story_ids\" \n",
    "    return the results in the same order as story_ids\n",
    "    \"\"\"\n",
    "    # record the ordering of the story_ids\n",
    "    rank = {story_id: rnk for rnk, story_id in enumerate(story_ids)}\n",
    "\n",
    "    # query the seach endpoint\n",
    "    params = {\n",
    "        'where': {\n",
    "            'story-id': {\n",
    "                'any': list(story_ids)\n",
    "            },\n",
    "        },\n",
    "        'size': 500\n",
    "    }\n",
    "\n",
    "    if entity_ids:\n",
    "        params['where']['entities'] = {\n",
    "            'id': {'any': entity_ids},\n",
    "            'salient-only': True\n",
    "        }\n",
    "        \n",
    "    if topic_ids:\n",
    "        params['where']['topics'] = {\n",
    "            'id': {'any': topic_ids}\n",
    "        }\n",
    "\n",
    "    response = (item['document'] for item in signal_api.search(params))\n",
    "\n",
    "    # put the results in the correct order\n",
    "    ordered = sorted(response, key=lambda document: rank[document['story-id']])\n",
    "\n",
    "    # deduplicate the results\n",
    "    grouped = islice(groupby(ordered, lambda x: x['story-id']), n)\n",
    "    return [next(group) for _, group in grouped]"
   ]
  },
  {
   "cell_type": "markdown",
   "id": "534aedf5",
   "metadata": {},
   "source": [
    "### Get the documents from the Search API"
   ]
  },
  {
   "cell_type": "code",
   "execution_count": 9,
   "id": "233f8b5c",
   "metadata": {},
   "outputs": [
    {
     "name": "stderr",
     "output_type": "stream",
     "text": [
      "100%|█████████████████████████████████████████████████████████████████████████████████████████████████████████████████████████████████████████████████████████████████████████████████████████████████| 10/10 [00:31<00:00,  3.11s/it]\n"
     ]
    }
   ],
   "source": [
    "for event in tqdm(events):\n",
    "    event['documents'] = search_by_story_id(\n",
    "        event['story-ids'], \n",
    "        long_covid_entity_ids, \n",
    "        healthcare_topic_ids\n",
    "    )\n",
    "    "
   ]
  },
  {
   "cell_type": "markdown",
   "id": "0efd6f3a",
   "metadata": {},
   "source": [
    "### Display the Results"
   ]
  },
  {
   "cell_type": "code",
   "execution_count": 10,
   "id": "46816b42",
   "metadata": {},
   "outputs": [
    {
     "data": {
      "text/html": [
       "<div>\n",
       "<style scoped>\n",
       "    .dataframe tbody tr th:only-of-type {\n",
       "        vertical-align: middle;\n",
       "    }\n",
       "\n",
       "    .dataframe tbody tr th {\n",
       "        vertical-align: top;\n",
       "    }\n",
       "\n",
       "    .dataframe thead th {\n",
       "        text-align: right;\n",
       "    }\n",
       "</style>\n",
       "<table border=\"1\" class=\"dataframe tex2jax_ignore\">\n",
       "  <thead>\n",
       "    <tr style=\"text-align: right;\">\n",
       "      <th></th>\n",
       "      <th>hash</th>\n",
       "      <th>date</th>\n",
       "      <th>story-count-global</th>\n",
       "      <th>source-count-global</th>\n",
       "      <th>entities</th>\n",
       "      <th>topics</th>\n",
       "      <th>labels</th>\n",
       "      <th>headlines</th>\n",
       "    </tr>\n",
       "  </thead>\n",
       "  <tbody>\n",
       "    <tr>\n",
       "      <th>0</th>\n",
       "      <td>02e5-8f8b9366-932bc9df-b1aa3367-f6f9b7c7</td>\n",
       "      <td>2023-01-12</td>\n",
       "      <td>196</td>\n",
       "      <td>496</td>\n",
       "      <td>[Long COVID, COVID 19]</td>\n",
       "      <td>[Health Technology, Health Systems, R&amp;D (Kelp) [Kelp Exclusive]]</td>\n",
       "      <td>[mild, long covid, symptoms, long covid symptoms, infection, study, year]</td>\n",
       "      <td>[Study found that symptoms of long COVID disappear within a year, in mild cases, Long COVID symptoms go away within a year, in mild cases, Majority of long covid symptoms in mild cases may disappear after one year | coronavirus]</td>\n",
       "    </tr>\n",
       "    <tr>\n",
       "      <th>1</th>\n",
       "      <td>02c8-d3d8bb2e-0f21c57f-9d4c3e16-fea17fc3</td>\n",
       "      <td>2022-12-14</td>\n",
       "      <td>78</td>\n",
       "      <td>531</td>\n",
       "      <td>[COVID 19, Long COVID, Centers for Disease Control and Prevention]</td>\n",
       "      <td>[Healthcare Crisis, Health Systems, Public safety]</td>\n",
       "      <td>[long covid, cdc, deaths, 500]</td>\n",
       "      <td>[CDC: Long COVID behind more than 3,500 deaths, CDC: Long COVID behind more than 3,500 deaths, Long Covid has contributed to more than 3,500 deaths in the U.S. since start of pandemic, CDC says]</td>\n",
       "    </tr>\n",
       "    <tr>\n",
       "      <th>2</th>\n",
       "      <td>031d-1fda3b3e-072bc96f-954abb27-efa06fc6</td>\n",
       "      <td>2023-03-09</td>\n",
       "      <td>41</td>\n",
       "      <td>211</td>\n",
       "      <td>[COVID 19, Long COVID]</td>\n",
       "      <td>[Health Technology, Thought leadership [Kelp Exclusive], Healthcare]</td>\n",
       "      <td>[long covid, covid 19, symptoms]</td>\n",
       "      <td>[Report says long COVID could impact economy, be 'mass disabling event', Report says long COVID could impact economy and be 'mass disabling event' in Canada, Report says long COVID could impact economy and be 'mass disabling event' in Canada]</td>\n",
       "    </tr>\n",
       "    <tr>\n",
       "      <th>3</th>\n",
       "      <td>0245-0b1afd6a-33b3cd86-91ebaa33-edc1ebd2</td>\n",
       "      <td>2022-08-05</td>\n",
       "      <td>40</td>\n",
       "      <td>233</td>\n",
       "      <td>[COVID 19, Long COVID]</td>\n",
       "      <td>[Medical Research, Health Systems, R&amp;D (Kelp) [Kelp Exclusive]]</td>\n",
       "      <td>[long covid, symptoms, study, infected, coronavirus]</td>\n",
       "      <td>[1 in 8 patients develop long Covid symptoms: Lancet, One in eight COVID patients likely to develop long COVID: Large study, 1 In 8 COVID Patients Likely to Develop Long COVID]</td>\n",
       "    </tr>\n",
       "    <tr>\n",
       "      <th>4</th>\n",
       "      <td>032b-dfdae906-033acdcb-95fbad33-c4a0efe2</td>\n",
       "      <td>2023-03-23</td>\n",
       "      <td>40</td>\n",
       "      <td>82</td>\n",
       "      <td>[COVID 19, Long COVID]</td>\n",
       "      <td>[Risk Management, Health Technology, Medical Research]</td>\n",
       "      <td>[long covid, risk]</td>\n",
       "      <td>[“Shield” in Long Covid o vaccination - The results of new research, Vaccination Halves Risk of Long COVID, Largest Study to Date Shows, Long Covid Risk Factors Are Tied to Gender, Age and Weight]</td>\n",
       "    </tr>\n",
       "    <tr>\n",
       "      <th>5</th>\n",
       "      <td>02f1-9b9fb90e-133b442d-95caae33-aab16fe1</td>\n",
       "      <td>2023-01-24</td>\n",
       "      <td>39</td>\n",
       "      <td>315</td>\n",
       "      <td>[Long COVID, COVID 19]</td>\n",
       "      <td>[Labour Market, Employee Remuneration, Health Technology]</td>\n",
       "      <td>[long covid, new york state insurance fund, analysis of workers compensation claims, work, workers compensation]</td>\n",
       "      <td>[Long COVID Sidelined Many American Workers, Long COVID Sidelined Many American Workers, Long COVID Sidelined Many American Workers]</td>\n",
       "    </tr>\n",
       "    <tr>\n",
       "      <th>6</th>\n",
       "      <td>02e4-0b8a93ee-832bcddf-91aa0bf7-e0d9bbc5</td>\n",
       "      <td>2023-01-11</td>\n",
       "      <td>37</td>\n",
       "      <td>349</td>\n",
       "      <td>[COVID 19, Long COVID]</td>\n",
       "      <td>[R&amp;D (Kelp) [Kelp Exclusive], Health Systems, Health Technology]</td>\n",
       "      <td>[long covid, mild, symptoms, infection, study]</td>\n",
       "      <td>[Long Covid could disappear after a year in case of mild illness, according to a study, Most long covid effects resolve within a year after a mild infection, Most long COVID cases clear up within a year following mild infections, study reveals]</td>\n",
       "    </tr>\n",
       "    <tr>\n",
       "      <th>7</th>\n",
       "      <td>02e8-0d9bb3ee-972be9df-99aa3067-b4f9f7c4</td>\n",
       "      <td>2023-01-15</td>\n",
       "      <td>36</td>\n",
       "      <td>100</td>\n",
       "      <td>[COVID 19, Long COVID]</td>\n",
       "      <td>[Health Technology, Health Systems, Healthcare]</td>\n",
       "      <td>[long covid, symptoms, mild, study, infection, year, resolve, term]</td>\n",
       "      <td>[Most long-term COVID symptoms disappear in a year for mild cases: study, Long COVID: Most symptoms resolve within a year after mild infection, study finds - National | Globalnews.ca, Long COVID: Most symptoms resolve within a year after mild infection, study finds]</td>\n",
       "    </tr>\n",
       "    <tr>\n",
       "      <th>8</th>\n",
       "      <td>01cb-154b9f06-0f2be9cd-9f4fbf8f-b7b07bf8</td>\n",
       "      <td>2022-04-05</td>\n",
       "      <td>34</td>\n",
       "      <td>734</td>\n",
       "      <td>[COVID 19, Long COVID, Joe Biden]</td>\n",
       "      <td>[Healthcare, Health Technology, Regulation]</td>\n",
       "      <td>[long covid, biden administration, health and human services, biden, treat]</td>\n",
       "      <td>[Biden administration taking new steps to prevent, detect and treat long Covid, Biden administration launches national research plan to understand and treat long Covid, Biden announces additional steps to treat, research long covid]</td>\n",
       "    </tr>\n",
       "    <tr>\n",
       "      <th>9</th>\n",
       "      <td>0307-5fdbbba6-972b0d9e-9de8be37-ae80fbe1</td>\n",
       "      <td>2023-02-15</td>\n",
       "      <td>33</td>\n",
       "      <td>114</td>\n",
       "      <td>[COVID 19, Long COVID]</td>\n",
       "      <td>[Health Systems, Healthcare, Health Technology]</td>\n",
       "      <td>[organ damage, long covid patients, long covid, patients, study, symptoms]</td>\n",
       "      <td>[Organ damage persists in nearly 60% of COVID-19 patients for a year after initial diagnosis: study, Organ damage persists in nearly 60% of long-term COVID-19 patients one year after initial diagnosis: study, Organ damage persists in 59% of long Covid patients a year after diagnosis | Health]</td>\n",
       "    </tr>\n",
       "  </tbody>\n",
       "</table>\n",
       "</div>"
      ],
      "text/plain": [
       "                                       hash        date  story-count-global  \\\n",
       "0  02e5-8f8b9366-932bc9df-b1aa3367-f6f9b7c7  2023-01-12  196                  \n",
       "1  02c8-d3d8bb2e-0f21c57f-9d4c3e16-fea17fc3  2022-12-14  78                   \n",
       "2  031d-1fda3b3e-072bc96f-954abb27-efa06fc6  2023-03-09  41                   \n",
       "3  0245-0b1afd6a-33b3cd86-91ebaa33-edc1ebd2  2022-08-05  40                   \n",
       "4  032b-dfdae906-033acdcb-95fbad33-c4a0efe2  2023-03-23  40                   \n",
       "5  02f1-9b9fb90e-133b442d-95caae33-aab16fe1  2023-01-24  39                   \n",
       "6  02e4-0b8a93ee-832bcddf-91aa0bf7-e0d9bbc5  2023-01-11  37                   \n",
       "7  02e8-0d9bb3ee-972be9df-99aa3067-b4f9f7c4  2023-01-15  36                   \n",
       "8  01cb-154b9f06-0f2be9cd-9f4fbf8f-b7b07bf8  2022-04-05  34                   \n",
       "9  0307-5fdbbba6-972b0d9e-9de8be37-ae80fbe1  2023-02-15  33                   \n",
       "\n",
       "   source-count-global  \\\n",
       "0  496                   \n",
       "1  531                   \n",
       "2  211                   \n",
       "3  233                   \n",
       "4  82                    \n",
       "5  315                   \n",
       "6  349                   \n",
       "7  100                   \n",
       "8  734                   \n",
       "9  114                   \n",
       "\n",
       "                                                             entities  \\\n",
       "0  [Long COVID, COVID 19]                                               \n",
       "1  [COVID 19, Long COVID, Centers for Disease Control and Prevention]   \n",
       "2  [COVID 19, Long COVID]                                               \n",
       "3  [COVID 19, Long COVID]                                               \n",
       "4  [COVID 19, Long COVID]                                               \n",
       "5  [Long COVID, COVID 19]                                               \n",
       "6  [COVID 19, Long COVID]                                               \n",
       "7  [COVID 19, Long COVID]                                               \n",
       "8  [COVID 19, Long COVID, Joe Biden]                                    \n",
       "9  [COVID 19, Long COVID]                                               \n",
       "\n",
       "                                                                 topics  \\\n",
       "0  [Health Technology, Health Systems, R&D (Kelp) [Kelp Exclusive]]       \n",
       "1  [Healthcare Crisis, Health Systems, Public safety]                     \n",
       "2  [Health Technology, Thought leadership [Kelp Exclusive], Healthcare]   \n",
       "3  [Medical Research, Health Systems, R&D (Kelp) [Kelp Exclusive]]        \n",
       "4  [Risk Management, Health Technology, Medical Research]                 \n",
       "5  [Labour Market, Employee Remuneration, Health Technology]              \n",
       "6  [R&D (Kelp) [Kelp Exclusive], Health Systems, Health Technology]       \n",
       "7  [Health Technology, Health Systems, Healthcare]                        \n",
       "8  [Healthcare, Health Technology, Regulation]                            \n",
       "9  [Health Systems, Healthcare, Health Technology]                        \n",
       "\n",
       "                                                                                                             labels  \\\n",
       "0  [mild, long covid, symptoms, long covid symptoms, infection, study, year]                                          \n",
       "1  [long covid, cdc, deaths, 500]                                                                                     \n",
       "2  [long covid, covid 19, symptoms]                                                                                   \n",
       "3  [long covid, symptoms, study, infected, coronavirus]                                                               \n",
       "4  [long covid, risk]                                                                                                 \n",
       "5  [long covid, new york state insurance fund, analysis of workers compensation claims, work, workers compensation]   \n",
       "6  [long covid, mild, symptoms, infection, study]                                                                     \n",
       "7  [long covid, symptoms, mild, study, infection, year, resolve, term]                                                \n",
       "8  [long covid, biden administration, health and human services, biden, treat]                                        \n",
       "9  [organ damage, long covid patients, long covid, patients, study, symptoms]                                         \n",
       "\n",
       "                                                                                                                                                                                                                                                                                               headlines  \n",
       "0  [Study found that symptoms of long COVID disappear within a year, in mild cases, Long COVID symptoms go away within a year, in mild cases, Majority of long covid symptoms in mild cases may disappear after one year | coronavirus]                                                                   \n",
       "1  [CDC: Long COVID behind more than 3,500 deaths, CDC: Long COVID behind more than 3,500 deaths, Long Covid has contributed to more than 3,500 deaths in the U.S. since start of pandemic, CDC says]                                                                                                     \n",
       "2  [Report says long COVID could impact economy, be 'mass disabling event', Report says long COVID could impact economy and be 'mass disabling event' in Canada, Report says long COVID could impact economy and be 'mass disabling event' in Canada]                                                     \n",
       "3  [1 in 8 patients develop long Covid symptoms: Lancet, One in eight COVID patients likely to develop long COVID: Large study, 1 In 8 COVID Patients Likely to Develop Long COVID]                                                                                                                       \n",
       "4  [“Shield” in Long Covid o vaccination - The results of new research, Vaccination Halves Risk of Long COVID, Largest Study to Date Shows, Long Covid Risk Factors Are Tied to Gender, Age and Weight]                                                                                                   \n",
       "5  [Long COVID Sidelined Many American Workers, Long COVID Sidelined Many American Workers, Long COVID Sidelined Many American Workers]                                                                                                                                                                   \n",
       "6  [Long Covid could disappear after a year in case of mild illness, according to a study, Most long covid effects resolve within a year after a mild infection, Most long COVID cases clear up within a year following mild infections, study reveals]                                                   \n",
       "7  [Most long-term COVID symptoms disappear in a year for mild cases: study, Long COVID: Most symptoms resolve within a year after mild infection, study finds - National | Globalnews.ca, Long COVID: Most symptoms resolve within a year after mild infection, study finds]                             \n",
       "8  [Biden administration taking new steps to prevent, detect and treat long Covid, Biden administration launches national research plan to understand and treat long Covid, Biden announces additional steps to treat, research long covid]                                                               \n",
       "9  [Organ damage persists in nearly 60% of COVID-19 patients for a year after initial diagnosis: study, Organ damage persists in nearly 60% of long-term COVID-19 patients one year after initial diagnosis: study, Organ damage persists in 59% of long Covid patients a year after diagnosis | Health]  "
      ]
     },
     "execution_count": 10,
     "metadata": {},
     "output_type": "execute_result"
    }
   ],
   "source": [
    "events_df = pd.DataFrame([\n",
    "    {\n",
    "        'hash': event['hash'],\n",
    "        'date': event['date'],\n",
    "        'story-count-global': event['story-count-global'],\n",
    "        'source-count-global': event['source-count-global'],\n",
    "        'entities': [entity['name'] for entity in event['entities']],\n",
    "        'topics': [topic['name'] for topic in event['topics']][:3], # just use the first 3 topics \n",
    "        'labels': event['labels'],\n",
    "        'headlines': [doc['title'] for doc in event['documents']],\n",
    "    }\n",
    "    for event in events\n",
    "])\n",
    "events_df"
   ]
  },
  {
   "cell_type": "markdown",
   "id": "3b801ba1",
   "metadata": {},
   "source": [
    "## Search event by hash"
   ]
  },
  {
   "cell_type": "code",
   "execution_count": 15,
   "id": "b97ab04d",
   "metadata": {},
   "outputs": [
    {
     "name": "stderr",
     "output_type": "stream",
     "text": [
      "\n",
      "\n",
      "  0%|                                                                                                                                                                                                          | 0/10 [00:00<?, ?it/s]\u001b[A\u001b[A\n",
      "\n",
      " 10%|███████████████████▍                                                                                                                                                                              | 1/10 [00:00<00:01,  6.15it/s]\u001b[A\u001b[A\n",
      "\n",
      " 20%|██████████████████████████████████████▊                                                                                                                                                           | 2/10 [00:00<00:01,  6.33it/s]\u001b[A\u001b[A\n",
      "\n",
      " 30%|██████████████████████████████████████████████████████████▏                                                                                                                                       | 3/10 [00:00<00:01,  6.36it/s]\u001b[A\u001b[A\n",
      "\n",
      " 40%|█████████████████████████████████████████████████████████████████████████████▌                                                                                                                    | 4/10 [00:00<00:00,  6.42it/s]\u001b[A\u001b[A\n",
      "\n",
      " 50%|█████████████████████████████████████████████████████████████████████████████████████████████████                                                                                                 | 5/10 [00:00<00:00,  6.46it/s]\u001b[A\u001b[A\n",
      "\n",
      " 60%|████████████████████████████████████████████████████████████████████████████████████████████████████████████████████▍                                                                             | 6/10 [00:01<00:01,  3.83it/s]\u001b[A\u001b[A\n",
      "\n",
      " 70%|███████████████████████████████████████████████████████████████████████████████████████████████████████████████████████████████████████▊                                                          | 7/10 [00:01<00:00,  4.12it/s]\u001b[A\u001b[A\n",
      "\n",
      " 80%|███████████████████████████████████████████████████████████████████████████████████████████████████████████████████████████████████████████████████████████▏                                      | 8/10 [00:01<00:00,  4.80it/s]\u001b[A\u001b[A\n",
      "\n",
      " 90%|██████████████████████████████████████████████████████████████████████████████████████████████████████████████████████████████████████████████████████████████████████████████▌                   | 9/10 [00:01<00:00,  4.63it/s]\u001b[A\u001b[A\n",
      "\n",
      "100%|█████████████████████████████████████████████████████████████████████████████████████████████████████████████████████████████████████████████████████████████████████████████████████████████████| 10/10 [00:02<00:00,  4.94it/s]\u001b[A\u001b[A\n"
     ]
    },
    {
     "data": {
      "text/plain": [
       "['Advertiser (Australia)',\n",
       " 'Yahoo News UK',\n",
       " 'Headlines Today',\n",
       " 'Isle of Wight Radio',\n",
       " 'Head Topics',\n",
       " 'Yahoo! Noticias',\n",
       " 'T13.cl',\n",
       " 'Radio Essex',\n",
       " 'Knowledia News (IL)',\n",
       " 'The Windsor Star']"
      ]
     },
     "execution_count": 15,
     "metadata": {},
     "output_type": "execute_result"
    }
   ],
   "source": [
    "# You can retrieve an event by hash to get additional metadata about the event such as source ids \n",
    "# and additional story ids\n",
    "\n",
    "event_hash = events_df.iloc[0]['hash']\n",
    "event = signal_api.get_event(event_hash)\n",
    "\n",
    "# show the first 10 sources that mentioned this event\n",
    "\n",
    "[signal_api.get_source(source_id)['source']['name'] for source_id in tqdm(event['source-ids'][:10])]"
   ]
  }
 ],
 "metadata": {
  "interpreter": {
   "hash": "36718a772afb02bfcd0b05eef0d641599da4c64bcc9effab0ed26d9d51416d4d"
  },
  "kernelspec": {
   "display_name": "Python 3",
   "language": "python",
   "name": "python3"
  },
  "language_info": {
   "codemirror_mode": {
    "name": "ipython",
    "version": 3
   },
   "file_extension": ".py",
   "mimetype": "text/x-python",
   "name": "python",
   "nbconvert_exporter": "python",
   "pygments_lexer": "ipython3",
   "version": "3.10.5"
  }
 },
 "nbformat": 4,
 "nbformat_minor": 5
}
