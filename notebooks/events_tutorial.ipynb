{
 "cells": [
  {
   "cell_type": "markdown",
   "id": "2184aa48-59f8-4eaf-af17-f7096c994c23",
   "metadata": {},
   "source": [
    "# Events Example"
   ]
  },
  {
   "cell_type": "code",
   "execution_count": 1,
   "id": "c9ea4db0-e7e0-48d9-a6d5-e118109f5aa4",
   "metadata": {},
   "outputs": [],
   "source": [
    "import signal_api.signalAPI as signalAPI\n",
    "import pandas as pd\n",
    "from itertools import groupby, islice\n",
    "import os\n",
    "from tqdm import tqdm\n",
    "from textwrap import wrap\n",
    "\n",
    "pd.set_option('display.max_colwidth', 0)\n",
    "pd.options.display.html.use_mathjax = False"
   ]
  },
  {
   "cell_type": "markdown",
   "id": "5ba60f10-f7bc-403c-8a7b-c943ad834e87",
   "metadata": {},
   "source": [
    "## Connect to the API"
   ]
  },
  {
   "cell_type": "code",
   "execution_count": 2,
   "id": "73c99821-1528-486d-90e0-c78dce022838",
   "metadata": {},
   "outputs": [],
   "source": [
    "client_id = os.environ['SIGNAL_API_ID']\n",
    "client_secret = os.environ['SIGNAL_API_SECRET']\n",
    "signal_api = signalAPI.Connection(client_id=client_id, client_secret=client_secret)"
   ]
  },
  {
   "cell_type": "markdown",
   "id": "c1d3f0be-d7ae-46c8-a131-5e7e889912fa",
   "metadata": {},
   "source": [
    "## Search For Entity And Topic IDs "
   ]
  },
  {
   "cell_type": "code",
   "execution_count": 3,
   "id": "375107ad-9af3-4aa2-b632-44f260c7b3fe",
   "metadata": {},
   "outputs": [
    {
     "data": {
      "text/plain": [
       "[{'id': '1021d2f6-e57a-308c-b232-d6c6f2c2588e',\n",
       "  'type': 'disease',\n",
       "  'name': 'Long COVID'}]"
      ]
     },
     "execution_count": 3,
     "metadata": {},
     "output_type": "execute_result"
    }
   ],
   "source": [
    "list(signal_api.entities({'name': 'Long COVID'}))"
   ]
  },
  {
   "cell_type": "code",
   "execution_count": 4,
   "id": "65749760-4005-416c-9cd9-7827a9ee5a19",
   "metadata": {},
   "outputs": [
    {
     "data": {
      "text/plain": [
       "[{'id': 'ec838d2b-49db-457a-b42f-2889fb86b2eb',\n",
       "  'name': 'Healthcare',\n",
       "  'description': 'The topic \"healthcare\" includes all coverage related to the healthcare industry. Keywords include Healthcare, treatment of disease, preventive healthcare, healthcare issues, health insurance, health benefits & coverage, health reforms, publicly funded national healthcare system,  healthcare crisis, mental health care, healthcare quality improvement, healthcare cost containment, healthcare right or privilege, healthcare patient safety, healthcare Infection control practices, pervasive healthcare, health care challenges, healthcare cost, healthcare-associated infections.',\n",
       "  'private': False},\n",
       " {'id': '0d6c8ffc-d2fd-47bc-b304-fff55e76cd19',\n",
       "  'name': 'Healthcare Crisis',\n",
       "  'description': 'A health crisis or public health crisis is a difficult situation or complex health system that affects humans in one or more geographic areas (mainly occurred in natural hazards), from a particular locality to encompass the entire planet. Health crises generally have significant impacts on community health, loss of life, and the economy. They may result from disease, industrial processes or poor policy. This topic addresses three key features in health crises: public health problem, problem health coordination and alarm care: poor communication of risks to the population resulting in social upheaval. This topic also addresses three types of health crises: environmental, food and toxic. This topic also covers prevention and control of healthcare crisis including using the health warning system, transparency of the institutions public or private, adequate information policy, evaluating the previous crisis or other experiences, having objective and preparing contingency plans.\\nRelevant keywords include but are not limited to the following: health crisis, human, community health, loss of life, economy, public health problem, problem health coordination, environmental crisis, food crisis, toxic crisis, preventions, control, global, the entire planet.',\n",
       "  'private': False},\n",
       " {'id': 'c3f7b9d6-9420-46fb-abb2-490382212189',\n",
       "  'name': 'Transformation of Healthcare',\n",
       "  'description': 'Transformation of healthcare is the topic that covers content related to changing healthcare due to advanced technology and the pace of digital transformation in healthcare. This topic covers the impact of digital transformation and trends in healthcare. This topic also covers the challenges and actions that healthcare companies would take. Relevant keywords include but are not limited to the following: the democratization of healthcare, standardization of healthcare, reduce variation in care, best practices in healthcare or medicine, clinician of the future, future of medicine, future of the clinical practice.',\n",
       "  'private': False}]"
      ]
     },
     "execution_count": 4,
     "metadata": {},
     "output_type": "execute_result"
    }
   ],
   "source": [
    "list(signal_api.topics({'name': 'Healthcare'}))"
   ]
  },
  {
   "cell_type": "markdown",
   "id": "b36c5d32",
   "metadata": {},
   "source": [
    "## Search events with the following filters (Entities, Topics, Labels and Sources)"
   ]
  },
  {
   "cell_type": "code",
   "execution_count": 5,
   "id": "bced3689-4a30-4dc4-8491-a8394d1956bf",
   "metadata": {},
   "outputs": [],
   "source": [
    "entities = {\n",
    "    'Long Covid': '1021d2f6-e57a-308c-b232-d6c6f2c2588e',\n",
    "}\n",
    "\n",
    "# uncomment line below to use all signal entities\n",
    "# entities = {}\n",
    "\n",
    "topics = {\n",
    "    'Healthcare': 'ec838d2b-49db-457a-b42f-2889fb86b2eb',\n",
    "    'Healthcare Crisis': '0d6c8ffc-d2fd-47bc-b304-fff55e76cd19',\n",
    "    'Transformation of Healthcare': 'c3f7b9d6-9420-46fb-abb2-490382212189'\n",
    "}\n",
    "\n",
    "# uncomment line below to use all signal topics\n",
    "# topics = {} \n",
    "\n",
    "# uncomment to search events for specific labels\n",
    "# A label can contain a maximum of 6 words\n",
    "labels = {\n",
    "    #'analysis of workers compensation claims'\n",
    "}\n",
    "\n",
    "# uncomment to search for events mentioned by specific sources\n",
    "sources = {\n",
    "#     'Yahoo News UK': '008a1423-3f16-4de1-8b7e-b0ee2b793655',\n",
    "#     'Washington Post': '38663047-4bae-42e8-9474-bd6201f1f492'\n",
    "}"
   ]
  },
  {
   "cell_type": "markdown",
   "id": "845fd326",
   "metadata": {},
   "source": [
    "## Use the last year as a date range"
   ]
  },
  {
   "cell_type": "code",
   "execution_count": 6,
   "id": "c296938e-3633-40ef-bab8-19ab3f0a2e3e",
   "metadata": {},
   "outputs": [
    {
     "data": {
      "text/plain": [
       "(Period('2022-04-05', 'D'), Period('2023-04-05', 'D'))"
      ]
     },
     "execution_count": 6,
     "metadata": {},
     "output_type": "execute_result"
    }
   ],
   "source": [
    "end_date = pd.to_datetime('today').to_period('D') - 1\n",
    "start_date = end_date - 365\n",
    "start_date, end_date"
   ]
  },
  {
   "cell_type": "markdown",
   "id": "228096df",
   "metadata": {},
   "source": [
    "### Query the Events API"
   ]
  },
  {
   "cell_type": "code",
   "execution_count": 7,
   "id": "e27fbcdb-e7d0-4e07-a535-98b00747ffa8",
   "metadata": {},
   "outputs": [],
   "source": [
    "query = {\n",
    "      \"where\": {\n",
    "          \"date\": {\n",
    "              \"gte\": str(start_date),\n",
    "              \"lte\": str(end_date)\n",
    "      },\n",
    "    },\n",
    "    \"size\": 1000\n",
    "}\n",
    "\n",
    "if entities:\n",
    "  query['where'][\"entities\"] = {\n",
    "    \"id\": {\n",
    "        # include events about any of the entities\n",
    "        \"any\": list(entities.values())\n",
    "\n",
    "        # note you can seach for events about all of the entities too\n",
    "        # \"all\": list(entities.values())\n",
    "    }\n",
    "  }\n",
    "\n",
    "if topics: \n",
    "  query['where'][\"topics\"] = {\n",
    "    \"id\": {\n",
    "        # include events about any of the topics\n",
    "        \"any\": list(topics.values())\n",
    "\n",
    "        # note you can seach for events about all of the topics too\n",
    "        # \"all\": list(topics.values())\n",
    "    }\n",
    "  }\n",
    "\n",
    "if labels:\n",
    "  query['where'][\"labels\"] = {\n",
    "    # include events about any of the labels\n",
    "    \"any\": list(labels)\n",
    "\n",
    "    # note you can seach for events about all of the labels too\n",
    "    # \"all\": list(labels.values())\n",
    "    \n",
    "  }\n",
    "\n",
    "if sources: \n",
    "  query['where'][\"sources\"] = {\n",
    "    \"id\": {\n",
    "        # include events about any of the sources\n",
    "        \"any\": list(sources.values())\n",
    "\n",
    "        # note you can seach for events about all of the sources too\n",
    "        # \"all\": list(sources.values())\n",
    "    }\n",
    "  }\n",
    "\n",
    "\n",
    "response = signal_api.events(query)\n",
    "# remove results that come from a small number of sources\n",
    "response = (event for event in response if event['source-count-global'] >= (event['story-count-global'] / 5))\n",
    "# take the first 10 events\n",
    "events = list(response)[:10]"
   ]
  },
  {
   "cell_type": "markdown",
   "id": "e0057ab8",
   "metadata": {},
   "source": [
    "## Define function for searching documents by story id"
   ]
  },
  {
   "cell_type": "code",
   "execution_count": 8,
   "id": "761e3beb",
   "metadata": {},
   "outputs": [],
   "source": [
    "def search_by_story_id(story_ids: list, entity_ids: list, topic_ids: list, source_ids: list = None,  n=3):\n",
    "    \"\"\"\n",
    "    return one document for each story-id in \"story_ids\" \n",
    "    return the results in the same order as story_ids\n",
    "    \"\"\"\n",
    "    # record the ordering of the story_ids\n",
    "    rank = {story_id: rnk for rnk, story_id in enumerate(story_ids)}\n",
    "\n",
    "    # query the seach endpoint\n",
    "    params = {\n",
    "        'where': {\n",
    "            'story-id': {\n",
    "                'any': list(story_ids)\n",
    "            },\n",
    "        },\n",
    "        'size': 500\n",
    "    }\n",
    "\n",
    "    if entity_ids:\n",
    "        params['where']['entities'] = {\n",
    "            'id': {'any': entity_ids},\n",
    "            'salient-only': True\n",
    "        }\n",
    "        \n",
    "    if topic_ids:\n",
    "        params['where']['topics'] = {\n",
    "            'id': {'any': topic_ids}\n",
    "        }\n",
    "    \n",
    "    if source_ids:\n",
    "        params['where']['source'] = {\n",
    "            'id': {'any': source_ids}\n",
    "        }\n",
    "\n",
    "    response = (item['document'] for item in signal_api.search(params))\n",
    "\n",
    "    # put the results in the correct order\n",
    "    ordered = sorted(response, key=lambda document: rank[document['story-id']])\n",
    "\n",
    "    # deduplicate the results\n",
    "    grouped = islice(groupby(ordered, lambda x: x['story-id']), n)\n",
    "    return [next(group) for _, group in grouped]"
   ]
  },
  {
   "cell_type": "markdown",
   "id": "534aedf5",
   "metadata": {},
   "source": [
    "### Get the documents from the Search API"
   ]
  },
  {
   "cell_type": "code",
   "execution_count": 9,
   "id": "233f8b5c",
   "metadata": {},
   "outputs": [
    {
     "name": "stderr",
     "output_type": "stream",
     "text": [
      "100%|█████████████████████████████████████████████████████████████████████████████████████████████████████████████████████████████████████████████████████████████████████████████████████████████████| 10/10 [00:47<00:00,  4.72s/it]\n"
     ]
    }
   ],
   "source": [
    "for event in tqdm(events):\n",
    "    arg = {\n",
    "        'story_ids': event['story-ids'],\n",
    "        'entity_ids': list(entities.values()), \n",
    "        'topic_ids': list(topics.values())\n",
    "    }\n",
    "\n",
    "    if sources:\n",
    "        arg['source_ids'] = list(sources.values())\n",
    "    event['documents'] = search_by_story_id(**arg)\n",
    "    "
   ]
  },
  {
   "cell_type": "markdown",
   "id": "0efd6f3a",
   "metadata": {},
   "source": [
    "### Display the Results"
   ]
  },
  {
   "cell_type": "code",
   "execution_count": 10,
   "id": "46816b42",
   "metadata": {},
   "outputs": [
    {
     "data": {
      "text/html": [
       "<div>\n",
       "<style scoped>\n",
       "    .dataframe tbody tr th:only-of-type {\n",
       "        vertical-align: middle;\n",
       "    }\n",
       "\n",
       "    .dataframe tbody tr th {\n",
       "        vertical-align: top;\n",
       "    }\n",
       "\n",
       "    .dataframe thead th {\n",
       "        text-align: right;\n",
       "    }\n",
       "</style>\n",
       "<table border=\"1\" class=\"dataframe tex2jax_ignore\">\n",
       "  <thead>\n",
       "    <tr style=\"text-align: right;\">\n",
       "      <th></th>\n",
       "      <th>hash</th>\n",
       "      <th>date</th>\n",
       "      <th>story-count-global</th>\n",
       "      <th>source-count-global</th>\n",
       "      <th>entities</th>\n",
       "      <th>topics</th>\n",
       "      <th>labels</th>\n",
       "      <th>headlines</th>\n",
       "    </tr>\n",
       "  </thead>\n",
       "  <tbody>\n",
       "    <tr>\n",
       "      <th>0</th>\n",
       "      <td>02e5-8f8b9366-932bc9df-b1aa3367-f6f9b7c7</td>\n",
       "      <td>2023-01-12</td>\n",
       "      <td>192</td>\n",
       "      <td>479</td>\n",
       "      <td>[COVID 19, Long COVID]</td>\n",
       "      <td>[Health Technology, Health Systems, Healthcare]</td>\n",
       "      <td>[mild, long covid, symptoms, long covid symptoms, infection, year, study]</td>\n",
       "      <td>[Study found that symptoms of long COVID disappear within a year, in mild cases, Long COVID symptoms go away within a year, in mild cases, Majority of long covid symptoms in mild cases may disappear after one year | coronavirus]</td>\n",
       "    </tr>\n",
       "    <tr>\n",
       "      <th>1</th>\n",
       "      <td>023b-1b1bd948-b7b7c757-99ef6a79-e4c1f6a3</td>\n",
       "      <td>2022-07-26</td>\n",
       "      <td>189</td>\n",
       "      <td>420</td>\n",
       "      <td>[COVID 19, Long COVID]</td>\n",
       "      <td>[Health Technology, Health Systems, Medical Research]</td>\n",
       "      <td>[long covid, symptoms, hair loss, dysfunction]</td>\n",
       "      <td>[News Hair Loss and Low Sex Drive Added to List of Long Covid Symptoms Research from the University of Birmingham has revealed that symptoms of long COVID are broader than expected and include hair loss and sexual dysfunction., Hair loss and sexual dysfunction are new long COVID symptoms, Hair loss, low sex drive among long Covid symptoms: Study]</td>\n",
       "    </tr>\n",
       "    <tr>\n",
       "      <th>2</th>\n",
       "      <td>02c8-53c99b2e-8f21c57f-9d403e16-fea17fc3</td>\n",
       "      <td>2022-12-14</td>\n",
       "      <td>173</td>\n",
       "      <td>815</td>\n",
       "      <td>[COVID 19, Long COVID, Centers for Disease Control and Prevention]</td>\n",
       "      <td>[Healthcare Crisis, Health Systems, Health Technology]</td>\n",
       "      <td>[long covid, deaths, cdc, 500, centers for disease control and prevention]</td>\n",
       "      <td>[CDC: Long COVID behind more than 3,500 deaths, CDC: Long COVID behind more than 3,500 deaths, CDC: Long COVID behind more than 3,500 deaths]</td>\n",
       "    </tr>\n",
       "    <tr>\n",
       "      <th>3</th>\n",
       "      <td>023a-1b1bd148-97b36756-99ef6e65-e6e1f7cb</td>\n",
       "      <td>2022-07-25</td>\n",
       "      <td>103</td>\n",
       "      <td>604</td>\n",
       "      <td>[COVID 19, Long COVID]</td>\n",
       "      <td>[Health Technology, Health Systems, Healthcare]</td>\n",
       "      <td>[hair loss, symptoms, long covid symptoms, long covid, study]</td>\n",
       "      <td>[Hair and libido loss join fatigue and brain fog among wider list of Long COVID symptoms, Hair loss and decreased sex drive on broader list of long Covid symptoms - study, Hair and libido loss join fatigue and brain fog among wider list of Long Covid symptoms]</td>\n",
       "    </tr>\n",
       "    <tr>\n",
       "      <th>4</th>\n",
       "      <td>026c-9bcaf816-133dc9ee-9856e927-b5f0f7d6</td>\n",
       "      <td>2022-09-13</td>\n",
       "      <td>98</td>\n",
       "      <td>603</td>\n",
       "      <td>[COVID 19, Long COVID, Europe]</td>\n",
       "      <td>[Health Technology, Health Systems, Healthcare]</td>\n",
       "      <td>[long covid, 17 million people in europe, symptoms, years of the pandemic, 17 million, world health organization]</td>\n",
       "      <td>[17 million people in Europe got long Covid in the first two years of the pandemic, WHO: 17 million Europeans have long covid symptoms, WHO says 17 million people in Europe have long Covid symptoms]</td>\n",
       "    </tr>\n",
       "    <tr>\n",
       "      <th>5</th>\n",
       "      <td>0323-5fcffbaa-1733c957-916abbbb-ada17fc7</td>\n",
       "      <td>2023-03-15</td>\n",
       "      <td>67</td>\n",
       "      <td>348</td>\n",
       "      <td>[Long COVID, COVID 19]</td>\n",
       "      <td>[Health Technology, Healthcare, Health Systems]</td>\n",
       "      <td>[long covid]</td>\n",
       "      <td>[Legislation would improve research and boost access to resources and education regarding the condition, Wednesday March 15, 2023 Markey, Kaine, Duckworth Reintroduce Bill to Help Millions of Americans Living With Long COVID, Legislation would improve research and boost access to resources and education regarding the condition]</td>\n",
       "    </tr>\n",
       "    <tr>\n",
       "      <th>6</th>\n",
       "      <td>022e-1203195a-8237d8f7-106faea1-be80baae</td>\n",
       "      <td>2022-07-13</td>\n",
       "      <td>57</td>\n",
       "      <td>92</td>\n",
       "      <td>[COVID 19, Long COVID]</td>\n",
       "      <td>[Health Technology, Drug Trials , Healthcare]</td>\n",
       "      <td>[long covid, blood washing, unproven, patients, private clinics, abroad, germany and switzerland, blood, treatment]</td>\n",
       "      <td>[Long covid patients are seeking experimental “blood washing” treatment abroad, Long Covid patients 'travelling abroad for experimental blood-washing treatment', Long Covid sufferers resorting to buying 'costly unproven blood treatment abroad']</td>\n",
       "    </tr>\n",
       "    <tr>\n",
       "      <th>7</th>\n",
       "      <td>022d-5307384a-9337c8bf-9d69ae25-ae90ffaf</td>\n",
       "      <td>2022-07-12</td>\n",
       "      <td>45</td>\n",
       "      <td>107</td>\n",
       "      <td>[Long COVID, COVID 19]</td>\n",
       "      <td>[Health Technology, Drug Trials , Healthcare]</td>\n",
       "      <td>[long covid, blood, patients, unproven, treatments, washing, long covid symptoms]</td>\n",
       "      <td>[Long Covid Patients Are Seeking Experimental \"Blood Washing\" Treatment Abroad, Investigation Finds, Long COVID patients are seeking experimental 'blood washing' treatment abroad, investigation finds, Long-term COVID patients seek  “blood lavage” treatment abroad.]</td>\n",
       "    </tr>\n",
       "    <tr>\n",
       "      <th>8</th>\n",
       "      <td>0267-575bb92a-b72f4ddf-9d6abe27-eca42bc1</td>\n",
       "      <td>2022-09-08</td>\n",
       "      <td>43</td>\n",
       "      <td>347</td>\n",
       "      <td>[Long COVID, COVID 19]</td>\n",
       "      <td>[Mental Health, Health Technology, Medical Research]</td>\n",
       "      <td>[long covid, stress, psychological distress, depression anxiety, harvard chan school, infection, study, covid, risk, loneliness, researchers]</td>\n",
       "      <td>[Psychological distress increases long COVID-19 risk: Harvard study, Stress Before COVID Infection Could Raise Odds for Long COVID, Stress Before COVID Infection Could Raise Odds for Long COVID]</td>\n",
       "    </tr>\n",
       "    <tr>\n",
       "      <th>9</th>\n",
       "      <td>0275-5b42d302-862be1b7-9dad330f-cec8efd3</td>\n",
       "      <td>2022-09-22</td>\n",
       "      <td>42</td>\n",
       "      <td>262</td>\n",
       "      <td>[COVID 19, Long COVID]</td>\n",
       "      <td>[Health Technology, Immunology, Medical Research]</td>\n",
       "      <td>[long covid, canadian study, signs of autoimmune, long covid patients, autoimmune diseases, autoimmune disease, lupus, antibodies]</td>\n",
       "      <td>[Canadian study builds on link between long COVID and autoimmune diseases, Canadian study builds on link between long COVID and autoimmune diseases like lupus, Canadian study builds on link between long COVID and autoimmune diseases like lupus]</td>\n",
       "    </tr>\n",
       "  </tbody>\n",
       "</table>\n",
       "</div>"
      ],
      "text/plain": [
       "                                       hash        date  story-count-global  \\\n",
       "0  02e5-8f8b9366-932bc9df-b1aa3367-f6f9b7c7  2023-01-12  192                  \n",
       "1  023b-1b1bd948-b7b7c757-99ef6a79-e4c1f6a3  2022-07-26  189                  \n",
       "2  02c8-53c99b2e-8f21c57f-9d403e16-fea17fc3  2022-12-14  173                  \n",
       "3  023a-1b1bd148-97b36756-99ef6e65-e6e1f7cb  2022-07-25  103                  \n",
       "4  026c-9bcaf816-133dc9ee-9856e927-b5f0f7d6  2022-09-13  98                   \n",
       "5  0323-5fcffbaa-1733c957-916abbbb-ada17fc7  2023-03-15  67                   \n",
       "6  022e-1203195a-8237d8f7-106faea1-be80baae  2022-07-13  57                   \n",
       "7  022d-5307384a-9337c8bf-9d69ae25-ae90ffaf  2022-07-12  45                   \n",
       "8  0267-575bb92a-b72f4ddf-9d6abe27-eca42bc1  2022-09-08  43                   \n",
       "9  0275-5b42d302-862be1b7-9dad330f-cec8efd3  2022-09-22  42                   \n",
       "\n",
       "   source-count-global  \\\n",
       "0  479                   \n",
       "1  420                   \n",
       "2  815                   \n",
       "3  604                   \n",
       "4  603                   \n",
       "5  348                   \n",
       "6  92                    \n",
       "7  107                   \n",
       "8  347                   \n",
       "9  262                   \n",
       "\n",
       "                                                             entities  \\\n",
       "0  [COVID 19, Long COVID]                                               \n",
       "1  [COVID 19, Long COVID]                                               \n",
       "2  [COVID 19, Long COVID, Centers for Disease Control and Prevention]   \n",
       "3  [COVID 19, Long COVID]                                               \n",
       "4  [COVID 19, Long COVID, Europe]                                       \n",
       "5  [Long COVID, COVID 19]                                               \n",
       "6  [COVID 19, Long COVID]                                               \n",
       "7  [Long COVID, COVID 19]                                               \n",
       "8  [Long COVID, COVID 19]                                               \n",
       "9  [COVID 19, Long COVID]                                               \n",
       "\n",
       "                                                   topics  \\\n",
       "0  [Health Technology, Health Systems, Healthcare]          \n",
       "1  [Health Technology, Health Systems, Medical Research]    \n",
       "2  [Healthcare Crisis, Health Systems, Health Technology]   \n",
       "3  [Health Technology, Health Systems, Healthcare]          \n",
       "4  [Health Technology, Health Systems, Healthcare]          \n",
       "5  [Health Technology, Healthcare, Health Systems]          \n",
       "6  [Health Technology, Drug Trials , Healthcare]            \n",
       "7  [Health Technology, Drug Trials , Healthcare]            \n",
       "8  [Mental Health, Health Technology, Medical Research]     \n",
       "9  [Health Technology, Immunology, Medical Research]        \n",
       "\n",
       "                                                                                                                                          labels  \\\n",
       "0  [mild, long covid, symptoms, long covid symptoms, infection, year, study]                                                                       \n",
       "1  [long covid, symptoms, hair loss, dysfunction]                                                                                                  \n",
       "2  [long covid, deaths, cdc, 500, centers for disease control and prevention]                                                                      \n",
       "3  [hair loss, symptoms, long covid symptoms, long covid, study]                                                                                   \n",
       "4  [long covid, 17 million people in europe, symptoms, years of the pandemic, 17 million, world health organization]                               \n",
       "5  [long covid]                                                                                                                                    \n",
       "6  [long covid, blood washing, unproven, patients, private clinics, abroad, germany and switzerland, blood, treatment]                             \n",
       "7  [long covid, blood, patients, unproven, treatments, washing, long covid symptoms]                                                               \n",
       "8  [long covid, stress, psychological distress, depression anxiety, harvard chan school, infection, study, covid, risk, loneliness, researchers]   \n",
       "9  [long covid, canadian study, signs of autoimmune, long covid patients, autoimmune diseases, autoimmune disease, lupus, antibodies]              \n",
       "\n",
       "                                                                                                                                                                                                                                                                                                                                                      headlines  \n",
       "0  [Study found that symptoms of long COVID disappear within a year, in mild cases, Long COVID symptoms go away within a year, in mild cases, Majority of long covid symptoms in mild cases may disappear after one year | coronavirus]                                                                                                                          \n",
       "1  [News Hair Loss and Low Sex Drive Added to List of Long Covid Symptoms Research from the University of Birmingham has revealed that symptoms of long COVID are broader than expected and include hair loss and sexual dysfunction., Hair loss and sexual dysfunction are new long COVID symptoms, Hair loss, low sex drive among long Covid symptoms: Study]  \n",
       "2  [CDC: Long COVID behind more than 3,500 deaths, CDC: Long COVID behind more than 3,500 deaths, CDC: Long COVID behind more than 3,500 deaths]                                                                                                                                                                                                                 \n",
       "3  [Hair and libido loss join fatigue and brain fog among wider list of Long COVID symptoms, Hair loss and decreased sex drive on broader list of long Covid symptoms - study, Hair and libido loss join fatigue and brain fog among wider list of Long Covid symptoms]                                                                                          \n",
       "4  [17 million people in Europe got long Covid in the first two years of the pandemic, WHO: 17 million Europeans have long covid symptoms, WHO says 17 million people in Europe have long Covid symptoms]                                                                                                                                                        \n",
       "5  [Legislation would improve research and boost access to resources and education regarding the condition, Wednesday March 15, 2023 Markey, Kaine, Duckworth Reintroduce Bill to Help Millions of Americans Living With Long COVID, Legislation would improve research and boost access to resources and education regarding the condition]                     \n",
       "6  [Long covid patients are seeking experimental “blood washing” treatment abroad, Long Covid patients 'travelling abroad for experimental blood-washing treatment', Long Covid sufferers resorting to buying 'costly unproven blood treatment abroad']                                                                                                          \n",
       "7  [Long Covid Patients Are Seeking Experimental \"Blood Washing\" Treatment Abroad, Investigation Finds, Long COVID patients are seeking experimental 'blood washing' treatment abroad, investigation finds, Long-term COVID patients seek  “blood lavage” treatment abroad.]                                                                                     \n",
       "8  [Psychological distress increases long COVID-19 risk: Harvard study, Stress Before COVID Infection Could Raise Odds for Long COVID, Stress Before COVID Infection Could Raise Odds for Long COVID]                                                                                                                                                            \n",
       "9  [Canadian study builds on link between long COVID and autoimmune diseases, Canadian study builds on link between long COVID and autoimmune diseases like lupus, Canadian study builds on link between long COVID and autoimmune diseases like lupus]                                                                                                          "
      ]
     },
     "execution_count": 10,
     "metadata": {},
     "output_type": "execute_result"
    }
   ],
   "source": [
    "events_df = pd.DataFrame([\n",
    "    {\n",
    "        'hash': event['hash'],\n",
    "        'date': event['date'],\n",
    "        'story-count-global': event['story-count-global'],\n",
    "        'source-count-global': event['source-count-global'],\n",
    "        'entities': [entity['name'] for entity in event['entities']],\n",
    "        'topics': [topic['name'] for topic in event['topics']][:3], # just use the first 3 topics \n",
    "        'labels': event['labels'],\n",
    "        'headlines': [doc['title'] for doc in event['documents']],\n",
    "    }\n",
    "    for event in events\n",
    "])\n",
    "events_df"
   ]
  },
  {
   "cell_type": "markdown",
   "id": "3b801ba1",
   "metadata": {},
   "source": [
    "## Search event by hash"
   ]
  },
  {
   "cell_type": "code",
   "execution_count": 11,
   "id": "b97ab04d",
   "metadata": {},
   "outputs": [
    {
     "name": "stderr",
     "output_type": "stream",
     "text": [
      "100%|█████████████████████████████████████████████████████████████████████████████████████████████████████████████████████████████████████████████████████████████████████████████████████████████████| 10/10 [00:02<00:00,  4.66it/s]\n"
     ]
    },
    {
     "data": {
      "text/plain": [
       "['Advertiser (Australia)',\n",
       " 'Yahoo News UK',\n",
       " 'Headlines Today',\n",
       " 'Isle of Wight Radio',\n",
       " 'Head Topics',\n",
       " 'Yahoo! Noticias',\n",
       " 'T13.cl',\n",
       " 'Radio Essex',\n",
       " 'Knowledia News (IL)',\n",
       " 'The Windsor Star']"
      ]
     },
     "execution_count": 11,
     "metadata": {},
     "output_type": "execute_result"
    }
   ],
   "source": [
    "# You can retrieve an event by hash to get additional metadata about the event such as source ids \n",
    "# and additional story ids\n",
    "\n",
    "event_hash = events_df.iloc[0]['hash']\n",
    "event = signal_api.get_event(event_hash)\n",
    "\n",
    "# show the first 10 sources that mentioned this event\n",
    "\n",
    "[signal_api.get_source(source_id)['source']['name'] for source_id in tqdm(event['source-ids'][:10])]"
   ]
  }
 ],
 "metadata": {
  "interpreter": {
   "hash": "36718a772afb02bfcd0b05eef0d641599da4c64bcc9effab0ed26d9d51416d4d"
  },
  "kernelspec": {
   "display_name": "Python 3",
   "language": "python",
   "name": "python3"
  },
  "language_info": {
   "codemirror_mode": {
    "name": "ipython",
    "version": 3
   },
   "file_extension": ".py",
   "mimetype": "text/x-python",
   "name": "python",
   "nbconvert_exporter": "python",
   "pygments_lexer": "ipython3",
   "version": "3.9.7"
  }
 },
 "nbformat": 4,
 "nbformat_minor": 5
}
